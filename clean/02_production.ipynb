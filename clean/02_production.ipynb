{
  "cells": [
    {
      "cell_type": "code",
      "execution_count": 1,
      "metadata": {
        "id": "aDuWn56TqMv0"
      },
      "outputs": [],
      "source": [
        "#hide\n",
        "! [ -e /content ] && pip install -Uqq fastbook\n",
        "import fastbook\n",
        "fastbook.setup_book()"
      ]
    },
    {
      "cell_type": "code",
      "execution_count": 2,
      "metadata": {
        "id": "32lMjEDlqMv3"
      },
      "outputs": [],
      "source": [
        "#hide\n",
        "from fastbook import *\n",
        "from fastai.vision.widgets import *"
      ]
    },
    {
      "cell_type": "markdown",
      "metadata": {
        "id": "wGexfhIkqMv_"
      },
      "source": [
        "# clean\n",
        "To download images with Bing Image Search, sign up at [Microsoft Azure](https://azure.microsoft.com/en-us/services/cognitive-services/bing-web-search-api/) for a free account. You will be given a key, which you can copy and enter in a cell as follows (replacing 'XXX' with your key and executing it):"
      ]
    },
    {
      "cell_type": "code",
      "execution_count": 3,
      "metadata": {
        "id": "GxdTLcMCqMwA"
      },
      "outputs": [],
      "source": [
        "# API key from Azure\n",
        "key = os.environ.get('AZURE_SEARCH_KEY', '52f7d106bbb347d2a1cbd4700427da9c')"
      ]
    },
    {
      "cell_type": "code",
      "execution_count": 5,
      "metadata": {
        "id": "QDqMDX5hqMwA",
        "outputId": "2630a8f5-4a2d-4f2a-e468-012aa81386dc",
        "colab": {
          "base_uri": "https://localhost:8080/",
          "height": 100
        }
      },
      "outputs": [
        {
          "output_type": "display_data",
          "data": {
            "text/plain": [
              "<IPython.core.display.HTML object>"
            ],
            "text/html": [
              "<h4 id=\"search_images_bing\" class=\"doc_header\"><code>search_images_bing</code><a href=\"https://github.com/fastai/course20/tree/master/fastbook.py#L46\" class=\"source_link\" style=\"float:right\">[source]</a></h4><blockquote><p><code>search_images_bing</code>(<strong><code>key</code></strong>, <strong><code>term</code></strong>, <strong><code>min_sz</code></strong>=<em><code>128</code></em>, <strong><code>max_images</code></strong>=<em><code>150</code></em>)</p>\n",
              "</blockquote>\n",
              "<style>\n",
              "    table { border-collapse: collapse; border:thin solid #dddddd; margin: 25px 0px; ; }\n",
              "    table tr:first-child { background-color: #FFF}\n",
              "    table thead th { background-color: #eee; color: #000; text-align: center;}\n",
              "    tr, th, td { border: 1px solid #ccc; border-width: 1px 0 0 1px; border-collapse: collapse;\n",
              "    padding: 5px; }\n",
              "    tr:nth-child(even) {background: #eee;}</style>"
            ]
          },
          "metadata": {}
        }
      ],
      "source": [
        "doc(search_images_bing)"
      ]
    },
    {
      "cell_type": "code",
      "execution_count": 6,
      "metadata": {
        "id": "e3iBP6SKqMwA",
        "outputId": "207a5cb1-37d8-4b54-ebcd-3281e8f0b910",
        "colab": {
          "base_uri": "https://localhost:8080/"
        }
      },
      "outputs": [
        {
          "output_type": "execute_result",
          "data": {
            "text/plain": [
              "150"
            ]
          },
          "metadata": {},
          "execution_count": 6
        }
      ],
      "source": [
        "# Download a batch of images from bing\n",
        "results = search_images_bing(key, 'grizzly bear')\n",
        "ims = results.attrgot('contentUrl')\n",
        "len(ims)"
      ]
    },
    {
      "cell_type": "code",
      "source": [
        "# Explore ims objec\n",
        "ims[1]"
      ],
      "metadata": {
        "id": "-ALjEyGYvwvk",
        "outputId": "806f5433-2f6c-419a-eeab-42a3d3243ccb",
        "colab": {
          "base_uri": "https://localhost:8080/",
          "height": 55
        }
      },
      "execution_count": 8,
      "outputs": [
        {
          "output_type": "execute_result",
          "data": {
            "text/plain": [
              "'http://2.bp.blogspot.com/-NjMTuklENdE/UHzVv_8dIxI/AAAAAAAAA-U/tNBsQDn8kFI/s1600/Grizzly+Bear+Pic.jpg'"
            ],
            "application/vnd.google.colaboratory.intrinsic+json": {
              "type": "string"
            }
          },
          "metadata": {},
          "execution_count": 8
        }
      ]
    },
    {
      "cell_type": "code",
      "execution_count": 11,
      "metadata": {
        "id": "HyxExDzVqMwB",
        "outputId": "4a485384-10a5-4e13-c38d-076744660dc8",
        "colab": {
          "base_uri": "https://localhost:8080/",
          "height": 55
        }
      },
      "outputs": [
        {
          "output_type": "display_data",
          "data": {
            "text/plain": [
              "<IPython.core.display.HTML object>"
            ],
            "text/html": [
              "\n",
              "<style>\n",
              "    /* Turns off some styling */\n",
              "    progress {\n",
              "        /* gets rid of default border in Firefox and Opera. */\n",
              "        border: none;\n",
              "        /* Needs to be in here for Safari polyfill so background images work as expected. */\n",
              "        background-size: auto;\n",
              "    }\n",
              "    .progress-bar-interrupted, .progress-bar-interrupted::-webkit-progress-bar {\n",
              "        background: #F44336;\n",
              "    }\n",
              "</style>\n"
            ]
          },
          "metadata": {}
        },
        {
          "output_type": "display_data",
          "data": {
            "text/plain": [
              "<IPython.core.display.HTML object>"
            ],
            "text/html": [
              "\n",
              "    <div>\n",
              "      <progress value='335872' class='' max='332689' style='width:300px; height:20px; vertical-align: middle;'></progress>\n",
              "      100.96% [335872/332689 00:00<00:00]\n",
              "    </div>\n",
              "    "
            ]
          },
          "metadata": {}
        },
        {
          "output_type": "execute_result",
          "data": {
            "text/plain": [
              "Path('/content/sample_data/grizzly.jpg')"
            ]
          },
          "metadata": {},
          "execution_count": 11
        }
      ],
      "source": [
        "# Download bear images\n",
        "dest = '/content/sample_data/grizzly.jpg'\n",
        "download_url(ims[1], dest)"
      ]
    },
    {
      "cell_type": "code",
      "source": [
        "# Review download_url function\n",
        "doc(download_url)"
      ],
      "metadata": {
        "id": "CdZWfXRVxS0-",
        "outputId": "3eac5521-827a-4d52-8f1f-0e5f7cf810dc",
        "colab": {
          "base_uri": "https://localhost:8080/",
          "height": 148
        }
      },
      "execution_count": 13,
      "outputs": [
        {
          "output_type": "display_data",
          "data": {
            "text/plain": [
              "<IPython.core.display.HTML object>"
            ],
            "text/html": [
              "<h4 id=\"download_url\" class=\"doc_header\"><code>download_url</code><a href=\"https://github.com/fastai/fastdownload/tree/master/fastdownload/core.py#L17\" class=\"source_link\" style=\"float:right\">[source]</a></h4><blockquote><p><code>download_url</code>(<strong><code>url</code></strong>, <strong><code>dest</code></strong>=<em><code>None</code></em>, <strong><code>timeout</code></strong>=<em><code>None</code></em>, <strong><code>show_progress</code></strong>=<em><code>True</code></em>)</p>\n",
              "</blockquote>\n",
              "<p>Download <code>url</code> to <code>dest</code> and show progress</p>\n",
              "<p><a href=\"https://fastdownload.fast.ai/core#download_url\" target=\"_blank\" rel=\"noreferrer noopener\">Show in docs</a></p>\n",
              "<style>\n",
              "    table { border-collapse: collapse; border:thin solid #dddddd; margin: 25px 0px; ; }\n",
              "    table tr:first-child { background-color: #FFF}\n",
              "    table thead th { background-color: #eee; color: #000; text-align: center;}\n",
              "    tr, th, td { border: 1px solid #ccc; border-width: 1px 0 0 1px; border-collapse: collapse;\n",
              "    padding: 5px; }\n",
              "    tr:nth-child(even) {background: #eee;}</style>"
            ]
          },
          "metadata": {}
        }
      ]
    },
    {
      "cell_type": "code",
      "execution_count": 12,
      "metadata": {
        "id": "akQ6TgP1qMwB",
        "outputId": "2d8977c3-8e01-4985-bcc4-d42beb815c6a",
        "colab": {
          "base_uri": "https://localhost:8080/",
          "height": 102
        }
      },
      "outputs": [
        {
          "output_type": "execute_result",
          "data": {
            "text/plain": [
              "<PIL.Image.Image image mode=RGB size=128x85 at 0x7F8D78F5B810>"
            ],
            "image/png": "[encoded data removed]"
          },
          "metadata": {},
          "execution_count": 12
        }
      ],
      "source": [
        "# Review image\n",
        "im = Image.open(dest)\n",
        "im.to_thumb(128,128)"
      ]
    },
    {
      "cell_type": "code",
      "execution_count": 16,
      "metadata": {
        "id": "wx72YKzwqMwB"
      },
      "outputs": [],
      "source": [
        "# Create path and bear types to download images to separate folders\n",
        "bear_types = 'grizzly','black','teddy'\n",
        "path = Path('/content/sample_data/bears')"
      ]
    },
    {
      "cell_type": "code",
      "source": [
        "path"
      ],
      "metadata": {
        "id": "yAdB6kHwx6r6",
        "outputId": "97fff12b-d1ed-471f-db2c-b09d91d41ab9",
        "colab": {
          "base_uri": "https://localhost:8080/"
        }
      },
      "execution_count": 17,
      "outputs": [
        {
          "output_type": "execute_result",
          "data": {
            "text/plain": [
              "Path('/content/sample_data/bears')"
            ]
          },
          "metadata": {},
          "execution_count": 17
        }
      ]
    },
    {
      "cell_type": "code",
      "source": [
        "doc(download_images)"
      ],
      "metadata": {
        "id": "-Hcc1t10ya9K",
        "outputId": "ad86766e-c579-409a-9ddc-70749c5d2fcc",
        "colab": {
          "base_uri": "https://localhost:8080/",
          "height": 166
        }
      },
      "execution_count": 19,
      "outputs": [
        {
          "output_type": "display_data",
          "data": {
            "text/plain": [
              "<IPython.core.display.HTML object>"
            ],
            "text/html": [
              "<h4 id=\"download_images\" class=\"doc_header\"><code>download_images</code><a href=\"https://github.com/fastai/fastai/tree/master/fastai/vision/utils.py#L34\" class=\"source_link\" style=\"float:right\">[source]</a></h4><blockquote><p><code>download_images</code>(<strong><code>dest</code></strong>, <strong><code>url_file</code></strong>=<em><code>None</code></em>, <strong><code>urls</code></strong>=<em><code>None</code></em>, <strong><code>max_pics</code></strong>=<em><code>1000</code></em>, <strong><code>n_workers</code></strong>=<em><code>8</code></em>, <strong><code>timeout</code></strong>=<em><code>4</code></em>, <strong><code>preserve_filename</code></strong>=<em><code>False</code></em>)</p>\n",
              "</blockquote>\n",
              "<p>Download images listed in text file <code>url_file</code> to path <code>dest</code>, at most <code>max_pics</code></p>\n",
              "<p><a href=\"https://docs.fast.ai/vision.utils#download_images\" target=\"_blank\" rel=\"noreferrer noopener\">Show in docs</a></p>\n",
              "<style>\n",
              "    table { border-collapse: collapse; border:thin solid #dddddd; margin: 25px 0px; ; }\n",
              "    table tr:first-child { background-color: #FFF}\n",
              "    table thead th { background-color: #eee; color: #000; text-align: center;}\n",
              "    tr, th, td { border: 1px solid #ccc; border-width: 1px 0 0 1px; border-collapse: collapse;\n",
              "    padding: 5px; }\n",
              "    tr:nth-child(even) {background: #eee;}</style>"
            ]
          },
          "metadata": {}
        }
      ]
    },
    {
      "cell_type": "code",
      "execution_count": 20,
      "metadata": {
        "id": "AFar5UVuqMwB"
      },
      "outputs": [],
      "source": [
        "# Download images to their respective directories\n",
        "if not path.exists():\n",
        "    path.mkdir()\n",
        "    for o in bear_types:\n",
        "        dest = (path/o)\n",
        "        dest.mkdir(exist_ok=True)\n",
        "        results = search_images_bing(key, f'{o} bear')\n",
        "        download_images(dest, urls=results.attrgot('contentUrl'))"
      ]
    },
    {
      "cell_type": "code",
      "source": [
        "doc(get_image_files)"
      ],
      "metadata": {
        "id": "1oI2r3KlzJxZ",
        "outputId": "af5fc6a3-9917-4c92-d0cb-f6e279fb4706",
        "colab": {
          "base_uri": "https://localhost:8080/",
          "height": 148
        }
      },
      "execution_count": 22,
      "outputs": [
        {
          "output_type": "display_data",
          "data": {
            "text/plain": [
              "<IPython.core.display.HTML object>"
            ],
            "text/html": [
              "<h4 id=\"get_image_files\" class=\"doc_header\"><code>get_image_files</code><a href=\"https://github.com/fastai/fastai/tree/master/fastai/data/transforms.py#L57\" class=\"source_link\" style=\"float:right\">[source]</a></h4><blockquote><p><code>get_image_files</code>(<strong><code>path</code></strong>, <strong><code>recurse</code></strong>=<em><code>True</code></em>, <strong><code>folders</code></strong>=<em><code>None</code></em>)</p>\n",
              "</blockquote>\n",
              "<p>Get image files in <code>path</code> recursively, only in <code>folders</code>, if specified.</p>\n",
              "<p><a href=\"https://docs.fast.ai/data.transforms#get_image_files\" target=\"_blank\" rel=\"noreferrer noopener\">Show in docs</a></p>\n",
              "<style>\n",
              "    table { border-collapse: collapse; border:thin solid #dddddd; margin: 25px 0px; ; }\n",
              "    table tr:first-child { background-color: #FFF}\n",
              "    table thead th { background-color: #eee; color: #000; text-align: center;}\n",
              "    tr, th, td { border: 1px solid #ccc; border-width: 1px 0 0 1px; border-collapse: collapse;\n",
              "    padding: 5px; }\n",
              "    tr:nth-child(even) {background: #eee;}</style>"
            ]
          },
          "metadata": {}
        }
      ]
    },
    {
      "cell_type": "code",
      "execution_count": 21,
      "metadata": {
        "id": "76eo5PhvqMwC",
        "outputId": "9529e2f7-9fa7-4471-cb00-c5073f5d67ec",
        "colab": {
          "base_uri": "https://localhost:8080/"
        }
      },
      "outputs": [
        {
          "output_type": "execute_result",
          "data": {
            "text/plain": [
              "(#430) [Path('/content/sample_data/bears/teddy/00000019.jpg'),Path('/content/sample_data/bears/teddy/00000012.jpg'),Path('/content/sample_data/bears/teddy/00000121.jpg'),Path('/content/sample_data/bears/teddy/00000039.jpg'),Path('/content/sample_data/bears/teddy/00000074.jpg'),Path('/content/sample_data/bears/teddy/00000120.jpg'),Path('/content/sample_data/bears/teddy/00000030.jpeg'),Path('/content/sample_data/bears/teddy/00000114.jpg'),Path('/content/sample_data/bears/teddy/00000090.jpg'),Path('/content/sample_data/bears/teddy/00000125.jpg')...]"
            ]
          },
          "metadata": {},
          "execution_count": 21
        }
      ],
      "source": [
        "# Get filepaths for all images\n",
        "fns = get_image_files(path)\n",
        "fns"
      ]
    },
    {
      "cell_type": "code",
      "source": [
        "doc(verify_images)"
      ],
      "metadata": {
        "id": "Al2P7tdPzr-j",
        "outputId": "7e5a2275-2330-4912-e80e-542e933b61f9",
        "colab": {
          "base_uri": "https://localhost:8080/",
          "height": 148
        }
      },
      "execution_count": 23,
      "outputs": [
        {
          "output_type": "display_data",
          "data": {
            "text/plain": [
              "<IPython.core.display.HTML object>"
            ],
            "text/html": [
              "<h4 id=\"verify_images\" class=\"doc_header\"><code>verify_images</code><a href=\"https://github.com/fastai/fastai/tree/master/fastai/vision/utils.py#L61\" class=\"source_link\" style=\"float:right\">[source]</a></h4><blockquote><p><code>verify_images</code>(<strong><code>fns</code></strong>)</p>\n",
              "</blockquote>\n",
              "<p>Find images in <code>fns</code> that can't be opened</p>\n",
              "<p><a href=\"https://docs.fast.ai/vision.utils#verify_images\" target=\"_blank\" rel=\"noreferrer noopener\">Show in docs</a></p>\n",
              "<style>\n",
              "    table { border-collapse: collapse; border:thin solid #dddddd; margin: 25px 0px; ; }\n",
              "    table tr:first-child { background-color: #FFF}\n",
              "    table thead th { background-color: #eee; color: #000; text-align: center;}\n",
              "    tr, th, td { border: 1px solid #ccc; border-width: 1px 0 0 1px; border-collapse: collapse;\n",
              "    padding: 5px; }\n",
              "    tr:nth-child(even) {background: #eee;}</style>"
            ]
          },
          "metadata": {}
        }
      ]
    },
    {
      "cell_type": "code",
      "execution_count": 24,
      "metadata": {
        "id": "AWYwys57qMwD",
        "outputId": "033b8e7a-2902-4615-920c-4d3a2d9441cb",
        "colab": {
          "base_uri": "https://localhost:8080/"
        }
      },
      "outputs": [
        {
          "output_type": "execute_result",
          "data": {
            "text/plain": [
              "(#5) [Path('/content/sample_data/bears/grizzly/00000093.jpg'),Path('/content/sample_data/bears/grizzly/00000064.jpg'),Path('/content/sample_data/bears/grizzly/00000087.jpg'),Path('/content/sample_data/bears/black/00000125.jpg'),Path('/content/sample_data/bears/black/00000058.jpg')]"
            ]
          },
          "metadata": {},
          "execution_count": 24
        }
      ],
      "source": [
        "# Verify failed images\n",
        "failed = verify_images(fns)\n",
        "failed"
      ]
    },
    {
      "cell_type": "code",
      "execution_count": 25,
      "metadata": {
        "id": "Yr-paNQeqMwD"
      },
      "outputs": [],
      "source": [
        "# Remove failed images\n",
        "failed.map(Path.unlink);"
      ]
    },
    {
      "cell_type": "markdown",
      "metadata": {
        "id": "yIFsEalaqMwE"
      },
      "source": [
        "## From Data to DataLoaders"
      ]
    },
    {
      "cell_type": "code",
      "source": [
        "doc(DataBlock)"
      ],
      "metadata": {
        "id": "9drnYCf42POI",
        "outputId": "2c574860-1c77-4ded-c93e-f2816b6aa123",
        "colab": {
          "base_uri": "https://localhost:8080/",
          "height": 174
        }
      },
      "execution_count": 29,
      "outputs": [
        {
          "output_type": "display_data",
          "data": {
            "text/plain": [
              "<IPython.core.display.HTML object>"
            ],
            "text/html": [
              "<h2 id=\"DataBlock\" class=\"doc_header\"><code>class</code> <code>DataBlock</code><a href=\"https://github.com/fastai/fastai/tree/master/fastai/data/block.py#L58\" class=\"source_link\" style=\"float:right\">[source]</a></h2><blockquote><p><code>DataBlock</code>(<strong><code>blocks</code></strong>=<em><code>None</code></em>, <strong><code>dl_type</code></strong>=<em><code>None</code></em>, <strong><code>getters</code></strong>=<em><code>None</code></em>, <strong><code>n_inp</code></strong>=<em><code>None</code></em>, <strong><code>item_tfms</code></strong>=<em><code>None</code></em>, <strong><code>batch_tfms</code></strong>=<em><code>None</code></em>, <strong><code>get_items</code></strong>=<em><code>None</code></em>, <strong><code>splitter</code></strong>=<em><code>None</code></em>, <strong><code>get_y</code></strong>=<em><code>None</code></em>, <strong><code>get_x</code></strong>=<em><code>None</code></em>)</p>\n",
              "</blockquote>\n",
              "<p>Generic container to quickly build <code>Datasets</code> and <code>DataLoaders</code></p>\n",
              "<p><a href=\"https://docs.fast.ai/data.block#DataBlock\" target=\"_blank\" rel=\"noreferrer noopener\">Show in docs</a></p>\n",
              "<style>\n",
              "    table { border-collapse: collapse; border:thin solid #dddddd; margin: 25px 0px; ; }\n",
              "    table tr:first-child { background-color: #FFF}\n",
              "    table thead th { background-color: #eee; color: #000; text-align: center;}\n",
              "    tr, th, td { border: 1px solid #ccc; border-width: 1px 0 0 1px; border-collapse: collapse;\n",
              "    padding: 5px; }\n",
              "    tr:nth-child(even) {background: #eee;}</style>"
            ]
          },
          "metadata": {}
        }
      ]
    },
    {
      "cell_type": "code",
      "execution_count": null,
      "metadata": {
        "id": "Si-u3DOOqMwF"
      },
      "outputs": [],
      "source": [
        "# Create a custom data block for the bear images. \n",
        "# This will create a dataloader to pass to the model\n",
        "bears = DataBlock(\n",
        "    blocks=(ImageBlock, CategoryBlock), \n",
        "    get_items=get_image_files, \n",
        "    splitter=RandomSplitter(valid_pct=0.2, seed=42),\n",
        "    get_y=parent_label,\n",
        "    item_tfms=Resize(128))"
      ]
    },
    {
      "cell_type": "code",
      "execution_count": null,
      "metadata": {
        "id": "CYw2Eva3qMwF"
      },
      "outputs": [],
      "source": [
        "dls = bears.dataloaders(path)"
      ]
    },
    {
      "cell_type": "code",
      "execution_count": null,
      "metadata": {
        "id": "fMKU3iUYqMwF"
      },
      "outputs": [],
      "source": [
        "dls.valid.show_batch(max_n=4, nrows=1)"
      ]
    },
    {
      "cell_type": "code",
      "execution_count": null,
      "metadata": {
        "id": "FKdJ7DKzqMwG"
      },
      "outputs": [],
      "source": [
        "bears = bears.new(item_tfms=Resize(128, ResizeMethod.Squish))\n",
        "dls = bears.dataloaders(path)\n",
        "dls.valid.show_batch(max_n=4, nrows=1)"
      ]
    },
    {
      "cell_type": "code",
      "execution_count": null,
      "metadata": {
        "id": "RRrkwQldqMwG"
      },
      "outputs": [],
      "source": [
        "bears = bears.new(item_tfms=Resize(128, ResizeMethod.Pad, pad_mode='zeros'))\n",
        "dls = bears.dataloaders(path)\n",
        "dls.valid.show_batch(max_n=4, nrows=1)"
      ]
    },
    {
      "cell_type": "code",
      "execution_count": null,
      "metadata": {
        "id": "C0LbSrBhqMwG"
      },
      "outputs": [],
      "source": [
        "bears = bears.new(item_tfms=RandomResizedCrop(128, min_scale=0.3))\n",
        "dls = bears.dataloaders(path)\n",
        "dls.train.show_batch(max_n=4, nrows=1, unique=True)"
      ]
    },
    {
      "cell_type": "markdown",
      "metadata": {
        "id": "m1gZJF5uqMwG"
      },
      "source": [
        "### Data Augmentation"
      ]
    },
    {
      "cell_type": "code",
      "execution_count": null,
      "metadata": {
        "id": "lrIIiJj4qMwH"
      },
      "outputs": [],
      "source": [
        "bears = bears.new(item_tfms=Resize(128), batch_tfms=aug_transforms(mult=2))\n",
        "dls = bears.dataloaders(path)\n",
        "dls.train.show_batch(max_n=8, nrows=2, unique=True)"
      ]
    },
    {
      "cell_type": "markdown",
      "metadata": {
        "id": "DKPncwSZqMwH"
      },
      "source": [
        "## Training Your Model, and Using It to Clean Your Data"
      ]
    },
    {
      "cell_type": "code",
      "execution_count": null,
      "metadata": {
        "id": "bWS7u_coqMwH"
      },
      "outputs": [],
      "source": [
        "bears = bears.new(\n",
        "    item_tfms=RandomResizedCrop(224, min_scale=0.5),\n",
        "    batch_tfms=aug_transforms())\n",
        "dls = bears.dataloaders(path)"
      ]
    },
    {
      "cell_type": "code",
      "execution_count": null,
      "metadata": {
        "id": "X4Iha7JZqMwI"
      },
      "outputs": [],
      "source": [
        "learn = vision_learner(dls, resnet18, metrics=error_rate)\n",
        "learn.fine_tune(4)"
      ]
    },
    {
      "cell_type": "code",
      "execution_count": null,
      "metadata": {
        "id": "yNJQ8eTgqMwI"
      },
      "outputs": [],
      "source": [
        "interp = ClassificationInterpretation.from_learner(learn)\n",
        "interp.plot_confusion_matrix()"
      ]
    },
    {
      "cell_type": "code",
      "execution_count": null,
      "metadata": {
        "id": "vx6EKXA1qMwI"
      },
      "outputs": [],
      "source": [
        "interp.plot_top_losses(5, nrows=1)"
      ]
    },
    {
      "cell_type": "code",
      "execution_count": null,
      "metadata": {
        "id": "YhQmhuIjqMwI"
      },
      "outputs": [],
      "source": [
        "cleaner = ImageClassifierCleaner(learn)\n",
        "cleaner"
      ]
    },
    {
      "cell_type": "code",
      "execution_count": null,
      "metadata": {
        "id": "nQLQZwg0qMwJ"
      },
      "outputs": [],
      "source": [
        "#hide\n",
        "# for idx in cleaner.delete(): cleaner.fns[idx].unlink()\n",
        "# for idx,cat in cleaner.change(): shutil.move(str(cleaner.fns[idx]), path/cat)"
      ]
    },
    {
      "cell_type": "markdown",
      "metadata": {
        "id": "ALzJZRKjqMwJ"
      },
      "source": [
        "## Turning Your Model into an Online Application"
      ]
    },
    {
      "cell_type": "markdown",
      "metadata": {
        "id": "4n_UkxnhqMwJ"
      },
      "source": [
        "### Using the Model for Inference"
      ]
    },
    {
      "cell_type": "code",
      "execution_count": null,
      "metadata": {
        "id": "8hJWdPS0qMwJ"
      },
      "outputs": [],
      "source": [
        "learn.export()"
      ]
    },
    {
      "cell_type": "code",
      "execution_count": null,
      "metadata": {
        "id": "sKEjavaMqMwK"
      },
      "outputs": [],
      "source": [
        "path = Path()\n",
        "path.ls(file_exts='.pkl')"
      ]
    },
    {
      "cell_type": "code",
      "execution_count": null,
      "metadata": {
        "id": "-fjeuWsoqMwK"
      },
      "outputs": [],
      "source": [
        "learn_inf = load_learner(path/'export.pkl')"
      ]
    },
    {
      "cell_type": "code",
      "execution_count": null,
      "metadata": {
        "id": "-kt6YOGXqMwL"
      },
      "outputs": [],
      "source": [
        "learn_inf.predict('images/grizzly.jpg')"
      ]
    },
    {
      "cell_type": "code",
      "execution_count": null,
      "metadata": {
        "id": "em033nqDqMwM"
      },
      "outputs": [],
      "source": [
        "learn_inf.dls.vocab"
      ]
    },
    {
      "cell_type": "markdown",
      "metadata": {
        "id": "V4SAYABDqMwM"
      },
      "source": [
        "### Creating a Notebook App from the Model"
      ]
    },
    {
      "cell_type": "code",
      "execution_count": null,
      "metadata": {
        "id": "Cu0A6BBzqMwM"
      },
      "outputs": [],
      "source": [
        "btn_upload = widgets.FileUpload()\n",
        "btn_upload"
      ]
    },
    {
      "cell_type": "code",
      "execution_count": null,
      "metadata": {
        "id": "NCQXEENSqMwN"
      },
      "outputs": [],
      "source": [
        "#hide\n",
        "# For the book, we can't actually click an upload button, so we fake it\n",
        "btn_upload = SimpleNamespace(data = ['images/grizzly.jpg'])"
      ]
    },
    {
      "cell_type": "code",
      "execution_count": null,
      "metadata": {
        "id": "hhYbkGHiqMwN"
      },
      "outputs": [],
      "source": [
        "img = PILImage.create(btn_upload.data[-1])"
      ]
    },
    {
      "cell_type": "code",
      "execution_count": null,
      "metadata": {
        "id": "Iu2Ko_l0qMwO"
      },
      "outputs": [],
      "source": [
        "out_pl = widgets.Output()\n",
        "out_pl.clear_output()\n",
        "with out_pl: display(img.to_thumb(128,128))\n",
        "out_pl"
      ]
    },
    {
      "cell_type": "code",
      "execution_count": null,
      "metadata": {
        "id": "47T9zd5LqMwO"
      },
      "outputs": [],
      "source": [
        "pred,pred_idx,probs = learn_inf.predict(img)"
      ]
    },
    {
      "cell_type": "code",
      "execution_count": null,
      "metadata": {
        "id": "29SwYirMqMwO"
      },
      "outputs": [],
      "source": [
        "lbl_pred = widgets.Label()\n",
        "lbl_pred.value = f'Prediction: {pred}; Probability: {probs[pred_idx]:.04f}'\n",
        "lbl_pred"
      ]
    },
    {
      "cell_type": "code",
      "execution_count": null,
      "metadata": {
        "id": "aDQl5nRYqMwO"
      },
      "outputs": [],
      "source": [
        "btn_run = widgets.Button(description='Classify')\n",
        "btn_run"
      ]
    },
    {
      "cell_type": "code",
      "execution_count": null,
      "metadata": {
        "id": "LfLvgXaUqMwO"
      },
      "outputs": [],
      "source": [
        "def on_click_classify(change):\n",
        "    img = PILImage.create(btn_upload.data[-1])\n",
        "    out_pl.clear_output()\n",
        "    with out_pl: display(img.to_thumb(128,128))\n",
        "    pred,pred_idx,probs = learn_inf.predict(img)\n",
        "    lbl_pred.value = f'Prediction: {pred}; Probability: {probs[pred_idx]:.04f}'\n",
        "\n",
        "btn_run.on_click(on_click_classify)"
      ]
    },
    {
      "cell_type": "code",
      "execution_count": null,
      "metadata": {
        "id": "ghOKXhtWqMwP"
      },
      "outputs": [],
      "source": [
        "#hide\n",
        "#Putting back btn_upload to a widget for next cell\n",
        "btn_upload = widgets.FileUpload()"
      ]
    },
    {
      "cell_type": "code",
      "execution_count": null,
      "metadata": {
        "id": "VSiCoInwqMwP"
      },
      "outputs": [],
      "source": [
        "VBox([widgets.Label('Select your bear!'), \n",
        "      btn_upload, btn_run, out_pl, lbl_pred])"
      ]
    },
    {
      "cell_type": "markdown",
      "metadata": {
        "id": "xBLNpDL-qMwP"
      },
      "source": [
        "### Turning Your Notebook into a Real App"
      ]
    },
    {
      "cell_type": "code",
      "execution_count": null,
      "metadata": {
        "id": "hAFxh1tnqMwP"
      },
      "outputs": [],
      "source": [
        "#hide\n",
        "# !pip install voila\n",
        "# !jupyter serverextension enable --sys-prefix voila "
      ]
    },
    {
      "cell_type": "markdown",
      "metadata": {
        "id": "1SW-aO4AqMwP"
      },
      "source": [
        "### Deploying your app"
      ]
    },
    {
      "cell_type": "markdown",
      "metadata": {
        "id": "tfpNPFsJqMwQ"
      },
      "source": [
        "## How to Avoid Disaster"
      ]
    },
    {
      "cell_type": "markdown",
      "metadata": {
        "id": "X7EIDSwFqMwQ"
      },
      "source": [
        "### Unforeseen Consequences and Feedback Loops"
      ]
    },
    {
      "cell_type": "markdown",
      "metadata": {
        "id": "MLPlI5TBqMwQ"
      },
      "source": [
        "## Get Writing!"
      ]
    },
    {
      "cell_type": "markdown",
      "metadata": {
        "id": "GFF7wsILqMwQ"
      },
      "source": [
        "## Questionnaire"
      ]
    },
    {
      "cell_type": "markdown",
      "metadata": {
        "id": "6PyHHjkAqMwQ"
      },
      "source": [
        "1. Provide an example of where the bear classification model might work poorly in production, due to structural or style differences in the training data.\n",
        "1. Where do text models currently have a major deficiency?\n",
        "1. What are possible negative societal implications of text generation models?\n",
        "1. In situations where a model might make mistakes, and those mistakes could be harmful, what is a good alternative to automating a process?\n",
        "1. What kind of tabular data is deep learning particularly good at?\n",
        "1. What's a key downside of directly using a deep learning model for recommendation systems?\n",
        "1. What are the steps of the Drivetrain Approach?\n",
        "1. How do the steps of the Drivetrain Approach map to a recommendation system?\n",
        "1. Create an image recognition model using data you curate, and deploy it on the web.\n",
        "1. What is `DataLoaders`?\n",
        "1. What four things do we need to tell fastai to create `DataLoaders`?\n",
        "1. What does the `splitter` parameter to `DataBlock` do?\n",
        "1. How do we ensure a random split always gives the same validation set?\n",
        "1. What letters are often used to signify the independent and dependent variables?\n",
        "1. What's the difference between the crop, pad, and squish resize approaches? When might you choose one over the others?\n",
        "1. What is data augmentation? Why is it needed?\n",
        "1. What is the difference between `item_tfms` and `batch_tfms`?\n",
        "1. What is a confusion matrix?\n",
        "1. What does `export` save?\n",
        "1. What is it called when we use a model for getting predictions, instead of training?\n",
        "1. What are IPython widgets?\n",
        "1. When might you want to use CPU for deployment? When might GPU be better?\n",
        "1. What are the downsides of deploying your app to a server, instead of to a client (or edge) device such as a phone or PC?\n",
        "1. What are three examples of problems that could occur when rolling out a bear warning system in practice?\n",
        "1. What is \"out-of-domain data\"?\n",
        "1. What is \"domain shift\"?\n",
        "1. What are the three steps in the deployment process?"
      ]
    },
    {
      "cell_type": "markdown",
      "metadata": {
        "id": "t-R5IDKGqMwR"
      },
      "source": [
        "### Further Research"
      ]
    },
    {
      "cell_type": "markdown",
      "metadata": {
        "id": "UFbT4YRdqMwR"
      },
      "source": [
        "1. Consider how the Drivetrain Approach maps to a project or problem you're interested in.\n",
        "1. When might it be best to avoid certain types of data augmentation?\n",
        "1. For a project you're interested in applying deep learning to, consider the thought experiment \"What would happen if it went really, really well?\"\n",
        "1. Start a blog, and write your first blog post. For instance, write about what you think deep learning might be useful for in a domain you're interested in."
      ]
    },
    {
      "cell_type": "code",
      "execution_count": null,
      "metadata": {
        "id": "aGCZiIXqqMwR"
      },
      "outputs": [],
      "source": [
        ""
      ]
    }
  ],
  "metadata": {
    "jupytext": {
      "split_at_heading": true
    },
    "kernelspec": {
      "display_name": "Python 3",
      "language": "python",
      "name": "python3"
    },
    "colab": {
      "name": "02_production.ipynb",
      "provenance": []
    },
    "accelerator": "GPU"
  },
  "nbformat": 4,
  "nbformat_minor": 0
}