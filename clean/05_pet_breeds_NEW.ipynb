{
  "cells": [
    {
      "cell_type": "markdown",
      "metadata": {
        "id": "view-in-github",
        "colab_type": "text"
      },
      "source": [
        "<a href=\"https://colab.research.google.com/github/alejandrodgb/fastai/blob/main/clean/05_pet_breeds_NEW.ipynb\" target=\"_parent\"><img src=\"https://colab.research.google.com/assets/colab-badge.svg\" alt=\"Open In Colab\"/></a>"
      ]
    },
    {
      "cell_type": "markdown",
      "id": "1460a25b-6f91-4b8e-9097-78d43a4e5e6d",
      "metadata": {
        "id": "1460a25b-6f91-4b8e-9097-78d43a4e5e6d"
      },
      "source": [
        "# Import libraries"
      ]
    },
    {
      "cell_type": "code",
      "source": [
        "# For colab development\n",
        "! [ -e /content ] && pip install -Uqq fastbook\n",
        "! pip install nbdev\n",
        "import fastbook\n",
        "fastbook.setup_book()"
      ],
      "metadata": {
        "id": "keLLrYqWhxeR",
        "outputId": "9736b7f5-e6fd-41f9-a81c-dbb50c766e27",
        "colab": {
          "base_uri": "https://localhost:8080/"
        }
      },
      "id": "keLLrYqWhxeR",
      "execution_count": 15,
      "outputs": [
        {
          "output_type": "stream",
          "name": "stdout",
          "text": [
            "Looking in indexes: https://pypi.org/simple, https://us-python.pkg.dev/colab-wheels/public/simple/\n",
            "Requirement already satisfied: nbdev in /usr/local/lib/python3.7/dist-packages (2.3.7)\n",
            "Requirement already satisfied: ghapi>=1.0.3 in /usr/local/lib/python3.7/dist-packages (from nbdev) (1.0.3)\n",
            "Requirement already satisfied: execnb>=0.1.4 in /usr/local/lib/python3.7/dist-packages (from nbdev) (0.1.4)\n",
            "Requirement already satisfied: watchdog in /usr/local/lib/python3.7/dist-packages (from nbdev) (2.1.9)\n",
            "Requirement already satisfied: PyYAML in /usr/local/lib/python3.7/dist-packages (from nbdev) (6.0)\n",
            "Requirement already satisfied: asttokens in /usr/local/lib/python3.7/dist-packages (from nbdev) (2.0.8)\n",
            "Requirement already satisfied: astunparse in /usr/local/lib/python3.7/dist-packages (from nbdev) (1.6.3)\n",
            "Requirement already satisfied: fastcore>=1.5.27 in /usr/local/lib/python3.7/dist-packages (from nbdev) (1.5.27)\n",
            "Requirement already satisfied: ipython in /usr/local/lib/python3.7/dist-packages (from execnb>=0.1.4->nbdev) (7.9.0)\n",
            "Requirement already satisfied: packaging in /usr/local/lib/python3.7/dist-packages (from fastcore>=1.5.27->nbdev) (21.3)\n",
            "Requirement already satisfied: pip in /usr/local/lib/python3.7/dist-packages (from fastcore>=1.5.27->nbdev) (21.1.3)\n",
            "Requirement already satisfied: six in /usr/local/lib/python3.7/dist-packages (from asttokens->nbdev) (1.15.0)\n",
            "Requirement already satisfied: wheel<1.0,>=0.23.0 in /usr/local/lib/python3.7/dist-packages (from astunparse->nbdev) (0.37.1)\n",
            "Requirement already satisfied: decorator in /usr/local/lib/python3.7/dist-packages (from ipython->execnb>=0.1.4->nbdev) (4.4.2)\n",
            "Requirement already satisfied: setuptools>=18.5 in /usr/local/lib/python3.7/dist-packages (from ipython->execnb>=0.1.4->nbdev) (57.4.0)\n",
            "Requirement already satisfied: pygments in /usr/local/lib/python3.7/dist-packages (from ipython->execnb>=0.1.4->nbdev) (2.6.1)\n",
            "Requirement already satisfied: jedi>=0.10 in /usr/local/lib/python3.7/dist-packages (from ipython->execnb>=0.1.4->nbdev) (0.18.1)\n",
            "Requirement already satisfied: prompt-toolkit<2.1.0,>=2.0.0 in /usr/local/lib/python3.7/dist-packages (from ipython->execnb>=0.1.4->nbdev) (2.0.10)\n",
            "Requirement already satisfied: pickleshare in /usr/local/lib/python3.7/dist-packages (from ipython->execnb>=0.1.4->nbdev) (0.7.5)\n",
            "Requirement already satisfied: pexpect in /usr/local/lib/python3.7/dist-packages (from ipython->execnb>=0.1.4->nbdev) (4.8.0)\n",
            "Requirement already satisfied: traitlets>=4.2 in /usr/local/lib/python3.7/dist-packages (from ipython->execnb>=0.1.4->nbdev) (5.1.1)\n",
            "Requirement already satisfied: backcall in /usr/local/lib/python3.7/dist-packages (from ipython->execnb>=0.1.4->nbdev) (0.2.0)\n",
            "Requirement already satisfied: parso<0.9.0,>=0.8.0 in /usr/local/lib/python3.7/dist-packages (from jedi>=0.10->ipython->execnb>=0.1.4->nbdev) (0.8.3)\n",
            "Requirement already satisfied: wcwidth in /usr/local/lib/python3.7/dist-packages (from prompt-toolkit<2.1.0,>=2.0.0->ipython->execnb>=0.1.4->nbdev) (0.2.5)\n",
            "Requirement already satisfied: pyparsing!=3.0.5,>=2.0.2 in /usr/local/lib/python3.7/dist-packages (from packaging->fastcore>=1.5.27->nbdev) (3.0.9)\n",
            "Requirement already satisfied: ptyprocess>=0.5 in /usr/local/lib/python3.7/dist-packages (from pexpect->ipython->execnb>=0.1.4->nbdev) (0.7.0)\n"
          ]
        }
      ]
    },
    {
      "cell_type": "code",
      "execution_count": 16,
      "id": "d67bccd1-789b-4961-b3d9-6ac1cf988d72",
      "metadata": {
        "id": "d67bccd1-789b-4961-b3d9-6ac1cf988d72"
      },
      "outputs": [],
      "source": [
        "from fastbook import *\n",
        "from fastai.vision.all import *"
      ]
    },
    {
      "cell_type": "markdown",
      "id": "52ab3946-73f3-49bc-a4f2-c40362802235",
      "metadata": {
        "id": "52ab3946-73f3-49bc-a4f2-c40362802235"
      },
      "source": [
        "# From dogs and cats to pet breeds"
      ]
    },
    {
      "cell_type": "code",
      "execution_count": 17,
      "id": "16d9f966-fe1d-4e07-ae81-d1b0659af7bd",
      "metadata": {
        "id": "16d9f966-fe1d-4e07-ae81-d1b0659af7bd"
      },
      "outputs": [],
      "source": [
        "# Retrieve data from kaggle's pet breed competition\n",
        "path = untar_data(URLs.PETS)"
      ]
    },
    {
      "cell_type": "code",
      "execution_count": 18,
      "id": "d920807c-895d-4b41-802f-ea0959f07fb9",
      "metadata": {
        "id": "d920807c-895d-4b41-802f-ea0959f07fb9",
        "outputId": "91f51e75-88a1-4809-ff30-33adf6c2cec3",
        "colab": {
          "base_uri": "https://localhost:8080/"
        }
      },
      "outputs": [
        {
          "output_type": "execute_result",
          "data": {
            "text/plain": [
              "(#2) [Path('annotations'),Path('images')]"
            ]
          },
          "metadata": {},
          "execution_count": 18
        }
      ],
      "source": [
        "# Reviewing the data\n",
        "path.ls()"
      ]
    },
    {
      "cell_type": "code",
      "execution_count": 19,
      "id": "67dc7eb2-251c-479d-92fd-17624a6a0028",
      "metadata": {
        "id": "67dc7eb2-251c-479d-92fd-17624a6a0028"
      },
      "outputs": [],
      "source": [
        "# Update the base path to be the pet competition folder path\n",
        "Path.BASE_PATH = path"
      ]
    },
    {
      "cell_type": "code",
      "execution_count": 20,
      "id": "f4d9f1d4-ad00-4533-814f-c0f91007639f",
      "metadata": {
        "id": "f4d9f1d4-ad00-4533-814f-c0f91007639f",
        "outputId": "5e9a1238-0288-4f22-a16e-a9970655eb6b",
        "colab": {
          "base_uri": "https://localhost:8080/"
        }
      },
      "outputs": [
        {
          "output_type": "execute_result",
          "data": {
            "text/plain": [
              "(#2) [Path('annotations'),Path('images')]"
            ]
          },
          "metadata": {},
          "execution_count": 20
        }
      ],
      "source": [
        "# Review data\n",
        "path.ls()"
      ]
    },
    {
      "cell_type": "markdown",
      "id": "115cadb2-c062-4207-a783-ff4466a76706",
      "metadata": {
        "id": "115cadb2-c062-4207-a783-ff4466a76706"
      },
      "source": [
        "The annotations folder include information on where the images were taken. This will be ignored as we will be working with a classification problem."
      ]
    },
    {
      "cell_type": "code",
      "execution_count": 21,
      "id": "67aaf8b1-bbe1-41b2-becc-f2abba83941d",
      "metadata": {
        "id": "67aaf8b1-bbe1-41b2-becc-f2abba83941d",
        "outputId": "c387717f-ab90-4ba3-e3a8-6678a0edcb72",
        "colab": {
          "base_uri": "https://localhost:8080/"
        }
      },
      "outputs": [
        {
          "output_type": "execute_result",
          "data": {
            "text/plain": [
              "(#7393) [Path('images/newfoundland_90.jpg'),Path('images/havanese_84.jpg'),Path('images/beagle_192.jpg'),Path('images/beagle_68.jpg'),Path('images/chihuahua_54.jpg'),Path('images/Abyssinian_202.jpg'),Path('images/Bengal_139.jpg'),Path('images/havanese_16.jpg'),Path('images/staffordshire_bull_terrier_177.jpg'),Path('images/saint_bernard_23.jpg')...]"
            ]
          },
          "metadata": {},
          "execution_count": 21
        }
      ],
      "source": [
        "# Exploring images folder\n",
        "(path/'images').ls()"
      ]
    },
    {
      "cell_type": "code",
      "execution_count": 22,
      "id": "0792ab9a-c95f-4865-a01f-8f5b2ed6fab6",
      "metadata": {
        "id": "0792ab9a-c95f-4865-a01f-8f5b2ed6fab6",
        "outputId": "03a8dcb6-1cb2-466b-d52c-f1bc7eab5cbe",
        "colab": {
          "base_uri": "https://localhost:8080/"
        }
      },
      "outputs": [
        {
          "output_type": "execute_result",
          "data": {
            "text/plain": [
              "['newfoundland']"
            ]
          },
          "metadata": {},
          "execution_count": 22
        }
      ],
      "source": [
        "# Extracting the category from the image name using regex\n",
        "fname = (path/'images').ls()[0]\n",
        "re.findall(r'(.+)_\\d+.jpg$',fname.name)"
      ]
    },
    {
      "cell_type": "markdown",
      "id": "3639c241-6b02-4724-bb84-2faeb2de0088",
      "metadata": {
        "id": "3639c241-6b02-4724-bb84-2faeb2de0088"
      },
      "source": [
        "The regex expression looks for strings that:\n",
        "- `(.+)` include a group of one or more alphanumeric characters\n",
        "- `_\\d+.jpg$` followed by an underscore (`_`), one or more digits (`\\d+`), a full stop and the string 'jpg' (`.jgp`), and the end of the string (`$`)."
      ]
    },
    {
      "cell_type": "markdown",
      "id": "01559d98-683c-40e3-b35c-1b6fb997a026",
      "metadata": {
        "id": "01559d98-683c-40e3-b35c-1b6fb997a026"
      },
      "source": [
        "We will label the dataset using a `DataBlock` object. The `DataBlock` object needs:\n",
        "- The types of data we are working with\n",
        "- How to get the list of items\n",
        "- How to label the items\n",
        "- How to create a validation set"
      ]
    },
    {
      "cell_type": "code",
      "execution_count": 23,
      "id": "4c368015-c030-4b45-b6ec-1790a81dea42",
      "metadata": {
        "id": "4c368015-c030-4b45-b6ec-1790a81dea42"
      },
      "outputs": [],
      "source": [
        "# Label the dataset using a DataBlock object\n",
        "pets = DataBlock(\n",
        "    blocks=(ImageBlock, CategoryBlock),\n",
        "    get_items=get_image_files,\n",
        "    splitter=RandomSplitter(seed=42),\n",
        "    get_y=using_attr(RegexLabeller(r'(.+)_\\d+.jpg$'),'name'),\n",
        "    item_tfms=Resize(460),\n",
        "    batch_tfms=aug_transforms(size=224,min_scale=0.75)\n",
        ")\n",
        "dls = pets.dataloaders(path/'images')"
      ]
    },
    {
      "cell_type": "markdown",
      "id": "9d29b829-6280-42a6-bdd4-9722985f3c18",
      "metadata": {
        "id": "9d29b829-6280-42a6-bdd4-9722985f3c18"
      },
      "source": [
        "`DataLoader` structure:\n",
        "\n",
        "- `blocks=(ImageBlock,CategoryBlock)`: types for the independent and dependent variables\n",
        "- `get_items=get_image_files`: get the list of files based on a path\n",
        "- `splitter=RandomSplitter(seed=42)`: randomly split tranin and validation sets\n",
        "- `get_y=using_attr(RegexLabeller(r'(.+)_\\d+.jpg$'),'name')`: get labels applying regex on the name attribute\n",
        "- `item_tfms=Resize(460)`: resize each image to 460 pixels. This operation performed in the CPU. On the training set, the crop area is chosen randomly while on the validation set the crop area is centered.\n",
        "- `batch_tfms=aug_transforms(size=224,min_scale=0.75)`: apply transformations to all images in batch with the GPU. This will apply all transformation in testing sets but only resizing in validation sets. When using the `min_scale` parameter of `aug_transforms`, `RandomResizedCrop` is automatically applied."
      ]
    },
    {
      "cell_type": "markdown",
      "id": "147a3aa0-6322-40ed-a484-ea4bf3c51698",
      "metadata": {
        "id": "147a3aa0-6322-40ed-a484-ea4bf3c51698"
      },
      "source": [
        "## Presizing"
      ]
    },
    {
      "cell_type": "code",
      "execution_count": 24,
      "id": "c6e03b2f-d837-4d07-9b49-0cbd998f90b3",
      "metadata": {
        "id": "c6e03b2f-d837-4d07-9b49-0cbd998f90b3"
      },
      "outputs": [],
      "source": [
        "# Presizing example\n",
        "\n",
        "# Create a data block\n",
        "dblock1 = DataBlock(blocks=(ImageBlock, CategoryBlock),\n",
        "                    get_y=parent_label,\n",
        "                    item_tfms=Resize(460))"
      ]
    },
    {
      "cell_type": "code",
      "source": [
        "(path/'images').ls()[0]"
      ],
      "metadata": {
        "id": "MP0ie9R3jgfZ",
        "outputId": "d9c7fd01-777f-42d8-bb19-9cf5fb49f398",
        "colab": {
          "base_uri": "https://localhost:8080/"
        }
      },
      "id": "MP0ie9R3jgfZ",
      "execution_count": 25,
      "outputs": [
        {
          "output_type": "execute_result",
          "data": {
            "text/plain": [
              "Path('images/newfoundland_90.jpg')"
            ]
          },
          "metadata": {},
          "execution_count": 25
        }
      ]
    },
    {
      "cell_type": "code",
      "execution_count": 26,
      "id": "5befed6d-c1b7-4e2f-a06a-37398a4e28a6",
      "metadata": {
        "id": "5befed6d-c1b7-4e2f-a06a-37398a4e28a6"
      },
      "outputs": [],
      "source": [
        "# Create a data loader\n",
        "dls1 = dblock1.dataloaders([(path/'images').ls()[0]]*100,bs=80)\n",
        "dls1.train.get_idxs = lambda: Inf.ones"
      ]
    },
    {
      "cell_type": "markdown",
      "source": [
        "The FastAI presizing pipeline creates better images. Image 1 is the original, Image 2 is the traditionally augmented image, while Image 3 is the FastAI-augmented image. The image is clearer and has less distortion.\n",
        "\n",
        "This is achieved by increasing the size of the image for each image, then apply the transformation on all images through the GPU."
      ],
      "metadata": {
        "id": "_hpezDPvj65s"
      },
      "id": "_hpezDPvj65s"
    },
    {
      "cell_type": "code",
      "execution_count": 27,
      "id": "7c1782dc-d31f-4ca0-b7bb-6bad821dbfc1",
      "metadata": {
        "id": "7c1782dc-d31f-4ca0-b7bb-6bad821dbfc1",
        "outputId": "ea92785d-0fb3-4837-b5d3-f67e6ecced5b",
        "colab": {
          "base_uri": "https://localhost:8080/",
          "height": 179
        }
      },
      "outputs": [
        {
          "output_type": "display_data",
          "data": {
            "text/plain": [
              "<Figure size 648x216 with 3 Axes>"
            ],
            "image/png": "[encoded data removed]"
          },
          "metadata": {
            "needs_background": "light"
          }
        }
      ],
      "source": [
        "# Extract one batch from data loader\n",
        "x,y = dls1.valid.one_batch()\n",
        "\n",
        "# Create canvas for plots\n",
        "_,axs = subplots(1, 3)\n",
        "\n",
        "# Create an image with traditional augmentations\n",
        "x1 = TensorImage(x.clone())\n",
        "x1 = x1.affine_coord(sz=224)\n",
        "x1 = x1.rotate(draw=30, p=1.)\n",
        "x1 = x1.zoom(draw=1.2, p=1.)\n",
        "x1 = x1.warp(draw_x=-0.2, draw_y=0.2, p=1.)\n",
        "\n",
        "# Create a FastAI transforms pipeline\n",
        "tfms = setup_aug_tfms([Rotate(draw=30, p=1, size=224), Zoom(draw=1.2, p=1., \n",
        "                                                            size=224),\n",
        "                       Warp(draw_x=-0.2, draw_y=0.2, p=1., size=224)])\n",
        "\n",
        "# Apply the FastAI transforms pipeline\n",
        "x2 = TensorImage(x.clone())\n",
        "x2 = Pipeline(tfms)(x)\n",
        "\n",
        "# Show images in plot canvas\n",
        "TensorImage(x[0]).show(ctx=axs[0])\n",
        "TensorImage(x1[0]).show(ctx=axs[1])\n",
        "TensorImage(x2[0]).show(ctx=axs[2]);"
      ]
    },
    {
      "cell_type": "markdown",
      "id": "c1a2edb4-1838-46cb-a68b-510bd3678336",
      "metadata": {
        "id": "c1a2edb4-1838-46cb-a68b-510bd3678336"
      },
      "source": [
        "## Checking and debugging a DataBlock"
      ]
    },
    {
      "cell_type": "markdown",
      "id": "d2f1c8d4-f582-448d-bcbc-500d467a41b4",
      "metadata": {
        "id": "d2f1c8d4-f582-448d-bcbc-500d467a41b4"
      },
      "source": [
        "The `show_batch` method allows us to review the batch images and the classes"
      ]
    },
    {
      "cell_type": "code",
      "execution_count": 28,
      "id": "29e39bb7-dfc5-4d32-b6ab-185292013984",
      "metadata": {
        "id": "29e39bb7-dfc5-4d32-b6ab-185292013984",
        "outputId": "9c166538-d59d-4953-fc92-c4957d9feede",
        "colab": {
          "base_uri": "https://localhost:8080/",
          "height": 196
        }
      },
      "outputs": [
        {
          "output_type": "display_data",
          "data": {
            "text/plain": [
              "<Figure size 648x216 with 3 Axes>"
            ],
            "image/png": "[encoded data removed]"
          },
          "metadata": {
            "needs_background": "light"
          }
        }
      ],
      "source": [
        "dls.show_batch(nrows=1, ncols=3)"
      ]
    },
    {
      "cell_type": "markdown",
      "id": "f276855e-0735-4a0f-a7db-2c4e4df9dea2",
      "metadata": {
        "id": "f276855e-0735-4a0f-a7db-2c4e4df9dea2"
      },
      "source": [
        "The `summary` method allows us to debug the `DataBlock`. The code below fails because there is no resizing of the images so they cannot be added into a tensor."
      ]
    },
    {
      "cell_type": "code",
      "execution_count": 29,
      "id": "5f40188f-97f6-4847-91fd-5fcf1a398ce6",
      "metadata": {
        "collapsed": true,
        "jupyter": {
          "outputs_hidden": true
        },
        "tags": [],
        "id": "5f40188f-97f6-4847-91fd-5fcf1a398ce6",
        "outputId": "794dc39c-f185-460a-c601-da92c1076407",
        "colab": {
          "base_uri": "https://localhost:8080/",
          "height": 1000
        }
      },
      "outputs": [
        {
          "output_type": "stream",
          "name": "stdout",
          "text": [
            "Setting-up type transforms pipelines\n",
            "Collecting items from /root/.fastai/data/oxford-iiit-pet/images\n",
            "Found 7390 items\n",
            "2 datasets of sizes 5912,1478\n",
            "Setting up Pipeline: PILBase.create\n",
            "Setting up Pipeline: partial -> Categorize -- {'vocab': None, 'sort': True, 'add_na': False}\n",
            "\n",
            "Building one sample\n",
            "  Pipeline: PILBase.create\n",
            "    starting from\n",
            "      /root/.fastai/data/oxford-iiit-pet/images/american_pit_bull_terrier_73.jpg\n",
            "    applying PILBase.create gives\n",
            "      PILImage mode=RGB size=500x375\n",
            "  Pipeline: partial -> Categorize -- {'vocab': None, 'sort': True, 'add_na': False}\n",
            "    starting from\n",
            "      /root/.fastai/data/oxford-iiit-pet/images/american_pit_bull_terrier_73.jpg\n",
            "    applying partial gives\n",
            "      american_pit_bull_terrier\n",
            "    applying Categorize -- {'vocab': None, 'sort': True, 'add_na': False} gives\n",
            "      TensorCategory(13)\n",
            "\n",
            "Final sample: (PILImage mode=RGB size=500x375, TensorCategory(13))\n",
            "\n",
            "\n",
            "Collecting items from /root/.fastai/data/oxford-iiit-pet/images\n",
            "Found 7390 items\n",
            "2 datasets of sizes 5912,1478\n",
            "Setting up Pipeline: PILBase.create\n",
            "Setting up Pipeline: partial -> Categorize -- {'vocab': None, 'sort': True, 'add_na': False}\n",
            "Setting up after_item: Pipeline: ToTensor\n",
            "Setting up before_batch: Pipeline: \n",
            "Setting up after_batch: Pipeline: IntToFloatTensor -- {'div': 255.0, 'div_mask': 1}\n",
            "\n",
            "Building one batch\n",
            "Applying item_tfms to the first sample:\n",
            "  Pipeline: ToTensor\n",
            "    starting from\n",
            "      (PILImage mode=RGB size=500x375, TensorCategory(13))\n",
            "    applying ToTensor gives\n",
            "      (TensorImage of size 3x375x500, TensorCategory(13))\n",
            "\n",
            "Adding the next 3 samples\n",
            "\n",
            "No before_batch transform to apply\n",
            "\n",
            "Collating items in a batch\n",
            "Error! It's not possible to collate your items in a batch\n",
            "Could not collate the 0-th members of your tuples because got the following shapes\n",
            "torch.Size([3, 375, 500]),torch.Size([3, 500, 334]),torch.Size([3, 500, 354]),torch.Size([3, 340, 500])\n"
          ]
        },
        {
          "output_type": "error",
          "ename": "RuntimeError",
          "evalue": "ignored",
          "traceback": [
            "\u001b[0;31m---------------------------------------------------------------------------\u001b[0m",
            "\u001b[0;31mRuntimeError\u001b[0m                              Traceback (most recent call last)",
            "\u001b[0;32m<ipython-input-29-f7554aa74e27>\u001b[0m in \u001b[0;36m<module>\u001b[0;34m\u001b[0m\n\u001b[1;32m      3\u001b[0m                   \u001b[0msplitter\u001b[0m\u001b[0;34m=\u001b[0m\u001b[0mRandomSplitter\u001b[0m\u001b[0;34m(\u001b[0m\u001b[0mseed\u001b[0m\u001b[0;34m=\u001b[0m\u001b[0;36m42\u001b[0m\u001b[0;34m)\u001b[0m\u001b[0;34m,\u001b[0m\u001b[0;34m\u001b[0m\u001b[0;34m\u001b[0m\u001b[0m\n\u001b[1;32m      4\u001b[0m                   get_y=using_attr(RegexLabeller(r'(.+)_\\d+.jpg$'),'name'))\n\u001b[0;32m----> 5\u001b[0;31m \u001b[0mpets1\u001b[0m\u001b[0;34m.\u001b[0m\u001b[0msummary\u001b[0m\u001b[0;34m(\u001b[0m\u001b[0mpath\u001b[0m\u001b[0;34m/\u001b[0m\u001b[0;34m'images'\u001b[0m\u001b[0;34m)\u001b[0m\u001b[0;34m\u001b[0m\u001b[0;34m\u001b[0m\u001b[0m\n\u001b[0m",
            "\u001b[0;32m/usr/local/lib/python3.7/dist-packages/fastai/data/block.py\u001b[0m in \u001b[0;36msummary\u001b[0;34m(self, source, bs, show_batch, **kwargs)\u001b[0m\n\u001b[1;32m    235\u001b[0m         \u001b[0mwhy\u001b[0m \u001b[0;34m=\u001b[0m \u001b[0m_find_fail_collate\u001b[0m\u001b[0;34m(\u001b[0m\u001b[0ms\u001b[0m\u001b[0;34m)\u001b[0m\u001b[0;34m\u001b[0m\u001b[0;34m\u001b[0m\u001b[0m\n\u001b[1;32m    236\u001b[0m         \u001b[0mprint\u001b[0m\u001b[0;34m(\u001b[0m\u001b[0;34m\"Make sure all parts of your samples are tensors of the same size\"\u001b[0m \u001b[0;32mif\u001b[0m \u001b[0mwhy\u001b[0m \u001b[0;32mis\u001b[0m \u001b[0;32mNone\u001b[0m \u001b[0;32melse\u001b[0m \u001b[0mwhy\u001b[0m\u001b[0;34m)\u001b[0m\u001b[0;34m\u001b[0m\u001b[0;34m\u001b[0m\u001b[0m\n\u001b[0;32m--> 237\u001b[0;31m         \u001b[0;32mraise\u001b[0m \u001b[0me\u001b[0m\u001b[0;34m\u001b[0m\u001b[0;34m\u001b[0m\u001b[0m\n\u001b[0m\u001b[1;32m    238\u001b[0m \u001b[0;34m\u001b[0m\u001b[0m\n\u001b[1;32m    239\u001b[0m     \u001b[0;32mif\u001b[0m \u001b[0mlen\u001b[0m\u001b[0;34m(\u001b[0m\u001b[0;34m[\u001b[0m\u001b[0mf\u001b[0m \u001b[0;32mfor\u001b[0m \u001b[0mf\u001b[0m \u001b[0;32min\u001b[0m \u001b[0mdls\u001b[0m\u001b[0;34m.\u001b[0m\u001b[0mtrain\u001b[0m\u001b[0;34m.\u001b[0m\u001b[0mafter_batch\u001b[0m\u001b[0;34m.\u001b[0m\u001b[0mfs\u001b[0m \u001b[0;32mif\u001b[0m \u001b[0mf\u001b[0m\u001b[0;34m.\u001b[0m\u001b[0mname\u001b[0m \u001b[0;34m!=\u001b[0m \u001b[0;34m'noop'\u001b[0m\u001b[0;34m]\u001b[0m\u001b[0;34m)\u001b[0m\u001b[0;34m!=\u001b[0m\u001b[0;36m0\u001b[0m\u001b[0;34m:\u001b[0m\u001b[0;34m\u001b[0m\u001b[0;34m\u001b[0m\u001b[0m\n",
            "\u001b[0;32m/usr/local/lib/python3.7/dist-packages/fastai/data/block.py\u001b[0m in \u001b[0;36msummary\u001b[0;34m(self, source, bs, show_batch, **kwargs)\u001b[0m\n\u001b[1;32m    229\u001b[0m     \u001b[0mprint\u001b[0m\u001b[0;34m(\u001b[0m\u001b[0;34m\"\\nCollating items in a batch\"\u001b[0m\u001b[0;34m)\u001b[0m\u001b[0;34m\u001b[0m\u001b[0;34m\u001b[0m\u001b[0m\n\u001b[1;32m    230\u001b[0m     \u001b[0;32mtry\u001b[0m\u001b[0;34m:\u001b[0m\u001b[0;34m\u001b[0m\u001b[0;34m\u001b[0m\u001b[0m\n\u001b[0;32m--> 231\u001b[0;31m         \u001b[0mb\u001b[0m \u001b[0;34m=\u001b[0m \u001b[0mdls\u001b[0m\u001b[0;34m.\u001b[0m\u001b[0mtrain\u001b[0m\u001b[0;34m.\u001b[0m\u001b[0mcreate_batch\u001b[0m\u001b[0;34m(\u001b[0m\u001b[0ms\u001b[0m\u001b[0;34m)\u001b[0m\u001b[0;34m\u001b[0m\u001b[0;34m\u001b[0m\u001b[0m\n\u001b[0m\u001b[1;32m    232\u001b[0m         \u001b[0mb\u001b[0m \u001b[0;34m=\u001b[0m \u001b[0mretain_types\u001b[0m\u001b[0;34m(\u001b[0m\u001b[0mb\u001b[0m\u001b[0;34m,\u001b[0m \u001b[0ms\u001b[0m\u001b[0;34m[\u001b[0m\u001b[0;36m0\u001b[0m\u001b[0;34m]\u001b[0m \u001b[0;32mif\u001b[0m \u001b[0mis_listy\u001b[0m\u001b[0;34m(\u001b[0m\u001b[0ms\u001b[0m\u001b[0;34m)\u001b[0m \u001b[0;32melse\u001b[0m \u001b[0ms\u001b[0m\u001b[0;34m)\u001b[0m\u001b[0;34m\u001b[0m\u001b[0;34m\u001b[0m\u001b[0m\n\u001b[1;32m    233\u001b[0m     \u001b[0;32mexcept\u001b[0m \u001b[0mException\u001b[0m \u001b[0;32mas\u001b[0m \u001b[0me\u001b[0m\u001b[0;34m:\u001b[0m\u001b[0;34m\u001b[0m\u001b[0;34m\u001b[0m\u001b[0m\n",
            "\u001b[0;32m/usr/local/lib/python3.7/dist-packages/fastai/data/load.py\u001b[0m in \u001b[0;36mcreate_batch\u001b[0;34m(self, b)\u001b[0m\n\u001b[1;32m    166\u001b[0m         \u001b[0;32mtry\u001b[0m\u001b[0;34m:\u001b[0m \u001b[0;32mreturn\u001b[0m \u001b[0;34m(\u001b[0m\u001b[0mfa_collate\u001b[0m\u001b[0;34m,\u001b[0m\u001b[0mfa_convert\u001b[0m\u001b[0;34m)\u001b[0m\u001b[0;34m[\u001b[0m\u001b[0mself\u001b[0m\u001b[0;34m.\u001b[0m\u001b[0mprebatched\u001b[0m\u001b[0;34m]\u001b[0m\u001b[0;34m(\u001b[0m\u001b[0mb\u001b[0m\u001b[0;34m)\u001b[0m\u001b[0;34m\u001b[0m\u001b[0;34m\u001b[0m\u001b[0m\n\u001b[1;32m    167\u001b[0m         \u001b[0;32mexcept\u001b[0m \u001b[0mException\u001b[0m \u001b[0;32mas\u001b[0m \u001b[0me\u001b[0m\u001b[0;34m:\u001b[0m\u001b[0;34m\u001b[0m\u001b[0;34m\u001b[0m\u001b[0m\n\u001b[0;32m--> 168\u001b[0;31m             \u001b[0;32mif\u001b[0m \u001b[0;32mnot\u001b[0m \u001b[0mself\u001b[0m\u001b[0;34m.\u001b[0m\u001b[0mprebatched\u001b[0m\u001b[0;34m:\u001b[0m \u001b[0mcollate_error\u001b[0m\u001b[0;34m(\u001b[0m\u001b[0me\u001b[0m\u001b[0;34m,\u001b[0m\u001b[0mb\u001b[0m\u001b[0;34m)\u001b[0m\u001b[0;34m\u001b[0m\u001b[0;34m\u001b[0m\u001b[0m\n\u001b[0m\u001b[1;32m    169\u001b[0m             \u001b[0;32mraise\u001b[0m\u001b[0;34m\u001b[0m\u001b[0;34m\u001b[0m\u001b[0m\n\u001b[1;32m    170\u001b[0m     \u001b[0;32mdef\u001b[0m \u001b[0mdo_batch\u001b[0m\u001b[0;34m(\u001b[0m\u001b[0mself\u001b[0m\u001b[0;34m,\u001b[0m \u001b[0mb\u001b[0m\u001b[0;34m)\u001b[0m\u001b[0;34m:\u001b[0m \u001b[0;32mreturn\u001b[0m \u001b[0mself\u001b[0m\u001b[0;34m.\u001b[0m\u001b[0mretain\u001b[0m\u001b[0;34m(\u001b[0m\u001b[0mself\u001b[0m\u001b[0;34m.\u001b[0m\u001b[0mcreate_batch\u001b[0m\u001b[0;34m(\u001b[0m\u001b[0mself\u001b[0m\u001b[0;34m.\u001b[0m\u001b[0mbefore_batch\u001b[0m\u001b[0;34m(\u001b[0m\u001b[0mb\u001b[0m\u001b[0;34m)\u001b[0m\u001b[0;34m)\u001b[0m\u001b[0;34m,\u001b[0m \u001b[0mb\u001b[0m\u001b[0;34m)\u001b[0m\u001b[0;34m\u001b[0m\u001b[0;34m\u001b[0m\u001b[0m\n",
            "\u001b[0;32m/usr/local/lib/python3.7/dist-packages/fastai/data/load.py\u001b[0m in \u001b[0;36mcreate_batch\u001b[0;34m(self, b)\u001b[0m\n\u001b[1;32m    164\u001b[0m         \u001b[0;32melse\u001b[0m\u001b[0;34m:\u001b[0m \u001b[0;32mraise\u001b[0m \u001b[0mIndexError\u001b[0m\u001b[0;34m(\u001b[0m\u001b[0;34m\"Cannot index an iterable dataset numerically - must use `None`.\"\u001b[0m\u001b[0;34m)\u001b[0m\u001b[0;34m\u001b[0m\u001b[0;34m\u001b[0m\u001b[0m\n\u001b[1;32m    165\u001b[0m     \u001b[0;32mdef\u001b[0m \u001b[0mcreate_batch\u001b[0m\u001b[0;34m(\u001b[0m\u001b[0mself\u001b[0m\u001b[0;34m,\u001b[0m \u001b[0mb\u001b[0m\u001b[0;34m)\u001b[0m\u001b[0;34m:\u001b[0m\u001b[0;34m\u001b[0m\u001b[0;34m\u001b[0m\u001b[0m\n\u001b[0;32m--> 166\u001b[0;31m         \u001b[0;32mtry\u001b[0m\u001b[0;34m:\u001b[0m \u001b[0;32mreturn\u001b[0m \u001b[0;34m(\u001b[0m\u001b[0mfa_collate\u001b[0m\u001b[0;34m,\u001b[0m\u001b[0mfa_convert\u001b[0m\u001b[0;34m)\u001b[0m\u001b[0;34m[\u001b[0m\u001b[0mself\u001b[0m\u001b[0;34m.\u001b[0m\u001b[0mprebatched\u001b[0m\u001b[0;34m]\u001b[0m\u001b[0;34m(\u001b[0m\u001b[0mb\u001b[0m\u001b[0;34m)\u001b[0m\u001b[0;34m\u001b[0m\u001b[0;34m\u001b[0m\u001b[0m\n\u001b[0m\u001b[1;32m    167\u001b[0m         \u001b[0;32mexcept\u001b[0m \u001b[0mException\u001b[0m \u001b[0;32mas\u001b[0m \u001b[0me\u001b[0m\u001b[0;34m:\u001b[0m\u001b[0;34m\u001b[0m\u001b[0;34m\u001b[0m\u001b[0m\n\u001b[1;32m    168\u001b[0m             \u001b[0;32mif\u001b[0m \u001b[0;32mnot\u001b[0m \u001b[0mself\u001b[0m\u001b[0;34m.\u001b[0m\u001b[0mprebatched\u001b[0m\u001b[0;34m:\u001b[0m \u001b[0mcollate_error\u001b[0m\u001b[0;34m(\u001b[0m\u001b[0me\u001b[0m\u001b[0;34m,\u001b[0m\u001b[0mb\u001b[0m\u001b[0;34m)\u001b[0m\u001b[0;34m\u001b[0m\u001b[0;34m\u001b[0m\u001b[0m\n",
            "\u001b[0;32m/usr/local/lib/python3.7/dist-packages/fastai/data/load.py\u001b[0m in \u001b[0;36mfa_collate\u001b[0;34m(t)\u001b[0m\n\u001b[1;32m     50\u001b[0m     \u001b[0mb\u001b[0m \u001b[0;34m=\u001b[0m \u001b[0mt\u001b[0m\u001b[0;34m[\u001b[0m\u001b[0;36m0\u001b[0m\u001b[0;34m]\u001b[0m\u001b[0;34m\u001b[0m\u001b[0;34m\u001b[0m\u001b[0m\n\u001b[1;32m     51\u001b[0m     return (default_collate(t) if isinstance(b, _collate_types)\n\u001b[0;32m---> 52\u001b[0;31m             \u001b[0;32melse\u001b[0m \u001b[0mtype\u001b[0m\u001b[0;34m(\u001b[0m\u001b[0mt\u001b[0m\u001b[0;34m[\u001b[0m\u001b[0;36m0\u001b[0m\u001b[0;34m]\u001b[0m\u001b[0;34m)\u001b[0m\u001b[0;34m(\u001b[0m\u001b[0;34m[\u001b[0m\u001b[0mfa_collate\u001b[0m\u001b[0;34m(\u001b[0m\u001b[0ms\u001b[0m\u001b[0;34m)\u001b[0m \u001b[0;32mfor\u001b[0m \u001b[0ms\u001b[0m \u001b[0;32min\u001b[0m \u001b[0mzip\u001b[0m\u001b[0;34m(\u001b[0m\u001b[0;34m*\u001b[0m\u001b[0mt\u001b[0m\u001b[0;34m)\u001b[0m\u001b[0;34m]\u001b[0m\u001b[0;34m)\u001b[0m \u001b[0;32mif\u001b[0m \u001b[0misinstance\u001b[0m\u001b[0;34m(\u001b[0m\u001b[0mb\u001b[0m\u001b[0;34m,\u001b[0m \u001b[0mSequence\u001b[0m\u001b[0;34m)\u001b[0m\u001b[0;34m\u001b[0m\u001b[0;34m\u001b[0m\u001b[0m\n\u001b[0m\u001b[1;32m     53\u001b[0m             else default_collate(t))\n\u001b[1;32m     54\u001b[0m \u001b[0;34m\u001b[0m\u001b[0m\n",
            "\u001b[0;32m/usr/local/lib/python3.7/dist-packages/fastai/data/load.py\u001b[0m in \u001b[0;36m<listcomp>\u001b[0;34m(.0)\u001b[0m\n\u001b[1;32m     50\u001b[0m     \u001b[0mb\u001b[0m \u001b[0;34m=\u001b[0m \u001b[0mt\u001b[0m\u001b[0;34m[\u001b[0m\u001b[0;36m0\u001b[0m\u001b[0;34m]\u001b[0m\u001b[0;34m\u001b[0m\u001b[0;34m\u001b[0m\u001b[0m\n\u001b[1;32m     51\u001b[0m     return (default_collate(t) if isinstance(b, _collate_types)\n\u001b[0;32m---> 52\u001b[0;31m             \u001b[0;32melse\u001b[0m \u001b[0mtype\u001b[0m\u001b[0;34m(\u001b[0m\u001b[0mt\u001b[0m\u001b[0;34m[\u001b[0m\u001b[0;36m0\u001b[0m\u001b[0;34m]\u001b[0m\u001b[0;34m)\u001b[0m\u001b[0;34m(\u001b[0m\u001b[0;34m[\u001b[0m\u001b[0mfa_collate\u001b[0m\u001b[0;34m(\u001b[0m\u001b[0ms\u001b[0m\u001b[0;34m)\u001b[0m \u001b[0;32mfor\u001b[0m \u001b[0ms\u001b[0m \u001b[0;32min\u001b[0m \u001b[0mzip\u001b[0m\u001b[0;34m(\u001b[0m\u001b[0;34m*\u001b[0m\u001b[0mt\u001b[0m\u001b[0;34m)\u001b[0m\u001b[0;34m]\u001b[0m\u001b[0;34m)\u001b[0m \u001b[0;32mif\u001b[0m \u001b[0misinstance\u001b[0m\u001b[0;34m(\u001b[0m\u001b[0mb\u001b[0m\u001b[0;34m,\u001b[0m \u001b[0mSequence\u001b[0m\u001b[0;34m)\u001b[0m\u001b[0;34m\u001b[0m\u001b[0;34m\u001b[0m\u001b[0m\n\u001b[0m\u001b[1;32m     53\u001b[0m             else default_collate(t))\n\u001b[1;32m     54\u001b[0m \u001b[0;34m\u001b[0m\u001b[0m\n",
            "\u001b[0;32m/usr/local/lib/python3.7/dist-packages/fastai/data/load.py\u001b[0m in \u001b[0;36mfa_collate\u001b[0;34m(t)\u001b[0m\n\u001b[1;32m     49\u001b[0m     \u001b[0;34m\"A replacement for PyTorch `default_collate` which maintains types and handles `Sequence`s\"\u001b[0m\u001b[0;34m\u001b[0m\u001b[0;34m\u001b[0m\u001b[0m\n\u001b[1;32m     50\u001b[0m     \u001b[0mb\u001b[0m \u001b[0;34m=\u001b[0m \u001b[0mt\u001b[0m\u001b[0;34m[\u001b[0m\u001b[0;36m0\u001b[0m\u001b[0;34m]\u001b[0m\u001b[0;34m\u001b[0m\u001b[0;34m\u001b[0m\u001b[0m\n\u001b[0;32m---> 51\u001b[0;31m     return (default_collate(t) if isinstance(b, _collate_types)\n\u001b[0m\u001b[1;32m     52\u001b[0m             \u001b[0;32melse\u001b[0m \u001b[0mtype\u001b[0m\u001b[0;34m(\u001b[0m\u001b[0mt\u001b[0m\u001b[0;34m[\u001b[0m\u001b[0;36m0\u001b[0m\u001b[0;34m]\u001b[0m\u001b[0;34m)\u001b[0m\u001b[0;34m(\u001b[0m\u001b[0;34m[\u001b[0m\u001b[0mfa_collate\u001b[0m\u001b[0;34m(\u001b[0m\u001b[0ms\u001b[0m\u001b[0;34m)\u001b[0m \u001b[0;32mfor\u001b[0m \u001b[0ms\u001b[0m \u001b[0;32min\u001b[0m \u001b[0mzip\u001b[0m\u001b[0;34m(\u001b[0m\u001b[0;34m*\u001b[0m\u001b[0mt\u001b[0m\u001b[0;34m)\u001b[0m\u001b[0;34m]\u001b[0m\u001b[0;34m)\u001b[0m \u001b[0;32mif\u001b[0m \u001b[0misinstance\u001b[0m\u001b[0;34m(\u001b[0m\u001b[0mb\u001b[0m\u001b[0;34m,\u001b[0m \u001b[0mSequence\u001b[0m\u001b[0;34m)\u001b[0m\u001b[0;34m\u001b[0m\u001b[0;34m\u001b[0m\u001b[0m\n\u001b[1;32m     53\u001b[0m             else default_collate(t))\n",
            "\u001b[0;32m/usr/local/lib/python3.7/dist-packages/torch/utils/data/_utils/collate.py\u001b[0m in \u001b[0;36mdefault_collate\u001b[0;34m(batch)\u001b[0m\n\u001b[1;32m    139\u001b[0m             \u001b[0mstorage\u001b[0m \u001b[0;34m=\u001b[0m \u001b[0melem\u001b[0m\u001b[0;34m.\u001b[0m\u001b[0mstorage\u001b[0m\u001b[0;34m(\u001b[0m\u001b[0;34m)\u001b[0m\u001b[0;34m.\u001b[0m\u001b[0m_new_shared\u001b[0m\u001b[0;34m(\u001b[0m\u001b[0mnumel\u001b[0m\u001b[0;34m,\u001b[0m \u001b[0mdevice\u001b[0m\u001b[0;34m=\u001b[0m\u001b[0melem\u001b[0m\u001b[0;34m.\u001b[0m\u001b[0mdevice\u001b[0m\u001b[0;34m)\u001b[0m\u001b[0;34m\u001b[0m\u001b[0;34m\u001b[0m\u001b[0m\n\u001b[1;32m    140\u001b[0m             \u001b[0mout\u001b[0m \u001b[0;34m=\u001b[0m \u001b[0melem\u001b[0m\u001b[0;34m.\u001b[0m\u001b[0mnew\u001b[0m\u001b[0;34m(\u001b[0m\u001b[0mstorage\u001b[0m\u001b[0;34m)\u001b[0m\u001b[0;34m.\u001b[0m\u001b[0mresize_\u001b[0m\u001b[0;34m(\u001b[0m\u001b[0mlen\u001b[0m\u001b[0;34m(\u001b[0m\u001b[0mbatch\u001b[0m\u001b[0;34m)\u001b[0m\u001b[0;34m,\u001b[0m \u001b[0;34m*\u001b[0m\u001b[0mlist\u001b[0m\u001b[0;34m(\u001b[0m\u001b[0melem\u001b[0m\u001b[0;34m.\u001b[0m\u001b[0msize\u001b[0m\u001b[0;34m(\u001b[0m\u001b[0;34m)\u001b[0m\u001b[0;34m)\u001b[0m\u001b[0;34m)\u001b[0m\u001b[0;34m\u001b[0m\u001b[0;34m\u001b[0m\u001b[0m\n\u001b[0;32m--> 141\u001b[0;31m         \u001b[0;32mreturn\u001b[0m \u001b[0mtorch\u001b[0m\u001b[0;34m.\u001b[0m\u001b[0mstack\u001b[0m\u001b[0;34m(\u001b[0m\u001b[0mbatch\u001b[0m\u001b[0;34m,\u001b[0m \u001b[0;36m0\u001b[0m\u001b[0;34m,\u001b[0m \u001b[0mout\u001b[0m\u001b[0;34m=\u001b[0m\u001b[0mout\u001b[0m\u001b[0;34m)\u001b[0m\u001b[0;34m\u001b[0m\u001b[0;34m\u001b[0m\u001b[0m\n\u001b[0m\u001b[1;32m    142\u001b[0m     \u001b[0;32melif\u001b[0m \u001b[0melem_type\u001b[0m\u001b[0;34m.\u001b[0m\u001b[0m__module__\u001b[0m \u001b[0;34m==\u001b[0m \u001b[0;34m'numpy'\u001b[0m \u001b[0;32mand\u001b[0m \u001b[0melem_type\u001b[0m\u001b[0;34m.\u001b[0m\u001b[0m__name__\u001b[0m \u001b[0;34m!=\u001b[0m \u001b[0;34m'str_'\u001b[0m\u001b[0;31m \u001b[0m\u001b[0;31m\\\u001b[0m\u001b[0;34m\u001b[0m\u001b[0;34m\u001b[0m\u001b[0m\n\u001b[1;32m    143\u001b[0m             \u001b[0;32mand\u001b[0m \u001b[0melem_type\u001b[0m\u001b[0;34m.\u001b[0m\u001b[0m__name__\u001b[0m \u001b[0;34m!=\u001b[0m \u001b[0;34m'string_'\u001b[0m\u001b[0;34m:\u001b[0m\u001b[0;34m\u001b[0m\u001b[0;34m\u001b[0m\u001b[0m\n",
            "\u001b[0;32m/usr/local/lib/python3.7/dist-packages/fastai/torch_core.py\u001b[0m in \u001b[0;36m__torch_function__\u001b[0;34m(cls, func, types, args, kwargs)\u001b[0m\n\u001b[1;32m    374\u001b[0m         \u001b[0;32mif\u001b[0m \u001b[0mcls\u001b[0m\u001b[0;34m.\u001b[0m\u001b[0mdebug\u001b[0m \u001b[0;32mand\u001b[0m \u001b[0mfunc\u001b[0m\u001b[0;34m.\u001b[0m\u001b[0m__name__\u001b[0m \u001b[0;32mnot\u001b[0m \u001b[0;32min\u001b[0m \u001b[0;34m(\u001b[0m\u001b[0;34m'__str__'\u001b[0m\u001b[0;34m,\u001b[0m\u001b[0;34m'__repr__'\u001b[0m\u001b[0;34m)\u001b[0m\u001b[0;34m:\u001b[0m \u001b[0mprint\u001b[0m\u001b[0;34m(\u001b[0m\u001b[0mfunc\u001b[0m\u001b[0;34m,\u001b[0m \u001b[0mtypes\u001b[0m\u001b[0;34m,\u001b[0m \u001b[0margs\u001b[0m\u001b[0;34m,\u001b[0m \u001b[0mkwargs\u001b[0m\u001b[0;34m)\u001b[0m\u001b[0;34m\u001b[0m\u001b[0;34m\u001b[0m\u001b[0m\n\u001b[1;32m    375\u001b[0m         \u001b[0;32mif\u001b[0m \u001b[0m_torch_handled\u001b[0m\u001b[0;34m(\u001b[0m\u001b[0margs\u001b[0m\u001b[0;34m,\u001b[0m \u001b[0mcls\u001b[0m\u001b[0;34m.\u001b[0m\u001b[0m_opt\u001b[0m\u001b[0;34m,\u001b[0m \u001b[0mfunc\u001b[0m\u001b[0;34m)\u001b[0m\u001b[0;34m:\u001b[0m \u001b[0mtypes\u001b[0m \u001b[0;34m=\u001b[0m \u001b[0;34m(\u001b[0m\u001b[0mtorch\u001b[0m\u001b[0;34m.\u001b[0m\u001b[0mTensor\u001b[0m\u001b[0;34m,\u001b[0m\u001b[0;34m)\u001b[0m\u001b[0;34m\u001b[0m\u001b[0;34m\u001b[0m\u001b[0m\n\u001b[0;32m--> 376\u001b[0;31m         \u001b[0mres\u001b[0m \u001b[0;34m=\u001b[0m \u001b[0msuper\u001b[0m\u001b[0;34m(\u001b[0m\u001b[0;34m)\u001b[0m\u001b[0;34m.\u001b[0m\u001b[0m__torch_function__\u001b[0m\u001b[0;34m(\u001b[0m\u001b[0mfunc\u001b[0m\u001b[0;34m,\u001b[0m \u001b[0mtypes\u001b[0m\u001b[0;34m,\u001b[0m \u001b[0margs\u001b[0m\u001b[0;34m,\u001b[0m \u001b[0mifnone\u001b[0m\u001b[0;34m(\u001b[0m\u001b[0mkwargs\u001b[0m\u001b[0;34m,\u001b[0m \u001b[0;34m{\u001b[0m\u001b[0;34m}\u001b[0m\u001b[0;34m)\u001b[0m\u001b[0;34m)\u001b[0m\u001b[0;34m\u001b[0m\u001b[0;34m\u001b[0m\u001b[0m\n\u001b[0m\u001b[1;32m    377\u001b[0m         \u001b[0mdict_objs\u001b[0m \u001b[0;34m=\u001b[0m \u001b[0m_find_args\u001b[0m\u001b[0;34m(\u001b[0m\u001b[0margs\u001b[0m\u001b[0;34m)\u001b[0m \u001b[0;32mif\u001b[0m \u001b[0margs\u001b[0m \u001b[0;32melse\u001b[0m \u001b[0m_find_args\u001b[0m\u001b[0;34m(\u001b[0m\u001b[0mlist\u001b[0m\u001b[0;34m(\u001b[0m\u001b[0mkwargs\u001b[0m\u001b[0;34m.\u001b[0m\u001b[0mvalues\u001b[0m\u001b[0;34m(\u001b[0m\u001b[0;34m)\u001b[0m\u001b[0;34m)\u001b[0m\u001b[0;34m)\u001b[0m\u001b[0;34m\u001b[0m\u001b[0;34m\u001b[0m\u001b[0m\n\u001b[1;32m    378\u001b[0m         \u001b[0;32mif\u001b[0m \u001b[0missubclass\u001b[0m\u001b[0;34m(\u001b[0m\u001b[0mtype\u001b[0m\u001b[0;34m(\u001b[0m\u001b[0mres\u001b[0m\u001b[0;34m)\u001b[0m\u001b[0;34m,\u001b[0m\u001b[0mTensorBase\u001b[0m\u001b[0;34m)\u001b[0m \u001b[0;32mand\u001b[0m \u001b[0mdict_objs\u001b[0m\u001b[0;34m:\u001b[0m \u001b[0mres\u001b[0m\u001b[0;34m.\u001b[0m\u001b[0mset_meta\u001b[0m\u001b[0;34m(\u001b[0m\u001b[0mdict_objs\u001b[0m\u001b[0;34m[\u001b[0m\u001b[0;36m0\u001b[0m\u001b[0;34m]\u001b[0m\u001b[0;34m,\u001b[0m\u001b[0mas_copy\u001b[0m\u001b[0;34m=\u001b[0m\u001b[0;32mTrue\u001b[0m\u001b[0;34m)\u001b[0m\u001b[0;34m\u001b[0m\u001b[0;34m\u001b[0m\u001b[0m\n",
            "\u001b[0;32m/usr/local/lib/python3.7/dist-packages/torch/_tensor.py\u001b[0m in \u001b[0;36m__torch_function__\u001b[0;34m(cls, func, types, args, kwargs)\u001b[0m\n\u001b[1;32m   1119\u001b[0m \u001b[0;34m\u001b[0m\u001b[0m\n\u001b[1;32m   1120\u001b[0m         \u001b[0;32mwith\u001b[0m \u001b[0m_C\u001b[0m\u001b[0;34m.\u001b[0m\u001b[0mDisableTorchFunction\u001b[0m\u001b[0;34m(\u001b[0m\u001b[0;34m)\u001b[0m\u001b[0;34m:\u001b[0m\u001b[0;34m\u001b[0m\u001b[0;34m\u001b[0m\u001b[0m\n\u001b[0;32m-> 1121\u001b[0;31m             \u001b[0mret\u001b[0m \u001b[0;34m=\u001b[0m \u001b[0mfunc\u001b[0m\u001b[0;34m(\u001b[0m\u001b[0;34m*\u001b[0m\u001b[0margs\u001b[0m\u001b[0;34m,\u001b[0m \u001b[0;34m**\u001b[0m\u001b[0mkwargs\u001b[0m\u001b[0;34m)\u001b[0m\u001b[0;34m\u001b[0m\u001b[0;34m\u001b[0m\u001b[0m\n\u001b[0m\u001b[1;32m   1122\u001b[0m             \u001b[0;32mif\u001b[0m \u001b[0mfunc\u001b[0m \u001b[0;32min\u001b[0m \u001b[0mget_default_nowrap_functions\u001b[0m\u001b[0;34m(\u001b[0m\u001b[0;34m)\u001b[0m\u001b[0;34m:\u001b[0m\u001b[0;34m\u001b[0m\u001b[0;34m\u001b[0m\u001b[0m\n\u001b[1;32m   1123\u001b[0m                 \u001b[0;32mreturn\u001b[0m \u001b[0mret\u001b[0m\u001b[0;34m\u001b[0m\u001b[0;34m\u001b[0m\u001b[0m\n",
            "\u001b[0;31mRuntimeError\u001b[0m: Error when trying to collate the data into batches with fa_collate, at least two tensors in the batch are not the same size.\n\nMismatch found on axis 0 of the batch and is of type `TensorImage`:\n\tItem at index 0 has shape: torch.Size([3, 375, 500])\n\tItem at index 1 has shape: torch.Size([3, 500, 334])\n\nPlease include a transform in `after_item` that ensures all data of type TensorImage is the same size"
          ]
        }
      ],
      "source": [
        "pets1 = DataBlock(blocks=(ImageBlock, CategoryBlock),\n",
        "                  get_items=get_image_files,\n",
        "                  splitter=RandomSplitter(seed=42),\n",
        "                  get_y=using_attr(RegexLabeller(r'(.+)_\\d+.jpg$'),'name'))\n",
        "pets1.summary(path/'images')"
      ]
    },
    {
      "cell_type": "markdown",
      "id": "0f9ed1f8-28b9-4ea7-adae-466689b0dd0b",
      "metadata": {
        "id": "0f9ed1f8-28b9-4ea7-adae-466689b0dd0b"
      },
      "source": [
        "Once the `DataBlock` is ready. It is recommendable to create a simple model and test the results."
      ]
    },
    {
      "cell_type": "code",
      "execution_count": 30,
      "id": "78338348-5a92-4ccd-9448-c185f3db548a",
      "metadata": {
        "tags": [],
        "id": "78338348-5a92-4ccd-9448-c185f3db548a",
        "outputId": "b99f2abe-06ab-4ba0-af5c-6fc6207182d2",
        "colab": {
          "base_uri": "https://localhost:8080/",
          "height": 320,
          "referenced_widgets": [
            "a4fe23c7da2945cf9e4827245891caa2",
            "ca3158c38a6b43d79e2827ff888417b4",
            "599b2a3a826a406896cc540e1220efd0",
            "332efbe3fbf042039ddd7c9074ad20d6",
            "b07aad445c2b4d629fc7b332c166d28b",
            "fefc521fc7f24cb7821a959624d7bb48",
            "a63c822a68b94ef194612e985e394570",
            "267e6ce201f2406486b1f88329a3c56d",
            "fe78c7d81bea4a4f88ca367585e99063",
            "ffa986ef7a2b453191f92d25f674744a",
            "16d2630f5735432e9cb74c591b4d7de7"
          ]
        }
      },
      "outputs": [
        {
          "output_type": "stream",
          "name": "stderr",
          "text": [
            "/usr/local/lib/python3.7/dist-packages/torchvision/models/_utils.py:209: UserWarning: The parameter 'pretrained' is deprecated since 0.13 and will be removed in 0.15, please use 'weights' instead.\n",
            "  f\"The parameter '{pretrained_param}' is deprecated since 0.13 and will be removed in 0.15, \"\n",
            "/usr/local/lib/python3.7/dist-packages/torchvision/models/_utils.py:223: UserWarning: Arguments other than a weight enum or `None` for 'weights' are deprecated since 0.13 and will be removed in 0.15. The current behavior is equivalent to passing `weights=ResNet34_Weights.IMAGENET1K_V1`. You can also use `weights=ResNet34_Weights.DEFAULT` to get the most up-to-date weights.\n",
            "  warnings.warn(msg)\n",
            "Downloading: \"https://download.pytorch.org/models/resnet34-b627a593.pth\" to /root/.cache/torch/hub/checkpoints/resnet34-b627a593.pth\n"
          ]
        },
        {
          "output_type": "display_data",
          "data": {
            "text/plain": [
              "  0%|          | 0.00/83.3M [00:00<?, ?B/s]"
            ],
            "application/vnd.jupyter.widget-view+json": {
              "version_major": 2,
              "version_minor": 0,
              "model_id": "a4fe23c7da2945cf9e4827245891caa2"
            }
          },
          "metadata": {}
        },
        {
          "output_type": "display_data",
          "data": {
            "text/plain": [
              "<IPython.core.display.HTML object>"
            ],
            "text/html": [
              "\n",
              "<style>\n",
              "    /* Turns off some styling */\n",
              "    progress {\n",
              "        /* gets rid of default border in Firefox and Opera. */\n",
              "        border: none;\n",
              "        /* Needs to be in here for Safari polyfill so background images work as expected. */\n",
              "        background-size: auto;\n",
              "    }\n",
              "    progress:not([value]), progress:not([value])::-webkit-progress-bar {\n",
              "        background: repeating-linear-gradient(45deg, #7e7e7e, #7e7e7e 10px, #5c5c5c 10px, #5c5c5c 20px);\n",
              "    }\n",
              "    .progress-bar-interrupted, .progress-bar-interrupted::-webkit-progress-bar {\n",
              "        background: #F44336;\n",
              "    }\n",
              "</style>\n"
            ]
          },
          "metadata": {}
        },
        {
          "output_type": "display_data",
          "data": {
            "text/plain": [
              "<IPython.core.display.HTML object>"
            ],
            "text/html": [
              "<table border=\"1\" class=\"dataframe\">\n",
              "  <thead>\n",
              "    <tr style=\"text-align: left;\">\n",
              "      <th>epoch</th>\n",
              "      <th>train_loss</th>\n",
              "      <th>valid_loss</th>\n",
              "      <th>error_rate</th>\n",
              "      <th>time</th>\n",
              "    </tr>\n",
              "  </thead>\n",
              "  <tbody>\n",
              "    <tr>\n",
              "      <td>0</td>\n",
              "      <td>1.504010</td>\n",
              "      <td>0.396273</td>\n",
              "      <td>0.130582</td>\n",
              "      <td>01:14</td>\n",
              "    </tr>\n",
              "  </tbody>\n",
              "</table>"
            ]
          },
          "metadata": {}
        },
        {
          "output_type": "display_data",
          "data": {
            "text/plain": [
              "<IPython.core.display.HTML object>"
            ],
            "text/html": [
              "\n",
              "<style>\n",
              "    /* Turns off some styling */\n",
              "    progress {\n",
              "        /* gets rid of default border in Firefox and Opera. */\n",
              "        border: none;\n",
              "        /* Needs to be in here for Safari polyfill so background images work as expected. */\n",
              "        background-size: auto;\n",
              "    }\n",
              "    progress:not([value]), progress:not([value])::-webkit-progress-bar {\n",
              "        background: repeating-linear-gradient(45deg, #7e7e7e, #7e7e7e 10px, #5c5c5c 10px, #5c5c5c 20px);\n",
              "    }\n",
              "    .progress-bar-interrupted, .progress-bar-interrupted::-webkit-progress-bar {\n",
              "        background: #F44336;\n",
              "    }\n",
              "</style>\n"
            ]
          },
          "metadata": {}
        },
        {
          "output_type": "display_data",
          "data": {
            "text/plain": [
              "<IPython.core.display.HTML object>"
            ],
            "text/html": [
              "<table border=\"1\" class=\"dataframe\">\n",
              "  <thead>\n",
              "    <tr style=\"text-align: left;\">\n",
              "      <th>epoch</th>\n",
              "      <th>train_loss</th>\n",
              "      <th>valid_loss</th>\n",
              "      <th>error_rate</th>\n",
              "      <th>time</th>\n",
              "    </tr>\n",
              "  </thead>\n",
              "  <tbody>\n",
              "    <tr>\n",
              "      <td>0</td>\n",
              "      <td>0.500895</td>\n",
              "      <td>0.337733</td>\n",
              "      <td>0.104195</td>\n",
              "      <td>01:15</td>\n",
              "    </tr>\n",
              "    <tr>\n",
              "      <td>1</td>\n",
              "      <td>0.305930</td>\n",
              "      <td>0.255727</td>\n",
              "      <td>0.079161</td>\n",
              "      <td>01:15</td>\n",
              "    </tr>\n",
              "  </tbody>\n",
              "</table>"
            ]
          },
          "metadata": {}
        }
      ],
      "source": [
        "learn = vision_learner(dls, resnet34, metrics=error_rate)\n",
        "learn.fine_tune(2)"
      ]
    },
    {
      "cell_type": "markdown",
      "id": "f54a52b2-bdfa-4977-901f-0f7f88f3fed6",
      "metadata": {
        "id": "f54a52b2-bdfa-4977-901f-0f7f88f3fed6"
      },
      "source": [
        "# Cross-Entropy Loss"
      ]
    },
    {
      "cell_type": "markdown",
      "id": "0fd58ea1-b234-4b17-9af3-e8d271b150ea",
      "metadata": {
        "id": "0fd58ea1-b234-4b17-9af3-e8d271b150ea"
      },
      "source": [
        "Cross-Entropy loss is a loss function used for categorical data. To understand how it works, we will dive into the activations and data that the function sees"
      ]
    },
    {
      "cell_type": "markdown",
      "id": "7651d9ad-55fd-49e2-8ef7-f45f8681837b",
      "metadata": {
        "id": "7651d9ad-55fd-49e2-8ef7-f45f8681837b"
      },
      "source": [
        "## Viewing Activations and Labels"
      ]
    },
    {
      "cell_type": "code",
      "execution_count": 31,
      "id": "ca65f378-4596-4293-bfb7-a7896c3883d2",
      "metadata": {
        "id": "ca65f378-4596-4293-bfb7-a7896c3883d2"
      },
      "outputs": [],
      "source": [
        "# Extract one batch \n",
        "x, y = dls.one_batch()"
      ]
    },
    {
      "cell_type": "code",
      "execution_count": 32,
      "id": "d25e87b4-338b-4b11-ae65-3e17966d3faf",
      "metadata": {
        "id": "d25e87b4-338b-4b11-ae65-3e17966d3faf",
        "outputId": "68b9c67f-a538-4a9a-e30f-d737ea713b23",
        "colab": {
          "base_uri": "https://localhost:8080/"
        }
      },
      "outputs": [
        {
          "output_type": "execute_result",
          "data": {
            "text/plain": [
              "(torch.Size([64]),\n",
              " TensorCategory([ 2, 33, 16, 33, 19,  7, 19, 22, 10, 29, 28, 13, 22, 33,  9, 25, 31, 16,  3, 24, 24, 21, 22,  1,  5, 18,  7,  9, 18, 25,  2, 14, 21,  7, 12, 19, 23, 12, 27,  9,  5,  3, 27, 12,  6,  8,\n",
              "                 12, 30, 11,  9, 21, 10,  0, 30, 19, 11, 25,  3, 18, 26, 19,  9, 13, 10], device='cuda:0'))"
            ]
          },
          "metadata": {},
          "execution_count": 32
        }
      ],
      "source": [
        "# Dependent variable\n",
        "y.shape, y"
      ]
    },
    {
      "cell_type": "code",
      "execution_count": 33,
      "id": "ae590885-51b5-4a6f-9449-f79472256eae",
      "metadata": {
        "id": "ae590885-51b5-4a6f-9449-f79472256eae",
        "outputId": "93051422-04e5-47a4-ce48-ca922ad20a44",
        "colab": {
          "base_uri": "https://localhost:8080/",
          "height": 109
        }
      },
      "outputs": [
        {
          "output_type": "display_data",
          "data": {
            "text/plain": [
              "<IPython.core.display.HTML object>"
            ],
            "text/html": [
              "\n",
              "<style>\n",
              "    /* Turns off some styling */\n",
              "    progress {\n",
              "        /* gets rid of default border in Firefox and Opera. */\n",
              "        border: none;\n",
              "        /* Needs to be in here for Safari polyfill so background images work as expected. */\n",
              "        background-size: auto;\n",
              "    }\n",
              "    progress:not([value]), progress:not([value])::-webkit-progress-bar {\n",
              "        background: repeating-linear-gradient(45deg, #7e7e7e, #7e7e7e 10px, #5c5c5c 10px, #5c5c5c 20px);\n",
              "    }\n",
              "    .progress-bar-interrupted, .progress-bar-interrupted::-webkit-progress-bar {\n",
              "        background: #F44336;\n",
              "    }\n",
              "</style>\n"
            ]
          },
          "metadata": {}
        },
        {
          "output_type": "display_data",
          "data": {
            "text/plain": [
              "<IPython.core.display.HTML object>"
            ],
            "text/html": []
          },
          "metadata": {}
        },
        {
          "output_type": "execute_result",
          "data": {
            "text/plain": [
              "TensorBase([3.6975e-07, 1.1199e-06, 9.6190e-01, 2.4264e-05, 8.3120e-07, 1.0724e-07, 1.2117e-05, 2.5113e-04, 3.7523e-02, 1.9950e-08, 2.3138e-04, 2.2481e-07, 1.6224e-07, 1.1397e-08, 1.1097e-07,\n",
              "            1.5198e-07, 1.9404e-07, 9.5194e-08, 7.6834e-08, 2.3419e-06, 4.7137e-07, 5.0404e-06, 4.7473e-07, 1.8160e-05, 1.1181e-06, 1.8540e-05, 8.4689e-09, 3.9565e-07, 1.7482e-06, 5.1636e-07,\n",
              "            1.6100e-06, 3.5216e-06, 1.1362e-07, 1.4350e-06, 4.9996e-08, 1.8881e-07, 1.5228e-06])"
            ]
          },
          "metadata": {},
          "execution_count": 33
        }
      ],
      "source": [
        "# Get predictions\n",
        "preds, _ = learn.get_preds(dl=[(x,y)])\n",
        "preds[0]"
      ]
    },
    {
      "cell_type": "code",
      "execution_count": 34,
      "id": "ec047eef-9915-4696-9c21-c03de307bd0e",
      "metadata": {
        "id": "ec047eef-9915-4696-9c21-c03de307bd0e",
        "outputId": "ce6d0aa7-1b4c-4219-cfa3-74cc52dfc1a3",
        "colab": {
          "base_uri": "https://localhost:8080/"
        }
      },
      "outputs": [
        {
          "output_type": "execute_result",
          "data": {
            "text/plain": [
              "(torch.Size([64, 37]), TensorBase(1.))"
            ]
          },
          "metadata": {},
          "execution_count": 34
        }
      ],
      "source": [
        "preds.shape, preds[0].sum()"
      ]
    },
    {
      "cell_type": "markdown",
      "id": "5ec5ef8f-1c53-41aa-a8b1-b2abb8354c00",
      "metadata": {
        "id": "5ec5ef8f-1c53-41aa-a8b1-b2abb8354c00"
      },
      "source": [
        "The `get_preds` function allows us to see the predictions based on a dataset index (0 for train and 1 for valid) or an iterator of batches.\n",
        "\n",
        "This returns 64 lines of 37 predictions. Each corresponding to a dog breed and adding up to 1."
      ]
    },
    {
      "cell_type": "markdown",
      "id": "712d8a5c-e7fe-4411-ab10-af50d78ff283",
      "metadata": {
        "id": "712d8a5c-e7fe-4411-ab10-af50d78ff283"
      },
      "source": [
        "## Softmax"
      ]
    },
    {
      "cell_type": "markdown",
      "id": "d9b7cc5e-2568-4ee0-b369-23126c08d72a",
      "metadata": {
        "id": "d9b7cc5e-2568-4ee0-b369-23126c08d72a"
      },
      "source": [
        "Classifications are passed through a _softmax_ activation function to make sure they range from 0 to 1. It is similar to a _simoid_ function."
      ]
    },
    {
      "cell_type": "code",
      "execution_count": 35,
      "id": "37b2d41c-6819-4808-9fae-97cc8eca25c9",
      "metadata": {
        "id": "37b2d41c-6819-4808-9fae-97cc8eca25c9",
        "outputId": "aa989c9b-e2dd-49f4-a1e4-4f56c07e6bc7",
        "colab": {
          "base_uri": "https://localhost:8080/",
          "height": 268
        }
      },
      "outputs": [
        {
          "output_type": "display_data",
          "data": {
            "text/plain": [
              "<Figure size 432x288 with 1 Axes>"
            ],
            "image/png": "[encoded data removed]"
          },
          "metadata": {
            "needs_background": "light"
          }
        }
      ],
      "source": [
        "plot_function(torch.sigmoid, min=-4,max=4)"
      ]
    },
    {
      "cell_type": "markdown",
      "id": "1da22be1-9f2f-4139-a131-a970cbe8b75d",
      "metadata": {
        "id": "1da22be1-9f2f-4139-a131-a970cbe8b75d"
      },
      "source": [
        "We need to pass our activations for each category through the softmax function to ensure they add up to 1"
      ]
    },
    {
      "cell_type": "code",
      "execution_count": 36,
      "id": "90c182cb-6e07-425d-9a03-4226355820a9",
      "metadata": {
        "id": "90c182cb-6e07-425d-9a03-4226355820a9",
        "outputId": "02f11308-7706-4a57-ac0d-4eac848f6b01",
        "colab": {
          "base_uri": "https://localhost:8080/"
        }
      },
      "outputs": [
        {
          "output_type": "execute_result",
          "data": {
            "text/plain": [
              "tensor([[ 0.6734,  0.2576],\n",
              "        [ 0.4689,  0.4607],\n",
              "        [-2.2457, -0.3727],\n",
              "        [ 4.4164, -1.2760],\n",
              "        [ 0.9233,  0.5347],\n",
              "        [ 1.0698,  1.6187]])"
            ]
          },
          "metadata": {},
          "execution_count": 36
        }
      ],
      "source": [
        "# Activations example\n",
        "# Create a random tensor with two categories\n",
        "torch.random.manual_seed(42)\n",
        "acts = torch.randn((6,2))*2\n",
        "acts"
      ]
    },
    {
      "cell_type": "markdown",
      "id": "3835a1e9-2f5c-4fbf-9328-6563f176f239",
      "metadata": {
        "id": "3835a1e9-2f5c-4fbf-9328-6563f176f239"
      },
      "source": [
        "If we take the sigmoid directly, the probabilities of the two categories for each predictino will not add up to 1."
      ]
    },
    {
      "cell_type": "code",
      "execution_count": 37,
      "id": "01260e01-8caa-4ec1-b0d6-a21578d4f68f",
      "metadata": {
        "id": "01260e01-8caa-4ec1-b0d6-a21578d4f68f",
        "outputId": "7621e0f4-5864-4422-8992-3027752293f8",
        "colab": {
          "base_uri": "https://localhost:8080/"
        }
      },
      "outputs": [
        {
          "output_type": "execute_result",
          "data": {
            "text/plain": [
              "(tensor([[0.6623, 0.5641],\n",
              "         [0.6151, 0.6132],\n",
              "         [0.0957, 0.4079],\n",
              "         [0.9881, 0.2182],\n",
              "         [0.7157, 0.6306],\n",
              "         [0.7446, 0.8346]]),\n",
              " tensor([3.8215, 3.2686]),\n",
              " tensor([1.2263, 1.2283, 0.5036, 1.2063, 1.3463, 1.5792]),\n",
              " tensor(7.0900))"
            ]
          },
          "metadata": {},
          "execution_count": 37
        }
      ],
      "source": [
        "acts.sigmoid(), acts.sigmoid().sum(dim=0),acts.sigmoid().sum(dim=1),acts.sigmoid().sum()"
      ]
    },
    {
      "cell_type": "markdown",
      "id": "9a34d6e3-ad59-4d41-a346-f86e4bbf0f86",
      "metadata": {
        "id": "9a34d6e3-ad59-4d41-a346-f86e4bbf0f86"
      },
      "source": [
        "In the case of binary classification, we can apply the _sigmoid_ function to the difference between the results. \n",
        "\n",
        "This would indicate how sure we are that it is the first item as compared to the second item."
      ]
    },
    {
      "cell_type": "code",
      "execution_count": 38,
      "id": "a0996c64-238b-4da5-93ec-d03f8311be6d",
      "metadata": {
        "id": "a0996c64-238b-4da5-93ec-d03f8311be6d",
        "outputId": "2faa083b-0d06-447b-b5b8-354139244a5e",
        "colab": {
          "base_uri": "https://localhost:8080/"
        }
      },
      "outputs": [
        {
          "output_type": "execute_result",
          "data": {
            "text/plain": [
              "tensor([0.6025, 0.5021, 0.1332, 0.9966, 0.5959, 0.3661])"
            ]
          },
          "metadata": {},
          "execution_count": 38
        }
      ],
      "source": [
        "(acts[:,0]-acts[:,1]).sigmoid()"
      ]
    },
    {
      "cell_type": "markdown",
      "source": [
        "This can be applied to more than two columns through the use of the _softmax_ function."
      ],
      "metadata": {
        "id": "mV0wociooMNY"
      },
      "id": "mV0wociooMNY"
    },
    {
      "cell_type": "code",
      "source": [
        "def softmax(x): return exp(x)/exp(x).sum(dim=1, keepdim=True)"
      ],
      "metadata": {
        "id": "gg_gOuRloRNK"
      },
      "id": "gg_gOuRloRNK",
      "execution_count": 39,
      "outputs": []
    },
    {
      "cell_type": "markdown",
      "source": [
        "When applied to the set of predictions (row-wise) it will produce the same results as the _sigmoid_ function."
      ],
      "metadata": {
        "id": "MFiGKXDpopmL"
      },
      "id": "MFiGKXDpopmL"
    },
    {
      "cell_type": "code",
      "source": [
        "sm_acts = torch.softmax(acts, dim=1)\n",
        "sm_acts"
      ],
      "metadata": {
        "id": "52Xv01Hxoobh",
        "outputId": "a8873b36-24de-477c-fcba-a115e40e112d",
        "colab": {
          "base_uri": "https://localhost:8080/"
        }
      },
      "id": "52Xv01Hxoobh",
      "execution_count": 40,
      "outputs": [
        {
          "output_type": "execute_result",
          "data": {
            "text/plain": [
              "tensor([[0.6025, 0.3975],\n",
              "        [0.5021, 0.4979],\n",
              "        [0.1332, 0.8668],\n",
              "        [0.9966, 0.0034],\n",
              "        [0.5959, 0.4041],\n",
              "        [0.3661, 0.6339]])"
            ]
          },
          "metadata": {},
          "execution_count": 40
        }
      ]
    },
    {
      "cell_type": "markdown",
      "source": [
        "_Softmax_ is the multi-category equivalent of _sigmoid_"
      ],
      "metadata": {
        "id": "-cJ8A00ypPyX"
      },
      "id": "-cJ8A00ypPyX"
    },
    {
      "cell_type": "markdown",
      "source": [
        "## Log Likelihood"
      ],
      "metadata": {
        "id": "X0UasdPjqSPJ"
      },
      "id": "X0UasdPjqSPJ"
    },
    {
      "cell_type": "code",
      "source": [
        "# Create targets for acts example\n",
        "targ = tensor([0,1,0,1,1,0])"
      ],
      "metadata": {
        "id": "0-Cl8sVtpTEG"
      },
      "id": "0-Cl8sVtpTEG",
      "execution_count": 41,
      "outputs": []
    },
    {
      "cell_type": "code",
      "source": [
        "# Activations\n",
        "sm_acts"
      ],
      "metadata": {
        "id": "7WoqFICcq05F",
        "outputId": "f4a2acff-eb2b-4618-e868-67fc8f1d13aa",
        "colab": {
          "base_uri": "https://localhost:8080/"
        }
      },
      "id": "7WoqFICcq05F",
      "execution_count": 42,
      "outputs": [
        {
          "output_type": "execute_result",
          "data": {
            "text/plain": [
              "tensor([[0.6025, 0.3975],\n",
              "        [0.5021, 0.4979],\n",
              "        [0.1332, 0.8668],\n",
              "        [0.9966, 0.0034],\n",
              "        [0.5959, 0.4041],\n",
              "        [0.3661, 0.6339]])"
            ]
          },
          "metadata": {},
          "execution_count": 42
        }
      ]
    },
    {
      "cell_type": "code",
      "source": [
        "# Select the correct column for each item\n",
        "idx = range(6) # Create an index to select the row\n",
        "sm_acts[idx,targ]\n"
      ],
      "metadata": {
        "id": "fgC3FJVYrBNb",
        "outputId": "f53580d1-e588-40d6-9093-24f3416d3998",
        "colab": {
          "base_uri": "https://localhost:8080/"
        }
      },
      "id": "fgC3FJVYrBNb",
      "execution_count": 43,
      "outputs": [
        {
          "output_type": "execute_result",
          "data": {
            "text/plain": [
              "tensor([0.6025, 0.4979, 0.1332, 0.0034, 0.4041, 0.3661])"
            ]
          },
          "metadata": {},
          "execution_count": 43
        }
      ]
    },
    {
      "cell_type": "markdown",
      "source": [
        "The table below shows all columns in the same table"
      ],
      "metadata": {
        "id": "UqR7VK26sap5"
      },
      "id": "UqR7VK26sap5"
    },
    {
      "cell_type": "code",
      "source": [
        "df = pd.DataFrame({'cat1':sm_acts[:,0],\n",
        "              'cat2':sm_acts[:,1],\n",
        "              'idx':idx,\n",
        "              'targ':targ,\n",
        "              'result':sm_acts[idx,targ]})\n",
        "df"
      ],
      "metadata": {
        "id": "P6w_MUOlrBJ2",
        "outputId": "3eb87091-012c-4906-f2b8-86ae36194551",
        "colab": {
          "base_uri": "https://localhost:8080/",
          "height": 238
        }
      },
      "id": "P6w_MUOlrBJ2",
      "execution_count": 62,
      "outputs": [
        {
          "output_type": "execute_result",
          "data": {
            "text/plain": [
              "       cat1      cat2  idx  targ    result\n",
              "0  0.602469  0.397531    0     0  0.602469\n",
              "1  0.502065  0.497935    1     1  0.497935\n",
              "2  0.133188  0.866811    2     0  0.133188\n",
              "3  0.996640  0.003360    3     1  0.003360\n",
              "4  0.595949  0.404051    4     1  0.404051\n",
              "5  0.366118  0.633882    5     0  0.366118"
            ],
            "text/html": [
              "\n",
              "  <div id=\"df-78b2f179-6536-4b9d-9a4c-3e8926da3a17\">\n",
              "    <div class=\"colab-df-container\">\n",
              "      <div>\n",
              "<style scoped>\n",
              "    .dataframe tbody tr th:only-of-type {\n",
              "        vertical-align: middle;\n",
              "    }\n",
              "\n",
              "    .dataframe tbody tr th {\n",
              "        vertical-align: top;\n",
              "    }\n",
              "\n",
              "    .dataframe thead th {\n",
              "        text-align: right;\n",
              "    }\n",
              "</style>\n",
              "<table border=\"1\" class=\"dataframe\">\n",
              "  <thead>\n",
              "    <tr style=\"text-align: right;\">\n",
              "      <th></th>\n",
              "      <th>cat1</th>\n",
              "      <th>cat2</th>\n",
              "      <th>idx</th>\n",
              "      <th>targ</th>\n",
              "      <th>result</th>\n",
              "    </tr>\n",
              "  </thead>\n",
              "  <tbody>\n",
              "    <tr>\n",
              "      <th>0</th>\n",
              "      <td>0.602469</td>\n",
              "      <td>0.397531</td>\n",
              "      <td>0</td>\n",
              "      <td>0</td>\n",
              "      <td>0.602469</td>\n",
              "    </tr>\n",
              "    <tr>\n",
              "      <th>1</th>\n",
              "      <td>0.502065</td>\n",
              "      <td>0.497935</td>\n",
              "      <td>1</td>\n",
              "      <td>1</td>\n",
              "      <td>0.497935</td>\n",
              "    </tr>\n",
              "    <tr>\n",
              "      <th>2</th>\n",
              "      <td>0.133188</td>\n",
              "      <td>0.866811</td>\n",
              "      <td>2</td>\n",
              "      <td>0</td>\n",
              "      <td>0.133188</td>\n",
              "    </tr>\n",
              "    <tr>\n",
              "      <th>3</th>\n",
              "      <td>0.996640</td>\n",
              "      <td>0.003360</td>\n",
              "      <td>3</td>\n",
              "      <td>1</td>\n",
              "      <td>0.003360</td>\n",
              "    </tr>\n",
              "    <tr>\n",
              "      <th>4</th>\n",
              "      <td>0.595949</td>\n",
              "      <td>0.404051</td>\n",
              "      <td>4</td>\n",
              "      <td>1</td>\n",
              "      <td>0.404051</td>\n",
              "    </tr>\n",
              "    <tr>\n",
              "      <th>5</th>\n",
              "      <td>0.366118</td>\n",
              "      <td>0.633882</td>\n",
              "      <td>5</td>\n",
              "      <td>0</td>\n",
              "      <td>0.366118</td>\n",
              "    </tr>\n",
              "  </tbody>\n",
              "</table>\n",
              "</div>\n",
              "      <button class=\"colab-df-convert\" onclick=\"convertToInteractive('df-78b2f179-6536-4b9d-9a4c-3e8926da3a17')\"\n",
              "              title=\"Convert this dataframe to an interactive table.\"\n",
              "              style=\"display:none;\">\n",
              "        \n",
              "  <svg xmlns=\"http://www.w3.org/2000/svg\" height=\"24px\"viewBox=\"0 0 24 24\"\n",
              "       width=\"24px\">\n",
              "    <path d=\"M0 0h24v24H0V0z\" fill=\"none\"/>\n",
              "    <path d=\"M18.56 5.44l.94 2.06.94-2.06 2.06-.94-2.06-.94-.94-2.06-.94 2.06-2.06.94zm-11 1L8.5 8.5l.94-2.06 2.06-.94-2.06-.94L8.5 2.5l-.94 2.06-2.06.94zm10 10l.94 2.06.94-2.06 2.06-.94-2.06-.94-.94-2.06-.94 2.06-2.06.94z\"/><path d=\"M17.41 7.96l-1.37-1.37c-.4-.4-.92-.59-1.43-.59-.52 0-1.04.2-1.43.59L10.3 9.45l-7.72 7.72c-.78.78-.78 2.05 0 2.83L4 21.41c.39.39.9.59 1.41.59.51 0 1.02-.2 1.41-.59l7.78-7.78 2.81-2.81c.8-.78.8-2.07 0-2.86zM5.41 20L4 18.59l7.72-7.72 1.47 1.35L5.41 20z\"/>\n",
              "  </svg>\n",
              "      </button>\n",
              "      \n",
              "  <style>\n",
              "    .colab-df-container {\n",
              "      display:flex;\n",
              "      flex-wrap:wrap;\n",
              "      gap: 12px;\n",
              "    }\n",
              "\n",
              "    .colab-df-convert {\n",
              "      background-color: #E8F0FE;\n",
              "      border: none;\n",
              "      border-radius: 50%;\n",
              "      cursor: pointer;\n",
              "      display: none;\n",
              "      fill: #1967D2;\n",
              "      height: 32px;\n",
              "      padding: 0 0 0 0;\n",
              "      width: 32px;\n",
              "    }\n",
              "\n",
              "    .colab-df-convert:hover {\n",
              "      background-color: #E2EBFA;\n",
              "      box-shadow: 0px 1px 2px rgba(60, 64, 67, 0.3), 0px 1px 3px 1px rgba(60, 64, 67, 0.15);\n",
              "      fill: #174EA6;\n",
              "    }\n",
              "\n",
              "    [theme=dark] .colab-df-convert {\n",
              "      background-color: #3B4455;\n",
              "      fill: #D2E3FC;\n",
              "    }\n",
              "\n",
              "    [theme=dark] .colab-df-convert:hover {\n",
              "      background-color: #434B5C;\n",
              "      box-shadow: 0px 1px 3px 1px rgba(0, 0, 0, 0.15);\n",
              "      filter: drop-shadow(0px 1px 2px rgba(0, 0, 0, 0.3));\n",
              "      fill: #FFFFFF;\n",
              "    }\n",
              "  </style>\n",
              "\n",
              "      <script>\n",
              "        const buttonEl =\n",
              "          document.querySelector('#df-78b2f179-6536-4b9d-9a4c-3e8926da3a17 button.colab-df-convert');\n",
              "        buttonEl.style.display =\n",
              "          google.colab.kernel.accessAllowed ? 'block' : 'none';\n",
              "\n",
              "        async function convertToInteractive(key) {\n",
              "          const element = document.querySelector('#df-78b2f179-6536-4b9d-9a4c-3e8926da3a17');\n",
              "          const dataTable =\n",
              "            await google.colab.kernel.invokeFunction('convertToInteractive',\n",
              "                                                     [key], {});\n",
              "          if (!dataTable) return;\n",
              "\n",
              "          const docLinkHtml = 'Like what you see? Visit the ' +\n",
              "            '<a target=\"_blank\" href=https://colab.research.google.com/notebooks/data_table.ipynb>data table notebook</a>'\n",
              "            + ' to learn more about interactive tables.';\n",
              "          element.innerHTML = '';\n",
              "          dataTable['output_type'] = 'display_data';\n",
              "          await google.colab.output.renderOutput(dataTable, element);\n",
              "          const docLink = document.createElement('div');\n",
              "          docLink.innerHTML = docLinkHtml;\n",
              "          element.appendChild(docLink);\n",
              "        }\n",
              "      </script>\n",
              "    </div>\n",
              "  </div>\n",
              "  "
            ]
          },
          "metadata": {},
          "execution_count": 62
        }
      ]
    },
    {
      "cell_type": "markdown",
      "source": [
        "This can be used with $n$ number of categories."
      ],
      "metadata": {
        "id": "dQNNI_KJs22m"
      },
      "id": "dQNNI_KJs22m"
    },
    {
      "cell_type": "code",
      "source": [
        "torch.random.manual_seed(42)\n",
        "acts2 = torch.randn((6,10))*2\n",
        "sm_acts2 = torch.softmax(acts2,dim=1)\n",
        "targ2 = tensor([8,1,4,3,5,3])"
      ],
      "metadata": {
        "id": "6XxcQGrIrBGa"
      },
      "id": "6XxcQGrIrBGa",
      "execution_count": 45,
      "outputs": []
    },
    {
      "cell_type": "code",
      "source": [
        "cats={f'cat{i+1}':sm_acts2[:,i] for i in range(10)}\n",
        "cats['targ'] = targ2\n",
        "cats['idx'] = idx\n",
        "cats['loss'] = sm_acts2[idx,targ2]\n",
        "\n",
        "pd.DataFrame(cats)"
      ],
      "metadata": {
        "id": "0UTVngLptmOM",
        "outputId": "7f1f1718-37ec-4283-f214-ea1422ee5333",
        "colab": {
          "base_uri": "https://localhost:8080/",
          "height": 238
        }
      },
      "id": "0UTVngLptmOM",
      "execution_count": 46,
      "outputs": [
        {
          "output_type": "execute_result",
          "data": {
            "text/plain": [
              "       cat1      cat2      cat3      cat4      cat5      cat6      cat7  \\\n",
              "0  0.449186  0.186452  0.057688  0.000141  0.036982  0.000806  0.008736   \n",
              "1  0.012639  0.001673  0.006462  0.009051  0.005954  0.127309  0.739784   \n",
              "2  0.002481  0.097686  0.056077  0.325825  0.145965  0.151104  0.038323   \n",
              "3  0.014239  0.131477  0.001477  0.004123  0.015065  0.730577  0.044562   \n",
              "4  0.000866  0.142888  0.003358  0.005862  0.040662  0.027705  0.311409   \n",
              "5  0.778300  0.026240  0.096708  0.028313  0.003726  0.001969  0.006531   \n",
              "\n",
              "       cat8      cat9     cat10  targ  idx      loss  \n",
              "0  0.000385  0.002116  0.257508     8    0  0.002116  \n",
              "1  0.020136  0.010246  0.066747     1    1  0.001673  \n",
              "2  0.163138  0.007113  0.012288     4    2  0.145965  \n",
              "3  0.010075  0.043404  0.005002     3    3  0.004123  \n",
              "4  0.007997  0.351094  0.108160     5    4  0.027705  \n",
              "5  0.026273  0.010321  0.021619     3    5  0.028313  "
            ],
            "text/html": [
              "\n",
              "  <div id=\"df-4bc39a4a-6788-46cc-9d87-f412b1d7c12e\">\n",
              "    <div class=\"colab-df-container\">\n",
              "      <div>\n",
              "<style scoped>\n",
              "    .dataframe tbody tr th:only-of-type {\n",
              "        vertical-align: middle;\n",
              "    }\n",
              "\n",
              "    .dataframe tbody tr th {\n",
              "        vertical-align: top;\n",
              "    }\n",
              "\n",
              "    .dataframe thead th {\n",
              "        text-align: right;\n",
              "    }\n",
              "</style>\n",
              "<table border=\"1\" class=\"dataframe\">\n",
              "  <thead>\n",
              "    <tr style=\"text-align: right;\">\n",
              "      <th></th>\n",
              "      <th>cat1</th>\n",
              "      <th>cat2</th>\n",
              "      <th>cat3</th>\n",
              "      <th>cat4</th>\n",
              "      <th>cat5</th>\n",
              "      <th>cat6</th>\n",
              "      <th>cat7</th>\n",
              "      <th>cat8</th>\n",
              "      <th>cat9</th>\n",
              "      <th>cat10</th>\n",
              "      <th>targ</th>\n",
              "      <th>idx</th>\n",
              "      <th>loss</th>\n",
              "    </tr>\n",
              "  </thead>\n",
              "  <tbody>\n",
              "    <tr>\n",
              "      <th>0</th>\n",
              "      <td>0.449186</td>\n",
              "      <td>0.186452</td>\n",
              "      <td>0.057688</td>\n",
              "      <td>0.000141</td>\n",
              "      <td>0.036982</td>\n",
              "      <td>0.000806</td>\n",
              "      <td>0.008736</td>\n",
              "      <td>0.000385</td>\n",
              "      <td>0.002116</td>\n",
              "      <td>0.257508</td>\n",
              "      <td>8</td>\n",
              "      <td>0</td>\n",
              "      <td>0.002116</td>\n",
              "    </tr>\n",
              "    <tr>\n",
              "      <th>1</th>\n",
              "      <td>0.012639</td>\n",
              "      <td>0.001673</td>\n",
              "      <td>0.006462</td>\n",
              "      <td>0.009051</td>\n",
              "      <td>0.005954</td>\n",
              "      <td>0.127309</td>\n",
              "      <td>0.739784</td>\n",
              "      <td>0.020136</td>\n",
              "      <td>0.010246</td>\n",
              "      <td>0.066747</td>\n",
              "      <td>1</td>\n",
              "      <td>1</td>\n",
              "      <td>0.001673</td>\n",
              "    </tr>\n",
              "    <tr>\n",
              "      <th>2</th>\n",
              "      <td>0.002481</td>\n",
              "      <td>0.097686</td>\n",
              "      <td>0.056077</td>\n",
              "      <td>0.325825</td>\n",
              "      <td>0.145965</td>\n",
              "      <td>0.151104</td>\n",
              "      <td>0.038323</td>\n",
              "      <td>0.163138</td>\n",
              "      <td>0.007113</td>\n",
              "      <td>0.012288</td>\n",
              "      <td>4</td>\n",
              "      <td>2</td>\n",
              "      <td>0.145965</td>\n",
              "    </tr>\n",
              "    <tr>\n",
              "      <th>3</th>\n",
              "      <td>0.014239</td>\n",
              "      <td>0.131477</td>\n",
              "      <td>0.001477</td>\n",
              "      <td>0.004123</td>\n",
              "      <td>0.015065</td>\n",
              "      <td>0.730577</td>\n",
              "      <td>0.044562</td>\n",
              "      <td>0.010075</td>\n",
              "      <td>0.043404</td>\n",
              "      <td>0.005002</td>\n",
              "      <td>3</td>\n",
              "      <td>3</td>\n",
              "      <td>0.004123</td>\n",
              "    </tr>\n",
              "    <tr>\n",
              "      <th>4</th>\n",
              "      <td>0.000866</td>\n",
              "      <td>0.142888</td>\n",
              "      <td>0.003358</td>\n",
              "      <td>0.005862</td>\n",
              "      <td>0.040662</td>\n",
              "      <td>0.027705</td>\n",
              "      <td>0.311409</td>\n",
              "      <td>0.007997</td>\n",
              "      <td>0.351094</td>\n",
              "      <td>0.108160</td>\n",
              "      <td>5</td>\n",
              "      <td>4</td>\n",
              "      <td>0.027705</td>\n",
              "    </tr>\n",
              "    <tr>\n",
              "      <th>5</th>\n",
              "      <td>0.778300</td>\n",
              "      <td>0.026240</td>\n",
              "      <td>0.096708</td>\n",
              "      <td>0.028313</td>\n",
              "      <td>0.003726</td>\n",
              "      <td>0.001969</td>\n",
              "      <td>0.006531</td>\n",
              "      <td>0.026273</td>\n",
              "      <td>0.010321</td>\n",
              "      <td>0.021619</td>\n",
              "      <td>3</td>\n",
              "      <td>5</td>\n",
              "      <td>0.028313</td>\n",
              "    </tr>\n",
              "  </tbody>\n",
              "</table>\n",
              "</div>\n",
              "      <button class=\"colab-df-convert\" onclick=\"convertToInteractive('df-4bc39a4a-6788-46cc-9d87-f412b1d7c12e')\"\n",
              "              title=\"Convert this dataframe to an interactive table.\"\n",
              "              style=\"display:none;\">\n",
              "        \n",
              "  <svg xmlns=\"http://www.w3.org/2000/svg\" height=\"24px\"viewBox=\"0 0 24 24\"\n",
              "       width=\"24px\">\n",
              "    <path d=\"M0 0h24v24H0V0z\" fill=\"none\"/>\n",
              "    <path d=\"M18.56 5.44l.94 2.06.94-2.06 2.06-.94-2.06-.94-.94-2.06-.94 2.06-2.06.94zm-11 1L8.5 8.5l.94-2.06 2.06-.94-2.06-.94L8.5 2.5l-.94 2.06-2.06.94zm10 10l.94 2.06.94-2.06 2.06-.94-2.06-.94-.94-2.06-.94 2.06-2.06.94z\"/><path d=\"M17.41 7.96l-1.37-1.37c-.4-.4-.92-.59-1.43-.59-.52 0-1.04.2-1.43.59L10.3 9.45l-7.72 7.72c-.78.78-.78 2.05 0 2.83L4 21.41c.39.39.9.59 1.41.59.51 0 1.02-.2 1.41-.59l7.78-7.78 2.81-2.81c.8-.78.8-2.07 0-2.86zM5.41 20L4 18.59l7.72-7.72 1.47 1.35L5.41 20z\"/>\n",
              "  </svg>\n",
              "      </button>\n",
              "      \n",
              "  <style>\n",
              "    .colab-df-container {\n",
              "      display:flex;\n",
              "      flex-wrap:wrap;\n",
              "      gap: 12px;\n",
              "    }\n",
              "\n",
              "    .colab-df-convert {\n",
              "      background-color: #E8F0FE;\n",
              "      border: none;\n",
              "      border-radius: 50%;\n",
              "      cursor: pointer;\n",
              "      display: none;\n",
              "      fill: #1967D2;\n",
              "      height: 32px;\n",
              "      padding: 0 0 0 0;\n",
              "      width: 32px;\n",
              "    }\n",
              "\n",
              "    .colab-df-convert:hover {\n",
              "      background-color: #E2EBFA;\n",
              "      box-shadow: 0px 1px 2px rgba(60, 64, 67, 0.3), 0px 1px 3px 1px rgba(60, 64, 67, 0.15);\n",
              "      fill: #174EA6;\n",
              "    }\n",
              "\n",
              "    [theme=dark] .colab-df-convert {\n",
              "      background-color: #3B4455;\n",
              "      fill: #D2E3FC;\n",
              "    }\n",
              "\n",
              "    [theme=dark] .colab-df-convert:hover {\n",
              "      background-color: #434B5C;\n",
              "      box-shadow: 0px 1px 3px 1px rgba(0, 0, 0, 0.15);\n",
              "      filter: drop-shadow(0px 1px 2px rgba(0, 0, 0, 0.3));\n",
              "      fill: #FFFFFF;\n",
              "    }\n",
              "  </style>\n",
              "\n",
              "      <script>\n",
              "        const buttonEl =\n",
              "          document.querySelector('#df-4bc39a4a-6788-46cc-9d87-f412b1d7c12e button.colab-df-convert');\n",
              "        buttonEl.style.display =\n",
              "          google.colab.kernel.accessAllowed ? 'block' : 'none';\n",
              "\n",
              "        async function convertToInteractive(key) {\n",
              "          const element = document.querySelector('#df-4bc39a4a-6788-46cc-9d87-f412b1d7c12e');\n",
              "          const dataTable =\n",
              "            await google.colab.kernel.invokeFunction('convertToInteractive',\n",
              "                                                     [key], {});\n",
              "          if (!dataTable) return;\n",
              "\n",
              "          const docLinkHtml = 'Like what you see? Visit the ' +\n",
              "            '<a target=\"_blank\" href=https://colab.research.google.com/notebooks/data_table.ipynb>data table notebook</a>'\n",
              "            + ' to learn more about interactive tables.';\n",
              "          element.innerHTML = '';\n",
              "          dataTable['output_type'] = 'display_data';\n",
              "          await google.colab.output.renderOutput(dataTable, element);\n",
              "          const docLink = document.createElement('div');\n",
              "          docLink.innerHTML = docLinkHtml;\n",
              "          element.appendChild(docLink);\n",
              "        }\n",
              "      </script>\n",
              "    </div>\n",
              "  </div>\n",
              "  "
            ]
          },
          "metadata": {},
          "execution_count": 46
        }
      ]
    },
    {
      "cell_type": "markdown",
      "source": [
        "We now have a way `sm_acts[idx,targs]` to calculate the loss as long as the the columns add up to one (which they will after the _softmax_ function).\n",
        "\n",
        "By using _softmax_ we are automatically decreasing the activation number for any other column that we have not predicted. This allows us to ignore the any other column than that that was predicted when calculating the loss.\n",
        "\n",
        "This can also be achieved with the _negative loss likelihood_ function available in PyTorch: `nll_loss`"
      ],
      "metadata": {
        "id": "ElpAmljKxpXb"
      },
      "id": "ElpAmljKxpXb"
    },
    {
      "cell_type": "code",
      "source": [
        "-sm_acts[idx,targ]"
      ],
      "metadata": {
        "id": "2bi9dqmnx4kP",
        "outputId": "7f9ce6ba-e087-4c3e-d76e-62d24b985547",
        "colab": {
          "base_uri": "https://localhost:8080/"
        }
      },
      "id": "2bi9dqmnx4kP",
      "execution_count": 47,
      "outputs": [
        {
          "output_type": "execute_result",
          "data": {
            "text/plain": [
              "tensor([-0.6025, -0.4979, -0.1332, -0.0034, -0.4041, -0.3661])"
            ]
          },
          "metadata": {},
          "execution_count": 47
        }
      ]
    },
    {
      "cell_type": "code",
      "source": [
        "F.nll_loss(sm_acts, targ, reduction='none')"
      ],
      "metadata": {
        "id": "u30MX9j_yc9o",
        "outputId": "455e2b2c-ba38-4ee2-cfab-68c5acd8f1e4",
        "colab": {
          "base_uri": "https://localhost:8080/"
        }
      },
      "id": "u30MX9j_yc9o",
      "execution_count": 48,
      "outputs": [
        {
          "output_type": "execute_result",
          "data": {
            "text/plain": [
              "tensor([-0.6025, -0.4979, -0.1332, -0.0034, -0.4041, -0.3661])"
            ]
          },
          "metadata": {},
          "execution_count": 48
        }
      ]
    },
    {
      "cell_type": "markdown",
      "source": [
        "## Taking the log"
      ],
      "metadata": {
        "id": "dLA4t0r2PPc-"
      },
      "id": "dLA4t0r2PPc-"
    },
    {
      "cell_type": "markdown",
      "source": [
        "We have to take the _log_ of _softmax_ as `nll_loss` expects the input to be the -log_ already. \n",
        "\n",
        "`nll_loss` takes the mean of the positive or negative loss of our probabilities. \n",
        "\n",
        "We don't use the _softmax_ function directly as it is limited to results from 0 to 1, making a difference like 0.99 and 0.999 similar for our model while in reality it is 10 times larger.\n",
        "\n",
        "The combination of softmax and then log likelihood is the cross-entropy loss. In PyTorch this is available as `nn.CrossEntropyLoss` which does `log_softmax` and then `nll_loss`. "
      ],
      "metadata": {
        "id": "hLMzJh-aPmgw"
      },
      "id": "hLMzJh-aPmgw"
    },
    {
      "cell_type": "code",
      "source": [
        "plot_function(torch.log, min=0,max=1, ty='log(x)', tx='x')"
      ],
      "metadata": {
        "id": "P1TuVf54Z_dV",
        "outputId": "a3db9d64-86f4-4af5-c639-8cbc43abc74d",
        "colab": {
          "base_uri": "https://localhost:8080/",
          "height": 285
        }
      },
      "id": "P1TuVf54Z_dV",
      "execution_count": 56,
      "outputs": [
        {
          "output_type": "display_data",
          "data": {
            "text/plain": [
              "<Figure size 432x288 with 1 Axes>"
            ],
            "image/png": "[encoded data removed]"
          },
          "metadata": {
            "needs_background": "light"
          }
        }
      ]
    },
    {
      "cell_type": "code",
      "source": [
        "plot_function(lambda x: -1*torch.log(x), min=0,max=1, tx='x', ty='- log(x)', title = 'Log Loss when true label = 1')"
      ],
      "metadata": {
        "id": "RQsKuk1QaErp",
        "outputId": "e394e796-78b1-42ee-9bd2-0c6255d89327",
        "colab": {
          "base_uri": "https://localhost:8080/",
          "height": 302
        }
      },
      "id": "RQsKuk1QaErp",
      "execution_count": 57,
      "outputs": [
        {
          "output_type": "display_data",
          "data": {
            "text/plain": [
              "<Figure size 432x288 with 1 Axes>"
            ],
            "image/png": "[encoded data removed]"
          },
          "metadata": {
            "needs_background": "light"
          }
        }
      ]
    },
    {
      "cell_type": "code",
      "source": [
        "# Class form of CrossEntropyLoss\n",
        "loss_func = nn.CrossEntropyLoss()"
      ],
      "metadata": {
        "id": "PsBgsWlxPWLv"
      },
      "id": "PsBgsWlxPWLv",
      "execution_count": 51,
      "outputs": []
    },
    {
      "cell_type": "code",
      "source": [
        "loss_func(acts, targ)"
      ],
      "metadata": {
        "id": "I-Q_4WCjXe4W",
        "outputId": "8c8a8556-a738-48a1-ba4a-8201eb329d2f",
        "colab": {
          "base_uri": "https://localhost:8080/"
        }
      },
      "id": "I-Q_4WCjXe4W",
      "execution_count": 52,
      "outputs": [
        {
          "output_type": "execute_result",
          "data": {
            "text/plain": [
              "tensor(1.8045)"
            ]
          },
          "metadata": {},
          "execution_count": 52
        }
      ]
    },
    {
      "cell_type": "code",
      "source": [
        "# Function form of CrossEntropyLoss\n",
        "F.cross_entropy(acts, targ)"
      ],
      "metadata": {
        "id": "ph_pT1eZXw4I",
        "outputId": "3a2b876d-e1ad-46be-89bf-bf3901412953",
        "colab": {
          "base_uri": "https://localhost:8080/"
        }
      },
      "id": "ph_pT1eZXw4I",
      "execution_count": 53,
      "outputs": [
        {
          "output_type": "execute_result",
          "data": {
            "text/plain": [
              "tensor(1.8045)"
            ]
          },
          "metadata": {},
          "execution_count": 53
        }
      ]
    },
    {
      "cell_type": "markdown",
      "source": [
        "Python loss functions take the mean loss of all items. To disable this we can pass `'none'` to the `reduction` parameter."
      ],
      "metadata": {
        "id": "MzqNA6rcYYFC"
      },
      "id": "MzqNA6rcYYFC"
    },
    {
      "cell_type": "code",
      "source": [
        "nn.CrossEntropyLoss(reduction='none')(acts, targ)"
      ],
      "metadata": {
        "id": "shT1cAZvYWFC",
        "outputId": "2b833186-bc61-46a2-b66a-3ba666747678",
        "colab": {
          "base_uri": "https://localhost:8080/"
        }
      },
      "id": "shT1cAZvYWFC",
      "execution_count": 55,
      "outputs": [
        {
          "output_type": "execute_result",
          "data": {
            "text/plain": [
              "tensor([0.5067, 0.6973, 2.0160, 5.6958, 0.9062, 1.0048])"
            ]
          },
          "metadata": {},
          "execution_count": 55
        }
      ]
    },
    {
      "cell_type": "code",
      "source": [
        "df['loss'] = -torch.log(tensor(df['result']))\n",
        "df"
      ],
      "metadata": {
        "id": "77zBvfunaKXy",
        "outputId": "28b5361b-6e39-42e5-8e82-52cf817da69f",
        "colab": {
          "base_uri": "https://localhost:8080/",
          "height": 238
        }
      },
      "id": "77zBvfunaKXy",
      "execution_count": 63,
      "outputs": [
        {
          "output_type": "execute_result",
          "data": {
            "text/plain": [
              "       cat1      cat2  idx  targ    result      loss\n",
              "0  0.602469  0.397531    0     0  0.602469  0.506720\n",
              "1  0.502065  0.497935    1     1  0.497935  0.697285\n",
              "2  0.133188  0.866811    2     0  0.133188  2.015990\n",
              "3  0.996640  0.003360    3     1  0.003360  5.695763\n",
              "4  0.595949  0.404051    4     1  0.404051  0.906213\n",
              "5  0.366118  0.633882    5     0  0.366118  1.004798"
            ],
            "text/html": [
              "\n",
              "  <div id=\"df-05509ba6-3068-4bae-9a8a-698103d3fe85\">\n",
              "    <div class=\"colab-df-container\">\n",
              "      <div>\n",
              "<style scoped>\n",
              "    .dataframe tbody tr th:only-of-type {\n",
              "        vertical-align: middle;\n",
              "    }\n",
              "\n",
              "    .dataframe tbody tr th {\n",
              "        vertical-align: top;\n",
              "    }\n",
              "\n",
              "    .dataframe thead th {\n",
              "        text-align: right;\n",
              "    }\n",
              "</style>\n",
              "<table border=\"1\" class=\"dataframe\">\n",
              "  <thead>\n",
              "    <tr style=\"text-align: right;\">\n",
              "      <th></th>\n",
              "      <th>cat1</th>\n",
              "      <th>cat2</th>\n",
              "      <th>idx</th>\n",
              "      <th>targ</th>\n",
              "      <th>result</th>\n",
              "      <th>loss</th>\n",
              "    </tr>\n",
              "  </thead>\n",
              "  <tbody>\n",
              "    <tr>\n",
              "      <th>0</th>\n",
              "      <td>0.602469</td>\n",
              "      <td>0.397531</td>\n",
              "      <td>0</td>\n",
              "      <td>0</td>\n",
              "      <td>0.602469</td>\n",
              "      <td>0.506720</td>\n",
              "    </tr>\n",
              "    <tr>\n",
              "      <th>1</th>\n",
              "      <td>0.502065</td>\n",
              "      <td>0.497935</td>\n",
              "      <td>1</td>\n",
              "      <td>1</td>\n",
              "      <td>0.497935</td>\n",
              "      <td>0.697285</td>\n",
              "    </tr>\n",
              "    <tr>\n",
              "      <th>2</th>\n",
              "      <td>0.133188</td>\n",
              "      <td>0.866811</td>\n",
              "      <td>2</td>\n",
              "      <td>0</td>\n",
              "      <td>0.133188</td>\n",
              "      <td>2.015990</td>\n",
              "    </tr>\n",
              "    <tr>\n",
              "      <th>3</th>\n",
              "      <td>0.996640</td>\n",
              "      <td>0.003360</td>\n",
              "      <td>3</td>\n",
              "      <td>1</td>\n",
              "      <td>0.003360</td>\n",
              "      <td>5.695763</td>\n",
              "    </tr>\n",
              "    <tr>\n",
              "      <th>4</th>\n",
              "      <td>0.595949</td>\n",
              "      <td>0.404051</td>\n",
              "      <td>4</td>\n",
              "      <td>1</td>\n",
              "      <td>0.404051</td>\n",
              "      <td>0.906213</td>\n",
              "    </tr>\n",
              "    <tr>\n",
              "      <th>5</th>\n",
              "      <td>0.366118</td>\n",
              "      <td>0.633882</td>\n",
              "      <td>5</td>\n",
              "      <td>0</td>\n",
              "      <td>0.366118</td>\n",
              "      <td>1.004798</td>\n",
              "    </tr>\n",
              "  </tbody>\n",
              "</table>\n",
              "</div>\n",
              "      <button class=\"colab-df-convert\" onclick=\"convertToInteractive('df-05509ba6-3068-4bae-9a8a-698103d3fe85')\"\n",
              "              title=\"Convert this dataframe to an interactive table.\"\n",
              "              style=\"display:none;\">\n",
              "        \n",
              "  <svg xmlns=\"http://www.w3.org/2000/svg\" height=\"24px\"viewBox=\"0 0 24 24\"\n",
              "       width=\"24px\">\n",
              "    <path d=\"M0 0h24v24H0V0z\" fill=\"none\"/>\n",
              "    <path d=\"M18.56 5.44l.94 2.06.94-2.06 2.06-.94-2.06-.94-.94-2.06-.94 2.06-2.06.94zm-11 1L8.5 8.5l.94-2.06 2.06-.94-2.06-.94L8.5 2.5l-.94 2.06-2.06.94zm10 10l.94 2.06.94-2.06 2.06-.94-2.06-.94-.94-2.06-.94 2.06-2.06.94z\"/><path d=\"M17.41 7.96l-1.37-1.37c-.4-.4-.92-.59-1.43-.59-.52 0-1.04.2-1.43.59L10.3 9.45l-7.72 7.72c-.78.78-.78 2.05 0 2.83L4 21.41c.39.39.9.59 1.41.59.51 0 1.02-.2 1.41-.59l7.78-7.78 2.81-2.81c.8-.78.8-2.07 0-2.86zM5.41 20L4 18.59l7.72-7.72 1.47 1.35L5.41 20z\"/>\n",
              "  </svg>\n",
              "      </button>\n",
              "      \n",
              "  <style>\n",
              "    .colab-df-container {\n",
              "      display:flex;\n",
              "      flex-wrap:wrap;\n",
              "      gap: 12px;\n",
              "    }\n",
              "\n",
              "    .colab-df-convert {\n",
              "      background-color: #E8F0FE;\n",
              "      border: none;\n",
              "      border-radius: 50%;\n",
              "      cursor: pointer;\n",
              "      display: none;\n",
              "      fill: #1967D2;\n",
              "      height: 32px;\n",
              "      padding: 0 0 0 0;\n",
              "      width: 32px;\n",
              "    }\n",
              "\n",
              "    .colab-df-convert:hover {\n",
              "      background-color: #E2EBFA;\n",
              "      box-shadow: 0px 1px 2px rgba(60, 64, 67, 0.3), 0px 1px 3px 1px rgba(60, 64, 67, 0.15);\n",
              "      fill: #174EA6;\n",
              "    }\n",
              "\n",
              "    [theme=dark] .colab-df-convert {\n",
              "      background-color: #3B4455;\n",
              "      fill: #D2E3FC;\n",
              "    }\n",
              "\n",
              "    [theme=dark] .colab-df-convert:hover {\n",
              "      background-color: #434B5C;\n",
              "      box-shadow: 0px 1px 3px 1px rgba(0, 0, 0, 0.15);\n",
              "      filter: drop-shadow(0px 1px 2px rgba(0, 0, 0, 0.3));\n",
              "      fill: #FFFFFF;\n",
              "    }\n",
              "  </style>\n",
              "\n",
              "      <script>\n",
              "        const buttonEl =\n",
              "          document.querySelector('#df-05509ba6-3068-4bae-9a8a-698103d3fe85 button.colab-df-convert');\n",
              "        buttonEl.style.display =\n",
              "          google.colab.kernel.accessAllowed ? 'block' : 'none';\n",
              "\n",
              "        async function convertToInteractive(key) {\n",
              "          const element = document.querySelector('#df-05509ba6-3068-4bae-9a8a-698103d3fe85');\n",
              "          const dataTable =\n",
              "            await google.colab.kernel.invokeFunction('convertToInteractive',\n",
              "                                                     [key], {});\n",
              "          if (!dataTable) return;\n",
              "\n",
              "          const docLinkHtml = 'Like what you see? Visit the ' +\n",
              "            '<a target=\"_blank\" href=https://colab.research.google.com/notebooks/data_table.ipynb>data table notebook</a>'\n",
              "            + ' to learn more about interactive tables.';\n",
              "          element.innerHTML = '';\n",
              "          dataTable['output_type'] = 'display_data';\n",
              "          await google.colab.output.renderOutput(dataTable, element);\n",
              "          const docLink = document.createElement('div');\n",
              "          docLink.innerHTML = docLinkHtml;\n",
              "          element.appendChild(docLink);\n",
              "        }\n",
              "      </script>\n",
              "    </div>\n",
              "  </div>\n",
              "  "
            ]
          },
          "metadata": {},
          "execution_count": 63
        }
      ]
    },
    {
      "cell_type": "markdown",
      "source": [
        "# Model Interpretation"
      ],
      "metadata": {
        "id": "1FYIB2TmcCxY"
      },
      "id": "1FYIB2TmcCxY"
    },
    {
      "cell_type": "code",
      "source": [],
      "metadata": {
        "id": "Mi32sm6XcKX3"
      },
      "id": "Mi32sm6XcKX3",
      "execution_count": null,
      "outputs": []
    }
  ],
  "metadata": {
    "kernelspec": {
      "display_name": "Python 3 (ipykernel)",
      "language": "python",
      "name": "python3"
    },
    "language_info": {
      "codemirror_mode": {
        "name": "ipython",
        "version": 3
      },
      "file_extension": ".py",
      "mimetype": "text/x-python",
      "name": "python",
      "nbconvert_exporter": "python",
      "pygments_lexer": "ipython3",
      "version": "3.7.13"
    },
    "colab": {
      "provenance": [],
      "toc_visible": true,
      "include_colab_link": true
    },
    "accelerator": "GPU",
    "widgets": {
      "application/vnd.jupyter.widget-state+json": {
        "a4fe23c7da2945cf9e4827245891caa2": {
          "model_module": "@jupyter-widgets/controls",
          "model_name": "HBoxModel",
          "model_module_version": "1.5.0",
          "state": {
            "_dom_classes": [],
            "_model_module": "@jupyter-widgets/controls",
            "_model_module_version": "1.5.0",
            "_model_name": "HBoxModel",
            "_view_count": null,
            "_view_module": "@jupyter-widgets/controls",
            "_view_module_version": "1.5.0",
            "_view_name": "HBoxView",
            "box_style": "",
            "children": [
              "IPY_MODEL_ca3158c38a6b43d79e2827ff888417b4",
              "IPY_MODEL_599b2a3a826a406896cc540e1220efd0",
              "IPY_MODEL_332efbe3fbf042039ddd7c9074ad20d6"
            ],
            "layout": "IPY_MODEL_b07aad445c2b4d629fc7b332c166d28b"
          }
        },
        "ca3158c38a6b43d79e2827ff888417b4": {
          "model_module": "@jupyter-widgets/controls",
          "model_name": "HTMLModel",
          "model_module_version": "1.5.0",
          "state": {
            "_dom_classes": [],
            "_model_module": "@jupyter-widgets/controls",
            "_model_module_version": "1.5.0",
            "_model_name": "HTMLModel",
            "_view_count": null,
            "_view_module": "@jupyter-widgets/controls",
            "_view_module_version": "1.5.0",
            "_view_name": "HTMLView",
            "description": "",
            "description_tooltip": null,
            "layout": "IPY_MODEL_fefc521fc7f24cb7821a959624d7bb48",
            "placeholder": "​",
            "style": "IPY_MODEL_a63c822a68b94ef194612e985e394570",
            "value": "100%"
          }
        },
        "599b2a3a826a406896cc540e1220efd0": {
          "model_module": "@jupyter-widgets/controls",
          "model_name": "FloatProgressModel",
          "model_module_version": "1.5.0",
          "state": {
            "_dom_classes": [],
            "_model_module": "@jupyter-widgets/controls",
            "_model_module_version": "1.5.0",
            "_model_name": "FloatProgressModel",
            "_view_count": null,
            "_view_module": "@jupyter-widgets/controls",
            "_view_module_version": "1.5.0",
            "_view_name": "ProgressView",
            "bar_style": "success",
            "description": "",
            "description_tooltip": null,
            "layout": "IPY_MODEL_267e6ce201f2406486b1f88329a3c56d",
            "max": 87319819,
            "min": 0,
            "orientation": "horizontal",
            "style": "IPY_MODEL_fe78c7d81bea4a4f88ca367585e99063",
            "value": 87319819
          }
        },
        "332efbe3fbf042039ddd7c9074ad20d6": {
          "model_module": "@jupyter-widgets/controls",
          "model_name": "HTMLModel",
          "model_module_version": "1.5.0",
          "state": {
            "_dom_classes": [],
            "_model_module": "@jupyter-widgets/controls",
            "_model_module_version": "1.5.0",
            "_model_name": "HTMLModel",
            "_view_count": null,
            "_view_module": "@jupyter-widgets/controls",
            "_view_module_version": "1.5.0",
            "_view_name": "HTMLView",
            "description": "",
            "description_tooltip": null,
            "layout": "IPY_MODEL_ffa986ef7a2b453191f92d25f674744a",
            "placeholder": "​",
            "style": "IPY_MODEL_16d2630f5735432e9cb74c591b4d7de7",
            "value": " 83.3M/83.3M [00:00&lt;00:00, 225MB/s]"
          }
        },
        "b07aad445c2b4d629fc7b332c166d28b": {
          "model_module": "@jupyter-widgets/base",
          "model_name": "LayoutModel",
          "model_module_version": "1.2.0",
          "state": {
            "_model_module": "@jupyter-widgets/base",
            "_model_module_version": "1.2.0",
            "_model_name": "LayoutModel",
            "_view_count": null,
            "_view_module": "@jupyter-widgets/base",
            "_view_module_version": "1.2.0",
            "_view_name": "LayoutView",
            "align_content": null,
            "align_items": null,
            "align_self": null,
            "border": null,
            "bottom": null,
            "display": null,
            "flex": null,
            "flex_flow": null,
            "grid_area": null,
            "grid_auto_columns": null,
            "grid_auto_flow": null,
            "grid_auto_rows": null,
            "grid_column": null,
            "grid_gap": null,
            "grid_row": null,
            "grid_template_areas": null,
            "grid_template_columns": null,
            "grid_template_rows": null,
            "height": null,
            "justify_content": null,
            "justify_items": null,
            "left": null,
            "margin": null,
            "max_height": null,
            "max_width": null,
            "min_height": null,
            "min_width": null,
            "object_fit": null,
            "object_position": null,
            "order": null,
            "overflow": null,
            "overflow_x": null,
            "overflow_y": null,
            "padding": null,
            "right": null,
            "top": null,
            "visibility": null,
            "width": null
          }
        },
        "fefc521fc7f24cb7821a959624d7bb48": {
          "model_module": "@jupyter-widgets/base",
          "model_name": "LayoutModel",
          "model_module_version": "1.2.0",
          "state": {
            "_model_module": "@jupyter-widgets/base",
            "_model_module_version": "1.2.0",
            "_model_name": "LayoutModel",
            "_view_count": null,
            "_view_module": "@jupyter-widgets/base",
            "_view_module_version": "1.2.0",
            "_view_name": "LayoutView",
            "align_content": null,
            "align_items": null,
            "align_self": null,
            "border": null,
            "bottom": null,
            "display": null,
            "flex": null,
            "flex_flow": null,
            "grid_area": null,
            "grid_auto_columns": null,
            "grid_auto_flow": null,
            "grid_auto_rows": null,
            "grid_column": null,
            "grid_gap": null,
            "grid_row": null,
            "grid_template_areas": null,
            "grid_template_columns": null,
            "grid_template_rows": null,
            "height": null,
            "justify_content": null,
            "justify_items": null,
            "left": null,
            "margin": null,
            "max_height": null,
            "max_width": null,
            "min_height": null,
            "min_width": null,
            "object_fit": null,
            "object_position": null,
            "order": null,
            "overflow": null,
            "overflow_x": null,
            "overflow_y": null,
            "padding": null,
            "right": null,
            "top": null,
            "visibility": null,
            "width": null
          }
        },
        "a63c822a68b94ef194612e985e394570": {
          "model_module": "@jupyter-widgets/controls",
          "model_name": "DescriptionStyleModel",
          "model_module_version": "1.5.0",
          "state": {
            "_model_module": "@jupyter-widgets/controls",
            "_model_module_version": "1.5.0",
            "_model_name": "DescriptionStyleModel",
            "_view_count": null,
            "_view_module": "@jupyter-widgets/base",
            "_view_module_version": "1.2.0",
            "_view_name": "StyleView",
            "description_width": ""
          }
        },
        "267e6ce201f2406486b1f88329a3c56d": {
          "model_module": "@jupyter-widgets/base",
          "model_name": "LayoutModel",
          "model_module_version": "1.2.0",
          "state": {
            "_model_module": "@jupyter-widgets/base",
            "_model_module_version": "1.2.0",
            "_model_name": "LayoutModel",
            "_view_count": null,
            "_view_module": "@jupyter-widgets/base",
            "_view_module_version": "1.2.0",
            "_view_name": "LayoutView",
            "align_content": null,
            "align_items": null,
            "align_self": null,
            "border": null,
            "bottom": null,
            "display": null,
            "flex": null,
            "flex_flow": null,
            "grid_area": null,
            "grid_auto_columns": null,
            "grid_auto_flow": null,
            "grid_auto_rows": null,
            "grid_column": null,
            "grid_gap": null,
            "grid_row": null,
            "grid_template_areas": null,
            "grid_template_columns": null,
            "grid_template_rows": null,
            "height": null,
            "justify_content": null,
            "justify_items": null,
            "left": null,
            "margin": null,
            "max_height": null,
            "max_width": null,
            "min_height": null,
            "min_width": null,
            "object_fit": null,
            "object_position": null,
            "order": null,
            "overflow": null,
            "overflow_x": null,
            "overflow_y": null,
            "padding": null,
            "right": null,
            "top": null,
            "visibility": null,
            "width": null
          }
        },
        "fe78c7d81bea4a4f88ca367585e99063": {
          "model_module": "@jupyter-widgets/controls",
          "model_name": "ProgressStyleModel",
          "model_module_version": "1.5.0",
          "state": {
            "_model_module": "@jupyter-widgets/controls",
            "_model_module_version": "1.5.0",
            "_model_name": "ProgressStyleModel",
            "_view_count": null,
            "_view_module": "@jupyter-widgets/base",
            "_view_module_version": "1.2.0",
            "_view_name": "StyleView",
            "bar_color": null,
            "description_width": ""
          }
        },
        "ffa986ef7a2b453191f92d25f674744a": {
          "model_module": "@jupyter-widgets/base",
          "model_name": "LayoutModel",
          "model_module_version": "1.2.0",
          "state": {
            "_model_module": "@jupyter-widgets/base",
            "_model_module_version": "1.2.0",
            "_model_name": "LayoutModel",
            "_view_count": null,
            "_view_module": "@jupyter-widgets/base",
            "_view_module_version": "1.2.0",
            "_view_name": "LayoutView",
            "align_content": null,
            "align_items": null,
            "align_self": null,
            "border": null,
            "bottom": null,
            "display": null,
            "flex": null,
            "flex_flow": null,
            "grid_area": null,
            "grid_auto_columns": null,
            "grid_auto_flow": null,
            "grid_auto_rows": null,
            "grid_column": null,
            "grid_gap": null,
            "grid_row": null,
            "grid_template_areas": null,
            "grid_template_columns": null,
            "grid_template_rows": null,
            "height": null,
            "justify_content": null,
            "justify_items": null,
            "left": null,
            "margin": null,
            "max_height": null,
            "max_width": null,
            "min_height": null,
            "min_width": null,
            "object_fit": null,
            "object_position": null,
            "order": null,
            "overflow": null,
            "overflow_x": null,
            "overflow_y": null,
            "padding": null,
            "right": null,
            "top": null,
            "visibility": null,
            "width": null
          }
        },
        "16d2630f5735432e9cb74c591b4d7de7": {
          "model_module": "@jupyter-widgets/controls",
          "model_name": "DescriptionStyleModel",
          "model_module_version": "1.5.0",
          "state": {
            "_model_module": "@jupyter-widgets/controls",
            "_model_module_version": "1.5.0",
            "_model_name": "DescriptionStyleModel",
            "_view_count": null,
            "_view_module": "@jupyter-widgets/base",
            "_view_module_version": "1.2.0",
            "_view_name": "StyleView",
            "description_width": ""
          }
        }
      }
    }
  },
  "nbformat": 4,
  "nbformat_minor": 5
}