{
 "cells": [
  {
   "cell_type": "markdown",
   "id": "311bc336",
   "metadata": {
    "colab_type": "text",
    "id": "view-in-github"
   },
   "source": [
    "<a href=\"https://colab.research.google.com/github/alejandrodgb/fastai/blob/main/clean/04_MNIST_full.ipynb\" target=\"_parent\"><img src=\"https://colab.research.google.com/assets/colab-badge.svg\" alt=\"Open In Colab\"/></a>"
   ]
  },
  {
   "cell_type": "code",
   "execution_count": 1,
   "id": "91a43b4a-db54-4c7b-bf21-373fac84957a",
   "metadata": {
    "colab": {
     "base_uri": "https://localhost:8080/"
    },
    "id": "91a43b4a-db54-4c7b-bf21-373fac84957a",
    "outputId": "f969efa2-6aec-4ccb-8824-4a515a335ea0"
   },
   "outputs": [],
   "source": [
    "import sys\n",
    "\n",
    "if 'google.colab' in sys.modules:\n",
    "    ! [ -e /content ] && pip install -Uqq fastbook\n",
    "    !pip install nbdev\n",
    "    \n",
    "import fastbook\n",
    "fastbook.setup_book()"
   ]
  },
  {
   "cell_type": "code",
   "execution_count": 2,
   "id": "c0174db8-8748-4f3f-a164-b1c4da976387",
   "metadata": {
    "id": "c0174db8-8748-4f3f-a164-b1c4da976387"
   },
   "outputs": [],
   "source": [
    "from fastai.vision.all import *\n",
    "from fastbook import *"
   ]
  },
  {
   "cell_type": "markdown",
   "id": "3747fed1-3b4b-4b06-9072-67d9982d80ff",
   "metadata": {
    "id": "3747fed1-3b4b-4b06-9072-67d9982d80ff"
   },
   "source": [
    "# Data"
   ]
  },
  {
   "cell_type": "code",
   "execution_count": 3,
   "id": "975cff2f-ad00-4dda-9663-e8e1d2a16d0e",
   "metadata": {
    "colab": {
     "base_uri": "https://localhost:8080/",
     "height": 55
    },
    "id": "975cff2f-ad00-4dda-9663-e8e1d2a16d0e",
    "outputId": "fcb1345e-6806-481a-bdf1-d799a8c06819"
   },
   "outputs": [
    {
     "data": {
      "text/plain": [
       "Path('/Users/adgb/.fastai/data/mnist_png')"
      ]
     },
     "execution_count": 3,
     "metadata": {},
     "output_type": "execute_result"
    }
   ],
   "source": [
    "# Download full MNIST dataset\n",
    "path = untar_data(URLs.MNIST)\n",
    "path"
   ]
  },
  {
   "cell_type": "markdown",
   "id": "80f62f2f-3012-4ff5-b6dd-e14b1c356d0b",
   "metadata": {
    "id": "80f62f2f-3012-4ff5-b6dd-e14b1c356d0b",
    "tags": []
   },
   "source": [
    "# Fastai classifier"
   ]
  },
  {
   "cell_type": "code",
   "execution_count": null,
   "id": "88fef5ab-391d-4d1d-b021-92ca13746aad",
   "metadata": {
    "id": "88fef5ab-391d-4d1d-b021-92ca13746aad"
   },
   "outputs": [],
   "source": [
    "# Build data loader\n",
    "dls = ImageDataLoaders.from_folder(path,train='training' ,valid='testing')"
   ]
  },
  {
   "cell_type": "code",
   "execution_count": null,
   "id": "95a1bb28-4fc5-4e4b-b5f3-f623b727446f",
   "metadata": {
    "colab": {
     "base_uri": "https://localhost:8080/"
    },
    "id": "95a1bb28-4fc5-4e4b-b5f3-f623b727446f",
    "outputId": "1d4e961e-204b-4b58-eae8-a73b0eaff41d"
   },
   "outputs": [],
   "source": [
    "learn = vision_learner(dls,resnet18,pretrained=False,\n",
    "                       loss_func=F.cross_entropy,metrics=accuracy)"
   ]
  },
  {
   "cell_type": "code",
   "execution_count": null,
   "id": "618c1a9a-ef9d-41f9-aa73-49a7a0f76ffe",
   "metadata": {
    "colab": {
     "base_uri": "https://localhost:8080/",
     "height": 112
    },
    "id": "618c1a9a-ef9d-41f9-aa73-49a7a0f76ffe",
    "outputId": "a8273a4c-38cb-462d-9e77-0fecce2f0140"
   },
   "outputs": [],
   "source": [
    "learn.fit_one_cycle(2,0.1)"
   ]
  },
  {
   "cell_type": "markdown",
   "id": "djePiSxhZQZC",
   "metadata": {
    "id": "djePiSxhZQZC"
   },
   "source": [
    "# Custom trainer"
   ]
  },
  {
   "cell_type": "markdown",
   "id": "8O49qvHeZmn-",
   "metadata": {
    "id": "8O49qvHeZmn-"
   },
   "source": [
    "## Data"
   ]
  },
  {
   "cell_type": "code",
   "execution_count": 7,
   "id": "I66_FFPPZPQs",
   "metadata": {
    "colab": {
     "base_uri": "https://localhost:8080/"
    },
    "id": "I66_FFPPZPQs",
    "outputId": "bd196b17-6b85-452a-bfa5-8d7ddf4d9c15"
   },
   "outputs": [
    {
     "data": {
      "text/plain": [
       "((#10) [Path('/Users/adgb/.fastai/data/mnist_png/training/0'),Path('/Users/adgb/.fastai/data/mnist_png/training/1'),Path('/Users/adgb/.fastai/data/mnist_png/training/2'),Path('/Users/adgb/.fastai/data/mnist_png/training/3'),Path('/Users/adgb/.fastai/data/mnist_png/training/4'),Path('/Users/adgb/.fastai/data/mnist_png/training/5'),Path('/Users/adgb/.fastai/data/mnist_png/training/6'),Path('/Users/adgb/.fastai/data/mnist_png/training/7'),Path('/Users/adgb/.fastai/data/mnist_png/training/8'),Path('/Users/adgb/.fastai/data/mnist_png/training/9')],\n",
       " (#10) [Path('/Users/adgb/.fastai/data/mnist_png/testing/0'),Path('/Users/adgb/.fastai/data/mnist_png/testing/1'),Path('/Users/adgb/.fastai/data/mnist_png/testing/2'),Path('/Users/adgb/.fastai/data/mnist_png/testing/3'),Path('/Users/adgb/.fastai/data/mnist_png/testing/4'),Path('/Users/adgb/.fastai/data/mnist_png/testing/5'),Path('/Users/adgb/.fastai/data/mnist_png/testing/6'),Path('/Users/adgb/.fastai/data/mnist_png/testing/7'),Path('/Users/adgb/.fastai/data/mnist_png/testing/8'),Path('/Users/adgb/.fastai/data/mnist_png/testing/9')])"
      ]
     },
     "execution_count": 7,
     "metadata": {},
     "output_type": "execute_result"
    }
   ],
   "source": [
    "# Review directories\n",
    "training_path = (path/'training').ls().sorted()\n",
    "valid_path = (path/'testing').ls().sorted()\n",
    "\n",
    "training_path, valid_path"
   ]
  },
  {
   "cell_type": "code",
   "execution_count": 8,
   "id": "ZCU_XRc8asj2",
   "metadata": {
    "colab": {
     "base_uri": "https://localhost:8080/"
    },
    "id": "ZCU_XRc8asj2",
    "outputId": "054deda6-5964-497d-8a63-62e9bf3f8332"
   },
   "outputs": [
    {
     "data": {
      "text/plain": [
       "([5923, 6742, 5958, 6131, 5842, 5421, 5918, 6265, 5851, 5949], 60000)"
      ]
     },
     "execution_count": 8,
     "metadata": {},
     "output_type": "execute_result"
    }
   ],
   "source": [
    "# Check training data\n",
    "av_imgs = [len(i.ls()) for i in training_path]\n",
    "av_imgs, sum(av_imgs)"
   ]
  },
  {
   "cell_type": "code",
   "execution_count": 9,
   "id": "BTpFoxAebTL6",
   "metadata": {
    "colab": {
     "base_uri": "https://localhost:8080/"
    },
    "id": "BTpFoxAebTL6",
    "outputId": "906617a1-1f60-410d-c07f-c155918165ee"
   },
   "outputs": [
    {
     "data": {
      "text/plain": [
       "([980, 1135, 1032, 1010, 982, 892, 958, 1028, 974, 1009], 10000)"
      ]
     },
     "execution_count": 9,
     "metadata": {},
     "output_type": "execute_result"
    }
   ],
   "source": [
    "# Check testing data\n",
    "av_imgs = [len(i.ls()) for i in valid_path]\n",
    "av_imgs, sum(av_imgs)"
   ]
  },
  {
   "cell_type": "code",
   "execution_count": 10,
   "id": "HwGV1U6IaBNx",
   "metadata": {
    "id": "HwGV1U6IaBNx"
   },
   "outputs": [],
   "source": [
    "# List of lists of image paths\n",
    "train_nums = [n.ls() for n in training_path]\n",
    "valid_nums = [n.ls() for n in valid_path]"
   ]
  },
  {
   "cell_type": "code",
   "execution_count": 11,
   "id": "_BX8R-p4bhVr",
   "metadata": {
    "id": "_BX8R-p4bhVr"
   },
   "outputs": [],
   "source": [
    "# Create a list of tensors for each digit\n",
    "train_nums_lists = [[tensor(Image.open(im)) for im in num] for num in train_nums]\n",
    "valid_nums_lists = [[tensor(Image.open(im)) for im in num] for num in valid_nums]"
   ]
  },
  {
   "cell_type": "code",
   "execution_count": 13,
   "id": "fiZIvlWrb64w",
   "metadata": {
    "id": "fiZIvlWrb64w"
   },
   "outputs": [],
   "source": [
    "# Stack all tensors, convert to float, and normalise\n",
    "train_nums_tensors = [torch.stack(nums_list).float()/255 for nums_list in train_nums_lists]\n",
    "valid_nums_tensors = [torch.stack(nums_list).float()/255 for nums_list in valid_nums_lists]"
   ]
  },
  {
   "cell_type": "code",
   "execution_count": 14,
   "id": "N8sfPthWctAw",
   "metadata": {
    "colab": {
     "base_uri": "https://localhost:8080/"
    },
    "id": "N8sfPthWctAw",
    "outputId": "6d1cb511-941c-4f2b-fc91-04d6e9fba186"
   },
   "outputs": [
    {
     "data": {
      "text/plain": [
       "([torch.Size([5923, 28, 28]),\n",
       "  torch.Size([6742, 28, 28]),\n",
       "  torch.Size([5958, 28, 28]),\n",
       "  torch.Size([6131, 28, 28]),\n",
       "  torch.Size([5842, 28, 28]),\n",
       "  torch.Size([5421, 28, 28]),\n",
       "  torch.Size([5918, 28, 28]),\n",
       "  torch.Size([6265, 28, 28]),\n",
       "  torch.Size([5851, 28, 28]),\n",
       "  torch.Size([5949, 28, 28])],\n",
       " [5923, 6742, 5958, 6131, 5842, 5421, 5918, 6265, 5851, 5949],\n",
       " 60000)"
      ]
     },
     "execution_count": 14,
     "metadata": {},
     "output_type": "execute_result"
    }
   ],
   "source": [
    "# Check test tensors\n",
    "av_t = [t.shape for t in train_nums_tensors]\n",
    "av_t,[i[0] for i in av_t], sum([i[0] for i in av_t])"
   ]
  },
  {
   "cell_type": "code",
   "execution_count": 15,
   "id": "sxDLlOiXdF6i",
   "metadata": {
    "colab": {
     "base_uri": "https://localhost:8080/"
    },
    "id": "sxDLlOiXdF6i",
    "outputId": "5749ad69-a859-488f-dff0-93aedc1db141"
   },
   "outputs": [
    {
     "data": {
      "text/plain": [
       "([torch.Size([980, 28, 28]),\n",
       "  torch.Size([1135, 28, 28]),\n",
       "  torch.Size([1032, 28, 28]),\n",
       "  torch.Size([1010, 28, 28]),\n",
       "  torch.Size([982, 28, 28]),\n",
       "  torch.Size([892, 28, 28]),\n",
       "  torch.Size([958, 28, 28]),\n",
       "  torch.Size([1028, 28, 28]),\n",
       "  torch.Size([974, 28, 28]),\n",
       "  torch.Size([1009, 28, 28])],\n",
       " [980, 1135, 1032, 1010, 982, 892, 958, 1028, 974, 1009],\n",
       " 10000)"
      ]
     },
     "execution_count": 15,
     "metadata": {},
     "output_type": "execute_result"
    }
   ],
   "source": [
    "# Check valid tensors\n",
    "av_t = [t.shape for t in valid_nums_tensors]\n",
    "av_t,[i[0] for i in av_t], sum([i[0] for i in av_t])"
   ]
  },
  {
   "cell_type": "code",
   "execution_count": 16,
   "id": "s7IcykpFdVhH",
   "metadata": {
    "colab": {
     "base_uri": "https://localhost:8080/"
    },
    "id": "s7IcykpFdVhH",
    "outputId": "7ba63842-8bd1-4f47-8c31-6025a59bec5b"
   },
   "outputs": [
    {
     "data": {
      "text/plain": [
       "(torch.Size([60000, 784]), torch.Size([10000, 784]))"
      ]
     },
     "execution_count": 16,
     "metadata": {},
     "output_type": "execute_result"
    }
   ],
   "source": [
    "# Transform rank-3 to rank-2 tensors\n",
    "train_x = torch.cat(train_nums_tensors).view(-1,28*28)\n",
    "valid_x = torch.cat(valid_nums_tensors).view(-1,28*28)\n",
    "\n",
    "train_x.shape, valid_x.shape"
   ]
  },
  {
   "cell_type": "code",
   "execution_count": 17,
   "id": "QAYgtGbFeAaF",
   "metadata": {
    "colab": {
     "base_uri": "https://localhost:8080/"
    },
    "id": "QAYgtGbFeAaF",
    "outputId": "96a5ef35-2bdf-4c88-ba38-5fc5c8902546"
   },
   "outputs": [
    {
     "data": {
      "text/plain": [
       "(torch.Size([60000, 1]), torch.Size([10000, 1]))"
      ]
     },
     "execution_count": 17,
     "metadata": {},
     "output_type": "execute_result"
    }
   ],
   "source": [
    "# Create target labels\n",
    "train_y = torch.cat([tensor([i]*s).unsqueeze(1) for i,s in enumerate([t.shape[0] for t in train_nums_tensors])])\n",
    "valid_y = torch.cat([tensor([i]*s).unsqueeze(1) for i,s in enumerate([t.shape[0] for t in valid_nums_tensors])])\n",
    "\n",
    "train_y.shape, valid_y.shape"
   ]
  },
  {
   "cell_type": "code",
   "execution_count": 18,
   "id": "9def123d-83f4-40c4-adb8-72c0e092c379",
   "metadata": {},
   "outputs": [],
   "source": [
    "# Create validation and testing PyTorch datasets\n",
    "train_dset = list(zip(train_x, train_y))\n",
    "valid_dset = list(zip(valid_x, valid_y))"
   ]
  },
  {
   "cell_type": "code",
   "execution_count": 46,
   "id": "e47ec19d-f7d4-4a67-a84f-79752e75d27c",
   "metadata": {},
   "outputs": [],
   "source": [
    "# Create data loader\n",
    "train_dl = DataLoader(train_dset, bs=64, shuffle=True)"
   ]
  },
  {
   "cell_type": "markdown",
   "id": "7ade5df8-ec08-48f2-b5bb-23d4f20609dd",
   "metadata": {
    "tags": []
   },
   "source": [
    "## Simple net model"
   ]
  },
  {
   "cell_type": "code",
   "execution_count": 197,
   "id": "1ee6cbfc-1c21-4096-8e1c-889382851ee3",
   "metadata": {},
   "outputs": [],
   "source": [
    "# Multiclass loss\n",
    "def mnist_loss(preds, targs):\n",
    "    preds = preds.softmax(dim=1)\n",
    "    return -(torch.log(preds[np.arange(len(preds)),targs.squeeze()])).mean()\n"
   ]
  },
  {
   "cell_type": "code",
   "execution_count": 30,
   "id": "9a2c4262-c23e-4b5e-9d63-beab1fa001a0",
   "metadata": {},
   "outputs": [],
   "source": [
    "# Create optimiser\n",
    "class BasicOptim:\n",
    "    def __init__(self,parameters,lr):\n",
    "        self.params = list(parameters)\n",
    "        self.lr = lr\n",
    "        \n",
    "    def step(self, *args, **kwargs):\n",
    "        for p in self.params:\n",
    "            p.data -= self.lr * p.grad.data\n",
    "            \n",
    "    def zero_grad(self, *args, **kwargs):\n",
    "        for p in self.params:\n",
    "            p.grad = None"
   ]
  },
  {
   "cell_type": "code",
   "execution_count": 31,
   "id": "4b789800-5757-49ef-aa10-d6d75d784656",
   "metadata": {},
   "outputs": [],
   "source": [
    "def batch_accuracy(preds, y):\n",
    "    return (preds.argmax(dim=preds.dim()-1)==y.squeeze()).float().mean()"
   ]
  },
  {
   "cell_type": "code",
   "execution_count": 32,
   "id": "741c265d-8328-4704-87be-8aae16488529",
   "metadata": {},
   "outputs": [],
   "source": [
    "def calc_grads(model, x, y, loss_fn):\n",
    "    preds = model(x)\n",
    "    loss = loss_fn(preds,y.squeeze())\n",
    "    loss.backward()\n",
    "    return loss.item()"
   ]
  },
  {
   "cell_type": "code",
   "execution_count": 33,
   "id": "9481d7c9-55ae-4e0e-ba54-ca6bd55d1c8e",
   "metadata": {},
   "outputs": [],
   "source": [
    "def validate_epoch(model, valid_dl):\n",
    "    accs = [batch_accuracy(model(xb),yb) for xb,yb in valid_dl]\n",
    "    return round(torch.stack(accs).mean().item(),4)"
   ]
  },
  {
   "cell_type": "code",
   "execution_count": 56,
   "id": "538e919a-f502-42e8-9eef-d779c6f276b9",
   "metadata": {},
   "outputs": [],
   "source": [
    "def train_epoch(dl, model, loss_fn, opt):\n",
    "    batch_loss = []\n",
    "    for xb, yb in dl:\n",
    "        batch_loss.append(calc_grads(model, xb, yb, loss_fn))\n",
    "        opt.step()\n",
    "        opt.zero_grad()\n",
    "    print(f'\\tAvg batch loss: {tensor(batch_loss).mean()}')"
   ]
  },
  {
   "cell_type": "code",
   "execution_count": 193,
   "id": "ca0d5445-4033-4018-adfb-8a479a38c1e2",
   "metadata": {},
   "outputs": [],
   "source": [
    "# Train model\n",
    "def train_model(dl, model, epochs, loss_fn, valid_dl, opt):\n",
    "    model_start = time.time()\n",
    "    for e in range(epochs):\n",
    "        epoch_start = time.time()\n",
    "        train_epoch(dl, model, loss_fn, opt)\n",
    "        print(f'Epoch {e}: accuracy = {validate_epoch(model, valid_dl)}, time {time.time()-epoch_start:.2f}s')\n",
    "    print(f'Training time: {time.time()-model_start:.2f}s')"
   ]
  },
  {
   "cell_type": "markdown",
   "id": "fed2a3c3-ac7b-4c00-aa2d-66001756e73b",
   "metadata": {
    "tags": []
   },
   "source": [
    "### Testing"
   ]
  },
  {
   "cell_type": "code",
   "execution_count": 99,
   "id": "32cc7e46-e426-4b99-9f72-085f5d3bc5b7",
   "metadata": {},
   "outputs": [],
   "source": [
    "# Simple neural network\n",
    "simple_net = nn.Sequential(\n",
    "    nn.Linear(28*28,100),\n",
    "    nn.ReLU(),\n",
    "    nn.Linear(100,30),\n",
    "    nn.ReLU(),\n",
    "    nn.Linear(30,10)\n",
    ")\n",
    "opt = BasicOptim(simple_net.parameters(), 0.1)"
   ]
  },
  {
   "cell_type": "code",
   "execution_count": 100,
   "id": "822fca92-7a5a-44d3-ace3-3124e40a8c38",
   "metadata": {},
   "outputs": [],
   "source": [
    "for xb, yb in train_dl:\n",
    "    break"
   ]
  },
  {
   "cell_type": "markdown",
   "id": "775f48b5-cc89-4ae2-a5f0-6b07db568a51",
   "metadata": {
    "tags": []
   },
   "source": [
    "#### Categorical $L_{CE}$"
   ]
  },
  {
   "cell_type": "code",
   "execution_count": 175,
   "id": "b8851f78-172b-4aa2-ad1f-5ad1e56bcdab",
   "metadata": {},
   "outputs": [
    {
     "data": {
      "text/plain": [
       "torch.Size([64, 10])"
      ]
     },
     "execution_count": 175,
     "metadata": {},
     "output_type": "execute_result"
    }
   ],
   "source": [
    "preds = simple_net(xb)\n",
    "preds.shape"
   ]
  },
  {
   "cell_type": "code",
   "execution_count": 176,
   "id": "f7969fca-198a-42f2-947c-0a6c6e28a7f7",
   "metadata": {},
   "outputs": [
    {
     "data": {
      "text/plain": [
       "10"
      ]
     },
     "execution_count": 176,
     "metadata": {},
     "output_type": "execute_result"
    }
   ],
   "source": [
    "num_classes=len(preds) if preds.dim()==1 else preds.shape[1]\n",
    "num_classes"
   ]
  },
  {
   "cell_type": "code",
   "execution_count": 177,
   "id": "06067f6f-ceda-429b-9533-a6ce6768b01f",
   "metadata": {},
   "outputs": [
    {
     "data": {
      "text/plain": [
       "torch.Size([64, 10])"
      ]
     },
     "execution_count": 177,
     "metadata": {},
     "output_type": "execute_result"
    }
   ],
   "source": [
    "targs = F.one_hot(yb,num_classes=num_classes).view(-1,num_classes)\n",
    "targs.shape"
   ]
  },
  {
   "cell_type": "code",
   "execution_count": 178,
   "id": "14143d3f-c1b7-4df1-a7e2-c4d38d591b0c",
   "metadata": {},
   "outputs": [],
   "source": [
    "s_preds = preds.softmax(dim=1)"
   ]
  },
  {
   "cell_type": "code",
   "execution_count": 179,
   "id": "dc51148c-69e6-4ca8-9a26-dde8886fb3ec",
   "metadata": {},
   "outputs": [
    {
     "data": {
      "text/plain": [
       "(torch.Size([64, 10]), torch.Size([64, 10]))"
      ]
     },
     "execution_count": 179,
     "metadata": {},
     "output_type": "execute_result"
    }
   ],
   "source": [
    "targs.shape, s_preds.shape"
   ]
  },
  {
   "cell_type": "code",
   "execution_count": 180,
   "id": "e9aded46-13f6-4295-899c-5fe55c0dd8c5",
   "metadata": {},
   "outputs": [
    {
     "data": {
      "text/plain": [
       "tensor(2.3130, grad_fn=<NegBackward0>)"
      ]
     },
     "execution_count": 180,
     "metadata": {},
     "output_type": "execute_result"
    }
   ],
   "source": [
    "-(targs*torch.log(s_preds)).sum(dim=1).mean()"
   ]
  },
  {
   "cell_type": "markdown",
   "id": "fec10ac7-f5b2-4350-aaa3-1a949411b68e",
   "metadata": {
    "tags": []
   },
   "source": [
    "#### Sparce $L_{CE}$"
   ]
  },
  {
   "cell_type": "code",
   "execution_count": 181,
   "id": "6f45f70e-de40-45f8-ae4d-2f3e3a03820d",
   "metadata": {},
   "outputs": [],
   "source": [
    "s_preds = preds.softmax(dim=1)"
   ]
  },
  {
   "cell_type": "code",
   "execution_count": 182,
   "id": "f6e9edb3-778c-4d2f-b98a-2fddd9da5d94",
   "metadata": {},
   "outputs": [
    {
     "data": {
      "text/plain": [
       "tensor(2.3130, grad_fn=<NegBackward0>)"
      ]
     },
     "execution_count": 182,
     "metadata": {},
     "output_type": "execute_result"
    }
   ],
   "source": [
    "-(torch.log(s_preds[np.arange(len(s_preds)),yb.squeeze()])).mean()"
   ]
  },
  {
   "cell_type": "markdown",
   "id": "d7113130-4864-4ad8-bc54-34f8fde233c0",
   "metadata": {
    "tags": []
   },
   "source": [
    "#### PyTorch $L_{CE}$"
   ]
  },
  {
   "cell_type": "code",
   "execution_count": 183,
   "id": "f0ed8b36-b98e-41c8-9004-643d3eda1f35",
   "metadata": {},
   "outputs": [
    {
     "data": {
      "text/plain": [
       "tensor(2.3130, grad_fn=<NllLossBackward0>)"
      ]
     },
     "execution_count": 183,
     "metadata": {},
     "output_type": "execute_result"
    }
   ],
   "source": [
    "tcel = nn.CrossEntropyLoss()\n",
    "tcel(preds,yb.squeeze())"
   ]
  },
  {
   "cell_type": "markdown",
   "id": "e58740f5-4e69-4420-8ca8-1484e7d0b041",
   "metadata": {
    "tags": []
   },
   "source": [
    "### Model training"
   ]
  },
  {
   "cell_type": "code",
   "execution_count": 199,
   "id": "8cc5c7af-ee83-474c-8b0c-2dae3f479bd6",
   "metadata": {},
   "outputs": [],
   "source": [
    "# Simple neural network\n",
    "simple_net = nn.Sequential(\n",
    "    nn.Linear(28*28,100),\n",
    "    nn.ReLU(),\n",
    "    nn.Linear(100,30),\n",
    "    nn.ReLU(),\n",
    "    nn.Linear(30,10)\n",
    ")\n",
    "opt = BasicOptim(simple_net.parameters(), 0.1)"
   ]
  },
  {
   "cell_type": "markdown",
   "id": "3a6ae3bd-9ee4-4f6e-9ce3-e7b431908389",
   "metadata": {},
   "source": [
    "#### PyTorch $L_{CE}$"
   ]
  },
  {
   "cell_type": "code",
   "execution_count": 200,
   "id": "19724247-de83-4113-ac1d-9ba4d74bd2ad",
   "metadata": {},
   "outputs": [
    {
     "name": "stdout",
     "output_type": "stream",
     "text": [
      "\tAvg batch loss: 0.5137635469436646\n",
      "Epoch 0: accuracy = 0.922, time 1.70s\n",
      "\tAvg batch loss: 0.19117991626262665\n",
      "Epoch 1: accuracy = 0.9567, time 1.63s\n",
      "\tAvg batch loss: 0.1321459710597992\n",
      "Epoch 2: accuracy = 0.9637, time 2.18s\n",
      "\tAvg batch loss: 0.1020367369055748\n",
      "Epoch 3: accuracy = 0.966, time 1.69s\n",
      "\tAvg batch loss: 0.08401274681091309\n",
      "Epoch 4: accuracy = 0.9728, time 1.63s\n",
      "\tAvg batch loss: 0.0699848011136055\n",
      "Epoch 5: accuracy = 0.9747, time 1.64s\n",
      "\tAvg batch loss: 0.06066516414284706\n",
      "Epoch 6: accuracy = 0.9752, time 1.65s\n",
      "\tAvg batch loss: 0.05132593959569931\n",
      "Epoch 7: accuracy = 0.9765, time 1.63s\n",
      "\tAvg batch loss: 0.04449652507901192\n",
      "Epoch 8: accuracy = 0.9727, time 1.65s\n",
      "\tAvg batch loss: 0.03736179322004318\n",
      "Epoch 9: accuracy = 0.9752, time 1.62s\n",
      "Training time: 17.04s\n"
     ]
    }
   ],
   "source": [
    "train_model(dl=train_dl, model=simple_net, epochs=10, loss_fn=nn.CrossEntropyLoss(), \n",
    "            valid_dl=valid_dset, opt=opt)"
   ]
  },
  {
   "cell_type": "markdown",
   "id": "970a2f16-d22d-4757-b7a8-e818d666cc25",
   "metadata": {},
   "source": [
    "#### mnist_loss $L_{CE}$"
   ]
  },
  {
   "cell_type": "code",
   "execution_count": 201,
   "id": "8cc32edf-9481-49c0-9958-54e1a46ef11e",
   "metadata": {},
   "outputs": [],
   "source": [
    "# Simple neural network\n",
    "simple_net = nn.Sequential(\n",
    "    nn.Linear(28*28,100),\n",
    "    nn.ReLU(),\n",
    "    nn.Linear(100,30),\n",
    "    nn.ReLU(),\n",
    "    nn.Linear(30,10)\n",
    ")\n",
    "opt = BasicOptim(simple_net.parameters(), 0.1)"
   ]
  },
  {
   "cell_type": "code",
   "execution_count": 202,
   "id": "1f781622-fa99-4054-89fe-d24d370e49c7",
   "metadata": {},
   "outputs": [
    {
     "name": "stdout",
     "output_type": "stream",
     "text": [
      "\tAvg batch loss: 0.5181543231010437\n",
      "Epoch 0: accuracy = 0.9271, time 1.77s\n",
      "\tAvg batch loss: 0.19730697572231293\n",
      "Epoch 1: accuracy = 0.9566, time 1.72s\n",
      "\tAvg batch loss: 0.13519515097141266\n",
      "Epoch 2: accuracy = 0.9632, time 1.72s\n",
      "\tAvg batch loss: 0.10361114144325256\n",
      "Epoch 3: accuracy = 0.9693, time 1.71s\n",
      "\tAvg batch loss: 0.08366364240646362\n",
      "Epoch 4: accuracy = 0.9634, time 1.71s\n",
      "\tAvg batch loss: 0.07132456451654434\n",
      "Epoch 5: accuracy = 0.9727, time 1.74s\n",
      "\tAvg batch loss: 0.06049911677837372\n",
      "Epoch 6: accuracy = 0.9728, time 1.71s\n",
      "\tAvg batch loss: 0.051981858909130096\n",
      "Epoch 7: accuracy = 0.975, time 1.81s\n",
      "\tAvg batch loss: 0.04509030282497406\n",
      "Epoch 8: accuracy = 0.9763, time 1.72s\n",
      "\tAvg batch loss: 0.03924497961997986\n",
      "Epoch 9: accuracy = 0.9781, time 1.79s\n",
      "Training time: 17.39s\n"
     ]
    }
   ],
   "source": [
    "train_model(dl=train_dl, model=simple_net, epochs=10, loss_fn=mnist_loss,\n",
    "            valid_dl=valid_dset, opt=opt)"
   ]
  }
 ],
 "metadata": {
  "accelerator": "GPU",
  "colab": {
   "include_colab_link": true,
   "provenance": []
  },
  "gpuClass": "standard",
  "kernelspec": {
   "display_name": "Python 3 (ipykernel)",
   "language": "python",
   "name": "python3"
  },
  "language_info": {
   "codemirror_mode": {
    "name": "ipython",
    "version": 3
   },
   "file_extension": ".py",
   "mimetype": "text/x-python",
   "name": "python",
   "nbconvert_exporter": "python",
   "pygments_lexer": "ipython3",
   "version": "3.7.13"
  }
 },
 "nbformat": 4,
 "nbformat_minor": 5
}
