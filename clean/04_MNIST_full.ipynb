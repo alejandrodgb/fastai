{
  "cells": [
    {
      "cell_type": "markdown",
      "metadata": {
        "id": "view-in-github",
        "colab_type": "text"
      },
      "source": [
        "<a href=\"https://colab.research.google.com/github/alejandrodgb/fastai/blob/main/clean/04_MNIST_full.ipynb\" target=\"_parent\"><img src=\"https://colab.research.google.com/assets/colab-badge.svg\" alt=\"Open In Colab\"/></a>"
      ]
    },
    {
      "cell_type": "code",
      "execution_count": 1,
      "id": "91a43b4a-db54-4c7b-bf21-373fac84957a",
      "metadata": {
        "colab": {
          "base_uri": "https://localhost:8080/"
        },
        "id": "91a43b4a-db54-4c7b-bf21-373fac84957a",
        "outputId": "3ba4bf33-efc8-4c8a-f0ba-87c012c233c0"
      },
      "outputs": [
        {
          "output_type": "stream",
          "name": "stdout",
          "text": [
            "\u001b[2K     \u001b[90m━━━━━━━━━━━━━━━━━━━━━━━━━━━━━━━━━━━━━━\u001b[0m \u001b[32m719.8/719.8 KB\u001b[0m \u001b[31m24.7 MB/s\u001b[0m eta \u001b[36m0:00:00\u001b[0m\n",
            "\u001b[2K     \u001b[90m━━━━━━━━━━━━━━━━━━━━━━━━━━━━━━━━━━━━━━━━\u001b[0m \u001b[32m1.3/1.3 MB\u001b[0m \u001b[31m30.9 MB/s\u001b[0m eta \u001b[36m0:00:00\u001b[0m\n",
            "\u001b[2K     \u001b[90m━━━━━━━━━━━━━━━━━━━━━━━━━━━━━━━━━━━━━━━━\u001b[0m \u001b[32m6.3/6.3 MB\u001b[0m \u001b[31m75.7 MB/s\u001b[0m eta \u001b[36m0:00:00\u001b[0m\n",
            "\u001b[2K     \u001b[90m━━━━━━━━━━━━━━━━━━━━━━━━━━━━━━━━━━━━━━\u001b[0m \u001b[32m462.8/462.8 KB\u001b[0m \u001b[31m36.0 MB/s\u001b[0m eta \u001b[36m0:00:00\u001b[0m\n",
            "\u001b[2K     \u001b[90m━━━━━━━━━━━━━━━━━━━━━━━━━━━━━━━━━━━━━━\u001b[0m \u001b[32m213.0/213.0 KB\u001b[0m \u001b[31m26.1 MB/s\u001b[0m eta \u001b[36m0:00:00\u001b[0m\n",
            "\u001b[2K     \u001b[90m━━━━━━━━━━━━━━━━━━━━━━━━━━━━━━━━━━━━━━\u001b[0m \u001b[32m132.0/132.0 KB\u001b[0m \u001b[31m20.2 MB/s\u001b[0m eta \u001b[36m0:00:00\u001b[0m\n",
            "\u001b[2K     \u001b[90m━━━━━━━━━━━━━━━━━━━━━━━━━━━━━━━━━━━━━━\u001b[0m \u001b[32m190.3/190.3 KB\u001b[0m \u001b[31m26.5 MB/s\u001b[0m eta \u001b[36m0:00:00\u001b[0m\n",
            "\u001b[2K     \u001b[90m━━━━━━━━━━━━━━━━━━━━━━━━━━━━━━━━━━━━━━━━\u001b[0m \u001b[32m7.6/7.6 MB\u001b[0m \u001b[31m75.2 MB/s\u001b[0m eta \u001b[36m0:00:00\u001b[0m\n",
            "\u001b[2K     \u001b[90m━━━━━━━━━━━━━━━━━━━━━━━━━━━━━━━━━━━━━━━━\u001b[0m \u001b[32m1.6/1.6 MB\u001b[0m \u001b[31m84.9 MB/s\u001b[0m eta \u001b[36m0:00:00\u001b[0m\n",
            "\u001b[2K     \u001b[90m━━━━━━━━━━━━━━━━━━━━━━━━━━━━━━━━━━━━━━\u001b[0m \u001b[32m140.6/140.6 KB\u001b[0m \u001b[31m19.9 MB/s\u001b[0m eta \u001b[36m0:00:00\u001b[0m\n",
            "\u001b[?25hLooking in indexes: https://pypi.org/simple, https://us-python.pkg.dev/colab-wheels/public/simple/\n",
            "Collecting nbdev\n",
            "  Downloading nbdev-2.3.12-py3-none-any.whl (64 kB)\n",
            "\u001b[2K     \u001b[90m━━━━━━━━━━━━━━━━━━━━━━━━━━━━━━━━━━━━━━━━\u001b[0m \u001b[32m64.8/64.8 KB\u001b[0m \u001b[31m4.7 MB/s\u001b[0m eta \u001b[36m0:00:00\u001b[0m\n",
            "\u001b[?25hRequirement already satisfied: astunparse in /usr/local/lib/python3.8/dist-packages (from nbdev) (1.6.3)\n",
            "Requirement already satisfied: PyYAML in /usr/local/lib/python3.8/dist-packages (from nbdev) (6.0)\n",
            "Requirement already satisfied: fastcore>=1.5.27 in /usr/local/lib/python3.8/dist-packages (from nbdev) (1.5.28)\n",
            "Collecting asttokens\n",
            "  Downloading asttokens-2.2.1-py2.py3-none-any.whl (26 kB)\n",
            "Collecting ghapi>=1.0.3\n",
            "  Downloading ghapi-1.0.3-py3-none-any.whl (58 kB)\n",
            "\u001b[2K     \u001b[90m━━━━━━━━━━━━━━━━━━━━━━━━━━━━━━━━━━━━━━━━\u001b[0m \u001b[32m58.1/58.1 KB\u001b[0m \u001b[31m8.9 MB/s\u001b[0m eta \u001b[36m0:00:00\u001b[0m\n",
            "\u001b[?25hCollecting execnb>=0.1.4\n",
            "  Downloading execnb-0.1.5-py3-none-any.whl (13 kB)\n",
            "Collecting watchdog\n",
            "  Downloading watchdog-2.2.1-py3-none-manylinux2014_x86_64.whl (78 kB)\n",
            "\u001b[2K     \u001b[90m━━━━━━━━━━━━━━━━━━━━━━━━━━━━━━━━━━━━━━━━\u001b[0m \u001b[32m79.0/79.0 KB\u001b[0m \u001b[31m12.2 MB/s\u001b[0m eta \u001b[36m0:00:00\u001b[0m\n",
            "\u001b[?25hRequirement already satisfied: ipython in /usr/local/lib/python3.8/dist-packages (from execnb>=0.1.4->nbdev) (7.9.0)\n",
            "Requirement already satisfied: packaging in /usr/local/lib/python3.8/dist-packages (from fastcore>=1.5.27->nbdev) (23.0)\n",
            "Requirement already satisfied: pip in /usr/local/lib/python3.8/dist-packages (from fastcore>=1.5.27->nbdev) (22.0.4)\n",
            "Requirement already satisfied: six in /usr/local/lib/python3.8/dist-packages (from asttokens->nbdev) (1.15.0)\n",
            "Requirement already satisfied: wheel<1.0,>=0.23.0 in /usr/local/lib/python3.8/dist-packages (from astunparse->nbdev) (0.38.4)\n",
            "Requirement already satisfied: pexpect in /usr/local/lib/python3.8/dist-packages (from ipython->execnb>=0.1.4->nbdev) (4.8.0)\n",
            "Requirement already satisfied: setuptools>=18.5 in /usr/local/lib/python3.8/dist-packages (from ipython->execnb>=0.1.4->nbdev) (57.4.0)\n",
            "Requirement already satisfied: backcall in /usr/local/lib/python3.8/dist-packages (from ipython->execnb>=0.1.4->nbdev) (0.2.0)\n",
            "Requirement already satisfied: traitlets>=4.2 in /usr/local/lib/python3.8/dist-packages (from ipython->execnb>=0.1.4->nbdev) (5.7.1)\n",
            "Requirement already satisfied: decorator in /usr/local/lib/python3.8/dist-packages (from ipython->execnb>=0.1.4->nbdev) (4.4.2)\n",
            "Requirement already satisfied: pygments in /usr/local/lib/python3.8/dist-packages (from ipython->execnb>=0.1.4->nbdev) (2.6.1)\n",
            "Requirement already satisfied: prompt-toolkit<2.1.0,>=2.0.0 in /usr/local/lib/python3.8/dist-packages (from ipython->execnb>=0.1.4->nbdev) (2.0.10)\n",
            "Requirement already satisfied: jedi>=0.10 in /usr/local/lib/python3.8/dist-packages (from ipython->execnb>=0.1.4->nbdev) (0.18.2)\n",
            "Requirement already satisfied: pickleshare in /usr/local/lib/python3.8/dist-packages (from ipython->execnb>=0.1.4->nbdev) (0.7.5)\n",
            "Requirement already satisfied: parso<0.9.0,>=0.8.0 in /usr/local/lib/python3.8/dist-packages (from jedi>=0.10->ipython->execnb>=0.1.4->nbdev) (0.8.3)\n",
            "Requirement already satisfied: wcwidth in /usr/local/lib/python3.8/dist-packages (from prompt-toolkit<2.1.0,>=2.0.0->ipython->execnb>=0.1.4->nbdev) (0.2.6)\n",
            "Requirement already satisfied: ptyprocess>=0.5 in /usr/local/lib/python3.8/dist-packages (from pexpect->ipython->execnb>=0.1.4->nbdev) (0.7.0)\n",
            "Installing collected packages: watchdog, asttokens, ghapi, execnb, nbdev\n",
            "Successfully installed asttokens-2.2.1 execnb-0.1.5 ghapi-1.0.3 nbdev-2.3.12 watchdog-2.2.1\n",
            "Mounted at /content/gdrive\n"
          ]
        }
      ],
      "source": [
        "import sys\n",
        "\n",
        "if 'google.colab' in sys.modules:\n",
        "    ! [ -e /content ] && pip install -Uqq fastbook\n",
        "    !pip install nbdev\n",
        "    \n",
        "import fastbook\n",
        "fastbook.setup_book()"
      ]
    },
    {
      "cell_type": "code",
      "execution_count": 2,
      "id": "c0174db8-8748-4f3f-a164-b1c4da976387",
      "metadata": {
        "id": "c0174db8-8748-4f3f-a164-b1c4da976387"
      },
      "outputs": [],
      "source": [
        "from fastai.vision.all import *\n",
        "from fastbook import *"
      ]
    },
    {
      "cell_type": "markdown",
      "id": "3747fed1-3b4b-4b06-9072-67d9982d80ff",
      "metadata": {
        "id": "3747fed1-3b4b-4b06-9072-67d9982d80ff"
      },
      "source": [
        "# Data"
      ]
    },
    {
      "cell_type": "code",
      "execution_count": 3,
      "id": "975cff2f-ad00-4dda-9663-e8e1d2a16d0e",
      "metadata": {
        "colab": {
          "base_uri": "https://localhost:8080/",
          "height": 55
        },
        "id": "975cff2f-ad00-4dda-9663-e8e1d2a16d0e",
        "outputId": "82a44c2a-aec2-4295-efc4-dc11655ab035"
      },
      "outputs": [
        {
          "output_type": "display_data",
          "data": {
            "text/plain": [
              "<IPython.core.display.HTML object>"
            ],
            "text/html": [
              "\n",
              "<style>\n",
              "    /* Turns off some styling */\n",
              "    progress {\n",
              "        /* gets rid of default border in Firefox and Opera. */\n",
              "        border: none;\n",
              "        /* Needs to be in here for Safari polyfill so background images work as expected. */\n",
              "        background-size: auto;\n",
              "    }\n",
              "    progress:not([value]), progress:not([value])::-webkit-progress-bar {\n",
              "        background: repeating-linear-gradient(45deg, #7e7e7e, #7e7e7e 10px, #5c5c5c 10px, #5c5c5c 20px);\n",
              "    }\n",
              "    .progress-bar-interrupted, .progress-bar-interrupted::-webkit-progress-bar {\n",
              "        background: #F44336;\n",
              "    }\n",
              "</style>\n"
            ]
          },
          "metadata": {}
        },
        {
          "output_type": "display_data",
          "data": {
            "text/plain": [
              "<IPython.core.display.HTML object>"
            ],
            "text/html": [
              "\n",
              "    <div>\n",
              "      <progress value='15687680' class='' max='15683414' style='width:300px; height:20px; vertical-align: middle;'></progress>\n",
              "      100.03% [15687680/15683414 00:01&lt;00:00]\n",
              "    </div>\n",
              "    "
            ]
          },
          "metadata": {}
        },
        {
          "output_type": "execute_result",
          "data": {
            "text/plain": [
              "Path('/root/.fastai/data/mnist_png')"
            ]
          },
          "metadata": {},
          "execution_count": 3
        }
      ],
      "source": [
        "# Download full MNIST dataset\n",
        "path = untar_data(URLs.MNIST)\n",
        "path"
      ]
    },
    {
      "cell_type": "markdown",
      "id": "80f62f2f-3012-4ff5-b6dd-e14b1c356d0b",
      "metadata": {
        "id": "80f62f2f-3012-4ff5-b6dd-e14b1c356d0b",
        "tags": []
      },
      "source": [
        "# Fastai classifier"
      ]
    },
    {
      "cell_type": "code",
      "execution_count": 4,
      "id": "88fef5ab-391d-4d1d-b021-92ca13746aad",
      "metadata": {
        "id": "88fef5ab-391d-4d1d-b021-92ca13746aad"
      },
      "outputs": [],
      "source": [
        "# Build data loader\n",
        "dls = ImageDataLoaders.from_folder(path,train='training' ,valid='testing')"
      ]
    },
    {
      "cell_type": "code",
      "execution_count": 5,
      "id": "95a1bb28-4fc5-4e4b-b5f3-f623b727446f",
      "metadata": {
        "colab": {
          "base_uri": "https://localhost:8080/"
        },
        "id": "95a1bb28-4fc5-4e4b-b5f3-f623b727446f",
        "outputId": "5c7c52f5-cd5b-45ad-e758-dca8b82f511d"
      },
      "outputs": [
        {
          "output_type": "stream",
          "name": "stderr",
          "text": [
            "/usr/local/lib/python3.8/dist-packages/torchvision/models/_utils.py:208: UserWarning: The parameter 'pretrained' is deprecated since 0.13 and may be removed in the future, please use 'weights' instead.\n",
            "  warnings.warn(\n",
            "/usr/local/lib/python3.8/dist-packages/torchvision/models/_utils.py:223: UserWarning: Arguments other than a weight enum or `None` for 'weights' are deprecated since 0.13 and may be removed in the future. The current behavior is equivalent to passing `weights=None`.\n",
            "  warnings.warn(msg)\n"
          ]
        }
      ],
      "source": [
        "learn = vision_learner(dls,resnet18,pretrained=False,\n",
        "                       loss_func=F.cross_entropy,metrics=accuracy)"
      ]
    },
    {
      "cell_type": "code",
      "execution_count": 6,
      "id": "618c1a9a-ef9d-41f9-aa73-49a7a0f76ffe",
      "metadata": {
        "colab": {
          "base_uri": "https://localhost:8080/",
          "height": 112
        },
        "id": "618c1a9a-ef9d-41f9-aa73-49a7a0f76ffe",
        "outputId": "7936805f-755c-4ee2-c242-e5a10f84258f"
      },
      "outputs": [
        {
          "output_type": "display_data",
          "data": {
            "text/plain": [
              "<IPython.core.display.HTML object>"
            ],
            "text/html": [
              "\n",
              "<style>\n",
              "    /* Turns off some styling */\n",
              "    progress {\n",
              "        /* gets rid of default border in Firefox and Opera. */\n",
              "        border: none;\n",
              "        /* Needs to be in here for Safari polyfill so background images work as expected. */\n",
              "        background-size: auto;\n",
              "    }\n",
              "    progress:not([value]), progress:not([value])::-webkit-progress-bar {\n",
              "        background: repeating-linear-gradient(45deg, #7e7e7e, #7e7e7e 10px, #5c5c5c 10px, #5c5c5c 20px);\n",
              "    }\n",
              "    .progress-bar-interrupted, .progress-bar-interrupted::-webkit-progress-bar {\n",
              "        background: #F44336;\n",
              "    }\n",
              "</style>\n"
            ]
          },
          "metadata": {}
        },
        {
          "output_type": "display_data",
          "data": {
            "text/plain": [
              "<IPython.core.display.HTML object>"
            ],
            "text/html": [
              "<table border=\"1\" class=\"dataframe\">\n",
              "  <thead>\n",
              "    <tr style=\"text-align: left;\">\n",
              "      <th>epoch</th>\n",
              "      <th>train_loss</th>\n",
              "      <th>valid_loss</th>\n",
              "      <th>accuracy</th>\n",
              "      <th>time</th>\n",
              "    </tr>\n",
              "  </thead>\n",
              "  <tbody>\n",
              "    <tr>\n",
              "      <td>0</td>\n",
              "      <td>0.694914</td>\n",
              "      <td>0.378404</td>\n",
              "      <td>0.939600</td>\n",
              "      <td>01:35</td>\n",
              "    </tr>\n",
              "    <tr>\n",
              "      <td>1</td>\n",
              "      <td>0.063946</td>\n",
              "      <td>1.096199</td>\n",
              "      <td>0.989600</td>\n",
              "      <td>01:24</td>\n",
              "    </tr>\n",
              "  </tbody>\n",
              "</table>"
            ]
          },
          "metadata": {}
        }
      ],
      "source": [
        "learn.fit_one_cycle(2,0.1)"
      ]
    },
    {
      "cell_type": "markdown",
      "id": "djePiSxhZQZC",
      "metadata": {
        "id": "djePiSxhZQZC"
      },
      "source": [
        "# Custom trainer"
      ]
    },
    {
      "cell_type": "markdown",
      "id": "8O49qvHeZmn-",
      "metadata": {
        "id": "8O49qvHeZmn-"
      },
      "source": [
        "## Data"
      ]
    },
    {
      "cell_type": "code",
      "execution_count": 7,
      "id": "I66_FFPPZPQs",
      "metadata": {
        "id": "I66_FFPPZPQs"
      },
      "outputs": [],
      "source": [
        "# Review directories\n",
        "training_path = (path/'training').ls().sorted()\n",
        "valid_path = (path/'testing').ls().sorted()"
      ]
    },
    {
      "cell_type": "code",
      "execution_count": 8,
      "id": "ZCU_XRc8asj2",
      "metadata": {
        "colab": {
          "base_uri": "https://localhost:8080/"
        },
        "id": "ZCU_XRc8asj2",
        "outputId": "322d1e35-498f-4ff8-e467-6fd36f22390f"
      },
      "outputs": [
        {
          "output_type": "execute_result",
          "data": {
            "text/plain": [
              "([5923, 6742, 5958, 6131, 5842, 5421, 5918, 6265, 5851, 5949], 60000)"
            ]
          },
          "metadata": {},
          "execution_count": 8
        }
      ],
      "source": [
        "# Check training data\n",
        "av_imgs = [len(i.ls()) for i in training_path]\n",
        "av_imgs, sum(av_imgs)"
      ]
    },
    {
      "cell_type": "code",
      "execution_count": 9,
      "id": "BTpFoxAebTL6",
      "metadata": {
        "colab": {
          "base_uri": "https://localhost:8080/"
        },
        "id": "BTpFoxAebTL6",
        "outputId": "043e10b7-9260-4a8f-a823-8a37f6d16e57"
      },
      "outputs": [
        {
          "output_type": "execute_result",
          "data": {
            "text/plain": [
              "([980, 1135, 1032, 1010, 982, 892, 958, 1028, 974, 1009], 10000)"
            ]
          },
          "metadata": {},
          "execution_count": 9
        }
      ],
      "source": [
        "# Check testing data\n",
        "av_imgs = [len(i.ls()) for i in valid_path]\n",
        "av_imgs, sum(av_imgs)"
      ]
    },
    {
      "cell_type": "code",
      "execution_count": 10,
      "id": "HwGV1U6IaBNx",
      "metadata": {
        "id": "HwGV1U6IaBNx"
      },
      "outputs": [],
      "source": [
        "# List of lists of image paths\n",
        "train_nums = [n.ls() for n in training_path]\n",
        "valid_nums = [n.ls() for n in valid_path]"
      ]
    },
    {
      "cell_type": "code",
      "execution_count": 11,
      "id": "_BX8R-p4bhVr",
      "metadata": {
        "id": "_BX8R-p4bhVr"
      },
      "outputs": [],
      "source": [
        "# Create a list of tensors for each digit\n",
        "train_nums_lists = [[tensor(Image.open(im)) for im in num] for num in train_nums]\n",
        "valid_nums_lists = [[tensor(Image.open(im)) for im in num] for num in valid_nums]"
      ]
    },
    {
      "cell_type": "code",
      "execution_count": 12,
      "id": "fiZIvlWrb64w",
      "metadata": {
        "id": "fiZIvlWrb64w"
      },
      "outputs": [],
      "source": [
        "# Stack all tensors, convert to float, and normalise\n",
        "train_nums_tensors = [torch.stack(nums_list).float()/255 for nums_list in train_nums_lists]\n",
        "valid_nums_tensors = [torch.stack(nums_list).float()/255 for nums_list in valid_nums_lists]"
      ]
    },
    {
      "cell_type": "code",
      "execution_count": 13,
      "id": "N8sfPthWctAw",
      "metadata": {
        "colab": {
          "base_uri": "https://localhost:8080/"
        },
        "id": "N8sfPthWctAw",
        "outputId": "2e7218ae-18f2-41fb-b7d5-ded866982481"
      },
      "outputs": [
        {
          "output_type": "execute_result",
          "data": {
            "text/plain": [
              "([torch.Size([5923, 28, 28]),\n",
              "  torch.Size([6742, 28, 28]),\n",
              "  torch.Size([5958, 28, 28]),\n",
              "  torch.Size([6131, 28, 28]),\n",
              "  torch.Size([5842, 28, 28]),\n",
              "  torch.Size([5421, 28, 28]),\n",
              "  torch.Size([5918, 28, 28]),\n",
              "  torch.Size([6265, 28, 28]),\n",
              "  torch.Size([5851, 28, 28]),\n",
              "  torch.Size([5949, 28, 28])],\n",
              " [5923, 6742, 5958, 6131, 5842, 5421, 5918, 6265, 5851, 5949],\n",
              " 60000)"
            ]
          },
          "metadata": {},
          "execution_count": 13
        }
      ],
      "source": [
        "# Check test tensors\n",
        "av_t = [t.shape for t in train_nums_tensors]\n",
        "av_t,[i[0] for i in av_t], sum([i[0] for i in av_t])"
      ]
    },
    {
      "cell_type": "code",
      "execution_count": 14,
      "id": "sxDLlOiXdF6i",
      "metadata": {
        "colab": {
          "base_uri": "https://localhost:8080/"
        },
        "id": "sxDLlOiXdF6i",
        "outputId": "f1a2f3ea-0518-44e0-d4a2-fa646b1feb2a"
      },
      "outputs": [
        {
          "output_type": "execute_result",
          "data": {
            "text/plain": [
              "([torch.Size([980, 28, 28]),\n",
              "  torch.Size([1135, 28, 28]),\n",
              "  torch.Size([1032, 28, 28]),\n",
              "  torch.Size([1010, 28, 28]),\n",
              "  torch.Size([982, 28, 28]),\n",
              "  torch.Size([892, 28, 28]),\n",
              "  torch.Size([958, 28, 28]),\n",
              "  torch.Size([1028, 28, 28]),\n",
              "  torch.Size([974, 28, 28]),\n",
              "  torch.Size([1009, 28, 28])],\n",
              " [980, 1135, 1032, 1010, 982, 892, 958, 1028, 974, 1009],\n",
              " 10000)"
            ]
          },
          "metadata": {},
          "execution_count": 14
        }
      ],
      "source": [
        "# Check valid tensors\n",
        "av_t = [t.shape for t in valid_nums_tensors]\n",
        "av_t,[i[0] for i in av_t], sum([i[0] for i in av_t])"
      ]
    },
    {
      "cell_type": "code",
      "execution_count": 15,
      "id": "s7IcykpFdVhH",
      "metadata": {
        "colab": {
          "base_uri": "https://localhost:8080/"
        },
        "id": "s7IcykpFdVhH",
        "outputId": "ec25fe39-af82-4509-b467-9a449e6faeb1"
      },
      "outputs": [
        {
          "output_type": "execute_result",
          "data": {
            "text/plain": [
              "(torch.Size([60000, 784]), torch.Size([10000, 784]))"
            ]
          },
          "metadata": {},
          "execution_count": 15
        }
      ],
      "source": [
        "# Transform rank-3 to rank-2 tensors\n",
        "train_x = torch.cat(train_nums_tensors).view(-1,28*28)\n",
        "valid_x = torch.cat(valid_nums_tensors).view(-1,28*28)\n",
        "\n",
        "train_x.shape, valid_x.shape"
      ]
    },
    {
      "cell_type": "code",
      "execution_count": 16,
      "id": "QAYgtGbFeAaF",
      "metadata": {
        "colab": {
          "base_uri": "https://localhost:8080/"
        },
        "id": "QAYgtGbFeAaF",
        "outputId": "5fb9e79e-e4aa-4e6a-84c3-3579ad2ff3c8"
      },
      "outputs": [
        {
          "output_type": "execute_result",
          "data": {
            "text/plain": [
              "(torch.Size([60000, 1]), torch.Size([10000, 1]))"
            ]
          },
          "metadata": {},
          "execution_count": 16
        }
      ],
      "source": [
        "# Create target labels\n",
        "train_y = torch.cat([tensor([i]*s).unsqueeze(1) for i,s in enumerate([t.shape[0] for t in train_nums_tensors])])\n",
        "valid_y = torch.cat([tensor([i]*s).unsqueeze(1) for i,s in enumerate([t.shape[0] for t in valid_nums_tensors])])\n",
        "\n",
        "train_y.shape, valid_y.shape"
      ]
    },
    {
      "cell_type": "code",
      "execution_count": 17,
      "id": "9def123d-83f4-40c4-adb8-72c0e092c379",
      "metadata": {
        "id": "9def123d-83f4-40c4-adb8-72c0e092c379"
      },
      "outputs": [],
      "source": [
        "# Create validation and testing PyTorch datasets\n",
        "train_dset = list(zip(train_x, train_y))\n",
        "valid_dset = list(zip(valid_x, valid_y))"
      ]
    },
    {
      "cell_type": "code",
      "execution_count": 18,
      "id": "e47ec19d-f7d4-4a67-a84f-79752e75d27c",
      "metadata": {
        "id": "e47ec19d-f7d4-4a67-a84f-79752e75d27c"
      },
      "outputs": [],
      "source": [
        "# Create data loader\n",
        "train_dl = DataLoader(train_dset, bs=64, shuffle=True)"
      ]
    },
    {
      "cell_type": "markdown",
      "id": "7ade5df8-ec08-48f2-b5bb-23d4f20609dd",
      "metadata": {
        "tags": [],
        "id": "7ade5df8-ec08-48f2-b5bb-23d4f20609dd"
      },
      "source": [
        "## Simple net model"
      ]
    },
    {
      "cell_type": "code",
      "execution_count": 19,
      "id": "1ee6cbfc-1c21-4096-8e1c-889382851ee3",
      "metadata": {
        "id": "1ee6cbfc-1c21-4096-8e1c-889382851ee3"
      },
      "outputs": [],
      "source": [
        "# Multiclass loss\n",
        "def mnist_loss(preds, targs):\n",
        "    preds = preds.softmax(dim=1)\n",
        "    return -(torch.log(preds[np.arange(len(preds)),targs.squeeze()])).mean()\n"
      ]
    },
    {
      "cell_type": "code",
      "execution_count": 20,
      "id": "9a2c4262-c23e-4b5e-9d63-beab1fa001a0",
      "metadata": {
        "id": "9a2c4262-c23e-4b5e-9d63-beab1fa001a0"
      },
      "outputs": [],
      "source": [
        "# Create optimiser\n",
        "class BasicOptim:\n",
        "    def __init__(self,parameters,lr):\n",
        "        self.params = list(parameters)\n",
        "        self.lr = lr\n",
        "        \n",
        "    def step(self, *args, **kwargs):\n",
        "        for p in self.params:\n",
        "            p.data -= self.lr * p.grad.data\n",
        "            \n",
        "    def zero_grad(self, *args, **kwargs):\n",
        "        for p in self.params:\n",
        "            p.grad = None"
      ]
    },
    {
      "cell_type": "code",
      "execution_count": 21,
      "id": "4b789800-5757-49ef-aa10-d6d75d784656",
      "metadata": {
        "id": "4b789800-5757-49ef-aa10-d6d75d784656"
      },
      "outputs": [],
      "source": [
        "def batch_accuracy(preds, y):\n",
        "    return (preds.argmax(dim=preds.dim()-1)==y.squeeze()).float().mean()"
      ]
    },
    {
      "cell_type": "code",
      "execution_count": 22,
      "id": "741c265d-8328-4704-87be-8aae16488529",
      "metadata": {
        "id": "741c265d-8328-4704-87be-8aae16488529"
      },
      "outputs": [],
      "source": [
        "def calc_grads(model, x, y, loss_fn):\n",
        "    preds = model(x)\n",
        "    loss = loss_fn(preds,y.squeeze())\n",
        "    loss.backward()\n",
        "    return loss.item()"
      ]
    },
    {
      "cell_type": "code",
      "execution_count": 23,
      "id": "9481d7c9-55ae-4e0e-ba54-ca6bd55d1c8e",
      "metadata": {
        "id": "9481d7c9-55ae-4e0e-ba54-ca6bd55d1c8e"
      },
      "outputs": [],
      "source": [
        "def validate_epoch(model, valid_dl):\n",
        "    accs = [batch_accuracy(model(xb),yb) for xb,yb in valid_dl]\n",
        "    return round(torch.stack(accs).mean().item(),4)"
      ]
    },
    {
      "cell_type": "code",
      "execution_count": 24,
      "id": "538e919a-f502-42e8-9eef-d779c6f276b9",
      "metadata": {
        "id": "538e919a-f502-42e8-9eef-d779c6f276b9"
      },
      "outputs": [],
      "source": [
        "def train_epoch(dl, model, loss_fn, opt):\n",
        "    batch_loss = []\n",
        "    for xb, yb in dl:\n",
        "        batch_loss.append(calc_grads(model, xb, yb, loss_fn))\n",
        "        opt.step()\n",
        "        opt.zero_grad()\n",
        "    print(f'\\tAvg batch loss: {tensor(batch_loss).mean()}')"
      ]
    },
    {
      "cell_type": "code",
      "execution_count": 25,
      "id": "ca0d5445-4033-4018-adfb-8a479a38c1e2",
      "metadata": {
        "id": "ca0d5445-4033-4018-adfb-8a479a38c1e2"
      },
      "outputs": [],
      "source": [
        "# Train model\n",
        "def train_model(dl, model, epochs, loss_fn, valid_dl, opt):\n",
        "    model_start = time.time()\n",
        "    for e in range(epochs):\n",
        "        epoch_start = time.time()\n",
        "        train_epoch(dl, model, loss_fn, opt)\n",
        "        print(f'Epoch {e}: accuracy = {validate_epoch(model, valid_dl)}, time {time.time()-epoch_start:.2f}s')\n",
        "    print(f'Training time: {time.time()-model_start:.2f}s')"
      ]
    },
    {
      "cell_type": "markdown",
      "id": "fed2a3c3-ac7b-4c00-aa2d-66001756e73b",
      "metadata": {
        "tags": [],
        "id": "fed2a3c3-ac7b-4c00-aa2d-66001756e73b"
      },
      "source": [
        "### Testing"
      ]
    },
    {
      "cell_type": "code",
      "execution_count": 26,
      "id": "32cc7e46-e426-4b99-9f72-085f5d3bc5b7",
      "metadata": {
        "id": "32cc7e46-e426-4b99-9f72-085f5d3bc5b7"
      },
      "outputs": [],
      "source": [
        "# Simple neural network\n",
        "simple_net = nn.Sequential(\n",
        "    nn.Linear(28*28,100),\n",
        "    nn.ReLU(),\n",
        "    nn.Linear(100,30),\n",
        "    nn.ReLU(),\n",
        "    nn.Linear(30,10)\n",
        ")\n",
        "opt = BasicOptim(simple_net.parameters(), 0.1)"
      ]
    },
    {
      "cell_type": "code",
      "execution_count": 27,
      "id": "822fca92-7a5a-44d3-ace3-3124e40a8c38",
      "metadata": {
        "id": "822fca92-7a5a-44d3-ace3-3124e40a8c38"
      },
      "outputs": [],
      "source": [
        "for xb, yb in train_dl:\n",
        "    break"
      ]
    },
    {
      "cell_type": "markdown",
      "id": "775f48b5-cc89-4ae2-a5f0-6b07db568a51",
      "metadata": {
        "tags": [],
        "id": "775f48b5-cc89-4ae2-a5f0-6b07db568a51"
      },
      "source": [
        "#### Categorical $L_{CE}$"
      ]
    },
    {
      "cell_type": "code",
      "execution_count": 28,
      "id": "b8851f78-172b-4aa2-ad1f-5ad1e56bcdab",
      "metadata": {
        "id": "b8851f78-172b-4aa2-ad1f-5ad1e56bcdab",
        "outputId": "c2855311-01c9-470c-ea33-3a45d7741068",
        "colab": {
          "base_uri": "https://localhost:8080/"
        }
      },
      "outputs": [
        {
          "output_type": "execute_result",
          "data": {
            "text/plain": [
              "torch.Size([64, 10])"
            ]
          },
          "metadata": {},
          "execution_count": 28
        }
      ],
      "source": [
        "preds = simple_net(xb)\n",
        "preds.shape"
      ]
    },
    {
      "cell_type": "code",
      "execution_count": 29,
      "id": "f7969fca-198a-42f2-947c-0a6c6e28a7f7",
      "metadata": {
        "id": "f7969fca-198a-42f2-947c-0a6c6e28a7f7",
        "outputId": "ced44b6e-1130-45da-eabe-ba51430ba938",
        "colab": {
          "base_uri": "https://localhost:8080/"
        }
      },
      "outputs": [
        {
          "output_type": "execute_result",
          "data": {
            "text/plain": [
              "10"
            ]
          },
          "metadata": {},
          "execution_count": 29
        }
      ],
      "source": [
        "num_classes=len(preds) if preds.dim()==1 else preds.shape[1]\n",
        "num_classes"
      ]
    },
    {
      "cell_type": "code",
      "execution_count": 30,
      "id": "06067f6f-ceda-429b-9533-a6ce6768b01f",
      "metadata": {
        "id": "06067f6f-ceda-429b-9533-a6ce6768b01f",
        "outputId": "b8d0ddaa-e570-4d01-88de-fb9df1325964",
        "colab": {
          "base_uri": "https://localhost:8080/"
        }
      },
      "outputs": [
        {
          "output_type": "execute_result",
          "data": {
            "text/plain": [
              "torch.Size([64, 10])"
            ]
          },
          "metadata": {},
          "execution_count": 30
        }
      ],
      "source": [
        "targs = F.one_hot(yb,num_classes=num_classes).view(-1,num_classes)\n",
        "targs.shape"
      ]
    },
    {
      "cell_type": "code",
      "execution_count": 31,
      "id": "14143d3f-c1b7-4df1-a7e2-c4d38d591b0c",
      "metadata": {
        "id": "14143d3f-c1b7-4df1-a7e2-c4d38d591b0c"
      },
      "outputs": [],
      "source": [
        "s_preds = preds.softmax(dim=1)"
      ]
    },
    {
      "cell_type": "code",
      "execution_count": 32,
      "id": "dc51148c-69e6-4ca8-9a26-dde8886fb3ec",
      "metadata": {
        "id": "dc51148c-69e6-4ca8-9a26-dde8886fb3ec",
        "outputId": "bfca873a-b458-4579-99cd-17413936ea96",
        "colab": {
          "base_uri": "https://localhost:8080/"
        }
      },
      "outputs": [
        {
          "output_type": "execute_result",
          "data": {
            "text/plain": [
              "(torch.Size([64, 10]), torch.Size([64, 10]))"
            ]
          },
          "metadata": {},
          "execution_count": 32
        }
      ],
      "source": [
        "targs.shape, s_preds.shape"
      ]
    },
    {
      "cell_type": "code",
      "execution_count": 33,
      "id": "e9aded46-13f6-4295-899c-5fe55c0dd8c5",
      "metadata": {
        "id": "e9aded46-13f6-4295-899c-5fe55c0dd8c5",
        "outputId": "42ebb1c6-bd27-4935-d78a-b29217e941a3",
        "colab": {
          "base_uri": "https://localhost:8080/"
        }
      },
      "outputs": [
        {
          "output_type": "execute_result",
          "data": {
            "text/plain": [
              "tensor(2.3108, grad_fn=<NegBackward0>)"
            ]
          },
          "metadata": {},
          "execution_count": 33
        }
      ],
      "source": [
        "-(targs*torch.log(s_preds)).sum(dim=1).mean()"
      ]
    },
    {
      "cell_type": "markdown",
      "id": "fec10ac7-f5b2-4350-aaa3-1a949411b68e",
      "metadata": {
        "tags": [],
        "id": "fec10ac7-f5b2-4350-aaa3-1a949411b68e"
      },
      "source": [
        "#### Sparce $L_{CE}$"
      ]
    },
    {
      "cell_type": "code",
      "execution_count": 34,
      "id": "6f45f70e-de40-45f8-ae4d-2f3e3a03820d",
      "metadata": {
        "id": "6f45f70e-de40-45f8-ae4d-2f3e3a03820d"
      },
      "outputs": [],
      "source": [
        "s_preds = preds.softmax(dim=1)"
      ]
    },
    {
      "cell_type": "code",
      "execution_count": 35,
      "id": "f6e9edb3-778c-4d2f-b98a-2fddd9da5d94",
      "metadata": {
        "id": "f6e9edb3-778c-4d2f-b98a-2fddd9da5d94",
        "outputId": "f127c63b-5e2f-464f-f90b-389e4ea3362c",
        "colab": {
          "base_uri": "https://localhost:8080/"
        }
      },
      "outputs": [
        {
          "output_type": "execute_result",
          "data": {
            "text/plain": [
              "tensor(2.3108, grad_fn=<NegBackward0>)"
            ]
          },
          "metadata": {},
          "execution_count": 35
        }
      ],
      "source": [
        "-(torch.log(s_preds[np.arange(len(s_preds)),yb.squeeze()])).mean()"
      ]
    },
    {
      "cell_type": "markdown",
      "id": "d7113130-4864-4ad8-bc54-34f8fde233c0",
      "metadata": {
        "tags": [],
        "id": "d7113130-4864-4ad8-bc54-34f8fde233c0"
      },
      "source": [
        "#### PyTorch $L_{CE}$"
      ]
    },
    {
      "cell_type": "code",
      "execution_count": 36,
      "id": "f0ed8b36-b98e-41c8-9004-643d3eda1f35",
      "metadata": {
        "id": "f0ed8b36-b98e-41c8-9004-643d3eda1f35",
        "outputId": "5077f535-3e43-49a2-b75c-9ca9725b6aff",
        "colab": {
          "base_uri": "https://localhost:8080/"
        }
      },
      "outputs": [
        {
          "output_type": "execute_result",
          "data": {
            "text/plain": [
              "tensor(2.3108, grad_fn=<NllLossBackward0>)"
            ]
          },
          "metadata": {},
          "execution_count": 36
        }
      ],
      "source": [
        "tcel = nn.CrossEntropyLoss()\n",
        "tcel(preds,yb.squeeze())"
      ]
    },
    {
      "cell_type": "markdown",
      "id": "e58740f5-4e69-4420-8ca8-1484e7d0b041",
      "metadata": {
        "tags": [],
        "id": "e58740f5-4e69-4420-8ca8-1484e7d0b041"
      },
      "source": [
        "### Model training"
      ]
    },
    {
      "cell_type": "code",
      "execution_count": 37,
      "id": "8cc5c7af-ee83-474c-8b0c-2dae3f479bd6",
      "metadata": {
        "id": "8cc5c7af-ee83-474c-8b0c-2dae3f479bd6"
      },
      "outputs": [],
      "source": [
        "# Simple neural network\n",
        "simple_net = nn.Sequential(\n",
        "    nn.Linear(28*28,100),\n",
        "    nn.ReLU(),\n",
        "    nn.Linear(100,30),\n",
        "    nn.ReLU(),\n",
        "    nn.Linear(30,10)\n",
        ")\n",
        "opt = BasicOptim(simple_net.parameters(), 0.1)"
      ]
    },
    {
      "cell_type": "markdown",
      "id": "3a6ae3bd-9ee4-4f6e-9ce3-e7b431908389",
      "metadata": {
        "id": "3a6ae3bd-9ee4-4f6e-9ce3-e7b431908389"
      },
      "source": [
        "#### PyTorch $L_{CE}$"
      ]
    },
    {
      "cell_type": "code",
      "execution_count": 38,
      "id": "19724247-de83-4113-ac1d-9ba4d74bd2ad",
      "metadata": {
        "id": "19724247-de83-4113-ac1d-9ba4d74bd2ad",
        "outputId": "74a14a53-46bd-469f-9d40-9e2b9317f292",
        "colab": {
          "base_uri": "https://localhost:8080/"
        }
      },
      "outputs": [
        {
          "output_type": "stream",
          "name": "stdout",
          "text": [
            "\tAvg batch loss: 0.5231608152389526\n",
            "Epoch 0: accuracy = 0.9317, time 3.85s\n",
            "\tAvg batch loss: 0.18905791640281677\n",
            "Epoch 1: accuracy = 0.9469, time 2.81s\n",
            "\tAvg batch loss: 0.13389848172664642\n",
            "Epoch 2: accuracy = 0.9653, time 2.85s\n",
            "\tAvg batch loss: 0.10432102531194687\n",
            "Epoch 3: accuracy = 0.9639, time 3.02s\n",
            "\tAvg batch loss: 0.0852615088224411\n",
            "Epoch 4: accuracy = 0.9699, time 3.86s\n",
            "\tAvg batch loss: 0.07128070294857025\n",
            "Epoch 5: accuracy = 0.9699, time 3.59s\n",
            "\tAvg batch loss: 0.06071796268224716\n",
            "Epoch 6: accuracy = 0.9722, time 2.76s\n",
            "\tAvg batch loss: 0.05313842371106148\n",
            "Epoch 7: accuracy = 0.9667, time 2.89s\n",
            "\tAvg batch loss: 0.045916974544525146\n",
            "Epoch 8: accuracy = 0.9769, time 2.77s\n",
            "\tAvg batch loss: 0.03915255889296532\n",
            "Epoch 9: accuracy = 0.9744, time 3.98s\n",
            "Training time: 32.38s\n"
          ]
        }
      ],
      "source": [
        "train_model(dl=train_dl, model=simple_net, epochs=10, loss_fn=nn.CrossEntropyLoss(), \n",
        "            valid_dl=valid_dset, opt=opt)"
      ]
    },
    {
      "cell_type": "markdown",
      "id": "970a2f16-d22d-4757-b7a8-e818d666cc25",
      "metadata": {
        "id": "970a2f16-d22d-4757-b7a8-e818d666cc25"
      },
      "source": [
        "#### mnist_loss $L_{CE}$"
      ]
    },
    {
      "cell_type": "code",
      "execution_count": 39,
      "id": "8cc32edf-9481-49c0-9958-54e1a46ef11e",
      "metadata": {
        "id": "8cc32edf-9481-49c0-9958-54e1a46ef11e"
      },
      "outputs": [],
      "source": [
        "# Simple neural network\n",
        "simple_net = nn.Sequential(\n",
        "    nn.Linear(28*28,100),\n",
        "    nn.ReLU(),\n",
        "    nn.Linear(100,30),\n",
        "    nn.ReLU(),\n",
        "    nn.Linear(30,10)\n",
        ")\n",
        "opt = BasicOptim(simple_net.parameters(), 0.1)"
      ]
    },
    {
      "cell_type": "code",
      "execution_count": 40,
      "id": "1f781622-fa99-4054-89fe-d24d370e49c7",
      "metadata": {
        "id": "1f781622-fa99-4054-89fe-d24d370e49c7",
        "outputId": "6e6cfa6f-b5a9-445a-e9c2-6de778061b3a",
        "colab": {
          "base_uri": "https://localhost:8080/"
        }
      },
      "outputs": [
        {
          "output_type": "stream",
          "name": "stdout",
          "text": [
            "\tAvg batch loss: 0.5196418762207031\n",
            "Epoch 0: accuracy = 0.9263, time 3.62s\n",
            "\tAvg batch loss: 0.19890545308589935\n",
            "Epoch 1: accuracy = 0.9508, time 2.92s\n",
            "\tAvg batch loss: 0.13962110877037048\n",
            "Epoch 2: accuracy = 0.9574, time 3.03s\n",
            "\tAvg batch loss: 0.10747168213129044\n",
            "Epoch 3: accuracy = 0.9629, time 3.05s\n",
            "\tAvg batch loss: 0.08718109130859375\n",
            "Epoch 4: accuracy = 0.9587, time 4.28s\n",
            "\tAvg batch loss: 0.07299192249774933\n",
            "Epoch 5: accuracy = 0.9711, time 3.08s\n",
            "\tAvg batch loss: 0.060539163649082184\n",
            "Epoch 6: accuracy = 0.9729, time 2.83s\n",
            "\tAvg batch loss: 0.05304195359349251\n",
            "Epoch 7: accuracy = 0.9729, time 3.05s\n",
            "\tAvg batch loss: 0.04544098302721977\n",
            "Epoch 8: accuracy = 0.9763, time 3.47s\n",
            "\tAvg batch loss: 0.03918003663420677\n",
            "Epoch 9: accuracy = 0.973, time 4.26s\n",
            "Training time: 33.60s\n"
          ]
        }
      ],
      "source": [
        "train_model(dl=train_dl, model=simple_net, epochs=10, loss_fn=mnist_loss,\n",
        "            valid_dl=valid_dset, opt=opt)"
      ]
    }
  ],
  "metadata": {
    "accelerator": "GPU",
    "colab": {
      "provenance": [],
      "include_colab_link": true
    },
    "gpuClass": "standard",
    "kernelspec": {
      "display_name": "Python 3 (ipykernel)",
      "language": "python",
      "name": "python3"
    },
    "language_info": {
      "codemirror_mode": {
        "name": "ipython",
        "version": 3
      },
      "file_extension": ".py",
      "mimetype": "text/x-python",
      "name": "python",
      "nbconvert_exporter": "python",
      "pygments_lexer": "ipython3",
      "version": "3.7.13"
    }
  },
  "nbformat": 4,
  "nbformat_minor": 5
}