{
  "cells": [
    {
      "cell_type": "markdown",
      "metadata": {
        "id": "view-in-github",
        "colab_type": "text"
      },
      "source": [
        "<a href=\"https://colab.research.google.com/github/alejandrodgb/fastai/blob/main/clean/04_MNIST_full.ipynb\" target=\"_parent\"><img src=\"https://colab.research.google.com/assets/colab-badge.svg\" alt=\"Open In Colab\"/></a>"
      ]
    },
    {
      "cell_type": "code",
      "execution_count": 1,
      "id": "91a43b4a-db54-4c7b-bf21-373fac84957a",
      "metadata": {
        "colab": {
          "base_uri": "https://localhost:8080/"
        },
        "id": "91a43b4a-db54-4c7b-bf21-373fac84957a",
        "outputId": "f969efa2-6aec-4ccb-8824-4a515a335ea0"
      },
      "outputs": [
        {
          "output_type": "stream",
          "name": "stdout",
          "text": [
            "\u001b[2K     \u001b[90m━━━━━━━━━━━━━━━━━━━━━━━━━━━━━━━━━━━━━━\u001b[0m \u001b[32m719.8/719.8 KB\u001b[0m \u001b[31m18.2 MB/s\u001b[0m eta \u001b[36m0:00:00\u001b[0m\n",
            "\u001b[2K     \u001b[90m━━━━━━━━━━━━━━━━━━━━━━━━━━━━━━━━━━━━━━━━\u001b[0m \u001b[32m6.3/6.3 MB\u001b[0m \u001b[31m32.0 MB/s\u001b[0m eta \u001b[36m0:00:00\u001b[0m\n",
            "\u001b[2K     \u001b[90m━━━━━━━━━━━━━━━━━━━━━━━━━━━━━━━━━━━━━━━\u001b[0m \u001b[32m462.8/462.8 KB\u001b[0m \u001b[31m7.5 MB/s\u001b[0m eta \u001b[36m0:00:00\u001b[0m\n",
            "\u001b[2K     \u001b[90m━━━━━━━━━━━━━━━━━━━━━━━━━━━━━━━━━━━━━━━━\u001b[0m \u001b[32m1.3/1.3 MB\u001b[0m \u001b[31m18.8 MB/s\u001b[0m eta \u001b[36m0:00:00\u001b[0m\n",
            "\u001b[2K     \u001b[90m━━━━━━━━━━━━━━━━━━━━━━━━━━━━━━━━━━━━━━━\u001b[0m \u001b[32m190.3/190.3 KB\u001b[0m \u001b[31m6.6 MB/s\u001b[0m eta \u001b[36m0:00:00\u001b[0m\n",
            "\u001b[2K     \u001b[90m━━━━━━━━━━━━━━━━━━━━━━━━━━━━━━━━━━━━━━━\u001b[0m \u001b[32m132.0/132.0 KB\u001b[0m \u001b[31m1.9 MB/s\u001b[0m eta \u001b[36m0:00:00\u001b[0m\n",
            "\u001b[2K     \u001b[90m━━━━━━━━━━━━━━━━━━━━━━━━━━━━━━━━━━━━━━━\u001b[0m \u001b[32m213.0/213.0 KB\u001b[0m \u001b[31m9.0 MB/s\u001b[0m eta \u001b[36m0:00:00\u001b[0m\n",
            "\u001b[2K     \u001b[90m━━━━━━━━━━━━━━━━━━━━━━━━━━━━━━━━━━━━━━━━\u001b[0m \u001b[32m7.6/7.6 MB\u001b[0m \u001b[31m79.0 MB/s\u001b[0m eta \u001b[36m0:00:00\u001b[0m\n",
            "\u001b[2K     \u001b[90m━━━━━━━━━━━━━━━━━━━━━━━━━━━━━━━━━━━━━━━━\u001b[0m \u001b[32m1.6/1.6 MB\u001b[0m \u001b[31m69.3 MB/s\u001b[0m eta \u001b[36m0:00:00\u001b[0m\n",
            "\u001b[2K     \u001b[90m━━━━━━━━━━━━━━━━━━━━━━━━━━━━━━━━━━━━━━\u001b[0m \u001b[32m140.6/140.6 KB\u001b[0m \u001b[31m19.0 MB/s\u001b[0m eta \u001b[36m0:00:00\u001b[0m\n",
            "\u001b[?25hLooking in indexes: https://pypi.org/simple, https://us-python.pkg.dev/colab-wheels/public/simple/\n",
            "Collecting nbdev\n",
            "  Downloading nbdev-2.3.11-py3-none-any.whl (64 kB)\n",
            "\u001b[2K     \u001b[90m━━━━━━━━━━━━━━━━━━━━━━━━━━━━━━━━━━━━━━━━\u001b[0m \u001b[32m64.5/64.5 KB\u001b[0m \u001b[31m5.3 MB/s\u001b[0m eta \u001b[36m0:00:00\u001b[0m\n",
            "\u001b[?25hCollecting asttokens\n",
            "  Downloading asttokens-2.2.1-py2.py3-none-any.whl (26 kB)\n",
            "Requirement already satisfied: astunparse in /usr/local/lib/python3.8/dist-packages (from nbdev) (1.6.3)\n",
            "Requirement already satisfied: PyYAML in /usr/local/lib/python3.8/dist-packages (from nbdev) (6.0)\n",
            "Collecting watchdog\n",
            "  Downloading watchdog-2.2.1-py3-none-manylinux2014_x86_64.whl (78 kB)\n",
            "\u001b[2K     \u001b[90m━━━━━━━━━━━━━━━━━━━━━━━━━━━━━━━━━━━━━━━━\u001b[0m \u001b[32m79.0/79.0 KB\u001b[0m \u001b[31m10.2 MB/s\u001b[0m eta \u001b[36m0:00:00\u001b[0m\n",
            "\u001b[?25hRequirement already satisfied: fastcore>=1.5.27 in /usr/local/lib/python3.8/dist-packages (from nbdev) (1.5.28)\n",
            "Collecting execnb>=0.1.4\n",
            "  Downloading execnb-0.1.4-py3-none-any.whl (13 kB)\n",
            "Collecting ghapi>=1.0.3\n",
            "  Downloading ghapi-1.0.3-py3-none-any.whl (58 kB)\n",
            "\u001b[2K     \u001b[90m━━━━━━━━━━━━━━━━━━━━━━━━━━━━━━━━━━━━━━━━\u001b[0m \u001b[32m58.1/58.1 KB\u001b[0m \u001b[31m6.9 MB/s\u001b[0m eta \u001b[36m0:00:00\u001b[0m\n",
            "\u001b[?25hRequirement already satisfied: ipython in /usr/local/lib/python3.8/dist-packages (from execnb>=0.1.4->nbdev) (7.9.0)\n",
            "Requirement already satisfied: packaging in /usr/local/lib/python3.8/dist-packages (from fastcore>=1.5.27->nbdev) (23.0)\n",
            "Requirement already satisfied: pip in /usr/local/lib/python3.8/dist-packages (from fastcore>=1.5.27->nbdev) (22.0.4)\n",
            "Requirement already satisfied: six in /usr/local/lib/python3.8/dist-packages (from asttokens->nbdev) (1.15.0)\n",
            "Requirement already satisfied: wheel<1.0,>=0.23.0 in /usr/local/lib/python3.8/dist-packages (from astunparse->nbdev) (0.38.4)\n",
            "Requirement already satisfied: pickleshare in /usr/local/lib/python3.8/dist-packages (from ipython->execnb>=0.1.4->nbdev) (0.7.5)\n",
            "Requirement already satisfied: prompt-toolkit<2.1.0,>=2.0.0 in /usr/local/lib/python3.8/dist-packages (from ipython->execnb>=0.1.4->nbdev) (2.0.10)\n",
            "Requirement already satisfied: traitlets>=4.2 in /usr/local/lib/python3.8/dist-packages (from ipython->execnb>=0.1.4->nbdev) (5.7.1)\n",
            "Requirement already satisfied: decorator in /usr/local/lib/python3.8/dist-packages (from ipython->execnb>=0.1.4->nbdev) (4.4.2)\n",
            "Requirement already satisfied: jedi>=0.10 in /usr/local/lib/python3.8/dist-packages (from ipython->execnb>=0.1.4->nbdev) (0.18.2)\n",
            "Requirement already satisfied: pygments in /usr/local/lib/python3.8/dist-packages (from ipython->execnb>=0.1.4->nbdev) (2.6.1)\n",
            "Requirement already satisfied: setuptools>=18.5 in /usr/local/lib/python3.8/dist-packages (from ipython->execnb>=0.1.4->nbdev) (57.4.0)\n",
            "Requirement already satisfied: backcall in /usr/local/lib/python3.8/dist-packages (from ipython->execnb>=0.1.4->nbdev) (0.2.0)\n",
            "Requirement already satisfied: pexpect in /usr/local/lib/python3.8/dist-packages (from ipython->execnb>=0.1.4->nbdev) (4.8.0)\n",
            "Requirement already satisfied: parso<0.9.0,>=0.8.0 in /usr/local/lib/python3.8/dist-packages (from jedi>=0.10->ipython->execnb>=0.1.4->nbdev) (0.8.3)\n",
            "Requirement already satisfied: wcwidth in /usr/local/lib/python3.8/dist-packages (from prompt-toolkit<2.1.0,>=2.0.0->ipython->execnb>=0.1.4->nbdev) (0.2.6)\n",
            "Requirement already satisfied: ptyprocess>=0.5 in /usr/local/lib/python3.8/dist-packages (from pexpect->ipython->execnb>=0.1.4->nbdev) (0.7.0)\n",
            "Installing collected packages: watchdog, asttokens, ghapi, execnb, nbdev\n",
            "Successfully installed asttokens-2.2.1 execnb-0.1.4 ghapi-1.0.3 nbdev-2.3.11 watchdog-2.2.1\n",
            "Mounted at /content/gdrive\n"
          ]
        }
      ],
      "source": [
        "import sys\n",
        "\n",
        "if 'google.colab' in sys.modules:\n",
        "    ! [ -e /content ] && pip install -Uqq fastbook\n",
        "    !pip install nbdev\n",
        "    \n",
        "import fastbook\n",
        "fastbook.setup_book()"
      ]
    },
    {
      "cell_type": "code",
      "execution_count": 2,
      "id": "c0174db8-8748-4f3f-a164-b1c4da976387",
      "metadata": {
        "id": "c0174db8-8748-4f3f-a164-b1c4da976387"
      },
      "outputs": [],
      "source": [
        "from fastai.vision.all import *\n",
        "from fastbook import *"
      ]
    },
    {
      "cell_type": "markdown",
      "id": "3747fed1-3b4b-4b06-9072-67d9982d80ff",
      "metadata": {
        "id": "3747fed1-3b4b-4b06-9072-67d9982d80ff"
      },
      "source": [
        "# Data"
      ]
    },
    {
      "cell_type": "code",
      "execution_count": 3,
      "id": "975cff2f-ad00-4dda-9663-e8e1d2a16d0e",
      "metadata": {
        "colab": {
          "base_uri": "https://localhost:8080/",
          "height": 55
        },
        "id": "975cff2f-ad00-4dda-9663-e8e1d2a16d0e",
        "outputId": "fcb1345e-6806-481a-bdf1-d799a8c06819"
      },
      "outputs": [
        {
          "output_type": "display_data",
          "data": {
            "text/plain": [
              "<IPython.core.display.HTML object>"
            ],
            "text/html": [
              "\n",
              "<style>\n",
              "    /* Turns off some styling */\n",
              "    progress {\n",
              "        /* gets rid of default border in Firefox and Opera. */\n",
              "        border: none;\n",
              "        /* Needs to be in here for Safari polyfill so background images work as expected. */\n",
              "        background-size: auto;\n",
              "    }\n",
              "    progress:not([value]), progress:not([value])::-webkit-progress-bar {\n",
              "        background: repeating-linear-gradient(45deg, #7e7e7e, #7e7e7e 10px, #5c5c5c 10px, #5c5c5c 20px);\n",
              "    }\n",
              "    .progress-bar-interrupted, .progress-bar-interrupted::-webkit-progress-bar {\n",
              "        background: #F44336;\n",
              "    }\n",
              "</style>\n"
            ]
          },
          "metadata": {}
        },
        {
          "output_type": "display_data",
          "data": {
            "text/plain": [
              "<IPython.core.display.HTML object>"
            ],
            "text/html": [
              "\n",
              "    <div>\n",
              "      <progress value='15687680' class='' max='15683414' style='width:300px; height:20px; vertical-align: middle;'></progress>\n",
              "      100.03% [15687680/15683414 00:00&lt;00:00]\n",
              "    </div>\n",
              "    "
            ]
          },
          "metadata": {}
        },
        {
          "output_type": "execute_result",
          "data": {
            "text/plain": [
              "Path('/root/.fastai/data/mnist_png')"
            ]
          },
          "metadata": {},
          "execution_count": 3
        }
      ],
      "source": [
        "# Download full MNIST dataset\n",
        "path = untar_data(URLs.MNIST)\n",
        "path"
      ]
    },
    {
      "cell_type": "code",
      "execution_count": 4,
      "id": "ebfe4f86-c546-4e19-bf1e-ef944078f78e",
      "metadata": {
        "colab": {
          "base_uri": "https://localhost:8080/"
        },
        "id": "ebfe4f86-c546-4e19-bf1e-ef944078f78e",
        "outputId": "a769331c-6ecc-4943-f30a-10abae407319"
      },
      "outputs": [
        {
          "output_type": "execute_result",
          "data": {
            "text/plain": [
              "(#2) [Path('/root/.fastai/data/mnist_png/testing'),Path('/root/.fastai/data/mnist_png/training')]"
            ]
          },
          "metadata": {},
          "execution_count": 4
        }
      ],
      "source": [
        "# Review directory\n",
        "path.ls()"
      ]
    },
    {
      "cell_type": "code",
      "execution_count": 5,
      "id": "ae7f62c5-529f-49ab-abe1-ce8f8cb70d64",
      "metadata": {
        "colab": {
          "base_uri": "https://localhost:8080/"
        },
        "id": "ae7f62c5-529f-49ab-abe1-ce8f8cb70d64",
        "outputId": "a22c88ea-863f-41d2-d71e-6166d28cc028"
      },
      "outputs": [
        {
          "output_type": "execute_result",
          "data": {
            "text/plain": [
              "(#10) [Path('/root/.fastai/data/mnist_png/training/4'),Path('/root/.fastai/data/mnist_png/training/9'),Path('/root/.fastai/data/mnist_png/training/2'),Path('/root/.fastai/data/mnist_png/training/1'),Path('/root/.fastai/data/mnist_png/training/7'),Path('/root/.fastai/data/mnist_png/training/5'),Path('/root/.fastai/data/mnist_png/training/3'),Path('/root/.fastai/data/mnist_png/training/0'),Path('/root/.fastai/data/mnist_png/training/8'),Path('/root/.fastai/data/mnist_png/training/6')]"
            ]
          },
          "metadata": {},
          "execution_count": 5
        }
      ],
      "source": [
        "# Review training directory\n",
        "(path/'training').ls()"
      ]
    },
    {
      "cell_type": "code",
      "execution_count": 6,
      "id": "3e772b9c-8a41-4293-b933-aaf6cc42e7f8",
      "metadata": {
        "colab": {
          "base_uri": "https://localhost:8080/"
        },
        "id": "3e772b9c-8a41-4293-b933-aaf6cc42e7f8",
        "outputId": "211393ae-242e-42f8-9f79-1bdd6881203f"
      },
      "outputs": [
        {
          "output_type": "execute_result",
          "data": {
            "text/plain": [
              "(#10) [Path('/root/.fastai/data/mnist_png/testing/4'),Path('/root/.fastai/data/mnist_png/testing/9'),Path('/root/.fastai/data/mnist_png/testing/2'),Path('/root/.fastai/data/mnist_png/testing/1'),Path('/root/.fastai/data/mnist_png/testing/7'),Path('/root/.fastai/data/mnist_png/testing/5'),Path('/root/.fastai/data/mnist_png/testing/3'),Path('/root/.fastai/data/mnist_png/testing/0'),Path('/root/.fastai/data/mnist_png/testing/8'),Path('/root/.fastai/data/mnist_png/testing/6')]"
            ]
          },
          "metadata": {},
          "execution_count": 6
        }
      ],
      "source": [
        "# Review testing directory\n",
        "(path/'testing').ls()"
      ]
    },
    {
      "cell_type": "markdown",
      "id": "80f62f2f-3012-4ff5-b6dd-e14b1c356d0b",
      "metadata": {
        "id": "80f62f2f-3012-4ff5-b6dd-e14b1c356d0b"
      },
      "source": [
        "# Fastai classifier"
      ]
    },
    {
      "cell_type": "code",
      "execution_count": 7,
      "id": "88fef5ab-391d-4d1d-b021-92ca13746aad",
      "metadata": {
        "id": "88fef5ab-391d-4d1d-b021-92ca13746aad"
      },
      "outputs": [],
      "source": [
        "# Build data loader\n",
        "dls = ImageDataLoaders.from_folder(path,train='training' ,valid='testing')"
      ]
    },
    {
      "cell_type": "code",
      "execution_count": 8,
      "id": "95a1bb28-4fc5-4e4b-b5f3-f623b727446f",
      "metadata": {
        "colab": {
          "base_uri": "https://localhost:8080/"
        },
        "id": "95a1bb28-4fc5-4e4b-b5f3-f623b727446f",
        "outputId": "1d4e961e-204b-4b58-eae8-a73b0eaff41d"
      },
      "outputs": [
        {
          "output_type": "stream",
          "name": "stderr",
          "text": [
            "/usr/local/lib/python3.8/dist-packages/torchvision/models/_utils.py:208: UserWarning: The parameter 'pretrained' is deprecated since 0.13 and may be removed in the future, please use 'weights' instead.\n",
            "  warnings.warn(\n",
            "/usr/local/lib/python3.8/dist-packages/torchvision/models/_utils.py:223: UserWarning: Arguments other than a weight enum or `None` for 'weights' are deprecated since 0.13 and may be removed in the future. The current behavior is equivalent to passing `weights=None`.\n",
            "  warnings.warn(msg)\n"
          ]
        }
      ],
      "source": [
        "learn = vision_learner(dls,resnet18,pretrained=False,\n",
        "                       loss_func=F.cross_entropy,metrics=accuracy)"
      ]
    },
    {
      "cell_type": "code",
      "execution_count": 9,
      "id": "618c1a9a-ef9d-41f9-aa73-49a7a0f76ffe",
      "metadata": {
        "colab": {
          "base_uri": "https://localhost:8080/",
          "height": 112
        },
        "id": "618c1a9a-ef9d-41f9-aa73-49a7a0f76ffe",
        "outputId": "a8273a4c-38cb-462d-9e77-0fecce2f0140"
      },
      "outputs": [
        {
          "output_type": "display_data",
          "data": {
            "text/plain": [
              "<IPython.core.display.HTML object>"
            ],
            "text/html": [
              "\n",
              "<style>\n",
              "    /* Turns off some styling */\n",
              "    progress {\n",
              "        /* gets rid of default border in Firefox and Opera. */\n",
              "        border: none;\n",
              "        /* Needs to be in here for Safari polyfill so background images work as expected. */\n",
              "        background-size: auto;\n",
              "    }\n",
              "    progress:not([value]), progress:not([value])::-webkit-progress-bar {\n",
              "        background: repeating-linear-gradient(45deg, #7e7e7e, #7e7e7e 10px, #5c5c5c 10px, #5c5c5c 20px);\n",
              "    }\n",
              "    .progress-bar-interrupted, .progress-bar-interrupted::-webkit-progress-bar {\n",
              "        background: #F44336;\n",
              "    }\n",
              "</style>\n"
            ]
          },
          "metadata": {}
        },
        {
          "output_type": "display_data",
          "data": {
            "text/plain": [
              "<IPython.core.display.HTML object>"
            ],
            "text/html": [
              "<table border=\"1\" class=\"dataframe\">\n",
              "  <thead>\n",
              "    <tr style=\"text-align: left;\">\n",
              "      <th>epoch</th>\n",
              "      <th>train_loss</th>\n",
              "      <th>valid_loss</th>\n",
              "      <th>accuracy</th>\n",
              "      <th>time</th>\n",
              "    </tr>\n",
              "  </thead>\n",
              "  <tbody>\n",
              "    <tr>\n",
              "      <td>0</td>\n",
              "      <td>0.618501</td>\n",
              "      <td>0.963392</td>\n",
              "      <td>0.946200</td>\n",
              "      <td>01:33</td>\n",
              "    </tr>\n",
              "    <tr>\n",
              "      <td>1</td>\n",
              "      <td>0.054923</td>\n",
              "      <td>0.032994</td>\n",
              "      <td>0.990800</td>\n",
              "      <td>01:22</td>\n",
              "    </tr>\n",
              "  </tbody>\n",
              "</table>"
            ]
          },
          "metadata": {}
        }
      ],
      "source": [
        "learn.fit_one_cycle(2,0.1)"
      ]
    },
    {
      "cell_type": "markdown",
      "source": [
        "# Custom trainer"
      ],
      "metadata": {
        "id": "djePiSxhZQZC"
      },
      "id": "djePiSxhZQZC"
    },
    {
      "cell_type": "markdown",
      "source": [
        "## Data"
      ],
      "metadata": {
        "id": "8O49qvHeZmn-"
      },
      "id": "8O49qvHeZmn-"
    },
    {
      "cell_type": "code",
      "source": [
        "# Review directories\n",
        "training_path = (path/'training').ls().sorted()\n",
        "valid_path = (path/'testing').ls().sorted()\n",
        "\n",
        "training_path, valid_path"
      ],
      "metadata": {
        "colab": {
          "base_uri": "https://localhost:8080/"
        },
        "id": "I66_FFPPZPQs",
        "outputId": "bd196b17-6b85-452a-bfa5-8d7ddf4d9c15"
      },
      "id": "I66_FFPPZPQs",
      "execution_count": 46,
      "outputs": [
        {
          "output_type": "execute_result",
          "data": {
            "text/plain": [
              "((#10) [Path('/root/.fastai/data/mnist_png/training/0'),Path('/root/.fastai/data/mnist_png/training/1'),Path('/root/.fastai/data/mnist_png/training/2'),Path('/root/.fastai/data/mnist_png/training/3'),Path('/root/.fastai/data/mnist_png/training/4'),Path('/root/.fastai/data/mnist_png/training/5'),Path('/root/.fastai/data/mnist_png/training/6'),Path('/root/.fastai/data/mnist_png/training/7'),Path('/root/.fastai/data/mnist_png/training/8'),Path('/root/.fastai/data/mnist_png/training/9')],\n",
              " (#10) [Path('/root/.fastai/data/mnist_png/testing/0'),Path('/root/.fastai/data/mnist_png/testing/1'),Path('/root/.fastai/data/mnist_png/testing/2'),Path('/root/.fastai/data/mnist_png/testing/3'),Path('/root/.fastai/data/mnist_png/testing/4'),Path('/root/.fastai/data/mnist_png/testing/5'),Path('/root/.fastai/data/mnist_png/testing/6'),Path('/root/.fastai/data/mnist_png/testing/7'),Path('/root/.fastai/data/mnist_png/testing/8'),Path('/root/.fastai/data/mnist_png/testing/9')])"
            ]
          },
          "metadata": {},
          "execution_count": 46
        }
      ]
    },
    {
      "cell_type": "code",
      "source": [
        "# Check training data\n",
        "av_imgs = [len(i.ls()) for i in training_path]\n",
        "av_imgs, sum(av_imgs)"
      ],
      "metadata": {
        "id": "ZCU_XRc8asj2",
        "outputId": "054deda6-5964-497d-8a63-62e9bf3f8332",
        "colab": {
          "base_uri": "https://localhost:8080/"
        }
      },
      "id": "ZCU_XRc8asj2",
      "execution_count": 47,
      "outputs": [
        {
          "output_type": "execute_result",
          "data": {
            "text/plain": [
              "([5923, 6742, 5958, 6131, 5842, 5421, 5918, 6265, 5851, 5949], 60000)"
            ]
          },
          "metadata": {},
          "execution_count": 47
        }
      ]
    },
    {
      "cell_type": "code",
      "source": [
        "# Check testing data\n",
        "av_imgs = [len(i.ls()) for i in valid_path]\n",
        "av_imgs, sum(av_imgs)"
      ],
      "metadata": {
        "id": "BTpFoxAebTL6",
        "outputId": "906617a1-1f60-410d-c07f-c155918165ee",
        "colab": {
          "base_uri": "https://localhost:8080/"
        }
      },
      "id": "BTpFoxAebTL6",
      "execution_count": 48,
      "outputs": [
        {
          "output_type": "execute_result",
          "data": {
            "text/plain": [
              "([980, 1135, 1032, 1010, 982, 892, 958, 1028, 974, 1009], 10000)"
            ]
          },
          "metadata": {},
          "execution_count": 48
        }
      ]
    },
    {
      "cell_type": "code",
      "source": [
        "# List of lists of image paths\n",
        "train_nums = [n.ls() for n in training_path]\n",
        "valid_nums = [n.ls() for n in valid_path]"
      ],
      "metadata": {
        "id": "HwGV1U6IaBNx"
      },
      "id": "HwGV1U6IaBNx",
      "execution_count": 49,
      "outputs": []
    },
    {
      "cell_type": "code",
      "source": [
        "# Create a list of tensors for each digit\n",
        "train_nums_lists = [[tensor(Image.open(im)) for im in num] for num in train_nums]\n",
        "valid_nums_lists = [[tensor(Image.open(im)) for im in num] for num in valid_nums]"
      ],
      "metadata": {
        "id": "_BX8R-p4bhVr"
      },
      "id": "_BX8R-p4bhVr",
      "execution_count": 50,
      "outputs": []
    },
    {
      "cell_type": "code",
      "source": [
        "# Stack all tensors, convert to float, and normalise\n",
        "train_nums_tensors = [torch.stack(nums_list).float()/255 for nums_list in train_nums_lists]\n",
        "valid_nums_tensors = [torch.stack(nums_list).float()/255 for nums_list in valid_nums_lists]"
      ],
      "metadata": {
        "id": "fiZIvlWrb64w"
      },
      "id": "fiZIvlWrb64w",
      "execution_count": 51,
      "outputs": []
    },
    {
      "cell_type": "markdown",
      "source": [],
      "metadata": {
        "id": "hQVjqoZ_haVi"
      },
      "id": "hQVjqoZ_haVi"
    },
    {
      "cell_type": "code",
      "source": [
        "# Check test tensors\n",
        "av_t = [t.shape for t in train_nums_tensors]\n",
        "av_t,[i[0] for i in av_t], sum([i[0] for i in av_t])"
      ],
      "metadata": {
        "id": "N8sfPthWctAw",
        "outputId": "6d1cb511-941c-4f2b-fc91-04d6e9fba186",
        "colab": {
          "base_uri": "https://localhost:8080/"
        }
      },
      "id": "N8sfPthWctAw",
      "execution_count": 52,
      "outputs": [
        {
          "output_type": "execute_result",
          "data": {
            "text/plain": [
              "([torch.Size([5923, 28, 28]),\n",
              "  torch.Size([6742, 28, 28]),\n",
              "  torch.Size([5958, 28, 28]),\n",
              "  torch.Size([6131, 28, 28]),\n",
              "  torch.Size([5842, 28, 28]),\n",
              "  torch.Size([5421, 28, 28]),\n",
              "  torch.Size([5918, 28, 28]),\n",
              "  torch.Size([6265, 28, 28]),\n",
              "  torch.Size([5851, 28, 28]),\n",
              "  torch.Size([5949, 28, 28])],\n",
              " [5923, 6742, 5958, 6131, 5842, 5421, 5918, 6265, 5851, 5949],\n",
              " 60000)"
            ]
          },
          "metadata": {},
          "execution_count": 52
        }
      ]
    },
    {
      "cell_type": "code",
      "source": [
        "# Check valid tensors\n",
        "av_t = [t.shape for t in valid_nums_tensors]\n",
        "av_t,[i[0] for i in av_t], sum([i[0] for i in av_t])"
      ],
      "metadata": {
        "id": "sxDLlOiXdF6i",
        "outputId": "5749ad69-a859-488f-dff0-93aedc1db141",
        "colab": {
          "base_uri": "https://localhost:8080/"
        }
      },
      "id": "sxDLlOiXdF6i",
      "execution_count": 53,
      "outputs": [
        {
          "output_type": "execute_result",
          "data": {
            "text/plain": [
              "([torch.Size([980, 28, 28]),\n",
              "  torch.Size([1135, 28, 28]),\n",
              "  torch.Size([1032, 28, 28]),\n",
              "  torch.Size([1010, 28, 28]),\n",
              "  torch.Size([982, 28, 28]),\n",
              "  torch.Size([892, 28, 28]),\n",
              "  torch.Size([958, 28, 28]),\n",
              "  torch.Size([1028, 28, 28]),\n",
              "  torch.Size([974, 28, 28]),\n",
              "  torch.Size([1009, 28, 28])],\n",
              " [980, 1135, 1032, 1010, 982, 892, 958, 1028, 974, 1009],\n",
              " 10000)"
            ]
          },
          "metadata": {},
          "execution_count": 53
        }
      ]
    },
    {
      "cell_type": "code",
      "source": [
        "# Transform rank-3 to rank-2 tensors\n",
        "train_x = torch.cat(train_nums_tensors).view(-1,28*28)\n",
        "valid_x = torch.cat(valid_nums_tensors).view(-1,28*28)\n",
        "\n",
        "train_x.shape, valid_x.shape"
      ],
      "metadata": {
        "id": "s7IcykpFdVhH",
        "outputId": "7ba63842-8bd1-4f47-8c31-6025a59bec5b",
        "colab": {
          "base_uri": "https://localhost:8080/"
        }
      },
      "id": "s7IcykpFdVhH",
      "execution_count": 54,
      "outputs": [
        {
          "output_type": "execute_result",
          "data": {
            "text/plain": [
              "(torch.Size([60000, 784]), torch.Size([10000, 784]))"
            ]
          },
          "metadata": {},
          "execution_count": 54
        }
      ]
    },
    {
      "cell_type": "code",
      "source": [
        "# Create target labels\n",
        "train_y = torch.cat([tensor([i]*s).unsqueeze(1) for i,s in enumerate([t.shape[0] for t in train_nums_tensors])])\n",
        "valid_y = torch.cat([tensor([i]*s).unsqueeze(1) for i,s in enumerate([t.shape[0] for t in valid_nums_tensors])])\n",
        "\n",
        "train_y.shape, valid_y.shape"
      ],
      "metadata": {
        "id": "QAYgtGbFeAaF",
        "outputId": "96a5ef35-2bdf-4c88-ba38-5fc5c8902546",
        "colab": {
          "base_uri": "https://localhost:8080/"
        }
      },
      "id": "QAYgtGbFeAaF",
      "execution_count": 55,
      "outputs": [
        {
          "output_type": "execute_result",
          "data": {
            "text/plain": [
              "(torch.Size([60000, 1]), torch.Size([10000, 1]))"
            ]
          },
          "metadata": {},
          "execution_count": 55
        }
      ]
    }
  ],
  "metadata": {
    "kernelspec": {
      "display_name": "Python 3 (ipykernel)",
      "language": "python",
      "name": "python3"
    },
    "language_info": {
      "codemirror_mode": {
        "name": "ipython",
        "version": 3
      },
      "file_extension": ".py",
      "mimetype": "text/x-python",
      "name": "python",
      "nbconvert_exporter": "python",
      "pygments_lexer": "ipython3",
      "version": "3.7.13"
    },
    "colab": {
      "provenance": [],
      "include_colab_link": true
    },
    "accelerator": "GPU",
    "gpuClass": "standard"
  },
  "nbformat": 4,
  "nbformat_minor": 5
}