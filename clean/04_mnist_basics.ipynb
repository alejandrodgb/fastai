{
  "cells": [
    {
      "cell_type": "markdown",
      "metadata": {
        "id": "view-in-github",
        "colab_type": "text"
      },
      "source": [
        "<a href=\"https://colab.research.google.com/github/alejandrodgb/fastai/blob/main/clean/04_mnist_basics.ipynb\" target=\"_parent\"><img src=\"https://colab.research.google.com/assets/colab-badge.svg\" alt=\"Open In Colab\"/></a>"
      ]
    },
    {
      "cell_type": "code",
      "source": [
        "import sys\n",
        "\n",
        "if 'google.colab' in sys.modules:\n",
        "    ! [ -e /content ] && pip install -Uqq fastbook\n",
        "    !pip install nbdev\n",
        "    \n",
        "import fastbook\n",
        "fastbook.setup_book()"
      ],
      "metadata": {
        "id": "snjOA-JLJnXQ",
        "outputId": "7fe9d5b1-98d4-4651-9220-4ce733b38334",
        "colab": {
          "base_uri": "https://localhost:8080/"
        }
      },
      "execution_count": 93,
      "outputs": [
        {
          "output_type": "stream",
          "name": "stdout",
          "text": [
            "Looking in indexes: https://pypi.org/simple, https://us-python.pkg.dev/colab-wheels/public/simple/\n",
            "Requirement already satisfied: nbdev in /usr/local/lib/python3.8/dist-packages (2.3.11)\n",
            "Requirement already satisfied: fastcore>=1.5.27 in /usr/local/lib/python3.8/dist-packages (from nbdev) (1.5.28)\n",
            "Requirement already satisfied: astunparse in /usr/local/lib/python3.8/dist-packages (from nbdev) (1.6.3)\n",
            "Requirement already satisfied: PyYAML in /usr/local/lib/python3.8/dist-packages (from nbdev) (6.0)\n",
            "Requirement already satisfied: watchdog in /usr/local/lib/python3.8/dist-packages (from nbdev) (2.2.1)\n",
            "Requirement already satisfied: execnb>=0.1.4 in /usr/local/lib/python3.8/dist-packages (from nbdev) (0.1.4)\n",
            "Requirement already satisfied: ghapi>=1.0.3 in /usr/local/lib/python3.8/dist-packages (from nbdev) (1.0.3)\n",
            "Requirement already satisfied: asttokens in /usr/local/lib/python3.8/dist-packages (from nbdev) (2.2.1)\n",
            "Requirement already satisfied: ipython in /usr/local/lib/python3.8/dist-packages (from execnb>=0.1.4->nbdev) (7.9.0)\n",
            "Requirement already satisfied: pip in /usr/local/lib/python3.8/dist-packages (from fastcore>=1.5.27->nbdev) (22.0.4)\n",
            "Requirement already satisfied: packaging in /usr/local/lib/python3.8/dist-packages (from fastcore>=1.5.27->nbdev) (23.0)\n",
            "Requirement already satisfied: six in /usr/local/lib/python3.8/dist-packages (from asttokens->nbdev) (1.15.0)\n",
            "Requirement already satisfied: wheel<1.0,>=0.23.0 in /usr/local/lib/python3.8/dist-packages (from astunparse->nbdev) (0.38.4)\n",
            "Requirement already satisfied: jedi>=0.10 in /usr/local/lib/python3.8/dist-packages (from ipython->execnb>=0.1.4->nbdev) (0.18.2)\n",
            "Requirement already satisfied: setuptools>=18.5 in /usr/local/lib/python3.8/dist-packages (from ipython->execnb>=0.1.4->nbdev) (57.4.0)\n",
            "Requirement already satisfied: prompt-toolkit<2.1.0,>=2.0.0 in /usr/local/lib/python3.8/dist-packages (from ipython->execnb>=0.1.4->nbdev) (2.0.10)\n",
            "Requirement already satisfied: pexpect in /usr/local/lib/python3.8/dist-packages (from ipython->execnb>=0.1.4->nbdev) (4.8.0)\n",
            "Requirement already satisfied: backcall in /usr/local/lib/python3.8/dist-packages (from ipython->execnb>=0.1.4->nbdev) (0.2.0)\n",
            "Requirement already satisfied: pickleshare in /usr/local/lib/python3.8/dist-packages (from ipython->execnb>=0.1.4->nbdev) (0.7.5)\n",
            "Requirement already satisfied: pygments in /usr/local/lib/python3.8/dist-packages (from ipython->execnb>=0.1.4->nbdev) (2.6.1)\n",
            "Requirement already satisfied: decorator in /usr/local/lib/python3.8/dist-packages (from ipython->execnb>=0.1.4->nbdev) (4.4.2)\n",
            "Requirement already satisfied: traitlets>=4.2 in /usr/local/lib/python3.8/dist-packages (from ipython->execnb>=0.1.4->nbdev) (5.7.1)\n",
            "Requirement already satisfied: parso<0.9.0,>=0.8.0 in /usr/local/lib/python3.8/dist-packages (from jedi>=0.10->ipython->execnb>=0.1.4->nbdev) (0.8.3)\n",
            "Requirement already satisfied: wcwidth in /usr/local/lib/python3.8/dist-packages (from prompt-toolkit<2.1.0,>=2.0.0->ipython->execnb>=0.1.4->nbdev) (0.2.6)\n",
            "Requirement already satisfied: ptyprocess>=0.5 in /usr/local/lib/python3.8/dist-packages (from pexpect->ipython->execnb>=0.1.4->nbdev) (0.7.0)\n"
          ]
        }
      ]
    },
    {
      "cell_type": "code",
      "source": [
        "#hide\n",
        "from fastai.vision.all import *\n",
        "from fastbook import *\n",
        "\n",
        "matplotlib.rc('image', cmap='Greys')"
      ],
      "metadata": {
        "id": "24dEnoiZJuqj"
      },
      "execution_count": 94,
      "outputs": []
    },
    {
      "cell_type": "markdown",
      "source": [
        "# Data"
      ],
      "metadata": {
        "id": "SjC0VXUxKq6S"
      }
    },
    {
      "cell_type": "code",
      "source": [
        "# Download sample dataset for MNIST\n",
        "path = untar_data(URLs.MNIST_SAMPLE)"
      ],
      "metadata": {
        "id": "ZDsKWj0KKqW1"
      },
      "execution_count": 95,
      "outputs": []
    },
    {
      "cell_type": "code",
      "source": [
        "# Review directory\n",
        "path.ls()"
      ],
      "metadata": {
        "colab": {
          "base_uri": "https://localhost:8080/"
        },
        "id": "sDhDUQiwK8Y_",
        "outputId": "dd7e476b-c050-4c05-92af-8202c9e22942"
      },
      "execution_count": 96,
      "outputs": [
        {
          "output_type": "execute_result",
          "data": {
            "text/plain": [
              "(#3) [Path('/root/.fastai/data/mnist_sample/train'),Path('/root/.fastai/data/mnist_sample/labels.csv'),Path('/root/.fastai/data/mnist_sample/valid')]"
            ]
          },
          "metadata": {},
          "execution_count": 96
        }
      ]
    },
    {
      "cell_type": "code",
      "source": [
        "# Review training folder\n",
        "(path/'train').ls()"
      ],
      "metadata": {
        "colab": {
          "base_uri": "https://localhost:8080/"
        },
        "id": "oK3r46FjLJUh",
        "outputId": "4ae50ffb-b512-4642-d2f9-f5a8d3127f53"
      },
      "execution_count": 97,
      "outputs": [
        {
          "output_type": "execute_result",
          "data": {
            "text/plain": [
              "(#2) [Path('/root/.fastai/data/mnist_sample/train/7'),Path('/root/.fastai/data/mnist_sample/train/3')]"
            ]
          },
          "metadata": {},
          "execution_count": 97
        }
      ]
    },
    {
      "cell_type": "code",
      "source": [
        "# Review digit folder contents\n",
        "(path/'train/3').ls().sorted()"
      ],
      "metadata": {
        "colab": {
          "base_uri": "https://localhost:8080/"
        },
        "id": "xPRsuHOeLWrK",
        "outputId": "6322c314-e18c-4e24-b742-16750d7b942f"
      },
      "execution_count": 98,
      "outputs": [
        {
          "output_type": "execute_result",
          "data": {
            "text/plain": [
              "(#6131) [Path('/root/.fastai/data/mnist_sample/train/3/10.png'),Path('/root/.fastai/data/mnist_sample/train/3/10000.png'),Path('/root/.fastai/data/mnist_sample/train/3/10011.png'),Path('/root/.fastai/data/mnist_sample/train/3/10031.png'),Path('/root/.fastai/data/mnist_sample/train/3/10034.png'),Path('/root/.fastai/data/mnist_sample/train/3/10042.png'),Path('/root/.fastai/data/mnist_sample/train/3/10052.png'),Path('/root/.fastai/data/mnist_sample/train/3/1007.png'),Path('/root/.fastai/data/mnist_sample/train/3/10074.png'),Path('/root/.fastai/data/mnist_sample/train/3/10091.png')...]"
            ]
          },
          "metadata": {},
          "execution_count": 98
        }
      ]
    },
    {
      "cell_type": "code",
      "source": [
        "train_path = path/'train'"
      ],
      "metadata": {
        "id": "8dQ2U7TibDJg"
      },
      "execution_count": 99,
      "outputs": []
    },
    {
      "cell_type": "code",
      "source": [
        "# Review a single image\n",
        "nums = [i.ls().sorted() for i in train_path.ls().sorted()]"
      ],
      "metadata": {
        "id": "DTyErwoYLwcN"
      },
      "execution_count": 100,
      "outputs": []
    },
    {
      "cell_type": "code",
      "source": [
        "im = Image.open(nums[0][0])\n",
        "im"
      ],
      "metadata": {
        "colab": {
          "base_uri": "https://localhost:8080/",
          "height": 45
        },
        "id": "mZ4c1rbAMDD4",
        "outputId": "34722612-6b13-499a-bd8e-65cded966e32"
      },
      "execution_count": 101,
      "outputs": [
        {
          "output_type": "execute_result",
          "data": {
            "text/plain": [
              "<PIL.PngImagePlugin.PngImageFile image mode=L size=28x28>"
            ],
            "image/png": "[encoded data removed]"
          },
          "metadata": {},
          "execution_count": 101
        }
      ]
    },
    {
      "cell_type": "code",
      "source": [
        "# Review image values\n",
        "print(im.shape)\n",
        "tensor(im)[4:10,4:10]"
      ],
      "metadata": {
        "colab": {
          "base_uri": "https://localhost:8080/"
        },
        "id": "aynvhixRWe_7",
        "outputId": "e5aca590-1419-450f-f4fa-b3604d14d83e"
      },
      "execution_count": 102,
      "outputs": [
        {
          "output_type": "stream",
          "name": "stdout",
          "text": [
            "(28, 28)\n"
          ]
        },
        {
          "output_type": "execute_result",
          "data": {
            "text/plain": [
              "tensor([[0, 0, 0, 0, 0, 0],\n",
              "        [0, 0, 0, 0, 0, 0],\n",
              "        [0, 0, 0, 0, 0, 0],\n",
              "        [0, 0, 0, 0, 0, 0],\n",
              "        [0, 0, 0, 0, 0, 0],\n",
              "        [0, 0, 0, 0, 0, 0]], dtype=torch.uint8)"
            ]
          },
          "metadata": {},
          "execution_count": 102
        }
      ]
    },
    {
      "cell_type": "markdown",
      "source": [
        "# Recognising digits"
      ],
      "metadata": {
        "id": "14l9IKlfXxH0"
      }
    },
    {
      "cell_type": "markdown",
      "source": [
        "## Pixel similarity"
      ],
      "metadata": {
        "id": "rEKOj3yyXzyY"
      }
    },
    {
      "cell_type": "markdown",
      "source": [
        "Finding the average 3/7 by calculating the average value accross all images"
      ],
      "metadata": {
        "id": "cumeJBCRYBIk"
      }
    },
    {
      "cell_type": "code",
      "source": [
        "# Create a list of all images\n",
        "nums_lists = [[tensor(Image.open(im)) for im in num] for num in nums]"
      ],
      "metadata": {
        "id": "wEwYq-UoXSLz"
      },
      "execution_count": 103,
      "outputs": []
    },
    {
      "cell_type": "code",
      "source": [
        "# Stack all tensors convert to float and normalise.\n",
        "nums_tensors = [torch.stack(nums_list).float()/255 for nums_list in nums_lists]\n",
        "[t.shape for t in nums_tensors]"
      ],
      "metadata": {
        "colab": {
          "base_uri": "https://localhost:8080/"
        },
        "id": "kwa2u-uEh_dJ",
        "outputId": "d2bcdc84-c116-4213-84c9-52dd9ff4af5e"
      },
      "execution_count": 104,
      "outputs": [
        {
          "output_type": "execute_result",
          "data": {
            "text/plain": [
              "[torch.Size([6131, 28, 28]), torch.Size([6265, 28, 28])]"
            ]
          },
          "metadata": {},
          "execution_count": 104
        }
      ]
    },
    {
      "cell_type": "code",
      "source": [
        "# Find the average digit\n",
        "mean_digits = [t.mean(0) for t in nums_tensors]\n",
        "for d in mean_digits:\n",
        "    show_image(d)"
      ],
      "metadata": {
        "colab": {
          "base_uri": "https://localhost:8080/",
          "height": 153
        },
        "id": "_ZAjx3Wra9Xr",
        "outputId": "0ec1e75e-d0d7-466e-d6fe-0149a4aeda4c"
      },
      "execution_count": 105,
      "outputs": [
        {
          "output_type": "display_data",
          "data": {
            "text/plain": [
              "<Figure size 72x72 with 1 Axes>"
            ],
            "image/png": "[encoded data removed]"
          },
          "metadata": {
            "needs_background": "light"
          }
        },
        {
          "output_type": "display_data",
          "data": {
            "text/plain": [
              "<Figure size 72x72 with 1 Axes>"
            ],
            "image/png": "[encoded data removed]"
          },
          "metadata": {
            "needs_background": "light"
          }
        }
      ]
    },
    {
      "cell_type": "markdown",
      "source": [
        "We will test the absolute value of differences (L1 norm) and the root mean squared error (L2 norm as loss functions."
      ],
      "metadata": {
        "id": "pLm2V0uFkSh4"
      }
    },
    {
      "cell_type": "code",
      "source": [
        "# Sample L1 and L2 norms for a 3 digit against mean 3\n",
        "L1_3_3 = (nums_tensors[0][1]-mean_digits[0]).abs().mean()\n",
        "L2_3_3 = ((nums_tensors[0][1]-mean_digits[0])**2).mean().sqrt()\n",
        "L1_3_3, L2_3_3"
      ],
      "metadata": {
        "colab": {
          "base_uri": "https://localhost:8080/"
        },
        "id": "onJr3vZGkbZ2",
        "outputId": "746fbeb9-1af4-495f-c93e-ed0c95746927"
      },
      "execution_count": 106,
      "outputs": [
        {
          "output_type": "execute_result",
          "data": {
            "text/plain": [
              "(tensor(0.1114), tensor(0.2021))"
            ]
          },
          "metadata": {},
          "execution_count": 106
        }
      ]
    },
    {
      "cell_type": "code",
      "source": [
        "# Sample L1 and L2 norms for a 3 digit against mean 7\n",
        "L1_3_7 = (nums_tensors[0][1]-mean_digits[1]).abs().mean()\n",
        "L2_3_7 = ((nums_tensors[0][1]-mean_digits[1])**2).mean().sqrt()\n",
        "L1_3_7, L2_3_7"
      ],
      "metadata": {
        "colab": {
          "base_uri": "https://localhost:8080/"
        },
        "id": "9BxQ4D-NlKyZ",
        "outputId": "0de95216-3381-46b6-af77-bb7ad734cec2"
      },
      "execution_count": 107,
      "outputs": [
        {
          "output_type": "execute_result",
          "data": {
            "text/plain": [
              "(tensor(0.1586), tensor(0.3021))"
            ]
          },
          "metadata": {},
          "execution_count": 107
        }
      ]
    },
    {
      "cell_type": "markdown",
      "source": [
        "These are avaialble in `torch.nn.functional`"
      ],
      "metadata": {
        "id": "GM9fQS5zlZPt"
      }
    },
    {
      "cell_type": "code",
      "source": [
        "(F.l1_loss(nums_tensors[0][1],mean_digits[0]), \n",
        " F.mse_loss(nums_tensors[0][1],mean_digits[0]).sqrt())"
      ],
      "metadata": {
        "colab": {
          "base_uri": "https://localhost:8080/"
        },
        "id": "6TtkkMQ1lYxp",
        "outputId": "78257022-9f59-4503-d9e3-89f0b379b391"
      },
      "execution_count": 108,
      "outputs": [
        {
          "output_type": "execute_result",
          "data": {
            "text/plain": [
              "(tensor(0.1114), tensor(0.2021))"
            ]
          },
          "metadata": {},
          "execution_count": 108
        }
      ]
    },
    {
      "cell_type": "markdown",
      "source": [
        "## Validation set"
      ],
      "metadata": {
        "id": "YTstAw5_mRAo"
      }
    },
    {
      "cell_type": "code",
      "source": [
        "valid_path = path/'valid'\n",
        "valid_path.ls()"
      ],
      "metadata": {
        "colab": {
          "base_uri": "https://localhost:8080/"
        },
        "id": "G7v3-KV0mSiO",
        "outputId": "48b22d3a-c864-4bd8-a7bb-23dff50796af"
      },
      "execution_count": 109,
      "outputs": [
        {
          "output_type": "execute_result",
          "data": {
            "text/plain": [
              "(#2) [Path('/root/.fastai/data/mnist_sample/valid/7'),Path('/root/.fastai/data/mnist_sample/valid/3')]"
            ]
          },
          "metadata": {},
          "execution_count": 109
        }
      ]
    },
    {
      "cell_type": "code",
      "source": [
        "valid_nums = [i.ls().sorted() for i in valid_path.ls().sorted()]\n",
        "valid_nums_lists = [[tensor(Image.open(im)) for im in num] for num in valid_nums]\n",
        "valid_nums_tensors = [torch.stack(nums_list).float()/255 for nums_list in valid_nums_lists]\n",
        "[t.shape for t in valid_nums_tensors]"
      ],
      "metadata": {
        "colab": {
          "base_uri": "https://localhost:8080/"
        },
        "id": "Sfijz7MBmlq-",
        "outputId": "c11a135e-37bb-43ad-a000-40f51558ef55"
      },
      "execution_count": 110,
      "outputs": [
        {
          "output_type": "execute_result",
          "data": {
            "text/plain": [
              "[torch.Size([1010, 28, 28]), torch.Size([1028, 28, 28])]"
            ]
          },
          "metadata": {},
          "execution_count": 110
        }
      ]
    },
    {
      "cell_type": "markdown",
      "source": [
        "# "
      ],
      "metadata": {
        "id": "ZIxCtlFynF3Z"
      }
    }
  ],
  "metadata": {
    "colab": {
      "provenance": [],
      "include_colab_link": true
    },
    "jupytext": {
      "split_at_heading": true
    },
    "kernelspec": {
      "display_name": "Python 3 (ipykernel)",
      "language": "python",
      "name": "python3"
    },
    "language_info": {
      "codemirror_mode": {
        "name": "ipython",
        "version": 3
      },
      "file_extension": ".py",
      "mimetype": "text/x-python",
      "name": "python",
      "nbconvert_exporter": "python",
      "pygments_lexer": "ipython3",
      "version": "3.7.13"
    },
    "gpuClass": "standard"
  },
  "nbformat": 4,
  "nbformat_minor": 0
}