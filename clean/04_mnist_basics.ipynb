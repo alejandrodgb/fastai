{
  "cells": [
    {
      "cell_type": "markdown",
      "metadata": {
        "id": "view-in-github",
        "colab_type": "text"
      },
      "source": [
        "<a href=\"https://colab.research.google.com/github/alejandrodgb/fastai/blob/main/clean/04_mnist_basics.ipynb\" target=\"_parent\"><img src=\"https://colab.research.google.com/assets/colab-badge.svg\" alt=\"Open In Colab\"/></a>"
      ]
    },
    {
      "cell_type": "markdown",
      "metadata": {
        "id": "iHHs6hVmHkqu"
      },
      "source": [
        "# Libraries"
      ]
    },
    {
      "cell_type": "code",
      "execution_count": 1,
      "metadata": {
        "id": "P-PSJhr-Sfhm"
      },
      "outputs": [],
      "source": [
        "#!pip install nbdev"
      ]
    },
    {
      "cell_type": "code",
      "execution_count": 2,
      "metadata": {
        "id": "Q3pzrG3BFc-l"
      },
      "outputs": [],
      "source": [
        "# Prepare notebook\n",
        "! [ -e /content ] && pip install -Uqq fastbook\n",
        "import fastbook\n",
        "fastbook.setup_book()"
      ]
    },
    {
      "cell_type": "code",
      "execution_count": 3,
      "metadata": {
        "id": "R4ny3ILkxzeO"
      },
      "outputs": [],
      "source": [
        "# Prepare notebook\n",
        "from fastai.vision.all import *"
      ]
    },
    {
      "cell_type": "code",
      "execution_count": 4,
      "metadata": {
        "id": "bsjtSN-qFc-n"
      },
      "outputs": [],
      "source": [
        "# Prepare notebook\n",
        "from fastbook import *    \n",
        "matplotlib.rc('image', cmap='Greys')"
      ]
    },
    {
      "cell_type": "markdown",
      "metadata": {
        "id": "8rrPeLncHoId"
      },
      "source": [
        "# Data"
      ]
    },
    {
      "cell_type": "code",
      "execution_count": 5,
      "metadata": {
        "id": "DiSq-GNSFc-s"
      },
      "outputs": [],
      "source": [
        "# Get MNIST data. Return object is the path where data is located\n",
        "path = untar_data(URLs.MNIST_SAMPLE)"
      ]
    },
    {
      "cell_type": "code",
      "execution_count": 6,
      "metadata": {
        "id": "ErZ5KysSFc-t"
      },
      "outputs": [],
      "source": [
        "# Set BASE_PATH of Path to the MNIST data location\n",
        "Path.BASE_PATH = path"
      ]
    },
    {
      "cell_type": "code",
      "execution_count": 7,
      "metadata": {
        "colab": {
          "base_uri": "https://localhost:8080/"
        },
        "id": "THEGTsbUFc-u",
        "outputId": "a1060bf4-7a14-4604-dac8-65130c9a016e"
      },
      "outputs": [
        {
          "output_type": "execute_result",
          "data": {
            "text/plain": [
              "(#3) [Path('train'),Path('valid'),Path('labels.csv')]"
            ]
          },
          "metadata": {},
          "execution_count": 7
        }
      ],
      "source": [
        "# Review contents of path\n",
        "path.ls()"
      ]
    },
    {
      "cell_type": "code",
      "execution_count": 8,
      "metadata": {
        "colab": {
          "base_uri": "https://localhost:8080/"
        },
        "id": "GJpL1k8kFc-v",
        "outputId": "fa3d11d0-c6bf-4e49-e3e9-9b8ddf43396b"
      },
      "outputs": [
        {
          "output_type": "execute_result",
          "data": {
            "text/plain": [
              "(#2) [Path('train/3'),Path('train/7')]"
            ]
          },
          "metadata": {},
          "execution_count": 8
        }
      ],
      "source": [
        "# Review contents of train folder\n",
        "(path/'train').ls()"
      ]
    },
    {
      "cell_type": "code",
      "execution_count": 9,
      "metadata": {
        "colab": {
          "base_uri": "https://localhost:8080/"
        },
        "id": "0otyw7nxFc-v",
        "outputId": "d897170b-ab62-4ae8-aa08-e38980bf1a9b"
      },
      "outputs": [
        {
          "output_type": "execute_result",
          "data": {
            "text/plain": [
              "(#6131) [Path('train/3/10.png'),Path('train/3/10000.png'),Path('train/3/10011.png'),Path('train/3/10031.png'),Path('train/3/10034.png'),Path('train/3/10042.png'),Path('train/3/10052.png'),Path('train/3/1007.png'),Path('train/3/10074.png'),Path('train/3/10091.png')...]"
            ]
          },
          "metadata": {},
          "execution_count": 9
        }
      ],
      "source": [
        "# Save sorted training content\n",
        "threes = (path/'train'/'3').ls().sorted()\n",
        "sevens = (path/'train'/'7').ls().sorted()\n",
        "threes"
      ]
    },
    {
      "cell_type": "code",
      "execution_count": 10,
      "metadata": {
        "colab": {
          "base_uri": "https://localhost:8080/",
          "height": 45
        },
        "id": "Ri7aHM4YHJdN",
        "outputId": "4982deb5-cc74-4096-906b-18eb21537921"
      },
      "outputs": [
        {
          "output_type": "execute_result",
          "data": {
            "text/plain": [
              "<PIL.PngImagePlugin.PngImageFile image mode=L size=28x28 at 0x7FCC8F1F9DD0>"
            ],
            "image/png": "[encoded data removed]"
          },
          "metadata": {},
          "execution_count": 10
        }
      ],
      "source": [
        "# Review one image\n",
        "im3_path = threes[1]\n",
        "im3 = Image.open(im3_path)\n",
        "im3"
      ]
    },
    {
      "cell_type": "code",
      "execution_count": 11,
      "metadata": {
        "colab": {
          "base_uri": "https://localhost:8080/"
        },
        "id": "PeW7WXQkHa__",
        "outputId": "b60e7308-ab80-4775-b0be-46c6530a3735"
      },
      "outputs": [
        {
          "output_type": "execute_result",
          "data": {
            "text/plain": [
              "array([[  0,   0,   0,   0,   0,   0,   0,   0,   0,   0,   0,   0,   0,   0,   0,   0,   0,   0,   0,   0,   0,   0,   0,   0,   0,   0,   0,   0],\n",
              "       [  0,   0,   0,   0,   0,   0,   0,   0,   0,   0,   0,   0,   0,   0,   0,   0,   0,   0,   0,   0,   0,   0,   0,   0,   0,   0,   0,   0],\n",
              "       [  0,   0,   0,   0,   0,   0,   0,   0,   0,   0,   0,   0,   0,   0,   0,   0,   0,   0,   0,   0,   0,   0,   0,   0,   0,   0,   0,   0],\n",
              "       [  0,   0,   0,   0,   0,   0,   0,   0,   0,   0,   0,   0,   0,   0,   0,   0,   0,   0,   0,   0,   0,   0,   0,   0,   0,   0,   0,   0],\n",
              "       [  0,   0,   0,   0,   0,   0,   0,   0,   0,   0,   0,   0,   0,   0,   0,   0,   0,   0,   0,   0,   0,   0,   0,   0,   0,   0,   0,   0],\n",
              "       [  0,   0,   0,   0,   0,   0,   0,   0,   0,  29, 150, 195, 254, 255, 254, 176, 193, 150,  96,   0,   0,   0,   0,   0,   0,   0,   0,   0],\n",
              "       [  0,   0,   0,   0,   0,   0,   0,  48, 166, 224, 253, 253, 234, 196, 253, 253, 253, 253, 233,   0,   0,   0,   0,   0,   0,   0,   0,   0],\n",
              "       [  0,   0,   0,   0,   0,  93, 244, 249, 253, 187,  46,  10,   8,   4,  10, 194, 253, 253, 233,   0,   0,   0,   0,   0,   0,   0,   0,   0],\n",
              "       [  0,   0,   0,   0,   0, 107, 253, 253, 230,  48,   0,   0,   0,   0,   0, 192, 253, 253, 156,   0,   0,   0,   0,   0,   0,   0,   0,   0],\n",
              "       [  0,   0,   0,   0,   0,   3,  20,  20,  15,   0,   0,   0,   0,   0,  43, 224, 253, 245,  74,   0,   0,   0,   0,   0,   0,   0,   0,   0],\n",
              "       [  0,   0,   0,   0,   0,   0,   0,   0,   0,   0,   0,   0,   0,   0, 249, 253, 245, 126,   0,   0,   0,   0,   0,   0,   0,   0,   0,   0],\n",
              "       [  0,   0,   0,   0,   0,   0,   0,   0,   0,   0,   0,  14, 101, 223, 253, 248, 124,   0,   0,   0,   0,   0,   0,   0,   0,   0,   0,   0],\n",
              "       [  0,   0,   0,   0,   0,   0,   0,   0,   0,  11, 166, 239, 253, 253, 253, 187,  30,   0,   0,   0,   0,   0,   0,   0,   0,   0,   0,   0],\n",
              "       [  0,   0,   0,   0,   0,   0,   0,   0,   0,  16, 248, 250, 253, 253, 253, 253, 232, 213, 111,   2,   0,   0,   0,   0,   0,   0,   0,   0],\n",
              "       [  0,   0,   0,   0,   0,   0,   0,   0,   0,   0,   0,  43,  98,  98, 208, 253, 253, 253, 253, 187,  22,   0,   0,   0,   0,   0,   0,   0],\n",
              "       [  0,   0,   0,   0,   0,   0,   0,   0,   0,   0,   0,   0,   0,   0,   9,  51, 119, 253, 253, 253,  76,   0,   0,   0,   0,   0,   0,   0],\n",
              "       [  0,   0,   0,   0,   0,   0,   0,   0,   0,   0,   0,   0,   0,   0,   0,   0,   1, 183, 253, 253, 139,   0,   0,   0,   0,   0,   0,   0],\n",
              "       [  0,   0,   0,   0,   0,   0,   0,   0,   0,   0,   0,   0,   0,   0,   0,   0,   0, 182, 253, 253, 104,   0,   0,   0,   0,   0,   0,   0],\n",
              "       [  0,   0,   0,   0,   0,   0,   0,   0,   0,   0,   0,   0,   0,   0,   0,   0,  85, 249, 253, 253,  36,   0,   0,   0,   0,   0,   0,   0],\n",
              "       [  0,   0,   0,   0,   0,   0,   0,   0,   0,   0,   0,   0,   0,   0,   0,  60, 214, 253, 253, 173,  11,   0,   0,   0,   0,   0,   0,   0],\n",
              "       [  0,   0,   0,   0,   0,   0,   0,   0,   0,   0,   0,   0,   0,   0,  98, 247, 253, 253, 226,   9,   0,   0,   0,   0,   0,   0,   0,   0],\n",
              "       [  0,   0,   0,   0,   0,   0,   0,   0,   0,   0,   0,   0,  42, 150, 252, 253, 253, 233,  53,   0,   0,   0,   0,   0,   0,   0,   0,   0],\n",
              "       [  0,   0,   0,   0,   0,   0,  42, 115,  42,  60, 115, 159, 240, 253, 253, 250, 175,  25,   0,   0,   0,   0,   0,   0,   0,   0,   0,   0],\n",
              "       [  0,   0,   0,   0,   0,   0, 187, 253, 253, 253, 253, 253, 253, 253, 197,  86,   0,   0,   0,   0,   0,   0,   0,   0,   0,   0,   0,   0],\n",
              "       [  0,   0,   0,   0,   0,   0, 103, 253, 253, 253, 253, 253, 232,  67,   1,   0,   0,   0,   0,   0,   0,   0,   0,   0,   0,   0,   0,   0],\n",
              "       [  0,   0,   0,   0,   0,   0,   0,   0,   0,   0,   0,   0,   0,   0,   0,   0,   0,   0,   0,   0,   0,   0,   0,   0,   0,   0,   0,   0],\n",
              "       [  0,   0,   0,   0,   0,   0,   0,   0,   0,   0,   0,   0,   0,   0,   0,   0,   0,   0,   0,   0,   0,   0,   0,   0,   0,   0,   0,   0],\n",
              "       [  0,   0,   0,   0,   0,   0,   0,   0,   0,   0,   0,   0,   0,   0,   0,   0,   0,   0,   0,   0,   0,   0,   0,   0,   0,   0,   0,   0]], dtype=uint8)"
            ]
          },
          "metadata": {},
          "execution_count": 11
        }
      ],
      "source": [
        "# Convert image to an array\n",
        "array(im3)"
      ]
    },
    {
      "cell_type": "code",
      "execution_count": 12,
      "metadata": {
        "colab": {
          "base_uri": "https://localhost:8080/"
        },
        "id": "IWll2lHSJHAa",
        "outputId": "87fca15d-3c41-453a-c6ac-b6def4544af7"
      },
      "outputs": [
        {
          "output_type": "execute_result",
          "data": {
            "text/plain": [
              "tensor([[  0,   0,   0,   0,   0,   0,   0,   0,   0,   0,   0,   0,   0,   0,   0,   0,   0,   0,   0,   0,   0,   0,   0,   0,   0,   0,   0,   0],\n",
              "        [  0,   0,   0,   0,   0,   0,   0,   0,   0,   0,   0,   0,   0,   0,   0,   0,   0,   0,   0,   0,   0,   0,   0,   0,   0,   0,   0,   0],\n",
              "        [  0,   0,   0,   0,   0,   0,   0,   0,   0,   0,   0,   0,   0,   0,   0,   0,   0,   0,   0,   0,   0,   0,   0,   0,   0,   0,   0,   0],\n",
              "        [  0,   0,   0,   0,   0,   0,   0,   0,   0,   0,   0,   0,   0,   0,   0,   0,   0,   0,   0,   0,   0,   0,   0,   0,   0,   0,   0,   0],\n",
              "        [  0,   0,   0,   0,   0,   0,   0,   0,   0,   0,   0,   0,   0,   0,   0,   0,   0,   0,   0,   0,   0,   0,   0,   0,   0,   0,   0,   0],\n",
              "        [  0,   0,   0,   0,   0,   0,   0,   0,   0,  29, 150, 195, 254, 255, 254, 176, 193, 150,  96,   0,   0,   0,   0,   0,   0,   0,   0,   0],\n",
              "        [  0,   0,   0,   0,   0,   0,   0,  48, 166, 224, 253, 253, 234, 196, 253, 253, 253, 253, 233,   0,   0,   0,   0,   0,   0,   0,   0,   0],\n",
              "        [  0,   0,   0,   0,   0,  93, 244, 249, 253, 187,  46,  10,   8,   4,  10, 194, 253, 253, 233,   0,   0,   0,   0,   0,   0,   0,   0,   0],\n",
              "        [  0,   0,   0,   0,   0, 107, 253, 253, 230,  48,   0,   0,   0,   0,   0, 192, 253, 253, 156,   0,   0,   0,   0,   0,   0,   0,   0,   0],\n",
              "        [  0,   0,   0,   0,   0,   3,  20,  20,  15,   0,   0,   0,   0,   0,  43, 224, 253, 245,  74,   0,   0,   0,   0,   0,   0,   0,   0,   0],\n",
              "        [  0,   0,   0,   0,   0,   0,   0,   0,   0,   0,   0,   0,   0,   0, 249, 253, 245, 126,   0,   0,   0,   0,   0,   0,   0,   0,   0,   0],\n",
              "        [  0,   0,   0,   0,   0,   0,   0,   0,   0,   0,   0,  14, 101, 223, 253, 248, 124,   0,   0,   0,   0,   0,   0,   0,   0,   0,   0,   0],\n",
              "        [  0,   0,   0,   0,   0,   0,   0,   0,   0,  11, 166, 239, 253, 253, 253, 187,  30,   0,   0,   0,   0,   0,   0,   0,   0,   0,   0,   0],\n",
              "        [  0,   0,   0,   0,   0,   0,   0,   0,   0,  16, 248, 250, 253, 253, 253, 253, 232, 213, 111,   2,   0,   0,   0,   0,   0,   0,   0,   0],\n",
              "        [  0,   0,   0,   0,   0,   0,   0,   0,   0,   0,   0,  43,  98,  98, 208, 253, 253, 253, 253, 187,  22,   0,   0,   0,   0,   0,   0,   0],\n",
              "        [  0,   0,   0,   0,   0,   0,   0,   0,   0,   0,   0,   0,   0,   0,   9,  51, 119, 253, 253, 253,  76,   0,   0,   0,   0,   0,   0,   0],\n",
              "        [  0,   0,   0,   0,   0,   0,   0,   0,   0,   0,   0,   0,   0,   0,   0,   0,   1, 183, 253, 253, 139,   0,   0,   0,   0,   0,   0,   0],\n",
              "        [  0,   0,   0,   0,   0,   0,   0,   0,   0,   0,   0,   0,   0,   0,   0,   0,   0, 182, 253, 253, 104,   0,   0,   0,   0,   0,   0,   0],\n",
              "        [  0,   0,   0,   0,   0,   0,   0,   0,   0,   0,   0,   0,   0,   0,   0,   0,  85, 249, 253, 253,  36,   0,   0,   0,   0,   0,   0,   0],\n",
              "        [  0,   0,   0,   0,   0,   0,   0,   0,   0,   0,   0,   0,   0,   0,   0,  60, 214, 253, 253, 173,  11,   0,   0,   0,   0,   0,   0,   0],\n",
              "        [  0,   0,   0,   0,   0,   0,   0,   0,   0,   0,   0,   0,   0,   0,  98, 247, 253, 253, 226,   9,   0,   0,   0,   0,   0,   0,   0,   0],\n",
              "        [  0,   0,   0,   0,   0,   0,   0,   0,   0,   0,   0,   0,  42, 150, 252, 253, 253, 233,  53,   0,   0,   0,   0,   0,   0,   0,   0,   0],\n",
              "        [  0,   0,   0,   0,   0,   0,  42, 115,  42,  60, 115, 159, 240, 253, 253, 250, 175,  25,   0,   0,   0,   0,   0,   0,   0,   0,   0,   0],\n",
              "        [  0,   0,   0,   0,   0,   0, 187, 253, 253, 253, 253, 253, 253, 253, 197,  86,   0,   0,   0,   0,   0,   0,   0,   0,   0,   0,   0,   0],\n",
              "        [  0,   0,   0,   0,   0,   0, 103, 253, 253, 253, 253, 253, 232,  67,   1,   0,   0,   0,   0,   0,   0,   0,   0,   0,   0,   0,   0,   0],\n",
              "        [  0,   0,   0,   0,   0,   0,   0,   0,   0,   0,   0,   0,   0,   0,   0,   0,   0,   0,   0,   0,   0,   0,   0,   0,   0,   0,   0,   0],\n",
              "        [  0,   0,   0,   0,   0,   0,   0,   0,   0,   0,   0,   0,   0,   0,   0,   0,   0,   0,   0,   0,   0,   0,   0,   0,   0,   0,   0,   0],\n",
              "        [  0,   0,   0,   0,   0,   0,   0,   0,   0,   0,   0,   0,   0,   0,   0,   0,   0,   0,   0,   0,   0,   0,   0,   0,   0,   0,   0,   0]], dtype=torch.uint8)"
            ]
          },
          "metadata": {},
          "execution_count": 12
        }
      ],
      "source": [
        "# Convert image to tensor\n",
        "tensor(im3)"
      ]
    },
    {
      "cell_type": "code",
      "execution_count": 13,
      "metadata": {
        "colab": {
          "base_uri": "https://localhost:8080/",
          "height": 928
        },
        "id": "9R1i8afxJPNI",
        "outputId": "b401e868-3cfa-4fa9-d5fb-dc5a7e29fbfe"
      },
      "outputs": [
        {
          "output_type": "execute_result",
          "data": {
            "text/plain": [
              "<pandas.io.formats.style.Styler at 0x7fcc8f15fd50>"
            ],
            "text/html": [
              "<style type=\"text/css\">\n",
              "#T_66440_row0_col0, #T_66440_row0_col1, #T_66440_row0_col2, #T_66440_row0_col3, #T_66440_row0_col4, #T_66440_row0_col5, #T_66440_row0_col6, #T_66440_row0_col7, #T_66440_row0_col8, #T_66440_row0_col9, #T_66440_row0_col10, #T_66440_row0_col11, #T_66440_row0_col12, #T_66440_row0_col13, #T_66440_row0_col14, #T_66440_row0_col15, #T_66440_row0_col16, #T_66440_row0_col17, #T_66440_row0_col18, #T_66440_row0_col19, #T_66440_row0_col20, #T_66440_row0_col21, #T_66440_row0_col22, #T_66440_row0_col23, #T_66440_row0_col24, #T_66440_row0_col25, #T_66440_row0_col26, #T_66440_row0_col27, #T_66440_row1_col0, #T_66440_row1_col1, #T_66440_row1_col2, #T_66440_row1_col3, #T_66440_row1_col4, #T_66440_row1_col5, #T_66440_row1_col6, #T_66440_row1_col7, #T_66440_row1_col8, #T_66440_row1_col9, #T_66440_row1_col10, #T_66440_row1_col11, #T_66440_row1_col12, #T_66440_row1_col13, #T_66440_row1_col14, #T_66440_row1_col15, #T_66440_row1_col16, #T_66440_row1_col17, #T_66440_row1_col18, #T_66440_row1_col19, #T_66440_row1_col20, #T_66440_row1_col21, #T_66440_row1_col22, #T_66440_row1_col23, #T_66440_row1_col24, #T_66440_row1_col25, #T_66440_row1_col26, #T_66440_row1_col27, #T_66440_row2_col0, #T_66440_row2_col1, #T_66440_row2_col2, #T_66440_row2_col3, #T_66440_row2_col4, #T_66440_row2_col5, #T_66440_row2_col6, #T_66440_row2_col7, #T_66440_row2_col8, #T_66440_row2_col9, #T_66440_row2_col10, #T_66440_row2_col11, #T_66440_row2_col12, #T_66440_row2_col13, #T_66440_row2_col14, #T_66440_row2_col15, #T_66440_row2_col16, #T_66440_row2_col17, #T_66440_row2_col18, #T_66440_row2_col19, #T_66440_row2_col20, #T_66440_row2_col21, #T_66440_row2_col22, #T_66440_row2_col23, #T_66440_row2_col24, #T_66440_row2_col25, #T_66440_row2_col26, #T_66440_row2_col27, #T_66440_row3_col0, #T_66440_row3_col1, #T_66440_row3_col2, #T_66440_row3_col3, #T_66440_row3_col4, #T_66440_row3_col5, #T_66440_row3_col6, #T_66440_row3_col7, #T_66440_row3_col8, #T_66440_row3_col9, #T_66440_row3_col10, #T_66440_row3_col11, #T_66440_row3_col12, #T_66440_row3_col13, #T_66440_row3_col14, #T_66440_row3_col15, #T_66440_row3_col16, #T_66440_row3_col17, #T_66440_row3_col18, #T_66440_row3_col19, #T_66440_row3_col20, #T_66440_row3_col21, #T_66440_row3_col22, #T_66440_row3_col23, #T_66440_row3_col24, #T_66440_row3_col25, #T_66440_row3_col26, #T_66440_row3_col27, #T_66440_row4_col0, #T_66440_row4_col1, #T_66440_row4_col2, #T_66440_row4_col3, #T_66440_row4_col4, #T_66440_row4_col5, #T_66440_row4_col6, #T_66440_row4_col7, #T_66440_row4_col8, #T_66440_row4_col9, #T_66440_row4_col10, #T_66440_row4_col11, #T_66440_row4_col12, #T_66440_row4_col13, #T_66440_row4_col14, #T_66440_row4_col15, #T_66440_row4_col16, #T_66440_row4_col17, #T_66440_row4_col18, #T_66440_row4_col19, #T_66440_row4_col20, #T_66440_row4_col21, #T_66440_row4_col22, #T_66440_row4_col23, #T_66440_row4_col24, #T_66440_row4_col25, #T_66440_row4_col26, #T_66440_row4_col27, #T_66440_row5_col0, #T_66440_row5_col1, #T_66440_row5_col2, #T_66440_row5_col3, #T_66440_row5_col4, #T_66440_row5_col5, #T_66440_row5_col6, #T_66440_row5_col7, #T_66440_row5_col8, #T_66440_row5_col19, #T_66440_row5_col20, #T_66440_row5_col21, #T_66440_row5_col22, #T_66440_row5_col23, #T_66440_row5_col24, #T_66440_row5_col25, #T_66440_row5_col26, #T_66440_row5_col27, #T_66440_row6_col0, #T_66440_row6_col1, #T_66440_row6_col2, #T_66440_row6_col3, #T_66440_row6_col4, #T_66440_row6_col5, #T_66440_row6_col6, #T_66440_row6_col19, #T_66440_row6_col20, #T_66440_row6_col21, #T_66440_row6_col22, #T_66440_row6_col23, #T_66440_row6_col24, #T_66440_row6_col25, #T_66440_row6_col26, #T_66440_row6_col27, #T_66440_row7_col0, #T_66440_row7_col1, #T_66440_row7_col2, #T_66440_row7_col3, #T_66440_row7_col4, #T_66440_row7_col19, #T_66440_row7_col20, #T_66440_row7_col21, #T_66440_row7_col22, #T_66440_row7_col23, #T_66440_row7_col24, #T_66440_row7_col25, #T_66440_row7_col26, #T_66440_row7_col27, #T_66440_row8_col0, #T_66440_row8_col1, #T_66440_row8_col2, #T_66440_row8_col3, #T_66440_row8_col4, #T_66440_row8_col10, #T_66440_row8_col11, #T_66440_row8_col12, #T_66440_row8_col13, #T_66440_row8_col14, #T_66440_row8_col19, #T_66440_row8_col20, #T_66440_row8_col21, #T_66440_row8_col22, #T_66440_row8_col23, #T_66440_row8_col24, #T_66440_row8_col25, #T_66440_row8_col26, #T_66440_row8_col27, #T_66440_row9_col0, #T_66440_row9_col1, #T_66440_row9_col2, #T_66440_row9_col3, #T_66440_row9_col4, #T_66440_row9_col9, #T_66440_row9_col10, #T_66440_row9_col11, #T_66440_row9_col12, #T_66440_row9_col13, #T_66440_row9_col19, #T_66440_row9_col20, #T_66440_row9_col21, #T_66440_row9_col22, #T_66440_row9_col23, #T_66440_row9_col24, #T_66440_row9_col25, #T_66440_row9_col26, #T_66440_row9_col27, #T_66440_row10_col0, #T_66440_row10_col1, #T_66440_row10_col2, #T_66440_row10_col3, #T_66440_row10_col4, #T_66440_row10_col5, #T_66440_row10_col6, #T_66440_row10_col7, #T_66440_row10_col8, #T_66440_row10_col9, #T_66440_row10_col10, #T_66440_row10_col11, #T_66440_row10_col12, #T_66440_row10_col13, #T_66440_row10_col18, #T_66440_row10_col19, #T_66440_row10_col20, #T_66440_row10_col21, #T_66440_row10_col22, #T_66440_row10_col23, #T_66440_row10_col24, #T_66440_row10_col25, #T_66440_row10_col26, #T_66440_row10_col27, #T_66440_row11_col0, #T_66440_row11_col1, #T_66440_row11_col2, #T_66440_row11_col3, #T_66440_row11_col4, #T_66440_row11_col5, #T_66440_row11_col6, #T_66440_row11_col7, #T_66440_row11_col8, #T_66440_row11_col9, #T_66440_row11_col10, #T_66440_row11_col17, #T_66440_row11_col18, #T_66440_row11_col19, #T_66440_row11_col20, #T_66440_row11_col21, #T_66440_row11_col22, #T_66440_row11_col23, #T_66440_row11_col24, #T_66440_row11_col25, #T_66440_row11_col26, #T_66440_row11_col27, #T_66440_row12_col0, #T_66440_row12_col1, #T_66440_row12_col2, #T_66440_row12_col3, #T_66440_row12_col4, #T_66440_row12_col5, #T_66440_row12_col6, #T_66440_row12_col7, #T_66440_row12_col8, #T_66440_row12_col17, #T_66440_row12_col18, #T_66440_row12_col19, #T_66440_row12_col20, #T_66440_row12_col21, #T_66440_row12_col22, #T_66440_row12_col23, #T_66440_row12_col24, #T_66440_row12_col25, #T_66440_row12_col26, #T_66440_row12_col27, #T_66440_row13_col0, #T_66440_row13_col1, #T_66440_row13_col2, #T_66440_row13_col3, #T_66440_row13_col4, #T_66440_row13_col5, #T_66440_row13_col6, #T_66440_row13_col7, #T_66440_row13_col8, #T_66440_row13_col20, #T_66440_row13_col21, #T_66440_row13_col22, #T_66440_row13_col23, #T_66440_row13_col24, #T_66440_row13_col25, #T_66440_row13_col26, #T_66440_row13_col27, #T_66440_row14_col0, #T_66440_row14_col1, #T_66440_row14_col2, #T_66440_row14_col3, #T_66440_row14_col4, #T_66440_row14_col5, #T_66440_row14_col6, #T_66440_row14_col7, #T_66440_row14_col8, #T_66440_row14_col9, #T_66440_row14_col10, #T_66440_row14_col21, #T_66440_row14_col22, #T_66440_row14_col23, #T_66440_row14_col24, #T_66440_row14_col25, #T_66440_row14_col26, #T_66440_row14_col27, #T_66440_row15_col0, #T_66440_row15_col1, #T_66440_row15_col2, #T_66440_row15_col3, #T_66440_row15_col4, #T_66440_row15_col5, #T_66440_row15_col6, #T_66440_row15_col7, #T_66440_row15_col8, #T_66440_row15_col9, #T_66440_row15_col10, #T_66440_row15_col11, #T_66440_row15_col12, #T_66440_row15_col13, #T_66440_row15_col21, #T_66440_row15_col22, #T_66440_row15_col23, #T_66440_row15_col24, #T_66440_row15_col25, #T_66440_row15_col26, #T_66440_row15_col27, #T_66440_row16_col0, #T_66440_row16_col1, #T_66440_row16_col2, #T_66440_row16_col3, #T_66440_row16_col4, #T_66440_row16_col5, #T_66440_row16_col6, #T_66440_row16_col7, #T_66440_row16_col8, #T_66440_row16_col9, #T_66440_row16_col10, #T_66440_row16_col11, #T_66440_row16_col12, #T_66440_row16_col13, #T_66440_row16_col14, #T_66440_row16_col15, #T_66440_row16_col16, #T_66440_row16_col21, #T_66440_row16_col22, #T_66440_row16_col23, #T_66440_row16_col24, #T_66440_row16_col25, #T_66440_row16_col26, #T_66440_row16_col27, #T_66440_row17_col0, #T_66440_row17_col1, #T_66440_row17_col2, #T_66440_row17_col3, #T_66440_row17_col4, #T_66440_row17_col5, #T_66440_row17_col6, #T_66440_row17_col7, #T_66440_row17_col8, #T_66440_row17_col9, #T_66440_row17_col10, #T_66440_row17_col11, #T_66440_row17_col12, #T_66440_row17_col13, #T_66440_row17_col14, #T_66440_row17_col15, #T_66440_row17_col16, #T_66440_row17_col21, #T_66440_row17_col22, #T_66440_row17_col23, #T_66440_row17_col24, #T_66440_row17_col25, #T_66440_row17_col26, #T_66440_row17_col27, #T_66440_row18_col0, #T_66440_row18_col1, #T_66440_row18_col2, #T_66440_row18_col3, #T_66440_row18_col4, #T_66440_row18_col5, #T_66440_row18_col6, #T_66440_row18_col7, #T_66440_row18_col8, #T_66440_row18_col9, #T_66440_row18_col10, #T_66440_row18_col11, #T_66440_row18_col12, #T_66440_row18_col13, #T_66440_row18_col14, #T_66440_row18_col15, #T_66440_row18_col21, #T_66440_row18_col22, #T_66440_row18_col23, #T_66440_row18_col24, #T_66440_row18_col25, #T_66440_row18_col26, #T_66440_row18_col27, #T_66440_row19_col0, #T_66440_row19_col1, #T_66440_row19_col2, #T_66440_row19_col3, #T_66440_row19_col4, #T_66440_row19_col5, #T_66440_row19_col6, #T_66440_row19_col7, #T_66440_row19_col8, #T_66440_row19_col9, #T_66440_row19_col10, #T_66440_row19_col11, #T_66440_row19_col12, #T_66440_row19_col13, #T_66440_row19_col14, #T_66440_row19_col21, #T_66440_row19_col22, #T_66440_row19_col23, #T_66440_row19_col24, #T_66440_row19_col25, #T_66440_row19_col26, #T_66440_row19_col27, #T_66440_row20_col0, #T_66440_row20_col1, #T_66440_row20_col2, #T_66440_row20_col3, #T_66440_row20_col4, #T_66440_row20_col5, #T_66440_row20_col6, #T_66440_row20_col7, #T_66440_row20_col8, #T_66440_row20_col9, #T_66440_row20_col10, #T_66440_row20_col11, #T_66440_row20_col12, #T_66440_row20_col13, #T_66440_row20_col20, #T_66440_row20_col21, #T_66440_row20_col22, #T_66440_row20_col23, #T_66440_row20_col24, #T_66440_row20_col25, #T_66440_row20_col26, #T_66440_row20_col27, #T_66440_row21_col0, #T_66440_row21_col1, #T_66440_row21_col2, #T_66440_row21_col3, #T_66440_row21_col4, #T_66440_row21_col5, #T_66440_row21_col6, #T_66440_row21_col7, #T_66440_row21_col8, #T_66440_row21_col9, #T_66440_row21_col10, #T_66440_row21_col11, #T_66440_row21_col19, #T_66440_row21_col20, #T_66440_row21_col21, #T_66440_row21_col22, #T_66440_row21_col23, #T_66440_row21_col24, #T_66440_row21_col25, #T_66440_row21_col26, #T_66440_row21_col27, #T_66440_row22_col0, #T_66440_row22_col1, #T_66440_row22_col2, #T_66440_row22_col3, #T_66440_row22_col4, #T_66440_row22_col5, #T_66440_row22_col18, #T_66440_row22_col19, #T_66440_row22_col20, #T_66440_row22_col21, #T_66440_row22_col22, #T_66440_row22_col23, #T_66440_row22_col24, #T_66440_row22_col25, #T_66440_row22_col26, #T_66440_row22_col27, #T_66440_row23_col0, #T_66440_row23_col1, #T_66440_row23_col2, #T_66440_row23_col3, #T_66440_row23_col4, #T_66440_row23_col5, #T_66440_row23_col16, #T_66440_row23_col17, #T_66440_row23_col18, #T_66440_row23_col19, #T_66440_row23_col20, #T_66440_row23_col21, #T_66440_row23_col22, #T_66440_row23_col23, #T_66440_row23_col24, #T_66440_row23_col25, #T_66440_row23_col26, #T_66440_row23_col27, #T_66440_row24_col0, #T_66440_row24_col1, #T_66440_row24_col2, #T_66440_row24_col3, #T_66440_row24_col4, #T_66440_row24_col5, #T_66440_row24_col14, #T_66440_row24_col15, #T_66440_row24_col16, #T_66440_row24_col17, #T_66440_row24_col18, #T_66440_row24_col19, #T_66440_row24_col20, #T_66440_row24_col21, #T_66440_row24_col22, #T_66440_row24_col23, #T_66440_row24_col24, #T_66440_row24_col25, #T_66440_row24_col26, #T_66440_row24_col27, #T_66440_row25_col0, #T_66440_row25_col1, #T_66440_row25_col2, #T_66440_row25_col3, #T_66440_row25_col4, #T_66440_row25_col5, #T_66440_row25_col6, #T_66440_row25_col7, #T_66440_row25_col8, #T_66440_row25_col9, #T_66440_row25_col10, #T_66440_row25_col11, #T_66440_row25_col12, #T_66440_row25_col13, #T_66440_row25_col14, #T_66440_row25_col15, #T_66440_row25_col16, #T_66440_row25_col17, #T_66440_row25_col18, #T_66440_row25_col19, #T_66440_row25_col20, #T_66440_row25_col21, #T_66440_row25_col22, #T_66440_row25_col23, #T_66440_row25_col24, #T_66440_row25_col25, #T_66440_row25_col26, #T_66440_row25_col27, #T_66440_row26_col0, #T_66440_row26_col1, #T_66440_row26_col2, #T_66440_row26_col3, #T_66440_row26_col4, #T_66440_row26_col5, #T_66440_row26_col6, #T_66440_row26_col7, #T_66440_row26_col8, #T_66440_row26_col9, #T_66440_row26_col10, #T_66440_row26_col11, #T_66440_row26_col12, #T_66440_row26_col13, #T_66440_row26_col14, #T_66440_row26_col15, #T_66440_row26_col16, #T_66440_row26_col17, #T_66440_row26_col18, #T_66440_row26_col19, #T_66440_row26_col20, #T_66440_row26_col21, #T_66440_row26_col22, #T_66440_row26_col23, #T_66440_row26_col24, #T_66440_row26_col25, #T_66440_row26_col26, #T_66440_row26_col27, #T_66440_row27_col0, #T_66440_row27_col1, #T_66440_row27_col2, #T_66440_row27_col3, #T_66440_row27_col4, #T_66440_row27_col5, #T_66440_row27_col6, #T_66440_row27_col7, #T_66440_row27_col8, #T_66440_row27_col9, #T_66440_row27_col10, #T_66440_row27_col11, #T_66440_row27_col12, #T_66440_row27_col13, #T_66440_row27_col14, #T_66440_row27_col15, #T_66440_row27_col16, #T_66440_row27_col17, #T_66440_row27_col18, #T_66440_row27_col19, #T_66440_row27_col20, #T_66440_row27_col21, #T_66440_row27_col22, #T_66440_row27_col23, #T_66440_row27_col24, #T_66440_row27_col25, #T_66440_row27_col26, #T_66440_row27_col27 {\n",
              "  font-size: 6pt;\n",
              "  background-color: #ffffff;\n",
              "  color: #000000;\n",
              "}\n",
              "#T_66440_row5_col9, #T_66440_row12_col16 {\n",
              "  font-size: 6pt;\n",
              "  background-color: #f1f1f1;\n",
              "  color: #000000;\n",
              "}\n",
              "#T_66440_row5_col10, #T_66440_row5_col17 {\n",
              "  font-size: 6pt;\n",
              "  background-color: #7c7c7c;\n",
              "  color: #f1f1f1;\n",
              "}\n",
              "#T_66440_row5_col11 {\n",
              "  font-size: 6pt;\n",
              "  background-color: #4a4a4a;\n",
              "  color: #f1f1f1;\n",
              "}\n",
              "#T_66440_row5_col12, #T_66440_row5_col13, #T_66440_row5_col14, #T_66440_row6_col10, #T_66440_row6_col11, #T_66440_row6_col15, #T_66440_row6_col16, #T_66440_row6_col17, #T_66440_row7_col8, #T_66440_row7_col16, #T_66440_row7_col17, #T_66440_row8_col5, #T_66440_row8_col6, #T_66440_row8_col7, #T_66440_row8_col16, #T_66440_row8_col17, #T_66440_row9_col16, #T_66440_row10_col15, #T_66440_row13_col15, #T_66440_row14_col15, #T_66440_row14_col16, #T_66440_row14_col17, #T_66440_row14_col18, #T_66440_row15_col17, #T_66440_row15_col18, #T_66440_row15_col19, #T_66440_row16_col18, #T_66440_row16_col19, #T_66440_row16_col20, #T_66440_row17_col18, #T_66440_row17_col19, #T_66440_row18_col18, #T_66440_row18_col19, #T_66440_row19_col17, #T_66440_row19_col18, #T_66440_row20_col16, #T_66440_row20_col17, #T_66440_row21_col15, #T_66440_row21_col16, #T_66440_row23_col7, #T_66440_row23_col8, #T_66440_row23_col9, #T_66440_row23_col10, #T_66440_row23_col11, #T_66440_row24_col7, #T_66440_row24_col8, #T_66440_row24_col9, #T_66440_row24_col10, #T_66440_row24_col11 {\n",
              "  font-size: 6pt;\n",
              "  background-color: #000000;\n",
              "  color: #f1f1f1;\n",
              "}\n",
              "#T_66440_row5_col15 {\n",
              "  font-size: 6pt;\n",
              "  background-color: #606060;\n",
              "  color: #f1f1f1;\n",
              "}\n",
              "#T_66440_row5_col16 {\n",
              "  font-size: 6pt;\n",
              "  background-color: #4d4d4d;\n",
              "  color: #f1f1f1;\n",
              "}\n",
              "#T_66440_row5_col18 {\n",
              "  font-size: 6pt;\n",
              "  background-color: #bbbbbb;\n",
              "  color: #000000;\n",
              "}\n",
              "#T_66440_row6_col7, #T_66440_row8_col9 {\n",
              "  font-size: 6pt;\n",
              "  background-color: #e4e4e4;\n",
              "  color: #000000;\n",
              "}\n",
              "#T_66440_row6_col8, #T_66440_row12_col10 {\n",
              "  font-size: 6pt;\n",
              "  background-color: #6b6b6b;\n",
              "  color: #f1f1f1;\n",
              "}\n",
              "#T_66440_row6_col9, #T_66440_row9_col15 {\n",
              "  font-size: 6pt;\n",
              "  background-color: #222222;\n",
              "  color: #f1f1f1;\n",
              "}\n",
              "#T_66440_row6_col12, #T_66440_row6_col18, #T_66440_row7_col18, #T_66440_row21_col17 {\n",
              "  font-size: 6pt;\n",
              "  background-color: #171717;\n",
              "  color: #f1f1f1;\n",
              "}\n",
              "#T_66440_row6_col13, #T_66440_row7_col15 {\n",
              "  font-size: 6pt;\n",
              "  background-color: #4b4b4b;\n",
              "  color: #f1f1f1;\n",
              "}\n",
              "#T_66440_row6_col14, #T_66440_row11_col14, #T_66440_row12_col12, #T_66440_row12_col14, #T_66440_row13_col12, #T_66440_row13_col14, #T_66440_row22_col14, #T_66440_row23_col12 {\n",
              "  font-size: 6pt;\n",
              "  background-color: #010101;\n",
              "  color: #f1f1f1;\n",
              "}\n",
              "#T_66440_row7_col5 {\n",
              "  font-size: 6pt;\n",
              "  background-color: #272727;\n",
              "  color: #f1f1f1;\n",
              "}\n",
              "#T_66440_row7_col6 {\n",
              "  font-size: 6pt;\n",
              "  background-color: #0a0a0a;\n",
              "  color: #f1f1f1;\n",
              "}\n",
              "#T_66440_row7_col7, #T_66440_row18_col17 {\n",
              "  font-size: 6pt;\n",
              "  background-color: #050505;\n",
              "  color: #f1f1f1;\n",
              "}\n",
              "#T_66440_row7_col9, #T_66440_row12_col15, #T_66440_row14_col19, #T_66440_row23_col6 {\n",
              "  font-size: 6pt;\n",
              "  background-color: #545454;\n",
              "  color: #f1f1f1;\n",
              "}\n",
              "#T_66440_row7_col10 {\n",
              "  font-size: 6pt;\n",
              "  background-color: #e6e6e6;\n",
              "  color: #000000;\n",
              "}\n",
              "#T_66440_row7_col11, #T_66440_row7_col14, #T_66440_row12_col9 {\n",
              "  font-size: 6pt;\n",
              "  background-color: #fafafa;\n",
              "  color: #000000;\n",
              "}\n",
              "#T_66440_row7_col12, #T_66440_row15_col14, #T_66440_row20_col19 {\n",
              "  font-size: 6pt;\n",
              "  background-color: #fbfbfb;\n",
              "  color: #000000;\n",
              "}\n",
              "#T_66440_row7_col13 {\n",
              "  font-size: 6pt;\n",
              "  background-color: #fdfdfd;\n",
              "  color: #000000;\n",
              "}\n",
              "#T_66440_row8_col8 {\n",
              "  font-size: 6pt;\n",
              "  background-color: #1b1b1b;\n",
              "  color: #f1f1f1;\n",
              "}\n",
              "#T_66440_row8_col15 {\n",
              "  font-size: 6pt;\n",
              "  background-color: #4e4e4e;\n",
              "  color: #f1f1f1;\n",
              "}\n",
              "#T_66440_row8_col18 {\n",
              "  font-size: 6pt;\n",
              "  background-color: #767676;\n",
              "  color: #f1f1f1;\n",
              "}\n",
              "#T_66440_row9_col5 {\n",
              "  font-size: 6pt;\n",
              "  background-color: #fcfcfc;\n",
              "  color: #000000;\n",
              "}\n",
              "#T_66440_row9_col6, #T_66440_row9_col7, #T_66440_row19_col20 {\n",
              "  font-size: 6pt;\n",
              "  background-color: #f6f6f6;\n",
              "  color: #000000;\n",
              "}\n",
              "#T_66440_row9_col8, #T_66440_row11_col11 {\n",
              "  font-size: 6pt;\n",
              "  background-color: #f8f8f8;\n",
              "  color: #000000;\n",
              "}\n",
              "#T_66440_row9_col14, #T_66440_row14_col11 {\n",
              "  font-size: 6pt;\n",
              "  background-color: #e8e8e8;\n",
              "  color: #000000;\n",
              "}\n",
              "#T_66440_row9_col17, #T_66440_row10_col16 {\n",
              "  font-size: 6pt;\n",
              "  background-color: #090909;\n",
              "  color: #f1f1f1;\n",
              "}\n",
              "#T_66440_row9_col18 {\n",
              "  font-size: 6pt;\n",
              "  background-color: #d0d0d0;\n",
              "  color: #000000;\n",
              "}\n",
              "#T_66440_row10_col14, #T_66440_row11_col15, #T_66440_row13_col10 {\n",
              "  font-size: 6pt;\n",
              "  background-color: #060606;\n",
              "  color: #f1f1f1;\n",
              "}\n",
              "#T_66440_row10_col17 {\n",
              "  font-size: 6pt;\n",
              "  background-color: #979797;\n",
              "  color: #f1f1f1;\n",
              "}\n",
              "#T_66440_row11_col12 {\n",
              "  font-size: 6pt;\n",
              "  background-color: #b6b6b6;\n",
              "  color: #000000;\n",
              "}\n",
              "#T_66440_row11_col13 {\n",
              "  font-size: 6pt;\n",
              "  background-color: #252525;\n",
              "  color: #f1f1f1;\n",
              "}\n",
              "#T_66440_row11_col16 {\n",
              "  font-size: 6pt;\n",
              "  background-color: #999999;\n",
              "  color: #f1f1f1;\n",
              "}\n",
              "#T_66440_row12_col11, #T_66440_row22_col12 {\n",
              "  font-size: 6pt;\n",
              "  background-color: #101010;\n",
              "  color: #f1f1f1;\n",
              "}\n",
              "#T_66440_row12_col13, #T_66440_row13_col13, #T_66440_row21_col14, #T_66440_row22_col13, #T_66440_row23_col13 {\n",
              "  font-size: 6pt;\n",
              "  background-color: #020202;\n",
              "  color: #f1f1f1;\n",
              "}\n",
              "#T_66440_row13_col9 {\n",
              "  font-size: 6pt;\n",
              "  background-color: #f7f7f7;\n",
              "  color: #000000;\n",
              "}\n",
              "#T_66440_row13_col11, #T_66440_row22_col15 {\n",
              "  font-size: 6pt;\n",
              "  background-color: #030303;\n",
              "  color: #f1f1f1;\n",
              "}\n",
              "#T_66440_row13_col16 {\n",
              "  font-size: 6pt;\n",
              "  background-color: #181818;\n",
              "  color: #f1f1f1;\n",
              "}\n",
              "#T_66440_row13_col17 {\n",
              "  font-size: 6pt;\n",
              "  background-color: #303030;\n",
              "  color: #f1f1f1;\n",
              "}\n",
              "#T_66440_row13_col18 {\n",
              "  font-size: 6pt;\n",
              "  background-color: #a9a9a9;\n",
              "  color: #f1f1f1;\n",
              "}\n",
              "#T_66440_row13_col19 {\n",
              "  font-size: 6pt;\n",
              "  background-color: #fefefe;\n",
              "  color: #000000;\n",
              "}\n",
              "#T_66440_row14_col12, #T_66440_row14_col13, #T_66440_row20_col14 {\n",
              "  font-size: 6pt;\n",
              "  background-color: #bababa;\n",
              "  color: #000000;\n",
              "}\n",
              "#T_66440_row14_col14 {\n",
              "  font-size: 6pt;\n",
              "  background-color: #393939;\n",
              "  color: #f1f1f1;\n",
              "}\n",
              "#T_66440_row14_col20 {\n",
              "  font-size: 6pt;\n",
              "  background-color: #eaeaea;\n",
              "  color: #000000;\n",
              "}\n",
              "#T_66440_row15_col15 {\n",
              "  font-size: 6pt;\n",
              "  background-color: #e2e2e2;\n",
              "  color: #000000;\n",
              "}\n",
              "#T_66440_row15_col16 {\n",
              "  font-size: 6pt;\n",
              "  background-color: #9f9f9f;\n",
              "  color: #f1f1f1;\n",
              "}\n",
              "#T_66440_row15_col20 {\n",
              "  font-size: 6pt;\n",
              "  background-color: #898989;\n",
              "  color: #f1f1f1;\n",
              "}\n",
              "#T_66440_row16_col17 {\n",
              "  font-size: 6pt;\n",
              "  background-color: #585858;\n",
              "  color: #f1f1f1;\n",
              "}\n",
              "#T_66440_row17_col17 {\n",
              "  font-size: 6pt;\n",
              "  background-color: #5a5a5a;\n",
              "  color: #f1f1f1;\n",
              "}\n",
              "#T_66440_row17_col20 {\n",
              "  font-size: 6pt;\n",
              "  background-color: #525252;\n",
              "  color: #f1f1f1;\n",
              "}\n",
              "#T_66440_row18_col16, #T_66440_row23_col15 {\n",
              "  font-size: 6pt;\n",
              "  background-color: #c5c5c5;\n",
              "  color: #000000;\n",
              "}\n",
              "#T_66440_row18_col20 {\n",
              "  font-size: 6pt;\n",
              "  background-color: #d7d7d7;\n",
              "  color: #000000;\n",
              "}\n",
              "#T_66440_row19_col15, #T_66440_row22_col9 {\n",
              "  font-size: 6pt;\n",
              "  background-color: #dcdcdc;\n",
              "  color: #000000;\n",
              "}\n",
              "#T_66440_row19_col16 {\n",
              "  font-size: 6pt;\n",
              "  background-color: #2f2f2f;\n",
              "  color: #f1f1f1;\n",
              "}\n",
              "#T_66440_row19_col19 {\n",
              "  font-size: 6pt;\n",
              "  background-color: #636363;\n",
              "  color: #f1f1f1;\n",
              "}\n",
              "#T_66440_row20_col15 {\n",
              "  font-size: 6pt;\n",
              "  background-color: #070707;\n",
              "  color: #f1f1f1;\n",
              "}\n",
              "#T_66440_row20_col18 {\n",
              "  font-size: 6pt;\n",
              "  background-color: #1f1f1f;\n",
              "  color: #f1f1f1;\n",
              "}\n",
              "#T_66440_row21_col12, #T_66440_row22_col6, #T_66440_row22_col8 {\n",
              "  font-size: 6pt;\n",
              "  background-color: #e9e9e9;\n",
              "  color: #000000;\n",
              "}\n",
              "#T_66440_row21_col13 {\n",
              "  font-size: 6pt;\n",
              "  background-color: #7d7d7d;\n",
              "  color: #f1f1f1;\n",
              "}\n",
              "#T_66440_row21_col18 {\n",
              "  font-size: 6pt;\n",
              "  background-color: #e1e1e1;\n",
              "  color: #000000;\n",
              "}\n",
              "#T_66440_row22_col7, #T_66440_row22_col10 {\n",
              "  font-size: 6pt;\n",
              "  background-color: #a4a4a4;\n",
              "  color: #f1f1f1;\n",
              "}\n",
              "#T_66440_row22_col11 {\n",
              "  font-size: 6pt;\n",
              "  background-color: #727272;\n",
              "  color: #f1f1f1;\n",
              "}\n",
              "#T_66440_row22_col16 {\n",
              "  font-size: 6pt;\n",
              "  background-color: #616161;\n",
              "  color: #f1f1f1;\n",
              "}\n",
              "#T_66440_row22_col17 {\n",
              "  font-size: 6pt;\n",
              "  background-color: #f3f3f3;\n",
              "  color: #000000;\n",
              "}\n",
              "#T_66440_row23_col14 {\n",
              "  font-size: 6pt;\n",
              "  background-color: #484848;\n",
              "  color: #f1f1f1;\n",
              "}\n",
              "#T_66440_row24_col6 {\n",
              "  font-size: 6pt;\n",
              "  background-color: #b3b3b3;\n",
              "  color: #000000;\n",
              "}\n",
              "#T_66440_row24_col12 {\n",
              "  font-size: 6pt;\n",
              "  background-color: #1a1a1a;\n",
              "  color: #f1f1f1;\n",
              "}\n",
              "#T_66440_row24_col13 {\n",
              "  font-size: 6pt;\n",
              "  background-color: #d6d6d6;\n",
              "  color: #000000;\n",
              "}\n",
              "</style>\n",
              "<table id=\"T_66440_\" class=\"dataframe\">\n",
              "  <thead>\n",
              "    <tr>\n",
              "      <th class=\"blank level0\" >&nbsp;</th>\n",
              "      <th class=\"col_heading level0 col0\" >0</th>\n",
              "      <th class=\"col_heading level0 col1\" >1</th>\n",
              "      <th class=\"col_heading level0 col2\" >2</th>\n",
              "      <th class=\"col_heading level0 col3\" >3</th>\n",
              "      <th class=\"col_heading level0 col4\" >4</th>\n",
              "      <th class=\"col_heading level0 col5\" >5</th>\n",
              "      <th class=\"col_heading level0 col6\" >6</th>\n",
              "      <th class=\"col_heading level0 col7\" >7</th>\n",
              "      <th class=\"col_heading level0 col8\" >8</th>\n",
              "      <th class=\"col_heading level0 col9\" >9</th>\n",
              "      <th class=\"col_heading level0 col10\" >10</th>\n",
              "      <th class=\"col_heading level0 col11\" >11</th>\n",
              "      <th class=\"col_heading level0 col12\" >12</th>\n",
              "      <th class=\"col_heading level0 col13\" >13</th>\n",
              "      <th class=\"col_heading level0 col14\" >14</th>\n",
              "      <th class=\"col_heading level0 col15\" >15</th>\n",
              "      <th class=\"col_heading level0 col16\" >16</th>\n",
              "      <th class=\"col_heading level0 col17\" >17</th>\n",
              "      <th class=\"col_heading level0 col18\" >18</th>\n",
              "      <th class=\"col_heading level0 col19\" >19</th>\n",
              "      <th class=\"col_heading level0 col20\" >20</th>\n",
              "      <th class=\"col_heading level0 col21\" >21</th>\n",
              "      <th class=\"col_heading level0 col22\" >22</th>\n",
              "      <th class=\"col_heading level0 col23\" >23</th>\n",
              "      <th class=\"col_heading level0 col24\" >24</th>\n",
              "      <th class=\"col_heading level0 col25\" >25</th>\n",
              "      <th class=\"col_heading level0 col26\" >26</th>\n",
              "      <th class=\"col_heading level0 col27\" >27</th>\n",
              "    </tr>\n",
              "  </thead>\n",
              "  <tbody>\n",
              "    <tr>\n",
              "      <th id=\"T_66440_level0_row0\" class=\"row_heading level0 row0\" >0</th>\n",
              "      <td id=\"T_66440_row0_col0\" class=\"data row0 col0\" >0</td>\n",
              "      <td id=\"T_66440_row0_col1\" class=\"data row0 col1\" >0</td>\n",
              "      <td id=\"T_66440_row0_col2\" class=\"data row0 col2\" >0</td>\n",
              "      <td id=\"T_66440_row0_col3\" class=\"data row0 col3\" >0</td>\n",
              "      <td id=\"T_66440_row0_col4\" class=\"data row0 col4\" >0</td>\n",
              "      <td id=\"T_66440_row0_col5\" class=\"data row0 col5\" >0</td>\n",
              "      <td id=\"T_66440_row0_col6\" class=\"data row0 col6\" >0</td>\n",
              "      <td id=\"T_66440_row0_col7\" class=\"data row0 col7\" >0</td>\n",
              "      <td id=\"T_66440_row0_col8\" class=\"data row0 col8\" >0</td>\n",
              "      <td id=\"T_66440_row0_col9\" class=\"data row0 col9\" >0</td>\n",
              "      <td id=\"T_66440_row0_col10\" class=\"data row0 col10\" >0</td>\n",
              "      <td id=\"T_66440_row0_col11\" class=\"data row0 col11\" >0</td>\n",
              "      <td id=\"T_66440_row0_col12\" class=\"data row0 col12\" >0</td>\n",
              "      <td id=\"T_66440_row0_col13\" class=\"data row0 col13\" >0</td>\n",
              "      <td id=\"T_66440_row0_col14\" class=\"data row0 col14\" >0</td>\n",
              "      <td id=\"T_66440_row0_col15\" class=\"data row0 col15\" >0</td>\n",
              "      <td id=\"T_66440_row0_col16\" class=\"data row0 col16\" >0</td>\n",
              "      <td id=\"T_66440_row0_col17\" class=\"data row0 col17\" >0</td>\n",
              "      <td id=\"T_66440_row0_col18\" class=\"data row0 col18\" >0</td>\n",
              "      <td id=\"T_66440_row0_col19\" class=\"data row0 col19\" >0</td>\n",
              "      <td id=\"T_66440_row0_col20\" class=\"data row0 col20\" >0</td>\n",
              "      <td id=\"T_66440_row0_col21\" class=\"data row0 col21\" >0</td>\n",
              "      <td id=\"T_66440_row0_col22\" class=\"data row0 col22\" >0</td>\n",
              "      <td id=\"T_66440_row0_col23\" class=\"data row0 col23\" >0</td>\n",
              "      <td id=\"T_66440_row0_col24\" class=\"data row0 col24\" >0</td>\n",
              "      <td id=\"T_66440_row0_col25\" class=\"data row0 col25\" >0</td>\n",
              "      <td id=\"T_66440_row0_col26\" class=\"data row0 col26\" >0</td>\n",
              "      <td id=\"T_66440_row0_col27\" class=\"data row0 col27\" >0</td>\n",
              "    </tr>\n",
              "    <tr>\n",
              "      <th id=\"T_66440_level0_row1\" class=\"row_heading level0 row1\" >1</th>\n",
              "      <td id=\"T_66440_row1_col0\" class=\"data row1 col0\" >0</td>\n",
              "      <td id=\"T_66440_row1_col1\" class=\"data row1 col1\" >0</td>\n",
              "      <td id=\"T_66440_row1_col2\" class=\"data row1 col2\" >0</td>\n",
              "      <td id=\"T_66440_row1_col3\" class=\"data row1 col3\" >0</td>\n",
              "      <td id=\"T_66440_row1_col4\" class=\"data row1 col4\" >0</td>\n",
              "      <td id=\"T_66440_row1_col5\" class=\"data row1 col5\" >0</td>\n",
              "      <td id=\"T_66440_row1_col6\" class=\"data row1 col6\" >0</td>\n",
              "      <td id=\"T_66440_row1_col7\" class=\"data row1 col7\" >0</td>\n",
              "      <td id=\"T_66440_row1_col8\" class=\"data row1 col8\" >0</td>\n",
              "      <td id=\"T_66440_row1_col9\" class=\"data row1 col9\" >0</td>\n",
              "      <td id=\"T_66440_row1_col10\" class=\"data row1 col10\" >0</td>\n",
              "      <td id=\"T_66440_row1_col11\" class=\"data row1 col11\" >0</td>\n",
              "      <td id=\"T_66440_row1_col12\" class=\"data row1 col12\" >0</td>\n",
              "      <td id=\"T_66440_row1_col13\" class=\"data row1 col13\" >0</td>\n",
              "      <td id=\"T_66440_row1_col14\" class=\"data row1 col14\" >0</td>\n",
              "      <td id=\"T_66440_row1_col15\" class=\"data row1 col15\" >0</td>\n",
              "      <td id=\"T_66440_row1_col16\" class=\"data row1 col16\" >0</td>\n",
              "      <td id=\"T_66440_row1_col17\" class=\"data row1 col17\" >0</td>\n",
              "      <td id=\"T_66440_row1_col18\" class=\"data row1 col18\" >0</td>\n",
              "      <td id=\"T_66440_row1_col19\" class=\"data row1 col19\" >0</td>\n",
              "      <td id=\"T_66440_row1_col20\" class=\"data row1 col20\" >0</td>\n",
              "      <td id=\"T_66440_row1_col21\" class=\"data row1 col21\" >0</td>\n",
              "      <td id=\"T_66440_row1_col22\" class=\"data row1 col22\" >0</td>\n",
              "      <td id=\"T_66440_row1_col23\" class=\"data row1 col23\" >0</td>\n",
              "      <td id=\"T_66440_row1_col24\" class=\"data row1 col24\" >0</td>\n",
              "      <td id=\"T_66440_row1_col25\" class=\"data row1 col25\" >0</td>\n",
              "      <td id=\"T_66440_row1_col26\" class=\"data row1 col26\" >0</td>\n",
              "      <td id=\"T_66440_row1_col27\" class=\"data row1 col27\" >0</td>\n",
              "    </tr>\n",
              "    <tr>\n",
              "      <th id=\"T_66440_level0_row2\" class=\"row_heading level0 row2\" >2</th>\n",
              "      <td id=\"T_66440_row2_col0\" class=\"data row2 col0\" >0</td>\n",
              "      <td id=\"T_66440_row2_col1\" class=\"data row2 col1\" >0</td>\n",
              "      <td id=\"T_66440_row2_col2\" class=\"data row2 col2\" >0</td>\n",
              "      <td id=\"T_66440_row2_col3\" class=\"data row2 col3\" >0</td>\n",
              "      <td id=\"T_66440_row2_col4\" class=\"data row2 col4\" >0</td>\n",
              "      <td id=\"T_66440_row2_col5\" class=\"data row2 col5\" >0</td>\n",
              "      <td id=\"T_66440_row2_col6\" class=\"data row2 col6\" >0</td>\n",
              "      <td id=\"T_66440_row2_col7\" class=\"data row2 col7\" >0</td>\n",
              "      <td id=\"T_66440_row2_col8\" class=\"data row2 col8\" >0</td>\n",
              "      <td id=\"T_66440_row2_col9\" class=\"data row2 col9\" >0</td>\n",
              "      <td id=\"T_66440_row2_col10\" class=\"data row2 col10\" >0</td>\n",
              "      <td id=\"T_66440_row2_col11\" class=\"data row2 col11\" >0</td>\n",
              "      <td id=\"T_66440_row2_col12\" class=\"data row2 col12\" >0</td>\n",
              "      <td id=\"T_66440_row2_col13\" class=\"data row2 col13\" >0</td>\n",
              "      <td id=\"T_66440_row2_col14\" class=\"data row2 col14\" >0</td>\n",
              "      <td id=\"T_66440_row2_col15\" class=\"data row2 col15\" >0</td>\n",
              "      <td id=\"T_66440_row2_col16\" class=\"data row2 col16\" >0</td>\n",
              "      <td id=\"T_66440_row2_col17\" class=\"data row2 col17\" >0</td>\n",
              "      <td id=\"T_66440_row2_col18\" class=\"data row2 col18\" >0</td>\n",
              "      <td id=\"T_66440_row2_col19\" class=\"data row2 col19\" >0</td>\n",
              "      <td id=\"T_66440_row2_col20\" class=\"data row2 col20\" >0</td>\n",
              "      <td id=\"T_66440_row2_col21\" class=\"data row2 col21\" >0</td>\n",
              "      <td id=\"T_66440_row2_col22\" class=\"data row2 col22\" >0</td>\n",
              "      <td id=\"T_66440_row2_col23\" class=\"data row2 col23\" >0</td>\n",
              "      <td id=\"T_66440_row2_col24\" class=\"data row2 col24\" >0</td>\n",
              "      <td id=\"T_66440_row2_col25\" class=\"data row2 col25\" >0</td>\n",
              "      <td id=\"T_66440_row2_col26\" class=\"data row2 col26\" >0</td>\n",
              "      <td id=\"T_66440_row2_col27\" class=\"data row2 col27\" >0</td>\n",
              "    </tr>\n",
              "    <tr>\n",
              "      <th id=\"T_66440_level0_row3\" class=\"row_heading level0 row3\" >3</th>\n",
              "      <td id=\"T_66440_row3_col0\" class=\"data row3 col0\" >0</td>\n",
              "      <td id=\"T_66440_row3_col1\" class=\"data row3 col1\" >0</td>\n",
              "      <td id=\"T_66440_row3_col2\" class=\"data row3 col2\" >0</td>\n",
              "      <td id=\"T_66440_row3_col3\" class=\"data row3 col3\" >0</td>\n",
              "      <td id=\"T_66440_row3_col4\" class=\"data row3 col4\" >0</td>\n",
              "      <td id=\"T_66440_row3_col5\" class=\"data row3 col5\" >0</td>\n",
              "      <td id=\"T_66440_row3_col6\" class=\"data row3 col6\" >0</td>\n",
              "      <td id=\"T_66440_row3_col7\" class=\"data row3 col7\" >0</td>\n",
              "      <td id=\"T_66440_row3_col8\" class=\"data row3 col8\" >0</td>\n",
              "      <td id=\"T_66440_row3_col9\" class=\"data row3 col9\" >0</td>\n",
              "      <td id=\"T_66440_row3_col10\" class=\"data row3 col10\" >0</td>\n",
              "      <td id=\"T_66440_row3_col11\" class=\"data row3 col11\" >0</td>\n",
              "      <td id=\"T_66440_row3_col12\" class=\"data row3 col12\" >0</td>\n",
              "      <td id=\"T_66440_row3_col13\" class=\"data row3 col13\" >0</td>\n",
              "      <td id=\"T_66440_row3_col14\" class=\"data row3 col14\" >0</td>\n",
              "      <td id=\"T_66440_row3_col15\" class=\"data row3 col15\" >0</td>\n",
              "      <td id=\"T_66440_row3_col16\" class=\"data row3 col16\" >0</td>\n",
              "      <td id=\"T_66440_row3_col17\" class=\"data row3 col17\" >0</td>\n",
              "      <td id=\"T_66440_row3_col18\" class=\"data row3 col18\" >0</td>\n",
              "      <td id=\"T_66440_row3_col19\" class=\"data row3 col19\" >0</td>\n",
              "      <td id=\"T_66440_row3_col20\" class=\"data row3 col20\" >0</td>\n",
              "      <td id=\"T_66440_row3_col21\" class=\"data row3 col21\" >0</td>\n",
              "      <td id=\"T_66440_row3_col22\" class=\"data row3 col22\" >0</td>\n",
              "      <td id=\"T_66440_row3_col23\" class=\"data row3 col23\" >0</td>\n",
              "      <td id=\"T_66440_row3_col24\" class=\"data row3 col24\" >0</td>\n",
              "      <td id=\"T_66440_row3_col25\" class=\"data row3 col25\" >0</td>\n",
              "      <td id=\"T_66440_row3_col26\" class=\"data row3 col26\" >0</td>\n",
              "      <td id=\"T_66440_row3_col27\" class=\"data row3 col27\" >0</td>\n",
              "    </tr>\n",
              "    <tr>\n",
              "      <th id=\"T_66440_level0_row4\" class=\"row_heading level0 row4\" >4</th>\n",
              "      <td id=\"T_66440_row4_col0\" class=\"data row4 col0\" >0</td>\n",
              "      <td id=\"T_66440_row4_col1\" class=\"data row4 col1\" >0</td>\n",
              "      <td id=\"T_66440_row4_col2\" class=\"data row4 col2\" >0</td>\n",
              "      <td id=\"T_66440_row4_col3\" class=\"data row4 col3\" >0</td>\n",
              "      <td id=\"T_66440_row4_col4\" class=\"data row4 col4\" >0</td>\n",
              "      <td id=\"T_66440_row4_col5\" class=\"data row4 col5\" >0</td>\n",
              "      <td id=\"T_66440_row4_col6\" class=\"data row4 col6\" >0</td>\n",
              "      <td id=\"T_66440_row4_col7\" class=\"data row4 col7\" >0</td>\n",
              "      <td id=\"T_66440_row4_col8\" class=\"data row4 col8\" >0</td>\n",
              "      <td id=\"T_66440_row4_col9\" class=\"data row4 col9\" >0</td>\n",
              "      <td id=\"T_66440_row4_col10\" class=\"data row4 col10\" >0</td>\n",
              "      <td id=\"T_66440_row4_col11\" class=\"data row4 col11\" >0</td>\n",
              "      <td id=\"T_66440_row4_col12\" class=\"data row4 col12\" >0</td>\n",
              "      <td id=\"T_66440_row4_col13\" class=\"data row4 col13\" >0</td>\n",
              "      <td id=\"T_66440_row4_col14\" class=\"data row4 col14\" >0</td>\n",
              "      <td id=\"T_66440_row4_col15\" class=\"data row4 col15\" >0</td>\n",
              "      <td id=\"T_66440_row4_col16\" class=\"data row4 col16\" >0</td>\n",
              "      <td id=\"T_66440_row4_col17\" class=\"data row4 col17\" >0</td>\n",
              "      <td id=\"T_66440_row4_col18\" class=\"data row4 col18\" >0</td>\n",
              "      <td id=\"T_66440_row4_col19\" class=\"data row4 col19\" >0</td>\n",
              "      <td id=\"T_66440_row4_col20\" class=\"data row4 col20\" >0</td>\n",
              "      <td id=\"T_66440_row4_col21\" class=\"data row4 col21\" >0</td>\n",
              "      <td id=\"T_66440_row4_col22\" class=\"data row4 col22\" >0</td>\n",
              "      <td id=\"T_66440_row4_col23\" class=\"data row4 col23\" >0</td>\n",
              "      <td id=\"T_66440_row4_col24\" class=\"data row4 col24\" >0</td>\n",
              "      <td id=\"T_66440_row4_col25\" class=\"data row4 col25\" >0</td>\n",
              "      <td id=\"T_66440_row4_col26\" class=\"data row4 col26\" >0</td>\n",
              "      <td id=\"T_66440_row4_col27\" class=\"data row4 col27\" >0</td>\n",
              "    </tr>\n",
              "    <tr>\n",
              "      <th id=\"T_66440_level0_row5\" class=\"row_heading level0 row5\" >5</th>\n",
              "      <td id=\"T_66440_row5_col0\" class=\"data row5 col0\" >0</td>\n",
              "      <td id=\"T_66440_row5_col1\" class=\"data row5 col1\" >0</td>\n",
              "      <td id=\"T_66440_row5_col2\" class=\"data row5 col2\" >0</td>\n",
              "      <td id=\"T_66440_row5_col3\" class=\"data row5 col3\" >0</td>\n",
              "      <td id=\"T_66440_row5_col4\" class=\"data row5 col4\" >0</td>\n",
              "      <td id=\"T_66440_row5_col5\" class=\"data row5 col5\" >0</td>\n",
              "      <td id=\"T_66440_row5_col6\" class=\"data row5 col6\" >0</td>\n",
              "      <td id=\"T_66440_row5_col7\" class=\"data row5 col7\" >0</td>\n",
              "      <td id=\"T_66440_row5_col8\" class=\"data row5 col8\" >0</td>\n",
              "      <td id=\"T_66440_row5_col9\" class=\"data row5 col9\" >29</td>\n",
              "      <td id=\"T_66440_row5_col10\" class=\"data row5 col10\" >150</td>\n",
              "      <td id=\"T_66440_row5_col11\" class=\"data row5 col11\" >195</td>\n",
              "      <td id=\"T_66440_row5_col12\" class=\"data row5 col12\" >254</td>\n",
              "      <td id=\"T_66440_row5_col13\" class=\"data row5 col13\" >255</td>\n",
              "      <td id=\"T_66440_row5_col14\" class=\"data row5 col14\" >254</td>\n",
              "      <td id=\"T_66440_row5_col15\" class=\"data row5 col15\" >176</td>\n",
              "      <td id=\"T_66440_row5_col16\" class=\"data row5 col16\" >193</td>\n",
              "      <td id=\"T_66440_row5_col17\" class=\"data row5 col17\" >150</td>\n",
              "      <td id=\"T_66440_row5_col18\" class=\"data row5 col18\" >96</td>\n",
              "      <td id=\"T_66440_row5_col19\" class=\"data row5 col19\" >0</td>\n",
              "      <td id=\"T_66440_row5_col20\" class=\"data row5 col20\" >0</td>\n",
              "      <td id=\"T_66440_row5_col21\" class=\"data row5 col21\" >0</td>\n",
              "      <td id=\"T_66440_row5_col22\" class=\"data row5 col22\" >0</td>\n",
              "      <td id=\"T_66440_row5_col23\" class=\"data row5 col23\" >0</td>\n",
              "      <td id=\"T_66440_row5_col24\" class=\"data row5 col24\" >0</td>\n",
              "      <td id=\"T_66440_row5_col25\" class=\"data row5 col25\" >0</td>\n",
              "      <td id=\"T_66440_row5_col26\" class=\"data row5 col26\" >0</td>\n",
              "      <td id=\"T_66440_row5_col27\" class=\"data row5 col27\" >0</td>\n",
              "    </tr>\n",
              "    <tr>\n",
              "      <th id=\"T_66440_level0_row6\" class=\"row_heading level0 row6\" >6</th>\n",
              "      <td id=\"T_66440_row6_col0\" class=\"data row6 col0\" >0</td>\n",
              "      <td id=\"T_66440_row6_col1\" class=\"data row6 col1\" >0</td>\n",
              "      <td id=\"T_66440_row6_col2\" class=\"data row6 col2\" >0</td>\n",
              "      <td id=\"T_66440_row6_col3\" class=\"data row6 col3\" >0</td>\n",
              "      <td id=\"T_66440_row6_col4\" class=\"data row6 col4\" >0</td>\n",
              "      <td id=\"T_66440_row6_col5\" class=\"data row6 col5\" >0</td>\n",
              "      <td id=\"T_66440_row6_col6\" class=\"data row6 col6\" >0</td>\n",
              "      <td id=\"T_66440_row6_col7\" class=\"data row6 col7\" >48</td>\n",
              "      <td id=\"T_66440_row6_col8\" class=\"data row6 col8\" >166</td>\n",
              "      <td id=\"T_66440_row6_col9\" class=\"data row6 col9\" >224</td>\n",
              "      <td id=\"T_66440_row6_col10\" class=\"data row6 col10\" >253</td>\n",
              "      <td id=\"T_66440_row6_col11\" class=\"data row6 col11\" >253</td>\n",
              "      <td id=\"T_66440_row6_col12\" class=\"data row6 col12\" >234</td>\n",
              "      <td id=\"T_66440_row6_col13\" class=\"data row6 col13\" >196</td>\n",
              "      <td id=\"T_66440_row6_col14\" class=\"data row6 col14\" >253</td>\n",
              "      <td id=\"T_66440_row6_col15\" class=\"data row6 col15\" >253</td>\n",
              "      <td id=\"T_66440_row6_col16\" class=\"data row6 col16\" >253</td>\n",
              "      <td id=\"T_66440_row6_col17\" class=\"data row6 col17\" >253</td>\n",
              "      <td id=\"T_66440_row6_col18\" class=\"data row6 col18\" >233</td>\n",
              "      <td id=\"T_66440_row6_col19\" class=\"data row6 col19\" >0</td>\n",
              "      <td id=\"T_66440_row6_col20\" class=\"data row6 col20\" >0</td>\n",
              "      <td id=\"T_66440_row6_col21\" class=\"data row6 col21\" >0</td>\n",
              "      <td id=\"T_66440_row6_col22\" class=\"data row6 col22\" >0</td>\n",
              "      <td id=\"T_66440_row6_col23\" class=\"data row6 col23\" >0</td>\n",
              "      <td id=\"T_66440_row6_col24\" class=\"data row6 col24\" >0</td>\n",
              "      <td id=\"T_66440_row6_col25\" class=\"data row6 col25\" >0</td>\n",
              "      <td id=\"T_66440_row6_col26\" class=\"data row6 col26\" >0</td>\n",
              "      <td id=\"T_66440_row6_col27\" class=\"data row6 col27\" >0</td>\n",
              "    </tr>\n",
              "    <tr>\n",
              "      <th id=\"T_66440_level0_row7\" class=\"row_heading level0 row7\" >7</th>\n",
              "      <td id=\"T_66440_row7_col0\" class=\"data row7 col0\" >0</td>\n",
              "      <td id=\"T_66440_row7_col1\" class=\"data row7 col1\" >0</td>\n",
              "      <td id=\"T_66440_row7_col2\" class=\"data row7 col2\" >0</td>\n",
              "      <td id=\"T_66440_row7_col3\" class=\"data row7 col3\" >0</td>\n",
              "      <td id=\"T_66440_row7_col4\" class=\"data row7 col4\" >0</td>\n",
              "      <td id=\"T_66440_row7_col5\" class=\"data row7 col5\" >93</td>\n",
              "      <td id=\"T_66440_row7_col6\" class=\"data row7 col6\" >244</td>\n",
              "      <td id=\"T_66440_row7_col7\" class=\"data row7 col7\" >249</td>\n",
              "      <td id=\"T_66440_row7_col8\" class=\"data row7 col8\" >253</td>\n",
              "      <td id=\"T_66440_row7_col9\" class=\"data row7 col9\" >187</td>\n",
              "      <td id=\"T_66440_row7_col10\" class=\"data row7 col10\" >46</td>\n",
              "      <td id=\"T_66440_row7_col11\" class=\"data row7 col11\" >10</td>\n",
              "      <td id=\"T_66440_row7_col12\" class=\"data row7 col12\" >8</td>\n",
              "      <td id=\"T_66440_row7_col13\" class=\"data row7 col13\" >4</td>\n",
              "      <td id=\"T_66440_row7_col14\" class=\"data row7 col14\" >10</td>\n",
              "      <td id=\"T_66440_row7_col15\" class=\"data row7 col15\" >194</td>\n",
              "      <td id=\"T_66440_row7_col16\" class=\"data row7 col16\" >253</td>\n",
              "      <td id=\"T_66440_row7_col17\" class=\"data row7 col17\" >253</td>\n",
              "      <td id=\"T_66440_row7_col18\" class=\"data row7 col18\" >233</td>\n",
              "      <td id=\"T_66440_row7_col19\" class=\"data row7 col19\" >0</td>\n",
              "      <td id=\"T_66440_row7_col20\" class=\"data row7 col20\" >0</td>\n",
              "      <td id=\"T_66440_row7_col21\" class=\"data row7 col21\" >0</td>\n",
              "      <td id=\"T_66440_row7_col22\" class=\"data row7 col22\" >0</td>\n",
              "      <td id=\"T_66440_row7_col23\" class=\"data row7 col23\" >0</td>\n",
              "      <td id=\"T_66440_row7_col24\" class=\"data row7 col24\" >0</td>\n",
              "      <td id=\"T_66440_row7_col25\" class=\"data row7 col25\" >0</td>\n",
              "      <td id=\"T_66440_row7_col26\" class=\"data row7 col26\" >0</td>\n",
              "      <td id=\"T_66440_row7_col27\" class=\"data row7 col27\" >0</td>\n",
              "    </tr>\n",
              "    <tr>\n",
              "      <th id=\"T_66440_level0_row8\" class=\"row_heading level0 row8\" >8</th>\n",
              "      <td id=\"T_66440_row8_col0\" class=\"data row8 col0\" >0</td>\n",
              "      <td id=\"T_66440_row8_col1\" class=\"data row8 col1\" >0</td>\n",
              "      <td id=\"T_66440_row8_col2\" class=\"data row8 col2\" >0</td>\n",
              "      <td id=\"T_66440_row8_col3\" class=\"data row8 col3\" >0</td>\n",
              "      <td id=\"T_66440_row8_col4\" class=\"data row8 col4\" >0</td>\n",
              "      <td id=\"T_66440_row8_col5\" class=\"data row8 col5\" >107</td>\n",
              "      <td id=\"T_66440_row8_col6\" class=\"data row8 col6\" >253</td>\n",
              "      <td id=\"T_66440_row8_col7\" class=\"data row8 col7\" >253</td>\n",
              "      <td id=\"T_66440_row8_col8\" class=\"data row8 col8\" >230</td>\n",
              "      <td id=\"T_66440_row8_col9\" class=\"data row8 col9\" >48</td>\n",
              "      <td id=\"T_66440_row8_col10\" class=\"data row8 col10\" >0</td>\n",
              "      <td id=\"T_66440_row8_col11\" class=\"data row8 col11\" >0</td>\n",
              "      <td id=\"T_66440_row8_col12\" class=\"data row8 col12\" >0</td>\n",
              "      <td id=\"T_66440_row8_col13\" class=\"data row8 col13\" >0</td>\n",
              "      <td id=\"T_66440_row8_col14\" class=\"data row8 col14\" >0</td>\n",
              "      <td id=\"T_66440_row8_col15\" class=\"data row8 col15\" >192</td>\n",
              "      <td id=\"T_66440_row8_col16\" class=\"data row8 col16\" >253</td>\n",
              "      <td id=\"T_66440_row8_col17\" class=\"data row8 col17\" >253</td>\n",
              "      <td id=\"T_66440_row8_col18\" class=\"data row8 col18\" >156</td>\n",
              "      <td id=\"T_66440_row8_col19\" class=\"data row8 col19\" >0</td>\n",
              "      <td id=\"T_66440_row8_col20\" class=\"data row8 col20\" >0</td>\n",
              "      <td id=\"T_66440_row8_col21\" class=\"data row8 col21\" >0</td>\n",
              "      <td id=\"T_66440_row8_col22\" class=\"data row8 col22\" >0</td>\n",
              "      <td id=\"T_66440_row8_col23\" class=\"data row8 col23\" >0</td>\n",
              "      <td id=\"T_66440_row8_col24\" class=\"data row8 col24\" >0</td>\n",
              "      <td id=\"T_66440_row8_col25\" class=\"data row8 col25\" >0</td>\n",
              "      <td id=\"T_66440_row8_col26\" class=\"data row8 col26\" >0</td>\n",
              "      <td id=\"T_66440_row8_col27\" class=\"data row8 col27\" >0</td>\n",
              "    </tr>\n",
              "    <tr>\n",
              "      <th id=\"T_66440_level0_row9\" class=\"row_heading level0 row9\" >9</th>\n",
              "      <td id=\"T_66440_row9_col0\" class=\"data row9 col0\" >0</td>\n",
              "      <td id=\"T_66440_row9_col1\" class=\"data row9 col1\" >0</td>\n",
              "      <td id=\"T_66440_row9_col2\" class=\"data row9 col2\" >0</td>\n",
              "      <td id=\"T_66440_row9_col3\" class=\"data row9 col3\" >0</td>\n",
              "      <td id=\"T_66440_row9_col4\" class=\"data row9 col4\" >0</td>\n",
              "      <td id=\"T_66440_row9_col5\" class=\"data row9 col5\" >3</td>\n",
              "      <td id=\"T_66440_row9_col6\" class=\"data row9 col6\" >20</td>\n",
              "      <td id=\"T_66440_row9_col7\" class=\"data row9 col7\" >20</td>\n",
              "      <td id=\"T_66440_row9_col8\" class=\"data row9 col8\" >15</td>\n",
              "      <td id=\"T_66440_row9_col9\" class=\"data row9 col9\" >0</td>\n",
              "      <td id=\"T_66440_row9_col10\" class=\"data row9 col10\" >0</td>\n",
              "      <td id=\"T_66440_row9_col11\" class=\"data row9 col11\" >0</td>\n",
              "      <td id=\"T_66440_row9_col12\" class=\"data row9 col12\" >0</td>\n",
              "      <td id=\"T_66440_row9_col13\" class=\"data row9 col13\" >0</td>\n",
              "      <td id=\"T_66440_row9_col14\" class=\"data row9 col14\" >43</td>\n",
              "      <td id=\"T_66440_row9_col15\" class=\"data row9 col15\" >224</td>\n",
              "      <td id=\"T_66440_row9_col16\" class=\"data row9 col16\" >253</td>\n",
              "      <td id=\"T_66440_row9_col17\" class=\"data row9 col17\" >245</td>\n",
              "      <td id=\"T_66440_row9_col18\" class=\"data row9 col18\" >74</td>\n",
              "      <td id=\"T_66440_row9_col19\" class=\"data row9 col19\" >0</td>\n",
              "      <td id=\"T_66440_row9_col20\" class=\"data row9 col20\" >0</td>\n",
              "      <td id=\"T_66440_row9_col21\" class=\"data row9 col21\" >0</td>\n",
              "      <td id=\"T_66440_row9_col22\" class=\"data row9 col22\" >0</td>\n",
              "      <td id=\"T_66440_row9_col23\" class=\"data row9 col23\" >0</td>\n",
              "      <td id=\"T_66440_row9_col24\" class=\"data row9 col24\" >0</td>\n",
              "      <td id=\"T_66440_row9_col25\" class=\"data row9 col25\" >0</td>\n",
              "      <td id=\"T_66440_row9_col26\" class=\"data row9 col26\" >0</td>\n",
              "      <td id=\"T_66440_row9_col27\" class=\"data row9 col27\" >0</td>\n",
              "    </tr>\n",
              "    <tr>\n",
              "      <th id=\"T_66440_level0_row10\" class=\"row_heading level0 row10\" >10</th>\n",
              "      <td id=\"T_66440_row10_col0\" class=\"data row10 col0\" >0</td>\n",
              "      <td id=\"T_66440_row10_col1\" class=\"data row10 col1\" >0</td>\n",
              "      <td id=\"T_66440_row10_col2\" class=\"data row10 col2\" >0</td>\n",
              "      <td id=\"T_66440_row10_col3\" class=\"data row10 col3\" >0</td>\n",
              "      <td id=\"T_66440_row10_col4\" class=\"data row10 col4\" >0</td>\n",
              "      <td id=\"T_66440_row10_col5\" class=\"data row10 col5\" >0</td>\n",
              "      <td id=\"T_66440_row10_col6\" class=\"data row10 col6\" >0</td>\n",
              "      <td id=\"T_66440_row10_col7\" class=\"data row10 col7\" >0</td>\n",
              "      <td id=\"T_66440_row10_col8\" class=\"data row10 col8\" >0</td>\n",
              "      <td id=\"T_66440_row10_col9\" class=\"data row10 col9\" >0</td>\n",
              "      <td id=\"T_66440_row10_col10\" class=\"data row10 col10\" >0</td>\n",
              "      <td id=\"T_66440_row10_col11\" class=\"data row10 col11\" >0</td>\n",
              "      <td id=\"T_66440_row10_col12\" class=\"data row10 col12\" >0</td>\n",
              "      <td id=\"T_66440_row10_col13\" class=\"data row10 col13\" >0</td>\n",
              "      <td id=\"T_66440_row10_col14\" class=\"data row10 col14\" >249</td>\n",
              "      <td id=\"T_66440_row10_col15\" class=\"data row10 col15\" >253</td>\n",
              "      <td id=\"T_66440_row10_col16\" class=\"data row10 col16\" >245</td>\n",
              "      <td id=\"T_66440_row10_col17\" class=\"data row10 col17\" >126</td>\n",
              "      <td id=\"T_66440_row10_col18\" class=\"data row10 col18\" >0</td>\n",
              "      <td id=\"T_66440_row10_col19\" class=\"data row10 col19\" >0</td>\n",
              "      <td id=\"T_66440_row10_col20\" class=\"data row10 col20\" >0</td>\n",
              "      <td id=\"T_66440_row10_col21\" class=\"data row10 col21\" >0</td>\n",
              "      <td id=\"T_66440_row10_col22\" class=\"data row10 col22\" >0</td>\n",
              "      <td id=\"T_66440_row10_col23\" class=\"data row10 col23\" >0</td>\n",
              "      <td id=\"T_66440_row10_col24\" class=\"data row10 col24\" >0</td>\n",
              "      <td id=\"T_66440_row10_col25\" class=\"data row10 col25\" >0</td>\n",
              "      <td id=\"T_66440_row10_col26\" class=\"data row10 col26\" >0</td>\n",
              "      <td id=\"T_66440_row10_col27\" class=\"data row10 col27\" >0</td>\n",
              "    </tr>\n",
              "    <tr>\n",
              "      <th id=\"T_66440_level0_row11\" class=\"row_heading level0 row11\" >11</th>\n",
              "      <td id=\"T_66440_row11_col0\" class=\"data row11 col0\" >0</td>\n",
              "      <td id=\"T_66440_row11_col1\" class=\"data row11 col1\" >0</td>\n",
              "      <td id=\"T_66440_row11_col2\" class=\"data row11 col2\" >0</td>\n",
              "      <td id=\"T_66440_row11_col3\" class=\"data row11 col3\" >0</td>\n",
              "      <td id=\"T_66440_row11_col4\" class=\"data row11 col4\" >0</td>\n",
              "      <td id=\"T_66440_row11_col5\" class=\"data row11 col5\" >0</td>\n",
              "      <td id=\"T_66440_row11_col6\" class=\"data row11 col6\" >0</td>\n",
              "      <td id=\"T_66440_row11_col7\" class=\"data row11 col7\" >0</td>\n",
              "      <td id=\"T_66440_row11_col8\" class=\"data row11 col8\" >0</td>\n",
              "      <td id=\"T_66440_row11_col9\" class=\"data row11 col9\" >0</td>\n",
              "      <td id=\"T_66440_row11_col10\" class=\"data row11 col10\" >0</td>\n",
              "      <td id=\"T_66440_row11_col11\" class=\"data row11 col11\" >14</td>\n",
              "      <td id=\"T_66440_row11_col12\" class=\"data row11 col12\" >101</td>\n",
              "      <td id=\"T_66440_row11_col13\" class=\"data row11 col13\" >223</td>\n",
              "      <td id=\"T_66440_row11_col14\" class=\"data row11 col14\" >253</td>\n",
              "      <td id=\"T_66440_row11_col15\" class=\"data row11 col15\" >248</td>\n",
              "      <td id=\"T_66440_row11_col16\" class=\"data row11 col16\" >124</td>\n",
              "      <td id=\"T_66440_row11_col17\" class=\"data row11 col17\" >0</td>\n",
              "      <td id=\"T_66440_row11_col18\" class=\"data row11 col18\" >0</td>\n",
              "      <td id=\"T_66440_row11_col19\" class=\"data row11 col19\" >0</td>\n",
              "      <td id=\"T_66440_row11_col20\" class=\"data row11 col20\" >0</td>\n",
              "      <td id=\"T_66440_row11_col21\" class=\"data row11 col21\" >0</td>\n",
              "      <td id=\"T_66440_row11_col22\" class=\"data row11 col22\" >0</td>\n",
              "      <td id=\"T_66440_row11_col23\" class=\"data row11 col23\" >0</td>\n",
              "      <td id=\"T_66440_row11_col24\" class=\"data row11 col24\" >0</td>\n",
              "      <td id=\"T_66440_row11_col25\" class=\"data row11 col25\" >0</td>\n",
              "      <td id=\"T_66440_row11_col26\" class=\"data row11 col26\" >0</td>\n",
              "      <td id=\"T_66440_row11_col27\" class=\"data row11 col27\" >0</td>\n",
              "    </tr>\n",
              "    <tr>\n",
              "      <th id=\"T_66440_level0_row12\" class=\"row_heading level0 row12\" >12</th>\n",
              "      <td id=\"T_66440_row12_col0\" class=\"data row12 col0\" >0</td>\n",
              "      <td id=\"T_66440_row12_col1\" class=\"data row12 col1\" >0</td>\n",
              "      <td id=\"T_66440_row12_col2\" class=\"data row12 col2\" >0</td>\n",
              "      <td id=\"T_66440_row12_col3\" class=\"data row12 col3\" >0</td>\n",
              "      <td id=\"T_66440_row12_col4\" class=\"data row12 col4\" >0</td>\n",
              "      <td id=\"T_66440_row12_col5\" class=\"data row12 col5\" >0</td>\n",
              "      <td id=\"T_66440_row12_col6\" class=\"data row12 col6\" >0</td>\n",
              "      <td id=\"T_66440_row12_col7\" class=\"data row12 col7\" >0</td>\n",
              "      <td id=\"T_66440_row12_col8\" class=\"data row12 col8\" >0</td>\n",
              "      <td id=\"T_66440_row12_col9\" class=\"data row12 col9\" >11</td>\n",
              "      <td id=\"T_66440_row12_col10\" class=\"data row12 col10\" >166</td>\n",
              "      <td id=\"T_66440_row12_col11\" class=\"data row12 col11\" >239</td>\n",
              "      <td id=\"T_66440_row12_col12\" class=\"data row12 col12\" >253</td>\n",
              "      <td id=\"T_66440_row12_col13\" class=\"data row12 col13\" >253</td>\n",
              "      <td id=\"T_66440_row12_col14\" class=\"data row12 col14\" >253</td>\n",
              "      <td id=\"T_66440_row12_col15\" class=\"data row12 col15\" >187</td>\n",
              "      <td id=\"T_66440_row12_col16\" class=\"data row12 col16\" >30</td>\n",
              "      <td id=\"T_66440_row12_col17\" class=\"data row12 col17\" >0</td>\n",
              "      <td id=\"T_66440_row12_col18\" class=\"data row12 col18\" >0</td>\n",
              "      <td id=\"T_66440_row12_col19\" class=\"data row12 col19\" >0</td>\n",
              "      <td id=\"T_66440_row12_col20\" class=\"data row12 col20\" >0</td>\n",
              "      <td id=\"T_66440_row12_col21\" class=\"data row12 col21\" >0</td>\n",
              "      <td id=\"T_66440_row12_col22\" class=\"data row12 col22\" >0</td>\n",
              "      <td id=\"T_66440_row12_col23\" class=\"data row12 col23\" >0</td>\n",
              "      <td id=\"T_66440_row12_col24\" class=\"data row12 col24\" >0</td>\n",
              "      <td id=\"T_66440_row12_col25\" class=\"data row12 col25\" >0</td>\n",
              "      <td id=\"T_66440_row12_col26\" class=\"data row12 col26\" >0</td>\n",
              "      <td id=\"T_66440_row12_col27\" class=\"data row12 col27\" >0</td>\n",
              "    </tr>\n",
              "    <tr>\n",
              "      <th id=\"T_66440_level0_row13\" class=\"row_heading level0 row13\" >13</th>\n",
              "      <td id=\"T_66440_row13_col0\" class=\"data row13 col0\" >0</td>\n",
              "      <td id=\"T_66440_row13_col1\" class=\"data row13 col1\" >0</td>\n",
              "      <td id=\"T_66440_row13_col2\" class=\"data row13 col2\" >0</td>\n",
              "      <td id=\"T_66440_row13_col3\" class=\"data row13 col3\" >0</td>\n",
              "      <td id=\"T_66440_row13_col4\" class=\"data row13 col4\" >0</td>\n",
              "      <td id=\"T_66440_row13_col5\" class=\"data row13 col5\" >0</td>\n",
              "      <td id=\"T_66440_row13_col6\" class=\"data row13 col6\" >0</td>\n",
              "      <td id=\"T_66440_row13_col7\" class=\"data row13 col7\" >0</td>\n",
              "      <td id=\"T_66440_row13_col8\" class=\"data row13 col8\" >0</td>\n",
              "      <td id=\"T_66440_row13_col9\" class=\"data row13 col9\" >16</td>\n",
              "      <td id=\"T_66440_row13_col10\" class=\"data row13 col10\" >248</td>\n",
              "      <td id=\"T_66440_row13_col11\" class=\"data row13 col11\" >250</td>\n",
              "      <td id=\"T_66440_row13_col12\" class=\"data row13 col12\" >253</td>\n",
              "      <td id=\"T_66440_row13_col13\" class=\"data row13 col13\" >253</td>\n",
              "      <td id=\"T_66440_row13_col14\" class=\"data row13 col14\" >253</td>\n",
              "      <td id=\"T_66440_row13_col15\" class=\"data row13 col15\" >253</td>\n",
              "      <td id=\"T_66440_row13_col16\" class=\"data row13 col16\" >232</td>\n",
              "      <td id=\"T_66440_row13_col17\" class=\"data row13 col17\" >213</td>\n",
              "      <td id=\"T_66440_row13_col18\" class=\"data row13 col18\" >111</td>\n",
              "      <td id=\"T_66440_row13_col19\" class=\"data row13 col19\" >2</td>\n",
              "      <td id=\"T_66440_row13_col20\" class=\"data row13 col20\" >0</td>\n",
              "      <td id=\"T_66440_row13_col21\" class=\"data row13 col21\" >0</td>\n",
              "      <td id=\"T_66440_row13_col22\" class=\"data row13 col22\" >0</td>\n",
              "      <td id=\"T_66440_row13_col23\" class=\"data row13 col23\" >0</td>\n",
              "      <td id=\"T_66440_row13_col24\" class=\"data row13 col24\" >0</td>\n",
              "      <td id=\"T_66440_row13_col25\" class=\"data row13 col25\" >0</td>\n",
              "      <td id=\"T_66440_row13_col26\" class=\"data row13 col26\" >0</td>\n",
              "      <td id=\"T_66440_row13_col27\" class=\"data row13 col27\" >0</td>\n",
              "    </tr>\n",
              "    <tr>\n",
              "      <th id=\"T_66440_level0_row14\" class=\"row_heading level0 row14\" >14</th>\n",
              "      <td id=\"T_66440_row14_col0\" class=\"data row14 col0\" >0</td>\n",
              "      <td id=\"T_66440_row14_col1\" class=\"data row14 col1\" >0</td>\n",
              "      <td id=\"T_66440_row14_col2\" class=\"data row14 col2\" >0</td>\n",
              "      <td id=\"T_66440_row14_col3\" class=\"data row14 col3\" >0</td>\n",
              "      <td id=\"T_66440_row14_col4\" class=\"data row14 col4\" >0</td>\n",
              "      <td id=\"T_66440_row14_col5\" class=\"data row14 col5\" >0</td>\n",
              "      <td id=\"T_66440_row14_col6\" class=\"data row14 col6\" >0</td>\n",
              "      <td id=\"T_66440_row14_col7\" class=\"data row14 col7\" >0</td>\n",
              "      <td id=\"T_66440_row14_col8\" class=\"data row14 col8\" >0</td>\n",
              "      <td id=\"T_66440_row14_col9\" class=\"data row14 col9\" >0</td>\n",
              "      <td id=\"T_66440_row14_col10\" class=\"data row14 col10\" >0</td>\n",
              "      <td id=\"T_66440_row14_col11\" class=\"data row14 col11\" >43</td>\n",
              "      <td id=\"T_66440_row14_col12\" class=\"data row14 col12\" >98</td>\n",
              "      <td id=\"T_66440_row14_col13\" class=\"data row14 col13\" >98</td>\n",
              "      <td id=\"T_66440_row14_col14\" class=\"data row14 col14\" >208</td>\n",
              "      <td id=\"T_66440_row14_col15\" class=\"data row14 col15\" >253</td>\n",
              "      <td id=\"T_66440_row14_col16\" class=\"data row14 col16\" >253</td>\n",
              "      <td id=\"T_66440_row14_col17\" class=\"data row14 col17\" >253</td>\n",
              "      <td id=\"T_66440_row14_col18\" class=\"data row14 col18\" >253</td>\n",
              "      <td id=\"T_66440_row14_col19\" class=\"data row14 col19\" >187</td>\n",
              "      <td id=\"T_66440_row14_col20\" class=\"data row14 col20\" >22</td>\n",
              "      <td id=\"T_66440_row14_col21\" class=\"data row14 col21\" >0</td>\n",
              "      <td id=\"T_66440_row14_col22\" class=\"data row14 col22\" >0</td>\n",
              "      <td id=\"T_66440_row14_col23\" class=\"data row14 col23\" >0</td>\n",
              "      <td id=\"T_66440_row14_col24\" class=\"data row14 col24\" >0</td>\n",
              "      <td id=\"T_66440_row14_col25\" class=\"data row14 col25\" >0</td>\n",
              "      <td id=\"T_66440_row14_col26\" class=\"data row14 col26\" >0</td>\n",
              "      <td id=\"T_66440_row14_col27\" class=\"data row14 col27\" >0</td>\n",
              "    </tr>\n",
              "    <tr>\n",
              "      <th id=\"T_66440_level0_row15\" class=\"row_heading level0 row15\" >15</th>\n",
              "      <td id=\"T_66440_row15_col0\" class=\"data row15 col0\" >0</td>\n",
              "      <td id=\"T_66440_row15_col1\" class=\"data row15 col1\" >0</td>\n",
              "      <td id=\"T_66440_row15_col2\" class=\"data row15 col2\" >0</td>\n",
              "      <td id=\"T_66440_row15_col3\" class=\"data row15 col3\" >0</td>\n",
              "      <td id=\"T_66440_row15_col4\" class=\"data row15 col4\" >0</td>\n",
              "      <td id=\"T_66440_row15_col5\" class=\"data row15 col5\" >0</td>\n",
              "      <td id=\"T_66440_row15_col6\" class=\"data row15 col6\" >0</td>\n",
              "      <td id=\"T_66440_row15_col7\" class=\"data row15 col7\" >0</td>\n",
              "      <td id=\"T_66440_row15_col8\" class=\"data row15 col8\" >0</td>\n",
              "      <td id=\"T_66440_row15_col9\" class=\"data row15 col9\" >0</td>\n",
              "      <td id=\"T_66440_row15_col10\" class=\"data row15 col10\" >0</td>\n",
              "      <td id=\"T_66440_row15_col11\" class=\"data row15 col11\" >0</td>\n",
              "      <td id=\"T_66440_row15_col12\" class=\"data row15 col12\" >0</td>\n",
              "      <td id=\"T_66440_row15_col13\" class=\"data row15 col13\" >0</td>\n",
              "      <td id=\"T_66440_row15_col14\" class=\"data row15 col14\" >9</td>\n",
              "      <td id=\"T_66440_row15_col15\" class=\"data row15 col15\" >51</td>\n",
              "      <td id=\"T_66440_row15_col16\" class=\"data row15 col16\" >119</td>\n",
              "      <td id=\"T_66440_row15_col17\" class=\"data row15 col17\" >253</td>\n",
              "      <td id=\"T_66440_row15_col18\" class=\"data row15 col18\" >253</td>\n",
              "      <td id=\"T_66440_row15_col19\" class=\"data row15 col19\" >253</td>\n",
              "      <td id=\"T_66440_row15_col20\" class=\"data row15 col20\" >76</td>\n",
              "      <td id=\"T_66440_row15_col21\" class=\"data row15 col21\" >0</td>\n",
              "      <td id=\"T_66440_row15_col22\" class=\"data row15 col22\" >0</td>\n",
              "      <td id=\"T_66440_row15_col23\" class=\"data row15 col23\" >0</td>\n",
              "      <td id=\"T_66440_row15_col24\" class=\"data row15 col24\" >0</td>\n",
              "      <td id=\"T_66440_row15_col25\" class=\"data row15 col25\" >0</td>\n",
              "      <td id=\"T_66440_row15_col26\" class=\"data row15 col26\" >0</td>\n",
              "      <td id=\"T_66440_row15_col27\" class=\"data row15 col27\" >0</td>\n",
              "    </tr>\n",
              "    <tr>\n",
              "      <th id=\"T_66440_level0_row16\" class=\"row_heading level0 row16\" >16</th>\n",
              "      <td id=\"T_66440_row16_col0\" class=\"data row16 col0\" >0</td>\n",
              "      <td id=\"T_66440_row16_col1\" class=\"data row16 col1\" >0</td>\n",
              "      <td id=\"T_66440_row16_col2\" class=\"data row16 col2\" >0</td>\n",
              "      <td id=\"T_66440_row16_col3\" class=\"data row16 col3\" >0</td>\n",
              "      <td id=\"T_66440_row16_col4\" class=\"data row16 col4\" >0</td>\n",
              "      <td id=\"T_66440_row16_col5\" class=\"data row16 col5\" >0</td>\n",
              "      <td id=\"T_66440_row16_col6\" class=\"data row16 col6\" >0</td>\n",
              "      <td id=\"T_66440_row16_col7\" class=\"data row16 col7\" >0</td>\n",
              "      <td id=\"T_66440_row16_col8\" class=\"data row16 col8\" >0</td>\n",
              "      <td id=\"T_66440_row16_col9\" class=\"data row16 col9\" >0</td>\n",
              "      <td id=\"T_66440_row16_col10\" class=\"data row16 col10\" >0</td>\n",
              "      <td id=\"T_66440_row16_col11\" class=\"data row16 col11\" >0</td>\n",
              "      <td id=\"T_66440_row16_col12\" class=\"data row16 col12\" >0</td>\n",
              "      <td id=\"T_66440_row16_col13\" class=\"data row16 col13\" >0</td>\n",
              "      <td id=\"T_66440_row16_col14\" class=\"data row16 col14\" >0</td>\n",
              "      <td id=\"T_66440_row16_col15\" class=\"data row16 col15\" >0</td>\n",
              "      <td id=\"T_66440_row16_col16\" class=\"data row16 col16\" >1</td>\n",
              "      <td id=\"T_66440_row16_col17\" class=\"data row16 col17\" >183</td>\n",
              "      <td id=\"T_66440_row16_col18\" class=\"data row16 col18\" >253</td>\n",
              "      <td id=\"T_66440_row16_col19\" class=\"data row16 col19\" >253</td>\n",
              "      <td id=\"T_66440_row16_col20\" class=\"data row16 col20\" >139</td>\n",
              "      <td id=\"T_66440_row16_col21\" class=\"data row16 col21\" >0</td>\n",
              "      <td id=\"T_66440_row16_col22\" class=\"data row16 col22\" >0</td>\n",
              "      <td id=\"T_66440_row16_col23\" class=\"data row16 col23\" >0</td>\n",
              "      <td id=\"T_66440_row16_col24\" class=\"data row16 col24\" >0</td>\n",
              "      <td id=\"T_66440_row16_col25\" class=\"data row16 col25\" >0</td>\n",
              "      <td id=\"T_66440_row16_col26\" class=\"data row16 col26\" >0</td>\n",
              "      <td id=\"T_66440_row16_col27\" class=\"data row16 col27\" >0</td>\n",
              "    </tr>\n",
              "    <tr>\n",
              "      <th id=\"T_66440_level0_row17\" class=\"row_heading level0 row17\" >17</th>\n",
              "      <td id=\"T_66440_row17_col0\" class=\"data row17 col0\" >0</td>\n",
              "      <td id=\"T_66440_row17_col1\" class=\"data row17 col1\" >0</td>\n",
              "      <td id=\"T_66440_row17_col2\" class=\"data row17 col2\" >0</td>\n",
              "      <td id=\"T_66440_row17_col3\" class=\"data row17 col3\" >0</td>\n",
              "      <td id=\"T_66440_row17_col4\" class=\"data row17 col4\" >0</td>\n",
              "      <td id=\"T_66440_row17_col5\" class=\"data row17 col5\" >0</td>\n",
              "      <td id=\"T_66440_row17_col6\" class=\"data row17 col6\" >0</td>\n",
              "      <td id=\"T_66440_row17_col7\" class=\"data row17 col7\" >0</td>\n",
              "      <td id=\"T_66440_row17_col8\" class=\"data row17 col8\" >0</td>\n",
              "      <td id=\"T_66440_row17_col9\" class=\"data row17 col9\" >0</td>\n",
              "      <td id=\"T_66440_row17_col10\" class=\"data row17 col10\" >0</td>\n",
              "      <td id=\"T_66440_row17_col11\" class=\"data row17 col11\" >0</td>\n",
              "      <td id=\"T_66440_row17_col12\" class=\"data row17 col12\" >0</td>\n",
              "      <td id=\"T_66440_row17_col13\" class=\"data row17 col13\" >0</td>\n",
              "      <td id=\"T_66440_row17_col14\" class=\"data row17 col14\" >0</td>\n",
              "      <td id=\"T_66440_row17_col15\" class=\"data row17 col15\" >0</td>\n",
              "      <td id=\"T_66440_row17_col16\" class=\"data row17 col16\" >0</td>\n",
              "      <td id=\"T_66440_row17_col17\" class=\"data row17 col17\" >182</td>\n",
              "      <td id=\"T_66440_row17_col18\" class=\"data row17 col18\" >253</td>\n",
              "      <td id=\"T_66440_row17_col19\" class=\"data row17 col19\" >253</td>\n",
              "      <td id=\"T_66440_row17_col20\" class=\"data row17 col20\" >104</td>\n",
              "      <td id=\"T_66440_row17_col21\" class=\"data row17 col21\" >0</td>\n",
              "      <td id=\"T_66440_row17_col22\" class=\"data row17 col22\" >0</td>\n",
              "      <td id=\"T_66440_row17_col23\" class=\"data row17 col23\" >0</td>\n",
              "      <td id=\"T_66440_row17_col24\" class=\"data row17 col24\" >0</td>\n",
              "      <td id=\"T_66440_row17_col25\" class=\"data row17 col25\" >0</td>\n",
              "      <td id=\"T_66440_row17_col26\" class=\"data row17 col26\" >0</td>\n",
              "      <td id=\"T_66440_row17_col27\" class=\"data row17 col27\" >0</td>\n",
              "    </tr>\n",
              "    <tr>\n",
              "      <th id=\"T_66440_level0_row18\" class=\"row_heading level0 row18\" >18</th>\n",
              "      <td id=\"T_66440_row18_col0\" class=\"data row18 col0\" >0</td>\n",
              "      <td id=\"T_66440_row18_col1\" class=\"data row18 col1\" >0</td>\n",
              "      <td id=\"T_66440_row18_col2\" class=\"data row18 col2\" >0</td>\n",
              "      <td id=\"T_66440_row18_col3\" class=\"data row18 col3\" >0</td>\n",
              "      <td id=\"T_66440_row18_col4\" class=\"data row18 col4\" >0</td>\n",
              "      <td id=\"T_66440_row18_col5\" class=\"data row18 col5\" >0</td>\n",
              "      <td id=\"T_66440_row18_col6\" class=\"data row18 col6\" >0</td>\n",
              "      <td id=\"T_66440_row18_col7\" class=\"data row18 col7\" >0</td>\n",
              "      <td id=\"T_66440_row18_col8\" class=\"data row18 col8\" >0</td>\n",
              "      <td id=\"T_66440_row18_col9\" class=\"data row18 col9\" >0</td>\n",
              "      <td id=\"T_66440_row18_col10\" class=\"data row18 col10\" >0</td>\n",
              "      <td id=\"T_66440_row18_col11\" class=\"data row18 col11\" >0</td>\n",
              "      <td id=\"T_66440_row18_col12\" class=\"data row18 col12\" >0</td>\n",
              "      <td id=\"T_66440_row18_col13\" class=\"data row18 col13\" >0</td>\n",
              "      <td id=\"T_66440_row18_col14\" class=\"data row18 col14\" >0</td>\n",
              "      <td id=\"T_66440_row18_col15\" class=\"data row18 col15\" >0</td>\n",
              "      <td id=\"T_66440_row18_col16\" class=\"data row18 col16\" >85</td>\n",
              "      <td id=\"T_66440_row18_col17\" class=\"data row18 col17\" >249</td>\n",
              "      <td id=\"T_66440_row18_col18\" class=\"data row18 col18\" >253</td>\n",
              "      <td id=\"T_66440_row18_col19\" class=\"data row18 col19\" >253</td>\n",
              "      <td id=\"T_66440_row18_col20\" class=\"data row18 col20\" >36</td>\n",
              "      <td id=\"T_66440_row18_col21\" class=\"data row18 col21\" >0</td>\n",
              "      <td id=\"T_66440_row18_col22\" class=\"data row18 col22\" >0</td>\n",
              "      <td id=\"T_66440_row18_col23\" class=\"data row18 col23\" >0</td>\n",
              "      <td id=\"T_66440_row18_col24\" class=\"data row18 col24\" >0</td>\n",
              "      <td id=\"T_66440_row18_col25\" class=\"data row18 col25\" >0</td>\n",
              "      <td id=\"T_66440_row18_col26\" class=\"data row18 col26\" >0</td>\n",
              "      <td id=\"T_66440_row18_col27\" class=\"data row18 col27\" >0</td>\n",
              "    </tr>\n",
              "    <tr>\n",
              "      <th id=\"T_66440_level0_row19\" class=\"row_heading level0 row19\" >19</th>\n",
              "      <td id=\"T_66440_row19_col0\" class=\"data row19 col0\" >0</td>\n",
              "      <td id=\"T_66440_row19_col1\" class=\"data row19 col1\" >0</td>\n",
              "      <td id=\"T_66440_row19_col2\" class=\"data row19 col2\" >0</td>\n",
              "      <td id=\"T_66440_row19_col3\" class=\"data row19 col3\" >0</td>\n",
              "      <td id=\"T_66440_row19_col4\" class=\"data row19 col4\" >0</td>\n",
              "      <td id=\"T_66440_row19_col5\" class=\"data row19 col5\" >0</td>\n",
              "      <td id=\"T_66440_row19_col6\" class=\"data row19 col6\" >0</td>\n",
              "      <td id=\"T_66440_row19_col7\" class=\"data row19 col7\" >0</td>\n",
              "      <td id=\"T_66440_row19_col8\" class=\"data row19 col8\" >0</td>\n",
              "      <td id=\"T_66440_row19_col9\" class=\"data row19 col9\" >0</td>\n",
              "      <td id=\"T_66440_row19_col10\" class=\"data row19 col10\" >0</td>\n",
              "      <td id=\"T_66440_row19_col11\" class=\"data row19 col11\" >0</td>\n",
              "      <td id=\"T_66440_row19_col12\" class=\"data row19 col12\" >0</td>\n",
              "      <td id=\"T_66440_row19_col13\" class=\"data row19 col13\" >0</td>\n",
              "      <td id=\"T_66440_row19_col14\" class=\"data row19 col14\" >0</td>\n",
              "      <td id=\"T_66440_row19_col15\" class=\"data row19 col15\" >60</td>\n",
              "      <td id=\"T_66440_row19_col16\" class=\"data row19 col16\" >214</td>\n",
              "      <td id=\"T_66440_row19_col17\" class=\"data row19 col17\" >253</td>\n",
              "      <td id=\"T_66440_row19_col18\" class=\"data row19 col18\" >253</td>\n",
              "      <td id=\"T_66440_row19_col19\" class=\"data row19 col19\" >173</td>\n",
              "      <td id=\"T_66440_row19_col20\" class=\"data row19 col20\" >11</td>\n",
              "      <td id=\"T_66440_row19_col21\" class=\"data row19 col21\" >0</td>\n",
              "      <td id=\"T_66440_row19_col22\" class=\"data row19 col22\" >0</td>\n",
              "      <td id=\"T_66440_row19_col23\" class=\"data row19 col23\" >0</td>\n",
              "      <td id=\"T_66440_row19_col24\" class=\"data row19 col24\" >0</td>\n",
              "      <td id=\"T_66440_row19_col25\" class=\"data row19 col25\" >0</td>\n",
              "      <td id=\"T_66440_row19_col26\" class=\"data row19 col26\" >0</td>\n",
              "      <td id=\"T_66440_row19_col27\" class=\"data row19 col27\" >0</td>\n",
              "    </tr>\n",
              "    <tr>\n",
              "      <th id=\"T_66440_level0_row20\" class=\"row_heading level0 row20\" >20</th>\n",
              "      <td id=\"T_66440_row20_col0\" class=\"data row20 col0\" >0</td>\n",
              "      <td id=\"T_66440_row20_col1\" class=\"data row20 col1\" >0</td>\n",
              "      <td id=\"T_66440_row20_col2\" class=\"data row20 col2\" >0</td>\n",
              "      <td id=\"T_66440_row20_col3\" class=\"data row20 col3\" >0</td>\n",
              "      <td id=\"T_66440_row20_col4\" class=\"data row20 col4\" >0</td>\n",
              "      <td id=\"T_66440_row20_col5\" class=\"data row20 col5\" >0</td>\n",
              "      <td id=\"T_66440_row20_col6\" class=\"data row20 col6\" >0</td>\n",
              "      <td id=\"T_66440_row20_col7\" class=\"data row20 col7\" >0</td>\n",
              "      <td id=\"T_66440_row20_col8\" class=\"data row20 col8\" >0</td>\n",
              "      <td id=\"T_66440_row20_col9\" class=\"data row20 col9\" >0</td>\n",
              "      <td id=\"T_66440_row20_col10\" class=\"data row20 col10\" >0</td>\n",
              "      <td id=\"T_66440_row20_col11\" class=\"data row20 col11\" >0</td>\n",
              "      <td id=\"T_66440_row20_col12\" class=\"data row20 col12\" >0</td>\n",
              "      <td id=\"T_66440_row20_col13\" class=\"data row20 col13\" >0</td>\n",
              "      <td id=\"T_66440_row20_col14\" class=\"data row20 col14\" >98</td>\n",
              "      <td id=\"T_66440_row20_col15\" class=\"data row20 col15\" >247</td>\n",
              "      <td id=\"T_66440_row20_col16\" class=\"data row20 col16\" >253</td>\n",
              "      <td id=\"T_66440_row20_col17\" class=\"data row20 col17\" >253</td>\n",
              "      <td id=\"T_66440_row20_col18\" class=\"data row20 col18\" >226</td>\n",
              "      <td id=\"T_66440_row20_col19\" class=\"data row20 col19\" >9</td>\n",
              "      <td id=\"T_66440_row20_col20\" class=\"data row20 col20\" >0</td>\n",
              "      <td id=\"T_66440_row20_col21\" class=\"data row20 col21\" >0</td>\n",
              "      <td id=\"T_66440_row20_col22\" class=\"data row20 col22\" >0</td>\n",
              "      <td id=\"T_66440_row20_col23\" class=\"data row20 col23\" >0</td>\n",
              "      <td id=\"T_66440_row20_col24\" class=\"data row20 col24\" >0</td>\n",
              "      <td id=\"T_66440_row20_col25\" class=\"data row20 col25\" >0</td>\n",
              "      <td id=\"T_66440_row20_col26\" class=\"data row20 col26\" >0</td>\n",
              "      <td id=\"T_66440_row20_col27\" class=\"data row20 col27\" >0</td>\n",
              "    </tr>\n",
              "    <tr>\n",
              "      <th id=\"T_66440_level0_row21\" class=\"row_heading level0 row21\" >21</th>\n",
              "      <td id=\"T_66440_row21_col0\" class=\"data row21 col0\" >0</td>\n",
              "      <td id=\"T_66440_row21_col1\" class=\"data row21 col1\" >0</td>\n",
              "      <td id=\"T_66440_row21_col2\" class=\"data row21 col2\" >0</td>\n",
              "      <td id=\"T_66440_row21_col3\" class=\"data row21 col3\" >0</td>\n",
              "      <td id=\"T_66440_row21_col4\" class=\"data row21 col4\" >0</td>\n",
              "      <td id=\"T_66440_row21_col5\" class=\"data row21 col5\" >0</td>\n",
              "      <td id=\"T_66440_row21_col6\" class=\"data row21 col6\" >0</td>\n",
              "      <td id=\"T_66440_row21_col7\" class=\"data row21 col7\" >0</td>\n",
              "      <td id=\"T_66440_row21_col8\" class=\"data row21 col8\" >0</td>\n",
              "      <td id=\"T_66440_row21_col9\" class=\"data row21 col9\" >0</td>\n",
              "      <td id=\"T_66440_row21_col10\" class=\"data row21 col10\" >0</td>\n",
              "      <td id=\"T_66440_row21_col11\" class=\"data row21 col11\" >0</td>\n",
              "      <td id=\"T_66440_row21_col12\" class=\"data row21 col12\" >42</td>\n",
              "      <td id=\"T_66440_row21_col13\" class=\"data row21 col13\" >150</td>\n",
              "      <td id=\"T_66440_row21_col14\" class=\"data row21 col14\" >252</td>\n",
              "      <td id=\"T_66440_row21_col15\" class=\"data row21 col15\" >253</td>\n",
              "      <td id=\"T_66440_row21_col16\" class=\"data row21 col16\" >253</td>\n",
              "      <td id=\"T_66440_row21_col17\" class=\"data row21 col17\" >233</td>\n",
              "      <td id=\"T_66440_row21_col18\" class=\"data row21 col18\" >53</td>\n",
              "      <td id=\"T_66440_row21_col19\" class=\"data row21 col19\" >0</td>\n",
              "      <td id=\"T_66440_row21_col20\" class=\"data row21 col20\" >0</td>\n",
              "      <td id=\"T_66440_row21_col21\" class=\"data row21 col21\" >0</td>\n",
              "      <td id=\"T_66440_row21_col22\" class=\"data row21 col22\" >0</td>\n",
              "      <td id=\"T_66440_row21_col23\" class=\"data row21 col23\" >0</td>\n",
              "      <td id=\"T_66440_row21_col24\" class=\"data row21 col24\" >0</td>\n",
              "      <td id=\"T_66440_row21_col25\" class=\"data row21 col25\" >0</td>\n",
              "      <td id=\"T_66440_row21_col26\" class=\"data row21 col26\" >0</td>\n",
              "      <td id=\"T_66440_row21_col27\" class=\"data row21 col27\" >0</td>\n",
              "    </tr>\n",
              "    <tr>\n",
              "      <th id=\"T_66440_level0_row22\" class=\"row_heading level0 row22\" >22</th>\n",
              "      <td id=\"T_66440_row22_col0\" class=\"data row22 col0\" >0</td>\n",
              "      <td id=\"T_66440_row22_col1\" class=\"data row22 col1\" >0</td>\n",
              "      <td id=\"T_66440_row22_col2\" class=\"data row22 col2\" >0</td>\n",
              "      <td id=\"T_66440_row22_col3\" class=\"data row22 col3\" >0</td>\n",
              "      <td id=\"T_66440_row22_col4\" class=\"data row22 col4\" >0</td>\n",
              "      <td id=\"T_66440_row22_col5\" class=\"data row22 col5\" >0</td>\n",
              "      <td id=\"T_66440_row22_col6\" class=\"data row22 col6\" >42</td>\n",
              "      <td id=\"T_66440_row22_col7\" class=\"data row22 col7\" >115</td>\n",
              "      <td id=\"T_66440_row22_col8\" class=\"data row22 col8\" >42</td>\n",
              "      <td id=\"T_66440_row22_col9\" class=\"data row22 col9\" >60</td>\n",
              "      <td id=\"T_66440_row22_col10\" class=\"data row22 col10\" >115</td>\n",
              "      <td id=\"T_66440_row22_col11\" class=\"data row22 col11\" >159</td>\n",
              "      <td id=\"T_66440_row22_col12\" class=\"data row22 col12\" >240</td>\n",
              "      <td id=\"T_66440_row22_col13\" class=\"data row22 col13\" >253</td>\n",
              "      <td id=\"T_66440_row22_col14\" class=\"data row22 col14\" >253</td>\n",
              "      <td id=\"T_66440_row22_col15\" class=\"data row22 col15\" >250</td>\n",
              "      <td id=\"T_66440_row22_col16\" class=\"data row22 col16\" >175</td>\n",
              "      <td id=\"T_66440_row22_col17\" class=\"data row22 col17\" >25</td>\n",
              "      <td id=\"T_66440_row22_col18\" class=\"data row22 col18\" >0</td>\n",
              "      <td id=\"T_66440_row22_col19\" class=\"data row22 col19\" >0</td>\n",
              "      <td id=\"T_66440_row22_col20\" class=\"data row22 col20\" >0</td>\n",
              "      <td id=\"T_66440_row22_col21\" class=\"data row22 col21\" >0</td>\n",
              "      <td id=\"T_66440_row22_col22\" class=\"data row22 col22\" >0</td>\n",
              "      <td id=\"T_66440_row22_col23\" class=\"data row22 col23\" >0</td>\n",
              "      <td id=\"T_66440_row22_col24\" class=\"data row22 col24\" >0</td>\n",
              "      <td id=\"T_66440_row22_col25\" class=\"data row22 col25\" >0</td>\n",
              "      <td id=\"T_66440_row22_col26\" class=\"data row22 col26\" >0</td>\n",
              "      <td id=\"T_66440_row22_col27\" class=\"data row22 col27\" >0</td>\n",
              "    </tr>\n",
              "    <tr>\n",
              "      <th id=\"T_66440_level0_row23\" class=\"row_heading level0 row23\" >23</th>\n",
              "      <td id=\"T_66440_row23_col0\" class=\"data row23 col0\" >0</td>\n",
              "      <td id=\"T_66440_row23_col1\" class=\"data row23 col1\" >0</td>\n",
              "      <td id=\"T_66440_row23_col2\" class=\"data row23 col2\" >0</td>\n",
              "      <td id=\"T_66440_row23_col3\" class=\"data row23 col3\" >0</td>\n",
              "      <td id=\"T_66440_row23_col4\" class=\"data row23 col4\" >0</td>\n",
              "      <td id=\"T_66440_row23_col5\" class=\"data row23 col5\" >0</td>\n",
              "      <td id=\"T_66440_row23_col6\" class=\"data row23 col6\" >187</td>\n",
              "      <td id=\"T_66440_row23_col7\" class=\"data row23 col7\" >253</td>\n",
              "      <td id=\"T_66440_row23_col8\" class=\"data row23 col8\" >253</td>\n",
              "      <td id=\"T_66440_row23_col9\" class=\"data row23 col9\" >253</td>\n",
              "      <td id=\"T_66440_row23_col10\" class=\"data row23 col10\" >253</td>\n",
              "      <td id=\"T_66440_row23_col11\" class=\"data row23 col11\" >253</td>\n",
              "      <td id=\"T_66440_row23_col12\" class=\"data row23 col12\" >253</td>\n",
              "      <td id=\"T_66440_row23_col13\" class=\"data row23 col13\" >253</td>\n",
              "      <td id=\"T_66440_row23_col14\" class=\"data row23 col14\" >197</td>\n",
              "      <td id=\"T_66440_row23_col15\" class=\"data row23 col15\" >86</td>\n",
              "      <td id=\"T_66440_row23_col16\" class=\"data row23 col16\" >0</td>\n",
              "      <td id=\"T_66440_row23_col17\" class=\"data row23 col17\" >0</td>\n",
              "      <td id=\"T_66440_row23_col18\" class=\"data row23 col18\" >0</td>\n",
              "      <td id=\"T_66440_row23_col19\" class=\"data row23 col19\" >0</td>\n",
              "      <td id=\"T_66440_row23_col20\" class=\"data row23 col20\" >0</td>\n",
              "      <td id=\"T_66440_row23_col21\" class=\"data row23 col21\" >0</td>\n",
              "      <td id=\"T_66440_row23_col22\" class=\"data row23 col22\" >0</td>\n",
              "      <td id=\"T_66440_row23_col23\" class=\"data row23 col23\" >0</td>\n",
              "      <td id=\"T_66440_row23_col24\" class=\"data row23 col24\" >0</td>\n",
              "      <td id=\"T_66440_row23_col25\" class=\"data row23 col25\" >0</td>\n",
              "      <td id=\"T_66440_row23_col26\" class=\"data row23 col26\" >0</td>\n",
              "      <td id=\"T_66440_row23_col27\" class=\"data row23 col27\" >0</td>\n",
              "    </tr>\n",
              "    <tr>\n",
              "      <th id=\"T_66440_level0_row24\" class=\"row_heading level0 row24\" >24</th>\n",
              "      <td id=\"T_66440_row24_col0\" class=\"data row24 col0\" >0</td>\n",
              "      <td id=\"T_66440_row24_col1\" class=\"data row24 col1\" >0</td>\n",
              "      <td id=\"T_66440_row24_col2\" class=\"data row24 col2\" >0</td>\n",
              "      <td id=\"T_66440_row24_col3\" class=\"data row24 col3\" >0</td>\n",
              "      <td id=\"T_66440_row24_col4\" class=\"data row24 col4\" >0</td>\n",
              "      <td id=\"T_66440_row24_col5\" class=\"data row24 col5\" >0</td>\n",
              "      <td id=\"T_66440_row24_col6\" class=\"data row24 col6\" >103</td>\n",
              "      <td id=\"T_66440_row24_col7\" class=\"data row24 col7\" >253</td>\n",
              "      <td id=\"T_66440_row24_col8\" class=\"data row24 col8\" >253</td>\n",
              "      <td id=\"T_66440_row24_col9\" class=\"data row24 col9\" >253</td>\n",
              "      <td id=\"T_66440_row24_col10\" class=\"data row24 col10\" >253</td>\n",
              "      <td id=\"T_66440_row24_col11\" class=\"data row24 col11\" >253</td>\n",
              "      <td id=\"T_66440_row24_col12\" class=\"data row24 col12\" >232</td>\n",
              "      <td id=\"T_66440_row24_col13\" class=\"data row24 col13\" >67</td>\n",
              "      <td id=\"T_66440_row24_col14\" class=\"data row24 col14\" >1</td>\n",
              "      <td id=\"T_66440_row24_col15\" class=\"data row24 col15\" >0</td>\n",
              "      <td id=\"T_66440_row24_col16\" class=\"data row24 col16\" >0</td>\n",
              "      <td id=\"T_66440_row24_col17\" class=\"data row24 col17\" >0</td>\n",
              "      <td id=\"T_66440_row24_col18\" class=\"data row24 col18\" >0</td>\n",
              "      <td id=\"T_66440_row24_col19\" class=\"data row24 col19\" >0</td>\n",
              "      <td id=\"T_66440_row24_col20\" class=\"data row24 col20\" >0</td>\n",
              "      <td id=\"T_66440_row24_col21\" class=\"data row24 col21\" >0</td>\n",
              "      <td id=\"T_66440_row24_col22\" class=\"data row24 col22\" >0</td>\n",
              "      <td id=\"T_66440_row24_col23\" class=\"data row24 col23\" >0</td>\n",
              "      <td id=\"T_66440_row24_col24\" class=\"data row24 col24\" >0</td>\n",
              "      <td id=\"T_66440_row24_col25\" class=\"data row24 col25\" >0</td>\n",
              "      <td id=\"T_66440_row24_col26\" class=\"data row24 col26\" >0</td>\n",
              "      <td id=\"T_66440_row24_col27\" class=\"data row24 col27\" >0</td>\n",
              "    </tr>\n",
              "    <tr>\n",
              "      <th id=\"T_66440_level0_row25\" class=\"row_heading level0 row25\" >25</th>\n",
              "      <td id=\"T_66440_row25_col0\" class=\"data row25 col0\" >0</td>\n",
              "      <td id=\"T_66440_row25_col1\" class=\"data row25 col1\" >0</td>\n",
              "      <td id=\"T_66440_row25_col2\" class=\"data row25 col2\" >0</td>\n",
              "      <td id=\"T_66440_row25_col3\" class=\"data row25 col3\" >0</td>\n",
              "      <td id=\"T_66440_row25_col4\" class=\"data row25 col4\" >0</td>\n",
              "      <td id=\"T_66440_row25_col5\" class=\"data row25 col5\" >0</td>\n",
              "      <td id=\"T_66440_row25_col6\" class=\"data row25 col6\" >0</td>\n",
              "      <td id=\"T_66440_row25_col7\" class=\"data row25 col7\" >0</td>\n",
              "      <td id=\"T_66440_row25_col8\" class=\"data row25 col8\" >0</td>\n",
              "      <td id=\"T_66440_row25_col9\" class=\"data row25 col9\" >0</td>\n",
              "      <td id=\"T_66440_row25_col10\" class=\"data row25 col10\" >0</td>\n",
              "      <td id=\"T_66440_row25_col11\" class=\"data row25 col11\" >0</td>\n",
              "      <td id=\"T_66440_row25_col12\" class=\"data row25 col12\" >0</td>\n",
              "      <td id=\"T_66440_row25_col13\" class=\"data row25 col13\" >0</td>\n",
              "      <td id=\"T_66440_row25_col14\" class=\"data row25 col14\" >0</td>\n",
              "      <td id=\"T_66440_row25_col15\" class=\"data row25 col15\" >0</td>\n",
              "      <td id=\"T_66440_row25_col16\" class=\"data row25 col16\" >0</td>\n",
              "      <td id=\"T_66440_row25_col17\" class=\"data row25 col17\" >0</td>\n",
              "      <td id=\"T_66440_row25_col18\" class=\"data row25 col18\" >0</td>\n",
              "      <td id=\"T_66440_row25_col19\" class=\"data row25 col19\" >0</td>\n",
              "      <td id=\"T_66440_row25_col20\" class=\"data row25 col20\" >0</td>\n",
              "      <td id=\"T_66440_row25_col21\" class=\"data row25 col21\" >0</td>\n",
              "      <td id=\"T_66440_row25_col22\" class=\"data row25 col22\" >0</td>\n",
              "      <td id=\"T_66440_row25_col23\" class=\"data row25 col23\" >0</td>\n",
              "      <td id=\"T_66440_row25_col24\" class=\"data row25 col24\" >0</td>\n",
              "      <td id=\"T_66440_row25_col25\" class=\"data row25 col25\" >0</td>\n",
              "      <td id=\"T_66440_row25_col26\" class=\"data row25 col26\" >0</td>\n",
              "      <td id=\"T_66440_row25_col27\" class=\"data row25 col27\" >0</td>\n",
              "    </tr>\n",
              "    <tr>\n",
              "      <th id=\"T_66440_level0_row26\" class=\"row_heading level0 row26\" >26</th>\n",
              "      <td id=\"T_66440_row26_col0\" class=\"data row26 col0\" >0</td>\n",
              "      <td id=\"T_66440_row26_col1\" class=\"data row26 col1\" >0</td>\n",
              "      <td id=\"T_66440_row26_col2\" class=\"data row26 col2\" >0</td>\n",
              "      <td id=\"T_66440_row26_col3\" class=\"data row26 col3\" >0</td>\n",
              "      <td id=\"T_66440_row26_col4\" class=\"data row26 col4\" >0</td>\n",
              "      <td id=\"T_66440_row26_col5\" class=\"data row26 col5\" >0</td>\n",
              "      <td id=\"T_66440_row26_col6\" class=\"data row26 col6\" >0</td>\n",
              "      <td id=\"T_66440_row26_col7\" class=\"data row26 col7\" >0</td>\n",
              "      <td id=\"T_66440_row26_col8\" class=\"data row26 col8\" >0</td>\n",
              "      <td id=\"T_66440_row26_col9\" class=\"data row26 col9\" >0</td>\n",
              "      <td id=\"T_66440_row26_col10\" class=\"data row26 col10\" >0</td>\n",
              "      <td id=\"T_66440_row26_col11\" class=\"data row26 col11\" >0</td>\n",
              "      <td id=\"T_66440_row26_col12\" class=\"data row26 col12\" >0</td>\n",
              "      <td id=\"T_66440_row26_col13\" class=\"data row26 col13\" >0</td>\n",
              "      <td id=\"T_66440_row26_col14\" class=\"data row26 col14\" >0</td>\n",
              "      <td id=\"T_66440_row26_col15\" class=\"data row26 col15\" >0</td>\n",
              "      <td id=\"T_66440_row26_col16\" class=\"data row26 col16\" >0</td>\n",
              "      <td id=\"T_66440_row26_col17\" class=\"data row26 col17\" >0</td>\n",
              "      <td id=\"T_66440_row26_col18\" class=\"data row26 col18\" >0</td>\n",
              "      <td id=\"T_66440_row26_col19\" class=\"data row26 col19\" >0</td>\n",
              "      <td id=\"T_66440_row26_col20\" class=\"data row26 col20\" >0</td>\n",
              "      <td id=\"T_66440_row26_col21\" class=\"data row26 col21\" >0</td>\n",
              "      <td id=\"T_66440_row26_col22\" class=\"data row26 col22\" >0</td>\n",
              "      <td id=\"T_66440_row26_col23\" class=\"data row26 col23\" >0</td>\n",
              "      <td id=\"T_66440_row26_col24\" class=\"data row26 col24\" >0</td>\n",
              "      <td id=\"T_66440_row26_col25\" class=\"data row26 col25\" >0</td>\n",
              "      <td id=\"T_66440_row26_col26\" class=\"data row26 col26\" >0</td>\n",
              "      <td id=\"T_66440_row26_col27\" class=\"data row26 col27\" >0</td>\n",
              "    </tr>\n",
              "    <tr>\n",
              "      <th id=\"T_66440_level0_row27\" class=\"row_heading level0 row27\" >27</th>\n",
              "      <td id=\"T_66440_row27_col0\" class=\"data row27 col0\" >0</td>\n",
              "      <td id=\"T_66440_row27_col1\" class=\"data row27 col1\" >0</td>\n",
              "      <td id=\"T_66440_row27_col2\" class=\"data row27 col2\" >0</td>\n",
              "      <td id=\"T_66440_row27_col3\" class=\"data row27 col3\" >0</td>\n",
              "      <td id=\"T_66440_row27_col4\" class=\"data row27 col4\" >0</td>\n",
              "      <td id=\"T_66440_row27_col5\" class=\"data row27 col5\" >0</td>\n",
              "      <td id=\"T_66440_row27_col6\" class=\"data row27 col6\" >0</td>\n",
              "      <td id=\"T_66440_row27_col7\" class=\"data row27 col7\" >0</td>\n",
              "      <td id=\"T_66440_row27_col8\" class=\"data row27 col8\" >0</td>\n",
              "      <td id=\"T_66440_row27_col9\" class=\"data row27 col9\" >0</td>\n",
              "      <td id=\"T_66440_row27_col10\" class=\"data row27 col10\" >0</td>\n",
              "      <td id=\"T_66440_row27_col11\" class=\"data row27 col11\" >0</td>\n",
              "      <td id=\"T_66440_row27_col12\" class=\"data row27 col12\" >0</td>\n",
              "      <td id=\"T_66440_row27_col13\" class=\"data row27 col13\" >0</td>\n",
              "      <td id=\"T_66440_row27_col14\" class=\"data row27 col14\" >0</td>\n",
              "      <td id=\"T_66440_row27_col15\" class=\"data row27 col15\" >0</td>\n",
              "      <td id=\"T_66440_row27_col16\" class=\"data row27 col16\" >0</td>\n",
              "      <td id=\"T_66440_row27_col17\" class=\"data row27 col17\" >0</td>\n",
              "      <td id=\"T_66440_row27_col18\" class=\"data row27 col18\" >0</td>\n",
              "      <td id=\"T_66440_row27_col19\" class=\"data row27 col19\" >0</td>\n",
              "      <td id=\"T_66440_row27_col20\" class=\"data row27 col20\" >0</td>\n",
              "      <td id=\"T_66440_row27_col21\" class=\"data row27 col21\" >0</td>\n",
              "      <td id=\"T_66440_row27_col22\" class=\"data row27 col22\" >0</td>\n",
              "      <td id=\"T_66440_row27_col23\" class=\"data row27 col23\" >0</td>\n",
              "      <td id=\"T_66440_row27_col24\" class=\"data row27 col24\" >0</td>\n",
              "      <td id=\"T_66440_row27_col25\" class=\"data row27 col25\" >0</td>\n",
              "      <td id=\"T_66440_row27_col26\" class=\"data row27 col26\" >0</td>\n",
              "      <td id=\"T_66440_row27_col27\" class=\"data row27 col27\" >0</td>\n",
              "    </tr>\n",
              "  </tbody>\n",
              "</table>\n"
            ]
          },
          "metadata": {},
          "execution_count": 13
        }
      ],
      "source": [
        "# Create a dataframe colour map of image\n",
        "im3t = tensor(im3)\n",
        "df = pd.DataFrame(im3t)\n",
        "df.style.set_properties(**{'font-size':'6pt'}).background_gradient('Greys')"
      ]
    },
    {
      "cell_type": "markdown",
      "metadata": {
        "id": "E63yDcwgRNvt"
      },
      "source": [
        "# Baseline\n",
        "\n",
        "We will create a baseline calculation to check whether the number is a 3 or a 7. We will be calculating the average digit by calculating the average for each position in the image."
      ]
    },
    {
      "cell_type": "code",
      "execution_count": 14,
      "metadata": {
        "colab": {
          "base_uri": "https://localhost:8080/"
        },
        "id": "3BFOg8uZRWdy",
        "outputId": "8cadd55e-5393-467e-b98c-68a1add754e5"
      },
      "outputs": [
        {
          "output_type": "execute_result",
          "data": {
            "text/plain": [
              "(6265, 6131)"
            ]
          },
          "metadata": {},
          "execution_count": 14
        }
      ],
      "source": [
        "# Create a list of tensors\n",
        "seven_tensors = [tensor(Image.open(i)) for i in sevens]\n",
        "three_tensors = [tensor(Image.open(i)) for i in threes]\n",
        "len(seven_tensors),len(three_tensors)"
      ]
    },
    {
      "cell_type": "code",
      "execution_count": 15,
      "metadata": {
        "colab": {
          "base_uri": "https://localhost:8080/"
        },
        "id": "XVjtGTAUTUmW",
        "outputId": "8e17068f-204b-43fd-8754-8c4addb83cfc"
      },
      "outputs": [
        {
          "output_type": "stream",
          "name": "stdout",
          "text": [
            "show_image(im, ax=None, figsize=None, title=None, ctx=None, cmap=None, norm=None, aspect=None, interpolation=None, alpha=None, vmin=None, vmax=None, origin=None, extent=None, filternorm=1, filterrad=4.0, resample=None, url=None, *, data=None, **kwargs)\n",
            "Show a PIL or PyTorch image on `ax`.\n",
            "\n",
            "To get a prettier result with hyperlinks to source code and documentation, install nbdev: pip install nbdev\n"
          ]
        }
      ],
      "source": [
        "doc(show_image)"
      ]
    },
    {
      "cell_type": "code",
      "execution_count": 16,
      "metadata": {
        "colab": {
          "base_uri": "https://localhost:8080/",
          "height": 73
        },
        "id": "k16n4X23SOVa",
        "outputId": "ba057568-5e3b-43b4-8d00-2c321d3c07f3"
      },
      "outputs": [
        {
          "output_type": "execute_result",
          "data": {
            "text/plain": [
              "<matplotlib.axes._subplots.AxesSubplot at 0x7fcc8edcead0>"
            ]
          },
          "metadata": {},
          "execution_count": 16
        },
        {
          "output_type": "display_data",
          "data": {
            "text/plain": [
              "<Figure size 72x72 with 1 Axes>"
            ],
            "image/png": "[encoded data removed]"
          },
          "metadata": {
            "needs_background": "light"
          }
        }
      ],
      "source": [
        "# Review list of tensors\n",
        "show_image(three_tensors[1])"
      ]
    },
    {
      "cell_type": "code",
      "execution_count": 17,
      "metadata": {
        "colab": {
          "base_uri": "https://localhost:8080/"
        },
        "id": "aj9megNVT8s8",
        "outputId": "1513045c-2e05-4439-eebd-5b1eaca5b329"
      },
      "outputs": [
        {
          "output_type": "stream",
          "name": "stdout",
          "text": [
            "Stacked sevens shape = torch.Size([6265, 28, 28])\n",
            "Stacked threes shape = torch.Size([6131, 28, 28])\n"
          ]
        }
      ],
      "source": [
        "# Stack the tensors and normalise them between 0 and 1\n",
        "\n",
        "stacked_sevens = torch.stack(seven_tensors).float()/255\n",
        "stacked_threes = torch.stack(three_tensors).float()/255\n",
        "print(f'Stacked sevens shape = {stacked_sevens.shape}\\nStacked threes shape = {stacked_threes.shape}')"
      ]
    },
    {
      "cell_type": "code",
      "execution_count": 18,
      "metadata": {
        "colab": {
          "base_uri": "https://localhost:8080/"
        },
        "id": "5oKiLYYmW4ND",
        "outputId": "2346d044-1506-45d6-e673-77c63dd978f3"
      },
      "outputs": [
        {
          "output_type": "stream",
          "name": "stdout",
          "text": [
            "Stacked sevens rank = 3\n",
            "Stacked threes rank = 3\n"
          ]
        }
      ],
      "source": [
        "# Rank of tensor. \n",
        "print(f'Stacked sevens rank = {stacked_sevens.ndim}\\nStacked threes rank = {stacked_threes.ndim}')"
      ]
    },
    {
      "cell_type": "code",
      "execution_count": 19,
      "metadata": {
        "colab": {
          "base_uri": "https://localhost:8080/"
        },
        "id": "R6Xwbb5JXE7d",
        "outputId": "2bcd061d-b291-45e5-f287-f7c0554b3a95"
      },
      "outputs": [
        {
          "output_type": "stream",
          "name": "stdout",
          "text": [
            "Stacked sevens rank = 3\n",
            "Stacked threes rank = 3\n"
          ]
        }
      ],
      "source": [
        "# This can also be calculated using len of the shape\n",
        "print(f'Stacked sevens rank = {len(stacked_sevens.shape)}\\nStacked threes rank = {len(stacked_threes.shape)}')"
      ]
    },
    {
      "cell_type": "code",
      "execution_count": 20,
      "metadata": {
        "id": "GM_baLSJXUh0"
      },
      "outputs": [],
      "source": [
        "# Calculate the average pixel accross all images\n",
        "mean7 = stacked_sevens.mean(axis=0)\n",
        "mean3 = stacked_threes.mean(axis=0)"
      ]
    },
    {
      "cell_type": "code",
      "execution_count": 21,
      "metadata": {
        "colab": {
          "base_uri": "https://localhost:8080/",
          "height": 54
        },
        "id": "EIa5RqdubX86",
        "outputId": "e2c7f8e8-28ba-44e8-8ac3-19db1a0b2efe"
      },
      "outputs": [
        {
          "output_type": "display_data",
          "data": {
            "text/plain": [
              "<Figure size 72x72 with 1 Axes>"
            ],
            "image/png": "[encoded data removed]"
          },
          "metadata": {
            "needs_background": "light"
          }
        }
      ],
      "source": [
        "# Display 7s\n",
        "show_image(mean7);"
      ]
    },
    {
      "cell_type": "code",
      "execution_count": 22,
      "metadata": {
        "colab": {
          "base_uri": "https://localhost:8080/",
          "height": 54
        },
        "id": "3F1VCapCbfj3",
        "outputId": "fa47457a-c629-46ef-a432-8da8e6e01b72"
      },
      "outputs": [
        {
          "output_type": "display_data",
          "data": {
            "text/plain": [
              "<Figure size 72x72 with 1 Axes>"
            ],
            "image/png": "[encoded data removed]"
          },
          "metadata": {
            "needs_background": "light"
          }
        }
      ],
      "source": [
        "# Display 3s\n",
        "show_image(mean3);"
      ]
    },
    {
      "cell_type": "markdown",
      "metadata": {
        "id": "i2xElbHNzM8a"
      },
      "source": [
        "## Deviation from baseline"
      ]
    },
    {
      "cell_type": "markdown",
      "metadata": {
        "id": "afiHAQ6CE7f6"
      },
      "source": [
        "### Train data"
      ]
    },
    {
      "cell_type": "code",
      "execution_count": 23,
      "metadata": {
        "colab": {
          "base_uri": "https://localhost:8080/",
          "height": 73
        },
        "id": "FVQDdsv3-qbM",
        "outputId": "9f947ceb-009f-4658-ee36-83454aa9aa98"
      },
      "outputs": [
        {
          "output_type": "execute_result",
          "data": {
            "text/plain": [
              "<matplotlib.axes._subplots.AxesSubplot at 0x7fcc8cba4490>"
            ]
          },
          "metadata": {},
          "execution_count": 23
        },
        {
          "output_type": "display_data",
          "data": {
            "text/plain": [
              "<Figure size 72x72 with 1 Axes>"
            ],
            "image/png": "[encoded data removed]"
          },
          "metadata": {
            "needs_background": "light"
          }
        }
      ],
      "source": [
        "a_3 = stacked_threes[1]\n",
        "show_image(a_3)"
      ]
    },
    {
      "cell_type": "code",
      "execution_count": 24,
      "metadata": {
        "colab": {
          "base_uri": "https://localhost:8080/"
        },
        "id": "sd122d8x-zXU",
        "outputId": "e9e480d8-42be-4da2-b567-ce421afe9283"
      },
      "outputs": [
        {
          "output_type": "stream",
          "name": "stdout",
          "text": [
            "tensor(0.1114) tensor(0.2021)\n"
          ]
        },
        {
          "output_type": "execute_result",
          "data": {
            "text/plain": [
              "(tensor(0.1114), tensor(0.2021))"
            ]
          },
          "metadata": {},
          "execution_count": 24
        }
      ],
      "source": [
        "# Calculate the L1 and L2 norms for a sample 3 in the training dataset\n",
        "dist_3_abs = (a_3-mean3).abs().mean()\n",
        "dist_3_sqr = ((a_3-mean3)**2).mean().sqrt()\n",
        "print(dist_3_abs, dist_3_sqr)\n",
        "\n",
        "# Calculate L1 and L2 norms with pytorch inbuilt loss functions\n",
        "F.l1_loss(a_3,mean3), F.mse_loss(a_3,mean3).sqrt()"
      ]
    },
    {
      "cell_type": "code",
      "execution_count": 25,
      "metadata": {
        "colab": {
          "base_uri": "https://localhost:8080/"
        },
        "id": "jdg6zeWZ_Ybu",
        "outputId": "7f1a5386-f43f-49c8-c758-fb2ad599bad4"
      },
      "outputs": [
        {
          "output_type": "stream",
          "name": "stdout",
          "text": [
            "tensor(0.1586) tensor(0.3021)\n"
          ]
        },
        {
          "output_type": "execute_result",
          "data": {
            "text/plain": [
              "(tensor(0.1586), tensor(0.3021))"
            ]
          },
          "metadata": {},
          "execution_count": 25
        }
      ],
      "source": [
        "# Calculate the L1 and L2 norms for a sample 7 in the training dataset\n",
        "dist_7_abs = (a_3-mean7).abs().mean()\n",
        "dist_7_sqr = ((a_3-mean7)**2).mean().sqrt()\n",
        "print(dist_7_abs, dist_7_sqr)\n",
        "\n",
        "# Calculate L1 and L2 norms with pytorch inbuilt loss functions\n",
        "F.l1_loss(a_3,mean7), F.mse_loss(a_3,mean7).sqrt()"
      ]
    },
    {
      "cell_type": "markdown",
      "metadata": {
        "id": "K1q788NLE_VG"
      },
      "source": [
        "### Validation data"
      ]
    },
    {
      "cell_type": "code",
      "execution_count": 26,
      "metadata": {
        "colab": {
          "base_uri": "https://localhost:8080/"
        },
        "id": "xPGMfAGIFDuO",
        "outputId": "0a176a08-d3bd-4d7a-f0fc-3ef9c7052beb"
      },
      "outputs": [
        {
          "output_type": "execute_result",
          "data": {
            "text/plain": [
              "(torch.Size([1010, 28, 28]), torch.Size([1028, 28, 28]))"
            ]
          },
          "metadata": {},
          "execution_count": 26
        }
      ],
      "source": [
        "# Create valid 3s tensor\n",
        "valid_3_tens = torch.stack([tensor(Image.open(o)) for o in (path/'valid'/'3').ls()])\n",
        "valid_3_tens = valid_3_tens.float()/255\n",
        "\n",
        "# Create valid 7s tensor\n",
        "valid_7_tens = torch.stack([tensor(Image.open(o)) for o in (path/'valid'/'7').ls()])\n",
        "valid_7_tens = valid_7_tens.float()/255\n",
        "\n",
        "valid_3_tens.shape, valid_7_tens.shape"
      ]
    },
    {
      "cell_type": "code",
      "execution_count": 27,
      "metadata": {
        "id": "ERlRWvD8rghz"
      },
      "outputs": [],
      "source": [
        "# Function to check the deviation to the average number\n",
        "def mnist_distance(a,b):\n",
        "    return (a-b).abs().mean((-1,-2))"
      ]
    },
    {
      "cell_type": "code",
      "execution_count": 28,
      "metadata": {
        "colab": {
          "base_uri": "https://localhost:8080/"
        },
        "id": "9bPozCE5N7Tw",
        "outputId": "80b99ac3-1bb0-45be-9b73-7a67df6ca628"
      },
      "outputs": [
        {
          "output_type": "execute_result",
          "data": {
            "text/plain": [
              "tensor(0.1114)"
            ]
          },
          "metadata": {},
          "execution_count": 28
        }
      ],
      "source": [
        "# Calculate the distance between a sample 3 and the average 3\n",
        "mnist_distance(a_3, mean3)"
      ]
    },
    {
      "cell_type": "code",
      "execution_count": 29,
      "metadata": {
        "colab": {
          "base_uri": "https://localhost:8080/"
        },
        "id": "uePciy-kQebx",
        "outputId": "d347b856-3a95-4e77-c9bf-48fe5287cfdc"
      },
      "outputs": [
        {
          "output_type": "execute_result",
          "data": {
            "text/plain": [
              "(torch.Size([1010]),\n",
              " tensor([0.1075, 0.1096, 0.1229,  ..., 0.1334, 0.1095, 0.1200]))"
            ]
          },
          "metadata": {},
          "execution_count": 29
        }
      ],
      "source": [
        "# Calculate the distance for all 3s in the dataset\n",
        "valid_3_dist = mnist_distance(valid_3_tens, mean3)\n",
        "valid_3_dist.shape, valid_3_dist"
      ]
    },
    {
      "cell_type": "code",
      "execution_count": 30,
      "metadata": {
        "id": "HoemA5pFRzXS"
      },
      "outputs": [],
      "source": [
        "# Create a function to determine whether it is a 3. If the distance between the\n",
        "# image and the mean3 is less than the distance between the image and the mean\n",
        "# 7 then it is classified as a 3\n",
        "def is_3(x): return mnist_distance(x,mean3) < mnist_distance(x,mean7)"
      ]
    },
    {
      "cell_type": "code",
      "execution_count": 31,
      "metadata": {
        "colab": {
          "base_uri": "https://localhost:8080/"
        },
        "id": "YGUQ8a6-SNYv",
        "outputId": "d27192f3-20db-4f48-e9ff-3512b2a06f56"
      },
      "outputs": [
        {
          "output_type": "execute_result",
          "data": {
            "text/plain": [
              "(tensor(0.9168), tensor(0.9854), tensor(0.9511))"
            ]
          },
          "metadata": {},
          "execution_count": 31
        }
      ],
      "source": [
        "# Calculate the accuracy of the function\n",
        "accuracy_3s = is_3(valid_3_tens).float().mean()\n",
        "accuracy_7s = (1 - is_3(valid_7_tens).float()).mean()\n",
        "accuracy_3s, accuracy_7s, (accuracy_3s + accuracy_7s)/2"
      ]
    },
    {
      "cell_type": "markdown",
      "metadata": {
        "id": "B-oDIy8Pxzed"
      },
      "source": [
        "# SGD"
      ]
    },
    {
      "cell_type": "markdown",
      "metadata": {
        "id": "OkOteah8xzed"
      },
      "source": [
        "We will be calculating the SGD for a simple function"
      ]
    },
    {
      "cell_type": "code",
      "execution_count": 32,
      "metadata": {
        "id": "QWfRtQ01xzee"
      },
      "outputs": [],
      "source": [
        "def f(x): return x**2"
      ]
    },
    {
      "cell_type": "code",
      "execution_count": 33,
      "metadata": {
        "id": "dZetwaAqxzee",
        "outputId": "0c340b4d-30db-4171-c0a2-1b13141cf2aa",
        "colab": {
          "base_uri": "https://localhost:8080/",
          "height": 285
        }
      },
      "outputs": [
        {
          "output_type": "display_data",
          "data": {
            "text/plain": [
              "<Figure size 432x288 with 1 Axes>"
            ],
            "image/png": "[encoded data removed]"
          },
          "metadata": {
            "needs_background": "light"
          }
        }
      ],
      "source": [
        "plot_function(f, 'x','x**2')"
      ]
    },
    {
      "cell_type": "markdown",
      "source": [
        "We will now calculate the gradients"
      ],
      "metadata": {
        "id": "DQIMM8QjzD20"
      }
    },
    {
      "cell_type": "code",
      "execution_count": 34,
      "metadata": {
        "id": "ztDYb3GZxzee"
      },
      "outputs": [],
      "source": [
        "# Create a tensor that tracks the required gradients\n",
        "xt = tensor(3.).requires_grad_()"
      ]
    },
    {
      "cell_type": "code",
      "source": [
        "# Calculate the function with the given value\n",
        "yt = f(xt)\n",
        "yt"
      ],
      "metadata": {
        "id": "vQ2o4uUazXkV",
        "outputId": "2266ae90-8b00-4089-c709-48966a5ba1c8",
        "colab": {
          "base_uri": "https://localhost:8080/"
        }
      },
      "execution_count": 35,
      "outputs": [
        {
          "output_type": "execute_result",
          "data": {
            "text/plain": [
              "tensor(9., grad_fn=<PowBackward0>)"
            ]
          },
          "metadata": {},
          "execution_count": 35
        }
      ]
    },
    {
      "cell_type": "code",
      "source": [
        "# Calculate the gradients \n",
        "yt.backward()"
      ],
      "metadata": {
        "id": "FVdZ44wd3Y0u"
      },
      "execution_count": 36,
      "outputs": []
    },
    {
      "cell_type": "code",
      "source": [
        "# Review the gradients\n",
        "xt.grad"
      ],
      "metadata": {
        "id": "dsv5rPCK3qZ1",
        "outputId": "371d2e8b-e136-4e3d-9fda-150432f7ae79",
        "colab": {
          "base_uri": "https://localhost:8080/"
        }
      },
      "execution_count": 37,
      "outputs": [
        {
          "output_type": "execute_result",
          "data": {
            "text/plain": [
              "tensor(6.)"
            ]
          },
          "metadata": {},
          "execution_count": 37
        }
      ]
    },
    {
      "cell_type": "markdown",
      "source": [
        "Calculate gradients with a vector"
      ],
      "metadata": {
        "id": "Bd3-PUG_381y"
      }
    },
    {
      "cell_type": "code",
      "source": [
        "# Create a tensor that tracks the required gradients\n",
        "xt = tensor([3., 4., 10.]).requires_grad_()\n",
        "xt"
      ],
      "metadata": {
        "id": "GmkUBFAr38Az",
        "outputId": "3449d431-ddde-4054-89d3-9f349c409af0",
        "colab": {
          "base_uri": "https://localhost:8080/"
        }
      },
      "execution_count": 38,
      "outputs": [
        {
          "output_type": "execute_result",
          "data": {
            "text/plain": [
              "tensor([ 3.,  4., 10.], requires_grad=True)"
            ]
          },
          "metadata": {},
          "execution_count": 38
        }
      ]
    },
    {
      "cell_type": "code",
      "source": [
        "# Modify the function to take in a vector and return a scalar\n",
        "def f(x): return (x**2).sum()"
      ],
      "metadata": {
        "id": "b8jqsD2n4IEm"
      },
      "execution_count": 39,
      "outputs": []
    },
    {
      "cell_type": "code",
      "source": [
        "# Calculate the function given the vector\n",
        "yt = f(xt)\n",
        "yt"
      ],
      "metadata": {
        "id": "Xdz_JT9Z4UzL",
        "outputId": "fba57001-5cc4-4e9c-f246-0ae3cef2a4dd",
        "colab": {
          "base_uri": "https://localhost:8080/"
        }
      },
      "execution_count": 40,
      "outputs": [
        {
          "output_type": "execute_result",
          "data": {
            "text/plain": [
              "tensor(125., grad_fn=<SumBackward0>)"
            ]
          },
          "metadata": {},
          "execution_count": 40
        }
      ]
    },
    {
      "cell_type": "code",
      "source": [
        "# Calculate the gradients\n",
        "yt.backward()\n",
        "xt.grad"
      ],
      "metadata": {
        "id": "a1dIeocg4kF_",
        "outputId": "ad4439d8-03f6-4acb-abb5-fbdae309db7e",
        "colab": {
          "base_uri": "https://localhost:8080/"
        }
      },
      "execution_count": 41,
      "outputs": [
        {
          "output_type": "execute_result",
          "data": {
            "text/plain": [
              "tensor([ 6.,  8., 20.])"
            ]
          },
          "metadata": {},
          "execution_count": 41
        }
      ]
    },
    {
      "cell_type": "markdown",
      "source": [
        "The gradients calculated are the equivalent of the derivative of $x^2$ where $x=$ `tensor([3.,4.,10.])`"
      ],
      "metadata": {
        "id": "Se_nSox14rr4"
      }
    },
    {
      "cell_type": "markdown",
      "source": [
        "## End-to-end example"
      ],
      "metadata": {
        "id": "9kHOsKm28xMk"
      }
    },
    {
      "cell_type": "code",
      "source": [
        "time = torch.arange(0,20).float(); time"
      ],
      "metadata": {
        "id": "ViRRjnha8Hf5",
        "outputId": "27fc2e38-5813-41a3-9149-0a294354a8a2",
        "colab": {
          "base_uri": "https://localhost:8080/"
        }
      },
      "execution_count": 42,
      "outputs": [
        {
          "output_type": "execute_result",
          "data": {
            "text/plain": [
              "tensor([ 0.,  1.,  2.,  3.,  4.,  5.,  6.,  7.,  8.,  9., 10., 11., 12., 13., 14., 15., 16., 17., 18., 19.])"
            ]
          },
          "metadata": {},
          "execution_count": 42
        }
      ]
    },
    {
      "cell_type": "code",
      "source": [
        "speed = torch.randn(20)*3 + 0.75*(time-9.5)**2 + 1\n",
        "plt.scatter(time,speed);"
      ],
      "metadata": {
        "id": "CxPcsev283cr",
        "outputId": "3a0b5cb0-8487-4c0c-9db6-a0ae30ffdf85",
        "colab": {
          "base_uri": "https://localhost:8080/",
          "height": 268
        }
      },
      "execution_count": 43,
      "outputs": [
        {
          "output_type": "display_data",
          "data": {
            "text/plain": [
              "<Figure size 432x288 with 1 Axes>"
            ],
            "image/png": "[encoded data removed]"
          },
          "metadata": {
            "needs_background": "light"
          }
        }
      ]
    },
    {
      "cell_type": "markdown",
      "source": [
        "The function define below allows us to determine both the output from the input and also the type of quadratic equation from the parameters."
      ],
      "metadata": {
        "id": "4DiZrgEp90IK"
      }
    },
    {
      "cell_type": "code",
      "source": [
        "# Define a function that allows us to calculate parameters and input\n",
        "def f(t, params):\n",
        "    a,b,c = params\n",
        "    return a*(t**2)+(b*t)+c"
      ],
      "metadata": {
        "id": "2eEr-ySH9TfJ"
      },
      "execution_count": 44,
      "outputs": []
    },
    {
      "cell_type": "markdown",
      "source": [
        "We define a loss function that will return a value based on the prediction and target where lower values correspond to better predictions."
      ],
      "metadata": {
        "id": "gTqEAL7w-4B5"
      }
    },
    {
      "cell_type": "code",
      "source": [
        "# Define the loss function\n",
        "def mse(preds, targets): return ((preds-targets)**2).mean().sqrt()"
      ],
      "metadata": {
        "id": "1pu0nma2-t2u"
      },
      "execution_count": 45,
      "outputs": []
    },
    {
      "cell_type": "markdown",
      "source": [
        "## Seven-step SGD process"
      ],
      "metadata": {
        "id": "34c3j7-q9qok"
      }
    },
    {
      "cell_type": "code",
      "source": [
        "# 1. Initialise the weights\n",
        "params = torch.randn(3).requires_grad_()"
      ],
      "metadata": {
        "id": "YwdqhhSC9pRV"
      },
      "execution_count": 46,
      "outputs": []
    },
    {
      "cell_type": "code",
      "source": [
        "# 2. Calculate the predictions\n",
        "preds = f(time, params)"
      ],
      "metadata": {
        "id": "WW4rSKDa-bhJ"
      },
      "execution_count": 47,
      "outputs": []
    },
    {
      "cell_type": "code",
      "source": [
        "# Create a function to see how close our predictions are to our targets\n",
        "def show_preds(preds, ax = None):\n",
        "    if ax is None: ax=plt.subplots()[1]\n",
        "    ax.scatter(time, speed)\n",
        "    ax.scatter(time, to_np(preds), color='red')\n",
        "    ax.set_ylim(-300,100)"
      ],
      "metadata": {
        "id": "FVQ6R2hc-lyj"
      },
      "execution_count": 48,
      "outputs": []
    },
    {
      "cell_type": "code",
      "source": [
        "show_preds(preds)"
      ],
      "metadata": {
        "id": "G7r83jvv_C4A",
        "outputId": "ecbf720a-30c9-43b9-a396-e5f4361da5fe",
        "colab": {
          "base_uri": "https://localhost:8080/",
          "height": 273
        }
      },
      "execution_count": 49,
      "outputs": [
        {
          "output_type": "display_data",
          "data": {
            "text/plain": [
              "<Figure size 432x288 with 1 Axes>"
            ],
            "image/png": "[encoded data removed]"
          },
          "metadata": {
            "needs_background": "light"
          }
        }
      ]
    },
    {
      "cell_type": "code",
      "source": [
        "# 3. Calculate the loss\n",
        "loss = mse(preds, speed)\n",
        "loss"
      ],
      "metadata": {
        "id": "A3P7xQbY_KZq",
        "outputId": "03025b49-9bd0-4139-8554-a97d4fca724b",
        "colab": {
          "base_uri": "https://localhost:8080/"
        }
      },
      "execution_count": 50,
      "outputs": [
        {
          "output_type": "execute_result",
          "data": {
            "text/plain": [
              "tensor(160.6979, grad_fn=<SqrtBackward0>)"
            ]
          },
          "metadata": {},
          "execution_count": 50
        }
      ]
    },
    {
      "cell_type": "code",
      "source": [
        "# 4. Calculate the gradients\n",
        "loss.backward()\n",
        "params.grad"
      ],
      "metadata": {
        "id": "pJaXIZAX_la9",
        "outputId": "a40ec7c5-b845-49a4-cb9d-87579b23a104",
        "colab": {
          "base_uri": "https://localhost:8080/"
        }
      },
      "execution_count": 51,
      "outputs": [
        {
          "output_type": "execute_result",
          "data": {
            "text/plain": [
              "tensor([-165.5151,  -10.6402,   -0.7900])"
            ]
          },
          "metadata": {},
          "execution_count": 51
        }
      ]
    },
    {
      "cell_type": "markdown",
      "source": [
        "These gradients can then be used to improve the parameters."
      ],
      "metadata": {
        "id": "X081y5hRAlaU"
      }
    },
    {
      "cell_type": "code",
      "source": [
        "params"
      ],
      "metadata": {
        "id": "RbjLySXu_97m",
        "outputId": "79144797-d7ba-4d42-dc65-f2199c9098d9",
        "colab": {
          "base_uri": "https://localhost:8080/"
        }
      },
      "execution_count": 52,
      "outputs": [
        {
          "output_type": "execute_result",
          "data": {
            "text/plain": [
              "tensor([-0.7658, -0.7506,  1.3525], requires_grad=True)"
            ]
          },
          "metadata": {},
          "execution_count": 52
        }
      ]
    },
    {
      "cell_type": "code",
      "source": [
        "# 5. Step the weights\n",
        "lr = 1e-5 # LR to update grads\n",
        "params.data -= lr * params.grad.data # Update params with new weights\n",
        "params.grad = None # Reset gradients"
      ],
      "metadata": {
        "id": "wbt9iluyAjzJ"
      },
      "execution_count": 53,
      "outputs": []
    },
    {
      "cell_type": "code",
      "source": [
        "# Check if the prediction has improved\n",
        "preds = f(time, params)\n",
        "print(mse(preds,speed))\n",
        "show_preds(preds)"
      ],
      "metadata": {
        "id": "G4kEmav-Bbn0",
        "outputId": "95d14f95-7f45-4992-eba9-c177ddaf269d",
        "colab": {
          "base_uri": "https://localhost:8080/",
          "height": 291
        }
      },
      "execution_count": 54,
      "outputs": [
        {
          "output_type": "stream",
          "name": "stdout",
          "text": [
            "tensor(160.4228, grad_fn=<SqrtBackward0>)\n"
          ]
        },
        {
          "output_type": "display_data",
          "data": {
            "text/plain": [
              "<Figure size 432x288 with 1 Axes>"
            ],
            "image/png": "[encoded data removed]"
          },
          "metadata": {
            "needs_background": "light"
          }
        }
      ]
    },
    {
      "cell_type": "code",
      "source": [
        "# Create a function to step the weights\n",
        "def apply_step(params,lr=1e-3,prn=True):\n",
        "    # Calculate predictions\n",
        "    preds = f(time, params)\n",
        "    # Calculate loss\n",
        "    loss = mse(preds, speed)\n",
        "    # Backpropagate loss\n",
        "    loss.backward()\n",
        "    # Update parameters\n",
        "    params.data -= lr*params.grad.data\n",
        "    # Reset gradients\n",
        "    params.grad = None\n",
        "    if prn: print(loss.item())\n",
        "    return preds\n"
      ],
      "metadata": {
        "id": "lP-Vz_PHDDmC"
      },
      "execution_count": 55,
      "outputs": []
    },
    {
      "cell_type": "code",
      "source": [
        "# 6. Repeat the process\n",
        "for i in range(10): apply_step(params)"
      ],
      "metadata": {
        "id": "daEfeKcUDxeI",
        "outputId": "245b8197-d754-46ac-fda5-2b6fa0fccb89",
        "colab": {
          "base_uri": "https://localhost:8080/"
        }
      },
      "execution_count": 56,
      "outputs": [
        {
          "output_type": "stream",
          "name": "stdout",
          "text": [
            "160.42279052734375\n",
            "132.9931182861328\n",
            "105.96342468261719\n",
            "79.701171875\n",
            "55.15536117553711\n",
            "35.21080017089844\n",
            "26.438148498535156\n",
            "26.020627975463867\n",
            "26.01849365234375\n",
            "26.01831817626953\n"
          ]
        }
      ]
    },
    {
      "cell_type": "code",
      "source": [
        "# Plotting the functions\n",
        "_, axs = plt.subplots(1,4,figsize=(12,3))\n",
        "for ax in axs: show_preds(apply_step(params,prn=False),ax)\n",
        "plt.tight_layout()"
      ],
      "metadata": {
        "id": "Qlf5stkPF2sd",
        "outputId": "351dd615-5e21-48e4-de73-589ab4bad050",
        "colab": {
          "base_uri": "https://localhost:8080/",
          "height": 221
        }
      },
      "execution_count": 59,
      "outputs": [
        {
          "output_type": "display_data",
          "data": {
            "text/plain": [
              "<Figure size 864x216 with 4 Axes>"
            ],
            "image/png": "[encoded data removed]"
          },
          "metadata": {
            "needs_background": "light"
          }
        }
      ]
    },
    {
      "cell_type": "markdown",
      "source": [
        "# MNIST loss function"
      ],
      "metadata": {
        "id": "kyg4c0gKHi8L"
      }
    },
    {
      "cell_type": "code",
      "source": [
        "# Change the concatenated train tensors from a list of matrices (rank-3 tensor) \n",
        "# to a list of vectors (rank-2 tensor)\n",
        "train_x = torch.cat([stacked_threes, stacked_sevens]).view(-1,28*28)\n",
        "train_x.shape"
      ],
      "metadata": {
        "id": "q57D8i5yHkuQ",
        "outputId": "3d9b1fe6-dbf8-49e9-8587-3866ef3cc8c4",
        "colab": {
          "base_uri": "https://localhost:8080/"
        }
      },
      "execution_count": 62,
      "outputs": [
        {
          "output_type": "execute_result",
          "data": {
            "text/plain": [
              "torch.Size([12396, 784])"
            ]
          },
          "metadata": {},
          "execution_count": 62
        }
      ]
    },
    {
      "cell_type": "code",
      "source": [
        "# Create a tensor of train labels\n",
        "train_y = tensor([1]*len(threes)+[0]*len(sevens)).unsqueeze(1)\n",
        "train_x.shape, train_y.shape"
      ],
      "metadata": {
        "id": "c5Wmc_pMIPW1",
        "outputId": "d7110c06-e6c6-4abf-e5a8-f638b13a4aa7",
        "colab": {
          "base_uri": "https://localhost:8080/"
        }
      },
      "execution_count": 64,
      "outputs": [
        {
          "output_type": "execute_result",
          "data": {
            "text/plain": [
              "(torch.Size([12396, 784]), torch.Size([12396, 1]))"
            ]
          },
          "metadata": {},
          "execution_count": 64
        }
      ]
    },
    {
      "cell_type": "code",
      "source": [
        "# Zip train_x and train_y to create an object in the right shape\n",
        "# for pytorch Dataset object\n",
        "dset = list(zip(train_x, train_y))"
      ],
      "metadata": {
        "id": "sIwjZVhvJOLq"
      },
      "execution_count": 68,
      "outputs": []
    },
    {
      "cell_type": "code",
      "source": [
        "# Create validation datasets\n",
        "valid_x = torch.cat([valid_3_tens, valid_7_tens]).view(-1,28*28)\n",
        "valid_y = tensor([1]*len(valid_3_tens)+[0]*len(valid_7_tens)).unsqueeze(1)\n",
        "valid_dset = list(zip(valid_x,valid_y))"
      ],
      "metadata": {
        "id": "wTr_4BmYJ9K7"
      },
      "execution_count": 74,
      "outputs": []
    }
  ],
  "metadata": {
    "accelerator": "GPU",
    "colab": {
      "name": "04_mnist_basics.ipynb",
      "provenance": [],
      "toc_visible": true,
      "include_colab_link": true
    },
    "jupytext": {
      "split_at_heading": true
    },
    "kernelspec": {
      "display_name": "Python 3 (ipykernel)",
      "language": "python",
      "name": "python3"
    },
    "language_info": {
      "codemirror_mode": {
        "name": "ipython",
        "version": 3
      },
      "file_extension": ".py",
      "mimetype": "text/x-python",
      "name": "python",
      "nbconvert_exporter": "python",
      "pygments_lexer": "ipython3",
      "version": "3.7.13"
    }
  },
  "nbformat": 4,
  "nbformat_minor": 0
}