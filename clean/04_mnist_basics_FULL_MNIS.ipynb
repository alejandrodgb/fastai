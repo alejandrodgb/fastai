{
 "cells": [
  {
   "cell_type": "markdown",
   "metadata": {
    "tags": []
   },
   "source": [
    "## Full MNIST dataset"
   ]
  },
  {
   "cell_type": "markdown",
   "metadata": {},
   "source": [
    "Complete all the steps in this chapter using the full MNIST datasets (for all digits, not just 3s and 7s). This is a significant project and will take you quite a bit of time to complete! You’ll need to do some of your own research to figure out how to overcome obstacles you’ll meet on the way."
   ]
  },
  {
   "cell_type": "markdown",
   "metadata": {
    "id": "iHHs6hVmHkqu"
   },
   "source": [
    "# Libraries"
   ]
  },
  {
   "cell_type": "code",
   "execution_count": 1,
   "metadata": {
    "id": "R4ny3ILkxzeO"
   },
   "outputs": [],
   "source": [
    "# Prepare notebook\n",
    "from fastai.vision.all import *"
   ]
  },
  {
   "cell_type": "code",
   "execution_count": 2,
   "metadata": {
    "id": "bsjtSN-qFc-n"
   },
   "outputs": [],
   "source": [
    "# Prepare notebook\n",
    "from fastbook import *    \n",
    "matplotlib.rc('image', cmap='Greys')"
   ]
  },
  {
   "cell_type": "code",
   "execution_count": 3,
   "metadata": {},
   "outputs": [],
   "source": [
    "import seaborn as sns\n",
    "from sklearn.metrics import confusion_matrix"
   ]
  },
  {
   "cell_type": "markdown",
   "metadata": {
    "id": "8rrPeLncHoId"
   },
   "source": [
    "# Data"
   ]
  },
  {
   "cell_type": "code",
   "execution_count": 4,
   "metadata": {
    "colab": {
     "base_uri": "https://localhost:8080/",
     "height": 37
    },
    "id": "DiSq-GNSFc-s",
    "outputId": "ab482206-dc41-435a-c6ff-43f03dad6e1b"
   },
   "outputs": [],
   "source": [
    "# Get MNIST data. Return object is the path where data is located\n",
    "path = untar_data(URLs.MNIST)"
   ]
  },
  {
   "cell_type": "code",
   "execution_count": 5,
   "metadata": {
    "id": "ErZ5KysSFc-t"
   },
   "outputs": [],
   "source": [
    "# Set BASE_PATH of Path to the MNIST data location\n",
    "Path.BASE_PATH = path"
   ]
  },
  {
   "cell_type": "code",
   "execution_count": 6,
   "metadata": {
    "colab": {
     "base_uri": "https://localhost:8080/"
    },
    "id": "THEGTsbUFc-u",
    "outputId": "ed8ac7c3-9114-4d51-ed9d-6cd056190e55"
   },
   "outputs": [
    {
     "data": {
      "text/plain": [
       "(#2) [Path('training'),Path('testing')]"
      ]
     },
     "execution_count": 6,
     "metadata": {},
     "output_type": "execute_result"
    }
   ],
   "source": [
    "# Review contents of path\n",
    "path.ls()"
   ]
  },
  {
   "cell_type": "code",
   "execution_count": 7,
   "metadata": {
    "colab": {
     "base_uri": "https://localhost:8080/"
    },
    "id": "GJpL1k8kFc-v",
    "outputId": "d4e5e8fd-c2e4-4e61-a170-acdac8a67e71"
   },
   "outputs": [
    {
     "data": {
      "text/plain": [
       "(#10) [Path('training/9'),Path('training/0'),Path('training/7'),Path('training/6'),Path('training/1'),Path('training/8'),Path('training/4'),Path('training/3'),Path('training/2'),Path('training/5')]"
      ]
     },
     "execution_count": 7,
     "metadata": {},
     "output_type": "execute_result"
    }
   ],
   "source": [
    "# Review contents of train folder\n",
    "(path/'training').ls()"
   ]
  },
  {
   "cell_type": "code",
   "execution_count": 8,
   "metadata": {},
   "outputs": [],
   "source": [
    "train_nums_paths = [(path/'training'/f'{i}').ls() for i in range(10)]"
   ]
  },
  {
   "cell_type": "code",
   "execution_count": 9,
   "metadata": {
    "colab": {
     "base_uri": "https://localhost:8080/",
     "height": 45
    },
    "id": "Ri7aHM4YHJdN",
    "outputId": "68c017e5-d67c-4146-a4c1-ec92d8b94770"
   },
   "outputs": [
    {
     "data": {
      "image/png": "[encoded data removed]",
      "text/plain": [
       "<PIL.PngImagePlugin.PngImageFile image mode=L size=28x28 at 0x7FE15A41B850>"
      ]
     },
     "execution_count": 9,
     "metadata": {},
     "output_type": "execute_result"
    }
   ],
   "source": [
    "# Review one image\n",
    "im_path = train_nums_paths[1][1]\n",
    "im = Image.open(im_path)\n",
    "im"
   ]
  },
  {
   "cell_type": "code",
   "execution_count": 10,
   "metadata": {
    "colab": {
     "base_uri": "https://localhost:8080/",
     "height": 928
    },
    "id": "9R1i8afxJPNI",
    "outputId": "ec810a6a-fa6f-4c00-e682-de96f46fe905"
   },
   "outputs": [
    {
     "data": {
      "text/html": [
       "<style type=\"text/css\">\n",
       "#T_8c42f_row0_col0, #T_8c42f_row0_col1, #T_8c42f_row0_col2, #T_8c42f_row0_col3, #T_8c42f_row0_col4, #T_8c42f_row0_col5, #T_8c42f_row0_col6, #T_8c42f_row0_col7, #T_8c42f_row0_col8, #T_8c42f_row0_col9, #T_8c42f_row0_col10, #T_8c42f_row0_col11, #T_8c42f_row0_col12, #T_8c42f_row0_col13, #T_8c42f_row0_col14, #T_8c42f_row0_col15, #T_8c42f_row0_col16, #T_8c42f_row0_col17, #T_8c42f_row0_col18, #T_8c42f_row0_col19, #T_8c42f_row0_col20, #T_8c42f_row0_col21, #T_8c42f_row0_col22, #T_8c42f_row0_col23, #T_8c42f_row0_col24, #T_8c42f_row0_col25, #T_8c42f_row0_col26, #T_8c42f_row0_col27, #T_8c42f_row1_col0, #T_8c42f_row1_col1, #T_8c42f_row1_col2, #T_8c42f_row1_col3, #T_8c42f_row1_col4, #T_8c42f_row1_col5, #T_8c42f_row1_col6, #T_8c42f_row1_col7, #T_8c42f_row1_col8, #T_8c42f_row1_col9, #T_8c42f_row1_col10, #T_8c42f_row1_col11, #T_8c42f_row1_col12, #T_8c42f_row1_col13, #T_8c42f_row1_col14, #T_8c42f_row1_col15, #T_8c42f_row1_col16, #T_8c42f_row1_col17, #T_8c42f_row1_col18, #T_8c42f_row1_col19, #T_8c42f_row1_col20, #T_8c42f_row1_col21, #T_8c42f_row1_col22, #T_8c42f_row1_col23, #T_8c42f_row1_col24, #T_8c42f_row1_col25, #T_8c42f_row1_col26, #T_8c42f_row1_col27, #T_8c42f_row2_col0, #T_8c42f_row2_col1, #T_8c42f_row2_col2, #T_8c42f_row2_col3, #T_8c42f_row2_col4, #T_8c42f_row2_col5, #T_8c42f_row2_col6, #T_8c42f_row2_col7, #T_8c42f_row2_col8, #T_8c42f_row2_col9, #T_8c42f_row2_col10, #T_8c42f_row2_col11, #T_8c42f_row2_col12, #T_8c42f_row2_col13, #T_8c42f_row2_col14, #T_8c42f_row2_col15, #T_8c42f_row2_col16, #T_8c42f_row2_col17, #T_8c42f_row2_col18, #T_8c42f_row2_col19, #T_8c42f_row2_col20, #T_8c42f_row2_col21, #T_8c42f_row2_col22, #T_8c42f_row2_col23, #T_8c42f_row2_col24, #T_8c42f_row2_col25, #T_8c42f_row2_col26, #T_8c42f_row2_col27, #T_8c42f_row3_col0, #T_8c42f_row3_col1, #T_8c42f_row3_col2, #T_8c42f_row3_col3, #T_8c42f_row3_col4, #T_8c42f_row3_col5, #T_8c42f_row3_col6, #T_8c42f_row3_col7, #T_8c42f_row3_col8, #T_8c42f_row3_col9, #T_8c42f_row3_col10, #T_8c42f_row3_col11, #T_8c42f_row3_col12, #T_8c42f_row3_col13, #T_8c42f_row3_col14, #T_8c42f_row3_col15, #T_8c42f_row3_col16, #T_8c42f_row3_col17, #T_8c42f_row3_col18, #T_8c42f_row3_col19, #T_8c42f_row3_col20, #T_8c42f_row3_col21, #T_8c42f_row3_col22, #T_8c42f_row3_col23, #T_8c42f_row3_col24, #T_8c42f_row3_col25, #T_8c42f_row3_col26, #T_8c42f_row3_col27, #T_8c42f_row4_col0, #T_8c42f_row4_col1, #T_8c42f_row4_col2, #T_8c42f_row4_col3, #T_8c42f_row4_col4, #T_8c42f_row4_col5, #T_8c42f_row4_col6, #T_8c42f_row4_col7, #T_8c42f_row4_col8, #T_8c42f_row4_col9, #T_8c42f_row4_col10, #T_8c42f_row4_col11, #T_8c42f_row4_col12, #T_8c42f_row4_col13, #T_8c42f_row4_col14, #T_8c42f_row4_col15, #T_8c42f_row4_col16, #T_8c42f_row4_col17, #T_8c42f_row4_col18, #T_8c42f_row4_col19, #T_8c42f_row4_col20, #T_8c42f_row4_col21, #T_8c42f_row4_col22, #T_8c42f_row4_col23, #T_8c42f_row4_col24, #T_8c42f_row4_col25, #T_8c42f_row4_col26, #T_8c42f_row4_col27, #T_8c42f_row5_col0, #T_8c42f_row5_col1, #T_8c42f_row5_col2, #T_8c42f_row5_col3, #T_8c42f_row5_col4, #T_8c42f_row5_col5, #T_8c42f_row5_col6, #T_8c42f_row5_col7, #T_8c42f_row5_col8, #T_8c42f_row5_col9, #T_8c42f_row5_col10, #T_8c42f_row5_col11, #T_8c42f_row5_col12, #T_8c42f_row5_col13, #T_8c42f_row5_col17, #T_8c42f_row5_col18, #T_8c42f_row5_col19, #T_8c42f_row5_col20, #T_8c42f_row5_col21, #T_8c42f_row5_col22, #T_8c42f_row5_col23, #T_8c42f_row5_col24, #T_8c42f_row5_col25, #T_8c42f_row5_col26, #T_8c42f_row5_col27, #T_8c42f_row6_col0, #T_8c42f_row6_col1, #T_8c42f_row6_col2, #T_8c42f_row6_col3, #T_8c42f_row6_col4, #T_8c42f_row6_col5, #T_8c42f_row6_col6, #T_8c42f_row6_col7, #T_8c42f_row6_col8, #T_8c42f_row6_col9, #T_8c42f_row6_col10, #T_8c42f_row6_col11, #T_8c42f_row6_col12, #T_8c42f_row6_col18, #T_8c42f_row6_col19, #T_8c42f_row6_col20, #T_8c42f_row6_col21, #T_8c42f_row6_col22, #T_8c42f_row6_col23, #T_8c42f_row6_col24, #T_8c42f_row6_col25, #T_8c42f_row6_col26, #T_8c42f_row6_col27, #T_8c42f_row7_col0, #T_8c42f_row7_col1, #T_8c42f_row7_col2, #T_8c42f_row7_col3, #T_8c42f_row7_col4, #T_8c42f_row7_col5, #T_8c42f_row7_col6, #T_8c42f_row7_col7, #T_8c42f_row7_col8, #T_8c42f_row7_col9, #T_8c42f_row7_col10, #T_8c42f_row7_col11, #T_8c42f_row7_col12, #T_8c42f_row7_col18, #T_8c42f_row7_col19, #T_8c42f_row7_col20, #T_8c42f_row7_col21, #T_8c42f_row7_col22, #T_8c42f_row7_col23, #T_8c42f_row7_col24, #T_8c42f_row7_col25, #T_8c42f_row7_col26, #T_8c42f_row7_col27, #T_8c42f_row8_col0, #T_8c42f_row8_col1, #T_8c42f_row8_col2, #T_8c42f_row8_col3, #T_8c42f_row8_col4, #T_8c42f_row8_col5, #T_8c42f_row8_col6, #T_8c42f_row8_col7, #T_8c42f_row8_col8, #T_8c42f_row8_col9, #T_8c42f_row8_col10, #T_8c42f_row8_col11, #T_8c42f_row8_col12, #T_8c42f_row8_col18, #T_8c42f_row8_col19, #T_8c42f_row8_col20, #T_8c42f_row8_col21, #T_8c42f_row8_col22, #T_8c42f_row8_col23, #T_8c42f_row8_col24, #T_8c42f_row8_col25, #T_8c42f_row8_col26, #T_8c42f_row8_col27, #T_8c42f_row9_col0, #T_8c42f_row9_col1, #T_8c42f_row9_col2, #T_8c42f_row9_col3, #T_8c42f_row9_col4, #T_8c42f_row9_col5, #T_8c42f_row9_col6, #T_8c42f_row9_col7, #T_8c42f_row9_col8, #T_8c42f_row9_col9, #T_8c42f_row9_col10, #T_8c42f_row9_col11, #T_8c42f_row9_col18, #T_8c42f_row9_col19, #T_8c42f_row9_col20, #T_8c42f_row9_col21, #T_8c42f_row9_col22, #T_8c42f_row9_col23, #T_8c42f_row9_col24, #T_8c42f_row9_col25, #T_8c42f_row9_col26, #T_8c42f_row9_col27, #T_8c42f_row10_col0, #T_8c42f_row10_col1, #T_8c42f_row10_col2, #T_8c42f_row10_col3, #T_8c42f_row10_col4, #T_8c42f_row10_col5, #T_8c42f_row10_col6, #T_8c42f_row10_col7, #T_8c42f_row10_col8, #T_8c42f_row10_col9, #T_8c42f_row10_col10, #T_8c42f_row10_col18, #T_8c42f_row10_col19, #T_8c42f_row10_col20, #T_8c42f_row10_col21, #T_8c42f_row10_col22, #T_8c42f_row10_col23, #T_8c42f_row10_col24, #T_8c42f_row10_col25, #T_8c42f_row10_col26, #T_8c42f_row10_col27, #T_8c42f_row11_col0, #T_8c42f_row11_col1, #T_8c42f_row11_col2, #T_8c42f_row11_col3, #T_8c42f_row11_col4, #T_8c42f_row11_col5, #T_8c42f_row11_col6, #T_8c42f_row11_col7, #T_8c42f_row11_col8, #T_8c42f_row11_col9, #T_8c42f_row11_col18, #T_8c42f_row11_col19, #T_8c42f_row11_col20, #T_8c42f_row11_col21, #T_8c42f_row11_col22, #T_8c42f_row11_col23, #T_8c42f_row11_col24, #T_8c42f_row11_col25, #T_8c42f_row11_col26, #T_8c42f_row11_col27, #T_8c42f_row12_col0, #T_8c42f_row12_col1, #T_8c42f_row12_col2, #T_8c42f_row12_col3, #T_8c42f_row12_col4, #T_8c42f_row12_col5, #T_8c42f_row12_col6, #T_8c42f_row12_col7, #T_8c42f_row12_col8, #T_8c42f_row12_col9, #T_8c42f_row12_col18, #T_8c42f_row12_col19, #T_8c42f_row12_col20, #T_8c42f_row12_col21, #T_8c42f_row12_col22, #T_8c42f_row12_col23, #T_8c42f_row12_col24, #T_8c42f_row12_col25, #T_8c42f_row12_col26, #T_8c42f_row12_col27, #T_8c42f_row13_col0, #T_8c42f_row13_col1, #T_8c42f_row13_col2, #T_8c42f_row13_col3, #T_8c42f_row13_col4, #T_8c42f_row13_col5, #T_8c42f_row13_col6, #T_8c42f_row13_col7, #T_8c42f_row13_col8, #T_8c42f_row13_col9, #T_8c42f_row13_col17, #T_8c42f_row13_col18, #T_8c42f_row13_col19, #T_8c42f_row13_col20, #T_8c42f_row13_col21, #T_8c42f_row13_col22, #T_8c42f_row13_col23, #T_8c42f_row13_col24, #T_8c42f_row13_col25, #T_8c42f_row13_col26, #T_8c42f_row13_col27, #T_8c42f_row14_col0, #T_8c42f_row14_col1, #T_8c42f_row14_col2, #T_8c42f_row14_col3, #T_8c42f_row14_col4, #T_8c42f_row14_col5, #T_8c42f_row14_col6, #T_8c42f_row14_col7, #T_8c42f_row14_col8, #T_8c42f_row14_col9, #T_8c42f_row14_col10, #T_8c42f_row14_col11, #T_8c42f_row14_col12, #T_8c42f_row14_col17, #T_8c42f_row14_col18, #T_8c42f_row14_col19, #T_8c42f_row14_col20, #T_8c42f_row14_col21, #T_8c42f_row14_col22, #T_8c42f_row14_col23, #T_8c42f_row14_col24, #T_8c42f_row14_col25, #T_8c42f_row14_col26, #T_8c42f_row14_col27, #T_8c42f_row15_col0, #T_8c42f_row15_col1, #T_8c42f_row15_col2, #T_8c42f_row15_col3, #T_8c42f_row15_col4, #T_8c42f_row15_col5, #T_8c42f_row15_col6, #T_8c42f_row15_col7, #T_8c42f_row15_col8, #T_8c42f_row15_col9, #T_8c42f_row15_col10, #T_8c42f_row15_col11, #T_8c42f_row15_col12, #T_8c42f_row15_col17, #T_8c42f_row15_col18, #T_8c42f_row15_col19, #T_8c42f_row15_col20, #T_8c42f_row15_col21, #T_8c42f_row15_col22, #T_8c42f_row15_col23, #T_8c42f_row15_col24, #T_8c42f_row15_col25, #T_8c42f_row15_col26, #T_8c42f_row15_col27, #T_8c42f_row16_col0, #T_8c42f_row16_col1, #T_8c42f_row16_col2, #T_8c42f_row16_col3, #T_8c42f_row16_col4, #T_8c42f_row16_col5, #T_8c42f_row16_col6, #T_8c42f_row16_col7, #T_8c42f_row16_col8, #T_8c42f_row16_col9, #T_8c42f_row16_col10, #T_8c42f_row16_col11, #T_8c42f_row16_col17, #T_8c42f_row16_col18, #T_8c42f_row16_col19, #T_8c42f_row16_col20, #T_8c42f_row16_col21, #T_8c42f_row16_col22, #T_8c42f_row16_col23, #T_8c42f_row16_col24, #T_8c42f_row16_col25, #T_8c42f_row16_col26, #T_8c42f_row16_col27, #T_8c42f_row17_col0, #T_8c42f_row17_col1, #T_8c42f_row17_col2, #T_8c42f_row17_col3, #T_8c42f_row17_col4, #T_8c42f_row17_col5, #T_8c42f_row17_col6, #T_8c42f_row17_col7, #T_8c42f_row17_col8, #T_8c42f_row17_col9, #T_8c42f_row17_col10, #T_8c42f_row17_col11, #T_8c42f_row17_col17, #T_8c42f_row17_col18, #T_8c42f_row17_col19, #T_8c42f_row17_col20, #T_8c42f_row17_col21, #T_8c42f_row17_col22, #T_8c42f_row17_col23, #T_8c42f_row17_col24, #T_8c42f_row17_col25, #T_8c42f_row17_col26, #T_8c42f_row17_col27, #T_8c42f_row18_col0, #T_8c42f_row18_col1, #T_8c42f_row18_col2, #T_8c42f_row18_col3, #T_8c42f_row18_col4, #T_8c42f_row18_col5, #T_8c42f_row18_col6, #T_8c42f_row18_col7, #T_8c42f_row18_col8, #T_8c42f_row18_col9, #T_8c42f_row18_col10, #T_8c42f_row18_col11, #T_8c42f_row18_col17, #T_8c42f_row18_col18, #T_8c42f_row18_col19, #T_8c42f_row18_col20, #T_8c42f_row18_col21, #T_8c42f_row18_col22, #T_8c42f_row18_col23, #T_8c42f_row18_col24, #T_8c42f_row18_col25, #T_8c42f_row18_col26, #T_8c42f_row18_col27, #T_8c42f_row19_col0, #T_8c42f_row19_col1, #T_8c42f_row19_col2, #T_8c42f_row19_col3, #T_8c42f_row19_col4, #T_8c42f_row19_col5, #T_8c42f_row19_col6, #T_8c42f_row19_col7, #T_8c42f_row19_col8, #T_8c42f_row19_col9, #T_8c42f_row19_col10, #T_8c42f_row19_col11, #T_8c42f_row19_col17, #T_8c42f_row19_col18, #T_8c42f_row19_col19, #T_8c42f_row19_col20, #T_8c42f_row19_col21, #T_8c42f_row19_col22, #T_8c42f_row19_col23, #T_8c42f_row19_col24, #T_8c42f_row19_col25, #T_8c42f_row19_col26, #T_8c42f_row19_col27, #T_8c42f_row20_col0, #T_8c42f_row20_col1, #T_8c42f_row20_col2, #T_8c42f_row20_col3, #T_8c42f_row20_col4, #T_8c42f_row20_col5, #T_8c42f_row20_col6, #T_8c42f_row20_col7, #T_8c42f_row20_col8, #T_8c42f_row20_col9, #T_8c42f_row20_col10, #T_8c42f_row20_col11, #T_8c42f_row20_col17, #T_8c42f_row20_col18, #T_8c42f_row20_col19, #T_8c42f_row20_col20, #T_8c42f_row20_col21, #T_8c42f_row20_col22, #T_8c42f_row20_col23, #T_8c42f_row20_col24, #T_8c42f_row20_col25, #T_8c42f_row20_col26, #T_8c42f_row20_col27, #T_8c42f_row21_col0, #T_8c42f_row21_col1, #T_8c42f_row21_col2, #T_8c42f_row21_col3, #T_8c42f_row21_col4, #T_8c42f_row21_col5, #T_8c42f_row21_col6, #T_8c42f_row21_col7, #T_8c42f_row21_col8, #T_8c42f_row21_col9, #T_8c42f_row21_col10, #T_8c42f_row21_col11, #T_8c42f_row21_col17, #T_8c42f_row21_col18, #T_8c42f_row21_col19, #T_8c42f_row21_col20, #T_8c42f_row21_col21, #T_8c42f_row21_col22, #T_8c42f_row21_col23, #T_8c42f_row21_col24, #T_8c42f_row21_col25, #T_8c42f_row21_col26, #T_8c42f_row21_col27, #T_8c42f_row22_col0, #T_8c42f_row22_col1, #T_8c42f_row22_col2, #T_8c42f_row22_col3, #T_8c42f_row22_col4, #T_8c42f_row22_col5, #T_8c42f_row22_col6, #T_8c42f_row22_col7, #T_8c42f_row22_col8, #T_8c42f_row22_col9, #T_8c42f_row22_col10, #T_8c42f_row22_col11, #T_8c42f_row22_col17, #T_8c42f_row22_col18, #T_8c42f_row22_col19, #T_8c42f_row22_col20, #T_8c42f_row22_col21, #T_8c42f_row22_col22, #T_8c42f_row22_col23, #T_8c42f_row22_col24, #T_8c42f_row22_col25, #T_8c42f_row22_col26, #T_8c42f_row22_col27, #T_8c42f_row23_col0, #T_8c42f_row23_col1, #T_8c42f_row23_col2, #T_8c42f_row23_col3, #T_8c42f_row23_col4, #T_8c42f_row23_col5, #T_8c42f_row23_col6, #T_8c42f_row23_col7, #T_8c42f_row23_col8, #T_8c42f_row23_col9, #T_8c42f_row23_col10, #T_8c42f_row23_col11, #T_8c42f_row23_col17, #T_8c42f_row23_col18, #T_8c42f_row23_col19, #T_8c42f_row23_col20, #T_8c42f_row23_col21, #T_8c42f_row23_col22, #T_8c42f_row23_col23, #T_8c42f_row23_col24, #T_8c42f_row23_col25, #T_8c42f_row23_col26, #T_8c42f_row23_col27, #T_8c42f_row24_col0, #T_8c42f_row24_col1, #T_8c42f_row24_col2, #T_8c42f_row24_col3, #T_8c42f_row24_col4, #T_8c42f_row24_col5, #T_8c42f_row24_col6, #T_8c42f_row24_col7, #T_8c42f_row24_col8, #T_8c42f_row24_col9, #T_8c42f_row24_col10, #T_8c42f_row24_col11, #T_8c42f_row24_col12, #T_8c42f_row24_col16, #T_8c42f_row24_col17, #T_8c42f_row24_col18, #T_8c42f_row24_col19, #T_8c42f_row24_col20, #T_8c42f_row24_col21, #T_8c42f_row24_col22, #T_8c42f_row24_col23, #T_8c42f_row24_col24, #T_8c42f_row24_col25, #T_8c42f_row24_col26, #T_8c42f_row24_col27, #T_8c42f_row25_col0, #T_8c42f_row25_col1, #T_8c42f_row25_col2, #T_8c42f_row25_col3, #T_8c42f_row25_col4, #T_8c42f_row25_col5, #T_8c42f_row25_col6, #T_8c42f_row25_col7, #T_8c42f_row25_col8, #T_8c42f_row25_col9, #T_8c42f_row25_col10, #T_8c42f_row25_col11, #T_8c42f_row25_col12, #T_8c42f_row25_col13, #T_8c42f_row25_col14, #T_8c42f_row25_col15, #T_8c42f_row25_col16, #T_8c42f_row25_col17, #T_8c42f_row25_col18, #T_8c42f_row25_col19, #T_8c42f_row25_col20, #T_8c42f_row25_col21, #T_8c42f_row25_col22, #T_8c42f_row25_col23, #T_8c42f_row25_col24, #T_8c42f_row25_col25, #T_8c42f_row25_col26, #T_8c42f_row25_col27, #T_8c42f_row26_col0, #T_8c42f_row26_col1, #T_8c42f_row26_col2, #T_8c42f_row26_col3, #T_8c42f_row26_col4, #T_8c42f_row26_col5, #T_8c42f_row26_col6, #T_8c42f_row26_col7, #T_8c42f_row26_col8, #T_8c42f_row26_col9, #T_8c42f_row26_col10, #T_8c42f_row26_col11, #T_8c42f_row26_col12, #T_8c42f_row26_col13, #T_8c42f_row26_col14, #T_8c42f_row26_col15, #T_8c42f_row26_col16, #T_8c42f_row26_col17, #T_8c42f_row26_col18, #T_8c42f_row26_col19, #T_8c42f_row26_col20, #T_8c42f_row26_col21, #T_8c42f_row26_col22, #T_8c42f_row26_col23, #T_8c42f_row26_col24, #T_8c42f_row26_col25, #T_8c42f_row26_col26, #T_8c42f_row26_col27, #T_8c42f_row27_col0, #T_8c42f_row27_col1, #T_8c42f_row27_col2, #T_8c42f_row27_col3, #T_8c42f_row27_col4, #T_8c42f_row27_col5, #T_8c42f_row27_col6, #T_8c42f_row27_col7, #T_8c42f_row27_col8, #T_8c42f_row27_col9, #T_8c42f_row27_col10, #T_8c42f_row27_col11, #T_8c42f_row27_col12, #T_8c42f_row27_col13, #T_8c42f_row27_col14, #T_8c42f_row27_col15, #T_8c42f_row27_col16, #T_8c42f_row27_col17, #T_8c42f_row27_col18, #T_8c42f_row27_col19, #T_8c42f_row27_col20, #T_8c42f_row27_col21, #T_8c42f_row27_col22, #T_8c42f_row27_col23, #T_8c42f_row27_col24, #T_8c42f_row27_col25, #T_8c42f_row27_col26, #T_8c42f_row27_col27 {\n",
       "  font-size: 6pt;\n",
       "  background-color: #ffffff;\n",
       "  color: #000000;\n",
       "}\n",
       "#T_8c42f_row5_col14 {\n",
       "  font-size: 6pt;\n",
       "  background-color: #999999;\n",
       "  color: #f1f1f1;\n",
       "}\n",
       "#T_8c42f_row5_col15, #T_8c42f_row7_col14, #T_8c42f_row7_col16, #T_8c42f_row7_col17, #T_8c42f_row8_col14, #T_8c42f_row8_col16, #T_8c42f_row8_col17, #T_8c42f_row9_col14, #T_8c42f_row9_col16, #T_8c42f_row9_col17, #T_8c42f_row10_col13, #T_8c42f_row10_col14, #T_8c42f_row10_col16, #T_8c42f_row10_col17, #T_8c42f_row11_col12, #T_8c42f_row11_col13, #T_8c42f_row11_col14, #T_8c42f_row11_col16, #T_8c42f_row11_col17, #T_8c42f_row12_col10, #T_8c42f_row12_col11, #T_8c42f_row12_col12, #T_8c42f_row12_col14, #T_8c42f_row13_col14, #T_8c42f_row14_col14, #T_8c42f_row15_col14, #T_8c42f_row16_col14, #T_8c42f_row17_col13, #T_8c42f_row17_col14, #T_8c42f_row18_col13, #T_8c42f_row18_col14, #T_8c42f_row19_col13, #T_8c42f_row19_col14, #T_8c42f_row20_col13, #T_8c42f_row20_col14, #T_8c42f_row21_col13, #T_8c42f_row21_col14, #T_8c42f_row22_col13, #T_8c42f_row22_col14, #T_8c42f_row23_col14, #T_8c42f_row24_col14 {\n",
       "  font-size: 6pt;\n",
       "  background-color: #000000;\n",
       "  color: #f1f1f1;\n",
       "}\n",
       "#T_8c42f_row5_col16, #T_8c42f_row16_col13 {\n",
       "  font-size: 6pt;\n",
       "  background-color: #383838;\n",
       "  color: #f1f1f1;\n",
       "}\n",
       "#T_8c42f_row6_col13 {\n",
       "  font-size: 6pt;\n",
       "  background-color: #f0f0f0;\n",
       "  color: #000000;\n",
       "}\n",
       "#T_8c42f_row6_col14, #T_8c42f_row23_col13 {\n",
       "  font-size: 6pt;\n",
       "  background-color: #282828;\n",
       "  color: #f1f1f1;\n",
       "}\n",
       "#T_8c42f_row6_col15, #T_8c42f_row7_col15, #T_8c42f_row8_col15, #T_8c42f_row9_col15, #T_8c42f_row10_col15, #T_8c42f_row11_col15, #T_8c42f_row12_col15, #T_8c42f_row13_col15, #T_8c42f_row14_col15, #T_8c42f_row15_col15, #T_8c42f_row16_col15, #T_8c42f_row17_col15, #T_8c42f_row18_col15, #T_8c42f_row19_col15, #T_8c42f_row20_col15, #T_8c42f_row21_col15, #T_8c42f_row22_col15 {\n",
       "  font-size: 6pt;\n",
       "  background-color: #020202;\n",
       "  color: #f1f1f1;\n",
       "}\n",
       "#T_8c42f_row6_col16 {\n",
       "  font-size: 6pt;\n",
       "  background-color: #010101;\n",
       "  color: #f1f1f1;\n",
       "}\n",
       "#T_8c42f_row6_col17 {\n",
       "  font-size: 6pt;\n",
       "  background-color: #070707;\n",
       "  color: #f1f1f1;\n",
       "}\n",
       "#T_8c42f_row7_col13, #T_8c42f_row14_col13, #T_8c42f_row24_col13 {\n",
       "  font-size: 6pt;\n",
       "  background-color: #d7d7d7;\n",
       "  color: #000000;\n",
       "}\n",
       "#T_8c42f_row8_col13 {\n",
       "  font-size: 6pt;\n",
       "  background-color: #9e9e9e;\n",
       "  color: #f1f1f1;\n",
       "}\n",
       "#T_8c42f_row9_col12 {\n",
       "  font-size: 6pt;\n",
       "  background-color: #a3a3a3;\n",
       "  color: #f1f1f1;\n",
       "}\n",
       "#T_8c42f_row9_col13 {\n",
       "  font-size: 6pt;\n",
       "  background-color: #060606;\n",
       "  color: #f1f1f1;\n",
       "}\n",
       "#T_8c42f_row10_col11, #T_8c42f_row13_col10 {\n",
       "  font-size: 6pt;\n",
       "  background-color: #f1f1f1;\n",
       "  color: #000000;\n",
       "}\n",
       "#T_8c42f_row10_col12 {\n",
       "  font-size: 6pt;\n",
       "  background-color: #252525;\n",
       "  color: #f1f1f1;\n",
       "}\n",
       "#T_8c42f_row11_col10 {\n",
       "  font-size: 6pt;\n",
       "  background-color: #e4e4e4;\n",
       "  color: #000000;\n",
       "}\n",
       "#T_8c42f_row11_col11 {\n",
       "  font-size: 6pt;\n",
       "  background-color: #3d3d3d;\n",
       "  color: #f1f1f1;\n",
       "}\n",
       "#T_8c42f_row12_col13 {\n",
       "  font-size: 6pt;\n",
       "  background-color: #303030;\n",
       "  color: #f1f1f1;\n",
       "}\n",
       "#T_8c42f_row12_col16 {\n",
       "  font-size: 6pt;\n",
       "  background-color: #2e2e2e;\n",
       "  color: #f1f1f1;\n",
       "}\n",
       "#T_8c42f_row12_col17 {\n",
       "  font-size: 6pt;\n",
       "  background-color: #e7e7e7;\n",
       "  color: #000000;\n",
       "}\n",
       "#T_8c42f_row13_col11 {\n",
       "  font-size: 6pt;\n",
       "  background-color: #737373;\n",
       "  color: #f1f1f1;\n",
       "}\n",
       "#T_8c42f_row13_col12, #T_8c42f_row17_col16 {\n",
       "  font-size: 6pt;\n",
       "  background-color: #cccccc;\n",
       "  color: #000000;\n",
       "}\n",
       "#T_8c42f_row13_col13 {\n",
       "  font-size: 6pt;\n",
       "  background-color: #cdcdcd;\n",
       "  color: #000000;\n",
       "}\n",
       "#T_8c42f_row13_col16, #T_8c42f_row14_col16, #T_8c42f_row15_col16, #T_8c42f_row19_col16, #T_8c42f_row20_col16, #T_8c42f_row21_col16, #T_8c42f_row22_col16 {\n",
       "  font-size: 6pt;\n",
       "  background-color: #393939;\n",
       "  color: #f1f1f1;\n",
       "}\n",
       "#T_8c42f_row15_col13 {\n",
       "  font-size: 6pt;\n",
       "  background-color: #6e6e6e;\n",
       "  color: #f1f1f1;\n",
       "}\n",
       "#T_8c42f_row16_col12 {\n",
       "  font-size: 6pt;\n",
       "  background-color: #f8f8f8;\n",
       "  color: #000000;\n",
       "}\n",
       "#T_8c42f_row16_col16 {\n",
       "  font-size: 6pt;\n",
       "  background-color: #5c5c5c;\n",
       "  color: #f1f1f1;\n",
       "}\n",
       "#T_8c42f_row17_col12 {\n",
       "  font-size: 6pt;\n",
       "  background-color: #bbbbbb;\n",
       "  color: #000000;\n",
       "}\n",
       "#T_8c42f_row18_col12 {\n",
       "  font-size: 6pt;\n",
       "  background-color: #5a5a5a;\n",
       "  color: #f1f1f1;\n",
       "}\n",
       "#T_8c42f_row18_col16 {\n",
       "  font-size: 6pt;\n",
       "  background-color: #b9b9b9;\n",
       "  color: #000000;\n",
       "}\n",
       "#T_8c42f_row19_col12, #T_8c42f_row20_col12, #T_8c42f_row21_col12, #T_8c42f_row22_col12 {\n",
       "  font-size: 6pt;\n",
       "  background-color: #d2d2d2;\n",
       "  color: #000000;\n",
       "}\n",
       "#T_8c42f_row23_col12 {\n",
       "  font-size: 6pt;\n",
       "  background-color: #efefef;\n",
       "  color: #000000;\n",
       "}\n",
       "#T_8c42f_row23_col15 {\n",
       "  font-size: 6pt;\n",
       "  background-color: #030303;\n",
       "  color: #f1f1f1;\n",
       "}\n",
       "#T_8c42f_row23_col16 {\n",
       "  font-size: 6pt;\n",
       "  background-color: #8d8d8d;\n",
       "  color: #f1f1f1;\n",
       "}\n",
       "#T_8c42f_row24_col15 {\n",
       "  font-size: 6pt;\n",
       "  background-color: #909090;\n",
       "  color: #f1f1f1;\n",
       "}\n",
       "</style>\n",
       "<table id=\"T_8c42f_\">\n",
       "  <thead>\n",
       "    <tr>\n",
       "      <th class=\"blank level0\" >&nbsp;</th>\n",
       "      <th class=\"col_heading level0 col0\" >0</th>\n",
       "      <th class=\"col_heading level0 col1\" >1</th>\n",
       "      <th class=\"col_heading level0 col2\" >2</th>\n",
       "      <th class=\"col_heading level0 col3\" >3</th>\n",
       "      <th class=\"col_heading level0 col4\" >4</th>\n",
       "      <th class=\"col_heading level0 col5\" >5</th>\n",
       "      <th class=\"col_heading level0 col6\" >6</th>\n",
       "      <th class=\"col_heading level0 col7\" >7</th>\n",
       "      <th class=\"col_heading level0 col8\" >8</th>\n",
       "      <th class=\"col_heading level0 col9\" >9</th>\n",
       "      <th class=\"col_heading level0 col10\" >10</th>\n",
       "      <th class=\"col_heading level0 col11\" >11</th>\n",
       "      <th class=\"col_heading level0 col12\" >12</th>\n",
       "      <th class=\"col_heading level0 col13\" >13</th>\n",
       "      <th class=\"col_heading level0 col14\" >14</th>\n",
       "      <th class=\"col_heading level0 col15\" >15</th>\n",
       "      <th class=\"col_heading level0 col16\" >16</th>\n",
       "      <th class=\"col_heading level0 col17\" >17</th>\n",
       "      <th class=\"col_heading level0 col18\" >18</th>\n",
       "      <th class=\"col_heading level0 col19\" >19</th>\n",
       "      <th class=\"col_heading level0 col20\" >20</th>\n",
       "      <th class=\"col_heading level0 col21\" >21</th>\n",
       "      <th class=\"col_heading level0 col22\" >22</th>\n",
       "      <th class=\"col_heading level0 col23\" >23</th>\n",
       "      <th class=\"col_heading level0 col24\" >24</th>\n",
       "      <th class=\"col_heading level0 col25\" >25</th>\n",
       "      <th class=\"col_heading level0 col26\" >26</th>\n",
       "      <th class=\"col_heading level0 col27\" >27</th>\n",
       "    </tr>\n",
       "  </thead>\n",
       "  <tbody>\n",
       "    <tr>\n",
       "      <th id=\"T_8c42f_level0_row0\" class=\"row_heading level0 row0\" >0</th>\n",
       "      <td id=\"T_8c42f_row0_col0\" class=\"data row0 col0\" >0</td>\n",
       "      <td id=\"T_8c42f_row0_col1\" class=\"data row0 col1\" >0</td>\n",
       "      <td id=\"T_8c42f_row0_col2\" class=\"data row0 col2\" >0</td>\n",
       "      <td id=\"T_8c42f_row0_col3\" class=\"data row0 col3\" >0</td>\n",
       "      <td id=\"T_8c42f_row0_col4\" class=\"data row0 col4\" >0</td>\n",
       "      <td id=\"T_8c42f_row0_col5\" class=\"data row0 col5\" >0</td>\n",
       "      <td id=\"T_8c42f_row0_col6\" class=\"data row0 col6\" >0</td>\n",
       "      <td id=\"T_8c42f_row0_col7\" class=\"data row0 col7\" >0</td>\n",
       "      <td id=\"T_8c42f_row0_col8\" class=\"data row0 col8\" >0</td>\n",
       "      <td id=\"T_8c42f_row0_col9\" class=\"data row0 col9\" >0</td>\n",
       "      <td id=\"T_8c42f_row0_col10\" class=\"data row0 col10\" >0</td>\n",
       "      <td id=\"T_8c42f_row0_col11\" class=\"data row0 col11\" >0</td>\n",
       "      <td id=\"T_8c42f_row0_col12\" class=\"data row0 col12\" >0</td>\n",
       "      <td id=\"T_8c42f_row0_col13\" class=\"data row0 col13\" >0</td>\n",
       "      <td id=\"T_8c42f_row0_col14\" class=\"data row0 col14\" >0</td>\n",
       "      <td id=\"T_8c42f_row0_col15\" class=\"data row0 col15\" >0</td>\n",
       "      <td id=\"T_8c42f_row0_col16\" class=\"data row0 col16\" >0</td>\n",
       "      <td id=\"T_8c42f_row0_col17\" class=\"data row0 col17\" >0</td>\n",
       "      <td id=\"T_8c42f_row0_col18\" class=\"data row0 col18\" >0</td>\n",
       "      <td id=\"T_8c42f_row0_col19\" class=\"data row0 col19\" >0</td>\n",
       "      <td id=\"T_8c42f_row0_col20\" class=\"data row0 col20\" >0</td>\n",
       "      <td id=\"T_8c42f_row0_col21\" class=\"data row0 col21\" >0</td>\n",
       "      <td id=\"T_8c42f_row0_col22\" class=\"data row0 col22\" >0</td>\n",
       "      <td id=\"T_8c42f_row0_col23\" class=\"data row0 col23\" >0</td>\n",
       "      <td id=\"T_8c42f_row0_col24\" class=\"data row0 col24\" >0</td>\n",
       "      <td id=\"T_8c42f_row0_col25\" class=\"data row0 col25\" >0</td>\n",
       "      <td id=\"T_8c42f_row0_col26\" class=\"data row0 col26\" >0</td>\n",
       "      <td id=\"T_8c42f_row0_col27\" class=\"data row0 col27\" >0</td>\n",
       "    </tr>\n",
       "    <tr>\n",
       "      <th id=\"T_8c42f_level0_row1\" class=\"row_heading level0 row1\" >1</th>\n",
       "      <td id=\"T_8c42f_row1_col0\" class=\"data row1 col0\" >0</td>\n",
       "      <td id=\"T_8c42f_row1_col1\" class=\"data row1 col1\" >0</td>\n",
       "      <td id=\"T_8c42f_row1_col2\" class=\"data row1 col2\" >0</td>\n",
       "      <td id=\"T_8c42f_row1_col3\" class=\"data row1 col3\" >0</td>\n",
       "      <td id=\"T_8c42f_row1_col4\" class=\"data row1 col4\" >0</td>\n",
       "      <td id=\"T_8c42f_row1_col5\" class=\"data row1 col5\" >0</td>\n",
       "      <td id=\"T_8c42f_row1_col6\" class=\"data row1 col6\" >0</td>\n",
       "      <td id=\"T_8c42f_row1_col7\" class=\"data row1 col7\" >0</td>\n",
       "      <td id=\"T_8c42f_row1_col8\" class=\"data row1 col8\" >0</td>\n",
       "      <td id=\"T_8c42f_row1_col9\" class=\"data row1 col9\" >0</td>\n",
       "      <td id=\"T_8c42f_row1_col10\" class=\"data row1 col10\" >0</td>\n",
       "      <td id=\"T_8c42f_row1_col11\" class=\"data row1 col11\" >0</td>\n",
       "      <td id=\"T_8c42f_row1_col12\" class=\"data row1 col12\" >0</td>\n",
       "      <td id=\"T_8c42f_row1_col13\" class=\"data row1 col13\" >0</td>\n",
       "      <td id=\"T_8c42f_row1_col14\" class=\"data row1 col14\" >0</td>\n",
       "      <td id=\"T_8c42f_row1_col15\" class=\"data row1 col15\" >0</td>\n",
       "      <td id=\"T_8c42f_row1_col16\" class=\"data row1 col16\" >0</td>\n",
       "      <td id=\"T_8c42f_row1_col17\" class=\"data row1 col17\" >0</td>\n",
       "      <td id=\"T_8c42f_row1_col18\" class=\"data row1 col18\" >0</td>\n",
       "      <td id=\"T_8c42f_row1_col19\" class=\"data row1 col19\" >0</td>\n",
       "      <td id=\"T_8c42f_row1_col20\" class=\"data row1 col20\" >0</td>\n",
       "      <td id=\"T_8c42f_row1_col21\" class=\"data row1 col21\" >0</td>\n",
       "      <td id=\"T_8c42f_row1_col22\" class=\"data row1 col22\" >0</td>\n",
       "      <td id=\"T_8c42f_row1_col23\" class=\"data row1 col23\" >0</td>\n",
       "      <td id=\"T_8c42f_row1_col24\" class=\"data row1 col24\" >0</td>\n",
       "      <td id=\"T_8c42f_row1_col25\" class=\"data row1 col25\" >0</td>\n",
       "      <td id=\"T_8c42f_row1_col26\" class=\"data row1 col26\" >0</td>\n",
       "      <td id=\"T_8c42f_row1_col27\" class=\"data row1 col27\" >0</td>\n",
       "    </tr>\n",
       "    <tr>\n",
       "      <th id=\"T_8c42f_level0_row2\" class=\"row_heading level0 row2\" >2</th>\n",
       "      <td id=\"T_8c42f_row2_col0\" class=\"data row2 col0\" >0</td>\n",
       "      <td id=\"T_8c42f_row2_col1\" class=\"data row2 col1\" >0</td>\n",
       "      <td id=\"T_8c42f_row2_col2\" class=\"data row2 col2\" >0</td>\n",
       "      <td id=\"T_8c42f_row2_col3\" class=\"data row2 col3\" >0</td>\n",
       "      <td id=\"T_8c42f_row2_col4\" class=\"data row2 col4\" >0</td>\n",
       "      <td id=\"T_8c42f_row2_col5\" class=\"data row2 col5\" >0</td>\n",
       "      <td id=\"T_8c42f_row2_col6\" class=\"data row2 col6\" >0</td>\n",
       "      <td id=\"T_8c42f_row2_col7\" class=\"data row2 col7\" >0</td>\n",
       "      <td id=\"T_8c42f_row2_col8\" class=\"data row2 col8\" >0</td>\n",
       "      <td id=\"T_8c42f_row2_col9\" class=\"data row2 col9\" >0</td>\n",
       "      <td id=\"T_8c42f_row2_col10\" class=\"data row2 col10\" >0</td>\n",
       "      <td id=\"T_8c42f_row2_col11\" class=\"data row2 col11\" >0</td>\n",
       "      <td id=\"T_8c42f_row2_col12\" class=\"data row2 col12\" >0</td>\n",
       "      <td id=\"T_8c42f_row2_col13\" class=\"data row2 col13\" >0</td>\n",
       "      <td id=\"T_8c42f_row2_col14\" class=\"data row2 col14\" >0</td>\n",
       "      <td id=\"T_8c42f_row2_col15\" class=\"data row2 col15\" >0</td>\n",
       "      <td id=\"T_8c42f_row2_col16\" class=\"data row2 col16\" >0</td>\n",
       "      <td id=\"T_8c42f_row2_col17\" class=\"data row2 col17\" >0</td>\n",
       "      <td id=\"T_8c42f_row2_col18\" class=\"data row2 col18\" >0</td>\n",
       "      <td id=\"T_8c42f_row2_col19\" class=\"data row2 col19\" >0</td>\n",
       "      <td id=\"T_8c42f_row2_col20\" class=\"data row2 col20\" >0</td>\n",
       "      <td id=\"T_8c42f_row2_col21\" class=\"data row2 col21\" >0</td>\n",
       "      <td id=\"T_8c42f_row2_col22\" class=\"data row2 col22\" >0</td>\n",
       "      <td id=\"T_8c42f_row2_col23\" class=\"data row2 col23\" >0</td>\n",
       "      <td id=\"T_8c42f_row2_col24\" class=\"data row2 col24\" >0</td>\n",
       "      <td id=\"T_8c42f_row2_col25\" class=\"data row2 col25\" >0</td>\n",
       "      <td id=\"T_8c42f_row2_col26\" class=\"data row2 col26\" >0</td>\n",
       "      <td id=\"T_8c42f_row2_col27\" class=\"data row2 col27\" >0</td>\n",
       "    </tr>\n",
       "    <tr>\n",
       "      <th id=\"T_8c42f_level0_row3\" class=\"row_heading level0 row3\" >3</th>\n",
       "      <td id=\"T_8c42f_row3_col0\" class=\"data row3 col0\" >0</td>\n",
       "      <td id=\"T_8c42f_row3_col1\" class=\"data row3 col1\" >0</td>\n",
       "      <td id=\"T_8c42f_row3_col2\" class=\"data row3 col2\" >0</td>\n",
       "      <td id=\"T_8c42f_row3_col3\" class=\"data row3 col3\" >0</td>\n",
       "      <td id=\"T_8c42f_row3_col4\" class=\"data row3 col4\" >0</td>\n",
       "      <td id=\"T_8c42f_row3_col5\" class=\"data row3 col5\" >0</td>\n",
       "      <td id=\"T_8c42f_row3_col6\" class=\"data row3 col6\" >0</td>\n",
       "      <td id=\"T_8c42f_row3_col7\" class=\"data row3 col7\" >0</td>\n",
       "      <td id=\"T_8c42f_row3_col8\" class=\"data row3 col8\" >0</td>\n",
       "      <td id=\"T_8c42f_row3_col9\" class=\"data row3 col9\" >0</td>\n",
       "      <td id=\"T_8c42f_row3_col10\" class=\"data row3 col10\" >0</td>\n",
       "      <td id=\"T_8c42f_row3_col11\" class=\"data row3 col11\" >0</td>\n",
       "      <td id=\"T_8c42f_row3_col12\" class=\"data row3 col12\" >0</td>\n",
       "      <td id=\"T_8c42f_row3_col13\" class=\"data row3 col13\" >0</td>\n",
       "      <td id=\"T_8c42f_row3_col14\" class=\"data row3 col14\" >0</td>\n",
       "      <td id=\"T_8c42f_row3_col15\" class=\"data row3 col15\" >0</td>\n",
       "      <td id=\"T_8c42f_row3_col16\" class=\"data row3 col16\" >0</td>\n",
       "      <td id=\"T_8c42f_row3_col17\" class=\"data row3 col17\" >0</td>\n",
       "      <td id=\"T_8c42f_row3_col18\" class=\"data row3 col18\" >0</td>\n",
       "      <td id=\"T_8c42f_row3_col19\" class=\"data row3 col19\" >0</td>\n",
       "      <td id=\"T_8c42f_row3_col20\" class=\"data row3 col20\" >0</td>\n",
       "      <td id=\"T_8c42f_row3_col21\" class=\"data row3 col21\" >0</td>\n",
       "      <td id=\"T_8c42f_row3_col22\" class=\"data row3 col22\" >0</td>\n",
       "      <td id=\"T_8c42f_row3_col23\" class=\"data row3 col23\" >0</td>\n",
       "      <td id=\"T_8c42f_row3_col24\" class=\"data row3 col24\" >0</td>\n",
       "      <td id=\"T_8c42f_row3_col25\" class=\"data row3 col25\" >0</td>\n",
       "      <td id=\"T_8c42f_row3_col26\" class=\"data row3 col26\" >0</td>\n",
       "      <td id=\"T_8c42f_row3_col27\" class=\"data row3 col27\" >0</td>\n",
       "    </tr>\n",
       "    <tr>\n",
       "      <th id=\"T_8c42f_level0_row4\" class=\"row_heading level0 row4\" >4</th>\n",
       "      <td id=\"T_8c42f_row4_col0\" class=\"data row4 col0\" >0</td>\n",
       "      <td id=\"T_8c42f_row4_col1\" class=\"data row4 col1\" >0</td>\n",
       "      <td id=\"T_8c42f_row4_col2\" class=\"data row4 col2\" >0</td>\n",
       "      <td id=\"T_8c42f_row4_col3\" class=\"data row4 col3\" >0</td>\n",
       "      <td id=\"T_8c42f_row4_col4\" class=\"data row4 col4\" >0</td>\n",
       "      <td id=\"T_8c42f_row4_col5\" class=\"data row4 col5\" >0</td>\n",
       "      <td id=\"T_8c42f_row4_col6\" class=\"data row4 col6\" >0</td>\n",
       "      <td id=\"T_8c42f_row4_col7\" class=\"data row4 col7\" >0</td>\n",
       "      <td id=\"T_8c42f_row4_col8\" class=\"data row4 col8\" >0</td>\n",
       "      <td id=\"T_8c42f_row4_col9\" class=\"data row4 col9\" >0</td>\n",
       "      <td id=\"T_8c42f_row4_col10\" class=\"data row4 col10\" >0</td>\n",
       "      <td id=\"T_8c42f_row4_col11\" class=\"data row4 col11\" >0</td>\n",
       "      <td id=\"T_8c42f_row4_col12\" class=\"data row4 col12\" >0</td>\n",
       "      <td id=\"T_8c42f_row4_col13\" class=\"data row4 col13\" >0</td>\n",
       "      <td id=\"T_8c42f_row4_col14\" class=\"data row4 col14\" >0</td>\n",
       "      <td id=\"T_8c42f_row4_col15\" class=\"data row4 col15\" >0</td>\n",
       "      <td id=\"T_8c42f_row4_col16\" class=\"data row4 col16\" >0</td>\n",
       "      <td id=\"T_8c42f_row4_col17\" class=\"data row4 col17\" >0</td>\n",
       "      <td id=\"T_8c42f_row4_col18\" class=\"data row4 col18\" >0</td>\n",
       "      <td id=\"T_8c42f_row4_col19\" class=\"data row4 col19\" >0</td>\n",
       "      <td id=\"T_8c42f_row4_col20\" class=\"data row4 col20\" >0</td>\n",
       "      <td id=\"T_8c42f_row4_col21\" class=\"data row4 col21\" >0</td>\n",
       "      <td id=\"T_8c42f_row4_col22\" class=\"data row4 col22\" >0</td>\n",
       "      <td id=\"T_8c42f_row4_col23\" class=\"data row4 col23\" >0</td>\n",
       "      <td id=\"T_8c42f_row4_col24\" class=\"data row4 col24\" >0</td>\n",
       "      <td id=\"T_8c42f_row4_col25\" class=\"data row4 col25\" >0</td>\n",
       "      <td id=\"T_8c42f_row4_col26\" class=\"data row4 col26\" >0</td>\n",
       "      <td id=\"T_8c42f_row4_col27\" class=\"data row4 col27\" >0</td>\n",
       "    </tr>\n",
       "    <tr>\n",
       "      <th id=\"T_8c42f_level0_row5\" class=\"row_heading level0 row5\" >5</th>\n",
       "      <td id=\"T_8c42f_row5_col0\" class=\"data row5 col0\" >0</td>\n",
       "      <td id=\"T_8c42f_row5_col1\" class=\"data row5 col1\" >0</td>\n",
       "      <td id=\"T_8c42f_row5_col2\" class=\"data row5 col2\" >0</td>\n",
       "      <td id=\"T_8c42f_row5_col3\" class=\"data row5 col3\" >0</td>\n",
       "      <td id=\"T_8c42f_row5_col4\" class=\"data row5 col4\" >0</td>\n",
       "      <td id=\"T_8c42f_row5_col5\" class=\"data row5 col5\" >0</td>\n",
       "      <td id=\"T_8c42f_row5_col6\" class=\"data row5 col6\" >0</td>\n",
       "      <td id=\"T_8c42f_row5_col7\" class=\"data row5 col7\" >0</td>\n",
       "      <td id=\"T_8c42f_row5_col8\" class=\"data row5 col8\" >0</td>\n",
       "      <td id=\"T_8c42f_row5_col9\" class=\"data row5 col9\" >0</td>\n",
       "      <td id=\"T_8c42f_row5_col10\" class=\"data row5 col10\" >0</td>\n",
       "      <td id=\"T_8c42f_row5_col11\" class=\"data row5 col11\" >0</td>\n",
       "      <td id=\"T_8c42f_row5_col12\" class=\"data row5 col12\" >0</td>\n",
       "      <td id=\"T_8c42f_row5_col13\" class=\"data row5 col13\" >0</td>\n",
       "      <td id=\"T_8c42f_row5_col14\" class=\"data row5 col14\" >124</td>\n",
       "      <td id=\"T_8c42f_row5_col15\" class=\"data row5 col15\" >255</td>\n",
       "      <td id=\"T_8c42f_row5_col16\" class=\"data row5 col16\" >208</td>\n",
       "      <td id=\"T_8c42f_row5_col17\" class=\"data row5 col17\" >0</td>\n",
       "      <td id=\"T_8c42f_row5_col18\" class=\"data row5 col18\" >0</td>\n",
       "      <td id=\"T_8c42f_row5_col19\" class=\"data row5 col19\" >0</td>\n",
       "      <td id=\"T_8c42f_row5_col20\" class=\"data row5 col20\" >0</td>\n",
       "      <td id=\"T_8c42f_row5_col21\" class=\"data row5 col21\" >0</td>\n",
       "      <td id=\"T_8c42f_row5_col22\" class=\"data row5 col22\" >0</td>\n",
       "      <td id=\"T_8c42f_row5_col23\" class=\"data row5 col23\" >0</td>\n",
       "      <td id=\"T_8c42f_row5_col24\" class=\"data row5 col24\" >0</td>\n",
       "      <td id=\"T_8c42f_row5_col25\" class=\"data row5 col25\" >0</td>\n",
       "      <td id=\"T_8c42f_row5_col26\" class=\"data row5 col26\" >0</td>\n",
       "      <td id=\"T_8c42f_row5_col27\" class=\"data row5 col27\" >0</td>\n",
       "    </tr>\n",
       "    <tr>\n",
       "      <th id=\"T_8c42f_level0_row6\" class=\"row_heading level0 row6\" >6</th>\n",
       "      <td id=\"T_8c42f_row6_col0\" class=\"data row6 col0\" >0</td>\n",
       "      <td id=\"T_8c42f_row6_col1\" class=\"data row6 col1\" >0</td>\n",
       "      <td id=\"T_8c42f_row6_col2\" class=\"data row6 col2\" >0</td>\n",
       "      <td id=\"T_8c42f_row6_col3\" class=\"data row6 col3\" >0</td>\n",
       "      <td id=\"T_8c42f_row6_col4\" class=\"data row6 col4\" >0</td>\n",
       "      <td id=\"T_8c42f_row6_col5\" class=\"data row6 col5\" >0</td>\n",
       "      <td id=\"T_8c42f_row6_col6\" class=\"data row6 col6\" >0</td>\n",
       "      <td id=\"T_8c42f_row6_col7\" class=\"data row6 col7\" >0</td>\n",
       "      <td id=\"T_8c42f_row6_col8\" class=\"data row6 col8\" >0</td>\n",
       "      <td id=\"T_8c42f_row6_col9\" class=\"data row6 col9\" >0</td>\n",
       "      <td id=\"T_8c42f_row6_col10\" class=\"data row6 col10\" >0</td>\n",
       "      <td id=\"T_8c42f_row6_col11\" class=\"data row6 col11\" >0</td>\n",
       "      <td id=\"T_8c42f_row6_col12\" class=\"data row6 col12\" >0</td>\n",
       "      <td id=\"T_8c42f_row6_col13\" class=\"data row6 col13\" >31</td>\n",
       "      <td id=\"T_8c42f_row6_col14\" class=\"data row6 col14\" >219</td>\n",
       "      <td id=\"T_8c42f_row6_col15\" class=\"data row6 col15\" >253</td>\n",
       "      <td id=\"T_8c42f_row6_col16\" class=\"data row6 col16\" >252</td>\n",
       "      <td id=\"T_8c42f_row6_col17\" class=\"data row6 col17\" >82</td>\n",
       "      <td id=\"T_8c42f_row6_col18\" class=\"data row6 col18\" >0</td>\n",
       "      <td id=\"T_8c42f_row6_col19\" class=\"data row6 col19\" >0</td>\n",
       "      <td id=\"T_8c42f_row6_col20\" class=\"data row6 col20\" >0</td>\n",
       "      <td id=\"T_8c42f_row6_col21\" class=\"data row6 col21\" >0</td>\n",
       "      <td id=\"T_8c42f_row6_col22\" class=\"data row6 col22\" >0</td>\n",
       "      <td id=\"T_8c42f_row6_col23\" class=\"data row6 col23\" >0</td>\n",
       "      <td id=\"T_8c42f_row6_col24\" class=\"data row6 col24\" >0</td>\n",
       "      <td id=\"T_8c42f_row6_col25\" class=\"data row6 col25\" >0</td>\n",
       "      <td id=\"T_8c42f_row6_col26\" class=\"data row6 col26\" >0</td>\n",
       "      <td id=\"T_8c42f_row6_col27\" class=\"data row6 col27\" >0</td>\n",
       "    </tr>\n",
       "    <tr>\n",
       "      <th id=\"T_8c42f_level0_row7\" class=\"row_heading level0 row7\" >7</th>\n",
       "      <td id=\"T_8c42f_row7_col0\" class=\"data row7 col0\" >0</td>\n",
       "      <td id=\"T_8c42f_row7_col1\" class=\"data row7 col1\" >0</td>\n",
       "      <td id=\"T_8c42f_row7_col2\" class=\"data row7 col2\" >0</td>\n",
       "      <td id=\"T_8c42f_row7_col3\" class=\"data row7 col3\" >0</td>\n",
       "      <td id=\"T_8c42f_row7_col4\" class=\"data row7 col4\" >0</td>\n",
       "      <td id=\"T_8c42f_row7_col5\" class=\"data row7 col5\" >0</td>\n",
       "      <td id=\"T_8c42f_row7_col6\" class=\"data row7 col6\" >0</td>\n",
       "      <td id=\"T_8c42f_row7_col7\" class=\"data row7 col7\" >0</td>\n",
       "      <td id=\"T_8c42f_row7_col8\" class=\"data row7 col8\" >0</td>\n",
       "      <td id=\"T_8c42f_row7_col9\" class=\"data row7 col9\" >0</td>\n",
       "      <td id=\"T_8c42f_row7_col10\" class=\"data row7 col10\" >0</td>\n",
       "      <td id=\"T_8c42f_row7_col11\" class=\"data row7 col11\" >0</td>\n",
       "      <td id=\"T_8c42f_row7_col12\" class=\"data row7 col12\" >0</td>\n",
       "      <td id=\"T_8c42f_row7_col13\" class=\"data row7 col13\" >66</td>\n",
       "      <td id=\"T_8c42f_row7_col14\" class=\"data row7 col14\" >253</td>\n",
       "      <td id=\"T_8c42f_row7_col15\" class=\"data row7 col15\" >253</td>\n",
       "      <td id=\"T_8c42f_row7_col16\" class=\"data row7 col16\" >253</td>\n",
       "      <td id=\"T_8c42f_row7_col17\" class=\"data row7 col17\" >84</td>\n",
       "      <td id=\"T_8c42f_row7_col18\" class=\"data row7 col18\" >0</td>\n",
       "      <td id=\"T_8c42f_row7_col19\" class=\"data row7 col19\" >0</td>\n",
       "      <td id=\"T_8c42f_row7_col20\" class=\"data row7 col20\" >0</td>\n",
       "      <td id=\"T_8c42f_row7_col21\" class=\"data row7 col21\" >0</td>\n",
       "      <td id=\"T_8c42f_row7_col22\" class=\"data row7 col22\" >0</td>\n",
       "      <td id=\"T_8c42f_row7_col23\" class=\"data row7 col23\" >0</td>\n",
       "      <td id=\"T_8c42f_row7_col24\" class=\"data row7 col24\" >0</td>\n",
       "      <td id=\"T_8c42f_row7_col25\" class=\"data row7 col25\" >0</td>\n",
       "      <td id=\"T_8c42f_row7_col26\" class=\"data row7 col26\" >0</td>\n",
       "      <td id=\"T_8c42f_row7_col27\" class=\"data row7 col27\" >0</td>\n",
       "    </tr>\n",
       "    <tr>\n",
       "      <th id=\"T_8c42f_level0_row8\" class=\"row_heading level0 row8\" >8</th>\n",
       "      <td id=\"T_8c42f_row8_col0\" class=\"data row8 col0\" >0</td>\n",
       "      <td id=\"T_8c42f_row8_col1\" class=\"data row8 col1\" >0</td>\n",
       "      <td id=\"T_8c42f_row8_col2\" class=\"data row8 col2\" >0</td>\n",
       "      <td id=\"T_8c42f_row8_col3\" class=\"data row8 col3\" >0</td>\n",
       "      <td id=\"T_8c42f_row8_col4\" class=\"data row8 col4\" >0</td>\n",
       "      <td id=\"T_8c42f_row8_col5\" class=\"data row8 col5\" >0</td>\n",
       "      <td id=\"T_8c42f_row8_col6\" class=\"data row8 col6\" >0</td>\n",
       "      <td id=\"T_8c42f_row8_col7\" class=\"data row8 col7\" >0</td>\n",
       "      <td id=\"T_8c42f_row8_col8\" class=\"data row8 col8\" >0</td>\n",
       "      <td id=\"T_8c42f_row8_col9\" class=\"data row8 col9\" >0</td>\n",
       "      <td id=\"T_8c42f_row8_col10\" class=\"data row8 col10\" >0</td>\n",
       "      <td id=\"T_8c42f_row8_col11\" class=\"data row8 col11\" >0</td>\n",
       "      <td id=\"T_8c42f_row8_col12\" class=\"data row8 col12\" >0</td>\n",
       "      <td id=\"T_8c42f_row8_col13\" class=\"data row8 col13\" >120</td>\n",
       "      <td id=\"T_8c42f_row8_col14\" class=\"data row8 col14\" >253</td>\n",
       "      <td id=\"T_8c42f_row8_col15\" class=\"data row8 col15\" >253</td>\n",
       "      <td id=\"T_8c42f_row8_col16\" class=\"data row8 col16\" >253</td>\n",
       "      <td id=\"T_8c42f_row8_col17\" class=\"data row8 col17\" >84</td>\n",
       "      <td id=\"T_8c42f_row8_col18\" class=\"data row8 col18\" >0</td>\n",
       "      <td id=\"T_8c42f_row8_col19\" class=\"data row8 col19\" >0</td>\n",
       "      <td id=\"T_8c42f_row8_col20\" class=\"data row8 col20\" >0</td>\n",
       "      <td id=\"T_8c42f_row8_col21\" class=\"data row8 col21\" >0</td>\n",
       "      <td id=\"T_8c42f_row8_col22\" class=\"data row8 col22\" >0</td>\n",
       "      <td id=\"T_8c42f_row8_col23\" class=\"data row8 col23\" >0</td>\n",
       "      <td id=\"T_8c42f_row8_col24\" class=\"data row8 col24\" >0</td>\n",
       "      <td id=\"T_8c42f_row8_col25\" class=\"data row8 col25\" >0</td>\n",
       "      <td id=\"T_8c42f_row8_col26\" class=\"data row8 col26\" >0</td>\n",
       "      <td id=\"T_8c42f_row8_col27\" class=\"data row8 col27\" >0</td>\n",
       "    </tr>\n",
       "    <tr>\n",
       "      <th id=\"T_8c42f_level0_row9\" class=\"row_heading level0 row9\" >9</th>\n",
       "      <td id=\"T_8c42f_row9_col0\" class=\"data row9 col0\" >0</td>\n",
       "      <td id=\"T_8c42f_row9_col1\" class=\"data row9 col1\" >0</td>\n",
       "      <td id=\"T_8c42f_row9_col2\" class=\"data row9 col2\" >0</td>\n",
       "      <td id=\"T_8c42f_row9_col3\" class=\"data row9 col3\" >0</td>\n",
       "      <td id=\"T_8c42f_row9_col4\" class=\"data row9 col4\" >0</td>\n",
       "      <td id=\"T_8c42f_row9_col5\" class=\"data row9 col5\" >0</td>\n",
       "      <td id=\"T_8c42f_row9_col6\" class=\"data row9 col6\" >0</td>\n",
       "      <td id=\"T_8c42f_row9_col7\" class=\"data row9 col7\" >0</td>\n",
       "      <td id=\"T_8c42f_row9_col8\" class=\"data row9 col8\" >0</td>\n",
       "      <td id=\"T_8c42f_row9_col9\" class=\"data row9 col9\" >0</td>\n",
       "      <td id=\"T_8c42f_row9_col10\" class=\"data row9 col10\" >0</td>\n",
       "      <td id=\"T_8c42f_row9_col11\" class=\"data row9 col11\" >0</td>\n",
       "      <td id=\"T_8c42f_row9_col12\" class=\"data row9 col12\" >116</td>\n",
       "      <td id=\"T_8c42f_row9_col13\" class=\"data row9 col13\" >248</td>\n",
       "      <td id=\"T_8c42f_row9_col14\" class=\"data row9 col14\" >253</td>\n",
       "      <td id=\"T_8c42f_row9_col15\" class=\"data row9 col15\" >253</td>\n",
       "      <td id=\"T_8c42f_row9_col16\" class=\"data row9 col16\" >253</td>\n",
       "      <td id=\"T_8c42f_row9_col17\" class=\"data row9 col17\" >84</td>\n",
       "      <td id=\"T_8c42f_row9_col18\" class=\"data row9 col18\" >0</td>\n",
       "      <td id=\"T_8c42f_row9_col19\" class=\"data row9 col19\" >0</td>\n",
       "      <td id=\"T_8c42f_row9_col20\" class=\"data row9 col20\" >0</td>\n",
       "      <td id=\"T_8c42f_row9_col21\" class=\"data row9 col21\" >0</td>\n",
       "      <td id=\"T_8c42f_row9_col22\" class=\"data row9 col22\" >0</td>\n",
       "      <td id=\"T_8c42f_row9_col23\" class=\"data row9 col23\" >0</td>\n",
       "      <td id=\"T_8c42f_row9_col24\" class=\"data row9 col24\" >0</td>\n",
       "      <td id=\"T_8c42f_row9_col25\" class=\"data row9 col25\" >0</td>\n",
       "      <td id=\"T_8c42f_row9_col26\" class=\"data row9 col26\" >0</td>\n",
       "      <td id=\"T_8c42f_row9_col27\" class=\"data row9 col27\" >0</td>\n",
       "    </tr>\n",
       "    <tr>\n",
       "      <th id=\"T_8c42f_level0_row10\" class=\"row_heading level0 row10\" >10</th>\n",
       "      <td id=\"T_8c42f_row10_col0\" class=\"data row10 col0\" >0</td>\n",
       "      <td id=\"T_8c42f_row10_col1\" class=\"data row10 col1\" >0</td>\n",
       "      <td id=\"T_8c42f_row10_col2\" class=\"data row10 col2\" >0</td>\n",
       "      <td id=\"T_8c42f_row10_col3\" class=\"data row10 col3\" >0</td>\n",
       "      <td id=\"T_8c42f_row10_col4\" class=\"data row10 col4\" >0</td>\n",
       "      <td id=\"T_8c42f_row10_col5\" class=\"data row10 col5\" >0</td>\n",
       "      <td id=\"T_8c42f_row10_col6\" class=\"data row10 col6\" >0</td>\n",
       "      <td id=\"T_8c42f_row10_col7\" class=\"data row10 col7\" >0</td>\n",
       "      <td id=\"T_8c42f_row10_col8\" class=\"data row10 col8\" >0</td>\n",
       "      <td id=\"T_8c42f_row10_col9\" class=\"data row10 col9\" >0</td>\n",
       "      <td id=\"T_8c42f_row10_col10\" class=\"data row10 col10\" >0</td>\n",
       "      <td id=\"T_8c42f_row10_col11\" class=\"data row10 col11\" >29</td>\n",
       "      <td id=\"T_8c42f_row10_col12\" class=\"data row10 col12\" >221</td>\n",
       "      <td id=\"T_8c42f_row10_col13\" class=\"data row10 col13\" >253</td>\n",
       "      <td id=\"T_8c42f_row10_col14\" class=\"data row10 col14\" >253</td>\n",
       "      <td id=\"T_8c42f_row10_col15\" class=\"data row10 col15\" >253</td>\n",
       "      <td id=\"T_8c42f_row10_col16\" class=\"data row10 col16\" >253</td>\n",
       "      <td id=\"T_8c42f_row10_col17\" class=\"data row10 col17\" >84</td>\n",
       "      <td id=\"T_8c42f_row10_col18\" class=\"data row10 col18\" >0</td>\n",
       "      <td id=\"T_8c42f_row10_col19\" class=\"data row10 col19\" >0</td>\n",
       "      <td id=\"T_8c42f_row10_col20\" class=\"data row10 col20\" >0</td>\n",
       "      <td id=\"T_8c42f_row10_col21\" class=\"data row10 col21\" >0</td>\n",
       "      <td id=\"T_8c42f_row10_col22\" class=\"data row10 col22\" >0</td>\n",
       "      <td id=\"T_8c42f_row10_col23\" class=\"data row10 col23\" >0</td>\n",
       "      <td id=\"T_8c42f_row10_col24\" class=\"data row10 col24\" >0</td>\n",
       "      <td id=\"T_8c42f_row10_col25\" class=\"data row10 col25\" >0</td>\n",
       "      <td id=\"T_8c42f_row10_col26\" class=\"data row10 col26\" >0</td>\n",
       "      <td id=\"T_8c42f_row10_col27\" class=\"data row10 col27\" >0</td>\n",
       "    </tr>\n",
       "    <tr>\n",
       "      <th id=\"T_8c42f_level0_row11\" class=\"row_heading level0 row11\" >11</th>\n",
       "      <td id=\"T_8c42f_row11_col0\" class=\"data row11 col0\" >0</td>\n",
       "      <td id=\"T_8c42f_row11_col1\" class=\"data row11 col1\" >0</td>\n",
       "      <td id=\"T_8c42f_row11_col2\" class=\"data row11 col2\" >0</td>\n",
       "      <td id=\"T_8c42f_row11_col3\" class=\"data row11 col3\" >0</td>\n",
       "      <td id=\"T_8c42f_row11_col4\" class=\"data row11 col4\" >0</td>\n",
       "      <td id=\"T_8c42f_row11_col5\" class=\"data row11 col5\" >0</td>\n",
       "      <td id=\"T_8c42f_row11_col6\" class=\"data row11 col6\" >0</td>\n",
       "      <td id=\"T_8c42f_row11_col7\" class=\"data row11 col7\" >0</td>\n",
       "      <td id=\"T_8c42f_row11_col8\" class=\"data row11 col8\" >0</td>\n",
       "      <td id=\"T_8c42f_row11_col9\" class=\"data row11 col9\" >0</td>\n",
       "      <td id=\"T_8c42f_row11_col10\" class=\"data row11 col10\" >29</td>\n",
       "      <td id=\"T_8c42f_row11_col11\" class=\"data row11 col11\" >204</td>\n",
       "      <td id=\"T_8c42f_row11_col12\" class=\"data row11 col12\" >253</td>\n",
       "      <td id=\"T_8c42f_row11_col13\" class=\"data row11 col13\" >253</td>\n",
       "      <td id=\"T_8c42f_row11_col14\" class=\"data row11 col14\" >253</td>\n",
       "      <td id=\"T_8c42f_row11_col15\" class=\"data row11 col15\" >253</td>\n",
       "      <td id=\"T_8c42f_row11_col16\" class=\"data row11 col16\" >253</td>\n",
       "      <td id=\"T_8c42f_row11_col17\" class=\"data row11 col17\" >84</td>\n",
       "      <td id=\"T_8c42f_row11_col18\" class=\"data row11 col18\" >0</td>\n",
       "      <td id=\"T_8c42f_row11_col19\" class=\"data row11 col19\" >0</td>\n",
       "      <td id=\"T_8c42f_row11_col20\" class=\"data row11 col20\" >0</td>\n",
       "      <td id=\"T_8c42f_row11_col21\" class=\"data row11 col21\" >0</td>\n",
       "      <td id=\"T_8c42f_row11_col22\" class=\"data row11 col22\" >0</td>\n",
       "      <td id=\"T_8c42f_row11_col23\" class=\"data row11 col23\" >0</td>\n",
       "      <td id=\"T_8c42f_row11_col24\" class=\"data row11 col24\" >0</td>\n",
       "      <td id=\"T_8c42f_row11_col25\" class=\"data row11 col25\" >0</td>\n",
       "      <td id=\"T_8c42f_row11_col26\" class=\"data row11 col26\" >0</td>\n",
       "      <td id=\"T_8c42f_row11_col27\" class=\"data row11 col27\" >0</td>\n",
       "    </tr>\n",
       "    <tr>\n",
       "      <th id=\"T_8c42f_level0_row12\" class=\"row_heading level0 row12\" >12</th>\n",
       "      <td id=\"T_8c42f_row12_col0\" class=\"data row12 col0\" >0</td>\n",
       "      <td id=\"T_8c42f_row12_col1\" class=\"data row12 col1\" >0</td>\n",
       "      <td id=\"T_8c42f_row12_col2\" class=\"data row12 col2\" >0</td>\n",
       "      <td id=\"T_8c42f_row12_col3\" class=\"data row12 col3\" >0</td>\n",
       "      <td id=\"T_8c42f_row12_col4\" class=\"data row12 col4\" >0</td>\n",
       "      <td id=\"T_8c42f_row12_col5\" class=\"data row12 col5\" >0</td>\n",
       "      <td id=\"T_8c42f_row12_col6\" class=\"data row12 col6\" >0</td>\n",
       "      <td id=\"T_8c42f_row12_col7\" class=\"data row12 col7\" >0</td>\n",
       "      <td id=\"T_8c42f_row12_col8\" class=\"data row12 col8\" >0</td>\n",
       "      <td id=\"T_8c42f_row12_col9\" class=\"data row12 col9\" >0</td>\n",
       "      <td id=\"T_8c42f_row12_col10\" class=\"data row12 col10\" >152</td>\n",
       "      <td id=\"T_8c42f_row12_col11\" class=\"data row12 col11\" >253</td>\n",
       "      <td id=\"T_8c42f_row12_col12\" class=\"data row12 col12\" >253</td>\n",
       "      <td id=\"T_8c42f_row12_col13\" class=\"data row12 col13\" >213</td>\n",
       "      <td id=\"T_8c42f_row12_col14\" class=\"data row12 col14\" >253</td>\n",
       "      <td id=\"T_8c42f_row12_col15\" class=\"data row12 col15\" >253</td>\n",
       "      <td id=\"T_8c42f_row12_col16\" class=\"data row12 col16\" >215</td>\n",
       "      <td id=\"T_8c42f_row12_col17\" class=\"data row12 col17\" >15</td>\n",
       "      <td id=\"T_8c42f_row12_col18\" class=\"data row12 col18\" >0</td>\n",
       "      <td id=\"T_8c42f_row12_col19\" class=\"data row12 col19\" >0</td>\n",
       "      <td id=\"T_8c42f_row12_col20\" class=\"data row12 col20\" >0</td>\n",
       "      <td id=\"T_8c42f_row12_col21\" class=\"data row12 col21\" >0</td>\n",
       "      <td id=\"T_8c42f_row12_col22\" class=\"data row12 col22\" >0</td>\n",
       "      <td id=\"T_8c42f_row12_col23\" class=\"data row12 col23\" >0</td>\n",
       "      <td id=\"T_8c42f_row12_col24\" class=\"data row12 col24\" >0</td>\n",
       "      <td id=\"T_8c42f_row12_col25\" class=\"data row12 col25\" >0</td>\n",
       "      <td id=\"T_8c42f_row12_col26\" class=\"data row12 col26\" >0</td>\n",
       "      <td id=\"T_8c42f_row12_col27\" class=\"data row12 col27\" >0</td>\n",
       "    </tr>\n",
       "    <tr>\n",
       "      <th id=\"T_8c42f_level0_row13\" class=\"row_heading level0 row13\" >13</th>\n",
       "      <td id=\"T_8c42f_row13_col0\" class=\"data row13 col0\" >0</td>\n",
       "      <td id=\"T_8c42f_row13_col1\" class=\"data row13 col1\" >0</td>\n",
       "      <td id=\"T_8c42f_row13_col2\" class=\"data row13 col2\" >0</td>\n",
       "      <td id=\"T_8c42f_row13_col3\" class=\"data row13 col3\" >0</td>\n",
       "      <td id=\"T_8c42f_row13_col4\" class=\"data row13 col4\" >0</td>\n",
       "      <td id=\"T_8c42f_row13_col5\" class=\"data row13 col5\" >0</td>\n",
       "      <td id=\"T_8c42f_row13_col6\" class=\"data row13 col6\" >0</td>\n",
       "      <td id=\"T_8c42f_row13_col7\" class=\"data row13 col7\" >0</td>\n",
       "      <td id=\"T_8c42f_row13_col8\" class=\"data row13 col8\" >0</td>\n",
       "      <td id=\"T_8c42f_row13_col9\" class=\"data row13 col9\" >0</td>\n",
       "      <td id=\"T_8c42f_row13_col10\" class=\"data row13 col10\" >18</td>\n",
       "      <td id=\"T_8c42f_row13_col11\" class=\"data row13 col11\" >158</td>\n",
       "      <td id=\"T_8c42f_row13_col12\" class=\"data row13 col12\" >78</td>\n",
       "      <td id=\"T_8c42f_row13_col13\" class=\"data row13 col13\" >77</td>\n",
       "      <td id=\"T_8c42f_row13_col14\" class=\"data row13 col14\" >253</td>\n",
       "      <td id=\"T_8c42f_row13_col15\" class=\"data row13 col15\" >253</td>\n",
       "      <td id=\"T_8c42f_row13_col16\" class=\"data row13 col16\" >207</td>\n",
       "      <td id=\"T_8c42f_row13_col17\" class=\"data row13 col17\" >0</td>\n",
       "      <td id=\"T_8c42f_row13_col18\" class=\"data row13 col18\" >0</td>\n",
       "      <td id=\"T_8c42f_row13_col19\" class=\"data row13 col19\" >0</td>\n",
       "      <td id=\"T_8c42f_row13_col20\" class=\"data row13 col20\" >0</td>\n",
       "      <td id=\"T_8c42f_row13_col21\" class=\"data row13 col21\" >0</td>\n",
       "      <td id=\"T_8c42f_row13_col22\" class=\"data row13 col22\" >0</td>\n",
       "      <td id=\"T_8c42f_row13_col23\" class=\"data row13 col23\" >0</td>\n",
       "      <td id=\"T_8c42f_row13_col24\" class=\"data row13 col24\" >0</td>\n",
       "      <td id=\"T_8c42f_row13_col25\" class=\"data row13 col25\" >0</td>\n",
       "      <td id=\"T_8c42f_row13_col26\" class=\"data row13 col26\" >0</td>\n",
       "      <td id=\"T_8c42f_row13_col27\" class=\"data row13 col27\" >0</td>\n",
       "    </tr>\n",
       "    <tr>\n",
       "      <th id=\"T_8c42f_level0_row14\" class=\"row_heading level0 row14\" >14</th>\n",
       "      <td id=\"T_8c42f_row14_col0\" class=\"data row14 col0\" >0</td>\n",
       "      <td id=\"T_8c42f_row14_col1\" class=\"data row14 col1\" >0</td>\n",
       "      <td id=\"T_8c42f_row14_col2\" class=\"data row14 col2\" >0</td>\n",
       "      <td id=\"T_8c42f_row14_col3\" class=\"data row14 col3\" >0</td>\n",
       "      <td id=\"T_8c42f_row14_col4\" class=\"data row14 col4\" >0</td>\n",
       "      <td id=\"T_8c42f_row14_col5\" class=\"data row14 col5\" >0</td>\n",
       "      <td id=\"T_8c42f_row14_col6\" class=\"data row14 col6\" >0</td>\n",
       "      <td id=\"T_8c42f_row14_col7\" class=\"data row14 col7\" >0</td>\n",
       "      <td id=\"T_8c42f_row14_col8\" class=\"data row14 col8\" >0</td>\n",
       "      <td id=\"T_8c42f_row14_col9\" class=\"data row14 col9\" >0</td>\n",
       "      <td id=\"T_8c42f_row14_col10\" class=\"data row14 col10\" >0</td>\n",
       "      <td id=\"T_8c42f_row14_col11\" class=\"data row14 col11\" >0</td>\n",
       "      <td id=\"T_8c42f_row14_col12\" class=\"data row14 col12\" >0</td>\n",
       "      <td id=\"T_8c42f_row14_col13\" class=\"data row14 col13\" >66</td>\n",
       "      <td id=\"T_8c42f_row14_col14\" class=\"data row14 col14\" >253</td>\n",
       "      <td id=\"T_8c42f_row14_col15\" class=\"data row14 col15\" >253</td>\n",
       "      <td id=\"T_8c42f_row14_col16\" class=\"data row14 col16\" >207</td>\n",
       "      <td id=\"T_8c42f_row14_col17\" class=\"data row14 col17\" >0</td>\n",
       "      <td id=\"T_8c42f_row14_col18\" class=\"data row14 col18\" >0</td>\n",
       "      <td id=\"T_8c42f_row14_col19\" class=\"data row14 col19\" >0</td>\n",
       "      <td id=\"T_8c42f_row14_col20\" class=\"data row14 col20\" >0</td>\n",
       "      <td id=\"T_8c42f_row14_col21\" class=\"data row14 col21\" >0</td>\n",
       "      <td id=\"T_8c42f_row14_col22\" class=\"data row14 col22\" >0</td>\n",
       "      <td id=\"T_8c42f_row14_col23\" class=\"data row14 col23\" >0</td>\n",
       "      <td id=\"T_8c42f_row14_col24\" class=\"data row14 col24\" >0</td>\n",
       "      <td id=\"T_8c42f_row14_col25\" class=\"data row14 col25\" >0</td>\n",
       "      <td id=\"T_8c42f_row14_col26\" class=\"data row14 col26\" >0</td>\n",
       "      <td id=\"T_8c42f_row14_col27\" class=\"data row14 col27\" >0</td>\n",
       "    </tr>\n",
       "    <tr>\n",
       "      <th id=\"T_8c42f_level0_row15\" class=\"row_heading level0 row15\" >15</th>\n",
       "      <td id=\"T_8c42f_row15_col0\" class=\"data row15 col0\" >0</td>\n",
       "      <td id=\"T_8c42f_row15_col1\" class=\"data row15 col1\" >0</td>\n",
       "      <td id=\"T_8c42f_row15_col2\" class=\"data row15 col2\" >0</td>\n",
       "      <td id=\"T_8c42f_row15_col3\" class=\"data row15 col3\" >0</td>\n",
       "      <td id=\"T_8c42f_row15_col4\" class=\"data row15 col4\" >0</td>\n",
       "      <td id=\"T_8c42f_row15_col5\" class=\"data row15 col5\" >0</td>\n",
       "      <td id=\"T_8c42f_row15_col6\" class=\"data row15 col6\" >0</td>\n",
       "      <td id=\"T_8c42f_row15_col7\" class=\"data row15 col7\" >0</td>\n",
       "      <td id=\"T_8c42f_row15_col8\" class=\"data row15 col8\" >0</td>\n",
       "      <td id=\"T_8c42f_row15_col9\" class=\"data row15 col9\" >0</td>\n",
       "      <td id=\"T_8c42f_row15_col10\" class=\"data row15 col10\" >0</td>\n",
       "      <td id=\"T_8c42f_row15_col11\" class=\"data row15 col11\" >0</td>\n",
       "      <td id=\"T_8c42f_row15_col12\" class=\"data row15 col12\" >0</td>\n",
       "      <td id=\"T_8c42f_row15_col13\" class=\"data row15 col13\" >163</td>\n",
       "      <td id=\"T_8c42f_row15_col14\" class=\"data row15 col14\" >253</td>\n",
       "      <td id=\"T_8c42f_row15_col15\" class=\"data row15 col15\" >253</td>\n",
       "      <td id=\"T_8c42f_row15_col16\" class=\"data row15 col16\" >207</td>\n",
       "      <td id=\"T_8c42f_row15_col17\" class=\"data row15 col17\" >0</td>\n",
       "      <td id=\"T_8c42f_row15_col18\" class=\"data row15 col18\" >0</td>\n",
       "      <td id=\"T_8c42f_row15_col19\" class=\"data row15 col19\" >0</td>\n",
       "      <td id=\"T_8c42f_row15_col20\" class=\"data row15 col20\" >0</td>\n",
       "      <td id=\"T_8c42f_row15_col21\" class=\"data row15 col21\" >0</td>\n",
       "      <td id=\"T_8c42f_row15_col22\" class=\"data row15 col22\" >0</td>\n",
       "      <td id=\"T_8c42f_row15_col23\" class=\"data row15 col23\" >0</td>\n",
       "      <td id=\"T_8c42f_row15_col24\" class=\"data row15 col24\" >0</td>\n",
       "      <td id=\"T_8c42f_row15_col25\" class=\"data row15 col25\" >0</td>\n",
       "      <td id=\"T_8c42f_row15_col26\" class=\"data row15 col26\" >0</td>\n",
       "      <td id=\"T_8c42f_row15_col27\" class=\"data row15 col27\" >0</td>\n",
       "    </tr>\n",
       "    <tr>\n",
       "      <th id=\"T_8c42f_level0_row16\" class=\"row_heading level0 row16\" >16</th>\n",
       "      <td id=\"T_8c42f_row16_col0\" class=\"data row16 col0\" >0</td>\n",
       "      <td id=\"T_8c42f_row16_col1\" class=\"data row16 col1\" >0</td>\n",
       "      <td id=\"T_8c42f_row16_col2\" class=\"data row16 col2\" >0</td>\n",
       "      <td id=\"T_8c42f_row16_col3\" class=\"data row16 col3\" >0</td>\n",
       "      <td id=\"T_8c42f_row16_col4\" class=\"data row16 col4\" >0</td>\n",
       "      <td id=\"T_8c42f_row16_col5\" class=\"data row16 col5\" >0</td>\n",
       "      <td id=\"T_8c42f_row16_col6\" class=\"data row16 col6\" >0</td>\n",
       "      <td id=\"T_8c42f_row16_col7\" class=\"data row16 col7\" >0</td>\n",
       "      <td id=\"T_8c42f_row16_col8\" class=\"data row16 col8\" >0</td>\n",
       "      <td id=\"T_8c42f_row16_col9\" class=\"data row16 col9\" >0</td>\n",
       "      <td id=\"T_8c42f_row16_col10\" class=\"data row16 col10\" >0</td>\n",
       "      <td id=\"T_8c42f_row16_col11\" class=\"data row16 col11\" >0</td>\n",
       "      <td id=\"T_8c42f_row16_col12\" class=\"data row16 col12\" >15</td>\n",
       "      <td id=\"T_8c42f_row16_col13\" class=\"data row16 col13\" >208</td>\n",
       "      <td id=\"T_8c42f_row16_col14\" class=\"data row16 col14\" >253</td>\n",
       "      <td id=\"T_8c42f_row16_col15\" class=\"data row16 col15\" >253</td>\n",
       "      <td id=\"T_8c42f_row16_col16\" class=\"data row16 col16\" >180</td>\n",
       "      <td id=\"T_8c42f_row16_col17\" class=\"data row16 col17\" >0</td>\n",
       "      <td id=\"T_8c42f_row16_col18\" class=\"data row16 col18\" >0</td>\n",
       "      <td id=\"T_8c42f_row16_col19\" class=\"data row16 col19\" >0</td>\n",
       "      <td id=\"T_8c42f_row16_col20\" class=\"data row16 col20\" >0</td>\n",
       "      <td id=\"T_8c42f_row16_col21\" class=\"data row16 col21\" >0</td>\n",
       "      <td id=\"T_8c42f_row16_col22\" class=\"data row16 col22\" >0</td>\n",
       "      <td id=\"T_8c42f_row16_col23\" class=\"data row16 col23\" >0</td>\n",
       "      <td id=\"T_8c42f_row16_col24\" class=\"data row16 col24\" >0</td>\n",
       "      <td id=\"T_8c42f_row16_col25\" class=\"data row16 col25\" >0</td>\n",
       "      <td id=\"T_8c42f_row16_col26\" class=\"data row16 col26\" >0</td>\n",
       "      <td id=\"T_8c42f_row16_col27\" class=\"data row16 col27\" >0</td>\n",
       "    </tr>\n",
       "    <tr>\n",
       "      <th id=\"T_8c42f_level0_row17\" class=\"row_heading level0 row17\" >17</th>\n",
       "      <td id=\"T_8c42f_row17_col0\" class=\"data row17 col0\" >0</td>\n",
       "      <td id=\"T_8c42f_row17_col1\" class=\"data row17 col1\" >0</td>\n",
       "      <td id=\"T_8c42f_row17_col2\" class=\"data row17 col2\" >0</td>\n",
       "      <td id=\"T_8c42f_row17_col3\" class=\"data row17 col3\" >0</td>\n",
       "      <td id=\"T_8c42f_row17_col4\" class=\"data row17 col4\" >0</td>\n",
       "      <td id=\"T_8c42f_row17_col5\" class=\"data row17 col5\" >0</td>\n",
       "      <td id=\"T_8c42f_row17_col6\" class=\"data row17 col6\" >0</td>\n",
       "      <td id=\"T_8c42f_row17_col7\" class=\"data row17 col7\" >0</td>\n",
       "      <td id=\"T_8c42f_row17_col8\" class=\"data row17 col8\" >0</td>\n",
       "      <td id=\"T_8c42f_row17_col9\" class=\"data row17 col9\" >0</td>\n",
       "      <td id=\"T_8c42f_row17_col10\" class=\"data row17 col10\" >0</td>\n",
       "      <td id=\"T_8c42f_row17_col11\" class=\"data row17 col11\" >0</td>\n",
       "      <td id=\"T_8c42f_row17_col12\" class=\"data row17 col12\" >96</td>\n",
       "      <td id=\"T_8c42f_row17_col13\" class=\"data row17 col13\" >253</td>\n",
       "      <td id=\"T_8c42f_row17_col14\" class=\"data row17 col14\" >253</td>\n",
       "      <td id=\"T_8c42f_row17_col15\" class=\"data row17 col15\" >253</td>\n",
       "      <td id=\"T_8c42f_row17_col16\" class=\"data row17 col16\" >78</td>\n",
       "      <td id=\"T_8c42f_row17_col17\" class=\"data row17 col17\" >0</td>\n",
       "      <td id=\"T_8c42f_row17_col18\" class=\"data row17 col18\" >0</td>\n",
       "      <td id=\"T_8c42f_row17_col19\" class=\"data row17 col19\" >0</td>\n",
       "      <td id=\"T_8c42f_row17_col20\" class=\"data row17 col20\" >0</td>\n",
       "      <td id=\"T_8c42f_row17_col21\" class=\"data row17 col21\" >0</td>\n",
       "      <td id=\"T_8c42f_row17_col22\" class=\"data row17 col22\" >0</td>\n",
       "      <td id=\"T_8c42f_row17_col23\" class=\"data row17 col23\" >0</td>\n",
       "      <td id=\"T_8c42f_row17_col24\" class=\"data row17 col24\" >0</td>\n",
       "      <td id=\"T_8c42f_row17_col25\" class=\"data row17 col25\" >0</td>\n",
       "      <td id=\"T_8c42f_row17_col26\" class=\"data row17 col26\" >0</td>\n",
       "      <td id=\"T_8c42f_row17_col27\" class=\"data row17 col27\" >0</td>\n",
       "    </tr>\n",
       "    <tr>\n",
       "      <th id=\"T_8c42f_level0_row18\" class=\"row_heading level0 row18\" >18</th>\n",
       "      <td id=\"T_8c42f_row18_col0\" class=\"data row18 col0\" >0</td>\n",
       "      <td id=\"T_8c42f_row18_col1\" class=\"data row18 col1\" >0</td>\n",
       "      <td id=\"T_8c42f_row18_col2\" class=\"data row18 col2\" >0</td>\n",
       "      <td id=\"T_8c42f_row18_col3\" class=\"data row18 col3\" >0</td>\n",
       "      <td id=\"T_8c42f_row18_col4\" class=\"data row18 col4\" >0</td>\n",
       "      <td id=\"T_8c42f_row18_col5\" class=\"data row18 col5\" >0</td>\n",
       "      <td id=\"T_8c42f_row18_col6\" class=\"data row18 col6\" >0</td>\n",
       "      <td id=\"T_8c42f_row18_col7\" class=\"data row18 col7\" >0</td>\n",
       "      <td id=\"T_8c42f_row18_col8\" class=\"data row18 col8\" >0</td>\n",
       "      <td id=\"T_8c42f_row18_col9\" class=\"data row18 col9\" >0</td>\n",
       "      <td id=\"T_8c42f_row18_col10\" class=\"data row18 col10\" >0</td>\n",
       "      <td id=\"T_8c42f_row18_col11\" class=\"data row18 col11\" >0</td>\n",
       "      <td id=\"T_8c42f_row18_col12\" class=\"data row18 col12\" >182</td>\n",
       "      <td id=\"T_8c42f_row18_col13\" class=\"data row18 col13\" >253</td>\n",
       "      <td id=\"T_8c42f_row18_col14\" class=\"data row18 col14\" >253</td>\n",
       "      <td id=\"T_8c42f_row18_col15\" class=\"data row18 col15\" >253</td>\n",
       "      <td id=\"T_8c42f_row18_col16\" class=\"data row18 col16\" >98</td>\n",
       "      <td id=\"T_8c42f_row18_col17\" class=\"data row18 col17\" >0</td>\n",
       "      <td id=\"T_8c42f_row18_col18\" class=\"data row18 col18\" >0</td>\n",
       "      <td id=\"T_8c42f_row18_col19\" class=\"data row18 col19\" >0</td>\n",
       "      <td id=\"T_8c42f_row18_col20\" class=\"data row18 col20\" >0</td>\n",
       "      <td id=\"T_8c42f_row18_col21\" class=\"data row18 col21\" >0</td>\n",
       "      <td id=\"T_8c42f_row18_col22\" class=\"data row18 col22\" >0</td>\n",
       "      <td id=\"T_8c42f_row18_col23\" class=\"data row18 col23\" >0</td>\n",
       "      <td id=\"T_8c42f_row18_col24\" class=\"data row18 col24\" >0</td>\n",
       "      <td id=\"T_8c42f_row18_col25\" class=\"data row18 col25\" >0</td>\n",
       "      <td id=\"T_8c42f_row18_col26\" class=\"data row18 col26\" >0</td>\n",
       "      <td id=\"T_8c42f_row18_col27\" class=\"data row18 col27\" >0</td>\n",
       "    </tr>\n",
       "    <tr>\n",
       "      <th id=\"T_8c42f_level0_row19\" class=\"row_heading level0 row19\" >19</th>\n",
       "      <td id=\"T_8c42f_row19_col0\" class=\"data row19 col0\" >0</td>\n",
       "      <td id=\"T_8c42f_row19_col1\" class=\"data row19 col1\" >0</td>\n",
       "      <td id=\"T_8c42f_row19_col2\" class=\"data row19 col2\" >0</td>\n",
       "      <td id=\"T_8c42f_row19_col3\" class=\"data row19 col3\" >0</td>\n",
       "      <td id=\"T_8c42f_row19_col4\" class=\"data row19 col4\" >0</td>\n",
       "      <td id=\"T_8c42f_row19_col5\" class=\"data row19 col5\" >0</td>\n",
       "      <td id=\"T_8c42f_row19_col6\" class=\"data row19 col6\" >0</td>\n",
       "      <td id=\"T_8c42f_row19_col7\" class=\"data row19 col7\" >0</td>\n",
       "      <td id=\"T_8c42f_row19_col8\" class=\"data row19 col8\" >0</td>\n",
       "      <td id=\"T_8c42f_row19_col9\" class=\"data row19 col9\" >0</td>\n",
       "      <td id=\"T_8c42f_row19_col10\" class=\"data row19 col10\" >0</td>\n",
       "      <td id=\"T_8c42f_row19_col11\" class=\"data row19 col11\" >0</td>\n",
       "      <td id=\"T_8c42f_row19_col12\" class=\"data row19 col12\" >72</td>\n",
       "      <td id=\"T_8c42f_row19_col13\" class=\"data row19 col13\" >253</td>\n",
       "      <td id=\"T_8c42f_row19_col14\" class=\"data row19 col14\" >253</td>\n",
       "      <td id=\"T_8c42f_row19_col15\" class=\"data row19 col15\" >253</td>\n",
       "      <td id=\"T_8c42f_row19_col16\" class=\"data row19 col16\" >207</td>\n",
       "      <td id=\"T_8c42f_row19_col17\" class=\"data row19 col17\" >0</td>\n",
       "      <td id=\"T_8c42f_row19_col18\" class=\"data row19 col18\" >0</td>\n",
       "      <td id=\"T_8c42f_row19_col19\" class=\"data row19 col19\" >0</td>\n",
       "      <td id=\"T_8c42f_row19_col20\" class=\"data row19 col20\" >0</td>\n",
       "      <td id=\"T_8c42f_row19_col21\" class=\"data row19 col21\" >0</td>\n",
       "      <td id=\"T_8c42f_row19_col22\" class=\"data row19 col22\" >0</td>\n",
       "      <td id=\"T_8c42f_row19_col23\" class=\"data row19 col23\" >0</td>\n",
       "      <td id=\"T_8c42f_row19_col24\" class=\"data row19 col24\" >0</td>\n",
       "      <td id=\"T_8c42f_row19_col25\" class=\"data row19 col25\" >0</td>\n",
       "      <td id=\"T_8c42f_row19_col26\" class=\"data row19 col26\" >0</td>\n",
       "      <td id=\"T_8c42f_row19_col27\" class=\"data row19 col27\" >0</td>\n",
       "    </tr>\n",
       "    <tr>\n",
       "      <th id=\"T_8c42f_level0_row20\" class=\"row_heading level0 row20\" >20</th>\n",
       "      <td id=\"T_8c42f_row20_col0\" class=\"data row20 col0\" >0</td>\n",
       "      <td id=\"T_8c42f_row20_col1\" class=\"data row20 col1\" >0</td>\n",
       "      <td id=\"T_8c42f_row20_col2\" class=\"data row20 col2\" >0</td>\n",
       "      <td id=\"T_8c42f_row20_col3\" class=\"data row20 col3\" >0</td>\n",
       "      <td id=\"T_8c42f_row20_col4\" class=\"data row20 col4\" >0</td>\n",
       "      <td id=\"T_8c42f_row20_col5\" class=\"data row20 col5\" >0</td>\n",
       "      <td id=\"T_8c42f_row20_col6\" class=\"data row20 col6\" >0</td>\n",
       "      <td id=\"T_8c42f_row20_col7\" class=\"data row20 col7\" >0</td>\n",
       "      <td id=\"T_8c42f_row20_col8\" class=\"data row20 col8\" >0</td>\n",
       "      <td id=\"T_8c42f_row20_col9\" class=\"data row20 col9\" >0</td>\n",
       "      <td id=\"T_8c42f_row20_col10\" class=\"data row20 col10\" >0</td>\n",
       "      <td id=\"T_8c42f_row20_col11\" class=\"data row20 col11\" >0</td>\n",
       "      <td id=\"T_8c42f_row20_col12\" class=\"data row20 col12\" >72</td>\n",
       "      <td id=\"T_8c42f_row20_col13\" class=\"data row20 col13\" >253</td>\n",
       "      <td id=\"T_8c42f_row20_col14\" class=\"data row20 col14\" >253</td>\n",
       "      <td id=\"T_8c42f_row20_col15\" class=\"data row20 col15\" >253</td>\n",
       "      <td id=\"T_8c42f_row20_col16\" class=\"data row20 col16\" >207</td>\n",
       "      <td id=\"T_8c42f_row20_col17\" class=\"data row20 col17\" >0</td>\n",
       "      <td id=\"T_8c42f_row20_col18\" class=\"data row20 col18\" >0</td>\n",
       "      <td id=\"T_8c42f_row20_col19\" class=\"data row20 col19\" >0</td>\n",
       "      <td id=\"T_8c42f_row20_col20\" class=\"data row20 col20\" >0</td>\n",
       "      <td id=\"T_8c42f_row20_col21\" class=\"data row20 col21\" >0</td>\n",
       "      <td id=\"T_8c42f_row20_col22\" class=\"data row20 col22\" >0</td>\n",
       "      <td id=\"T_8c42f_row20_col23\" class=\"data row20 col23\" >0</td>\n",
       "      <td id=\"T_8c42f_row20_col24\" class=\"data row20 col24\" >0</td>\n",
       "      <td id=\"T_8c42f_row20_col25\" class=\"data row20 col25\" >0</td>\n",
       "      <td id=\"T_8c42f_row20_col26\" class=\"data row20 col26\" >0</td>\n",
       "      <td id=\"T_8c42f_row20_col27\" class=\"data row20 col27\" >0</td>\n",
       "    </tr>\n",
       "    <tr>\n",
       "      <th id=\"T_8c42f_level0_row21\" class=\"row_heading level0 row21\" >21</th>\n",
       "      <td id=\"T_8c42f_row21_col0\" class=\"data row21 col0\" >0</td>\n",
       "      <td id=\"T_8c42f_row21_col1\" class=\"data row21 col1\" >0</td>\n",
       "      <td id=\"T_8c42f_row21_col2\" class=\"data row21 col2\" >0</td>\n",
       "      <td id=\"T_8c42f_row21_col3\" class=\"data row21 col3\" >0</td>\n",
       "      <td id=\"T_8c42f_row21_col4\" class=\"data row21 col4\" >0</td>\n",
       "      <td id=\"T_8c42f_row21_col5\" class=\"data row21 col5\" >0</td>\n",
       "      <td id=\"T_8c42f_row21_col6\" class=\"data row21 col6\" >0</td>\n",
       "      <td id=\"T_8c42f_row21_col7\" class=\"data row21 col7\" >0</td>\n",
       "      <td id=\"T_8c42f_row21_col8\" class=\"data row21 col8\" >0</td>\n",
       "      <td id=\"T_8c42f_row21_col9\" class=\"data row21 col9\" >0</td>\n",
       "      <td id=\"T_8c42f_row21_col10\" class=\"data row21 col10\" >0</td>\n",
       "      <td id=\"T_8c42f_row21_col11\" class=\"data row21 col11\" >0</td>\n",
       "      <td id=\"T_8c42f_row21_col12\" class=\"data row21 col12\" >72</td>\n",
       "      <td id=\"T_8c42f_row21_col13\" class=\"data row21 col13\" >253</td>\n",
       "      <td id=\"T_8c42f_row21_col14\" class=\"data row21 col14\" >253</td>\n",
       "      <td id=\"T_8c42f_row21_col15\" class=\"data row21 col15\" >253</td>\n",
       "      <td id=\"T_8c42f_row21_col16\" class=\"data row21 col16\" >207</td>\n",
       "      <td id=\"T_8c42f_row21_col17\" class=\"data row21 col17\" >0</td>\n",
       "      <td id=\"T_8c42f_row21_col18\" class=\"data row21 col18\" >0</td>\n",
       "      <td id=\"T_8c42f_row21_col19\" class=\"data row21 col19\" >0</td>\n",
       "      <td id=\"T_8c42f_row21_col20\" class=\"data row21 col20\" >0</td>\n",
       "      <td id=\"T_8c42f_row21_col21\" class=\"data row21 col21\" >0</td>\n",
       "      <td id=\"T_8c42f_row21_col22\" class=\"data row21 col22\" >0</td>\n",
       "      <td id=\"T_8c42f_row21_col23\" class=\"data row21 col23\" >0</td>\n",
       "      <td id=\"T_8c42f_row21_col24\" class=\"data row21 col24\" >0</td>\n",
       "      <td id=\"T_8c42f_row21_col25\" class=\"data row21 col25\" >0</td>\n",
       "      <td id=\"T_8c42f_row21_col26\" class=\"data row21 col26\" >0</td>\n",
       "      <td id=\"T_8c42f_row21_col27\" class=\"data row21 col27\" >0</td>\n",
       "    </tr>\n",
       "    <tr>\n",
       "      <th id=\"T_8c42f_level0_row22\" class=\"row_heading level0 row22\" >22</th>\n",
       "      <td id=\"T_8c42f_row22_col0\" class=\"data row22 col0\" >0</td>\n",
       "      <td id=\"T_8c42f_row22_col1\" class=\"data row22 col1\" >0</td>\n",
       "      <td id=\"T_8c42f_row22_col2\" class=\"data row22 col2\" >0</td>\n",
       "      <td id=\"T_8c42f_row22_col3\" class=\"data row22 col3\" >0</td>\n",
       "      <td id=\"T_8c42f_row22_col4\" class=\"data row22 col4\" >0</td>\n",
       "      <td id=\"T_8c42f_row22_col5\" class=\"data row22 col5\" >0</td>\n",
       "      <td id=\"T_8c42f_row22_col6\" class=\"data row22 col6\" >0</td>\n",
       "      <td id=\"T_8c42f_row22_col7\" class=\"data row22 col7\" >0</td>\n",
       "      <td id=\"T_8c42f_row22_col8\" class=\"data row22 col8\" >0</td>\n",
       "      <td id=\"T_8c42f_row22_col9\" class=\"data row22 col9\" >0</td>\n",
       "      <td id=\"T_8c42f_row22_col10\" class=\"data row22 col10\" >0</td>\n",
       "      <td id=\"T_8c42f_row22_col11\" class=\"data row22 col11\" >0</td>\n",
       "      <td id=\"T_8c42f_row22_col12\" class=\"data row22 col12\" >72</td>\n",
       "      <td id=\"T_8c42f_row22_col13\" class=\"data row22 col13\" >253</td>\n",
       "      <td id=\"T_8c42f_row22_col14\" class=\"data row22 col14\" >253</td>\n",
       "      <td id=\"T_8c42f_row22_col15\" class=\"data row22 col15\" >253</td>\n",
       "      <td id=\"T_8c42f_row22_col16\" class=\"data row22 col16\" >207</td>\n",
       "      <td id=\"T_8c42f_row22_col17\" class=\"data row22 col17\" >0</td>\n",
       "      <td id=\"T_8c42f_row22_col18\" class=\"data row22 col18\" >0</td>\n",
       "      <td id=\"T_8c42f_row22_col19\" class=\"data row22 col19\" >0</td>\n",
       "      <td id=\"T_8c42f_row22_col20\" class=\"data row22 col20\" >0</td>\n",
       "      <td id=\"T_8c42f_row22_col21\" class=\"data row22 col21\" >0</td>\n",
       "      <td id=\"T_8c42f_row22_col22\" class=\"data row22 col22\" >0</td>\n",
       "      <td id=\"T_8c42f_row22_col23\" class=\"data row22 col23\" >0</td>\n",
       "      <td id=\"T_8c42f_row22_col24\" class=\"data row22 col24\" >0</td>\n",
       "      <td id=\"T_8c42f_row22_col25\" class=\"data row22 col25\" >0</td>\n",
       "      <td id=\"T_8c42f_row22_col26\" class=\"data row22 col26\" >0</td>\n",
       "      <td id=\"T_8c42f_row22_col27\" class=\"data row22 col27\" >0</td>\n",
       "    </tr>\n",
       "    <tr>\n",
       "      <th id=\"T_8c42f_level0_row23\" class=\"row_heading level0 row23\" >23</th>\n",
       "      <td id=\"T_8c42f_row23_col0\" class=\"data row23 col0\" >0</td>\n",
       "      <td id=\"T_8c42f_row23_col1\" class=\"data row23 col1\" >0</td>\n",
       "      <td id=\"T_8c42f_row23_col2\" class=\"data row23 col2\" >0</td>\n",
       "      <td id=\"T_8c42f_row23_col3\" class=\"data row23 col3\" >0</td>\n",
       "      <td id=\"T_8c42f_row23_col4\" class=\"data row23 col4\" >0</td>\n",
       "      <td id=\"T_8c42f_row23_col5\" class=\"data row23 col5\" >0</td>\n",
       "      <td id=\"T_8c42f_row23_col6\" class=\"data row23 col6\" >0</td>\n",
       "      <td id=\"T_8c42f_row23_col7\" class=\"data row23 col7\" >0</td>\n",
       "      <td id=\"T_8c42f_row23_col8\" class=\"data row23 col8\" >0</td>\n",
       "      <td id=\"T_8c42f_row23_col9\" class=\"data row23 col9\" >0</td>\n",
       "      <td id=\"T_8c42f_row23_col10\" class=\"data row23 col10\" >0</td>\n",
       "      <td id=\"T_8c42f_row23_col11\" class=\"data row23 col11\" >0</td>\n",
       "      <td id=\"T_8c42f_row23_col12\" class=\"data row23 col12\" >33</td>\n",
       "      <td id=\"T_8c42f_row23_col13\" class=\"data row23 col13\" >219</td>\n",
       "      <td id=\"T_8c42f_row23_col14\" class=\"data row23 col14\" >253</td>\n",
       "      <td id=\"T_8c42f_row23_col15\" class=\"data row23 col15\" >252</td>\n",
       "      <td id=\"T_8c42f_row23_col16\" class=\"data row23 col16\" >135</td>\n",
       "      <td id=\"T_8c42f_row23_col17\" class=\"data row23 col17\" >0</td>\n",
       "      <td id=\"T_8c42f_row23_col18\" class=\"data row23 col18\" >0</td>\n",
       "      <td id=\"T_8c42f_row23_col19\" class=\"data row23 col19\" >0</td>\n",
       "      <td id=\"T_8c42f_row23_col20\" class=\"data row23 col20\" >0</td>\n",
       "      <td id=\"T_8c42f_row23_col21\" class=\"data row23 col21\" >0</td>\n",
       "      <td id=\"T_8c42f_row23_col22\" class=\"data row23 col22\" >0</td>\n",
       "      <td id=\"T_8c42f_row23_col23\" class=\"data row23 col23\" >0</td>\n",
       "      <td id=\"T_8c42f_row23_col24\" class=\"data row23 col24\" >0</td>\n",
       "      <td id=\"T_8c42f_row23_col25\" class=\"data row23 col25\" >0</td>\n",
       "      <td id=\"T_8c42f_row23_col26\" class=\"data row23 col26\" >0</td>\n",
       "      <td id=\"T_8c42f_row23_col27\" class=\"data row23 col27\" >0</td>\n",
       "    </tr>\n",
       "    <tr>\n",
       "      <th id=\"T_8c42f_level0_row24\" class=\"row_heading level0 row24\" >24</th>\n",
       "      <td id=\"T_8c42f_row24_col0\" class=\"data row24 col0\" >0</td>\n",
       "      <td id=\"T_8c42f_row24_col1\" class=\"data row24 col1\" >0</td>\n",
       "      <td id=\"T_8c42f_row24_col2\" class=\"data row24 col2\" >0</td>\n",
       "      <td id=\"T_8c42f_row24_col3\" class=\"data row24 col3\" >0</td>\n",
       "      <td id=\"T_8c42f_row24_col4\" class=\"data row24 col4\" >0</td>\n",
       "      <td id=\"T_8c42f_row24_col5\" class=\"data row24 col5\" >0</td>\n",
       "      <td id=\"T_8c42f_row24_col6\" class=\"data row24 col6\" >0</td>\n",
       "      <td id=\"T_8c42f_row24_col7\" class=\"data row24 col7\" >0</td>\n",
       "      <td id=\"T_8c42f_row24_col8\" class=\"data row24 col8\" >0</td>\n",
       "      <td id=\"T_8c42f_row24_col9\" class=\"data row24 col9\" >0</td>\n",
       "      <td id=\"T_8c42f_row24_col10\" class=\"data row24 col10\" >0</td>\n",
       "      <td id=\"T_8c42f_row24_col11\" class=\"data row24 col11\" >0</td>\n",
       "      <td id=\"T_8c42f_row24_col12\" class=\"data row24 col12\" >0</td>\n",
       "      <td id=\"T_8c42f_row24_col13\" class=\"data row24 col13\" >66</td>\n",
       "      <td id=\"T_8c42f_row24_col14\" class=\"data row24 col14\" >253</td>\n",
       "      <td id=\"T_8c42f_row24_col15\" class=\"data row24 col15\" >133</td>\n",
       "      <td id=\"T_8c42f_row24_col16\" class=\"data row24 col16\" >0</td>\n",
       "      <td id=\"T_8c42f_row24_col17\" class=\"data row24 col17\" >0</td>\n",
       "      <td id=\"T_8c42f_row24_col18\" class=\"data row24 col18\" >0</td>\n",
       "      <td id=\"T_8c42f_row24_col19\" class=\"data row24 col19\" >0</td>\n",
       "      <td id=\"T_8c42f_row24_col20\" class=\"data row24 col20\" >0</td>\n",
       "      <td id=\"T_8c42f_row24_col21\" class=\"data row24 col21\" >0</td>\n",
       "      <td id=\"T_8c42f_row24_col22\" class=\"data row24 col22\" >0</td>\n",
       "      <td id=\"T_8c42f_row24_col23\" class=\"data row24 col23\" >0</td>\n",
       "      <td id=\"T_8c42f_row24_col24\" class=\"data row24 col24\" >0</td>\n",
       "      <td id=\"T_8c42f_row24_col25\" class=\"data row24 col25\" >0</td>\n",
       "      <td id=\"T_8c42f_row24_col26\" class=\"data row24 col26\" >0</td>\n",
       "      <td id=\"T_8c42f_row24_col27\" class=\"data row24 col27\" >0</td>\n",
       "    </tr>\n",
       "    <tr>\n",
       "      <th id=\"T_8c42f_level0_row25\" class=\"row_heading level0 row25\" >25</th>\n",
       "      <td id=\"T_8c42f_row25_col0\" class=\"data row25 col0\" >0</td>\n",
       "      <td id=\"T_8c42f_row25_col1\" class=\"data row25 col1\" >0</td>\n",
       "      <td id=\"T_8c42f_row25_col2\" class=\"data row25 col2\" >0</td>\n",
       "      <td id=\"T_8c42f_row25_col3\" class=\"data row25 col3\" >0</td>\n",
       "      <td id=\"T_8c42f_row25_col4\" class=\"data row25 col4\" >0</td>\n",
       "      <td id=\"T_8c42f_row25_col5\" class=\"data row25 col5\" >0</td>\n",
       "      <td id=\"T_8c42f_row25_col6\" class=\"data row25 col6\" >0</td>\n",
       "      <td id=\"T_8c42f_row25_col7\" class=\"data row25 col7\" >0</td>\n",
       "      <td id=\"T_8c42f_row25_col8\" class=\"data row25 col8\" >0</td>\n",
       "      <td id=\"T_8c42f_row25_col9\" class=\"data row25 col9\" >0</td>\n",
       "      <td id=\"T_8c42f_row25_col10\" class=\"data row25 col10\" >0</td>\n",
       "      <td id=\"T_8c42f_row25_col11\" class=\"data row25 col11\" >0</td>\n",
       "      <td id=\"T_8c42f_row25_col12\" class=\"data row25 col12\" >0</td>\n",
       "      <td id=\"T_8c42f_row25_col13\" class=\"data row25 col13\" >0</td>\n",
       "      <td id=\"T_8c42f_row25_col14\" class=\"data row25 col14\" >0</td>\n",
       "      <td id=\"T_8c42f_row25_col15\" class=\"data row25 col15\" >0</td>\n",
       "      <td id=\"T_8c42f_row25_col16\" class=\"data row25 col16\" >0</td>\n",
       "      <td id=\"T_8c42f_row25_col17\" class=\"data row25 col17\" >0</td>\n",
       "      <td id=\"T_8c42f_row25_col18\" class=\"data row25 col18\" >0</td>\n",
       "      <td id=\"T_8c42f_row25_col19\" class=\"data row25 col19\" >0</td>\n",
       "      <td id=\"T_8c42f_row25_col20\" class=\"data row25 col20\" >0</td>\n",
       "      <td id=\"T_8c42f_row25_col21\" class=\"data row25 col21\" >0</td>\n",
       "      <td id=\"T_8c42f_row25_col22\" class=\"data row25 col22\" >0</td>\n",
       "      <td id=\"T_8c42f_row25_col23\" class=\"data row25 col23\" >0</td>\n",
       "      <td id=\"T_8c42f_row25_col24\" class=\"data row25 col24\" >0</td>\n",
       "      <td id=\"T_8c42f_row25_col25\" class=\"data row25 col25\" >0</td>\n",
       "      <td id=\"T_8c42f_row25_col26\" class=\"data row25 col26\" >0</td>\n",
       "      <td id=\"T_8c42f_row25_col27\" class=\"data row25 col27\" >0</td>\n",
       "    </tr>\n",
       "    <tr>\n",
       "      <th id=\"T_8c42f_level0_row26\" class=\"row_heading level0 row26\" >26</th>\n",
       "      <td id=\"T_8c42f_row26_col0\" class=\"data row26 col0\" >0</td>\n",
       "      <td id=\"T_8c42f_row26_col1\" class=\"data row26 col1\" >0</td>\n",
       "      <td id=\"T_8c42f_row26_col2\" class=\"data row26 col2\" >0</td>\n",
       "      <td id=\"T_8c42f_row26_col3\" class=\"data row26 col3\" >0</td>\n",
       "      <td id=\"T_8c42f_row26_col4\" class=\"data row26 col4\" >0</td>\n",
       "      <td id=\"T_8c42f_row26_col5\" class=\"data row26 col5\" >0</td>\n",
       "      <td id=\"T_8c42f_row26_col6\" class=\"data row26 col6\" >0</td>\n",
       "      <td id=\"T_8c42f_row26_col7\" class=\"data row26 col7\" >0</td>\n",
       "      <td id=\"T_8c42f_row26_col8\" class=\"data row26 col8\" >0</td>\n",
       "      <td id=\"T_8c42f_row26_col9\" class=\"data row26 col9\" >0</td>\n",
       "      <td id=\"T_8c42f_row26_col10\" class=\"data row26 col10\" >0</td>\n",
       "      <td id=\"T_8c42f_row26_col11\" class=\"data row26 col11\" >0</td>\n",
       "      <td id=\"T_8c42f_row26_col12\" class=\"data row26 col12\" >0</td>\n",
       "      <td id=\"T_8c42f_row26_col13\" class=\"data row26 col13\" >0</td>\n",
       "      <td id=\"T_8c42f_row26_col14\" class=\"data row26 col14\" >0</td>\n",
       "      <td id=\"T_8c42f_row26_col15\" class=\"data row26 col15\" >0</td>\n",
       "      <td id=\"T_8c42f_row26_col16\" class=\"data row26 col16\" >0</td>\n",
       "      <td id=\"T_8c42f_row26_col17\" class=\"data row26 col17\" >0</td>\n",
       "      <td id=\"T_8c42f_row26_col18\" class=\"data row26 col18\" >0</td>\n",
       "      <td id=\"T_8c42f_row26_col19\" class=\"data row26 col19\" >0</td>\n",
       "      <td id=\"T_8c42f_row26_col20\" class=\"data row26 col20\" >0</td>\n",
       "      <td id=\"T_8c42f_row26_col21\" class=\"data row26 col21\" >0</td>\n",
       "      <td id=\"T_8c42f_row26_col22\" class=\"data row26 col22\" >0</td>\n",
       "      <td id=\"T_8c42f_row26_col23\" class=\"data row26 col23\" >0</td>\n",
       "      <td id=\"T_8c42f_row26_col24\" class=\"data row26 col24\" >0</td>\n",
       "      <td id=\"T_8c42f_row26_col25\" class=\"data row26 col25\" >0</td>\n",
       "      <td id=\"T_8c42f_row26_col26\" class=\"data row26 col26\" >0</td>\n",
       "      <td id=\"T_8c42f_row26_col27\" class=\"data row26 col27\" >0</td>\n",
       "    </tr>\n",
       "    <tr>\n",
       "      <th id=\"T_8c42f_level0_row27\" class=\"row_heading level0 row27\" >27</th>\n",
       "      <td id=\"T_8c42f_row27_col0\" class=\"data row27 col0\" >0</td>\n",
       "      <td id=\"T_8c42f_row27_col1\" class=\"data row27 col1\" >0</td>\n",
       "      <td id=\"T_8c42f_row27_col2\" class=\"data row27 col2\" >0</td>\n",
       "      <td id=\"T_8c42f_row27_col3\" class=\"data row27 col3\" >0</td>\n",
       "      <td id=\"T_8c42f_row27_col4\" class=\"data row27 col4\" >0</td>\n",
       "      <td id=\"T_8c42f_row27_col5\" class=\"data row27 col5\" >0</td>\n",
       "      <td id=\"T_8c42f_row27_col6\" class=\"data row27 col6\" >0</td>\n",
       "      <td id=\"T_8c42f_row27_col7\" class=\"data row27 col7\" >0</td>\n",
       "      <td id=\"T_8c42f_row27_col8\" class=\"data row27 col8\" >0</td>\n",
       "      <td id=\"T_8c42f_row27_col9\" class=\"data row27 col9\" >0</td>\n",
       "      <td id=\"T_8c42f_row27_col10\" class=\"data row27 col10\" >0</td>\n",
       "      <td id=\"T_8c42f_row27_col11\" class=\"data row27 col11\" >0</td>\n",
       "      <td id=\"T_8c42f_row27_col12\" class=\"data row27 col12\" >0</td>\n",
       "      <td id=\"T_8c42f_row27_col13\" class=\"data row27 col13\" >0</td>\n",
       "      <td id=\"T_8c42f_row27_col14\" class=\"data row27 col14\" >0</td>\n",
       "      <td id=\"T_8c42f_row27_col15\" class=\"data row27 col15\" >0</td>\n",
       "      <td id=\"T_8c42f_row27_col16\" class=\"data row27 col16\" >0</td>\n",
       "      <td id=\"T_8c42f_row27_col17\" class=\"data row27 col17\" >0</td>\n",
       "      <td id=\"T_8c42f_row27_col18\" class=\"data row27 col18\" >0</td>\n",
       "      <td id=\"T_8c42f_row27_col19\" class=\"data row27 col19\" >0</td>\n",
       "      <td id=\"T_8c42f_row27_col20\" class=\"data row27 col20\" >0</td>\n",
       "      <td id=\"T_8c42f_row27_col21\" class=\"data row27 col21\" >0</td>\n",
       "      <td id=\"T_8c42f_row27_col22\" class=\"data row27 col22\" >0</td>\n",
       "      <td id=\"T_8c42f_row27_col23\" class=\"data row27 col23\" >0</td>\n",
       "      <td id=\"T_8c42f_row27_col24\" class=\"data row27 col24\" >0</td>\n",
       "      <td id=\"T_8c42f_row27_col25\" class=\"data row27 col25\" >0</td>\n",
       "      <td id=\"T_8c42f_row27_col26\" class=\"data row27 col26\" >0</td>\n",
       "      <td id=\"T_8c42f_row27_col27\" class=\"data row27 col27\" >0</td>\n",
       "    </tr>\n",
       "  </tbody>\n",
       "</table>\n"
      ],
      "text/plain": [
       "<pandas.io.formats.style.Styler at 0x7fe15877ef50>"
      ]
     },
     "execution_count": 10,
     "metadata": {},
     "output_type": "execute_result"
    }
   ],
   "source": [
    "# Create a dataframe colour map of image\n",
    "imt = tensor(im)\n",
    "df = pd.DataFrame(imt)\n",
    "df.style.set_properties(**{'font-size':'6pt'}).background_gradient('Greys')"
   ]
  },
  {
   "cell_type": "markdown",
   "metadata": {
    "id": "E63yDcwgRNvt"
   },
   "source": [
    "# Baseline\n",
    "\n",
    "We will create a baseline calculation to check what the number is. We will be calculating the average digit by calculating the average for each position in the image."
   ]
  },
  {
   "cell_type": "code",
   "execution_count": 11,
   "metadata": {},
   "outputs": [
    {
     "data": {
      "text/plain": [
       "(#5923) [Path('training/0/16585.png'),Path('training/0/24537.png'),Path('training/0/25629.png'),Path('training/0/20751.png'),Path('training/0/34730.png'),Path('training/0/15926.png'),Path('training/0/22152.png'),Path('training/0/35348.png'),Path('training/0/22634.png'),Path('training/0/6819.png')...]"
      ]
     },
     "execution_count": 11,
     "metadata": {},
     "output_type": "execute_result"
    }
   ],
   "source": [
    "train_nums_paths[0]"
   ]
  },
  {
   "cell_type": "code",
   "execution_count": 12,
   "metadata": {
    "colab": {
     "base_uri": "https://localhost:8080/"
    },
    "id": "3BFOg8uZRWdy",
    "outputId": "f7037180-083c-49f6-a269-dc002ea91eaf"
   },
   "outputs": [],
   "source": [
    "# Create a list of tensors\n",
    "train_nums_tens = []\n",
    "\n",
    "for p in train_nums_paths:\n",
    "    train_nums_tens.append([tensor(Image.open(i)) for i in p])"
   ]
  },
  {
   "cell_type": "code",
   "execution_count": 13,
   "metadata": {},
   "outputs": [
    {
     "data": {
      "image/png": "[encoded data removed]",
      "text/plain": [
       "<Figure size 72x72 with 1 Axes>"
      ]
     },
     "metadata": {
      "needs_background": "light"
     },
     "output_type": "display_data"
    },
    {
     "data": {
      "image/png": "[encoded data removed]",
      "text/plain": [
       "<Figure size 72x72 with 1 Axes>"
      ]
     },
     "metadata": {
      "needs_background": "light"
     },
     "output_type": "display_data"
    },
    {
     "data": {
      "image/png": "[encoded data removed]",
      "text/plain": [
       "<Figure size 72x72 with 1 Axes>"
      ]
     },
     "metadata": {
      "needs_background": "light"
     },
     "output_type": "display_data"
    },
    {
     "data": {
      "image/png": "[encoded data removed]",
      "text/plain": [
       "<Figure size 72x72 with 1 Axes>"
      ]
     },
     "metadata": {
      "needs_background": "light"
     },
     "output_type": "display_data"
    },
    {
     "data": {
      "image/png": "[encoded data removed]",
      "text/plain": [
       "<Figure size 72x72 with 1 Axes>"
      ]
     },
     "metadata": {
      "needs_background": "light"
     },
     "output_type": "display_data"
    },
    {
     "data": {
      "image/png": "[encoded data removed]",
      "text/plain": [
       "<Figure size 72x72 with 1 Axes>"
      ]
     },
     "metadata": {
      "needs_background": "light"
     },
     "output_type": "display_data"
    },
    {
     "data": {
      "image/png": "[encoded data removed]",
      "text/plain": [
       "<Figure size 72x72 with 1 Axes>"
      ]
     },
     "metadata": {
      "needs_background": "light"
     },
     "output_type": "display_data"
    },
    {
     "data": {
      "image/png": "[encoded data removed]",
      "text/plain": [
       "<Figure size 72x72 with 1 Axes>"
      ]
     },
     "metadata": {
      "needs_background": "light"
     },
     "output_type": "display_data"
    },
    {
     "data": {
      "image/png": "[encoded data removed]",
      "text/plain": [
       "<Figure size 72x72 with 1 Axes>"
      ]
     },
     "metadata": {
      "needs_background": "light"
     },
     "output_type": "display_data"
    },
    {
     "data": {
      "image/png": "[encoded data removed]",
      "text/plain": [
       "<Figure size 72x72 with 1 Axes>"
      ]
     },
     "metadata": {
      "needs_background": "light"
     },
     "output_type": "display_data"
    }
   ],
   "source": [
    "# Review the list of tensors\n",
    "for i in train_nums_tens:\n",
    "    show_image(i[np.random.randint(0,len(i))])"
   ]
  },
  {
   "cell_type": "code",
   "execution_count": 14,
   "metadata": {
    "colab": {
     "base_uri": "https://localhost:8080/"
    },
    "id": "aj9megNVT8s8",
    "outputId": "cbff2b46-dd69-4ebf-a642-84879bbeadbc"
   },
   "outputs": [
    {
     "data": {
      "text/plain": [
       "[torch.Size([5923, 28, 28]),\n",
       " torch.Size([6742, 28, 28]),\n",
       " torch.Size([5958, 28, 28]),\n",
       " torch.Size([6131, 28, 28]),\n",
       " torch.Size([5842, 28, 28]),\n",
       " torch.Size([5421, 28, 28]),\n",
       " torch.Size([5918, 28, 28]),\n",
       " torch.Size([6265, 28, 28]),\n",
       " torch.Size([5851, 28, 28]),\n",
       " torch.Size([5949, 28, 28])]"
      ]
     },
     "execution_count": 14,
     "metadata": {},
     "output_type": "execute_result"
    }
   ],
   "source": [
    "# Stack the tensors and normalise them between 0 and 1\n",
    "train_stacked_nums = []\n",
    "for i in train_nums_tens:\n",
    "    train_stacked_nums.append(torch.stack(i).float()/255)\n",
    "\n",
    "[i.shape for i in train_stacked_nums]"
   ]
  },
  {
   "cell_type": "code",
   "execution_count": 15,
   "metadata": {},
   "outputs": [
    {
     "data": {
      "text/plain": [
       "array([ True,  True,  True,  True,  True,  True,  True,  True,  True,  True])"
      ]
     },
     "execution_count": 15,
     "metadata": {},
     "output_type": "execute_result"
    }
   ],
   "source": [
    "# Check the stacked tensors size against the number of images in the train folder\n",
    "np.array([i.shape[0] for i in train_stacked_nums])==np.array([len(i) for i in train_nums_paths])"
   ]
  },
  {
   "cell_type": "code",
   "execution_count": 16,
   "metadata": {
    "colab": {
     "base_uri": "https://localhost:8080/"
    },
    "id": "5oKiLYYmW4ND",
    "outputId": "13fcc632-e577-4e96-b651-6072649e2c29"
   },
   "outputs": [
    {
     "data": {
      "text/plain": [
       "[3, 3, 3, 3, 3, 3, 3, 3, 3, 3]"
      ]
     },
     "execution_count": 16,
     "metadata": {},
     "output_type": "execute_result"
    }
   ],
   "source": [
    "# Review rank of tensor\n",
    "[i.ndim for i in train_stacked_nums]"
   ]
  },
  {
   "cell_type": "code",
   "execution_count": 17,
   "metadata": {
    "id": "GM_baLSJXUh0"
   },
   "outputs": [],
   "source": [
    "# Calculate the average number accross all images\n",
    "nums_means = [i.mean(axis=0) for i in train_stacked_nums]\n",
    "nums_means_tensor = torch.stack(nums_means,dim=0)"
   ]
  },
  {
   "cell_type": "code",
   "execution_count": 18,
   "metadata": {
    "colab": {
     "base_uri": "https://localhost:8080/",
     "height": 54
    },
    "id": "EIa5RqdubX86",
    "outputId": "1b316281-e884-474d-8b0b-538027fdf56e"
   },
   "outputs": [
    {
     "data": {
      "image/png": "[encoded data removed]",
      "text/plain": [
       "<Figure size 72x72 with 1 Axes>"
      ]
     },
     "metadata": {
      "needs_background": "light"
     },
     "output_type": "display_data"
    },
    {
     "data": {
      "image/png": "[encoded data removed]",
      "text/plain": [
       "<Figure size 72x72 with 1 Axes>"
      ]
     },
     "metadata": {
      "needs_background": "light"
     },
     "output_type": "display_data"
    },
    {
     "data": {
      "image/png": "[encoded data removed]",
      "text/plain": [
       "<Figure size 72x72 with 1 Axes>"
      ]
     },
     "metadata": {
      "needs_background": "light"
     },
     "output_type": "display_data"
    },
    {
     "data": {
      "image/png": "[encoded data removed]",
      "text/plain": [
       "<Figure size 72x72 with 1 Axes>"
      ]
     },
     "metadata": {
      "needs_background": "light"
     },
     "output_type": "display_data"
    },
    {
     "data": {
      "image/png": "[encoded data removed]",
      "text/plain": [
       "<Figure size 72x72 with 1 Axes>"
      ]
     },
     "metadata": {
      "needs_background": "light"
     },
     "output_type": "display_data"
    },
    {
     "data": {
      "image/png": "[encoded data removed]",
      "text/plain": [
       "<Figure size 72x72 with 1 Axes>"
      ]
     },
     "metadata": {
      "needs_background": "light"
     },
     "output_type": "display_data"
    },
    {
     "data": {
      "image/png": "[encoded data removed]",
      "text/plain": [
       "<Figure size 72x72 with 1 Axes>"
      ]
     },
     "metadata": {
      "needs_background": "light"
     },
     "output_type": "display_data"
    },
    {
     "data": {
      "image/png": "[encoded data removed]",
      "text/plain": [
       "<Figure size 72x72 with 1 Axes>"
      ]
     },
     "metadata": {
      "needs_background": "light"
     },
     "output_type": "display_data"
    },
    {
     "data": {
      "image/png": "[encoded data removed]",
      "text/plain": [
       "<Figure size 72x72 with 1 Axes>"
      ]
     },
     "metadata": {
      "needs_background": "light"
     },
     "output_type": "display_data"
    },
    {
     "data": {
      "image/png": "[encoded data removed]",
      "text/plain": [
       "<Figure size 72x72 with 1 Axes>"
      ]
     },
     "metadata": {
      "needs_background": "light"
     },
     "output_type": "display_data"
    }
   ],
   "source": [
    "# Display means\n",
    "for i in nums_means:\n",
    "    show_image(i)"
   ]
  },
  {
   "cell_type": "markdown",
   "metadata": {
    "id": "i2xElbHNzM8a"
   },
   "source": [
    "## Deviation from baseline"
   ]
  },
  {
   "cell_type": "markdown",
   "metadata": {
    "id": "afiHAQ6CE7f6",
    "tags": []
   },
   "source": [
    "### Train data"
   ]
  },
  {
   "cell_type": "markdown",
   "metadata": {},
   "source": [
    "We'll calculate the L1 and L2 norms for sample numbers in the training dataset. \n",
    "\n",
    "Mean absolute difference is called the L1 norm. Root mean squared error is called the L2 norm.  "
   ]
  },
  {
   "cell_type": "code",
   "execution_count": 19,
   "metadata": {
    "tags": []
   },
   "outputs": [
    {
     "data": {
      "image/png": "[encoded data removed]",
      "text/plain": [
       "<Figure size 72x72 with 1 Axes>"
      ]
     },
     "metadata": {
      "needs_background": "light"
     },
     "output_type": "display_data"
    },
    {
     "data": {
      "image/png": "[encoded data removed]",
      "text/plain": [
       "<Figure size 72x72 with 1 Axes>"
      ]
     },
     "metadata": {
      "needs_background": "light"
     },
     "output_type": "display_data"
    },
    {
     "data": {
      "image/png": "[encoded data removed]",
      "text/plain": [
       "<Figure size 72x72 with 1 Axes>"
      ]
     },
     "metadata": {
      "needs_background": "light"
     },
     "output_type": "display_data"
    },
    {
     "data": {
      "image/png": "[encoded data removed]",
      "text/plain": [
       "<Figure size 72x72 with 1 Axes>"
      ]
     },
     "metadata": {
      "needs_background": "light"
     },
     "output_type": "display_data"
    },
    {
     "data": {
      "image/png": "[encoded data removed]",
      "text/plain": [
       "<Figure size 72x72 with 1 Axes>"
      ]
     },
     "metadata": {
      "needs_background": "light"
     },
     "output_type": "display_data"
    },
    {
     "data": {
      "image/png": "[encoded data removed]",
      "text/plain": [
       "<Figure size 72x72 with 1 Axes>"
      ]
     },
     "metadata": {
      "needs_background": "light"
     },
     "output_type": "display_data"
    },
    {
     "data": {
      "image/png": "[encoded data removed]",
      "text/plain": [
       "<Figure size 72x72 with 1 Axes>"
      ]
     },
     "metadata": {
      "needs_background": "light"
     },
     "output_type": "display_data"
    },
    {
     "data": {
      "image/png": "[encoded data removed]",
      "text/plain": [
       "<Figure size 72x72 with 1 Axes>"
      ]
     },
     "metadata": {
      "needs_background": "light"
     },
     "output_type": "display_data"
    },
    {
     "data": {
      "image/png": "[encoded data removed]",
      "text/plain": [
       "<Figure size 72x72 with 1 Axes>"
      ]
     },
     "metadata": {
      "needs_background": "light"
     },
     "output_type": "display_data"
    },
    {
     "data": {
      "image/png": "[encoded data removed]",
      "text/plain": [
       "<Figure size 72x72 with 1 Axes>"
      ]
     },
     "metadata": {
      "needs_background": "light"
     },
     "output_type": "display_data"
    }
   ],
   "source": [
    "# Create samples tensor\n",
    "s1 = [i[np.random.randint(len(i))] for i in train_stacked_nums]\n",
    "samples = torch.stack(s1,dim=0)\n",
    "for i in samples:\n",
    "    show_image(i)"
   ]
  },
  {
   "cell_type": "code",
   "execution_count": 20,
   "metadata": {},
   "outputs": [
    {
     "data": {
      "text/plain": [
       "tensor([0.1372, 0.1935, 0.2175, 0.1874, 0.2012, 0.1657, 0.2025, 0.1942, 0.1951, 0.1919])"
      ]
     },
     "execution_count": 20,
     "metadata": {},
     "output_type": "execute_result"
    }
   ],
   "source": [
    "torch.FloatTensor([(samples[0]-i).abs().mean().item() for i in nums_means_tensor])"
   ]
  },
  {
   "cell_type": "code",
   "execution_count": 21,
   "metadata": {},
   "outputs": [
    {
     "name": "stdout",
     "output_type": "stream",
     "text": [
      "L1\n"
     ]
    },
    {
     "data": {
      "text/plain": [
       "tensor([[0.1372, 0.1935, 0.2175, 0.1874, 0.2012, 0.1657, 0.2025, 0.1942, 0.1951, 0.1919],\n",
       "        [0.1805, 0.0537, 0.1408, 0.1317, 0.1299, 0.1294, 0.1352, 0.1154, 0.1361, 0.1204],\n",
       "        [0.1861, 0.1405, 0.1372, 0.1584, 0.1643, 0.1666, 0.1326, 0.1551, 0.1664, 0.1628],\n",
       "        [0.1829, 0.1257, 0.1661, 0.1139, 0.1463, 0.1301, 0.1688, 0.1527, 0.1351, 0.1421],\n",
       "        [0.1764, 0.0987, 0.1420, 0.1436, 0.0970, 0.1283, 0.1261, 0.1144, 0.1333, 0.1082],\n",
       "        [0.1870, 0.1159, 0.1806, 0.1622, 0.1365, 0.1453, 0.1656, 0.1406, 0.1535, 0.1411],\n",
       "        [0.2392, 0.2530, 0.2259, 0.2541, 0.2154, 0.2650, 0.2135, 0.2358, 0.2479, 0.2351],\n",
       "        [0.2007, 0.1660, 0.2026, 0.1803, 0.1714, 0.1825, 0.1873, 0.1443, 0.1986, 0.1670],\n",
       "        [0.2006, 0.1371, 0.1679, 0.1644, 0.1383, 0.1627, 0.1693, 0.1323, 0.1438, 0.1228],\n",
       "        [0.1952, 0.1108, 0.1612, 0.1527, 0.1232, 0.1410, 0.1501, 0.1220, 0.1284, 0.1118]])"
      ]
     },
     "execution_count": 21,
     "metadata": {},
     "output_type": "execute_result"
    }
   ],
   "source": [
    "# Calculate the mean absolute difference (L1 norm). Rows are samples, columns\n",
    "# are average numbers\n",
    "samples_L1 = (samples[:,None]-nums_means_tensor).abs().mean(dim=(-2,-1))\n",
    "print(\"L1\")\n",
    "samples_L1"
   ]
  },
  {
   "cell_type": "code",
   "execution_count": 22,
   "metadata": {},
   "outputs": [
    {
     "name": "stdout",
     "output_type": "stream",
     "text": [
      "L2\n"
     ]
    },
    {
     "data": {
      "text/plain": [
       "tensor([[0.2411, 0.3757, 0.3575, 0.3288, 0.3561, 0.2918, 0.3523, 0.3528, 0.3373, 0.3465],\n",
       "        [0.3057, 0.1328, 0.2404, 0.2376, 0.2437, 0.2260, 0.2494, 0.2271, 0.2424, 0.2332],\n",
       "        [0.3157, 0.3111, 0.2361, 0.2878, 0.3051, 0.2961, 0.2448, 0.2990, 0.2951, 0.3070],\n",
       "        [0.3115, 0.2836, 0.2879, 0.2062, 0.2768, 0.2337, 0.3065, 0.2972, 0.2450, 0.2738],\n",
       "        [0.3022, 0.2351, 0.2482, 0.2598, 0.1831, 0.2268, 0.2335, 0.2255, 0.2428, 0.2143],\n",
       "        [0.3174, 0.2694, 0.3071, 0.2860, 0.2600, 0.2564, 0.2980, 0.2756, 0.2738, 0.2738],\n",
       "        [0.3905, 0.4504, 0.3721, 0.4162, 0.3719, 0.4249, 0.3668, 0.4035, 0.4050, 0.3992],\n",
       "        [0.3357, 0.3404, 0.3388, 0.3177, 0.3125, 0.3135, 0.3310, 0.2782, 0.3397, 0.3086],\n",
       "        [0.3371, 0.2979, 0.2905, 0.2932, 0.2630, 0.2874, 0.3050, 0.2587, 0.2586, 0.2403],\n",
       "        [0.3316, 0.2608, 0.2785, 0.2749, 0.2354, 0.2521, 0.2766, 0.2445, 0.2320, 0.2193]])"
      ]
     },
     "execution_count": 22,
     "metadata": {},
     "output_type": "execute_result"
    }
   ],
   "source": [
    "# Calculate the Mean squared error (L2 norm). Rows are samples, columns\n",
    "# are average numbers\n",
    "samples_L2 = ((samples[:,None]-nums_means_tensor)**2).mean(dim=(-2,-1)).sqrt()\n",
    "print('L2')\n",
    "samples_L2"
   ]
  },
  {
   "cell_type": "markdown",
   "metadata": {
    "id": "K1q788NLE_VG"
   },
   "source": [
    "### Validation data"
   ]
  },
  {
   "cell_type": "code",
   "execution_count": 23,
   "metadata": {},
   "outputs": [
    {
     "data": {
      "text/plain": [
       "(#10) [Path('testing/9'),Path('testing/0'),Path('testing/7'),Path('testing/6'),Path('testing/1'),Path('testing/8'),Path('testing/4'),Path('testing/3'),Path('testing/2'),Path('testing/5')]"
      ]
     },
     "execution_count": 23,
     "metadata": {},
     "output_type": "execute_result"
    }
   ],
   "source": [
    "(path/'testing').ls()"
   ]
  },
  {
   "cell_type": "code",
   "execution_count": 24,
   "metadata": {},
   "outputs": [
    {
     "data": {
      "image/png": "[encoded data removed]",
      "text/plain": [
       "<Figure size 72x72 with 1 Axes>"
      ]
     },
     "metadata": {
      "needs_background": "light"
     },
     "output_type": "display_data"
    },
    {
     "data": {
      "image/png": "[encoded data removed]",
      "text/plain": [
       "<Figure size 72x72 with 1 Axes>"
      ]
     },
     "metadata": {
      "needs_background": "light"
     },
     "output_type": "display_data"
    },
    {
     "data": {
      "image/png": "[encoded data removed]",
      "text/plain": [
       "<Figure size 72x72 with 1 Axes>"
      ]
     },
     "metadata": {
      "needs_background": "light"
     },
     "output_type": "display_data"
    },
    {
     "data": {
      "image/png": "[encoded data removed]",
      "text/plain": [
       "<Figure size 72x72 with 1 Axes>"
      ]
     },
     "metadata": {
      "needs_background": "light"
     },
     "output_type": "display_data"
    },
    {
     "data": {
      "image/png": "[encoded data removed]",
      "text/plain": [
       "<Figure size 72x72 with 1 Axes>"
      ]
     },
     "metadata": {
      "needs_background": "light"
     },
     "output_type": "display_data"
    },
    {
     "data": {
      "image/png": "[encoded data removed]",
      "text/plain": [
       "<Figure size 72x72 with 1 Axes>"
      ]
     },
     "metadata": {
      "needs_background": "light"
     },
     "output_type": "display_data"
    },
    {
     "data": {
      "image/png": "[encoded data removed]",
      "text/plain": [
       "<Figure size 72x72 with 1 Axes>"
      ]
     },
     "metadata": {
      "needs_background": "light"
     },
     "output_type": "display_data"
    },
    {
     "data": {
      "image/png": "[encoded data removed]",
      "text/plain": [
       "<Figure size 72x72 with 1 Axes>"
      ]
     },
     "metadata": {
      "needs_background": "light"
     },
     "output_type": "display_data"
    },
    {
     "data": {
      "image/png": "[encoded data removed]",
      "text/plain": [
       "<Figure size 72x72 with 1 Axes>"
      ]
     },
     "metadata": {
      "needs_background": "light"
     },
     "output_type": "display_data"
    },
    {
     "data": {
      "image/png": "[encoded data removed]",
      "text/plain": [
       "<Figure size 72x72 with 1 Axes>"
      ]
     },
     "metadata": {
      "needs_background": "light"
     },
     "output_type": "display_data"
    }
   ],
   "source": [
    "# Create list of validation dataset images\n",
    "valid_nums_paths = [(path/'testing'/f'{i}').ls() for i in range(10)]\n",
    "\n",
    "# Create a list of tensors\n",
    "valid_nums_tens = [[tensor(Image.open(i)) for i in p] for p in valid_nums_paths]\n",
    "\n",
    "# Review the list of tensors\n",
    "for i in valid_nums_tens:\n",
    "    show_image(i[np.random.randint(0,len(i))])"
   ]
  },
  {
   "cell_type": "code",
   "execution_count": 25,
   "metadata": {},
   "outputs": [
    {
     "name": "stdout",
     "output_type": "stream",
     "text": [
      "[ True  True  True  True  True  True  True  True  True  True]\n",
      "[3, 3, 3, 3, 3, 3, 3, 3, 3, 3]\n"
     ]
    }
   ],
   "source": [
    "# Stack the tensors and normalise between 0 and 1\n",
    "valid_stacked_nums = [torch.stack(i).float()/255 for i in valid_nums_tens]\n",
    "\n",
    "# Check stacked tensors size with the images in the images paths\n",
    "print(np.array([i.shape[0] for i in valid_stacked_nums])==np.array([len(i) for i in valid_nums_paths]))\n",
    "\n",
    "# Review the rank of the the validation stacked tensors\n",
    "print([i.ndim for i in valid_stacked_nums])"
   ]
  },
  {
   "cell_type": "markdown",
   "metadata": {},
   "source": [
    "### Calculation"
   ]
  },
  {
   "cell_type": "code",
   "execution_count": 26,
   "metadata": {},
   "outputs": [],
   "source": [
    "# Function to check the deviation to the average number\n",
    "def mnist_distance(a,b):\n",
    "    return (a-b).abs().mean(dim=(-1,-2))"
   ]
  },
  {
   "cell_type": "code",
   "execution_count": 27,
   "metadata": {
    "colab": {
     "base_uri": "https://localhost:8080/"
    },
    "id": "uePciy-kQebx",
    "outputId": "f70f5c16-ac33-48d4-e4ce-667e060475e5",
    "tags": []
   },
   "outputs": [
    {
     "data": {
      "text/plain": [
       "array([ True,  True,  True,  True,  True,  True,  True,  True,  True,  True])"
      ]
     },
     "execution_count": 27,
     "metadata": {},
     "output_type": "execute_result"
    }
   ],
   "source": [
    "# Calculate the distance for all numbers in the dataset\n",
    "\n",
    "valid_dist = [mnist_distance(a[:,None],nums_means_tensor) for a in valid_stacked_nums]\n",
    "len(valid_dist)\n",
    "\n",
    "np.array([i.shape[0] for i in valid_dist])==np.array([i.shape[0] for i in valid_stacked_nums])"
   ]
  },
  {
   "cell_type": "code",
   "execution_count": 28,
   "metadata": {},
   "outputs": [
    {
     "data": {
      "text/plain": [
       "[torch.Size([980, 10]),\n",
       " torch.Size([1135, 10]),\n",
       " torch.Size([1032, 10]),\n",
       " torch.Size([1010, 10]),\n",
       " torch.Size([982, 10]),\n",
       " torch.Size([892, 10]),\n",
       " torch.Size([958, 10]),\n",
       " torch.Size([1028, 10]),\n",
       " torch.Size([974, 10]),\n",
       " torch.Size([1009, 10])]"
      ]
     },
     "execution_count": 28,
     "metadata": {},
     "output_type": "execute_result"
    }
   ],
   "source": [
    "[i.shape for i in valid_dist]"
   ]
  },
  {
   "cell_type": "code",
   "execution_count": 29,
   "metadata": {
    "id": "HoemA5pFRzXS",
    "tags": []
   },
   "outputs": [
    {
     "data": {
      "text/plain": [
       "array([ True,  True,  True,  True,  True,  True,  True,  True,  True,  True])"
      ]
     },
     "execution_count": 29,
     "metadata": {},
     "output_type": "execute_result"
    }
   ],
   "source": [
    "# Predict the number they belong to based on the minimum distance\n",
    "preds = [torch.min(i,1)[1] for i in valid_dist]\n",
    "np.array([i.shape[0] for i in preds])==np.array([i.shape[0] for i in valid_stacked_nums])"
   ]
  },
  {
   "cell_type": "code",
   "execution_count": 30,
   "metadata": {},
   "outputs": [
    {
     "data": {
      "text/plain": [
       "[torch.Size([980]),\n",
       " torch.Size([1135]),\n",
       " torch.Size([1032]),\n",
       " torch.Size([1010]),\n",
       " torch.Size([982]),\n",
       " torch.Size([892]),\n",
       " torch.Size([958]),\n",
       " torch.Size([1028]),\n",
       " torch.Size([974]),\n",
       " torch.Size([1009])]"
      ]
     },
     "execution_count": 30,
     "metadata": {},
     "output_type": "execute_result"
    }
   ],
   "source": [
    "[i.shape for i in preds]"
   ]
  },
  {
   "cell_type": "code",
   "execution_count": 31,
   "metadata": {},
   "outputs": [
    {
     "name": "stdout",
     "output_type": "stream",
     "text": [
      "CHECK\n",
      "Pred: 10,000\n",
      "List: 10,000\n"
     ]
    }
   ],
   "source": [
    "# Concat predictions\n",
    "preds_concat = torch.concat(preds)\n",
    "print(f'CHECK\\nPred: {preds_concat.shape[0]:,}\\nList: {sum([i.shape[0] for i in preds]):,}')"
   ]
  },
  {
   "cell_type": "code",
   "execution_count": 32,
   "metadata": {},
   "outputs": [
    {
     "data": {
      "text/plain": [
       "array([ True,  True,  True,  True,  True,  True,  True,  True,  True,  True])"
      ]
     },
     "execution_count": 32,
     "metadata": {},
     "output_type": "execute_result"
    }
   ],
   "source": [
    "# Create tensor of true values\n",
    "ys = [torch.ones_like(t)*i for i,t in enumerate(preds)]\n",
    "np.array([i.shape[0] for i in ys])==np.array([i.shape[0] for i in preds])"
   ]
  },
  {
   "cell_type": "code",
   "execution_count": 33,
   "metadata": {},
   "outputs": [
    {
     "name": "stdout",
     "output_type": "stream",
     "text": [
      "CHECK\n",
      "Pred: 10,000\n",
      "List: 10,000\n"
     ]
    }
   ],
   "source": [
    "# Concat tensor of true values\n",
    "ys_concat = torch.concat(ys)\n",
    "print(f'CHECK\\nPred: {ys_concat.shape[0]:,}\\nList: {sum([i.shape[0] for i in ys]):,}')"
   ]
  },
  {
   "cell_type": "code",
   "execution_count": 34,
   "metadata": {
    "colab": {
     "base_uri": "https://localhost:8080/"
    },
    "id": "YGUQ8a6-SNYv",
    "outputId": "edf4da86-6ad3-46a2-ecce-81c7d2880954"
   },
   "outputs": [
    {
     "data": {
      "text/plain": [
       "(tensor(0.6685),\n",
       " [(0, tensor(0.8153)),\n",
       "  (1, tensor(0.9982)),\n",
       "  (2, tensor(0.4234)),\n",
       "  (3, tensor(0.6089)),\n",
       "  (4, tensor(0.6680)),\n",
       "  (5, tensor(0.3262)),\n",
       "  (6, tensor(0.7871)),\n",
       "  (7, tensor(0.7646)),\n",
       "  (8, tensor(0.4425)),\n",
       "  (9, tensor(0.7760))])"
      ]
     },
     "execution_count": 34,
     "metadata": {},
     "output_type": "execute_result"
    }
   ],
   "source": [
    "# Calculate the overall accuracy and accuracy for each digit.\n",
    "accuracy = [(p==y).sum()/p.shape[0] if p.shape[0]==y.shape[0] else \"Error\" for p,y in zip(preds,ys) ]\n",
    "if preds_concat.shape[0]==ys_concat.shape[0]: overall_accuracy = (preds_concat==ys_concat).sum()/preds_concat.shape[0]\n",
    "else: overall_accuracy = \"Error\"\n",
    "\n",
    "overall_accuracy, [(i,j) for i,j in enumerate(accuracy)]"
   ]
  },
  {
   "cell_type": "code",
   "execution_count": 35,
   "metadata": {},
   "outputs": [
    {
     "data": {
      "image/png": "[encoded data removed]",
      "text/plain": [
       "<Figure size 720x360 with 2 Axes>"
      ]
     },
     "metadata": {
      "needs_background": "light"
     },
     "output_type": "display_data"
    }
   ],
   "source": [
    "# Confusion matrix\n",
    "cm = confusion_matrix(ys_concat, preds_concat)\n",
    "plt.figure(figsize=(10,5))\n",
    "ax = sns.heatmap(cm, annot=True, fmt='g', cmap='Blues')\n",
    "ax.set_title('Confusion Matrix')\n",
    "ax.set_xlabel('Predicted Values')\n",
    "ax.set_ylabel('Actual Values');"
   ]
  },
  {
   "cell_type": "markdown",
   "metadata": {
    "id": "kyg4c0gKHi8L"
   },
   "source": [
    "# Manual implementation"
   ]
  },
  {
   "cell_type": "code",
   "execution_count": 117,
   "metadata": {},
   "outputs": [
    {
     "data": {
      "text/plain": [
       "torch.Size([60000, 784])"
      ]
     },
     "execution_count": 117,
     "metadata": {},
     "output_type": "execute_result"
    }
   ],
   "source": [
    "# Change the concatenated train tensors from a list of matrices (rank-3 tensor) \n",
    "# to a list of vectors (rank-2 tensor)\n",
    "train_x = torch.cat(train_stacked_nums).view(-1,28*28)\n",
    "train_x.shape"
   ]
  },
  {
   "cell_type": "code",
   "execution_count": 118,
   "metadata": {},
   "outputs": [
    {
     "data": {
      "text/plain": [
       "torch.Size([60000, 1])"
      ]
     },
     "execution_count": 118,
     "metadata": {},
     "output_type": "execute_result"
    }
   ],
   "source": [
    "# Create a tensor of train labels\n",
    "train_y = torch.cat([tensor([i]*len(t)) for i,t in enumerate(train_stacked_nums)]).unsqueeze(1)\n",
    "train_y.shape"
   ]
  },
  {
   "cell_type": "code",
   "execution_count": 119,
   "metadata": {
    "id": "sIwjZVhvJOLq"
   },
   "outputs": [],
   "source": [
    "# Zip train_x and train_y to create an object in the right shape\n",
    "# for pytorch Dataset object\n",
    "train_dset = list(zip(train_x, train_y))"
   ]
  },
  {
   "cell_type": "code",
   "execution_count": 120,
   "metadata": {},
   "outputs": [],
   "source": [
    "# Create a training data loader\n",
    "train_dl = DataLoader(train_dset, batch_size=64, shuffle=True)"
   ]
  },
  {
   "cell_type": "code",
   "execution_count": 121,
   "metadata": {},
   "outputs": [
    {
     "data": {
      "text/plain": [
       "(torch.Size([10000, 784]), torch.Size([10000, 1]))"
      ]
     },
     "execution_count": 121,
     "metadata": {},
     "output_type": "execute_result"
    }
   ],
   "source": [
    "# Create validation datasets\n",
    "valid_x = torch.cat(valid_stacked_nums).view(-1,28*28)\n",
    "valid_y = torch.cat([tensor([i]*len(t)) for i,t in enumerate(valid_stacked_nums)]).unsqueeze(1)\n",
    "valid_dset = list(zip(valid_x, valid_y))\n",
    "valid_x.shape, valid_y.shape"
   ]
  },
  {
   "cell_type": "code",
   "execution_count": 122,
   "metadata": {},
   "outputs": [],
   "source": [
    "simple_net = nn.Sequential(\n",
    "    nn.Linear(28*28,100),\n",
    "    nn.ReLU(),\n",
    "    nn.Linear(100,30),\n",
    "    nn.ReLU(),\n",
    "    nn.Linear(30,10)\n",
    ")"
   ]
  },
  {
   "cell_type": "code",
   "execution_count": 123,
   "metadata": {},
   "outputs": [],
   "source": [
    "mnist_loss = nn.CrossEntropyLoss()"
   ]
  },
  {
   "cell_type": "code",
   "execution_count": 124,
   "metadata": {},
   "outputs": [],
   "source": [
    "def batch_accuracy(pred,target):\n",
    "    return (torch.max(pred,1)[1]==target.squeeze()).sum()/target.shape[0]"
   ]
  },
  {
   "cell_type": "code",
   "execution_count": 125,
   "metadata": {},
   "outputs": [],
   "source": [
    "def calc_grad(xb, yb, model):\n",
    "    preds = model(xb)\n",
    "    loss = mnist_loss(preds, yb.squeeze())\n",
    "    loss.backward()\n",
    "    return loss"
   ]
  },
  {
   "cell_type": "code",
   "execution_count": 126,
   "metadata": {},
   "outputs": [],
   "source": [
    "class BasicOptim:\n",
    "    def __init__(self, params, lr): self.params, self.lr = list(params), lr\n",
    "\n",
    "    def step(self, *args, **kwargs):\n",
    "        for p in self.params: p.data -= p.grad.data * self.lr\n",
    "\n",
    "    def zero_grad(self, *args, **kwargs):\n",
    "        for p in self.params: p.grad = None"
   ]
  },
  {
   "cell_type": "code",
   "execution_count": 127,
   "metadata": {},
   "outputs": [],
   "source": [
    "# Epoch training\n",
    "def train_epoch(model,dl):\n",
    "    batch_loss = []\n",
    "    for xb, yb in dl:\n",
    "        batch_loss.append(calc_grad(xb,yb,model))\n",
    "        opt.step()\n",
    "        opt.zero_grad()\n",
    "    print('\\tAvg batch loss: ',tensor(batch_loss).mean())"
   ]
  },
  {
   "cell_type": "code",
   "execution_count": 128,
   "metadata": {},
   "outputs": [],
   "source": [
    "# Model training\n",
    "def train_model(model,epochs,dl):\n",
    "    for i in range(epochs):\n",
    "        train_epoch(model,dl)\n",
    "        print('epoch',i,': ',batch_accuracy(model(valid_x),valid_y),end=' ')"
   ]
  },
  {
   "cell_type": "code",
   "execution_count": 129,
   "metadata": {},
   "outputs": [],
   "source": [
    "# Initialise optimizer\n",
    "opt = BasicOptim(simple_net.parameters(),lr=1e-3)"
   ]
  },
  {
   "cell_type": "code",
   "execution_count": 131,
   "metadata": {},
   "outputs": [
    {
     "name": "stdout",
     "output_type": "stream",
     "text": [
      "\tAvg batch loss:  tensor(2.2594)\n",
      "epoch 0 :  tensor(0.3888) \tAvg batch loss:  tensor(2.2104)\n",
      "epoch 1 :  tensor(0.5769) \tAvg batch loss:  tensor(2.1308)\n",
      "epoch 2 :  tensor(0.6086) \tAvg batch loss:  tensor(2.0029)\n",
      "epoch 3 :  tensor(0.6303) \tAvg batch loss:  tensor(1.8049)\n",
      "epoch 4 :  tensor(0.6542) \tAvg batch loss:  tensor(1.5390)\n",
      "epoch 5 :  tensor(0.7085) \tAvg batch loss:  tensor(1.2598)\n",
      "epoch 6 :  tensor(0.7540) \tAvg batch loss:  tensor(1.0349)\n",
      "epoch 7 :  tensor(0.7842) \tAvg batch loss:  tensor(0.8799)\n",
      "epoch 8 :  tensor(0.8054) \tAvg batch loss:  tensor(0.7743)\n",
      "epoch 9 :  tensor(0.8225) \tAvg batch loss:  tensor(0.6983)\n",
      "epoch 10 :  tensor(0.8328) \tAvg batch loss:  tensor(0.6411)\n",
      "epoch 11 :  tensor(0.8426) \tAvg batch loss:  tensor(0.5963)\n",
      "epoch 12 :  tensor(0.8508) \tAvg batch loss:  tensor(0.5604)\n",
      "epoch 13 :  tensor(0.8577) \tAvg batch loss:  tensor(0.5310)\n",
      "epoch 14 :  tensor(0.8632) \tAvg batch loss:  tensor(0.5067)\n",
      "epoch 15 :  tensor(0.8698) \tAvg batch loss:  tensor(0.4866)\n",
      "epoch 16 :  tensor(0.8738) \tAvg batch loss:  tensor(0.4694)\n",
      "epoch 17 :  tensor(0.8778) \tAvg batch loss:  tensor(0.4550)\n",
      "epoch 18 :  tensor(0.8810) \tAvg batch loss:  tensor(0.4421)\n",
      "epoch 19 :  tensor(0.8824) \tAvg batch loss:  tensor(0.4313)\n",
      "epoch 20 :  tensor(0.8852) \tAvg batch loss:  tensor(0.4216)\n",
      "epoch 21 :  tensor(0.8868) \tAvg batch loss:  tensor(0.4129)\n",
      "epoch 22 :  tensor(0.8874) \tAvg batch loss:  tensor(0.4051)\n",
      "epoch 23 :  tensor(0.8901) \tAvg batch loss:  tensor(0.3982)\n",
      "epoch 24 :  tensor(0.8910) \tAvg batch loss:  tensor(0.3917)\n",
      "epoch 25 :  tensor(0.8923) \tAvg batch loss:  tensor(0.3860)\n",
      "epoch 26 :  tensor(0.8935) \tAvg batch loss:  tensor(0.3805)\n",
      "epoch 27 :  tensor(0.8955) \tAvg batch loss:  tensor(0.3756)\n",
      "epoch 28 :  tensor(0.8963) \tAvg batch loss:  tensor(0.3710)\n",
      "epoch 29 :  tensor(0.8985) \tAvg batch loss:  tensor(0.3666)\n",
      "epoch 30 :  tensor(0.8988) \tAvg batch loss:  tensor(0.3627)\n",
      "epoch 31 :  tensor(0.9005) \tAvg batch loss:  tensor(0.3587)\n",
      "epoch 32 :  tensor(0.9008) \tAvg batch loss:  tensor(0.3551)\n",
      "epoch 33 :  tensor(0.9015) \tAvg batch loss:  tensor(0.3517)\n",
      "epoch 34 :  tensor(0.9027) \tAvg batch loss:  tensor(0.3484)\n",
      "epoch 35 :  tensor(0.9027) \tAvg batch loss:  tensor(0.3452)\n",
      "epoch 36 :  tensor(0.9036) \tAvg batch loss:  tensor(0.3421)\n",
      "epoch 37 :  tensor(0.9047) \tAvg batch loss:  tensor(0.3392)\n",
      "epoch 38 :  tensor(0.9050) \tAvg batch loss:  tensor(0.3364)\n",
      "epoch 39 :  tensor(0.9060) \tAvg batch loss:  tensor(0.3336)\n",
      "epoch 40 :  tensor(0.9067) \tAvg batch loss:  tensor(0.3312)\n",
      "epoch 41 :  tensor(0.9074) \tAvg batch loss:  tensor(0.3284)\n",
      "epoch 42 :  tensor(0.9084) \tAvg batch loss:  tensor(0.3259)\n",
      "epoch 43 :  tensor(0.9094) \tAvg batch loss:  tensor(0.3238)\n",
      "epoch 44 :  tensor(0.9097) \tAvg batch loss:  tensor(0.3212)\n",
      "epoch 45 :  tensor(0.9103) \tAvg batch loss:  tensor(0.3190)\n",
      "epoch 46 :  tensor(0.9112) \tAvg batch loss:  tensor(0.3166)\n",
      "epoch 47 :  tensor(0.9117) \tAvg batch loss:  tensor(0.3145)\n",
      "epoch 48 :  tensor(0.9126) \tAvg batch loss:  tensor(0.3123)\n",
      "epoch 49 :  tensor(0.9126) \tAvg batch loss:  tensor(0.3103)\n",
      "epoch 50 :  tensor(0.9132) \tAvg batch loss:  tensor(0.3083)\n",
      "epoch 51 :  tensor(0.9144) \tAvg batch loss:  tensor(0.3063)\n",
      "epoch 52 :  tensor(0.9144) \tAvg batch loss:  tensor(0.3041)\n",
      "epoch 53 :  tensor(0.9155) \tAvg batch loss:  tensor(0.3023)\n",
      "epoch 54 :  tensor(0.9161) \tAvg batch loss:  tensor(0.3002)\n",
      "epoch 55 :  tensor(0.9160) \tAvg batch loss:  tensor(0.2985)\n",
      "epoch 56 :  tensor(0.9167) \tAvg batch loss:  tensor(0.2965)\n",
      "epoch 57 :  tensor(0.9171) \tAvg batch loss:  tensor(0.2947)\n",
      "epoch 58 :  tensor(0.9174) \tAvg batch loss:  tensor(0.2928)\n",
      "epoch 59 :  tensor(0.9186) \tAvg batch loss:  tensor(0.2910)\n",
      "epoch 60 :  tensor(0.9197) \tAvg batch loss:  tensor(0.2895)\n",
      "epoch 61 :  tensor(0.9196) \tAvg batch loss:  tensor(0.2877)\n",
      "epoch 62 :  tensor(0.9207) \tAvg batch loss:  tensor(0.2860)\n",
      "epoch 63 :  tensor(0.9206) \tAvg batch loss:  tensor(0.2843)\n",
      "epoch 64 :  tensor(0.9212) \tAvg batch loss:  tensor(0.2822)\n",
      "epoch 65 :  tensor(0.9218) \tAvg batch loss:  tensor(0.2807)\n",
      "epoch 66 :  tensor(0.9221) \tAvg batch loss:  tensor(0.2789)\n",
      "epoch 67 :  tensor(0.9226) \tAvg batch loss:  tensor(0.2772)\n",
      "epoch 68 :  tensor(0.9233) \tAvg batch loss:  tensor(0.2757)\n",
      "epoch 69 :  tensor(0.9227) \tAvg batch loss:  tensor(0.2741)\n",
      "epoch 70 :  tensor(0.9246) \tAvg batch loss:  tensor(0.2723)\n",
      "epoch 71 :  tensor(0.9256) \tAvg batch loss:  tensor(0.2707)\n",
      "epoch 72 :  tensor(0.9249) \tAvg batch loss:  tensor(0.2690)\n",
      "epoch 73 :  tensor(0.9254) \tAvg batch loss:  tensor(0.2674)\n",
      "epoch 74 :  tensor(0.9260) \tAvg batch loss:  tensor(0.2659)\n",
      "epoch 75 :  tensor(0.9268) \tAvg batch loss:  tensor(0.2642)\n",
      "epoch 76 :  tensor(0.9276) \tAvg batch loss:  tensor(0.2628)\n",
      "epoch 77 :  tensor(0.9278) \tAvg batch loss:  tensor(0.2611)\n",
      "epoch 78 :  tensor(0.9276) \tAvg batch loss:  tensor(0.2595)\n",
      "epoch 79 :  tensor(0.9279) \tAvg batch loss:  tensor(0.2580)\n",
      "epoch 80 :  tensor(0.9287) \tAvg batch loss:  tensor(0.2564)\n",
      "epoch 81 :  tensor(0.9298) \tAvg batch loss:  tensor(0.2549)\n",
      "epoch 82 :  tensor(0.9302) \tAvg batch loss:  tensor(0.2533)\n",
      "epoch 83 :  tensor(0.9309) \tAvg batch loss:  tensor(0.2519)\n",
      "epoch 84 :  tensor(0.9314) \tAvg batch loss:  tensor(0.2503)\n",
      "epoch 85 :  tensor(0.9312) \tAvg batch loss:  tensor(0.2489)\n",
      "epoch 86 :  tensor(0.9326) \tAvg batch loss:  tensor(0.2474)\n",
      "epoch 87 :  tensor(0.9326) \tAvg batch loss:  tensor(0.2461)\n",
      "epoch 88 :  tensor(0.9329) \tAvg batch loss:  tensor(0.2444)\n",
      "epoch 89 :  tensor(0.9338) \tAvg batch loss:  tensor(0.2430)\n",
      "epoch 90 :  tensor(0.9346) \tAvg batch loss:  tensor(0.2416)\n",
      "epoch 91 :  tensor(0.9342) \tAvg batch loss:  tensor(0.2400)\n",
      "epoch 92 :  tensor(0.9351) \tAvg batch loss:  tensor(0.2387)\n",
      "epoch 93 :  tensor(0.9351) \tAvg batch loss:  tensor(0.2373)\n",
      "epoch 94 :  tensor(0.9350) \tAvg batch loss:  tensor(0.2358)\n",
      "epoch 95 :  tensor(0.9365) \tAvg batch loss:  tensor(0.2344)\n",
      "epoch 96 :  tensor(0.9362) \tAvg batch loss:  tensor(0.2330)\n",
      "epoch 97 :  tensor(0.9363) \tAvg batch loss:  tensor(0.2314)\n",
      "epoch 98 :  tensor(0.9371) \tAvg batch loss:  tensor(0.2301)\n",
      "epoch 99 :  tensor(0.9377) "
     ]
    }
   ],
   "source": [
    "# Model training\n",
    "train_model(simple_net, 100, train_dl)"
   ]
  },
  {
   "cell_type": "markdown",
   "metadata": {},
   "source": [
    "# FastAI packages"
   ]
  },
  {
   "cell_type": "code",
   "execution_count": 132,
   "metadata": {},
   "outputs": [
    {
     "data": {
      "text/plain": [
       "(#2) [Path('training'),Path('testing')]"
      ]
     },
     "execution_count": 132,
     "metadata": {},
     "output_type": "execute_result"
    }
   ],
   "source": [
    "path.ls()"
   ]
  },
  {
   "cell_type": "code",
   "execution_count": 140,
   "metadata": {},
   "outputs": [],
   "source": [
    "# Create data loader\n",
    "dls = ImageDataLoaders.from_folder(path,train='training',valid='testing',num_workers=0)\n",
    "\n",
    "# Create a learner\n",
    "learn = vision_learner(dls, resnet18, pretrained=True, \n",
    "                       loss_func=F.cross_entropy,metrics=accuracy,\n",
    "                       n_out=10)"
   ]
  },
  {
   "cell_type": "code",
   "execution_count": 141,
   "metadata": {},
   "outputs": [
    {
     "data": {
      "text/html": [
       "\n",
       "<style>\n",
       "    /* Turns off some styling */\n",
       "    progress {\n",
       "        /* gets rid of default border in Firefox and Opera. */\n",
       "        border: none;\n",
       "        /* Needs to be in here for Safari polyfill so background images work as expected. */\n",
       "        background-size: auto;\n",
       "    }\n",
       "    .progress-bar-interrupted, .progress-bar-interrupted::-webkit-progress-bar {\n",
       "        background: #F44336;\n",
       "    }\n",
       "</style>\n"
      ],
      "text/plain": [
       "<IPython.core.display.HTML object>"
      ]
     },
     "metadata": {},
     "output_type": "display_data"
    },
    {
     "data": {
      "text/html": [
       "\n",
       "    <div>\n",
       "      <progress value='0' class='' max='1' style='width:300px; height:20px; vertical-align: middle;'></progress>\n",
       "      0.00% [0/1 00:00<00:00]\n",
       "    </div>\n",
       "    \n",
       "<table border=\"1\" class=\"dataframe\">\n",
       "  <thead>\n",
       "    <tr style=\"text-align: left;\">\n",
       "      <th>epoch</th>\n",
       "      <th>train_loss</th>\n",
       "      <th>valid_loss</th>\n",
       "      <th>None</th>\n",
       "      <th>None</th>\n",
       "      <th>None</th>\n",
       "      <th>None</th>\n",
       "      <th>None</th>\n",
       "      <th>None</th>\n",
       "      <th>None</th>\n",
       "      <th>None</th>\n",
       "      <th>None</th>\n",
       "      <th>None</th>\n",
       "      <th>time</th>\n",
       "    </tr>\n",
       "  </thead>\n",
       "  <tbody>\n",
       "  </tbody>\n",
       "</table><p>\n",
       "\n",
       "    <div>\n",
       "      <progress value='0' class='' max='157' style='width:300px; height:20px; vertical-align: middle;'></progress>\n",
       "      0.00% [0/157 00:00<00:00]\n",
       "    </div>\n",
       "    "
      ],
      "text/plain": [
       "<IPython.core.display.HTML object>"
      ]
     },
     "metadata": {},
     "output_type": "display_data"
    },
    {
     "ename": "TypeError",
     "evalue": "Exception occured in `Recorder` when calling event `after_batch`:\n\t'Tensor' object is not callable",
     "output_type": "error",
     "traceback": [
      "\u001b[0;31m---------------------------------------------------------------------------\u001b[0m",
      "\u001b[0;31mTypeError\u001b[0m                                 Traceback (most recent call last)",
      "\u001b[0;32m/var/folders/f1/bcv5hnqs1rd944j8hkw5gyb40000gn/T/ipykernel_892/3414274507.py\u001b[0m in \u001b[0;36m<module>\u001b[0;34m\u001b[0m\n\u001b[0;32m----> 1\u001b[0;31m \u001b[0mlearn\u001b[0m\u001b[0;34m.\u001b[0m\u001b[0mfit_one_cycle\u001b[0m\u001b[0;34m(\u001b[0m\u001b[0;36m1\u001b[0m\u001b[0;34m,\u001b[0m\u001b[0;36m0.1\u001b[0m\u001b[0;34m,\u001b[0m\u001b[0;34m)\u001b[0m\u001b[0;34m\u001b[0m\u001b[0;34m\u001b[0m\u001b[0m\n\u001b[0m",
      "\u001b[0;32m~/opt/anaconda3/envs/fastai/lib/python3.7/site-packages/fastai/callback/schedule.py\u001b[0m in \u001b[0;36mfit_one_cycle\u001b[0;34m(self, n_epoch, lr_max, div, div_final, pct_start, wd, moms, cbs, reset_opt)\u001b[0m\n\u001b[1;32m    114\u001b[0m     scheds = {'lr': combined_cos(pct_start, lr_max/div, lr_max, lr_max/div_final),\n\u001b[1;32m    115\u001b[0m               'mom': combined_cos(pct_start, *(self.moms if moms is None else moms))}\n\u001b[0;32m--> 116\u001b[0;31m     \u001b[0mself\u001b[0m\u001b[0;34m.\u001b[0m\u001b[0mfit\u001b[0m\u001b[0;34m(\u001b[0m\u001b[0mn_epoch\u001b[0m\u001b[0;34m,\u001b[0m \u001b[0mcbs\u001b[0m\u001b[0;34m=\u001b[0m\u001b[0mParamScheduler\u001b[0m\u001b[0;34m(\u001b[0m\u001b[0mscheds\u001b[0m\u001b[0;34m)\u001b[0m\u001b[0;34m+\u001b[0m\u001b[0mL\u001b[0m\u001b[0;34m(\u001b[0m\u001b[0mcbs\u001b[0m\u001b[0;34m)\u001b[0m\u001b[0;34m,\u001b[0m \u001b[0mreset_opt\u001b[0m\u001b[0;34m=\u001b[0m\u001b[0mreset_opt\u001b[0m\u001b[0;34m,\u001b[0m \u001b[0mwd\u001b[0m\u001b[0;34m=\u001b[0m\u001b[0mwd\u001b[0m\u001b[0;34m)\u001b[0m\u001b[0;34m\u001b[0m\u001b[0;34m\u001b[0m\u001b[0m\n\u001b[0m\u001b[1;32m    117\u001b[0m \u001b[0;34m\u001b[0m\u001b[0m\n\u001b[1;32m    118\u001b[0m \u001b[0;31m# Cell\u001b[0m\u001b[0;34m\u001b[0m\u001b[0;34m\u001b[0m\u001b[0;34m\u001b[0m\u001b[0m\n",
      "\u001b[0;32m~/opt/anaconda3/envs/fastai/lib/python3.7/site-packages/fastai/learner.py\u001b[0m in \u001b[0;36mfit\u001b[0;34m(self, n_epoch, lr, wd, cbs, reset_opt)\u001b[0m\n\u001b[1;32m    220\u001b[0m             \u001b[0mself\u001b[0m\u001b[0;34m.\u001b[0m\u001b[0mopt\u001b[0m\u001b[0;34m.\u001b[0m\u001b[0mset_hypers\u001b[0m\u001b[0;34m(\u001b[0m\u001b[0mlr\u001b[0m\u001b[0;34m=\u001b[0m\u001b[0mself\u001b[0m\u001b[0;34m.\u001b[0m\u001b[0mlr\u001b[0m \u001b[0;32mif\u001b[0m \u001b[0mlr\u001b[0m \u001b[0;32mis\u001b[0m \u001b[0;32mNone\u001b[0m \u001b[0;32melse\u001b[0m \u001b[0mlr\u001b[0m\u001b[0;34m)\u001b[0m\u001b[0;34m\u001b[0m\u001b[0;34m\u001b[0m\u001b[0m\n\u001b[1;32m    221\u001b[0m             \u001b[0mself\u001b[0m\u001b[0;34m.\u001b[0m\u001b[0mn_epoch\u001b[0m \u001b[0;34m=\u001b[0m \u001b[0mn_epoch\u001b[0m\u001b[0;34m\u001b[0m\u001b[0;34m\u001b[0m\u001b[0m\n\u001b[0;32m--> 222\u001b[0;31m             \u001b[0mself\u001b[0m\u001b[0;34m.\u001b[0m\u001b[0m_with_events\u001b[0m\u001b[0;34m(\u001b[0m\u001b[0mself\u001b[0m\u001b[0;34m.\u001b[0m\u001b[0m_do_fit\u001b[0m\u001b[0;34m,\u001b[0m \u001b[0;34m'fit'\u001b[0m\u001b[0;34m,\u001b[0m \u001b[0mCancelFitException\u001b[0m\u001b[0;34m,\u001b[0m \u001b[0mself\u001b[0m\u001b[0;34m.\u001b[0m\u001b[0m_end_cleanup\u001b[0m\u001b[0;34m)\u001b[0m\u001b[0;34m\u001b[0m\u001b[0;34m\u001b[0m\u001b[0m\n\u001b[0m\u001b[1;32m    223\u001b[0m \u001b[0;34m\u001b[0m\u001b[0m\n\u001b[1;32m    224\u001b[0m     \u001b[0;32mdef\u001b[0m \u001b[0m_end_cleanup\u001b[0m\u001b[0;34m(\u001b[0m\u001b[0mself\u001b[0m\u001b[0;34m)\u001b[0m\u001b[0;34m:\u001b[0m \u001b[0mself\u001b[0m\u001b[0;34m.\u001b[0m\u001b[0mdl\u001b[0m\u001b[0;34m,\u001b[0m\u001b[0mself\u001b[0m\u001b[0;34m.\u001b[0m\u001b[0mxb\u001b[0m\u001b[0;34m,\u001b[0m\u001b[0mself\u001b[0m\u001b[0;34m.\u001b[0m\u001b[0myb\u001b[0m\u001b[0;34m,\u001b[0m\u001b[0mself\u001b[0m\u001b[0;34m.\u001b[0m\u001b[0mpred\u001b[0m\u001b[0;34m,\u001b[0m\u001b[0mself\u001b[0m\u001b[0;34m.\u001b[0m\u001b[0mloss\u001b[0m \u001b[0;34m=\u001b[0m \u001b[0;32mNone\u001b[0m\u001b[0;34m,\u001b[0m\u001b[0;34m(\u001b[0m\u001b[0;32mNone\u001b[0m\u001b[0;34m,\u001b[0m\u001b[0;34m)\u001b[0m\u001b[0;34m,\u001b[0m\u001b[0;34m(\u001b[0m\u001b[0;32mNone\u001b[0m\u001b[0;34m,\u001b[0m\u001b[0;34m)\u001b[0m\u001b[0;34m,\u001b[0m\u001b[0;32mNone\u001b[0m\u001b[0;34m,\u001b[0m\u001b[0;32mNone\u001b[0m\u001b[0;34m\u001b[0m\u001b[0;34m\u001b[0m\u001b[0m\n",
      "\u001b[0;32m~/opt/anaconda3/envs/fastai/lib/python3.7/site-packages/fastai/learner.py\u001b[0m in \u001b[0;36m_with_events\u001b[0;34m(self, f, event_type, ex, final)\u001b[0m\n\u001b[1;32m    162\u001b[0m \u001b[0;34m\u001b[0m\u001b[0m\n\u001b[1;32m    163\u001b[0m     \u001b[0;32mdef\u001b[0m \u001b[0m_with_events\u001b[0m\u001b[0;34m(\u001b[0m\u001b[0mself\u001b[0m\u001b[0;34m,\u001b[0m \u001b[0mf\u001b[0m\u001b[0;34m,\u001b[0m \u001b[0mevent_type\u001b[0m\u001b[0;34m,\u001b[0m \u001b[0mex\u001b[0m\u001b[0;34m,\u001b[0m \u001b[0mfinal\u001b[0m\u001b[0;34m=\u001b[0m\u001b[0mnoop\u001b[0m\u001b[0;34m)\u001b[0m\u001b[0;34m:\u001b[0m\u001b[0;34m\u001b[0m\u001b[0;34m\u001b[0m\u001b[0m\n\u001b[0;32m--> 164\u001b[0;31m         \u001b[0;32mtry\u001b[0m\u001b[0;34m:\u001b[0m \u001b[0mself\u001b[0m\u001b[0;34m(\u001b[0m\u001b[0;34mf'before_{event_type}'\u001b[0m\u001b[0;34m)\u001b[0m\u001b[0;34m;\u001b[0m  \u001b[0mf\u001b[0m\u001b[0;34m(\u001b[0m\u001b[0;34m)\u001b[0m\u001b[0;34m\u001b[0m\u001b[0;34m\u001b[0m\u001b[0m\n\u001b[0m\u001b[1;32m    165\u001b[0m         \u001b[0;32mexcept\u001b[0m \u001b[0mex\u001b[0m\u001b[0;34m:\u001b[0m \u001b[0mself\u001b[0m\u001b[0;34m(\u001b[0m\u001b[0;34mf'after_cancel_{event_type}'\u001b[0m\u001b[0;34m)\u001b[0m\u001b[0;34m\u001b[0m\u001b[0;34m\u001b[0m\u001b[0m\n\u001b[1;32m    166\u001b[0m         \u001b[0mself\u001b[0m\u001b[0;34m(\u001b[0m\u001b[0;34mf'after_{event_type}'\u001b[0m\u001b[0;34m)\u001b[0m\u001b[0;34m;\u001b[0m  \u001b[0mfinal\u001b[0m\u001b[0;34m(\u001b[0m\u001b[0;34m)\u001b[0m\u001b[0;34m\u001b[0m\u001b[0;34m\u001b[0m\u001b[0m\n",
      "\u001b[0;32m~/opt/anaconda3/envs/fastai/lib/python3.7/site-packages/fastai/learner.py\u001b[0m in \u001b[0;36m_do_fit\u001b[0;34m(self)\u001b[0m\n\u001b[1;32m    211\u001b[0m         \u001b[0;32mfor\u001b[0m \u001b[0mepoch\u001b[0m \u001b[0;32min\u001b[0m \u001b[0mrange\u001b[0m\u001b[0;34m(\u001b[0m\u001b[0mself\u001b[0m\u001b[0;34m.\u001b[0m\u001b[0mn_epoch\u001b[0m\u001b[0;34m)\u001b[0m\u001b[0;34m:\u001b[0m\u001b[0;34m\u001b[0m\u001b[0;34m\u001b[0m\u001b[0m\n\u001b[1;32m    212\u001b[0m             \u001b[0mself\u001b[0m\u001b[0;34m.\u001b[0m\u001b[0mepoch\u001b[0m\u001b[0;34m=\u001b[0m\u001b[0mepoch\u001b[0m\u001b[0;34m\u001b[0m\u001b[0;34m\u001b[0m\u001b[0m\n\u001b[0;32m--> 213\u001b[0;31m             \u001b[0mself\u001b[0m\u001b[0;34m.\u001b[0m\u001b[0m_with_events\u001b[0m\u001b[0;34m(\u001b[0m\u001b[0mself\u001b[0m\u001b[0;34m.\u001b[0m\u001b[0m_do_epoch\u001b[0m\u001b[0;34m,\u001b[0m \u001b[0;34m'epoch'\u001b[0m\u001b[0;34m,\u001b[0m \u001b[0mCancelEpochException\u001b[0m\u001b[0;34m)\u001b[0m\u001b[0;34m\u001b[0m\u001b[0;34m\u001b[0m\u001b[0m\n\u001b[0m\u001b[1;32m    214\u001b[0m \u001b[0;34m\u001b[0m\u001b[0m\n\u001b[1;32m    215\u001b[0m     \u001b[0;32mdef\u001b[0m \u001b[0mfit\u001b[0m\u001b[0;34m(\u001b[0m\u001b[0mself\u001b[0m\u001b[0;34m,\u001b[0m \u001b[0mn_epoch\u001b[0m\u001b[0;34m,\u001b[0m \u001b[0mlr\u001b[0m\u001b[0;34m=\u001b[0m\u001b[0;32mNone\u001b[0m\u001b[0;34m,\u001b[0m \u001b[0mwd\u001b[0m\u001b[0;34m=\u001b[0m\u001b[0;32mNone\u001b[0m\u001b[0;34m,\u001b[0m \u001b[0mcbs\u001b[0m\u001b[0;34m=\u001b[0m\u001b[0;32mNone\u001b[0m\u001b[0;34m,\u001b[0m \u001b[0mreset_opt\u001b[0m\u001b[0;34m=\u001b[0m\u001b[0;32mFalse\u001b[0m\u001b[0;34m)\u001b[0m\u001b[0;34m:\u001b[0m\u001b[0;34m\u001b[0m\u001b[0;34m\u001b[0m\u001b[0m\n",
      "\u001b[0;32m~/opt/anaconda3/envs/fastai/lib/python3.7/site-packages/fastai/learner.py\u001b[0m in \u001b[0;36m_with_events\u001b[0;34m(self, f, event_type, ex, final)\u001b[0m\n\u001b[1;32m    162\u001b[0m \u001b[0;34m\u001b[0m\u001b[0m\n\u001b[1;32m    163\u001b[0m     \u001b[0;32mdef\u001b[0m \u001b[0m_with_events\u001b[0m\u001b[0;34m(\u001b[0m\u001b[0mself\u001b[0m\u001b[0;34m,\u001b[0m \u001b[0mf\u001b[0m\u001b[0;34m,\u001b[0m \u001b[0mevent_type\u001b[0m\u001b[0;34m,\u001b[0m \u001b[0mex\u001b[0m\u001b[0;34m,\u001b[0m \u001b[0mfinal\u001b[0m\u001b[0;34m=\u001b[0m\u001b[0mnoop\u001b[0m\u001b[0;34m)\u001b[0m\u001b[0;34m:\u001b[0m\u001b[0;34m\u001b[0m\u001b[0;34m\u001b[0m\u001b[0m\n\u001b[0;32m--> 164\u001b[0;31m         \u001b[0;32mtry\u001b[0m\u001b[0;34m:\u001b[0m \u001b[0mself\u001b[0m\u001b[0;34m(\u001b[0m\u001b[0;34mf'before_{event_type}'\u001b[0m\u001b[0;34m)\u001b[0m\u001b[0;34m;\u001b[0m  \u001b[0mf\u001b[0m\u001b[0;34m(\u001b[0m\u001b[0;34m)\u001b[0m\u001b[0;34m\u001b[0m\u001b[0;34m\u001b[0m\u001b[0m\n\u001b[0m\u001b[1;32m    165\u001b[0m         \u001b[0;32mexcept\u001b[0m \u001b[0mex\u001b[0m\u001b[0;34m:\u001b[0m \u001b[0mself\u001b[0m\u001b[0;34m(\u001b[0m\u001b[0;34mf'after_cancel_{event_type}'\u001b[0m\u001b[0;34m)\u001b[0m\u001b[0;34m\u001b[0m\u001b[0;34m\u001b[0m\u001b[0m\n\u001b[1;32m    166\u001b[0m         \u001b[0mself\u001b[0m\u001b[0;34m(\u001b[0m\u001b[0;34mf'after_{event_type}'\u001b[0m\u001b[0;34m)\u001b[0m\u001b[0;34m;\u001b[0m  \u001b[0mfinal\u001b[0m\u001b[0;34m(\u001b[0m\u001b[0;34m)\u001b[0m\u001b[0;34m\u001b[0m\u001b[0;34m\u001b[0m\u001b[0m\n",
      "\u001b[0;32m~/opt/anaconda3/envs/fastai/lib/python3.7/site-packages/fastai/learner.py\u001b[0m in \u001b[0;36m_do_epoch\u001b[0;34m(self)\u001b[0m\n\u001b[1;32m    206\u001b[0m     \u001b[0;32mdef\u001b[0m \u001b[0m_do_epoch\u001b[0m\u001b[0;34m(\u001b[0m\u001b[0mself\u001b[0m\u001b[0;34m)\u001b[0m\u001b[0;34m:\u001b[0m\u001b[0;34m\u001b[0m\u001b[0;34m\u001b[0m\u001b[0m\n\u001b[1;32m    207\u001b[0m         \u001b[0mself\u001b[0m\u001b[0;34m.\u001b[0m\u001b[0m_do_epoch_train\u001b[0m\u001b[0;34m(\u001b[0m\u001b[0;34m)\u001b[0m\u001b[0;34m\u001b[0m\u001b[0;34m\u001b[0m\u001b[0m\n\u001b[0;32m--> 208\u001b[0;31m         \u001b[0mself\u001b[0m\u001b[0;34m.\u001b[0m\u001b[0m_do_epoch_validate\u001b[0m\u001b[0;34m(\u001b[0m\u001b[0;34m)\u001b[0m\u001b[0;34m\u001b[0m\u001b[0;34m\u001b[0m\u001b[0m\n\u001b[0m\u001b[1;32m    209\u001b[0m \u001b[0;34m\u001b[0m\u001b[0m\n\u001b[1;32m    210\u001b[0m     \u001b[0;32mdef\u001b[0m \u001b[0m_do_fit\u001b[0m\u001b[0;34m(\u001b[0m\u001b[0mself\u001b[0m\u001b[0;34m)\u001b[0m\u001b[0;34m:\u001b[0m\u001b[0;34m\u001b[0m\u001b[0;34m\u001b[0m\u001b[0m\n",
      "\u001b[0;32m~/opt/anaconda3/envs/fastai/lib/python3.7/site-packages/fastai/learner.py\u001b[0m in \u001b[0;36m_do_epoch_validate\u001b[0;34m(self, ds_idx, dl)\u001b[0m\n\u001b[1;32m    202\u001b[0m         \u001b[0;32mif\u001b[0m \u001b[0mdl\u001b[0m \u001b[0;32mis\u001b[0m \u001b[0;32mNone\u001b[0m\u001b[0;34m:\u001b[0m \u001b[0mdl\u001b[0m \u001b[0;34m=\u001b[0m \u001b[0mself\u001b[0m\u001b[0;34m.\u001b[0m\u001b[0mdls\u001b[0m\u001b[0;34m[\u001b[0m\u001b[0mds_idx\u001b[0m\u001b[0;34m]\u001b[0m\u001b[0;34m\u001b[0m\u001b[0;34m\u001b[0m\u001b[0m\n\u001b[1;32m    203\u001b[0m         \u001b[0mself\u001b[0m\u001b[0;34m.\u001b[0m\u001b[0mdl\u001b[0m \u001b[0;34m=\u001b[0m \u001b[0mdl\u001b[0m\u001b[0;34m\u001b[0m\u001b[0;34m\u001b[0m\u001b[0m\n\u001b[0;32m--> 204\u001b[0;31m         \u001b[0;32mwith\u001b[0m \u001b[0mtorch\u001b[0m\u001b[0;34m.\u001b[0m\u001b[0mno_grad\u001b[0m\u001b[0;34m(\u001b[0m\u001b[0;34m)\u001b[0m\u001b[0;34m:\u001b[0m \u001b[0mself\u001b[0m\u001b[0;34m.\u001b[0m\u001b[0m_with_events\u001b[0m\u001b[0;34m(\u001b[0m\u001b[0mself\u001b[0m\u001b[0;34m.\u001b[0m\u001b[0mall_batches\u001b[0m\u001b[0;34m,\u001b[0m \u001b[0;34m'validate'\u001b[0m\u001b[0;34m,\u001b[0m \u001b[0mCancelValidException\u001b[0m\u001b[0;34m)\u001b[0m\u001b[0;34m\u001b[0m\u001b[0;34m\u001b[0m\u001b[0m\n\u001b[0m\u001b[1;32m    205\u001b[0m \u001b[0;34m\u001b[0m\u001b[0m\n\u001b[1;32m    206\u001b[0m     \u001b[0;32mdef\u001b[0m \u001b[0m_do_epoch\u001b[0m\u001b[0;34m(\u001b[0m\u001b[0mself\u001b[0m\u001b[0;34m)\u001b[0m\u001b[0;34m:\u001b[0m\u001b[0;34m\u001b[0m\u001b[0;34m\u001b[0m\u001b[0m\n",
      "\u001b[0;32m~/opt/anaconda3/envs/fastai/lib/python3.7/site-packages/fastai/learner.py\u001b[0m in \u001b[0;36m_with_events\u001b[0;34m(self, f, event_type, ex, final)\u001b[0m\n\u001b[1;32m    162\u001b[0m \u001b[0;34m\u001b[0m\u001b[0m\n\u001b[1;32m    163\u001b[0m     \u001b[0;32mdef\u001b[0m \u001b[0m_with_events\u001b[0m\u001b[0;34m(\u001b[0m\u001b[0mself\u001b[0m\u001b[0;34m,\u001b[0m \u001b[0mf\u001b[0m\u001b[0;34m,\u001b[0m \u001b[0mevent_type\u001b[0m\u001b[0;34m,\u001b[0m \u001b[0mex\u001b[0m\u001b[0;34m,\u001b[0m \u001b[0mfinal\u001b[0m\u001b[0;34m=\u001b[0m\u001b[0mnoop\u001b[0m\u001b[0;34m)\u001b[0m\u001b[0;34m:\u001b[0m\u001b[0;34m\u001b[0m\u001b[0;34m\u001b[0m\u001b[0m\n\u001b[0;32m--> 164\u001b[0;31m         \u001b[0;32mtry\u001b[0m\u001b[0;34m:\u001b[0m \u001b[0mself\u001b[0m\u001b[0;34m(\u001b[0m\u001b[0;34mf'before_{event_type}'\u001b[0m\u001b[0;34m)\u001b[0m\u001b[0;34m;\u001b[0m  \u001b[0mf\u001b[0m\u001b[0;34m(\u001b[0m\u001b[0;34m)\u001b[0m\u001b[0;34m\u001b[0m\u001b[0;34m\u001b[0m\u001b[0m\n\u001b[0m\u001b[1;32m    165\u001b[0m         \u001b[0;32mexcept\u001b[0m \u001b[0mex\u001b[0m\u001b[0;34m:\u001b[0m \u001b[0mself\u001b[0m\u001b[0;34m(\u001b[0m\u001b[0;34mf'after_cancel_{event_type}'\u001b[0m\u001b[0;34m)\u001b[0m\u001b[0;34m\u001b[0m\u001b[0;34m\u001b[0m\u001b[0m\n\u001b[1;32m    166\u001b[0m         \u001b[0mself\u001b[0m\u001b[0;34m(\u001b[0m\u001b[0;34mf'after_{event_type}'\u001b[0m\u001b[0;34m)\u001b[0m\u001b[0;34m;\u001b[0m  \u001b[0mfinal\u001b[0m\u001b[0;34m(\u001b[0m\u001b[0;34m)\u001b[0m\u001b[0;34m\u001b[0m\u001b[0;34m\u001b[0m\u001b[0m\n",
      "\u001b[0;32m~/opt/anaconda3/envs/fastai/lib/python3.7/site-packages/fastai/learner.py\u001b[0m in \u001b[0;36mall_batches\u001b[0;34m(self)\u001b[0m\n\u001b[1;32m    168\u001b[0m     \u001b[0;32mdef\u001b[0m \u001b[0mall_batches\u001b[0m\u001b[0;34m(\u001b[0m\u001b[0mself\u001b[0m\u001b[0;34m)\u001b[0m\u001b[0;34m:\u001b[0m\u001b[0;34m\u001b[0m\u001b[0;34m\u001b[0m\u001b[0m\n\u001b[1;32m    169\u001b[0m         \u001b[0mself\u001b[0m\u001b[0;34m.\u001b[0m\u001b[0mn_iter\u001b[0m \u001b[0;34m=\u001b[0m \u001b[0mlen\u001b[0m\u001b[0;34m(\u001b[0m\u001b[0mself\u001b[0m\u001b[0;34m.\u001b[0m\u001b[0mdl\u001b[0m\u001b[0;34m)\u001b[0m\u001b[0;34m\u001b[0m\u001b[0;34m\u001b[0m\u001b[0m\n\u001b[0;32m--> 170\u001b[0;31m         \u001b[0;32mfor\u001b[0m \u001b[0mo\u001b[0m \u001b[0;32min\u001b[0m \u001b[0menumerate\u001b[0m\u001b[0;34m(\u001b[0m\u001b[0mself\u001b[0m\u001b[0;34m.\u001b[0m\u001b[0mdl\u001b[0m\u001b[0;34m)\u001b[0m\u001b[0;34m:\u001b[0m \u001b[0mself\u001b[0m\u001b[0;34m.\u001b[0m\u001b[0mone_batch\u001b[0m\u001b[0;34m(\u001b[0m\u001b[0;34m*\u001b[0m\u001b[0mo\u001b[0m\u001b[0;34m)\u001b[0m\u001b[0;34m\u001b[0m\u001b[0;34m\u001b[0m\u001b[0m\n\u001b[0m\u001b[1;32m    171\u001b[0m \u001b[0;34m\u001b[0m\u001b[0m\n\u001b[1;32m    172\u001b[0m     \u001b[0;32mdef\u001b[0m \u001b[0m_do_one_batch\u001b[0m\u001b[0;34m(\u001b[0m\u001b[0mself\u001b[0m\u001b[0;34m)\u001b[0m\u001b[0;34m:\u001b[0m\u001b[0;34m\u001b[0m\u001b[0;34m\u001b[0m\u001b[0m\n",
      "\u001b[0;32m~/opt/anaconda3/envs/fastai/lib/python3.7/site-packages/fastai/learner.py\u001b[0m in \u001b[0;36mone_batch\u001b[0;34m(self, i, b)\u001b[0m\n\u001b[1;32m    193\u001b[0m         \u001b[0mb\u001b[0m \u001b[0;34m=\u001b[0m \u001b[0mself\u001b[0m\u001b[0;34m.\u001b[0m\u001b[0m_set_device\u001b[0m\u001b[0;34m(\u001b[0m\u001b[0mb\u001b[0m\u001b[0;34m)\u001b[0m\u001b[0;34m\u001b[0m\u001b[0;34m\u001b[0m\u001b[0m\n\u001b[1;32m    194\u001b[0m         \u001b[0mself\u001b[0m\u001b[0;34m.\u001b[0m\u001b[0m_split\u001b[0m\u001b[0;34m(\u001b[0m\u001b[0mb\u001b[0m\u001b[0;34m)\u001b[0m\u001b[0;34m\u001b[0m\u001b[0;34m\u001b[0m\u001b[0m\n\u001b[0;32m--> 195\u001b[0;31m         \u001b[0mself\u001b[0m\u001b[0;34m.\u001b[0m\u001b[0m_with_events\u001b[0m\u001b[0;34m(\u001b[0m\u001b[0mself\u001b[0m\u001b[0;34m.\u001b[0m\u001b[0m_do_one_batch\u001b[0m\u001b[0;34m,\u001b[0m \u001b[0;34m'batch'\u001b[0m\u001b[0;34m,\u001b[0m \u001b[0mCancelBatchException\u001b[0m\u001b[0;34m)\u001b[0m\u001b[0;34m\u001b[0m\u001b[0;34m\u001b[0m\u001b[0m\n\u001b[0m\u001b[1;32m    196\u001b[0m \u001b[0;34m\u001b[0m\u001b[0m\n\u001b[1;32m    197\u001b[0m     \u001b[0;32mdef\u001b[0m \u001b[0m_do_epoch_train\u001b[0m\u001b[0;34m(\u001b[0m\u001b[0mself\u001b[0m\u001b[0;34m)\u001b[0m\u001b[0;34m:\u001b[0m\u001b[0;34m\u001b[0m\u001b[0;34m\u001b[0m\u001b[0m\n",
      "\u001b[0;32m~/opt/anaconda3/envs/fastai/lib/python3.7/site-packages/fastai/learner.py\u001b[0m in \u001b[0;36m_with_events\u001b[0;34m(self, f, event_type, ex, final)\u001b[0m\n\u001b[1;32m    164\u001b[0m         \u001b[0;32mtry\u001b[0m\u001b[0;34m:\u001b[0m \u001b[0mself\u001b[0m\u001b[0;34m(\u001b[0m\u001b[0;34mf'before_{event_type}'\u001b[0m\u001b[0;34m)\u001b[0m\u001b[0;34m;\u001b[0m  \u001b[0mf\u001b[0m\u001b[0;34m(\u001b[0m\u001b[0;34m)\u001b[0m\u001b[0;34m\u001b[0m\u001b[0;34m\u001b[0m\u001b[0m\n\u001b[1;32m    165\u001b[0m         \u001b[0;32mexcept\u001b[0m \u001b[0mex\u001b[0m\u001b[0;34m:\u001b[0m \u001b[0mself\u001b[0m\u001b[0;34m(\u001b[0m\u001b[0;34mf'after_cancel_{event_type}'\u001b[0m\u001b[0;34m)\u001b[0m\u001b[0;34m\u001b[0m\u001b[0;34m\u001b[0m\u001b[0m\n\u001b[0;32m--> 166\u001b[0;31m         \u001b[0mself\u001b[0m\u001b[0;34m(\u001b[0m\u001b[0;34mf'after_{event_type}'\u001b[0m\u001b[0;34m)\u001b[0m\u001b[0;34m;\u001b[0m  \u001b[0mfinal\u001b[0m\u001b[0;34m(\u001b[0m\u001b[0;34m)\u001b[0m\u001b[0;34m\u001b[0m\u001b[0;34m\u001b[0m\u001b[0m\n\u001b[0m\u001b[1;32m    167\u001b[0m \u001b[0;34m\u001b[0m\u001b[0m\n\u001b[1;32m    168\u001b[0m     \u001b[0;32mdef\u001b[0m \u001b[0mall_batches\u001b[0m\u001b[0;34m(\u001b[0m\u001b[0mself\u001b[0m\u001b[0;34m)\u001b[0m\u001b[0;34m:\u001b[0m\u001b[0;34m\u001b[0m\u001b[0;34m\u001b[0m\u001b[0m\n",
      "\u001b[0;32m~/opt/anaconda3/envs/fastai/lib/python3.7/site-packages/fastai/learner.py\u001b[0m in \u001b[0;36m__call__\u001b[0;34m(self, event_name)\u001b[0m\n\u001b[1;32m    140\u001b[0m \u001b[0;34m\u001b[0m\u001b[0m\n\u001b[1;32m    141\u001b[0m     \u001b[0;32mdef\u001b[0m \u001b[0mordered_cbs\u001b[0m\u001b[0;34m(\u001b[0m\u001b[0mself\u001b[0m\u001b[0;34m,\u001b[0m \u001b[0mevent\u001b[0m\u001b[0;34m)\u001b[0m\u001b[0;34m:\u001b[0m \u001b[0;32mreturn\u001b[0m \u001b[0;34m[\u001b[0m\u001b[0mcb\u001b[0m \u001b[0;32mfor\u001b[0m \u001b[0mcb\u001b[0m \u001b[0;32min\u001b[0m \u001b[0mself\u001b[0m\u001b[0;34m.\u001b[0m\u001b[0mcbs\u001b[0m\u001b[0;34m.\u001b[0m\u001b[0msorted\u001b[0m\u001b[0;34m(\u001b[0m\u001b[0;34m'order'\u001b[0m\u001b[0;34m)\u001b[0m \u001b[0;32mif\u001b[0m \u001b[0mhasattr\u001b[0m\u001b[0;34m(\u001b[0m\u001b[0mcb\u001b[0m\u001b[0;34m,\u001b[0m \u001b[0mevent\u001b[0m\u001b[0;34m)\u001b[0m\u001b[0;34m]\u001b[0m\u001b[0;34m\u001b[0m\u001b[0;34m\u001b[0m\u001b[0m\n\u001b[0;32m--> 142\u001b[0;31m     \u001b[0;32mdef\u001b[0m \u001b[0m__call__\u001b[0m\u001b[0;34m(\u001b[0m\u001b[0mself\u001b[0m\u001b[0;34m,\u001b[0m \u001b[0mevent_name\u001b[0m\u001b[0;34m)\u001b[0m\u001b[0;34m:\u001b[0m \u001b[0mL\u001b[0m\u001b[0;34m(\u001b[0m\u001b[0mevent_name\u001b[0m\u001b[0;34m)\u001b[0m\u001b[0;34m.\u001b[0m\u001b[0mmap\u001b[0m\u001b[0;34m(\u001b[0m\u001b[0mself\u001b[0m\u001b[0;34m.\u001b[0m\u001b[0m_call_one\u001b[0m\u001b[0;34m)\u001b[0m\u001b[0;34m\u001b[0m\u001b[0;34m\u001b[0m\u001b[0m\n\u001b[0m\u001b[1;32m    143\u001b[0m \u001b[0;34m\u001b[0m\u001b[0m\n\u001b[1;32m    144\u001b[0m     \u001b[0;32mdef\u001b[0m \u001b[0m_call_one\u001b[0m\u001b[0;34m(\u001b[0m\u001b[0mself\u001b[0m\u001b[0;34m,\u001b[0m \u001b[0mevent_name\u001b[0m\u001b[0;34m)\u001b[0m\u001b[0;34m:\u001b[0m\u001b[0;34m\u001b[0m\u001b[0;34m\u001b[0m\u001b[0m\n",
      "\u001b[0;32m~/opt/anaconda3/envs/fastai/lib/python3.7/site-packages/fastcore/foundation.py\u001b[0m in \u001b[0;36mmap\u001b[0;34m(self, f, gen, *args, **kwargs)\u001b[0m\n\u001b[1;32m    153\u001b[0m     \u001b[0;32mdef\u001b[0m \u001b[0mrange\u001b[0m\u001b[0;34m(\u001b[0m\u001b[0mcls\u001b[0m\u001b[0;34m,\u001b[0m \u001b[0ma\u001b[0m\u001b[0;34m,\u001b[0m \u001b[0mb\u001b[0m\u001b[0;34m=\u001b[0m\u001b[0;32mNone\u001b[0m\u001b[0;34m,\u001b[0m \u001b[0mstep\u001b[0m\u001b[0;34m=\u001b[0m\u001b[0;32mNone\u001b[0m\u001b[0;34m)\u001b[0m\u001b[0;34m:\u001b[0m \u001b[0;32mreturn\u001b[0m \u001b[0mcls\u001b[0m\u001b[0;34m(\u001b[0m\u001b[0mrange_of\u001b[0m\u001b[0;34m(\u001b[0m\u001b[0ma\u001b[0m\u001b[0;34m,\u001b[0m \u001b[0mb\u001b[0m\u001b[0;34m=\u001b[0m\u001b[0mb\u001b[0m\u001b[0;34m,\u001b[0m \u001b[0mstep\u001b[0m\u001b[0;34m=\u001b[0m\u001b[0mstep\u001b[0m\u001b[0;34m)\u001b[0m\u001b[0;34m)\u001b[0m\u001b[0;34m\u001b[0m\u001b[0;34m\u001b[0m\u001b[0m\n\u001b[1;32m    154\u001b[0m \u001b[0;34m\u001b[0m\u001b[0m\n\u001b[0;32m--> 155\u001b[0;31m     \u001b[0;32mdef\u001b[0m \u001b[0mmap\u001b[0m\u001b[0;34m(\u001b[0m\u001b[0mself\u001b[0m\u001b[0;34m,\u001b[0m \u001b[0mf\u001b[0m\u001b[0;34m,\u001b[0m \u001b[0;34m*\u001b[0m\u001b[0margs\u001b[0m\u001b[0;34m,\u001b[0m \u001b[0mgen\u001b[0m\u001b[0;34m=\u001b[0m\u001b[0;32mFalse\u001b[0m\u001b[0;34m,\u001b[0m \u001b[0;34m**\u001b[0m\u001b[0mkwargs\u001b[0m\u001b[0;34m)\u001b[0m\u001b[0;34m:\u001b[0m \u001b[0;32mreturn\u001b[0m \u001b[0mself\u001b[0m\u001b[0;34m.\u001b[0m\u001b[0m_new\u001b[0m\u001b[0;34m(\u001b[0m\u001b[0mmap_ex\u001b[0m\u001b[0;34m(\u001b[0m\u001b[0mself\u001b[0m\u001b[0;34m,\u001b[0m \u001b[0mf\u001b[0m\u001b[0;34m,\u001b[0m \u001b[0;34m*\u001b[0m\u001b[0margs\u001b[0m\u001b[0;34m,\u001b[0m \u001b[0mgen\u001b[0m\u001b[0;34m=\u001b[0m\u001b[0mgen\u001b[0m\u001b[0;34m,\u001b[0m \u001b[0;34m**\u001b[0m\u001b[0mkwargs\u001b[0m\u001b[0;34m)\u001b[0m\u001b[0;34m)\u001b[0m\u001b[0;34m\u001b[0m\u001b[0;34m\u001b[0m\u001b[0m\n\u001b[0m\u001b[1;32m    156\u001b[0m     \u001b[0;32mdef\u001b[0m \u001b[0margwhere\u001b[0m\u001b[0;34m(\u001b[0m\u001b[0mself\u001b[0m\u001b[0;34m,\u001b[0m \u001b[0mf\u001b[0m\u001b[0;34m,\u001b[0m \u001b[0mnegate\u001b[0m\u001b[0;34m=\u001b[0m\u001b[0;32mFalse\u001b[0m\u001b[0;34m,\u001b[0m \u001b[0;34m**\u001b[0m\u001b[0mkwargs\u001b[0m\u001b[0;34m)\u001b[0m\u001b[0;34m:\u001b[0m \u001b[0;32mreturn\u001b[0m \u001b[0mself\u001b[0m\u001b[0;34m.\u001b[0m\u001b[0m_new\u001b[0m\u001b[0;34m(\u001b[0m\u001b[0margwhere\u001b[0m\u001b[0;34m(\u001b[0m\u001b[0mself\u001b[0m\u001b[0;34m,\u001b[0m \u001b[0mf\u001b[0m\u001b[0;34m,\u001b[0m \u001b[0mnegate\u001b[0m\u001b[0;34m,\u001b[0m \u001b[0;34m**\u001b[0m\u001b[0mkwargs\u001b[0m\u001b[0;34m)\u001b[0m\u001b[0;34m)\u001b[0m\u001b[0;34m\u001b[0m\u001b[0;34m\u001b[0m\u001b[0m\n\u001b[1;32m    157\u001b[0m     \u001b[0;32mdef\u001b[0m \u001b[0margfirst\u001b[0m\u001b[0;34m(\u001b[0m\u001b[0mself\u001b[0m\u001b[0;34m,\u001b[0m \u001b[0mf\u001b[0m\u001b[0;34m,\u001b[0m \u001b[0mnegate\u001b[0m\u001b[0;34m=\u001b[0m\u001b[0;32mFalse\u001b[0m\u001b[0;34m)\u001b[0m\u001b[0;34m:\u001b[0m \u001b[0;32mreturn\u001b[0m \u001b[0mfirst\u001b[0m\u001b[0;34m(\u001b[0m\u001b[0mi\u001b[0m \u001b[0;32mfor\u001b[0m \u001b[0mi\u001b[0m\u001b[0;34m,\u001b[0m\u001b[0mo\u001b[0m \u001b[0;32min\u001b[0m \u001b[0mself\u001b[0m\u001b[0;34m.\u001b[0m\u001b[0menumerate\u001b[0m\u001b[0;34m(\u001b[0m\u001b[0;34m)\u001b[0m \u001b[0;32mif\u001b[0m \u001b[0mf\u001b[0m\u001b[0;34m(\u001b[0m\u001b[0mo\u001b[0m\u001b[0;34m)\u001b[0m\u001b[0;34m)\u001b[0m\u001b[0;34m\u001b[0m\u001b[0;34m\u001b[0m\u001b[0m\n",
      "\u001b[0;32m~/opt/anaconda3/envs/fastai/lib/python3.7/site-packages/fastcore/basics.py\u001b[0m in \u001b[0;36mmap_ex\u001b[0;34m(iterable, f, gen, *args, **kwargs)\u001b[0m\n\u001b[1;32m    778\u001b[0m     \u001b[0mres\u001b[0m \u001b[0;34m=\u001b[0m \u001b[0mmap\u001b[0m\u001b[0;34m(\u001b[0m\u001b[0mg\u001b[0m\u001b[0;34m,\u001b[0m \u001b[0miterable\u001b[0m\u001b[0;34m)\u001b[0m\u001b[0;34m\u001b[0m\u001b[0;34m\u001b[0m\u001b[0m\n\u001b[1;32m    779\u001b[0m     \u001b[0;32mif\u001b[0m \u001b[0mgen\u001b[0m\u001b[0;34m:\u001b[0m \u001b[0;32mreturn\u001b[0m \u001b[0mres\u001b[0m\u001b[0;34m\u001b[0m\u001b[0;34m\u001b[0m\u001b[0m\n\u001b[0;32m--> 780\u001b[0;31m     \u001b[0;32mreturn\u001b[0m \u001b[0mlist\u001b[0m\u001b[0;34m(\u001b[0m\u001b[0mres\u001b[0m\u001b[0;34m)\u001b[0m\u001b[0;34m\u001b[0m\u001b[0;34m\u001b[0m\u001b[0m\n\u001b[0m\u001b[1;32m    781\u001b[0m \u001b[0;34m\u001b[0m\u001b[0m\n\u001b[1;32m    782\u001b[0m \u001b[0;31m# Cell\u001b[0m\u001b[0;34m\u001b[0m\u001b[0;34m\u001b[0m\u001b[0;34m\u001b[0m\u001b[0m\n",
      "\u001b[0;32m~/opt/anaconda3/envs/fastai/lib/python3.7/site-packages/fastcore/basics.py\u001b[0m in \u001b[0;36m__call__\u001b[0;34m(self, *args, **kwargs)\u001b[0m\n\u001b[1;32m    763\u001b[0m             \u001b[0;32mif\u001b[0m \u001b[0misinstance\u001b[0m\u001b[0;34m(\u001b[0m\u001b[0mv\u001b[0m\u001b[0;34m,\u001b[0m\u001b[0m_Arg\u001b[0m\u001b[0;34m)\u001b[0m\u001b[0;34m:\u001b[0m \u001b[0mkwargs\u001b[0m\u001b[0;34m[\u001b[0m\u001b[0mk\u001b[0m\u001b[0;34m]\u001b[0m \u001b[0;34m=\u001b[0m \u001b[0margs\u001b[0m\u001b[0;34m.\u001b[0m\u001b[0mpop\u001b[0m\u001b[0;34m(\u001b[0m\u001b[0mv\u001b[0m\u001b[0;34m.\u001b[0m\u001b[0mi\u001b[0m\u001b[0;34m)\u001b[0m\u001b[0;34m\u001b[0m\u001b[0;34m\u001b[0m\u001b[0m\n\u001b[1;32m    764\u001b[0m         \u001b[0mfargs\u001b[0m \u001b[0;34m=\u001b[0m \u001b[0;34m[\u001b[0m\u001b[0margs\u001b[0m\u001b[0;34m[\u001b[0m\u001b[0mx\u001b[0m\u001b[0;34m.\u001b[0m\u001b[0mi\u001b[0m\u001b[0;34m]\u001b[0m \u001b[0;32mif\u001b[0m \u001b[0misinstance\u001b[0m\u001b[0;34m(\u001b[0m\u001b[0mx\u001b[0m\u001b[0;34m,\u001b[0m \u001b[0m_Arg\u001b[0m\u001b[0;34m)\u001b[0m \u001b[0;32melse\u001b[0m \u001b[0mx\u001b[0m \u001b[0;32mfor\u001b[0m \u001b[0mx\u001b[0m \u001b[0;32min\u001b[0m \u001b[0mself\u001b[0m\u001b[0;34m.\u001b[0m\u001b[0mpargs\u001b[0m\u001b[0;34m]\u001b[0m \u001b[0;34m+\u001b[0m \u001b[0margs\u001b[0m\u001b[0;34m[\u001b[0m\u001b[0mself\u001b[0m\u001b[0;34m.\u001b[0m\u001b[0mmaxi\u001b[0m\u001b[0;34m+\u001b[0m\u001b[0;36m1\u001b[0m\u001b[0;34m:\u001b[0m\u001b[0;34m]\u001b[0m\u001b[0;34m\u001b[0m\u001b[0;34m\u001b[0m\u001b[0m\n\u001b[0;32m--> 765\u001b[0;31m         \u001b[0;32mreturn\u001b[0m \u001b[0mself\u001b[0m\u001b[0;34m.\u001b[0m\u001b[0mfunc\u001b[0m\u001b[0;34m(\u001b[0m\u001b[0;34m*\u001b[0m\u001b[0mfargs\u001b[0m\u001b[0;34m,\u001b[0m \u001b[0;34m**\u001b[0m\u001b[0mkwargs\u001b[0m\u001b[0;34m)\u001b[0m\u001b[0;34m\u001b[0m\u001b[0;34m\u001b[0m\u001b[0m\n\u001b[0m\u001b[1;32m    766\u001b[0m \u001b[0;34m\u001b[0m\u001b[0m\n\u001b[1;32m    767\u001b[0m \u001b[0;31m# Cell\u001b[0m\u001b[0;34m\u001b[0m\u001b[0;34m\u001b[0m\u001b[0;34m\u001b[0m\u001b[0m\n",
      "\u001b[0;32m~/opt/anaconda3/envs/fastai/lib/python3.7/site-packages/fastai/learner.py\u001b[0m in \u001b[0;36m_call_one\u001b[0;34m(self, event_name)\u001b[0m\n\u001b[1;32m    144\u001b[0m     \u001b[0;32mdef\u001b[0m \u001b[0m_call_one\u001b[0m\u001b[0;34m(\u001b[0m\u001b[0mself\u001b[0m\u001b[0;34m,\u001b[0m \u001b[0mevent_name\u001b[0m\u001b[0;34m)\u001b[0m\u001b[0;34m:\u001b[0m\u001b[0;34m\u001b[0m\u001b[0;34m\u001b[0m\u001b[0m\n\u001b[1;32m    145\u001b[0m         \u001b[0;32mif\u001b[0m \u001b[0;32mnot\u001b[0m \u001b[0mhasattr\u001b[0m\u001b[0;34m(\u001b[0m\u001b[0mevent\u001b[0m\u001b[0;34m,\u001b[0m \u001b[0mevent_name\u001b[0m\u001b[0;34m)\u001b[0m\u001b[0;34m:\u001b[0m \u001b[0;32mraise\u001b[0m \u001b[0mException\u001b[0m\u001b[0;34m(\u001b[0m\u001b[0;34mf'missing {event_name}'\u001b[0m\u001b[0;34m)\u001b[0m\u001b[0;34m\u001b[0m\u001b[0;34m\u001b[0m\u001b[0m\n\u001b[0;32m--> 146\u001b[0;31m         \u001b[0;32mfor\u001b[0m \u001b[0mcb\u001b[0m \u001b[0;32min\u001b[0m \u001b[0mself\u001b[0m\u001b[0;34m.\u001b[0m\u001b[0mcbs\u001b[0m\u001b[0;34m.\u001b[0m\u001b[0msorted\u001b[0m\u001b[0;34m(\u001b[0m\u001b[0;34m'order'\u001b[0m\u001b[0;34m)\u001b[0m\u001b[0;34m:\u001b[0m \u001b[0mcb\u001b[0m\u001b[0;34m(\u001b[0m\u001b[0mevent_name\u001b[0m\u001b[0;34m)\u001b[0m\u001b[0;34m\u001b[0m\u001b[0;34m\u001b[0m\u001b[0m\n\u001b[0m\u001b[1;32m    147\u001b[0m \u001b[0;34m\u001b[0m\u001b[0m\n\u001b[1;32m    148\u001b[0m     \u001b[0;32mdef\u001b[0m \u001b[0m_bn_bias_state\u001b[0m\u001b[0;34m(\u001b[0m\u001b[0mself\u001b[0m\u001b[0;34m,\u001b[0m \u001b[0mwith_bias\u001b[0m\u001b[0;34m)\u001b[0m\u001b[0;34m:\u001b[0m \u001b[0;32mreturn\u001b[0m \u001b[0mnorm_bias_params\u001b[0m\u001b[0;34m(\u001b[0m\u001b[0mself\u001b[0m\u001b[0;34m.\u001b[0m\u001b[0mmodel\u001b[0m\u001b[0;34m,\u001b[0m \u001b[0mwith_bias\u001b[0m\u001b[0;34m)\u001b[0m\u001b[0;34m.\u001b[0m\u001b[0mmap\u001b[0m\u001b[0;34m(\u001b[0m\u001b[0mself\u001b[0m\u001b[0;34m.\u001b[0m\u001b[0mopt\u001b[0m\u001b[0;34m.\u001b[0m\u001b[0mstate\u001b[0m\u001b[0;34m)\u001b[0m\u001b[0;34m\u001b[0m\u001b[0;34m\u001b[0m\u001b[0m\n",
      "\u001b[0;32m~/opt/anaconda3/envs/fastai/lib/python3.7/site-packages/fastai/callback/core.py\u001b[0m in \u001b[0;36m__call__\u001b[0;34m(self, event_name)\u001b[0m\n\u001b[1;32m     55\u001b[0m         \u001b[0mres\u001b[0m \u001b[0;34m=\u001b[0m \u001b[0;32mNone\u001b[0m\u001b[0;34m\u001b[0m\u001b[0;34m\u001b[0m\u001b[0m\n\u001b[1;32m     56\u001b[0m         \u001b[0;32mif\u001b[0m \u001b[0mself\u001b[0m\u001b[0;34m.\u001b[0m\u001b[0mrun\u001b[0m \u001b[0;32mand\u001b[0m \u001b[0m_run\u001b[0m\u001b[0;34m:\u001b[0m\u001b[0;34m\u001b[0m\u001b[0;34m\u001b[0m\u001b[0m\n\u001b[0;32m---> 57\u001b[0;31m             \u001b[0;32mtry\u001b[0m\u001b[0;34m:\u001b[0m \u001b[0mres\u001b[0m \u001b[0;34m=\u001b[0m \u001b[0mgetattr\u001b[0m\u001b[0;34m(\u001b[0m\u001b[0mself\u001b[0m\u001b[0;34m,\u001b[0m \u001b[0mevent_name\u001b[0m\u001b[0;34m,\u001b[0m \u001b[0mnoop\u001b[0m\u001b[0;34m)\u001b[0m\u001b[0;34m(\u001b[0m\u001b[0;34m)\u001b[0m\u001b[0;34m\u001b[0m\u001b[0;34m\u001b[0m\u001b[0m\n\u001b[0m\u001b[1;32m     58\u001b[0m             \u001b[0;32mexcept\u001b[0m \u001b[0;34m(\u001b[0m\u001b[0mCancelBatchException\u001b[0m\u001b[0;34m,\u001b[0m \u001b[0mCancelEpochException\u001b[0m\u001b[0;34m,\u001b[0m \u001b[0mCancelFitException\u001b[0m\u001b[0;34m,\u001b[0m \u001b[0mCancelStepException\u001b[0m\u001b[0;34m,\u001b[0m \u001b[0mCancelTrainException\u001b[0m\u001b[0;34m,\u001b[0m \u001b[0mCancelValidException\u001b[0m\u001b[0;34m)\u001b[0m\u001b[0;34m:\u001b[0m \u001b[0;32mraise\u001b[0m\u001b[0;34m\u001b[0m\u001b[0;34m\u001b[0m\u001b[0m\n\u001b[1;32m     59\u001b[0m             \u001b[0;32mexcept\u001b[0m \u001b[0mException\u001b[0m \u001b[0;32mas\u001b[0m \u001b[0me\u001b[0m\u001b[0;34m:\u001b[0m\u001b[0;34m\u001b[0m\u001b[0;34m\u001b[0m\u001b[0m\n",
      "\u001b[0;32m~/opt/anaconda3/envs/fastai/lib/python3.7/site-packages/fastai/learner.py\u001b[0m in \u001b[0;36mafter_batch\u001b[0;34m(self)\u001b[0m\n\u001b[1;32m    515\u001b[0m         \u001b[0;32mif\u001b[0m \u001b[0mlen\u001b[0m\u001b[0;34m(\u001b[0m\u001b[0mself\u001b[0m\u001b[0;34m.\u001b[0m\u001b[0myb\u001b[0m\u001b[0;34m)\u001b[0m \u001b[0;34m==\u001b[0m \u001b[0;36m0\u001b[0m\u001b[0;34m:\u001b[0m \u001b[0;32mreturn\u001b[0m\u001b[0;34m\u001b[0m\u001b[0;34m\u001b[0m\u001b[0m\n\u001b[1;32m    516\u001b[0m         \u001b[0mmets\u001b[0m \u001b[0;34m=\u001b[0m \u001b[0mself\u001b[0m\u001b[0;34m.\u001b[0m\u001b[0m_train_mets\u001b[0m \u001b[0;32mif\u001b[0m \u001b[0mself\u001b[0m\u001b[0;34m.\u001b[0m\u001b[0mtraining\u001b[0m \u001b[0;32melse\u001b[0m \u001b[0mself\u001b[0m\u001b[0;34m.\u001b[0m\u001b[0m_valid_mets\u001b[0m\u001b[0;34m\u001b[0m\u001b[0;34m\u001b[0m\u001b[0m\n\u001b[0;32m--> 517\u001b[0;31m         \u001b[0;32mfor\u001b[0m \u001b[0mmet\u001b[0m \u001b[0;32min\u001b[0m \u001b[0mmets\u001b[0m\u001b[0;34m:\u001b[0m \u001b[0mmet\u001b[0m\u001b[0;34m.\u001b[0m\u001b[0maccumulate\u001b[0m\u001b[0;34m(\u001b[0m\u001b[0mself\u001b[0m\u001b[0;34m.\u001b[0m\u001b[0mlearn\u001b[0m\u001b[0;34m)\u001b[0m\u001b[0;34m\u001b[0m\u001b[0;34m\u001b[0m\u001b[0m\n\u001b[0m\u001b[1;32m    518\u001b[0m         \u001b[0;32mif\u001b[0m \u001b[0;32mnot\u001b[0m \u001b[0mself\u001b[0m\u001b[0;34m.\u001b[0m\u001b[0mtraining\u001b[0m\u001b[0;34m:\u001b[0m \u001b[0;32mreturn\u001b[0m\u001b[0;34m\u001b[0m\u001b[0;34m\u001b[0m\u001b[0m\n\u001b[1;32m    519\u001b[0m         \u001b[0mself\u001b[0m\u001b[0;34m.\u001b[0m\u001b[0mlrs\u001b[0m\u001b[0;34m.\u001b[0m\u001b[0mappend\u001b[0m\u001b[0;34m(\u001b[0m\u001b[0mself\u001b[0m\u001b[0;34m.\u001b[0m\u001b[0mopt\u001b[0m\u001b[0;34m.\u001b[0m\u001b[0mhypers\u001b[0m\u001b[0;34m[\u001b[0m\u001b[0;34m-\u001b[0m\u001b[0;36m1\u001b[0m\u001b[0;34m]\u001b[0m\u001b[0;34m[\u001b[0m\u001b[0;34m'lr'\u001b[0m\u001b[0;34m]\u001b[0m\u001b[0;34m)\u001b[0m\u001b[0;34m\u001b[0m\u001b[0;34m\u001b[0m\u001b[0m\n",
      "\u001b[0;32m~/opt/anaconda3/envs/fastai/lib/python3.7/site-packages/fastai/learner.py\u001b[0m in \u001b[0;36maccumulate\u001b[0;34m(self, learn)\u001b[0m\n\u001b[1;32m    437\u001b[0m     \u001b[0;32mdef\u001b[0m \u001b[0maccumulate\u001b[0m\u001b[0;34m(\u001b[0m\u001b[0mself\u001b[0m\u001b[0;34m,\u001b[0m \u001b[0mlearn\u001b[0m\u001b[0;34m)\u001b[0m\u001b[0;34m:\u001b[0m\u001b[0;34m\u001b[0m\u001b[0;34m\u001b[0m\u001b[0m\n\u001b[1;32m    438\u001b[0m         \u001b[0mbs\u001b[0m \u001b[0;34m=\u001b[0m \u001b[0mfind_bs\u001b[0m\u001b[0;34m(\u001b[0m\u001b[0mlearn\u001b[0m\u001b[0;34m.\u001b[0m\u001b[0myb\u001b[0m\u001b[0;34m)\u001b[0m\u001b[0;34m\u001b[0m\u001b[0;34m\u001b[0m\u001b[0m\n\u001b[0;32m--> 439\u001b[0;31m         \u001b[0mself\u001b[0m\u001b[0;34m.\u001b[0m\u001b[0mtotal\u001b[0m \u001b[0;34m+=\u001b[0m \u001b[0mlearn\u001b[0m\u001b[0;34m.\u001b[0m\u001b[0mto_detach\u001b[0m\u001b[0;34m(\u001b[0m\u001b[0mself\u001b[0m\u001b[0;34m.\u001b[0m\u001b[0mfunc\u001b[0m\u001b[0;34m(\u001b[0m\u001b[0mlearn\u001b[0m\u001b[0;34m.\u001b[0m\u001b[0mpred\u001b[0m\u001b[0;34m,\u001b[0m \u001b[0;34m*\u001b[0m\u001b[0mlearn\u001b[0m\u001b[0;34m.\u001b[0m\u001b[0myb\u001b[0m\u001b[0;34m)\u001b[0m\u001b[0;34m)\u001b[0m\u001b[0;34m*\u001b[0m\u001b[0mbs\u001b[0m\u001b[0;34m\u001b[0m\u001b[0;34m\u001b[0m\u001b[0m\n\u001b[0m\u001b[1;32m    440\u001b[0m         \u001b[0mself\u001b[0m\u001b[0;34m.\u001b[0m\u001b[0mcount\u001b[0m \u001b[0;34m+=\u001b[0m \u001b[0mbs\u001b[0m\u001b[0;34m\u001b[0m\u001b[0;34m\u001b[0m\u001b[0m\n\u001b[1;32m    441\u001b[0m     \u001b[0;34m@\u001b[0m\u001b[0mproperty\u001b[0m\u001b[0;34m\u001b[0m\u001b[0;34m\u001b[0m\u001b[0m\n",
      "\u001b[0;31mTypeError\u001b[0m: Exception occured in `Recorder` when calling event `after_batch`:\n\t'Tensor' object is not callable"
     ]
    }
   ],
   "source": [
    "learn.fit_one_cycle(1,0.1,)"
   ]
  }
 ],
 "metadata": {
  "accelerator": "GPU",
  "colab": {
   "collapsed_sections": [
    "E63yDcwgRNvt",
    "i2xElbHNzM8a",
    "afiHAQ6CE7f6",
    "K1q788NLE_VG"
   ],
   "include_colab_link": true,
   "name": "04_mnist_basics.ipynb",
   "provenance": [],
   "toc_visible": true
  },
  "jupytext": {
   "split_at_heading": true
  },
  "kernelspec": {
   "display_name": "Python 3 (ipykernel)",
   "language": "python",
   "name": "python3"
  },
  "language_info": {
   "codemirror_mode": {
    "name": "ipython",
    "version": 3
   },
   "file_extension": ".py",
   "mimetype": "text/x-python",
   "name": "python",
   "nbconvert_exporter": "python",
   "pygments_lexer": "ipython3",
   "version": "3.7.13"
  }
 },
 "nbformat": 4,
 "nbformat_minor": 4
}
