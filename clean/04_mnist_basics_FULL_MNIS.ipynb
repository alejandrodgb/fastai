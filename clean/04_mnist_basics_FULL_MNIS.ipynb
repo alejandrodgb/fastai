{
 "cells": [
  {
   "cell_type": "markdown",
   "metadata": {
    "colab_type": "text",
    "id": "view-in-github"
   },
   "source": [
    "<a href=\"https://colab.research.google.com/github/alejandrodgb/fastai/blob/main/clean/04_mnist_basics.ipynb\" target=\"_parent\"><img src=\"https://colab.research.google.com/assets/colab-badge.svg\" alt=\"Open In Colab\"/></a>"
   ]
  },
  {
   "cell_type": "markdown",
   "metadata": {
    "tags": []
   },
   "source": [
    "## Full MNIST dataset"
   ]
  },
  {
   "cell_type": "markdown",
   "metadata": {},
   "source": [
    "Complete all the steps in this chapter using the full MNIST datasets (for all digits, not just 3s and 7s). This is a significant project and will take you quite a bit of time to complete! You’ll need to do some of your own research to figure out how to overcome obstacles you’ll meet on the way."
   ]
  },
  {
   "cell_type": "markdown",
   "metadata": {
    "id": "iHHs6hVmHkqu"
   },
   "source": [
    "# Libraries"
   ]
  },
  {
   "cell_type": "code",
   "execution_count": 1,
   "metadata": {
    "id": "R4ny3ILkxzeO"
   },
   "outputs": [],
   "source": [
    "# Prepare notebook\n",
    "from fastai.vision.all import *"
   ]
  },
  {
   "cell_type": "code",
   "execution_count": 2,
   "metadata": {
    "id": "bsjtSN-qFc-n"
   },
   "outputs": [],
   "source": [
    "# Prepare notebook\n",
    "from fastbook import *    \n",
    "matplotlib.rc('image', cmap='Greys')"
   ]
  },
  {
   "cell_type": "markdown",
   "metadata": {
    "id": "8rrPeLncHoId"
   },
   "source": [
    "# Data"
   ]
  },
  {
   "cell_type": "code",
   "execution_count": 3,
   "metadata": {
    "colab": {
     "base_uri": "https://localhost:8080/",
     "height": 37
    },
    "id": "DiSq-GNSFc-s",
    "outputId": "ab482206-dc41-435a-c6ff-43f03dad6e1b"
   },
   "outputs": [],
   "source": [
    "# Get MNIST data. Return object is the path where data is located\n",
    "path = untar_data(URLs.MNIST)"
   ]
  },
  {
   "cell_type": "code",
   "execution_count": 4,
   "metadata": {
    "id": "ErZ5KysSFc-t"
   },
   "outputs": [],
   "source": [
    "# Set BASE_PATH of Path to the MNIST data location\n",
    "Path.BASE_PATH = path"
   ]
  },
  {
   "cell_type": "code",
   "execution_count": 5,
   "metadata": {
    "colab": {
     "base_uri": "https://localhost:8080/"
    },
    "id": "THEGTsbUFc-u",
    "outputId": "ed8ac7c3-9114-4d51-ed9d-6cd056190e55"
   },
   "outputs": [
    {
     "data": {
      "text/plain": [
       "(#2) [Path('training'),Path('testing')]"
      ]
     },
     "execution_count": 5,
     "metadata": {},
     "output_type": "execute_result"
    }
   ],
   "source": [
    "# Review contents of path\n",
    "path.ls()"
   ]
  },
  {
   "cell_type": "code",
   "execution_count": 6,
   "metadata": {
    "colab": {
     "base_uri": "https://localhost:8080/"
    },
    "id": "GJpL1k8kFc-v",
    "outputId": "d4e5e8fd-c2e4-4e61-a170-acdac8a67e71"
   },
   "outputs": [
    {
     "data": {
      "text/plain": [
       "(#10) [Path('training/9'),Path('training/0'),Path('training/7'),Path('training/6'),Path('training/1'),Path('training/8'),Path('training/4'),Path('training/3'),Path('training/2'),Path('training/5')]"
      ]
     },
     "execution_count": 6,
     "metadata": {},
     "output_type": "execute_result"
    }
   ],
   "source": [
    "# Review contents of train folder\n",
    "(path/'training').ls()"
   ]
  },
  {
   "cell_type": "code",
   "execution_count": 7,
   "metadata": {},
   "outputs": [],
   "source": [
    "nums_paths = [(path/'training'/f'{i}').ls() for i in range(10)]"
   ]
  },
  {
   "cell_type": "code",
   "execution_count": 8,
   "metadata": {
    "colab": {
     "base_uri": "https://localhost:8080/",
     "height": 45
    },
    "id": "Ri7aHM4YHJdN",
    "outputId": "68c017e5-d67c-4146-a4c1-ec92d8b94770"
   },
   "outputs": [
    {
     "data": {
      "image/png": "[encoded data removed]",
      "text/plain": [
       "<PIL.PngImagePlugin.PngImageFile image mode=L size=28x28 at 0x7F855CF07190>"
      ]
     },
     "execution_count": 8,
     "metadata": {},
     "output_type": "execute_result"
    }
   ],
   "source": [
    "# Review one image\n",
    "im_path = nums_paths[1][1]\n",
    "im = Image.open(im_path)\n",
    "im"
   ]
  },
  {
   "cell_type": "code",
   "execution_count": 9,
   "metadata": {
    "colab": {
     "base_uri": "https://localhost:8080/",
     "height": 928
    },
    "id": "9R1i8afxJPNI",
    "outputId": "ec810a6a-fa6f-4c00-e682-de96f46fe905"
   },
   "outputs": [
    {
     "data": {
      "text/html": [
       "<style type=\"text/css\">\n",
       "#T_bc034_row0_col0, #T_bc034_row0_col1, #T_bc034_row0_col2, #T_bc034_row0_col3, #T_bc034_row0_col4, #T_bc034_row0_col5, #T_bc034_row0_col6, #T_bc034_row0_col7, #T_bc034_row0_col8, #T_bc034_row0_col9, #T_bc034_row0_col10, #T_bc034_row0_col11, #T_bc034_row0_col12, #T_bc034_row0_col13, #T_bc034_row0_col14, #T_bc034_row0_col15, #T_bc034_row0_col16, #T_bc034_row0_col17, #T_bc034_row0_col18, #T_bc034_row0_col19, #T_bc034_row0_col20, #T_bc034_row0_col21, #T_bc034_row0_col22, #T_bc034_row0_col23, #T_bc034_row0_col24, #T_bc034_row0_col25, #T_bc034_row0_col26, #T_bc034_row0_col27, #T_bc034_row1_col0, #T_bc034_row1_col1, #T_bc034_row1_col2, #T_bc034_row1_col3, #T_bc034_row1_col4, #T_bc034_row1_col5, #T_bc034_row1_col6, #T_bc034_row1_col7, #T_bc034_row1_col8, #T_bc034_row1_col9, #T_bc034_row1_col10, #T_bc034_row1_col11, #T_bc034_row1_col12, #T_bc034_row1_col13, #T_bc034_row1_col14, #T_bc034_row1_col15, #T_bc034_row1_col16, #T_bc034_row1_col17, #T_bc034_row1_col18, #T_bc034_row1_col19, #T_bc034_row1_col20, #T_bc034_row1_col21, #T_bc034_row1_col22, #T_bc034_row1_col23, #T_bc034_row1_col24, #T_bc034_row1_col25, #T_bc034_row1_col26, #T_bc034_row1_col27, #T_bc034_row2_col0, #T_bc034_row2_col1, #T_bc034_row2_col2, #T_bc034_row2_col3, #T_bc034_row2_col4, #T_bc034_row2_col5, #T_bc034_row2_col6, #T_bc034_row2_col7, #T_bc034_row2_col8, #T_bc034_row2_col9, #T_bc034_row2_col10, #T_bc034_row2_col11, #T_bc034_row2_col12, #T_bc034_row2_col13, #T_bc034_row2_col14, #T_bc034_row2_col15, #T_bc034_row2_col16, #T_bc034_row2_col17, #T_bc034_row2_col18, #T_bc034_row2_col19, #T_bc034_row2_col20, #T_bc034_row2_col21, #T_bc034_row2_col22, #T_bc034_row2_col23, #T_bc034_row2_col24, #T_bc034_row2_col25, #T_bc034_row2_col26, #T_bc034_row2_col27, #T_bc034_row3_col0, #T_bc034_row3_col1, #T_bc034_row3_col2, #T_bc034_row3_col3, #T_bc034_row3_col4, #T_bc034_row3_col5, #T_bc034_row3_col6, #T_bc034_row3_col7, #T_bc034_row3_col8, #T_bc034_row3_col9, #T_bc034_row3_col10, #T_bc034_row3_col11, #T_bc034_row3_col12, #T_bc034_row3_col13, #T_bc034_row3_col14, #T_bc034_row3_col15, #T_bc034_row3_col16, #T_bc034_row3_col17, #T_bc034_row3_col18, #T_bc034_row3_col19, #T_bc034_row3_col20, #T_bc034_row3_col21, #T_bc034_row3_col22, #T_bc034_row3_col23, #T_bc034_row3_col24, #T_bc034_row3_col25, #T_bc034_row3_col26, #T_bc034_row3_col27, #T_bc034_row4_col0, #T_bc034_row4_col1, #T_bc034_row4_col2, #T_bc034_row4_col3, #T_bc034_row4_col4, #T_bc034_row4_col5, #T_bc034_row4_col6, #T_bc034_row4_col7, #T_bc034_row4_col8, #T_bc034_row4_col9, #T_bc034_row4_col10, #T_bc034_row4_col11, #T_bc034_row4_col12, #T_bc034_row4_col13, #T_bc034_row4_col14, #T_bc034_row4_col15, #T_bc034_row4_col16, #T_bc034_row4_col17, #T_bc034_row4_col18, #T_bc034_row4_col19, #T_bc034_row4_col20, #T_bc034_row4_col21, #T_bc034_row4_col22, #T_bc034_row4_col23, #T_bc034_row4_col24, #T_bc034_row4_col25, #T_bc034_row4_col26, #T_bc034_row4_col27, #T_bc034_row5_col0, #T_bc034_row5_col1, #T_bc034_row5_col2, #T_bc034_row5_col3, #T_bc034_row5_col4, #T_bc034_row5_col5, #T_bc034_row5_col6, #T_bc034_row5_col7, #T_bc034_row5_col8, #T_bc034_row5_col9, #T_bc034_row5_col10, #T_bc034_row5_col11, #T_bc034_row5_col12, #T_bc034_row5_col13, #T_bc034_row5_col17, #T_bc034_row5_col18, #T_bc034_row5_col19, #T_bc034_row5_col20, #T_bc034_row5_col21, #T_bc034_row5_col22, #T_bc034_row5_col23, #T_bc034_row5_col24, #T_bc034_row5_col25, #T_bc034_row5_col26, #T_bc034_row5_col27, #T_bc034_row6_col0, #T_bc034_row6_col1, #T_bc034_row6_col2, #T_bc034_row6_col3, #T_bc034_row6_col4, #T_bc034_row6_col5, #T_bc034_row6_col6, #T_bc034_row6_col7, #T_bc034_row6_col8, #T_bc034_row6_col9, #T_bc034_row6_col10, #T_bc034_row6_col11, #T_bc034_row6_col12, #T_bc034_row6_col18, #T_bc034_row6_col19, #T_bc034_row6_col20, #T_bc034_row6_col21, #T_bc034_row6_col22, #T_bc034_row6_col23, #T_bc034_row6_col24, #T_bc034_row6_col25, #T_bc034_row6_col26, #T_bc034_row6_col27, #T_bc034_row7_col0, #T_bc034_row7_col1, #T_bc034_row7_col2, #T_bc034_row7_col3, #T_bc034_row7_col4, #T_bc034_row7_col5, #T_bc034_row7_col6, #T_bc034_row7_col7, #T_bc034_row7_col8, #T_bc034_row7_col9, #T_bc034_row7_col10, #T_bc034_row7_col11, #T_bc034_row7_col12, #T_bc034_row7_col18, #T_bc034_row7_col19, #T_bc034_row7_col20, #T_bc034_row7_col21, #T_bc034_row7_col22, #T_bc034_row7_col23, #T_bc034_row7_col24, #T_bc034_row7_col25, #T_bc034_row7_col26, #T_bc034_row7_col27, #T_bc034_row8_col0, #T_bc034_row8_col1, #T_bc034_row8_col2, #T_bc034_row8_col3, #T_bc034_row8_col4, #T_bc034_row8_col5, #T_bc034_row8_col6, #T_bc034_row8_col7, #T_bc034_row8_col8, #T_bc034_row8_col9, #T_bc034_row8_col10, #T_bc034_row8_col11, #T_bc034_row8_col12, #T_bc034_row8_col18, #T_bc034_row8_col19, #T_bc034_row8_col20, #T_bc034_row8_col21, #T_bc034_row8_col22, #T_bc034_row8_col23, #T_bc034_row8_col24, #T_bc034_row8_col25, #T_bc034_row8_col26, #T_bc034_row8_col27, #T_bc034_row9_col0, #T_bc034_row9_col1, #T_bc034_row9_col2, #T_bc034_row9_col3, #T_bc034_row9_col4, #T_bc034_row9_col5, #T_bc034_row9_col6, #T_bc034_row9_col7, #T_bc034_row9_col8, #T_bc034_row9_col9, #T_bc034_row9_col10, #T_bc034_row9_col11, #T_bc034_row9_col18, #T_bc034_row9_col19, #T_bc034_row9_col20, #T_bc034_row9_col21, #T_bc034_row9_col22, #T_bc034_row9_col23, #T_bc034_row9_col24, #T_bc034_row9_col25, #T_bc034_row9_col26, #T_bc034_row9_col27, #T_bc034_row10_col0, #T_bc034_row10_col1, #T_bc034_row10_col2, #T_bc034_row10_col3, #T_bc034_row10_col4, #T_bc034_row10_col5, #T_bc034_row10_col6, #T_bc034_row10_col7, #T_bc034_row10_col8, #T_bc034_row10_col9, #T_bc034_row10_col10, #T_bc034_row10_col18, #T_bc034_row10_col19, #T_bc034_row10_col20, #T_bc034_row10_col21, #T_bc034_row10_col22, #T_bc034_row10_col23, #T_bc034_row10_col24, #T_bc034_row10_col25, #T_bc034_row10_col26, #T_bc034_row10_col27, #T_bc034_row11_col0, #T_bc034_row11_col1, #T_bc034_row11_col2, #T_bc034_row11_col3, #T_bc034_row11_col4, #T_bc034_row11_col5, #T_bc034_row11_col6, #T_bc034_row11_col7, #T_bc034_row11_col8, #T_bc034_row11_col9, #T_bc034_row11_col18, #T_bc034_row11_col19, #T_bc034_row11_col20, #T_bc034_row11_col21, #T_bc034_row11_col22, #T_bc034_row11_col23, #T_bc034_row11_col24, #T_bc034_row11_col25, #T_bc034_row11_col26, #T_bc034_row11_col27, #T_bc034_row12_col0, #T_bc034_row12_col1, #T_bc034_row12_col2, #T_bc034_row12_col3, #T_bc034_row12_col4, #T_bc034_row12_col5, #T_bc034_row12_col6, #T_bc034_row12_col7, #T_bc034_row12_col8, #T_bc034_row12_col9, #T_bc034_row12_col18, #T_bc034_row12_col19, #T_bc034_row12_col20, #T_bc034_row12_col21, #T_bc034_row12_col22, #T_bc034_row12_col23, #T_bc034_row12_col24, #T_bc034_row12_col25, #T_bc034_row12_col26, #T_bc034_row12_col27, #T_bc034_row13_col0, #T_bc034_row13_col1, #T_bc034_row13_col2, #T_bc034_row13_col3, #T_bc034_row13_col4, #T_bc034_row13_col5, #T_bc034_row13_col6, #T_bc034_row13_col7, #T_bc034_row13_col8, #T_bc034_row13_col9, #T_bc034_row13_col17, #T_bc034_row13_col18, #T_bc034_row13_col19, #T_bc034_row13_col20, #T_bc034_row13_col21, #T_bc034_row13_col22, #T_bc034_row13_col23, #T_bc034_row13_col24, #T_bc034_row13_col25, #T_bc034_row13_col26, #T_bc034_row13_col27, #T_bc034_row14_col0, #T_bc034_row14_col1, #T_bc034_row14_col2, #T_bc034_row14_col3, #T_bc034_row14_col4, #T_bc034_row14_col5, #T_bc034_row14_col6, #T_bc034_row14_col7, #T_bc034_row14_col8, #T_bc034_row14_col9, #T_bc034_row14_col10, #T_bc034_row14_col11, #T_bc034_row14_col12, #T_bc034_row14_col17, #T_bc034_row14_col18, #T_bc034_row14_col19, #T_bc034_row14_col20, #T_bc034_row14_col21, #T_bc034_row14_col22, #T_bc034_row14_col23, #T_bc034_row14_col24, #T_bc034_row14_col25, #T_bc034_row14_col26, #T_bc034_row14_col27, #T_bc034_row15_col0, #T_bc034_row15_col1, #T_bc034_row15_col2, #T_bc034_row15_col3, #T_bc034_row15_col4, #T_bc034_row15_col5, #T_bc034_row15_col6, #T_bc034_row15_col7, #T_bc034_row15_col8, #T_bc034_row15_col9, #T_bc034_row15_col10, #T_bc034_row15_col11, #T_bc034_row15_col12, #T_bc034_row15_col17, #T_bc034_row15_col18, #T_bc034_row15_col19, #T_bc034_row15_col20, #T_bc034_row15_col21, #T_bc034_row15_col22, #T_bc034_row15_col23, #T_bc034_row15_col24, #T_bc034_row15_col25, #T_bc034_row15_col26, #T_bc034_row15_col27, #T_bc034_row16_col0, #T_bc034_row16_col1, #T_bc034_row16_col2, #T_bc034_row16_col3, #T_bc034_row16_col4, #T_bc034_row16_col5, #T_bc034_row16_col6, #T_bc034_row16_col7, #T_bc034_row16_col8, #T_bc034_row16_col9, #T_bc034_row16_col10, #T_bc034_row16_col11, #T_bc034_row16_col17, #T_bc034_row16_col18, #T_bc034_row16_col19, #T_bc034_row16_col20, #T_bc034_row16_col21, #T_bc034_row16_col22, #T_bc034_row16_col23, #T_bc034_row16_col24, #T_bc034_row16_col25, #T_bc034_row16_col26, #T_bc034_row16_col27, #T_bc034_row17_col0, #T_bc034_row17_col1, #T_bc034_row17_col2, #T_bc034_row17_col3, #T_bc034_row17_col4, #T_bc034_row17_col5, #T_bc034_row17_col6, #T_bc034_row17_col7, #T_bc034_row17_col8, #T_bc034_row17_col9, #T_bc034_row17_col10, #T_bc034_row17_col11, #T_bc034_row17_col17, #T_bc034_row17_col18, #T_bc034_row17_col19, #T_bc034_row17_col20, #T_bc034_row17_col21, #T_bc034_row17_col22, #T_bc034_row17_col23, #T_bc034_row17_col24, #T_bc034_row17_col25, #T_bc034_row17_col26, #T_bc034_row17_col27, #T_bc034_row18_col0, #T_bc034_row18_col1, #T_bc034_row18_col2, #T_bc034_row18_col3, #T_bc034_row18_col4, #T_bc034_row18_col5, #T_bc034_row18_col6, #T_bc034_row18_col7, #T_bc034_row18_col8, #T_bc034_row18_col9, #T_bc034_row18_col10, #T_bc034_row18_col11, #T_bc034_row18_col17, #T_bc034_row18_col18, #T_bc034_row18_col19, #T_bc034_row18_col20, #T_bc034_row18_col21, #T_bc034_row18_col22, #T_bc034_row18_col23, #T_bc034_row18_col24, #T_bc034_row18_col25, #T_bc034_row18_col26, #T_bc034_row18_col27, #T_bc034_row19_col0, #T_bc034_row19_col1, #T_bc034_row19_col2, #T_bc034_row19_col3, #T_bc034_row19_col4, #T_bc034_row19_col5, #T_bc034_row19_col6, #T_bc034_row19_col7, #T_bc034_row19_col8, #T_bc034_row19_col9, #T_bc034_row19_col10, #T_bc034_row19_col11, #T_bc034_row19_col17, #T_bc034_row19_col18, #T_bc034_row19_col19, #T_bc034_row19_col20, #T_bc034_row19_col21, #T_bc034_row19_col22, #T_bc034_row19_col23, #T_bc034_row19_col24, #T_bc034_row19_col25, #T_bc034_row19_col26, #T_bc034_row19_col27, #T_bc034_row20_col0, #T_bc034_row20_col1, #T_bc034_row20_col2, #T_bc034_row20_col3, #T_bc034_row20_col4, #T_bc034_row20_col5, #T_bc034_row20_col6, #T_bc034_row20_col7, #T_bc034_row20_col8, #T_bc034_row20_col9, #T_bc034_row20_col10, #T_bc034_row20_col11, #T_bc034_row20_col17, #T_bc034_row20_col18, #T_bc034_row20_col19, #T_bc034_row20_col20, #T_bc034_row20_col21, #T_bc034_row20_col22, #T_bc034_row20_col23, #T_bc034_row20_col24, #T_bc034_row20_col25, #T_bc034_row20_col26, #T_bc034_row20_col27, #T_bc034_row21_col0, #T_bc034_row21_col1, #T_bc034_row21_col2, #T_bc034_row21_col3, #T_bc034_row21_col4, #T_bc034_row21_col5, #T_bc034_row21_col6, #T_bc034_row21_col7, #T_bc034_row21_col8, #T_bc034_row21_col9, #T_bc034_row21_col10, #T_bc034_row21_col11, #T_bc034_row21_col17, #T_bc034_row21_col18, #T_bc034_row21_col19, #T_bc034_row21_col20, #T_bc034_row21_col21, #T_bc034_row21_col22, #T_bc034_row21_col23, #T_bc034_row21_col24, #T_bc034_row21_col25, #T_bc034_row21_col26, #T_bc034_row21_col27, #T_bc034_row22_col0, #T_bc034_row22_col1, #T_bc034_row22_col2, #T_bc034_row22_col3, #T_bc034_row22_col4, #T_bc034_row22_col5, #T_bc034_row22_col6, #T_bc034_row22_col7, #T_bc034_row22_col8, #T_bc034_row22_col9, #T_bc034_row22_col10, #T_bc034_row22_col11, #T_bc034_row22_col17, #T_bc034_row22_col18, #T_bc034_row22_col19, #T_bc034_row22_col20, #T_bc034_row22_col21, #T_bc034_row22_col22, #T_bc034_row22_col23, #T_bc034_row22_col24, #T_bc034_row22_col25, #T_bc034_row22_col26, #T_bc034_row22_col27, #T_bc034_row23_col0, #T_bc034_row23_col1, #T_bc034_row23_col2, #T_bc034_row23_col3, #T_bc034_row23_col4, #T_bc034_row23_col5, #T_bc034_row23_col6, #T_bc034_row23_col7, #T_bc034_row23_col8, #T_bc034_row23_col9, #T_bc034_row23_col10, #T_bc034_row23_col11, #T_bc034_row23_col17, #T_bc034_row23_col18, #T_bc034_row23_col19, #T_bc034_row23_col20, #T_bc034_row23_col21, #T_bc034_row23_col22, #T_bc034_row23_col23, #T_bc034_row23_col24, #T_bc034_row23_col25, #T_bc034_row23_col26, #T_bc034_row23_col27, #T_bc034_row24_col0, #T_bc034_row24_col1, #T_bc034_row24_col2, #T_bc034_row24_col3, #T_bc034_row24_col4, #T_bc034_row24_col5, #T_bc034_row24_col6, #T_bc034_row24_col7, #T_bc034_row24_col8, #T_bc034_row24_col9, #T_bc034_row24_col10, #T_bc034_row24_col11, #T_bc034_row24_col12, #T_bc034_row24_col16, #T_bc034_row24_col17, #T_bc034_row24_col18, #T_bc034_row24_col19, #T_bc034_row24_col20, #T_bc034_row24_col21, #T_bc034_row24_col22, #T_bc034_row24_col23, #T_bc034_row24_col24, #T_bc034_row24_col25, #T_bc034_row24_col26, #T_bc034_row24_col27, #T_bc034_row25_col0, #T_bc034_row25_col1, #T_bc034_row25_col2, #T_bc034_row25_col3, #T_bc034_row25_col4, #T_bc034_row25_col5, #T_bc034_row25_col6, #T_bc034_row25_col7, #T_bc034_row25_col8, #T_bc034_row25_col9, #T_bc034_row25_col10, #T_bc034_row25_col11, #T_bc034_row25_col12, #T_bc034_row25_col13, #T_bc034_row25_col14, #T_bc034_row25_col15, #T_bc034_row25_col16, #T_bc034_row25_col17, #T_bc034_row25_col18, #T_bc034_row25_col19, #T_bc034_row25_col20, #T_bc034_row25_col21, #T_bc034_row25_col22, #T_bc034_row25_col23, #T_bc034_row25_col24, #T_bc034_row25_col25, #T_bc034_row25_col26, #T_bc034_row25_col27, #T_bc034_row26_col0, #T_bc034_row26_col1, #T_bc034_row26_col2, #T_bc034_row26_col3, #T_bc034_row26_col4, #T_bc034_row26_col5, #T_bc034_row26_col6, #T_bc034_row26_col7, #T_bc034_row26_col8, #T_bc034_row26_col9, #T_bc034_row26_col10, #T_bc034_row26_col11, #T_bc034_row26_col12, #T_bc034_row26_col13, #T_bc034_row26_col14, #T_bc034_row26_col15, #T_bc034_row26_col16, #T_bc034_row26_col17, #T_bc034_row26_col18, #T_bc034_row26_col19, #T_bc034_row26_col20, #T_bc034_row26_col21, #T_bc034_row26_col22, #T_bc034_row26_col23, #T_bc034_row26_col24, #T_bc034_row26_col25, #T_bc034_row26_col26, #T_bc034_row26_col27, #T_bc034_row27_col0, #T_bc034_row27_col1, #T_bc034_row27_col2, #T_bc034_row27_col3, #T_bc034_row27_col4, #T_bc034_row27_col5, #T_bc034_row27_col6, #T_bc034_row27_col7, #T_bc034_row27_col8, #T_bc034_row27_col9, #T_bc034_row27_col10, #T_bc034_row27_col11, #T_bc034_row27_col12, #T_bc034_row27_col13, #T_bc034_row27_col14, #T_bc034_row27_col15, #T_bc034_row27_col16, #T_bc034_row27_col17, #T_bc034_row27_col18, #T_bc034_row27_col19, #T_bc034_row27_col20, #T_bc034_row27_col21, #T_bc034_row27_col22, #T_bc034_row27_col23, #T_bc034_row27_col24, #T_bc034_row27_col25, #T_bc034_row27_col26, #T_bc034_row27_col27 {\n",
       "  font-size: 6pt;\n",
       "  background-color: #ffffff;\n",
       "  color: #000000;\n",
       "}\n",
       "#T_bc034_row5_col14 {\n",
       "  font-size: 6pt;\n",
       "  background-color: #999999;\n",
       "  color: #f1f1f1;\n",
       "}\n",
       "#T_bc034_row5_col15, #T_bc034_row7_col14, #T_bc034_row7_col16, #T_bc034_row7_col17, #T_bc034_row8_col14, #T_bc034_row8_col16, #T_bc034_row8_col17, #T_bc034_row9_col14, #T_bc034_row9_col16, #T_bc034_row9_col17, #T_bc034_row10_col13, #T_bc034_row10_col14, #T_bc034_row10_col16, #T_bc034_row10_col17, #T_bc034_row11_col12, #T_bc034_row11_col13, #T_bc034_row11_col14, #T_bc034_row11_col16, #T_bc034_row11_col17, #T_bc034_row12_col10, #T_bc034_row12_col11, #T_bc034_row12_col12, #T_bc034_row12_col14, #T_bc034_row13_col14, #T_bc034_row14_col14, #T_bc034_row15_col14, #T_bc034_row16_col14, #T_bc034_row17_col13, #T_bc034_row17_col14, #T_bc034_row18_col13, #T_bc034_row18_col14, #T_bc034_row19_col13, #T_bc034_row19_col14, #T_bc034_row20_col13, #T_bc034_row20_col14, #T_bc034_row21_col13, #T_bc034_row21_col14, #T_bc034_row22_col13, #T_bc034_row22_col14, #T_bc034_row23_col14, #T_bc034_row24_col14 {\n",
       "  font-size: 6pt;\n",
       "  background-color: #000000;\n",
       "  color: #f1f1f1;\n",
       "}\n",
       "#T_bc034_row5_col16, #T_bc034_row16_col13 {\n",
       "  font-size: 6pt;\n",
       "  background-color: #383838;\n",
       "  color: #f1f1f1;\n",
       "}\n",
       "#T_bc034_row6_col13 {\n",
       "  font-size: 6pt;\n",
       "  background-color: #f0f0f0;\n",
       "  color: #000000;\n",
       "}\n",
       "#T_bc034_row6_col14, #T_bc034_row23_col13 {\n",
       "  font-size: 6pt;\n",
       "  background-color: #282828;\n",
       "  color: #f1f1f1;\n",
       "}\n",
       "#T_bc034_row6_col15, #T_bc034_row7_col15, #T_bc034_row8_col15, #T_bc034_row9_col15, #T_bc034_row10_col15, #T_bc034_row11_col15, #T_bc034_row12_col15, #T_bc034_row13_col15, #T_bc034_row14_col15, #T_bc034_row15_col15, #T_bc034_row16_col15, #T_bc034_row17_col15, #T_bc034_row18_col15, #T_bc034_row19_col15, #T_bc034_row20_col15, #T_bc034_row21_col15, #T_bc034_row22_col15 {\n",
       "  font-size: 6pt;\n",
       "  background-color: #020202;\n",
       "  color: #f1f1f1;\n",
       "}\n",
       "#T_bc034_row6_col16 {\n",
       "  font-size: 6pt;\n",
       "  background-color: #010101;\n",
       "  color: #f1f1f1;\n",
       "}\n",
       "#T_bc034_row6_col17 {\n",
       "  font-size: 6pt;\n",
       "  background-color: #070707;\n",
       "  color: #f1f1f1;\n",
       "}\n",
       "#T_bc034_row7_col13, #T_bc034_row14_col13, #T_bc034_row24_col13 {\n",
       "  font-size: 6pt;\n",
       "  background-color: #d7d7d7;\n",
       "  color: #000000;\n",
       "}\n",
       "#T_bc034_row8_col13 {\n",
       "  font-size: 6pt;\n",
       "  background-color: #9e9e9e;\n",
       "  color: #f1f1f1;\n",
       "}\n",
       "#T_bc034_row9_col12 {\n",
       "  font-size: 6pt;\n",
       "  background-color: #a3a3a3;\n",
       "  color: #f1f1f1;\n",
       "}\n",
       "#T_bc034_row9_col13 {\n",
       "  font-size: 6pt;\n",
       "  background-color: #060606;\n",
       "  color: #f1f1f1;\n",
       "}\n",
       "#T_bc034_row10_col11, #T_bc034_row13_col10 {\n",
       "  font-size: 6pt;\n",
       "  background-color: #f1f1f1;\n",
       "  color: #000000;\n",
       "}\n",
       "#T_bc034_row10_col12 {\n",
       "  font-size: 6pt;\n",
       "  background-color: #252525;\n",
       "  color: #f1f1f1;\n",
       "}\n",
       "#T_bc034_row11_col10 {\n",
       "  font-size: 6pt;\n",
       "  background-color: #e4e4e4;\n",
       "  color: #000000;\n",
       "}\n",
       "#T_bc034_row11_col11 {\n",
       "  font-size: 6pt;\n",
       "  background-color: #3d3d3d;\n",
       "  color: #f1f1f1;\n",
       "}\n",
       "#T_bc034_row12_col13 {\n",
       "  font-size: 6pt;\n",
       "  background-color: #303030;\n",
       "  color: #f1f1f1;\n",
       "}\n",
       "#T_bc034_row12_col16 {\n",
       "  font-size: 6pt;\n",
       "  background-color: #2e2e2e;\n",
       "  color: #f1f1f1;\n",
       "}\n",
       "#T_bc034_row12_col17 {\n",
       "  font-size: 6pt;\n",
       "  background-color: #e7e7e7;\n",
       "  color: #000000;\n",
       "}\n",
       "#T_bc034_row13_col11 {\n",
       "  font-size: 6pt;\n",
       "  background-color: #737373;\n",
       "  color: #f1f1f1;\n",
       "}\n",
       "#T_bc034_row13_col12, #T_bc034_row17_col16 {\n",
       "  font-size: 6pt;\n",
       "  background-color: #cccccc;\n",
       "  color: #000000;\n",
       "}\n",
       "#T_bc034_row13_col13 {\n",
       "  font-size: 6pt;\n",
       "  background-color: #cdcdcd;\n",
       "  color: #000000;\n",
       "}\n",
       "#T_bc034_row13_col16, #T_bc034_row14_col16, #T_bc034_row15_col16, #T_bc034_row19_col16, #T_bc034_row20_col16, #T_bc034_row21_col16, #T_bc034_row22_col16 {\n",
       "  font-size: 6pt;\n",
       "  background-color: #393939;\n",
       "  color: #f1f1f1;\n",
       "}\n",
       "#T_bc034_row15_col13 {\n",
       "  font-size: 6pt;\n",
       "  background-color: #6e6e6e;\n",
       "  color: #f1f1f1;\n",
       "}\n",
       "#T_bc034_row16_col12 {\n",
       "  font-size: 6pt;\n",
       "  background-color: #f8f8f8;\n",
       "  color: #000000;\n",
       "}\n",
       "#T_bc034_row16_col16 {\n",
       "  font-size: 6pt;\n",
       "  background-color: #5c5c5c;\n",
       "  color: #f1f1f1;\n",
       "}\n",
       "#T_bc034_row17_col12 {\n",
       "  font-size: 6pt;\n",
       "  background-color: #bbbbbb;\n",
       "  color: #000000;\n",
       "}\n",
       "#T_bc034_row18_col12 {\n",
       "  font-size: 6pt;\n",
       "  background-color: #5a5a5a;\n",
       "  color: #f1f1f1;\n",
       "}\n",
       "#T_bc034_row18_col16 {\n",
       "  font-size: 6pt;\n",
       "  background-color: #b9b9b9;\n",
       "  color: #000000;\n",
       "}\n",
       "#T_bc034_row19_col12, #T_bc034_row20_col12, #T_bc034_row21_col12, #T_bc034_row22_col12 {\n",
       "  font-size: 6pt;\n",
       "  background-color: #d2d2d2;\n",
       "  color: #000000;\n",
       "}\n",
       "#T_bc034_row23_col12 {\n",
       "  font-size: 6pt;\n",
       "  background-color: #efefef;\n",
       "  color: #000000;\n",
       "}\n",
       "#T_bc034_row23_col15 {\n",
       "  font-size: 6pt;\n",
       "  background-color: #030303;\n",
       "  color: #f1f1f1;\n",
       "}\n",
       "#T_bc034_row23_col16 {\n",
       "  font-size: 6pt;\n",
       "  background-color: #8d8d8d;\n",
       "  color: #f1f1f1;\n",
       "}\n",
       "#T_bc034_row24_col15 {\n",
       "  font-size: 6pt;\n",
       "  background-color: #909090;\n",
       "  color: #f1f1f1;\n",
       "}\n",
       "</style>\n",
       "<table id=\"T_bc034_\">\n",
       "  <thead>\n",
       "    <tr>\n",
       "      <th class=\"blank level0\" >&nbsp;</th>\n",
       "      <th class=\"col_heading level0 col0\" >0</th>\n",
       "      <th class=\"col_heading level0 col1\" >1</th>\n",
       "      <th class=\"col_heading level0 col2\" >2</th>\n",
       "      <th class=\"col_heading level0 col3\" >3</th>\n",
       "      <th class=\"col_heading level0 col4\" >4</th>\n",
       "      <th class=\"col_heading level0 col5\" >5</th>\n",
       "      <th class=\"col_heading level0 col6\" >6</th>\n",
       "      <th class=\"col_heading level0 col7\" >7</th>\n",
       "      <th class=\"col_heading level0 col8\" >8</th>\n",
       "      <th class=\"col_heading level0 col9\" >9</th>\n",
       "      <th class=\"col_heading level0 col10\" >10</th>\n",
       "      <th class=\"col_heading level0 col11\" >11</th>\n",
       "      <th class=\"col_heading level0 col12\" >12</th>\n",
       "      <th class=\"col_heading level0 col13\" >13</th>\n",
       "      <th class=\"col_heading level0 col14\" >14</th>\n",
       "      <th class=\"col_heading level0 col15\" >15</th>\n",
       "      <th class=\"col_heading level0 col16\" >16</th>\n",
       "      <th class=\"col_heading level0 col17\" >17</th>\n",
       "      <th class=\"col_heading level0 col18\" >18</th>\n",
       "      <th class=\"col_heading level0 col19\" >19</th>\n",
       "      <th class=\"col_heading level0 col20\" >20</th>\n",
       "      <th class=\"col_heading level0 col21\" >21</th>\n",
       "      <th class=\"col_heading level0 col22\" >22</th>\n",
       "      <th class=\"col_heading level0 col23\" >23</th>\n",
       "      <th class=\"col_heading level0 col24\" >24</th>\n",
       "      <th class=\"col_heading level0 col25\" >25</th>\n",
       "      <th class=\"col_heading level0 col26\" >26</th>\n",
       "      <th class=\"col_heading level0 col27\" >27</th>\n",
       "    </tr>\n",
       "  </thead>\n",
       "  <tbody>\n",
       "    <tr>\n",
       "      <th id=\"T_bc034_level0_row0\" class=\"row_heading level0 row0\" >0</th>\n",
       "      <td id=\"T_bc034_row0_col0\" class=\"data row0 col0\" >0</td>\n",
       "      <td id=\"T_bc034_row0_col1\" class=\"data row0 col1\" >0</td>\n",
       "      <td id=\"T_bc034_row0_col2\" class=\"data row0 col2\" >0</td>\n",
       "      <td id=\"T_bc034_row0_col3\" class=\"data row0 col3\" >0</td>\n",
       "      <td id=\"T_bc034_row0_col4\" class=\"data row0 col4\" >0</td>\n",
       "      <td id=\"T_bc034_row0_col5\" class=\"data row0 col5\" >0</td>\n",
       "      <td id=\"T_bc034_row0_col6\" class=\"data row0 col6\" >0</td>\n",
       "      <td id=\"T_bc034_row0_col7\" class=\"data row0 col7\" >0</td>\n",
       "      <td id=\"T_bc034_row0_col8\" class=\"data row0 col8\" >0</td>\n",
       "      <td id=\"T_bc034_row0_col9\" class=\"data row0 col9\" >0</td>\n",
       "      <td id=\"T_bc034_row0_col10\" class=\"data row0 col10\" >0</td>\n",
       "      <td id=\"T_bc034_row0_col11\" class=\"data row0 col11\" >0</td>\n",
       "      <td id=\"T_bc034_row0_col12\" class=\"data row0 col12\" >0</td>\n",
       "      <td id=\"T_bc034_row0_col13\" class=\"data row0 col13\" >0</td>\n",
       "      <td id=\"T_bc034_row0_col14\" class=\"data row0 col14\" >0</td>\n",
       "      <td id=\"T_bc034_row0_col15\" class=\"data row0 col15\" >0</td>\n",
       "      <td id=\"T_bc034_row0_col16\" class=\"data row0 col16\" >0</td>\n",
       "      <td id=\"T_bc034_row0_col17\" class=\"data row0 col17\" >0</td>\n",
       "      <td id=\"T_bc034_row0_col18\" class=\"data row0 col18\" >0</td>\n",
       "      <td id=\"T_bc034_row0_col19\" class=\"data row0 col19\" >0</td>\n",
       "      <td id=\"T_bc034_row0_col20\" class=\"data row0 col20\" >0</td>\n",
       "      <td id=\"T_bc034_row0_col21\" class=\"data row0 col21\" >0</td>\n",
       "      <td id=\"T_bc034_row0_col22\" class=\"data row0 col22\" >0</td>\n",
       "      <td id=\"T_bc034_row0_col23\" class=\"data row0 col23\" >0</td>\n",
       "      <td id=\"T_bc034_row0_col24\" class=\"data row0 col24\" >0</td>\n",
       "      <td id=\"T_bc034_row0_col25\" class=\"data row0 col25\" >0</td>\n",
       "      <td id=\"T_bc034_row0_col26\" class=\"data row0 col26\" >0</td>\n",
       "      <td id=\"T_bc034_row0_col27\" class=\"data row0 col27\" >0</td>\n",
       "    </tr>\n",
       "    <tr>\n",
       "      <th id=\"T_bc034_level0_row1\" class=\"row_heading level0 row1\" >1</th>\n",
       "      <td id=\"T_bc034_row1_col0\" class=\"data row1 col0\" >0</td>\n",
       "      <td id=\"T_bc034_row1_col1\" class=\"data row1 col1\" >0</td>\n",
       "      <td id=\"T_bc034_row1_col2\" class=\"data row1 col2\" >0</td>\n",
       "      <td id=\"T_bc034_row1_col3\" class=\"data row1 col3\" >0</td>\n",
       "      <td id=\"T_bc034_row1_col4\" class=\"data row1 col4\" >0</td>\n",
       "      <td id=\"T_bc034_row1_col5\" class=\"data row1 col5\" >0</td>\n",
       "      <td id=\"T_bc034_row1_col6\" class=\"data row1 col6\" >0</td>\n",
       "      <td id=\"T_bc034_row1_col7\" class=\"data row1 col7\" >0</td>\n",
       "      <td id=\"T_bc034_row1_col8\" class=\"data row1 col8\" >0</td>\n",
       "      <td id=\"T_bc034_row1_col9\" class=\"data row1 col9\" >0</td>\n",
       "      <td id=\"T_bc034_row1_col10\" class=\"data row1 col10\" >0</td>\n",
       "      <td id=\"T_bc034_row1_col11\" class=\"data row1 col11\" >0</td>\n",
       "      <td id=\"T_bc034_row1_col12\" class=\"data row1 col12\" >0</td>\n",
       "      <td id=\"T_bc034_row1_col13\" class=\"data row1 col13\" >0</td>\n",
       "      <td id=\"T_bc034_row1_col14\" class=\"data row1 col14\" >0</td>\n",
       "      <td id=\"T_bc034_row1_col15\" class=\"data row1 col15\" >0</td>\n",
       "      <td id=\"T_bc034_row1_col16\" class=\"data row1 col16\" >0</td>\n",
       "      <td id=\"T_bc034_row1_col17\" class=\"data row1 col17\" >0</td>\n",
       "      <td id=\"T_bc034_row1_col18\" class=\"data row1 col18\" >0</td>\n",
       "      <td id=\"T_bc034_row1_col19\" class=\"data row1 col19\" >0</td>\n",
       "      <td id=\"T_bc034_row1_col20\" class=\"data row1 col20\" >0</td>\n",
       "      <td id=\"T_bc034_row1_col21\" class=\"data row1 col21\" >0</td>\n",
       "      <td id=\"T_bc034_row1_col22\" class=\"data row1 col22\" >0</td>\n",
       "      <td id=\"T_bc034_row1_col23\" class=\"data row1 col23\" >0</td>\n",
       "      <td id=\"T_bc034_row1_col24\" class=\"data row1 col24\" >0</td>\n",
       "      <td id=\"T_bc034_row1_col25\" class=\"data row1 col25\" >0</td>\n",
       "      <td id=\"T_bc034_row1_col26\" class=\"data row1 col26\" >0</td>\n",
       "      <td id=\"T_bc034_row1_col27\" class=\"data row1 col27\" >0</td>\n",
       "    </tr>\n",
       "    <tr>\n",
       "      <th id=\"T_bc034_level0_row2\" class=\"row_heading level0 row2\" >2</th>\n",
       "      <td id=\"T_bc034_row2_col0\" class=\"data row2 col0\" >0</td>\n",
       "      <td id=\"T_bc034_row2_col1\" class=\"data row2 col1\" >0</td>\n",
       "      <td id=\"T_bc034_row2_col2\" class=\"data row2 col2\" >0</td>\n",
       "      <td id=\"T_bc034_row2_col3\" class=\"data row2 col3\" >0</td>\n",
       "      <td id=\"T_bc034_row2_col4\" class=\"data row2 col4\" >0</td>\n",
       "      <td id=\"T_bc034_row2_col5\" class=\"data row2 col5\" >0</td>\n",
       "      <td id=\"T_bc034_row2_col6\" class=\"data row2 col6\" >0</td>\n",
       "      <td id=\"T_bc034_row2_col7\" class=\"data row2 col7\" >0</td>\n",
       "      <td id=\"T_bc034_row2_col8\" class=\"data row2 col8\" >0</td>\n",
       "      <td id=\"T_bc034_row2_col9\" class=\"data row2 col9\" >0</td>\n",
       "      <td id=\"T_bc034_row2_col10\" class=\"data row2 col10\" >0</td>\n",
       "      <td id=\"T_bc034_row2_col11\" class=\"data row2 col11\" >0</td>\n",
       "      <td id=\"T_bc034_row2_col12\" class=\"data row2 col12\" >0</td>\n",
       "      <td id=\"T_bc034_row2_col13\" class=\"data row2 col13\" >0</td>\n",
       "      <td id=\"T_bc034_row2_col14\" class=\"data row2 col14\" >0</td>\n",
       "      <td id=\"T_bc034_row2_col15\" class=\"data row2 col15\" >0</td>\n",
       "      <td id=\"T_bc034_row2_col16\" class=\"data row2 col16\" >0</td>\n",
       "      <td id=\"T_bc034_row2_col17\" class=\"data row2 col17\" >0</td>\n",
       "      <td id=\"T_bc034_row2_col18\" class=\"data row2 col18\" >0</td>\n",
       "      <td id=\"T_bc034_row2_col19\" class=\"data row2 col19\" >0</td>\n",
       "      <td id=\"T_bc034_row2_col20\" class=\"data row2 col20\" >0</td>\n",
       "      <td id=\"T_bc034_row2_col21\" class=\"data row2 col21\" >0</td>\n",
       "      <td id=\"T_bc034_row2_col22\" class=\"data row2 col22\" >0</td>\n",
       "      <td id=\"T_bc034_row2_col23\" class=\"data row2 col23\" >0</td>\n",
       "      <td id=\"T_bc034_row2_col24\" class=\"data row2 col24\" >0</td>\n",
       "      <td id=\"T_bc034_row2_col25\" class=\"data row2 col25\" >0</td>\n",
       "      <td id=\"T_bc034_row2_col26\" class=\"data row2 col26\" >0</td>\n",
       "      <td id=\"T_bc034_row2_col27\" class=\"data row2 col27\" >0</td>\n",
       "    </tr>\n",
       "    <tr>\n",
       "      <th id=\"T_bc034_level0_row3\" class=\"row_heading level0 row3\" >3</th>\n",
       "      <td id=\"T_bc034_row3_col0\" class=\"data row3 col0\" >0</td>\n",
       "      <td id=\"T_bc034_row3_col1\" class=\"data row3 col1\" >0</td>\n",
       "      <td id=\"T_bc034_row3_col2\" class=\"data row3 col2\" >0</td>\n",
       "      <td id=\"T_bc034_row3_col3\" class=\"data row3 col3\" >0</td>\n",
       "      <td id=\"T_bc034_row3_col4\" class=\"data row3 col4\" >0</td>\n",
       "      <td id=\"T_bc034_row3_col5\" class=\"data row3 col5\" >0</td>\n",
       "      <td id=\"T_bc034_row3_col6\" class=\"data row3 col6\" >0</td>\n",
       "      <td id=\"T_bc034_row3_col7\" class=\"data row3 col7\" >0</td>\n",
       "      <td id=\"T_bc034_row3_col8\" class=\"data row3 col8\" >0</td>\n",
       "      <td id=\"T_bc034_row3_col9\" class=\"data row3 col9\" >0</td>\n",
       "      <td id=\"T_bc034_row3_col10\" class=\"data row3 col10\" >0</td>\n",
       "      <td id=\"T_bc034_row3_col11\" class=\"data row3 col11\" >0</td>\n",
       "      <td id=\"T_bc034_row3_col12\" class=\"data row3 col12\" >0</td>\n",
       "      <td id=\"T_bc034_row3_col13\" class=\"data row3 col13\" >0</td>\n",
       "      <td id=\"T_bc034_row3_col14\" class=\"data row3 col14\" >0</td>\n",
       "      <td id=\"T_bc034_row3_col15\" class=\"data row3 col15\" >0</td>\n",
       "      <td id=\"T_bc034_row3_col16\" class=\"data row3 col16\" >0</td>\n",
       "      <td id=\"T_bc034_row3_col17\" class=\"data row3 col17\" >0</td>\n",
       "      <td id=\"T_bc034_row3_col18\" class=\"data row3 col18\" >0</td>\n",
       "      <td id=\"T_bc034_row3_col19\" class=\"data row3 col19\" >0</td>\n",
       "      <td id=\"T_bc034_row3_col20\" class=\"data row3 col20\" >0</td>\n",
       "      <td id=\"T_bc034_row3_col21\" class=\"data row3 col21\" >0</td>\n",
       "      <td id=\"T_bc034_row3_col22\" class=\"data row3 col22\" >0</td>\n",
       "      <td id=\"T_bc034_row3_col23\" class=\"data row3 col23\" >0</td>\n",
       "      <td id=\"T_bc034_row3_col24\" class=\"data row3 col24\" >0</td>\n",
       "      <td id=\"T_bc034_row3_col25\" class=\"data row3 col25\" >0</td>\n",
       "      <td id=\"T_bc034_row3_col26\" class=\"data row3 col26\" >0</td>\n",
       "      <td id=\"T_bc034_row3_col27\" class=\"data row3 col27\" >0</td>\n",
       "    </tr>\n",
       "    <tr>\n",
       "      <th id=\"T_bc034_level0_row4\" class=\"row_heading level0 row4\" >4</th>\n",
       "      <td id=\"T_bc034_row4_col0\" class=\"data row4 col0\" >0</td>\n",
       "      <td id=\"T_bc034_row4_col1\" class=\"data row4 col1\" >0</td>\n",
       "      <td id=\"T_bc034_row4_col2\" class=\"data row4 col2\" >0</td>\n",
       "      <td id=\"T_bc034_row4_col3\" class=\"data row4 col3\" >0</td>\n",
       "      <td id=\"T_bc034_row4_col4\" class=\"data row4 col4\" >0</td>\n",
       "      <td id=\"T_bc034_row4_col5\" class=\"data row4 col5\" >0</td>\n",
       "      <td id=\"T_bc034_row4_col6\" class=\"data row4 col6\" >0</td>\n",
       "      <td id=\"T_bc034_row4_col7\" class=\"data row4 col7\" >0</td>\n",
       "      <td id=\"T_bc034_row4_col8\" class=\"data row4 col8\" >0</td>\n",
       "      <td id=\"T_bc034_row4_col9\" class=\"data row4 col9\" >0</td>\n",
       "      <td id=\"T_bc034_row4_col10\" class=\"data row4 col10\" >0</td>\n",
       "      <td id=\"T_bc034_row4_col11\" class=\"data row4 col11\" >0</td>\n",
       "      <td id=\"T_bc034_row4_col12\" class=\"data row4 col12\" >0</td>\n",
       "      <td id=\"T_bc034_row4_col13\" class=\"data row4 col13\" >0</td>\n",
       "      <td id=\"T_bc034_row4_col14\" class=\"data row4 col14\" >0</td>\n",
       "      <td id=\"T_bc034_row4_col15\" class=\"data row4 col15\" >0</td>\n",
       "      <td id=\"T_bc034_row4_col16\" class=\"data row4 col16\" >0</td>\n",
       "      <td id=\"T_bc034_row4_col17\" class=\"data row4 col17\" >0</td>\n",
       "      <td id=\"T_bc034_row4_col18\" class=\"data row4 col18\" >0</td>\n",
       "      <td id=\"T_bc034_row4_col19\" class=\"data row4 col19\" >0</td>\n",
       "      <td id=\"T_bc034_row4_col20\" class=\"data row4 col20\" >0</td>\n",
       "      <td id=\"T_bc034_row4_col21\" class=\"data row4 col21\" >0</td>\n",
       "      <td id=\"T_bc034_row4_col22\" class=\"data row4 col22\" >0</td>\n",
       "      <td id=\"T_bc034_row4_col23\" class=\"data row4 col23\" >0</td>\n",
       "      <td id=\"T_bc034_row4_col24\" class=\"data row4 col24\" >0</td>\n",
       "      <td id=\"T_bc034_row4_col25\" class=\"data row4 col25\" >0</td>\n",
       "      <td id=\"T_bc034_row4_col26\" class=\"data row4 col26\" >0</td>\n",
       "      <td id=\"T_bc034_row4_col27\" class=\"data row4 col27\" >0</td>\n",
       "    </tr>\n",
       "    <tr>\n",
       "      <th id=\"T_bc034_level0_row5\" class=\"row_heading level0 row5\" >5</th>\n",
       "      <td id=\"T_bc034_row5_col0\" class=\"data row5 col0\" >0</td>\n",
       "      <td id=\"T_bc034_row5_col1\" class=\"data row5 col1\" >0</td>\n",
       "      <td id=\"T_bc034_row5_col2\" class=\"data row5 col2\" >0</td>\n",
       "      <td id=\"T_bc034_row5_col3\" class=\"data row5 col3\" >0</td>\n",
       "      <td id=\"T_bc034_row5_col4\" class=\"data row5 col4\" >0</td>\n",
       "      <td id=\"T_bc034_row5_col5\" class=\"data row5 col5\" >0</td>\n",
       "      <td id=\"T_bc034_row5_col6\" class=\"data row5 col6\" >0</td>\n",
       "      <td id=\"T_bc034_row5_col7\" class=\"data row5 col7\" >0</td>\n",
       "      <td id=\"T_bc034_row5_col8\" class=\"data row5 col8\" >0</td>\n",
       "      <td id=\"T_bc034_row5_col9\" class=\"data row5 col9\" >0</td>\n",
       "      <td id=\"T_bc034_row5_col10\" class=\"data row5 col10\" >0</td>\n",
       "      <td id=\"T_bc034_row5_col11\" class=\"data row5 col11\" >0</td>\n",
       "      <td id=\"T_bc034_row5_col12\" class=\"data row5 col12\" >0</td>\n",
       "      <td id=\"T_bc034_row5_col13\" class=\"data row5 col13\" >0</td>\n",
       "      <td id=\"T_bc034_row5_col14\" class=\"data row5 col14\" >124</td>\n",
       "      <td id=\"T_bc034_row5_col15\" class=\"data row5 col15\" >255</td>\n",
       "      <td id=\"T_bc034_row5_col16\" class=\"data row5 col16\" >208</td>\n",
       "      <td id=\"T_bc034_row5_col17\" class=\"data row5 col17\" >0</td>\n",
       "      <td id=\"T_bc034_row5_col18\" class=\"data row5 col18\" >0</td>\n",
       "      <td id=\"T_bc034_row5_col19\" class=\"data row5 col19\" >0</td>\n",
       "      <td id=\"T_bc034_row5_col20\" class=\"data row5 col20\" >0</td>\n",
       "      <td id=\"T_bc034_row5_col21\" class=\"data row5 col21\" >0</td>\n",
       "      <td id=\"T_bc034_row5_col22\" class=\"data row5 col22\" >0</td>\n",
       "      <td id=\"T_bc034_row5_col23\" class=\"data row5 col23\" >0</td>\n",
       "      <td id=\"T_bc034_row5_col24\" class=\"data row5 col24\" >0</td>\n",
       "      <td id=\"T_bc034_row5_col25\" class=\"data row5 col25\" >0</td>\n",
       "      <td id=\"T_bc034_row5_col26\" class=\"data row5 col26\" >0</td>\n",
       "      <td id=\"T_bc034_row5_col27\" class=\"data row5 col27\" >0</td>\n",
       "    </tr>\n",
       "    <tr>\n",
       "      <th id=\"T_bc034_level0_row6\" class=\"row_heading level0 row6\" >6</th>\n",
       "      <td id=\"T_bc034_row6_col0\" class=\"data row6 col0\" >0</td>\n",
       "      <td id=\"T_bc034_row6_col1\" class=\"data row6 col1\" >0</td>\n",
       "      <td id=\"T_bc034_row6_col2\" class=\"data row6 col2\" >0</td>\n",
       "      <td id=\"T_bc034_row6_col3\" class=\"data row6 col3\" >0</td>\n",
       "      <td id=\"T_bc034_row6_col4\" class=\"data row6 col4\" >0</td>\n",
       "      <td id=\"T_bc034_row6_col5\" class=\"data row6 col5\" >0</td>\n",
       "      <td id=\"T_bc034_row6_col6\" class=\"data row6 col6\" >0</td>\n",
       "      <td id=\"T_bc034_row6_col7\" class=\"data row6 col7\" >0</td>\n",
       "      <td id=\"T_bc034_row6_col8\" class=\"data row6 col8\" >0</td>\n",
       "      <td id=\"T_bc034_row6_col9\" class=\"data row6 col9\" >0</td>\n",
       "      <td id=\"T_bc034_row6_col10\" class=\"data row6 col10\" >0</td>\n",
       "      <td id=\"T_bc034_row6_col11\" class=\"data row6 col11\" >0</td>\n",
       "      <td id=\"T_bc034_row6_col12\" class=\"data row6 col12\" >0</td>\n",
       "      <td id=\"T_bc034_row6_col13\" class=\"data row6 col13\" >31</td>\n",
       "      <td id=\"T_bc034_row6_col14\" class=\"data row6 col14\" >219</td>\n",
       "      <td id=\"T_bc034_row6_col15\" class=\"data row6 col15\" >253</td>\n",
       "      <td id=\"T_bc034_row6_col16\" class=\"data row6 col16\" >252</td>\n",
       "      <td id=\"T_bc034_row6_col17\" class=\"data row6 col17\" >82</td>\n",
       "      <td id=\"T_bc034_row6_col18\" class=\"data row6 col18\" >0</td>\n",
       "      <td id=\"T_bc034_row6_col19\" class=\"data row6 col19\" >0</td>\n",
       "      <td id=\"T_bc034_row6_col20\" class=\"data row6 col20\" >0</td>\n",
       "      <td id=\"T_bc034_row6_col21\" class=\"data row6 col21\" >0</td>\n",
       "      <td id=\"T_bc034_row6_col22\" class=\"data row6 col22\" >0</td>\n",
       "      <td id=\"T_bc034_row6_col23\" class=\"data row6 col23\" >0</td>\n",
       "      <td id=\"T_bc034_row6_col24\" class=\"data row6 col24\" >0</td>\n",
       "      <td id=\"T_bc034_row6_col25\" class=\"data row6 col25\" >0</td>\n",
       "      <td id=\"T_bc034_row6_col26\" class=\"data row6 col26\" >0</td>\n",
       "      <td id=\"T_bc034_row6_col27\" class=\"data row6 col27\" >0</td>\n",
       "    </tr>\n",
       "    <tr>\n",
       "      <th id=\"T_bc034_level0_row7\" class=\"row_heading level0 row7\" >7</th>\n",
       "      <td id=\"T_bc034_row7_col0\" class=\"data row7 col0\" >0</td>\n",
       "      <td id=\"T_bc034_row7_col1\" class=\"data row7 col1\" >0</td>\n",
       "      <td id=\"T_bc034_row7_col2\" class=\"data row7 col2\" >0</td>\n",
       "      <td id=\"T_bc034_row7_col3\" class=\"data row7 col3\" >0</td>\n",
       "      <td id=\"T_bc034_row7_col4\" class=\"data row7 col4\" >0</td>\n",
       "      <td id=\"T_bc034_row7_col5\" class=\"data row7 col5\" >0</td>\n",
       "      <td id=\"T_bc034_row7_col6\" class=\"data row7 col6\" >0</td>\n",
       "      <td id=\"T_bc034_row7_col7\" class=\"data row7 col7\" >0</td>\n",
       "      <td id=\"T_bc034_row7_col8\" class=\"data row7 col8\" >0</td>\n",
       "      <td id=\"T_bc034_row7_col9\" class=\"data row7 col9\" >0</td>\n",
       "      <td id=\"T_bc034_row7_col10\" class=\"data row7 col10\" >0</td>\n",
       "      <td id=\"T_bc034_row7_col11\" class=\"data row7 col11\" >0</td>\n",
       "      <td id=\"T_bc034_row7_col12\" class=\"data row7 col12\" >0</td>\n",
       "      <td id=\"T_bc034_row7_col13\" class=\"data row7 col13\" >66</td>\n",
       "      <td id=\"T_bc034_row7_col14\" class=\"data row7 col14\" >253</td>\n",
       "      <td id=\"T_bc034_row7_col15\" class=\"data row7 col15\" >253</td>\n",
       "      <td id=\"T_bc034_row7_col16\" class=\"data row7 col16\" >253</td>\n",
       "      <td id=\"T_bc034_row7_col17\" class=\"data row7 col17\" >84</td>\n",
       "      <td id=\"T_bc034_row7_col18\" class=\"data row7 col18\" >0</td>\n",
       "      <td id=\"T_bc034_row7_col19\" class=\"data row7 col19\" >0</td>\n",
       "      <td id=\"T_bc034_row7_col20\" class=\"data row7 col20\" >0</td>\n",
       "      <td id=\"T_bc034_row7_col21\" class=\"data row7 col21\" >0</td>\n",
       "      <td id=\"T_bc034_row7_col22\" class=\"data row7 col22\" >0</td>\n",
       "      <td id=\"T_bc034_row7_col23\" class=\"data row7 col23\" >0</td>\n",
       "      <td id=\"T_bc034_row7_col24\" class=\"data row7 col24\" >0</td>\n",
       "      <td id=\"T_bc034_row7_col25\" class=\"data row7 col25\" >0</td>\n",
       "      <td id=\"T_bc034_row7_col26\" class=\"data row7 col26\" >0</td>\n",
       "      <td id=\"T_bc034_row7_col27\" class=\"data row7 col27\" >0</td>\n",
       "    </tr>\n",
       "    <tr>\n",
       "      <th id=\"T_bc034_level0_row8\" class=\"row_heading level0 row8\" >8</th>\n",
       "      <td id=\"T_bc034_row8_col0\" class=\"data row8 col0\" >0</td>\n",
       "      <td id=\"T_bc034_row8_col1\" class=\"data row8 col1\" >0</td>\n",
       "      <td id=\"T_bc034_row8_col2\" class=\"data row8 col2\" >0</td>\n",
       "      <td id=\"T_bc034_row8_col3\" class=\"data row8 col3\" >0</td>\n",
       "      <td id=\"T_bc034_row8_col4\" class=\"data row8 col4\" >0</td>\n",
       "      <td id=\"T_bc034_row8_col5\" class=\"data row8 col5\" >0</td>\n",
       "      <td id=\"T_bc034_row8_col6\" class=\"data row8 col6\" >0</td>\n",
       "      <td id=\"T_bc034_row8_col7\" class=\"data row8 col7\" >0</td>\n",
       "      <td id=\"T_bc034_row8_col8\" class=\"data row8 col8\" >0</td>\n",
       "      <td id=\"T_bc034_row8_col9\" class=\"data row8 col9\" >0</td>\n",
       "      <td id=\"T_bc034_row8_col10\" class=\"data row8 col10\" >0</td>\n",
       "      <td id=\"T_bc034_row8_col11\" class=\"data row8 col11\" >0</td>\n",
       "      <td id=\"T_bc034_row8_col12\" class=\"data row8 col12\" >0</td>\n",
       "      <td id=\"T_bc034_row8_col13\" class=\"data row8 col13\" >120</td>\n",
       "      <td id=\"T_bc034_row8_col14\" class=\"data row8 col14\" >253</td>\n",
       "      <td id=\"T_bc034_row8_col15\" class=\"data row8 col15\" >253</td>\n",
       "      <td id=\"T_bc034_row8_col16\" class=\"data row8 col16\" >253</td>\n",
       "      <td id=\"T_bc034_row8_col17\" class=\"data row8 col17\" >84</td>\n",
       "      <td id=\"T_bc034_row8_col18\" class=\"data row8 col18\" >0</td>\n",
       "      <td id=\"T_bc034_row8_col19\" class=\"data row8 col19\" >0</td>\n",
       "      <td id=\"T_bc034_row8_col20\" class=\"data row8 col20\" >0</td>\n",
       "      <td id=\"T_bc034_row8_col21\" class=\"data row8 col21\" >0</td>\n",
       "      <td id=\"T_bc034_row8_col22\" class=\"data row8 col22\" >0</td>\n",
       "      <td id=\"T_bc034_row8_col23\" class=\"data row8 col23\" >0</td>\n",
       "      <td id=\"T_bc034_row8_col24\" class=\"data row8 col24\" >0</td>\n",
       "      <td id=\"T_bc034_row8_col25\" class=\"data row8 col25\" >0</td>\n",
       "      <td id=\"T_bc034_row8_col26\" class=\"data row8 col26\" >0</td>\n",
       "      <td id=\"T_bc034_row8_col27\" class=\"data row8 col27\" >0</td>\n",
       "    </tr>\n",
       "    <tr>\n",
       "      <th id=\"T_bc034_level0_row9\" class=\"row_heading level0 row9\" >9</th>\n",
       "      <td id=\"T_bc034_row9_col0\" class=\"data row9 col0\" >0</td>\n",
       "      <td id=\"T_bc034_row9_col1\" class=\"data row9 col1\" >0</td>\n",
       "      <td id=\"T_bc034_row9_col2\" class=\"data row9 col2\" >0</td>\n",
       "      <td id=\"T_bc034_row9_col3\" class=\"data row9 col3\" >0</td>\n",
       "      <td id=\"T_bc034_row9_col4\" class=\"data row9 col4\" >0</td>\n",
       "      <td id=\"T_bc034_row9_col5\" class=\"data row9 col5\" >0</td>\n",
       "      <td id=\"T_bc034_row9_col6\" class=\"data row9 col6\" >0</td>\n",
       "      <td id=\"T_bc034_row9_col7\" class=\"data row9 col7\" >0</td>\n",
       "      <td id=\"T_bc034_row9_col8\" class=\"data row9 col8\" >0</td>\n",
       "      <td id=\"T_bc034_row9_col9\" class=\"data row9 col9\" >0</td>\n",
       "      <td id=\"T_bc034_row9_col10\" class=\"data row9 col10\" >0</td>\n",
       "      <td id=\"T_bc034_row9_col11\" class=\"data row9 col11\" >0</td>\n",
       "      <td id=\"T_bc034_row9_col12\" class=\"data row9 col12\" >116</td>\n",
       "      <td id=\"T_bc034_row9_col13\" class=\"data row9 col13\" >248</td>\n",
       "      <td id=\"T_bc034_row9_col14\" class=\"data row9 col14\" >253</td>\n",
       "      <td id=\"T_bc034_row9_col15\" class=\"data row9 col15\" >253</td>\n",
       "      <td id=\"T_bc034_row9_col16\" class=\"data row9 col16\" >253</td>\n",
       "      <td id=\"T_bc034_row9_col17\" class=\"data row9 col17\" >84</td>\n",
       "      <td id=\"T_bc034_row9_col18\" class=\"data row9 col18\" >0</td>\n",
       "      <td id=\"T_bc034_row9_col19\" class=\"data row9 col19\" >0</td>\n",
       "      <td id=\"T_bc034_row9_col20\" class=\"data row9 col20\" >0</td>\n",
       "      <td id=\"T_bc034_row9_col21\" class=\"data row9 col21\" >0</td>\n",
       "      <td id=\"T_bc034_row9_col22\" class=\"data row9 col22\" >0</td>\n",
       "      <td id=\"T_bc034_row9_col23\" class=\"data row9 col23\" >0</td>\n",
       "      <td id=\"T_bc034_row9_col24\" class=\"data row9 col24\" >0</td>\n",
       "      <td id=\"T_bc034_row9_col25\" class=\"data row9 col25\" >0</td>\n",
       "      <td id=\"T_bc034_row9_col26\" class=\"data row9 col26\" >0</td>\n",
       "      <td id=\"T_bc034_row9_col27\" class=\"data row9 col27\" >0</td>\n",
       "    </tr>\n",
       "    <tr>\n",
       "      <th id=\"T_bc034_level0_row10\" class=\"row_heading level0 row10\" >10</th>\n",
       "      <td id=\"T_bc034_row10_col0\" class=\"data row10 col0\" >0</td>\n",
       "      <td id=\"T_bc034_row10_col1\" class=\"data row10 col1\" >0</td>\n",
       "      <td id=\"T_bc034_row10_col2\" class=\"data row10 col2\" >0</td>\n",
       "      <td id=\"T_bc034_row10_col3\" class=\"data row10 col3\" >0</td>\n",
       "      <td id=\"T_bc034_row10_col4\" class=\"data row10 col4\" >0</td>\n",
       "      <td id=\"T_bc034_row10_col5\" class=\"data row10 col5\" >0</td>\n",
       "      <td id=\"T_bc034_row10_col6\" class=\"data row10 col6\" >0</td>\n",
       "      <td id=\"T_bc034_row10_col7\" class=\"data row10 col7\" >0</td>\n",
       "      <td id=\"T_bc034_row10_col8\" class=\"data row10 col8\" >0</td>\n",
       "      <td id=\"T_bc034_row10_col9\" class=\"data row10 col9\" >0</td>\n",
       "      <td id=\"T_bc034_row10_col10\" class=\"data row10 col10\" >0</td>\n",
       "      <td id=\"T_bc034_row10_col11\" class=\"data row10 col11\" >29</td>\n",
       "      <td id=\"T_bc034_row10_col12\" class=\"data row10 col12\" >221</td>\n",
       "      <td id=\"T_bc034_row10_col13\" class=\"data row10 col13\" >253</td>\n",
       "      <td id=\"T_bc034_row10_col14\" class=\"data row10 col14\" >253</td>\n",
       "      <td id=\"T_bc034_row10_col15\" class=\"data row10 col15\" >253</td>\n",
       "      <td id=\"T_bc034_row10_col16\" class=\"data row10 col16\" >253</td>\n",
       "      <td id=\"T_bc034_row10_col17\" class=\"data row10 col17\" >84</td>\n",
       "      <td id=\"T_bc034_row10_col18\" class=\"data row10 col18\" >0</td>\n",
       "      <td id=\"T_bc034_row10_col19\" class=\"data row10 col19\" >0</td>\n",
       "      <td id=\"T_bc034_row10_col20\" class=\"data row10 col20\" >0</td>\n",
       "      <td id=\"T_bc034_row10_col21\" class=\"data row10 col21\" >0</td>\n",
       "      <td id=\"T_bc034_row10_col22\" class=\"data row10 col22\" >0</td>\n",
       "      <td id=\"T_bc034_row10_col23\" class=\"data row10 col23\" >0</td>\n",
       "      <td id=\"T_bc034_row10_col24\" class=\"data row10 col24\" >0</td>\n",
       "      <td id=\"T_bc034_row10_col25\" class=\"data row10 col25\" >0</td>\n",
       "      <td id=\"T_bc034_row10_col26\" class=\"data row10 col26\" >0</td>\n",
       "      <td id=\"T_bc034_row10_col27\" class=\"data row10 col27\" >0</td>\n",
       "    </tr>\n",
       "    <tr>\n",
       "      <th id=\"T_bc034_level0_row11\" class=\"row_heading level0 row11\" >11</th>\n",
       "      <td id=\"T_bc034_row11_col0\" class=\"data row11 col0\" >0</td>\n",
       "      <td id=\"T_bc034_row11_col1\" class=\"data row11 col1\" >0</td>\n",
       "      <td id=\"T_bc034_row11_col2\" class=\"data row11 col2\" >0</td>\n",
       "      <td id=\"T_bc034_row11_col3\" class=\"data row11 col3\" >0</td>\n",
       "      <td id=\"T_bc034_row11_col4\" class=\"data row11 col4\" >0</td>\n",
       "      <td id=\"T_bc034_row11_col5\" class=\"data row11 col5\" >0</td>\n",
       "      <td id=\"T_bc034_row11_col6\" class=\"data row11 col6\" >0</td>\n",
       "      <td id=\"T_bc034_row11_col7\" class=\"data row11 col7\" >0</td>\n",
       "      <td id=\"T_bc034_row11_col8\" class=\"data row11 col8\" >0</td>\n",
       "      <td id=\"T_bc034_row11_col9\" class=\"data row11 col9\" >0</td>\n",
       "      <td id=\"T_bc034_row11_col10\" class=\"data row11 col10\" >29</td>\n",
       "      <td id=\"T_bc034_row11_col11\" class=\"data row11 col11\" >204</td>\n",
       "      <td id=\"T_bc034_row11_col12\" class=\"data row11 col12\" >253</td>\n",
       "      <td id=\"T_bc034_row11_col13\" class=\"data row11 col13\" >253</td>\n",
       "      <td id=\"T_bc034_row11_col14\" class=\"data row11 col14\" >253</td>\n",
       "      <td id=\"T_bc034_row11_col15\" class=\"data row11 col15\" >253</td>\n",
       "      <td id=\"T_bc034_row11_col16\" class=\"data row11 col16\" >253</td>\n",
       "      <td id=\"T_bc034_row11_col17\" class=\"data row11 col17\" >84</td>\n",
       "      <td id=\"T_bc034_row11_col18\" class=\"data row11 col18\" >0</td>\n",
       "      <td id=\"T_bc034_row11_col19\" class=\"data row11 col19\" >0</td>\n",
       "      <td id=\"T_bc034_row11_col20\" class=\"data row11 col20\" >0</td>\n",
       "      <td id=\"T_bc034_row11_col21\" class=\"data row11 col21\" >0</td>\n",
       "      <td id=\"T_bc034_row11_col22\" class=\"data row11 col22\" >0</td>\n",
       "      <td id=\"T_bc034_row11_col23\" class=\"data row11 col23\" >0</td>\n",
       "      <td id=\"T_bc034_row11_col24\" class=\"data row11 col24\" >0</td>\n",
       "      <td id=\"T_bc034_row11_col25\" class=\"data row11 col25\" >0</td>\n",
       "      <td id=\"T_bc034_row11_col26\" class=\"data row11 col26\" >0</td>\n",
       "      <td id=\"T_bc034_row11_col27\" class=\"data row11 col27\" >0</td>\n",
       "    </tr>\n",
       "    <tr>\n",
       "      <th id=\"T_bc034_level0_row12\" class=\"row_heading level0 row12\" >12</th>\n",
       "      <td id=\"T_bc034_row12_col0\" class=\"data row12 col0\" >0</td>\n",
       "      <td id=\"T_bc034_row12_col1\" class=\"data row12 col1\" >0</td>\n",
       "      <td id=\"T_bc034_row12_col2\" class=\"data row12 col2\" >0</td>\n",
       "      <td id=\"T_bc034_row12_col3\" class=\"data row12 col3\" >0</td>\n",
       "      <td id=\"T_bc034_row12_col4\" class=\"data row12 col4\" >0</td>\n",
       "      <td id=\"T_bc034_row12_col5\" class=\"data row12 col5\" >0</td>\n",
       "      <td id=\"T_bc034_row12_col6\" class=\"data row12 col6\" >0</td>\n",
       "      <td id=\"T_bc034_row12_col7\" class=\"data row12 col7\" >0</td>\n",
       "      <td id=\"T_bc034_row12_col8\" class=\"data row12 col8\" >0</td>\n",
       "      <td id=\"T_bc034_row12_col9\" class=\"data row12 col9\" >0</td>\n",
       "      <td id=\"T_bc034_row12_col10\" class=\"data row12 col10\" >152</td>\n",
       "      <td id=\"T_bc034_row12_col11\" class=\"data row12 col11\" >253</td>\n",
       "      <td id=\"T_bc034_row12_col12\" class=\"data row12 col12\" >253</td>\n",
       "      <td id=\"T_bc034_row12_col13\" class=\"data row12 col13\" >213</td>\n",
       "      <td id=\"T_bc034_row12_col14\" class=\"data row12 col14\" >253</td>\n",
       "      <td id=\"T_bc034_row12_col15\" class=\"data row12 col15\" >253</td>\n",
       "      <td id=\"T_bc034_row12_col16\" class=\"data row12 col16\" >215</td>\n",
       "      <td id=\"T_bc034_row12_col17\" class=\"data row12 col17\" >15</td>\n",
       "      <td id=\"T_bc034_row12_col18\" class=\"data row12 col18\" >0</td>\n",
       "      <td id=\"T_bc034_row12_col19\" class=\"data row12 col19\" >0</td>\n",
       "      <td id=\"T_bc034_row12_col20\" class=\"data row12 col20\" >0</td>\n",
       "      <td id=\"T_bc034_row12_col21\" class=\"data row12 col21\" >0</td>\n",
       "      <td id=\"T_bc034_row12_col22\" class=\"data row12 col22\" >0</td>\n",
       "      <td id=\"T_bc034_row12_col23\" class=\"data row12 col23\" >0</td>\n",
       "      <td id=\"T_bc034_row12_col24\" class=\"data row12 col24\" >0</td>\n",
       "      <td id=\"T_bc034_row12_col25\" class=\"data row12 col25\" >0</td>\n",
       "      <td id=\"T_bc034_row12_col26\" class=\"data row12 col26\" >0</td>\n",
       "      <td id=\"T_bc034_row12_col27\" class=\"data row12 col27\" >0</td>\n",
       "    </tr>\n",
       "    <tr>\n",
       "      <th id=\"T_bc034_level0_row13\" class=\"row_heading level0 row13\" >13</th>\n",
       "      <td id=\"T_bc034_row13_col0\" class=\"data row13 col0\" >0</td>\n",
       "      <td id=\"T_bc034_row13_col1\" class=\"data row13 col1\" >0</td>\n",
       "      <td id=\"T_bc034_row13_col2\" class=\"data row13 col2\" >0</td>\n",
       "      <td id=\"T_bc034_row13_col3\" class=\"data row13 col3\" >0</td>\n",
       "      <td id=\"T_bc034_row13_col4\" class=\"data row13 col4\" >0</td>\n",
       "      <td id=\"T_bc034_row13_col5\" class=\"data row13 col5\" >0</td>\n",
       "      <td id=\"T_bc034_row13_col6\" class=\"data row13 col6\" >0</td>\n",
       "      <td id=\"T_bc034_row13_col7\" class=\"data row13 col7\" >0</td>\n",
       "      <td id=\"T_bc034_row13_col8\" class=\"data row13 col8\" >0</td>\n",
       "      <td id=\"T_bc034_row13_col9\" class=\"data row13 col9\" >0</td>\n",
       "      <td id=\"T_bc034_row13_col10\" class=\"data row13 col10\" >18</td>\n",
       "      <td id=\"T_bc034_row13_col11\" class=\"data row13 col11\" >158</td>\n",
       "      <td id=\"T_bc034_row13_col12\" class=\"data row13 col12\" >78</td>\n",
       "      <td id=\"T_bc034_row13_col13\" class=\"data row13 col13\" >77</td>\n",
       "      <td id=\"T_bc034_row13_col14\" class=\"data row13 col14\" >253</td>\n",
       "      <td id=\"T_bc034_row13_col15\" class=\"data row13 col15\" >253</td>\n",
       "      <td id=\"T_bc034_row13_col16\" class=\"data row13 col16\" >207</td>\n",
       "      <td id=\"T_bc034_row13_col17\" class=\"data row13 col17\" >0</td>\n",
       "      <td id=\"T_bc034_row13_col18\" class=\"data row13 col18\" >0</td>\n",
       "      <td id=\"T_bc034_row13_col19\" class=\"data row13 col19\" >0</td>\n",
       "      <td id=\"T_bc034_row13_col20\" class=\"data row13 col20\" >0</td>\n",
       "      <td id=\"T_bc034_row13_col21\" class=\"data row13 col21\" >0</td>\n",
       "      <td id=\"T_bc034_row13_col22\" class=\"data row13 col22\" >0</td>\n",
       "      <td id=\"T_bc034_row13_col23\" class=\"data row13 col23\" >0</td>\n",
       "      <td id=\"T_bc034_row13_col24\" class=\"data row13 col24\" >0</td>\n",
       "      <td id=\"T_bc034_row13_col25\" class=\"data row13 col25\" >0</td>\n",
       "      <td id=\"T_bc034_row13_col26\" class=\"data row13 col26\" >0</td>\n",
       "      <td id=\"T_bc034_row13_col27\" class=\"data row13 col27\" >0</td>\n",
       "    </tr>\n",
       "    <tr>\n",
       "      <th id=\"T_bc034_level0_row14\" class=\"row_heading level0 row14\" >14</th>\n",
       "      <td id=\"T_bc034_row14_col0\" class=\"data row14 col0\" >0</td>\n",
       "      <td id=\"T_bc034_row14_col1\" class=\"data row14 col1\" >0</td>\n",
       "      <td id=\"T_bc034_row14_col2\" class=\"data row14 col2\" >0</td>\n",
       "      <td id=\"T_bc034_row14_col3\" class=\"data row14 col3\" >0</td>\n",
       "      <td id=\"T_bc034_row14_col4\" class=\"data row14 col4\" >0</td>\n",
       "      <td id=\"T_bc034_row14_col5\" class=\"data row14 col5\" >0</td>\n",
       "      <td id=\"T_bc034_row14_col6\" class=\"data row14 col6\" >0</td>\n",
       "      <td id=\"T_bc034_row14_col7\" class=\"data row14 col7\" >0</td>\n",
       "      <td id=\"T_bc034_row14_col8\" class=\"data row14 col8\" >0</td>\n",
       "      <td id=\"T_bc034_row14_col9\" class=\"data row14 col9\" >0</td>\n",
       "      <td id=\"T_bc034_row14_col10\" class=\"data row14 col10\" >0</td>\n",
       "      <td id=\"T_bc034_row14_col11\" class=\"data row14 col11\" >0</td>\n",
       "      <td id=\"T_bc034_row14_col12\" class=\"data row14 col12\" >0</td>\n",
       "      <td id=\"T_bc034_row14_col13\" class=\"data row14 col13\" >66</td>\n",
       "      <td id=\"T_bc034_row14_col14\" class=\"data row14 col14\" >253</td>\n",
       "      <td id=\"T_bc034_row14_col15\" class=\"data row14 col15\" >253</td>\n",
       "      <td id=\"T_bc034_row14_col16\" class=\"data row14 col16\" >207</td>\n",
       "      <td id=\"T_bc034_row14_col17\" class=\"data row14 col17\" >0</td>\n",
       "      <td id=\"T_bc034_row14_col18\" class=\"data row14 col18\" >0</td>\n",
       "      <td id=\"T_bc034_row14_col19\" class=\"data row14 col19\" >0</td>\n",
       "      <td id=\"T_bc034_row14_col20\" class=\"data row14 col20\" >0</td>\n",
       "      <td id=\"T_bc034_row14_col21\" class=\"data row14 col21\" >0</td>\n",
       "      <td id=\"T_bc034_row14_col22\" class=\"data row14 col22\" >0</td>\n",
       "      <td id=\"T_bc034_row14_col23\" class=\"data row14 col23\" >0</td>\n",
       "      <td id=\"T_bc034_row14_col24\" class=\"data row14 col24\" >0</td>\n",
       "      <td id=\"T_bc034_row14_col25\" class=\"data row14 col25\" >0</td>\n",
       "      <td id=\"T_bc034_row14_col26\" class=\"data row14 col26\" >0</td>\n",
       "      <td id=\"T_bc034_row14_col27\" class=\"data row14 col27\" >0</td>\n",
       "    </tr>\n",
       "    <tr>\n",
       "      <th id=\"T_bc034_level0_row15\" class=\"row_heading level0 row15\" >15</th>\n",
       "      <td id=\"T_bc034_row15_col0\" class=\"data row15 col0\" >0</td>\n",
       "      <td id=\"T_bc034_row15_col1\" class=\"data row15 col1\" >0</td>\n",
       "      <td id=\"T_bc034_row15_col2\" class=\"data row15 col2\" >0</td>\n",
       "      <td id=\"T_bc034_row15_col3\" class=\"data row15 col3\" >0</td>\n",
       "      <td id=\"T_bc034_row15_col4\" class=\"data row15 col4\" >0</td>\n",
       "      <td id=\"T_bc034_row15_col5\" class=\"data row15 col5\" >0</td>\n",
       "      <td id=\"T_bc034_row15_col6\" class=\"data row15 col6\" >0</td>\n",
       "      <td id=\"T_bc034_row15_col7\" class=\"data row15 col7\" >0</td>\n",
       "      <td id=\"T_bc034_row15_col8\" class=\"data row15 col8\" >0</td>\n",
       "      <td id=\"T_bc034_row15_col9\" class=\"data row15 col9\" >0</td>\n",
       "      <td id=\"T_bc034_row15_col10\" class=\"data row15 col10\" >0</td>\n",
       "      <td id=\"T_bc034_row15_col11\" class=\"data row15 col11\" >0</td>\n",
       "      <td id=\"T_bc034_row15_col12\" class=\"data row15 col12\" >0</td>\n",
       "      <td id=\"T_bc034_row15_col13\" class=\"data row15 col13\" >163</td>\n",
       "      <td id=\"T_bc034_row15_col14\" class=\"data row15 col14\" >253</td>\n",
       "      <td id=\"T_bc034_row15_col15\" class=\"data row15 col15\" >253</td>\n",
       "      <td id=\"T_bc034_row15_col16\" class=\"data row15 col16\" >207</td>\n",
       "      <td id=\"T_bc034_row15_col17\" class=\"data row15 col17\" >0</td>\n",
       "      <td id=\"T_bc034_row15_col18\" class=\"data row15 col18\" >0</td>\n",
       "      <td id=\"T_bc034_row15_col19\" class=\"data row15 col19\" >0</td>\n",
       "      <td id=\"T_bc034_row15_col20\" class=\"data row15 col20\" >0</td>\n",
       "      <td id=\"T_bc034_row15_col21\" class=\"data row15 col21\" >0</td>\n",
       "      <td id=\"T_bc034_row15_col22\" class=\"data row15 col22\" >0</td>\n",
       "      <td id=\"T_bc034_row15_col23\" class=\"data row15 col23\" >0</td>\n",
       "      <td id=\"T_bc034_row15_col24\" class=\"data row15 col24\" >0</td>\n",
       "      <td id=\"T_bc034_row15_col25\" class=\"data row15 col25\" >0</td>\n",
       "      <td id=\"T_bc034_row15_col26\" class=\"data row15 col26\" >0</td>\n",
       "      <td id=\"T_bc034_row15_col27\" class=\"data row15 col27\" >0</td>\n",
       "    </tr>\n",
       "    <tr>\n",
       "      <th id=\"T_bc034_level0_row16\" class=\"row_heading level0 row16\" >16</th>\n",
       "      <td id=\"T_bc034_row16_col0\" class=\"data row16 col0\" >0</td>\n",
       "      <td id=\"T_bc034_row16_col1\" class=\"data row16 col1\" >0</td>\n",
       "      <td id=\"T_bc034_row16_col2\" class=\"data row16 col2\" >0</td>\n",
       "      <td id=\"T_bc034_row16_col3\" class=\"data row16 col3\" >0</td>\n",
       "      <td id=\"T_bc034_row16_col4\" class=\"data row16 col4\" >0</td>\n",
       "      <td id=\"T_bc034_row16_col5\" class=\"data row16 col5\" >0</td>\n",
       "      <td id=\"T_bc034_row16_col6\" class=\"data row16 col6\" >0</td>\n",
       "      <td id=\"T_bc034_row16_col7\" class=\"data row16 col7\" >0</td>\n",
       "      <td id=\"T_bc034_row16_col8\" class=\"data row16 col8\" >0</td>\n",
       "      <td id=\"T_bc034_row16_col9\" class=\"data row16 col9\" >0</td>\n",
       "      <td id=\"T_bc034_row16_col10\" class=\"data row16 col10\" >0</td>\n",
       "      <td id=\"T_bc034_row16_col11\" class=\"data row16 col11\" >0</td>\n",
       "      <td id=\"T_bc034_row16_col12\" class=\"data row16 col12\" >15</td>\n",
       "      <td id=\"T_bc034_row16_col13\" class=\"data row16 col13\" >208</td>\n",
       "      <td id=\"T_bc034_row16_col14\" class=\"data row16 col14\" >253</td>\n",
       "      <td id=\"T_bc034_row16_col15\" class=\"data row16 col15\" >253</td>\n",
       "      <td id=\"T_bc034_row16_col16\" class=\"data row16 col16\" >180</td>\n",
       "      <td id=\"T_bc034_row16_col17\" class=\"data row16 col17\" >0</td>\n",
       "      <td id=\"T_bc034_row16_col18\" class=\"data row16 col18\" >0</td>\n",
       "      <td id=\"T_bc034_row16_col19\" class=\"data row16 col19\" >0</td>\n",
       "      <td id=\"T_bc034_row16_col20\" class=\"data row16 col20\" >0</td>\n",
       "      <td id=\"T_bc034_row16_col21\" class=\"data row16 col21\" >0</td>\n",
       "      <td id=\"T_bc034_row16_col22\" class=\"data row16 col22\" >0</td>\n",
       "      <td id=\"T_bc034_row16_col23\" class=\"data row16 col23\" >0</td>\n",
       "      <td id=\"T_bc034_row16_col24\" class=\"data row16 col24\" >0</td>\n",
       "      <td id=\"T_bc034_row16_col25\" class=\"data row16 col25\" >0</td>\n",
       "      <td id=\"T_bc034_row16_col26\" class=\"data row16 col26\" >0</td>\n",
       "      <td id=\"T_bc034_row16_col27\" class=\"data row16 col27\" >0</td>\n",
       "    </tr>\n",
       "    <tr>\n",
       "      <th id=\"T_bc034_level0_row17\" class=\"row_heading level0 row17\" >17</th>\n",
       "      <td id=\"T_bc034_row17_col0\" class=\"data row17 col0\" >0</td>\n",
       "      <td id=\"T_bc034_row17_col1\" class=\"data row17 col1\" >0</td>\n",
       "      <td id=\"T_bc034_row17_col2\" class=\"data row17 col2\" >0</td>\n",
       "      <td id=\"T_bc034_row17_col3\" class=\"data row17 col3\" >0</td>\n",
       "      <td id=\"T_bc034_row17_col4\" class=\"data row17 col4\" >0</td>\n",
       "      <td id=\"T_bc034_row17_col5\" class=\"data row17 col5\" >0</td>\n",
       "      <td id=\"T_bc034_row17_col6\" class=\"data row17 col6\" >0</td>\n",
       "      <td id=\"T_bc034_row17_col7\" class=\"data row17 col7\" >0</td>\n",
       "      <td id=\"T_bc034_row17_col8\" class=\"data row17 col8\" >0</td>\n",
       "      <td id=\"T_bc034_row17_col9\" class=\"data row17 col9\" >0</td>\n",
       "      <td id=\"T_bc034_row17_col10\" class=\"data row17 col10\" >0</td>\n",
       "      <td id=\"T_bc034_row17_col11\" class=\"data row17 col11\" >0</td>\n",
       "      <td id=\"T_bc034_row17_col12\" class=\"data row17 col12\" >96</td>\n",
       "      <td id=\"T_bc034_row17_col13\" class=\"data row17 col13\" >253</td>\n",
       "      <td id=\"T_bc034_row17_col14\" class=\"data row17 col14\" >253</td>\n",
       "      <td id=\"T_bc034_row17_col15\" class=\"data row17 col15\" >253</td>\n",
       "      <td id=\"T_bc034_row17_col16\" class=\"data row17 col16\" >78</td>\n",
       "      <td id=\"T_bc034_row17_col17\" class=\"data row17 col17\" >0</td>\n",
       "      <td id=\"T_bc034_row17_col18\" class=\"data row17 col18\" >0</td>\n",
       "      <td id=\"T_bc034_row17_col19\" class=\"data row17 col19\" >0</td>\n",
       "      <td id=\"T_bc034_row17_col20\" class=\"data row17 col20\" >0</td>\n",
       "      <td id=\"T_bc034_row17_col21\" class=\"data row17 col21\" >0</td>\n",
       "      <td id=\"T_bc034_row17_col22\" class=\"data row17 col22\" >0</td>\n",
       "      <td id=\"T_bc034_row17_col23\" class=\"data row17 col23\" >0</td>\n",
       "      <td id=\"T_bc034_row17_col24\" class=\"data row17 col24\" >0</td>\n",
       "      <td id=\"T_bc034_row17_col25\" class=\"data row17 col25\" >0</td>\n",
       "      <td id=\"T_bc034_row17_col26\" class=\"data row17 col26\" >0</td>\n",
       "      <td id=\"T_bc034_row17_col27\" class=\"data row17 col27\" >0</td>\n",
       "    </tr>\n",
       "    <tr>\n",
       "      <th id=\"T_bc034_level0_row18\" class=\"row_heading level0 row18\" >18</th>\n",
       "      <td id=\"T_bc034_row18_col0\" class=\"data row18 col0\" >0</td>\n",
       "      <td id=\"T_bc034_row18_col1\" class=\"data row18 col1\" >0</td>\n",
       "      <td id=\"T_bc034_row18_col2\" class=\"data row18 col2\" >0</td>\n",
       "      <td id=\"T_bc034_row18_col3\" class=\"data row18 col3\" >0</td>\n",
       "      <td id=\"T_bc034_row18_col4\" class=\"data row18 col4\" >0</td>\n",
       "      <td id=\"T_bc034_row18_col5\" class=\"data row18 col5\" >0</td>\n",
       "      <td id=\"T_bc034_row18_col6\" class=\"data row18 col6\" >0</td>\n",
       "      <td id=\"T_bc034_row18_col7\" class=\"data row18 col7\" >0</td>\n",
       "      <td id=\"T_bc034_row18_col8\" class=\"data row18 col8\" >0</td>\n",
       "      <td id=\"T_bc034_row18_col9\" class=\"data row18 col9\" >0</td>\n",
       "      <td id=\"T_bc034_row18_col10\" class=\"data row18 col10\" >0</td>\n",
       "      <td id=\"T_bc034_row18_col11\" class=\"data row18 col11\" >0</td>\n",
       "      <td id=\"T_bc034_row18_col12\" class=\"data row18 col12\" >182</td>\n",
       "      <td id=\"T_bc034_row18_col13\" class=\"data row18 col13\" >253</td>\n",
       "      <td id=\"T_bc034_row18_col14\" class=\"data row18 col14\" >253</td>\n",
       "      <td id=\"T_bc034_row18_col15\" class=\"data row18 col15\" >253</td>\n",
       "      <td id=\"T_bc034_row18_col16\" class=\"data row18 col16\" >98</td>\n",
       "      <td id=\"T_bc034_row18_col17\" class=\"data row18 col17\" >0</td>\n",
       "      <td id=\"T_bc034_row18_col18\" class=\"data row18 col18\" >0</td>\n",
       "      <td id=\"T_bc034_row18_col19\" class=\"data row18 col19\" >0</td>\n",
       "      <td id=\"T_bc034_row18_col20\" class=\"data row18 col20\" >0</td>\n",
       "      <td id=\"T_bc034_row18_col21\" class=\"data row18 col21\" >0</td>\n",
       "      <td id=\"T_bc034_row18_col22\" class=\"data row18 col22\" >0</td>\n",
       "      <td id=\"T_bc034_row18_col23\" class=\"data row18 col23\" >0</td>\n",
       "      <td id=\"T_bc034_row18_col24\" class=\"data row18 col24\" >0</td>\n",
       "      <td id=\"T_bc034_row18_col25\" class=\"data row18 col25\" >0</td>\n",
       "      <td id=\"T_bc034_row18_col26\" class=\"data row18 col26\" >0</td>\n",
       "      <td id=\"T_bc034_row18_col27\" class=\"data row18 col27\" >0</td>\n",
       "    </tr>\n",
       "    <tr>\n",
       "      <th id=\"T_bc034_level0_row19\" class=\"row_heading level0 row19\" >19</th>\n",
       "      <td id=\"T_bc034_row19_col0\" class=\"data row19 col0\" >0</td>\n",
       "      <td id=\"T_bc034_row19_col1\" class=\"data row19 col1\" >0</td>\n",
       "      <td id=\"T_bc034_row19_col2\" class=\"data row19 col2\" >0</td>\n",
       "      <td id=\"T_bc034_row19_col3\" class=\"data row19 col3\" >0</td>\n",
       "      <td id=\"T_bc034_row19_col4\" class=\"data row19 col4\" >0</td>\n",
       "      <td id=\"T_bc034_row19_col5\" class=\"data row19 col5\" >0</td>\n",
       "      <td id=\"T_bc034_row19_col6\" class=\"data row19 col6\" >0</td>\n",
       "      <td id=\"T_bc034_row19_col7\" class=\"data row19 col7\" >0</td>\n",
       "      <td id=\"T_bc034_row19_col8\" class=\"data row19 col8\" >0</td>\n",
       "      <td id=\"T_bc034_row19_col9\" class=\"data row19 col9\" >0</td>\n",
       "      <td id=\"T_bc034_row19_col10\" class=\"data row19 col10\" >0</td>\n",
       "      <td id=\"T_bc034_row19_col11\" class=\"data row19 col11\" >0</td>\n",
       "      <td id=\"T_bc034_row19_col12\" class=\"data row19 col12\" >72</td>\n",
       "      <td id=\"T_bc034_row19_col13\" class=\"data row19 col13\" >253</td>\n",
       "      <td id=\"T_bc034_row19_col14\" class=\"data row19 col14\" >253</td>\n",
       "      <td id=\"T_bc034_row19_col15\" class=\"data row19 col15\" >253</td>\n",
       "      <td id=\"T_bc034_row19_col16\" class=\"data row19 col16\" >207</td>\n",
       "      <td id=\"T_bc034_row19_col17\" class=\"data row19 col17\" >0</td>\n",
       "      <td id=\"T_bc034_row19_col18\" class=\"data row19 col18\" >0</td>\n",
       "      <td id=\"T_bc034_row19_col19\" class=\"data row19 col19\" >0</td>\n",
       "      <td id=\"T_bc034_row19_col20\" class=\"data row19 col20\" >0</td>\n",
       "      <td id=\"T_bc034_row19_col21\" class=\"data row19 col21\" >0</td>\n",
       "      <td id=\"T_bc034_row19_col22\" class=\"data row19 col22\" >0</td>\n",
       "      <td id=\"T_bc034_row19_col23\" class=\"data row19 col23\" >0</td>\n",
       "      <td id=\"T_bc034_row19_col24\" class=\"data row19 col24\" >0</td>\n",
       "      <td id=\"T_bc034_row19_col25\" class=\"data row19 col25\" >0</td>\n",
       "      <td id=\"T_bc034_row19_col26\" class=\"data row19 col26\" >0</td>\n",
       "      <td id=\"T_bc034_row19_col27\" class=\"data row19 col27\" >0</td>\n",
       "    </tr>\n",
       "    <tr>\n",
       "      <th id=\"T_bc034_level0_row20\" class=\"row_heading level0 row20\" >20</th>\n",
       "      <td id=\"T_bc034_row20_col0\" class=\"data row20 col0\" >0</td>\n",
       "      <td id=\"T_bc034_row20_col1\" class=\"data row20 col1\" >0</td>\n",
       "      <td id=\"T_bc034_row20_col2\" class=\"data row20 col2\" >0</td>\n",
       "      <td id=\"T_bc034_row20_col3\" class=\"data row20 col3\" >0</td>\n",
       "      <td id=\"T_bc034_row20_col4\" class=\"data row20 col4\" >0</td>\n",
       "      <td id=\"T_bc034_row20_col5\" class=\"data row20 col5\" >0</td>\n",
       "      <td id=\"T_bc034_row20_col6\" class=\"data row20 col6\" >0</td>\n",
       "      <td id=\"T_bc034_row20_col7\" class=\"data row20 col7\" >0</td>\n",
       "      <td id=\"T_bc034_row20_col8\" class=\"data row20 col8\" >0</td>\n",
       "      <td id=\"T_bc034_row20_col9\" class=\"data row20 col9\" >0</td>\n",
       "      <td id=\"T_bc034_row20_col10\" class=\"data row20 col10\" >0</td>\n",
       "      <td id=\"T_bc034_row20_col11\" class=\"data row20 col11\" >0</td>\n",
       "      <td id=\"T_bc034_row20_col12\" class=\"data row20 col12\" >72</td>\n",
       "      <td id=\"T_bc034_row20_col13\" class=\"data row20 col13\" >253</td>\n",
       "      <td id=\"T_bc034_row20_col14\" class=\"data row20 col14\" >253</td>\n",
       "      <td id=\"T_bc034_row20_col15\" class=\"data row20 col15\" >253</td>\n",
       "      <td id=\"T_bc034_row20_col16\" class=\"data row20 col16\" >207</td>\n",
       "      <td id=\"T_bc034_row20_col17\" class=\"data row20 col17\" >0</td>\n",
       "      <td id=\"T_bc034_row20_col18\" class=\"data row20 col18\" >0</td>\n",
       "      <td id=\"T_bc034_row20_col19\" class=\"data row20 col19\" >0</td>\n",
       "      <td id=\"T_bc034_row20_col20\" class=\"data row20 col20\" >0</td>\n",
       "      <td id=\"T_bc034_row20_col21\" class=\"data row20 col21\" >0</td>\n",
       "      <td id=\"T_bc034_row20_col22\" class=\"data row20 col22\" >0</td>\n",
       "      <td id=\"T_bc034_row20_col23\" class=\"data row20 col23\" >0</td>\n",
       "      <td id=\"T_bc034_row20_col24\" class=\"data row20 col24\" >0</td>\n",
       "      <td id=\"T_bc034_row20_col25\" class=\"data row20 col25\" >0</td>\n",
       "      <td id=\"T_bc034_row20_col26\" class=\"data row20 col26\" >0</td>\n",
       "      <td id=\"T_bc034_row20_col27\" class=\"data row20 col27\" >0</td>\n",
       "    </tr>\n",
       "    <tr>\n",
       "      <th id=\"T_bc034_level0_row21\" class=\"row_heading level0 row21\" >21</th>\n",
       "      <td id=\"T_bc034_row21_col0\" class=\"data row21 col0\" >0</td>\n",
       "      <td id=\"T_bc034_row21_col1\" class=\"data row21 col1\" >0</td>\n",
       "      <td id=\"T_bc034_row21_col2\" class=\"data row21 col2\" >0</td>\n",
       "      <td id=\"T_bc034_row21_col3\" class=\"data row21 col3\" >0</td>\n",
       "      <td id=\"T_bc034_row21_col4\" class=\"data row21 col4\" >0</td>\n",
       "      <td id=\"T_bc034_row21_col5\" class=\"data row21 col5\" >0</td>\n",
       "      <td id=\"T_bc034_row21_col6\" class=\"data row21 col6\" >0</td>\n",
       "      <td id=\"T_bc034_row21_col7\" class=\"data row21 col7\" >0</td>\n",
       "      <td id=\"T_bc034_row21_col8\" class=\"data row21 col8\" >0</td>\n",
       "      <td id=\"T_bc034_row21_col9\" class=\"data row21 col9\" >0</td>\n",
       "      <td id=\"T_bc034_row21_col10\" class=\"data row21 col10\" >0</td>\n",
       "      <td id=\"T_bc034_row21_col11\" class=\"data row21 col11\" >0</td>\n",
       "      <td id=\"T_bc034_row21_col12\" class=\"data row21 col12\" >72</td>\n",
       "      <td id=\"T_bc034_row21_col13\" class=\"data row21 col13\" >253</td>\n",
       "      <td id=\"T_bc034_row21_col14\" class=\"data row21 col14\" >253</td>\n",
       "      <td id=\"T_bc034_row21_col15\" class=\"data row21 col15\" >253</td>\n",
       "      <td id=\"T_bc034_row21_col16\" class=\"data row21 col16\" >207</td>\n",
       "      <td id=\"T_bc034_row21_col17\" class=\"data row21 col17\" >0</td>\n",
       "      <td id=\"T_bc034_row21_col18\" class=\"data row21 col18\" >0</td>\n",
       "      <td id=\"T_bc034_row21_col19\" class=\"data row21 col19\" >0</td>\n",
       "      <td id=\"T_bc034_row21_col20\" class=\"data row21 col20\" >0</td>\n",
       "      <td id=\"T_bc034_row21_col21\" class=\"data row21 col21\" >0</td>\n",
       "      <td id=\"T_bc034_row21_col22\" class=\"data row21 col22\" >0</td>\n",
       "      <td id=\"T_bc034_row21_col23\" class=\"data row21 col23\" >0</td>\n",
       "      <td id=\"T_bc034_row21_col24\" class=\"data row21 col24\" >0</td>\n",
       "      <td id=\"T_bc034_row21_col25\" class=\"data row21 col25\" >0</td>\n",
       "      <td id=\"T_bc034_row21_col26\" class=\"data row21 col26\" >0</td>\n",
       "      <td id=\"T_bc034_row21_col27\" class=\"data row21 col27\" >0</td>\n",
       "    </tr>\n",
       "    <tr>\n",
       "      <th id=\"T_bc034_level0_row22\" class=\"row_heading level0 row22\" >22</th>\n",
       "      <td id=\"T_bc034_row22_col0\" class=\"data row22 col0\" >0</td>\n",
       "      <td id=\"T_bc034_row22_col1\" class=\"data row22 col1\" >0</td>\n",
       "      <td id=\"T_bc034_row22_col2\" class=\"data row22 col2\" >0</td>\n",
       "      <td id=\"T_bc034_row22_col3\" class=\"data row22 col3\" >0</td>\n",
       "      <td id=\"T_bc034_row22_col4\" class=\"data row22 col4\" >0</td>\n",
       "      <td id=\"T_bc034_row22_col5\" class=\"data row22 col5\" >0</td>\n",
       "      <td id=\"T_bc034_row22_col6\" class=\"data row22 col6\" >0</td>\n",
       "      <td id=\"T_bc034_row22_col7\" class=\"data row22 col7\" >0</td>\n",
       "      <td id=\"T_bc034_row22_col8\" class=\"data row22 col8\" >0</td>\n",
       "      <td id=\"T_bc034_row22_col9\" class=\"data row22 col9\" >0</td>\n",
       "      <td id=\"T_bc034_row22_col10\" class=\"data row22 col10\" >0</td>\n",
       "      <td id=\"T_bc034_row22_col11\" class=\"data row22 col11\" >0</td>\n",
       "      <td id=\"T_bc034_row22_col12\" class=\"data row22 col12\" >72</td>\n",
       "      <td id=\"T_bc034_row22_col13\" class=\"data row22 col13\" >253</td>\n",
       "      <td id=\"T_bc034_row22_col14\" class=\"data row22 col14\" >253</td>\n",
       "      <td id=\"T_bc034_row22_col15\" class=\"data row22 col15\" >253</td>\n",
       "      <td id=\"T_bc034_row22_col16\" class=\"data row22 col16\" >207</td>\n",
       "      <td id=\"T_bc034_row22_col17\" class=\"data row22 col17\" >0</td>\n",
       "      <td id=\"T_bc034_row22_col18\" class=\"data row22 col18\" >0</td>\n",
       "      <td id=\"T_bc034_row22_col19\" class=\"data row22 col19\" >0</td>\n",
       "      <td id=\"T_bc034_row22_col20\" class=\"data row22 col20\" >0</td>\n",
       "      <td id=\"T_bc034_row22_col21\" class=\"data row22 col21\" >0</td>\n",
       "      <td id=\"T_bc034_row22_col22\" class=\"data row22 col22\" >0</td>\n",
       "      <td id=\"T_bc034_row22_col23\" class=\"data row22 col23\" >0</td>\n",
       "      <td id=\"T_bc034_row22_col24\" class=\"data row22 col24\" >0</td>\n",
       "      <td id=\"T_bc034_row22_col25\" class=\"data row22 col25\" >0</td>\n",
       "      <td id=\"T_bc034_row22_col26\" class=\"data row22 col26\" >0</td>\n",
       "      <td id=\"T_bc034_row22_col27\" class=\"data row22 col27\" >0</td>\n",
       "    </tr>\n",
       "    <tr>\n",
       "      <th id=\"T_bc034_level0_row23\" class=\"row_heading level0 row23\" >23</th>\n",
       "      <td id=\"T_bc034_row23_col0\" class=\"data row23 col0\" >0</td>\n",
       "      <td id=\"T_bc034_row23_col1\" class=\"data row23 col1\" >0</td>\n",
       "      <td id=\"T_bc034_row23_col2\" class=\"data row23 col2\" >0</td>\n",
       "      <td id=\"T_bc034_row23_col3\" class=\"data row23 col3\" >0</td>\n",
       "      <td id=\"T_bc034_row23_col4\" class=\"data row23 col4\" >0</td>\n",
       "      <td id=\"T_bc034_row23_col5\" class=\"data row23 col5\" >0</td>\n",
       "      <td id=\"T_bc034_row23_col6\" class=\"data row23 col6\" >0</td>\n",
       "      <td id=\"T_bc034_row23_col7\" class=\"data row23 col7\" >0</td>\n",
       "      <td id=\"T_bc034_row23_col8\" class=\"data row23 col8\" >0</td>\n",
       "      <td id=\"T_bc034_row23_col9\" class=\"data row23 col9\" >0</td>\n",
       "      <td id=\"T_bc034_row23_col10\" class=\"data row23 col10\" >0</td>\n",
       "      <td id=\"T_bc034_row23_col11\" class=\"data row23 col11\" >0</td>\n",
       "      <td id=\"T_bc034_row23_col12\" class=\"data row23 col12\" >33</td>\n",
       "      <td id=\"T_bc034_row23_col13\" class=\"data row23 col13\" >219</td>\n",
       "      <td id=\"T_bc034_row23_col14\" class=\"data row23 col14\" >253</td>\n",
       "      <td id=\"T_bc034_row23_col15\" class=\"data row23 col15\" >252</td>\n",
       "      <td id=\"T_bc034_row23_col16\" class=\"data row23 col16\" >135</td>\n",
       "      <td id=\"T_bc034_row23_col17\" class=\"data row23 col17\" >0</td>\n",
       "      <td id=\"T_bc034_row23_col18\" class=\"data row23 col18\" >0</td>\n",
       "      <td id=\"T_bc034_row23_col19\" class=\"data row23 col19\" >0</td>\n",
       "      <td id=\"T_bc034_row23_col20\" class=\"data row23 col20\" >0</td>\n",
       "      <td id=\"T_bc034_row23_col21\" class=\"data row23 col21\" >0</td>\n",
       "      <td id=\"T_bc034_row23_col22\" class=\"data row23 col22\" >0</td>\n",
       "      <td id=\"T_bc034_row23_col23\" class=\"data row23 col23\" >0</td>\n",
       "      <td id=\"T_bc034_row23_col24\" class=\"data row23 col24\" >0</td>\n",
       "      <td id=\"T_bc034_row23_col25\" class=\"data row23 col25\" >0</td>\n",
       "      <td id=\"T_bc034_row23_col26\" class=\"data row23 col26\" >0</td>\n",
       "      <td id=\"T_bc034_row23_col27\" class=\"data row23 col27\" >0</td>\n",
       "    </tr>\n",
       "    <tr>\n",
       "      <th id=\"T_bc034_level0_row24\" class=\"row_heading level0 row24\" >24</th>\n",
       "      <td id=\"T_bc034_row24_col0\" class=\"data row24 col0\" >0</td>\n",
       "      <td id=\"T_bc034_row24_col1\" class=\"data row24 col1\" >0</td>\n",
       "      <td id=\"T_bc034_row24_col2\" class=\"data row24 col2\" >0</td>\n",
       "      <td id=\"T_bc034_row24_col3\" class=\"data row24 col3\" >0</td>\n",
       "      <td id=\"T_bc034_row24_col4\" class=\"data row24 col4\" >0</td>\n",
       "      <td id=\"T_bc034_row24_col5\" class=\"data row24 col5\" >0</td>\n",
       "      <td id=\"T_bc034_row24_col6\" class=\"data row24 col6\" >0</td>\n",
       "      <td id=\"T_bc034_row24_col7\" class=\"data row24 col7\" >0</td>\n",
       "      <td id=\"T_bc034_row24_col8\" class=\"data row24 col8\" >0</td>\n",
       "      <td id=\"T_bc034_row24_col9\" class=\"data row24 col9\" >0</td>\n",
       "      <td id=\"T_bc034_row24_col10\" class=\"data row24 col10\" >0</td>\n",
       "      <td id=\"T_bc034_row24_col11\" class=\"data row24 col11\" >0</td>\n",
       "      <td id=\"T_bc034_row24_col12\" class=\"data row24 col12\" >0</td>\n",
       "      <td id=\"T_bc034_row24_col13\" class=\"data row24 col13\" >66</td>\n",
       "      <td id=\"T_bc034_row24_col14\" class=\"data row24 col14\" >253</td>\n",
       "      <td id=\"T_bc034_row24_col15\" class=\"data row24 col15\" >133</td>\n",
       "      <td id=\"T_bc034_row24_col16\" class=\"data row24 col16\" >0</td>\n",
       "      <td id=\"T_bc034_row24_col17\" class=\"data row24 col17\" >0</td>\n",
       "      <td id=\"T_bc034_row24_col18\" class=\"data row24 col18\" >0</td>\n",
       "      <td id=\"T_bc034_row24_col19\" class=\"data row24 col19\" >0</td>\n",
       "      <td id=\"T_bc034_row24_col20\" class=\"data row24 col20\" >0</td>\n",
       "      <td id=\"T_bc034_row24_col21\" class=\"data row24 col21\" >0</td>\n",
       "      <td id=\"T_bc034_row24_col22\" class=\"data row24 col22\" >0</td>\n",
       "      <td id=\"T_bc034_row24_col23\" class=\"data row24 col23\" >0</td>\n",
       "      <td id=\"T_bc034_row24_col24\" class=\"data row24 col24\" >0</td>\n",
       "      <td id=\"T_bc034_row24_col25\" class=\"data row24 col25\" >0</td>\n",
       "      <td id=\"T_bc034_row24_col26\" class=\"data row24 col26\" >0</td>\n",
       "      <td id=\"T_bc034_row24_col27\" class=\"data row24 col27\" >0</td>\n",
       "    </tr>\n",
       "    <tr>\n",
       "      <th id=\"T_bc034_level0_row25\" class=\"row_heading level0 row25\" >25</th>\n",
       "      <td id=\"T_bc034_row25_col0\" class=\"data row25 col0\" >0</td>\n",
       "      <td id=\"T_bc034_row25_col1\" class=\"data row25 col1\" >0</td>\n",
       "      <td id=\"T_bc034_row25_col2\" class=\"data row25 col2\" >0</td>\n",
       "      <td id=\"T_bc034_row25_col3\" class=\"data row25 col3\" >0</td>\n",
       "      <td id=\"T_bc034_row25_col4\" class=\"data row25 col4\" >0</td>\n",
       "      <td id=\"T_bc034_row25_col5\" class=\"data row25 col5\" >0</td>\n",
       "      <td id=\"T_bc034_row25_col6\" class=\"data row25 col6\" >0</td>\n",
       "      <td id=\"T_bc034_row25_col7\" class=\"data row25 col7\" >0</td>\n",
       "      <td id=\"T_bc034_row25_col8\" class=\"data row25 col8\" >0</td>\n",
       "      <td id=\"T_bc034_row25_col9\" class=\"data row25 col9\" >0</td>\n",
       "      <td id=\"T_bc034_row25_col10\" class=\"data row25 col10\" >0</td>\n",
       "      <td id=\"T_bc034_row25_col11\" class=\"data row25 col11\" >0</td>\n",
       "      <td id=\"T_bc034_row25_col12\" class=\"data row25 col12\" >0</td>\n",
       "      <td id=\"T_bc034_row25_col13\" class=\"data row25 col13\" >0</td>\n",
       "      <td id=\"T_bc034_row25_col14\" class=\"data row25 col14\" >0</td>\n",
       "      <td id=\"T_bc034_row25_col15\" class=\"data row25 col15\" >0</td>\n",
       "      <td id=\"T_bc034_row25_col16\" class=\"data row25 col16\" >0</td>\n",
       "      <td id=\"T_bc034_row25_col17\" class=\"data row25 col17\" >0</td>\n",
       "      <td id=\"T_bc034_row25_col18\" class=\"data row25 col18\" >0</td>\n",
       "      <td id=\"T_bc034_row25_col19\" class=\"data row25 col19\" >0</td>\n",
       "      <td id=\"T_bc034_row25_col20\" class=\"data row25 col20\" >0</td>\n",
       "      <td id=\"T_bc034_row25_col21\" class=\"data row25 col21\" >0</td>\n",
       "      <td id=\"T_bc034_row25_col22\" class=\"data row25 col22\" >0</td>\n",
       "      <td id=\"T_bc034_row25_col23\" class=\"data row25 col23\" >0</td>\n",
       "      <td id=\"T_bc034_row25_col24\" class=\"data row25 col24\" >0</td>\n",
       "      <td id=\"T_bc034_row25_col25\" class=\"data row25 col25\" >0</td>\n",
       "      <td id=\"T_bc034_row25_col26\" class=\"data row25 col26\" >0</td>\n",
       "      <td id=\"T_bc034_row25_col27\" class=\"data row25 col27\" >0</td>\n",
       "    </tr>\n",
       "    <tr>\n",
       "      <th id=\"T_bc034_level0_row26\" class=\"row_heading level0 row26\" >26</th>\n",
       "      <td id=\"T_bc034_row26_col0\" class=\"data row26 col0\" >0</td>\n",
       "      <td id=\"T_bc034_row26_col1\" class=\"data row26 col1\" >0</td>\n",
       "      <td id=\"T_bc034_row26_col2\" class=\"data row26 col2\" >0</td>\n",
       "      <td id=\"T_bc034_row26_col3\" class=\"data row26 col3\" >0</td>\n",
       "      <td id=\"T_bc034_row26_col4\" class=\"data row26 col4\" >0</td>\n",
       "      <td id=\"T_bc034_row26_col5\" class=\"data row26 col5\" >0</td>\n",
       "      <td id=\"T_bc034_row26_col6\" class=\"data row26 col6\" >0</td>\n",
       "      <td id=\"T_bc034_row26_col7\" class=\"data row26 col7\" >0</td>\n",
       "      <td id=\"T_bc034_row26_col8\" class=\"data row26 col8\" >0</td>\n",
       "      <td id=\"T_bc034_row26_col9\" class=\"data row26 col9\" >0</td>\n",
       "      <td id=\"T_bc034_row26_col10\" class=\"data row26 col10\" >0</td>\n",
       "      <td id=\"T_bc034_row26_col11\" class=\"data row26 col11\" >0</td>\n",
       "      <td id=\"T_bc034_row26_col12\" class=\"data row26 col12\" >0</td>\n",
       "      <td id=\"T_bc034_row26_col13\" class=\"data row26 col13\" >0</td>\n",
       "      <td id=\"T_bc034_row26_col14\" class=\"data row26 col14\" >0</td>\n",
       "      <td id=\"T_bc034_row26_col15\" class=\"data row26 col15\" >0</td>\n",
       "      <td id=\"T_bc034_row26_col16\" class=\"data row26 col16\" >0</td>\n",
       "      <td id=\"T_bc034_row26_col17\" class=\"data row26 col17\" >0</td>\n",
       "      <td id=\"T_bc034_row26_col18\" class=\"data row26 col18\" >0</td>\n",
       "      <td id=\"T_bc034_row26_col19\" class=\"data row26 col19\" >0</td>\n",
       "      <td id=\"T_bc034_row26_col20\" class=\"data row26 col20\" >0</td>\n",
       "      <td id=\"T_bc034_row26_col21\" class=\"data row26 col21\" >0</td>\n",
       "      <td id=\"T_bc034_row26_col22\" class=\"data row26 col22\" >0</td>\n",
       "      <td id=\"T_bc034_row26_col23\" class=\"data row26 col23\" >0</td>\n",
       "      <td id=\"T_bc034_row26_col24\" class=\"data row26 col24\" >0</td>\n",
       "      <td id=\"T_bc034_row26_col25\" class=\"data row26 col25\" >0</td>\n",
       "      <td id=\"T_bc034_row26_col26\" class=\"data row26 col26\" >0</td>\n",
       "      <td id=\"T_bc034_row26_col27\" class=\"data row26 col27\" >0</td>\n",
       "    </tr>\n",
       "    <tr>\n",
       "      <th id=\"T_bc034_level0_row27\" class=\"row_heading level0 row27\" >27</th>\n",
       "      <td id=\"T_bc034_row27_col0\" class=\"data row27 col0\" >0</td>\n",
       "      <td id=\"T_bc034_row27_col1\" class=\"data row27 col1\" >0</td>\n",
       "      <td id=\"T_bc034_row27_col2\" class=\"data row27 col2\" >0</td>\n",
       "      <td id=\"T_bc034_row27_col3\" class=\"data row27 col3\" >0</td>\n",
       "      <td id=\"T_bc034_row27_col4\" class=\"data row27 col4\" >0</td>\n",
       "      <td id=\"T_bc034_row27_col5\" class=\"data row27 col5\" >0</td>\n",
       "      <td id=\"T_bc034_row27_col6\" class=\"data row27 col6\" >0</td>\n",
       "      <td id=\"T_bc034_row27_col7\" class=\"data row27 col7\" >0</td>\n",
       "      <td id=\"T_bc034_row27_col8\" class=\"data row27 col8\" >0</td>\n",
       "      <td id=\"T_bc034_row27_col9\" class=\"data row27 col9\" >0</td>\n",
       "      <td id=\"T_bc034_row27_col10\" class=\"data row27 col10\" >0</td>\n",
       "      <td id=\"T_bc034_row27_col11\" class=\"data row27 col11\" >0</td>\n",
       "      <td id=\"T_bc034_row27_col12\" class=\"data row27 col12\" >0</td>\n",
       "      <td id=\"T_bc034_row27_col13\" class=\"data row27 col13\" >0</td>\n",
       "      <td id=\"T_bc034_row27_col14\" class=\"data row27 col14\" >0</td>\n",
       "      <td id=\"T_bc034_row27_col15\" class=\"data row27 col15\" >0</td>\n",
       "      <td id=\"T_bc034_row27_col16\" class=\"data row27 col16\" >0</td>\n",
       "      <td id=\"T_bc034_row27_col17\" class=\"data row27 col17\" >0</td>\n",
       "      <td id=\"T_bc034_row27_col18\" class=\"data row27 col18\" >0</td>\n",
       "      <td id=\"T_bc034_row27_col19\" class=\"data row27 col19\" >0</td>\n",
       "      <td id=\"T_bc034_row27_col20\" class=\"data row27 col20\" >0</td>\n",
       "      <td id=\"T_bc034_row27_col21\" class=\"data row27 col21\" >0</td>\n",
       "      <td id=\"T_bc034_row27_col22\" class=\"data row27 col22\" >0</td>\n",
       "      <td id=\"T_bc034_row27_col23\" class=\"data row27 col23\" >0</td>\n",
       "      <td id=\"T_bc034_row27_col24\" class=\"data row27 col24\" >0</td>\n",
       "      <td id=\"T_bc034_row27_col25\" class=\"data row27 col25\" >0</td>\n",
       "      <td id=\"T_bc034_row27_col26\" class=\"data row27 col26\" >0</td>\n",
       "      <td id=\"T_bc034_row27_col27\" class=\"data row27 col27\" >0</td>\n",
       "    </tr>\n",
       "  </tbody>\n",
       "</table>\n"
      ],
      "text/plain": [
       "<pandas.io.formats.style.Styler at 0x7f855df0c850>"
      ]
     },
     "execution_count": 9,
     "metadata": {},
     "output_type": "execute_result"
    }
   ],
   "source": [
    "# Create a dataframe colour map of image\n",
    "imt = tensor(im)\n",
    "df = pd.DataFrame(imt)\n",
    "df.style.set_properties(**{'font-size':'6pt'}).background_gradient('Greys')"
   ]
  },
  {
   "cell_type": "markdown",
   "metadata": {
    "id": "E63yDcwgRNvt"
   },
   "source": [
    "# Baseline\n",
    "\n",
    "We will create a baseline calculation to check whether the number is a 3 or a 7. We will be calculating the average digit by calculating the average for each position in the image."
   ]
  },
  {
   "cell_type": "code",
   "execution_count": 10,
   "metadata": {},
   "outputs": [
    {
     "data": {
      "text/plain": [
       "(#5923) [Path('training/0/16585.png'),Path('training/0/24537.png'),Path('training/0/25629.png'),Path('training/0/20751.png'),Path('training/0/34730.png'),Path('training/0/15926.png'),Path('training/0/22152.png'),Path('training/0/35348.png'),Path('training/0/22634.png'),Path('training/0/6819.png')...]"
      ]
     },
     "execution_count": 10,
     "metadata": {},
     "output_type": "execute_result"
    }
   ],
   "source": [
    "nums_paths[0]"
   ]
  },
  {
   "cell_type": "code",
   "execution_count": 11,
   "metadata": {
    "colab": {
     "base_uri": "https://localhost:8080/"
    },
    "id": "3BFOg8uZRWdy",
    "outputId": "f7037180-083c-49f6-a269-dc002ea91eaf"
   },
   "outputs": [],
   "source": [
    "# Create a list of tensors\n",
    "nums_tens = []\n",
    "\n",
    "for p in nums_paths:\n",
    "    nums_tens.append([tensor(Image.open(i)) for i in p])"
   ]
  },
  {
   "cell_type": "code",
   "execution_count": 12,
   "metadata": {},
   "outputs": [
    {
     "data": {
      "image/png": "[encoded data removed]",
      "text/plain": [
       "<Figure size 72x72 with 1 Axes>"
      ]
     },
     "metadata": {
      "needs_background": "light"
     },
     "output_type": "display_data"
    },
    {
     "data": {
      "image/png": "[encoded data removed]",
      "text/plain": [
       "<Figure size 72x72 with 1 Axes>"
      ]
     },
     "metadata": {
      "needs_background": "light"
     },
     "output_type": "display_data"
    },
    {
     "data": {
      "image/png": "[encoded data removed]",
      "text/plain": [
       "<Figure size 72x72 with 1 Axes>"
      ]
     },
     "metadata": {
      "needs_background": "light"
     },
     "output_type": "display_data"
    },
    {
     "data": {
      "image/png": "[encoded data removed]",
      "text/plain": [
       "<Figure size 72x72 with 1 Axes>"
      ]
     },
     "metadata": {
      "needs_background": "light"
     },
     "output_type": "display_data"
    },
    {
     "data": {
      "image/png": "[encoded data removed]",
      "text/plain": [
       "<Figure size 72x72 with 1 Axes>"
      ]
     },
     "metadata": {
      "needs_background": "light"
     },
     "output_type": "display_data"
    },
    {
     "data": {
      "image/png": "[encoded data removed]",
      "text/plain": [
       "<Figure size 72x72 with 1 Axes>"
      ]
     },
     "metadata": {
      "needs_background": "light"
     },
     "output_type": "display_data"
    },
    {
     "data": {
      "image/png": "[encoded data removed]",
      "text/plain": [
       "<Figure size 72x72 with 1 Axes>"
      ]
     },
     "metadata": {
      "needs_background": "light"
     },
     "output_type": "display_data"
    },
    {
     "data": {
      "image/png": "[encoded data removed]",
      "text/plain": [
       "<Figure size 72x72 with 1 Axes>"
      ]
     },
     "metadata": {
      "needs_background": "light"
     },
     "output_type": "display_data"
    },
    {
     "data": {
      "image/png": "[encoded data removed]",
      "text/plain": [
       "<Figure size 72x72 with 1 Axes>"
      ]
     },
     "metadata": {
      "needs_background": "light"
     },
     "output_type": "display_data"
    },
    {
     "data": {
      "image/png": "[encoded data removed]",
      "text/plain": [
       "<Figure size 72x72 with 1 Axes>"
      ]
     },
     "metadata": {
      "needs_background": "light"
     },
     "output_type": "display_data"
    }
   ],
   "source": [
    "# Review the list of tensors\n",
    "for i in nums_tens:\n",
    "    show_image(i[np.random.randint(0,len(i))])"
   ]
  },
  {
   "cell_type": "code",
   "execution_count": 13,
   "metadata": {
    "colab": {
     "base_uri": "https://localhost:8080/"
    },
    "id": "aj9megNVT8s8",
    "outputId": "cbff2b46-dd69-4ebf-a642-84879bbeadbc"
   },
   "outputs": [
    {
     "data": {
      "text/plain": [
       "[torch.Size([5923, 28, 28]),\n",
       " torch.Size([6742, 28, 28]),\n",
       " torch.Size([5958, 28, 28]),\n",
       " torch.Size([6131, 28, 28]),\n",
       " torch.Size([5842, 28, 28]),\n",
       " torch.Size([5421, 28, 28]),\n",
       " torch.Size([5918, 28, 28]),\n",
       " torch.Size([6265, 28, 28]),\n",
       " torch.Size([5851, 28, 28]),\n",
       " torch.Size([5949, 28, 28])]"
      ]
     },
     "execution_count": 13,
     "metadata": {},
     "output_type": "execute_result"
    }
   ],
   "source": [
    "# Stack the tensors and normalise them between 0 and 1\n",
    "stacked_nums = []\n",
    "for i in nums_tens:\n",
    "    stacked_nums.append(torch.stack(i).float()/255)\n",
    "\n",
    "[i.shape for i in stacked_nums]"
   ]
  },
  {
   "cell_type": "code",
   "execution_count": 16,
   "metadata": {},
   "outputs": [
    {
     "data": {
      "text/plain": [
       "array([ True,  True,  True,  True,  True,  True,  True,  True,  True,  True])"
      ]
     },
     "execution_count": 16,
     "metadata": {},
     "output_type": "execute_result"
    }
   ],
   "source": [
    "# Check the stacked tensors size\n",
    "np.array([i.shape[0] for i in stacked_nums])==np.array([len(i) for i in nums_paths])"
   ]
  },
  {
   "cell_type": "code",
   "execution_count": 17,
   "metadata": {
    "colab": {
     "base_uri": "https://localhost:8080/"
    },
    "id": "5oKiLYYmW4ND",
    "outputId": "13fcc632-e577-4e96-b651-6072649e2c29"
   },
   "outputs": [
    {
     "data": {
      "text/plain": [
       "[3, 3, 3, 3, 3, 3, 3, 3, 3, 3]"
      ]
     },
     "execution_count": 17,
     "metadata": {},
     "output_type": "execute_result"
    }
   ],
   "source": [
    "# Review rank of tensor. \n",
    "[i.ndim for i in stacked_nums]"
   ]
  },
  {
   "cell_type": "code",
   "execution_count": 18,
   "metadata": {
    "id": "GM_baLSJXUh0"
   },
   "outputs": [],
   "source": [
    "# Calculate the average pixel accross all images\n",
    "nums_means = [i.mean(axis=0) for i in stacked_nums]"
   ]
  },
  {
   "cell_type": "code",
   "execution_count": 19,
   "metadata": {
    "colab": {
     "base_uri": "https://localhost:8080/",
     "height": 54
    },
    "id": "EIa5RqdubX86",
    "outputId": "1b316281-e884-474d-8b0b-538027fdf56e"
   },
   "outputs": [
    {
     "data": {
      "image/png": "[encoded data removed]",
      "text/plain": [
       "<Figure size 72x72 with 1 Axes>"
      ]
     },
     "metadata": {
      "needs_background": "light"
     },
     "output_type": "display_data"
    },
    {
     "data": {
      "image/png": "[encoded data removed]",
      "text/plain": [
       "<Figure size 72x72 with 1 Axes>"
      ]
     },
     "metadata": {
      "needs_background": "light"
     },
     "output_type": "display_data"
    },
    {
     "data": {
      "image/png": "[encoded data removed]",
      "text/plain": [
       "<Figure size 72x72 with 1 Axes>"
      ]
     },
     "metadata": {
      "needs_background": "light"
     },
     "output_type": "display_data"
    },
    {
     "data": {
      "image/png": "[encoded data removed]",
      "text/plain": [
       "<Figure size 72x72 with 1 Axes>"
      ]
     },
     "metadata": {
      "needs_background": "light"
     },
     "output_type": "display_data"
    },
    {
     "data": {
      "image/png": "[encoded data removed]",
      "text/plain": [
       "<Figure size 72x72 with 1 Axes>"
      ]
     },
     "metadata": {
      "needs_background": "light"
     },
     "output_type": "display_data"
    },
    {
     "data": {
      "image/png": "[encoded data removed]",
      "text/plain": [
       "<Figure size 72x72 with 1 Axes>"
      ]
     },
     "metadata": {
      "needs_background": "light"
     },
     "output_type": "display_data"
    },
    {
     "data": {
      "image/png": "[encoded data removed]",
      "text/plain": [
       "<Figure size 72x72 with 1 Axes>"
      ]
     },
     "metadata": {
      "needs_background": "light"
     },
     "output_type": "display_data"
    },
    {
     "data": {
      "image/png": "[encoded data removed]",
      "text/plain": [
       "<Figure size 72x72 with 1 Axes>"
      ]
     },
     "metadata": {
      "needs_background": "light"
     },
     "output_type": "display_data"
    },
    {
     "data": {
      "image/png": "[encoded data removed]",
      "text/plain": [
       "<Figure size 72x72 with 1 Axes>"
      ]
     },
     "metadata": {
      "needs_background": "light"
     },
     "output_type": "display_data"
    },
    {
     "data": {
      "image/png": "[encoded data removed]",
      "text/plain": [
       "<Figure size 72x72 with 1 Axes>"
      ]
     },
     "metadata": {
      "needs_background": "light"
     },
     "output_type": "display_data"
    }
   ],
   "source": [
    "# Display means\n",
    "for i in nums_means:\n",
    "    show_image(i)"
   ]
  },
  {
   "cell_type": "markdown",
   "metadata": {
    "id": "i2xElbHNzM8a"
   },
   "source": [
    "## Deviation from baseline"
   ]
  },
  {
   "cell_type": "markdown",
   "metadata": {
    "id": "afiHAQ6CE7f6",
    "tags": []
   },
   "source": [
    "### Train data"
   ]
  },
  {
   "cell_type": "markdown",
   "metadata": {},
   "source": [
    "Mean absolute differences is called the L1 norm.\n",
    "Root mean squared error is called the "
   ]
  },
  {
   "cell_type": "code",
   "execution_count": null,
   "metadata": {},
   "outputs": [],
   "source": []
  },
  {
   "cell_type": "code",
   "execution_count": null,
   "metadata": {
    "colab": {
     "base_uri": "https://localhost:8080/"
    },
    "id": "sd122d8x-zXU",
    "outputId": "37f0c89f-329a-4a07-e408-861d202b4dc8"
   },
   "outputs": [],
   "source": [
    "# Calculate the L1 and L2 norms for a sample 3 in the training dataset\n",
    "dist_3_abs = (a_3-mean3).abs().mean()\n",
    "dist_3_sqr = ((a_3-mean3)**2).mean().sqrt()\n",
    "print(dist_3_abs, dist_3_sqr)\n",
    "\n",
    "# Calculate L1 and L2 norms with pytorch inbuilt loss functions\n",
    "F.l1_loss(a_3,mean3), F.mse_loss(a_3,mean3).sqrt()"
   ]
  },
  {
   "cell_type": "code",
   "execution_count": null,
   "metadata": {
    "colab": {
     "base_uri": "https://localhost:8080/"
    },
    "id": "jdg6zeWZ_Ybu",
    "outputId": "fcef097c-3bdd-4f09-bedb-37aac07f4df3"
   },
   "outputs": [],
   "source": [
    "# Calculate the L1 and L2 norms for a sample 7 in the training dataset\n",
    "dist_7_abs = (a_3-mean7).abs().mean()\n",
    "dist_7_sqr = ((a_3-mean7)**2).mean().sqrt()\n",
    "print(dist_7_abs, dist_7_sqr)\n",
    "\n",
    "# Calculate L1 and L2 norms with pytorch inbuilt loss functions\n",
    "F.l1_loss(a_3,mean7), F.mse_loss(a_3,mean7).sqrt()"
   ]
  },
  {
   "cell_type": "markdown",
   "metadata": {
    "id": "K1q788NLE_VG"
   },
   "source": [
    "### Validation data"
   ]
  },
  {
   "cell_type": "code",
   "execution_count": null,
   "metadata": {
    "colab": {
     "base_uri": "https://localhost:8080/"
    },
    "id": "xPGMfAGIFDuO",
    "outputId": "f64cfa4d-6410-4748-c647-da538f5fc408"
   },
   "outputs": [],
   "source": [
    "# Create valid 3s tensor\n",
    "valid_3_tens = torch.stack([tensor(Image.open(o)) for o in (path/'valid'/'3').ls()])\n",
    "valid_3_tens = valid_3_tens.float()/255\n",
    "\n",
    "# Create valid 7s tensor\n",
    "valid_7_tens = torch.stack([tensor(Image.open(o)) for o in (path/'valid'/'7').ls()])\n",
    "valid_7_tens = valid_7_tens.float()/255\n",
    "\n",
    "valid_3_tens.shape, valid_7_tens.shape"
   ]
  },
  {
   "cell_type": "code",
   "execution_count": null,
   "metadata": {
    "id": "ERlRWvD8rghz"
   },
   "outputs": [],
   "source": [
    "# Function to check the deviation to the average number\n",
    "def mnist_distance(a,b):\n",
    "    return (a-b).abs().mean((-1,-2))"
   ]
  },
  {
   "cell_type": "code",
   "execution_count": null,
   "metadata": {
    "colab": {
     "base_uri": "https://localhost:8080/"
    },
    "id": "9bPozCE5N7Tw",
    "outputId": "650c7def-38fb-42fb-9242-05e52b9666b2"
   },
   "outputs": [],
   "source": [
    "# Calculate the distance between a sample 3 and the average 3\n",
    "mnist_distance(a_3, mean3)"
   ]
  },
  {
   "cell_type": "code",
   "execution_count": null,
   "metadata": {
    "colab": {
     "base_uri": "https://localhost:8080/"
    },
    "id": "uePciy-kQebx",
    "outputId": "f70f5c16-ac33-48d4-e4ce-667e060475e5"
   },
   "outputs": [],
   "source": [
    "# Calculate the distance for all 3s in the dataset\n",
    "valid_3_dist = mnist_distance(valid_3_tens, mean3)\n",
    "valid_3_dist.shape, valid_3_dist"
   ]
  },
  {
   "cell_type": "code",
   "execution_count": null,
   "metadata": {
    "id": "HoemA5pFRzXS"
   },
   "outputs": [],
   "source": [
    "# Create a function to determine whether it is a 3. If the distance between the\n",
    "# image and the mean3 is less than the distance between the image and the mean\n",
    "# 7 then it is classified as a 3\n",
    "def is_3(x): return mnist_distance(x,mean3) < mnist_distance(x,mean7)"
   ]
  },
  {
   "cell_type": "code",
   "execution_count": null,
   "metadata": {
    "colab": {
     "base_uri": "https://localhost:8080/"
    },
    "id": "YGUQ8a6-SNYv",
    "outputId": "edf4da86-6ad3-46a2-ecce-81c7d2880954"
   },
   "outputs": [],
   "source": [
    "# Calculate the accuracy of the function\n",
    "accuracy_3s = is_3(valid_3_tens).float().mean()\n",
    "accuracy_7s = (1 - is_3(valid_7_tens).float()).mean()\n",
    "accuracy_3s, accuracy_7s, (accuracy_3s + accuracy_7s)/2"
   ]
  },
  {
   "cell_type": "markdown",
   "metadata": {
    "id": "B-oDIy8Pxzed"
   },
   "source": [
    "# SGD"
   ]
  },
  {
   "cell_type": "markdown",
   "metadata": {
    "id": "OkOteah8xzed"
   },
   "source": [
    "We will be calculating the SGD for a simple function"
   ]
  },
  {
   "cell_type": "code",
   "execution_count": null,
   "metadata": {
    "id": "QWfRtQ01xzee"
   },
   "outputs": [],
   "source": [
    "def f(x): return x**2"
   ]
  },
  {
   "cell_type": "code",
   "execution_count": null,
   "metadata": {
    "colab": {
     "base_uri": "https://localhost:8080/",
     "height": 285
    },
    "id": "dZetwaAqxzee",
    "outputId": "bf8e8b88-e743-4f87-feab-2d3c09da3aae"
   },
   "outputs": [],
   "source": [
    "plot_function(f, 'x','x**2')"
   ]
  },
  {
   "cell_type": "markdown",
   "metadata": {
    "id": "DQIMM8QjzD20"
   },
   "source": [
    "We will now calculate the gradients"
   ]
  },
  {
   "cell_type": "code",
   "execution_count": null,
   "metadata": {
    "id": "ztDYb3GZxzee"
   },
   "outputs": [],
   "source": [
    "# Create a tensor that tracks the required gradients\n",
    "xt = tensor(3.).requires_grad_()"
   ]
  },
  {
   "cell_type": "code",
   "execution_count": null,
   "metadata": {
    "colab": {
     "base_uri": "https://localhost:8080/"
    },
    "id": "vQ2o4uUazXkV",
    "outputId": "7ac5a985-a82c-4fc9-f91f-3e57676e9ece"
   },
   "outputs": [],
   "source": [
    "# Calculate the function with the given value\n",
    "yt = f(xt)\n",
    "yt"
   ]
  },
  {
   "cell_type": "code",
   "execution_count": null,
   "metadata": {
    "id": "FVdZ44wd3Y0u"
   },
   "outputs": [],
   "source": [
    "# Calculate the gradients \n",
    "yt.backward()"
   ]
  },
  {
   "cell_type": "code",
   "execution_count": null,
   "metadata": {
    "colab": {
     "base_uri": "https://localhost:8080/"
    },
    "id": "dsv5rPCK3qZ1",
    "outputId": "2f76873b-a894-4ee3-9b36-d0c6990dffe4"
   },
   "outputs": [],
   "source": [
    "# Review the gradients\n",
    "xt.grad"
   ]
  },
  {
   "cell_type": "markdown",
   "metadata": {
    "id": "Bd3-PUG_381y"
   },
   "source": [
    "Calculate gradients with a vector"
   ]
  },
  {
   "cell_type": "code",
   "execution_count": null,
   "metadata": {
    "colab": {
     "base_uri": "https://localhost:8080/"
    },
    "id": "GmkUBFAr38Az",
    "outputId": "3bb7fa56-6893-46cb-9b92-fbb5971e24e9"
   },
   "outputs": [],
   "source": [
    "# Create a tensor that tracks the required gradients\n",
    "xt = tensor([3., 4., 10.]).requires_grad_()\n",
    "xt"
   ]
  },
  {
   "cell_type": "code",
   "execution_count": null,
   "metadata": {
    "id": "b8jqsD2n4IEm"
   },
   "outputs": [],
   "source": [
    "# Modify the function to take in a vector and return a scalar\n",
    "def f(x): return (x**2).sum()"
   ]
  },
  {
   "cell_type": "code",
   "execution_count": null,
   "metadata": {
    "colab": {
     "base_uri": "https://localhost:8080/"
    },
    "id": "Xdz_JT9Z4UzL",
    "outputId": "143f4362-c0b2-4354-8985-3e0656c13fb0"
   },
   "outputs": [],
   "source": [
    "# Calculate the function given the vector\n",
    "yt = f(xt)\n",
    "yt"
   ]
  },
  {
   "cell_type": "code",
   "execution_count": null,
   "metadata": {
    "colab": {
     "base_uri": "https://localhost:8080/"
    },
    "id": "a1dIeocg4kF_",
    "outputId": "77be8a09-c2df-4049-e0ed-f8077a344ff9"
   },
   "outputs": [],
   "source": [
    "# Calculate the gradients\n",
    "yt.backward()\n",
    "xt.grad"
   ]
  },
  {
   "cell_type": "markdown",
   "metadata": {
    "id": "Se_nSox14rr4"
   },
   "source": [
    "The gradients calculated are the equivalent of the derivative of $x^2$ where $x=$ `tensor([3.,4.,10.])`"
   ]
  },
  {
   "cell_type": "markdown",
   "metadata": {
    "id": "9kHOsKm28xMk"
   },
   "source": [
    "## End-to-end example"
   ]
  },
  {
   "cell_type": "code",
   "execution_count": null,
   "metadata": {
    "colab": {
     "base_uri": "https://localhost:8080/"
    },
    "id": "ViRRjnha8Hf5",
    "outputId": "c43f46e3-b7d2-4174-f14d-918c48eeb378"
   },
   "outputs": [],
   "source": [
    "time = torch.arange(0,20).float(); time"
   ]
  },
  {
   "cell_type": "code",
   "execution_count": null,
   "metadata": {
    "colab": {
     "base_uri": "https://localhost:8080/",
     "height": 268
    },
    "id": "CxPcsev283cr",
    "outputId": "5d0cd293-7c33-47d3-ea0f-4508beffb282"
   },
   "outputs": [],
   "source": [
    "speed = torch.randn(20)*3 + 0.75*(time-9.5)**2 + 1\n",
    "plt.scatter(time,speed);"
   ]
  },
  {
   "cell_type": "markdown",
   "metadata": {
    "id": "4DiZrgEp90IK"
   },
   "source": [
    "The function define below allows us to determine both the output from the input and also the type of quadratic equation from the parameters."
   ]
  },
  {
   "cell_type": "code",
   "execution_count": null,
   "metadata": {
    "id": "2eEr-ySH9TfJ"
   },
   "outputs": [],
   "source": [
    "# Define a function that allows us to calculate parameters and input\n",
    "def f(t, params):\n",
    "    a,b,c = params\n",
    "    return a*(t**2)+(b*t)+c"
   ]
  },
  {
   "cell_type": "markdown",
   "metadata": {
    "id": "gTqEAL7w-4B5"
   },
   "source": [
    "We define a loss function that will return a value based on the prediction and target where lower values correspond to better predictions."
   ]
  },
  {
   "cell_type": "code",
   "execution_count": null,
   "metadata": {
    "id": "1pu0nma2-t2u"
   },
   "outputs": [],
   "source": [
    "# Define the loss function\n",
    "def mse(preds, targets): return ((preds-targets)**2).mean().sqrt()"
   ]
  },
  {
   "cell_type": "markdown",
   "metadata": {
    "id": "34c3j7-q9qok"
   },
   "source": [
    "## Seven-step SGD process"
   ]
  },
  {
   "cell_type": "code",
   "execution_count": null,
   "metadata": {
    "id": "YwdqhhSC9pRV"
   },
   "outputs": [],
   "source": [
    "# 1. Initialise the weights\n",
    "params = torch.randn(3).requires_grad_()"
   ]
  },
  {
   "cell_type": "code",
   "execution_count": null,
   "metadata": {
    "id": "WW4rSKDa-bhJ"
   },
   "outputs": [],
   "source": [
    "# 2. Calculate the predictions\n",
    "preds = f(time, params)"
   ]
  },
  {
   "cell_type": "code",
   "execution_count": null,
   "metadata": {
    "id": "FVQ6R2hc-lyj"
   },
   "outputs": [],
   "source": [
    "# Create a function to see how close our predictions are to our targets\n",
    "def show_preds(preds, ax = None):\n",
    "    if ax is None: ax=plt.subplots()[1]\n",
    "    ax.scatter(time, speed)\n",
    "    ax.scatter(time, to_np(preds), color='red')\n",
    "    ax.set_ylim(-300,100)"
   ]
  },
  {
   "cell_type": "code",
   "execution_count": null,
   "metadata": {
    "colab": {
     "base_uri": "https://localhost:8080/",
     "height": 273
    },
    "id": "G7r83jvv_C4A",
    "outputId": "b5806be4-95f8-4b97-eb9f-882d778dbed5"
   },
   "outputs": [],
   "source": [
    "show_preds(preds)"
   ]
  },
  {
   "cell_type": "code",
   "execution_count": null,
   "metadata": {
    "colab": {
     "base_uri": "https://localhost:8080/"
    },
    "id": "A3P7xQbY_KZq",
    "outputId": "6719132b-2de4-483c-ea67-0ab16568d266"
   },
   "outputs": [],
   "source": [
    "# 3. Calculate the loss\n",
    "loss = mse(preds, speed)\n",
    "loss"
   ]
  },
  {
   "cell_type": "code",
   "execution_count": null,
   "metadata": {
    "colab": {
     "base_uri": "https://localhost:8080/"
    },
    "id": "pJaXIZAX_la9",
    "outputId": "6ae02385-848c-470d-8a27-780961c6edf9"
   },
   "outputs": [],
   "source": [
    "# 4. Calculate the gradients\n",
    "loss.backward()\n",
    "params.grad"
   ]
  },
  {
   "cell_type": "markdown",
   "metadata": {
    "id": "X081y5hRAlaU"
   },
   "source": [
    "These gradients can then be used to improve the parameters."
   ]
  },
  {
   "cell_type": "code",
   "execution_count": null,
   "metadata": {
    "colab": {
     "base_uri": "https://localhost:8080/"
    },
    "id": "RbjLySXu_97m",
    "outputId": "608901ea-e3b2-44eb-83ed-808049bbe876"
   },
   "outputs": [],
   "source": [
    "params"
   ]
  },
  {
   "cell_type": "code",
   "execution_count": null,
   "metadata": {
    "id": "wbt9iluyAjzJ"
   },
   "outputs": [],
   "source": [
    "# 5. Step the weights\n",
    "lr = 1e-5 # LR to update grads\n",
    "params.data -= lr * params.grad.data # Update params with new weights\n",
    "params.grad = None # Reset gradients"
   ]
  },
  {
   "cell_type": "code",
   "execution_count": null,
   "metadata": {
    "colab": {
     "base_uri": "https://localhost:8080/",
     "height": 291
    },
    "id": "G4kEmav-Bbn0",
    "outputId": "ff7bee4b-0d7e-4ee0-fc23-7a55c8ab743e"
   },
   "outputs": [],
   "source": [
    "# Check if the prediction has improved\n",
    "preds = f(time, params)\n",
    "print(mse(preds,speed))\n",
    "show_preds(preds)"
   ]
  },
  {
   "cell_type": "code",
   "execution_count": null,
   "metadata": {
    "id": "lP-Vz_PHDDmC"
   },
   "outputs": [],
   "source": [
    "# Create a function to step the weights\n",
    "def apply_step(params,lr=1e-3,prn=True):\n",
    "    # Calculate predictions\n",
    "    preds = f(time, params)\n",
    "    # Calculate loss\n",
    "    loss = mse(preds, speed)\n",
    "    # Backpropagate loss\n",
    "    loss.backward()\n",
    "    # Update parameters\n",
    "    params.data -= lr*params.grad.data\n",
    "    # Reset gradients\n",
    "    params.grad = None\n",
    "    if prn: print(loss.item())\n",
    "    return preds\n"
   ]
  },
  {
   "cell_type": "code",
   "execution_count": null,
   "metadata": {
    "colab": {
     "base_uri": "https://localhost:8080/"
    },
    "id": "daEfeKcUDxeI",
    "outputId": "576d2cfc-afc1-4c88-b869-8bfe5bec592b"
   },
   "outputs": [],
   "source": [
    "# 6. Repeat the process\n",
    "for i in range(10): apply_step(params)"
   ]
  },
  {
   "cell_type": "code",
   "execution_count": null,
   "metadata": {
    "colab": {
     "base_uri": "https://localhost:8080/",
     "height": 221
    },
    "id": "Qlf5stkPF2sd",
    "outputId": "affde08c-9bba-47ff-eed4-f3b77f8bb988"
   },
   "outputs": [],
   "source": [
    "# Plotting the functions\n",
    "_, axs = plt.subplots(1,4,figsize=(12,3))\n",
    "for ax in axs: show_preds(apply_step(params,prn=False),ax)\n",
    "plt.tight_layout()"
   ]
  },
  {
   "cell_type": "markdown",
   "metadata": {
    "id": "kyg4c0gKHi8L"
   },
   "source": [
    "# MNIST loss function"
   ]
  },
  {
   "cell_type": "code",
   "execution_count": null,
   "metadata": {
    "colab": {
     "base_uri": "https://localhost:8080/"
    },
    "id": "q57D8i5yHkuQ",
    "outputId": "db60162c-06ba-4fd1-949b-c1d7cd07620a"
   },
   "outputs": [],
   "source": [
    "# Change the concatenated train tensors from a list of matrices (rank-3 tensor) \n",
    "# to a list of vectors (rank-2 tensor)\n",
    "train_x = torch.cat([stacked_threes, stacked_sevens]).view(-1,28*28)\n",
    "train_x.shape"
   ]
  },
  {
   "cell_type": "code",
   "execution_count": null,
   "metadata": {
    "colab": {
     "base_uri": "https://localhost:8080/"
    },
    "id": "c5Wmc_pMIPW1",
    "outputId": "6aa32fcf-017e-4181-c0c4-864b76552772"
   },
   "outputs": [],
   "source": [
    "# Create a tensor of train labels\n",
    "train_y = tensor([1]*len(threes)+[0]*len(sevens)).unsqueeze(1)\n",
    "train_x.shape, train_y.shape"
   ]
  },
  {
   "cell_type": "code",
   "execution_count": null,
   "metadata": {
    "id": "sIwjZVhvJOLq"
   },
   "outputs": [],
   "source": [
    "# Zip train_x and train_y to create an object in the right shape\n",
    "# for pytorch Dataset object\n",
    "dset = list(zip(train_x, train_y))"
   ]
  },
  {
   "cell_type": "code",
   "execution_count": null,
   "metadata": {
    "id": "wTr_4BmYJ9K7"
   },
   "outputs": [],
   "source": [
    "# Create validation datasets\n",
    "valid_x = torch.cat([valid_3_tens, valid_7_tens]).view(-1,28*28)\n",
    "valid_y = tensor([1]*len(valid_3_tens)+[0]*len(valid_7_tens)).unsqueeze(1)\n",
    "valid_dset = list(zip(valid_x,valid_y))"
   ]
  },
  {
   "cell_type": "code",
   "execution_count": null,
   "metadata": {
    "id": "294JI1Va1CeP"
   },
   "outputs": [],
   "source": [
    "# 1. Initialising the weights\n",
    "def init_params(size, std=1.0): return (torch.randn(size)*std).requires_grad_()"
   ]
  },
  {
   "cell_type": "code",
   "execution_count": null,
   "metadata": {
    "colab": {
     "base_uri": "https://localhost:8080/"
    },
    "id": "-iRdUbfA1YJb",
    "outputId": "01e41809-1fa3-47c3-bafb-1f9c06dc6149"
   },
   "outputs": [],
   "source": [
    "# Initialise the weights\n",
    "weights = init_params((28*28,1))\n",
    "weights.shape"
   ]
  },
  {
   "cell_type": "markdown",
   "metadata": {
    "id": "P7uhVb2-2KR5"
   },
   "source": [
    "The weight will always equal 0 if the pixel is 0 when multiplying weight x pixels. We will add a bias as per the formula of a line: $y=mx+b$"
   ]
  },
  {
   "cell_type": "code",
   "execution_count": null,
   "metadata": {
    "id": "qblPOnmY1huf"
   },
   "outputs": [],
   "source": [
    "# Initialise the bias\n",
    "bias = init_params(1)"
   ]
  },
  {
   "cell_type": "code",
   "execution_count": null,
   "metadata": {
    "colab": {
     "base_uri": "https://localhost:8080/"
    },
    "id": "zZp1i2RT2grL",
    "outputId": "5d257ef8-9515-4687-f189-d9355c7f1a70"
   },
   "outputs": [],
   "source": [
    "# Prediction for a single image\n",
    "(train_x[0]*weights.T).sum() + bias"
   ]
  },
  {
   "cell_type": "code",
   "execution_count": null,
   "metadata": {
    "id": "y6IU-pAw8PGH"
   },
   "outputs": [],
   "source": [
    "# Create a function for matrix multiplication\n",
    "def linear1 (xb): return xb@weights + bias"
   ]
  },
  {
   "cell_type": "code",
   "execution_count": null,
   "metadata": {
    "colab": {
     "base_uri": "https://localhost:8080/"
    },
    "id": "2AV5hyQz8tSW",
    "outputId": "f847eb72-2613-4006-a3a2-94ecfaf8262c"
   },
   "outputs": [],
   "source": [
    "# Predictions for all images\n",
    "preds = linear1(train_x)\n",
    "preds.shape, preds[0]"
   ]
  },
  {
   "cell_type": "code",
   "execution_count": null,
   "metadata": {
    "colab": {
     "base_uri": "https://localhost:8080/"
    },
    "id": "Ef-_QAsK-F7l",
    "outputId": "aa0b227f-9455-4bfd-d072-af07aae4f8a8"
   },
   "outputs": [],
   "source": [
    "# Check predicted items\n",
    "corrects = (preds<0.0).float() == train_y\n",
    "corrects.float().mean().item()"
   ]
  },
  {
   "cell_type": "markdown",
   "metadata": {
    "id": "6rPFTRhvhgT6"
   },
   "source": [
    "We need to define a loss function that can measure slight changes in the predictions. \n",
    "\n",
    "`def mnist_loss(preds, targs): return torch.where(targs==1, 1-preds, preds).mean()`\n",
    "\n",
    "This function will give us a smaller number the closer the prediction is to the correct value. However, it assumes that predictions will be between 0 and 1. \n",
    "\n",
    "We use a sigmoid function to achieve this."
   ]
  },
  {
   "cell_type": "code",
   "execution_count": null,
   "metadata": {
    "colab": {
     "base_uri": "https://localhost:8080/",
     "height": 285
    },
    "id": "G-qo0Zp_is2Y",
    "outputId": "69aa7ca6-2790-4df8-8235-ee4408763150"
   },
   "outputs": [],
   "source": [
    "plot_function(torch.sigmoid, title='sigmoid', min=-4, max=4)"
   ]
  },
  {
   "cell_type": "code",
   "execution_count": null,
   "metadata": {
    "id": "3RyDlRO2hgmu"
   },
   "outputs": [],
   "source": [
    "# Loss function\n",
    "def mnist_loss(preds, targs):\n",
    "    preds = preds.sigmoid()\n",
    "    return torch.where(targs==1, 1-preds, preds).mean()"
   ]
  },
  {
   "cell_type": "markdown",
   "metadata": {
    "id": "eRx9ewA21w74"
   },
   "source": [
    "Calculating the loss over the entire dataset is inefficient while calculating it over a single item is unstable. We use mini-batches to achieve this.\n",
    "\n",
    "The PyTorch `DataLoader` class provides all the functionality required to shuffle and batch the data."
   ]
  },
  {
   "cell_type": "code",
   "execution_count": null,
   "metadata": {
    "colab": {
     "base_uri": "https://localhost:8080/"
    },
    "id": "aXrwIgn12W44",
    "outputId": "d8209635-f3c7-42c6-c3c5-8a38beda7157"
   },
   "outputs": [],
   "source": [
    "# DataLoader functionality example\n",
    "coll = range(15)\n",
    "dl = DataLoader(coll, batch_size=4, shuffle=True)\n",
    "L(dl)"
   ]
  },
  {
   "cell_type": "markdown",
   "metadata": {
    "id": "1p5U_lp93TZM"
   },
   "source": [
    "The `DataLoader` class can handle the tuples of inputs and targets for training - called a dataset."
   ]
  },
  {
   "cell_type": "code",
   "execution_count": null,
   "metadata": {
    "colab": {
     "base_uri": "https://localhost:8080/"
    },
    "id": "HMTraDIt3bKk",
    "outputId": "1d50e1fb-0fcd-4f06-93a0-160d1e895c95"
   },
   "outputs": [],
   "source": [
    "# DataLoader dataset example\n",
    "ds = L(enumerate(string.ascii_lowercase))\n",
    "ds"
   ]
  },
  {
   "cell_type": "code",
   "execution_count": null,
   "metadata": {
    "colab": {
     "base_uri": "https://localhost:8080/"
    },
    "id": "AXSs0DjD3rvD",
    "outputId": "f8402ac3-fce3-4121-ff2c-afebfda16ad0"
   },
   "outputs": [],
   "source": [
    "dl = DataLoader(ds,batch_size=6,shuffle=True)\n",
    "list(dl)"
   ]
  },
  {
   "cell_type": "markdown",
   "metadata": {
    "id": "Q4Nn8Yo84m2Q"
   },
   "source": [
    "# Full implementation"
   ]
  },
  {
   "cell_type": "markdown",
   "metadata": {
    "id": "HboDWyJNDCGs"
   },
   "source": [
    "After a full implementation the code will look like:\n",
    "\n",
    "```python\n",
    "for x,y in dl:\n",
    "    pred = model(x)\n",
    "    loss = loss_func(pred,y)\n",
    "    loss.backward()\n",
    "    params -= params.grad*lr\n",
    "```"
   ]
  },
  {
   "cell_type": "code",
   "execution_count": null,
   "metadata": {
    "id": "5I1u1s464s_f"
   },
   "outputs": [],
   "source": [
    "# Initialise the weights\n",
    "weights = init_params((28*28,1))\n",
    "bias = init_params(1)"
   ]
  },
  {
   "cell_type": "code",
   "execution_count": null,
   "metadata": {
    "colab": {
     "base_uri": "https://localhost:8080/"
    },
    "id": "nRw3T7-B4_Ia",
    "outputId": "f835496c-e115-4073-86f7-c0c7d5ec198b"
   },
   "outputs": [],
   "source": [
    "## Creating the data loaders\n",
    "\n",
    "# Training data loader\n",
    "dl = DataLoader(dset, batch_size=256)\n",
    "xb, yb = first(dl)\n",
    "print(xb.shape, yb.shape)\n",
    "\n",
    "# Validation data loader\n",
    "valid_dl = DataLoader(valid_dset, batch_size=256)"
   ]
  },
  {
   "cell_type": "code",
   "execution_count": null,
   "metadata": {
    "colab": {
     "base_uri": "https://localhost:8080/"
    },
    "id": "X7GygkqZPEtx",
    "outputId": "214601b3-2a2b-41ca-e29a-805598282661"
   },
   "outputs": [],
   "source": [
    "# Create a batch for testing\n",
    "batch = train_x[:4]\n",
    "batch.shape"
   ]
  },
  {
   "cell_type": "code",
   "execution_count": null,
   "metadata": {
    "colab": {
     "base_uri": "https://localhost:8080/"
    },
    "id": "wLL870q1PW3k",
    "outputId": "53a5b507-0549-4290-d5b6-b244c16c63ab"
   },
   "outputs": [],
   "source": [
    "# Predict the result\n",
    "preds = linear1(batch)\n",
    "preds"
   ]
  },
  {
   "cell_type": "code",
   "execution_count": null,
   "metadata": {
    "colab": {
     "base_uri": "https://localhost:8080/"
    },
    "id": "ak6Ek4l1PqMt",
    "outputId": "5e88634e-43ec-4b55-bd61-7385c6161e1f"
   },
   "outputs": [],
   "source": [
    "# Calculate the loss\n",
    "loss = mnist_loss(preds,train_y[:4])\n",
    "loss"
   ]
  },
  {
   "cell_type": "code",
   "execution_count": null,
   "metadata": {
    "colab": {
     "base_uri": "https://localhost:8080/"
    },
    "id": "OqTx515VP8-7",
    "outputId": "640b9d3c-d513-4b70-9164-60ae6c53feda"
   },
   "outputs": [],
   "source": [
    "# Calculate the gradients\n",
    "loss.backward()\n",
    "weights.grad.shape, weights.grad.mean(),bias.grad"
   ]
  },
  {
   "cell_type": "markdown",
   "metadata": {
    "id": "7iPPF5njENUA"
   },
   "source": [
    "We create a function from the testing."
   ]
  },
  {
   "cell_type": "code",
   "execution_count": null,
   "metadata": {
    "id": "SwjzQY6pSUF0"
   },
   "outputs": [],
   "source": [
    "# Create a function to calculate the gradient\n",
    "def calc_grad(xb, yb, model):\n",
    "    preds = model(xb)\n",
    "    loss = mnist_loss(preds, yb)\n",
    "    loss.backward()"
   ]
  },
  {
   "cell_type": "code",
   "execution_count": null,
   "metadata": {
    "colab": {
     "base_uri": "https://localhost:8080/"
    },
    "id": "wxvoc-3tSkNc",
    "outputId": "38ce3df7-7673-4207-fd2f-1171da85a2c4"
   },
   "outputs": [],
   "source": [
    "# Testing the function\n",
    "calc_grad(batch, train_y[:4], linear1)\n",
    "weights.grad.mean(), bias.grad"
   ]
  },
  {
   "cell_type": "markdown",
   "metadata": {
    "id": "952lwun4TKPD"
   },
   "source": [
    "If we run the test function twice, the gradients will have changed because the model will add the gradients of the loss to any gradients that are currently stored. Gradients need to be zeroed.\n",
    "\n"
   ]
  },
  {
   "cell_type": "code",
   "execution_count": null,
   "metadata": {
    "id": "uIcONI64UExq"
   },
   "outputs": [],
   "source": [
    "weights.grad.zero_()\n",
    "bias.grad.zero_();"
   ]
  },
  {
   "cell_type": "markdown",
   "metadata": {
    "id": "DjAEE_pEV07A"
   },
   "source": [
    "We need to update the weights and biases based on the gradient and learning rate and make sure that we do not take the gradient of this step.\n",
    "\n",
    "If we assign the values to the data attribute of the parameter, PyTorch will not calculate any gradients."
   ]
  },
  {
   "cell_type": "code",
   "execution_count": null,
   "metadata": {
    "id": "oMT-ZEBXVH6T"
   },
   "outputs": [],
   "source": [
    "# Update weights and biases based on gradients and learning rate\n",
    "def train_epoch(model, lr, params):\n",
    "    for xb, yb in dl:\n",
    "        calc_grad(xb, yb, model)\n",
    "        for p in params:\n",
    "            p.data -= lr*p.grad\n",
    "            p.grad.zero_()"
   ]
  },
  {
   "cell_type": "markdown",
   "metadata": {
    "id": "zKJGziWd_NMV"
   },
   "source": [
    "We will also check our model by looking at the accuracy on the validation set."
   ]
  },
  {
   "cell_type": "code",
   "execution_count": null,
   "metadata": {
    "colab": {
     "base_uri": "https://localhost:8080/"
    },
    "id": "EM4LTows_YA9",
    "outputId": "8392cef2-d6a8-4d01-82e8-ed0b61bee759"
   },
   "outputs": [],
   "source": [
    "# Example accuracy calculation\n",
    "(preds>0.5).float() == train_y[:4]"
   ]
  },
  {
   "cell_type": "markdown",
   "metadata": {
    "id": "TrcdN8EYFlqn"
   },
   "source": [
    "This is then used to create our batch accuracy function. We have also passed our predictions through a sigmoid function to make sure they are between 0 and 1."
   ]
  },
  {
   "cell_type": "code",
   "execution_count": null,
   "metadata": {
    "id": "vDzErSdf_iYD"
   },
   "outputs": [],
   "source": [
    "# Accuracy calculation function\n",
    "def batch_accuracy(xb, yb):\n",
    "    preds = xb.sigmoid()\n",
    "    correct = (preds>0.5).float() == yb\n",
    "    return correct.float().mean()"
   ]
  },
  {
   "cell_type": "code",
   "execution_count": null,
   "metadata": {
    "colab": {
     "base_uri": "https://localhost:8080/"
    },
    "id": "PpP0dKB0_xmu",
    "outputId": "da2b0042-c414-404b-f150-7c5d5187193d"
   },
   "outputs": [],
   "source": [
    "# Checking our accuracy\n",
    "batch_accuracy(linear1(batch),train_y[:4])"
   ]
  },
  {
   "cell_type": "markdown",
   "metadata": {
    "id": "1enaGe_J_7GR"
   },
   "source": [
    "We then put the batches together to validate the epoch."
   ]
  },
  {
   "cell_type": "code",
   "execution_count": null,
   "metadata": {
    "id": "bGqa1bUd_826"
   },
   "outputs": [],
   "source": [
    "# Validating epoch\n",
    "def validate_epoch(model):\n",
    "    accs = [batch_accuracy(model(xb),yb) for xb, yb in valid_dl]\n",
    "    return round(torch.stack(accs).mean().item(),4)"
   ]
  },
  {
   "cell_type": "code",
   "execution_count": null,
   "metadata": {
    "colab": {
     "base_uri": "https://localhost:8080/"
    },
    "id": "TJLchJxhARid",
    "outputId": "5fa58e29-a4dd-4f49-da90-48c8537ad5aa"
   },
   "outputs": [],
   "source": [
    "# Checking epoch accuracy\n",
    "validate_epoch(linear1)"
   ]
  },
  {
   "cell_type": "markdown",
   "metadata": {
    "id": "3fD0n79GAXw4"
   },
   "source": [
    "This is the starting point. Now we will be training for one epoch and check whether the accuracy improves."
   ]
  },
  {
   "cell_type": "code",
   "execution_count": null,
   "metadata": {
    "colab": {
     "base_uri": "https://localhost:8080/"
    },
    "id": "p0MLRsVaAcdJ",
    "outputId": "c2bb4137-1907-4dc5-b4ad-e7cfafcc12e1"
   },
   "outputs": [],
   "source": [
    "lr = 1.\n",
    "params = weights, bias\n",
    "train_epoch(linear1, lr, params)\n",
    "validate_epoch(linear1)"
   ]
  },
  {
   "cell_type": "markdown",
   "metadata": {
    "id": "n2OkgMzyBNWr"
   },
   "source": [
    "Now we train more epochs to check if the accuracy improves"
   ]
  },
  {
   "cell_type": "code",
   "execution_count": null,
   "metadata": {
    "colab": {
     "base_uri": "https://localhost:8080/"
    },
    "id": "Y0zb9cnOBLss",
    "outputId": "6ceb92c6-08bb-4b0f-fd0b-f6625a591aed"
   },
   "outputs": [],
   "source": [
    "for i in range(20):\n",
    "    train_epoch(linear1, lr, params)\n",
    "    print(validate_epoch(linear1),end=' ')"
   ]
  },
  {
   "cell_type": "markdown",
   "metadata": {
    "id": "DKw19krfG5XR"
   },
   "source": [
    "## Creating an optimiser"
   ]
  },
  {
   "cell_type": "markdown",
   "metadata": {
    "id": "9Ijab-BbIBg6"
   },
   "source": [
    "The SGD step in Pytorch is called an optimiser. We will be using PyTorch's inbuilt modules.\n",
    "\n",
    "`nn.Linear` will replace our `init_params` and `linear` functions.\n",
    "\n",
    "```python\n",
    "def init_params(size, std=1.0): \n",
    "    return (torch.randn(size)*std).requires_grad_()\n",
    "\n",
    "def linear1 (xb): \n",
    "    return xb@weights + bias\n",
    "```"
   ]
  },
  {
   "cell_type": "code",
   "execution_count": null,
   "metadata": {
    "id": "RMR-aWyJHCUt"
   },
   "outputs": [],
   "source": [
    "linear_model = nn.Linear(28*28,1)"
   ]
  },
  {
   "cell_type": "markdown",
   "metadata": {
    "id": "IV2p5P1431Mc"
   },
   "source": [
    "We can review the parameters of the `nn.linear` PyTorch module by accessing it through `.paramters()`"
   ]
  },
  {
   "cell_type": "code",
   "execution_count": null,
   "metadata": {
    "colab": {
     "base_uri": "https://localhost:8080/"
    },
    "id": "MAqxWmY_38Ru",
    "outputId": "92fec2f5-67bc-4c8e-c7b6-3fe81f23589f"
   },
   "outputs": [],
   "source": [
    "w,b = linear_model.parameters()\n",
    "w.shape, b.shape"
   ]
  },
  {
   "cell_type": "markdown",
   "metadata": {
    "id": "f1cuVSd94XZB"
   },
   "source": [
    "We now create a basic optimiser."
   ]
  },
  {
   "cell_type": "code",
   "execution_count": null,
   "metadata": {
    "id": "JpMW6brj4pcQ"
   },
   "outputs": [],
   "source": [
    "class BasicOptim:\n",
    "    def __init__(self, params, lr): self.params, self.lr = list(params), lr\n",
    "\n",
    "    def step(self, *args, **kwargs):\n",
    "        for p in self.params: p.data -= p.grad.data * self.lr\n",
    "\n",
    "    def zero_grad(self, *args, **kwargs):\n",
    "        for p in self.params: p.grad = None"
   ]
  },
  {
   "cell_type": "code",
   "execution_count": null,
   "metadata": {
    "id": "K_UzBjEF5P4X"
   },
   "outputs": [],
   "source": [
    "# Instantiate the optimiser\n",
    "opt = BasicOptim(linear_model.parameters(), lr)"
   ]
  },
  {
   "cell_type": "markdown",
   "metadata": {
    "id": "jVU5g4wi5Qu-"
   },
   "source": [
    "This will now simplify our epoch training loop. \n",
    "Original training loop:\n",
    "```python\n",
    "def train_epoch(model, lr, params):\n",
    "    for xb, yb in dl:\n",
    "        calc_grad(xb, yb, model)\n",
    "        for p in params:\n",
    "            p.data -= lr*p.grad\n",
    "            p.grad.zero_()\n",
    "```"
   ]
  },
  {
   "cell_type": "code",
   "execution_count": null,
   "metadata": {
    "id": "6S0UbidY5fp0"
   },
   "outputs": [],
   "source": [
    "# Train epoch: calculate gradients, update weights, and reset gradients.\n",
    "def train_epoch(model):\n",
    "    for xb, yb in dl:\n",
    "        calc_grad(xb, yb, model)\n",
    "        opt.step()\n",
    "        opt.zero_grad()"
   ]
  },
  {
   "cell_type": "code",
   "execution_count": null,
   "metadata": {
    "colab": {
     "base_uri": "https://localhost:8080/"
    },
    "id": "Dv_buzzf5_y2",
    "outputId": "9f3746da-451b-43d1-ed02-7f592a60d27e"
   },
   "outputs": [],
   "source": [
    "# Validate training\n",
    "validate_epoch(linear_model)"
   ]
  },
  {
   "cell_type": "code",
   "execution_count": null,
   "metadata": {
    "id": "SQDLdzlj68OX"
   },
   "outputs": [],
   "source": [
    "# Model training loop\n",
    "def train_model(model, epochs):\n",
    "    for i in range(epochs):\n",
    "        train_epoch(model)\n",
    "        print(validate_epoch(model),end=' ')"
   ]
  },
  {
   "cell_type": "code",
   "execution_count": null,
   "metadata": {
    "colab": {
     "base_uri": "https://localhost:8080/"
    },
    "id": "nhJUdbQU7Nr1",
    "outputId": "2c44c54d-7f10-440b-94c7-2c0ff09578c1"
   },
   "outputs": [],
   "source": [
    "# Train model with new optimiser\n",
    "train_model(linear_model, 20)"
   ]
  },
  {
   "cell_type": "markdown",
   "metadata": {
    "id": "Pil0BZxc7Zl4"
   },
   "source": [
    "The fastai library already provides an SGD class."
   ]
  },
  {
   "cell_type": "code",
   "execution_count": null,
   "metadata": {
    "colab": {
     "base_uri": "https://localhost:8080/"
    },
    "id": "9Z7OWe_p7fcN",
    "outputId": "728fec67-3d3b-4da1-a145-69878da5040c"
   },
   "outputs": [],
   "source": [
    "linear_model = nn.Linear(28*28,1)\n",
    "opt = SGD(linear_model.parameters(), lr)\n",
    "train_model(linear_model,20)"
   ]
  },
  {
   "cell_type": "markdown",
   "metadata": {
    "id": "3Oam3_4J8dp4"
   },
   "source": [
    "The fastai library also provides training model code that would replace `train_model`. The learner needs:\n",
    "- Dataloaders\n",
    "- Model\n",
    "- Optimisation function\n",
    "- Loss function\n",
    "- Metrics"
   ]
  },
  {
   "cell_type": "code",
   "execution_count": null,
   "metadata": {
    "id": "l2hZZL2_-h5j"
   },
   "outputs": [],
   "source": [
    "# Create dataloader\n",
    "dls = DataLoaders(dl, valid_dl)\n",
    "learn = Learner(dls, nn.Linear(28*28,1), opt_func=SGD, loss_func=mnist_loss,\n",
    "                metrics=batch_accuracy)"
   ]
  },
  {
   "cell_type": "code",
   "execution_count": null,
   "metadata": {
    "colab": {
     "base_uri": "https://localhost:8080/",
     "height": 363
    },
    "id": "KRGWbRAV-9lp",
    "outputId": "9b7d41e6-bf54-4c4c-e083-d608aae0e5e2"
   },
   "outputs": [],
   "source": [
    "# Fit (train)\n",
    "learn.fit(10, lr)"
   ]
  },
  {
   "cell_type": "markdown",
   "metadata": {
    "id": "UOacrYcC_K60"
   },
   "source": [
    "# Adding nonlinearity"
   ]
  },
  {
   "cell_type": "markdown",
   "metadata": {
    "id": "6XjDa9oS_o7E"
   },
   "source": [
    "To increase the number of tasks that we can complete we need to add a nonlinearity between the linear classifiers.\n",
    "\n",
    "The simple neural network below adds a nonlinearity between the two linear classifiers."
   ]
  },
  {
   "cell_type": "code",
   "execution_count": null,
   "metadata": {
    "id": "scANfcpuDxAC"
   },
   "outputs": [],
   "source": [
    "# Simple neural network\n",
    "def simple_net(xb):\n",
    "    res = xb@w1+b1\n",
    "    res = res.max(tensor(0.0))\n",
    "    res = res@w2+b2\n",
    "    return res"
   ]
  },
  {
   "cell_type": "code",
   "execution_count": null,
   "metadata": {
    "id": "0PvZ9mz9D9it"
   },
   "outputs": [],
   "source": [
    "# Initialise tensors\n",
    "w1 = init_params((28*28,30))\n",
    "b1 = init_params(30)\n",
    "w2 = init_params((30,1))\n",
    "b2 = init_params(1)"
   ]
  },
  {
   "cell_type": "markdown",
   "metadata": {
    "id": "vr4Vk1V8EdEw"
   },
   "source": [
    "`w1` has 30 output activations so `w2` must have 30 input activations to match."
   ]
  },
  {
   "cell_type": "markdown",
   "metadata": {
    "id": "b9d0A15vEt2V"
   },
   "source": [
    "The `res.max(tensor(0.0))` function is known as Rectified Linearu Unit (ReLU). This is available in PyTorch's functional module `nn.functional as F`"
   ]
  },
  {
   "cell_type": "code",
   "execution_count": null,
   "metadata": {
    "colab": {
     "base_uri": "https://localhost:8080/",
     "height": 268
    },
    "id": "i7c5vNQi_N6_",
    "outputId": "520334dc-344d-44dc-a309-6c5c82586a78"
   },
   "outputs": [],
   "source": [
    "plot_function(F.relu)"
   ]
  },
  {
   "cell_type": "markdown",
   "metadata": {
    "id": "btHOc21RFX3p"
   },
   "source": [
    "Nonlinearities are added to make sure that each linear layer can work on its own. If linear layers are set one after the other they can be simplified to a single layer. \n",
    "\n",
    "Nonlinearities are also known as activation functions.\n",
    "\n",
    "We can simplify the simple net with inbuilt PyTorch functions:\n",
    "```python\n",
    "# Simple neural network\n",
    "def simple_net(xb):\n",
    "    res = xb@w1+b1\n",
    "    res = res.max(tensor(0.0))\n",
    "    res = res@w2+b2\n",
    "    return res\n",
    "```"
   ]
  },
  {
   "cell_type": "code",
   "execution_count": null,
   "metadata": {
    "id": "TlY0E_ifFhcm"
   },
   "outputs": [],
   "source": [
    "# Simple neural network in PyTorch\n",
    "simple_net = nn.Sequential(\n",
    "    nn.Linear(28*28,30),\n",
    "    nn.ReLU(),\n",
    "    nn.Linear(30,1)\n",
    ")"
   ]
  },
  {
   "cell_type": "markdown",
   "metadata": {
    "id": "G-7BgBndIpbm"
   },
   "source": [
    "By using `nn.Sequential` we can get the parameters of all modules within it."
   ]
  },
  {
   "cell_type": "code",
   "execution_count": null,
   "metadata": {
    "colab": {
     "base_uri": "https://localhost:8080/",
     "height": 1000
    },
    "id": "OtYvYWkgOlw6",
    "outputId": "538c36e7-1ef9-4726-d817-32d693d193a6"
   },
   "outputs": [],
   "source": [
    "# Training using Learner\n",
    "learn = Learner(dls, simple_net, opt_func=SGD, loss_func=mnist_loss,\n",
    "                metrics=batch_accuracy)\n",
    "learn.fit(40, 0.1)"
   ]
  },
  {
   "cell_type": "markdown",
   "metadata": {
    "id": "LxzRlFnEO7Cm"
   },
   "source": [
    "The training process is recorded in `learner.recorder`. This gives us access to training metrics."
   ]
  },
  {
   "cell_type": "code",
   "execution_count": null,
   "metadata": {},
   "outputs": [],
   "source": [
    "fig, ax = plt.subplots(nrows=1, ncols=3, figsize=(15,5))\n",
    "itm = ['Learning Rate','Loss','Accuracy']\n",
    "for i in range(3):\n",
    "    ax[i].plot(L(learn.recorder.values).itemgot(i))\n",
    "    ax[i].set_title(itm[i])\n",
    "    ax[i].grid()\n",
    "    \n",
    "print(f'Final accuracy = {learn.recorder.values[-1][2]:.4f}')"
   ]
  },
  {
   "cell_type": "markdown",
   "metadata": {},
   "source": [
    "Using deeper models pefroms better than using shallower models with larger matrices. If we have deep models with small matrices, we are able to perform better using less memory than shallower models with large matrices.\n",
    "\n",
    "The following example uses an 18-layer-deep model fit with a single cycle."
   ]
  },
  {
   "cell_type": "code",
   "execution_count": null,
   "metadata": {},
   "outputs": [],
   "source": [
    "#dls = ImageDataLoaders.from_folder(path,num_workers=0)\n",
    "#learn = vision_learner(dls,resnet18,pretrained=False,loss_func=F.cross_entropy,metrics=accuracy)\n",
    "#learn.fit_one_cycle(1,0.1)"
   ]
  },
  {
   "cell_type": "markdown",
   "metadata": {},
   "source": [
    "# Further Research"
   ]
  },
  {
   "cell_type": "markdown",
   "metadata": {},
   "source": [
    "## Learner implementation\n",
    "\n",
    "Create your own implementation of Learner from scratch, based on the training loop shown in this chapter."
   ]
  },
  {
   "cell_type": "markdown",
   "metadata": {},
   "source": [
    "Learner components:\n",
    "- Dataloader\n",
    "- Model\n",
    "- Optimiser\n",
    "- Loss function\n",
    "- Metrics"
   ]
  },
  {
   "cell_type": "code",
   "execution_count": null,
   "metadata": {},
   "outputs": [],
   "source": [
    "# Accuracy calculation function\n",
    "def batch_accuracy1(xb, yb):\n",
    "    correct = (xb>0.5).float() == yb\n",
    "    return correct.float().mean()"
   ]
  },
  {
   "cell_type": "code",
   "execution_count": null,
   "metadata": {},
   "outputs": [],
   "source": [
    "class Lrner:\n",
    "    def __init__(self, dls, model, opt,loss_fn, metric):\n",
    "        self.dl_train = dls[0]\n",
    "        self.dl_valid = dls[1]\n",
    "        self.model = model\n",
    "        self.opt = opt(self.model.parameters(),lr=0.001)\n",
    "        self.loss = loss_fn\n",
    "        self.metric = metric\n",
    "        \n",
    "    def cal_grad(self, xb, yb):\n",
    "        preds = self.model(xb)\n",
    "        loss = self.loss(preds, yb)\n",
    "        loss.backward()\n",
    "    \n",
    "    def train_epoch(self):\n",
    "        for xb, yb in self.dl_train:\n",
    "            xb, yb = xb.float(), yb.float()\n",
    "            self.cal_grad(xb, yb)\n",
    "            self.opt.step()\n",
    "            self.opt.zero_grad()\n",
    "\n",
    "    def validate_epoch(self):\n",
    "        accs = [self.metric(self.model(xb),yb) for xb, yb in self.dl_valid]\n",
    "        return round(torch.stack(accs).mean().item(),4)\n",
    "\n",
    "    def fit(self, epochs):\n",
    "        for i in range(epochs):\n",
    "            self.train_epoch()\n",
    "            print(self.validate_epoch(),end=' ')"
   ]
  },
  {
   "cell_type": "code",
   "execution_count": null,
   "metadata": {},
   "outputs": [],
   "source": [
    "simple_net = nn.Sequential(\n",
    "    nn.Linear(28*28,30),\n",
    "    nn.ReLU(),\n",
    "    nn.Linear(30,1),\n",
    "    nn.Sigmoid()\n",
    ")"
   ]
  },
  {
   "cell_type": "code",
   "execution_count": null,
   "metadata": {},
   "outputs": [],
   "source": [
    "learner = Lrner(dls, simple_net, SGD, mnist_loss, batch_accuracy1)\n",
    "learner.fit(100)"
   ]
  }
 ],
 "metadata": {
  "accelerator": "GPU",
  "colab": {
   "collapsed_sections": [
    "E63yDcwgRNvt",
    "i2xElbHNzM8a",
    "afiHAQ6CE7f6",
    "K1q788NLE_VG"
   ],
   "include_colab_link": true,
   "name": "04_mnist_basics.ipynb",
   "provenance": [],
   "toc_visible": true
  },
  "jupytext": {
   "split_at_heading": true
  },
  "kernelspec": {
   "display_name": "Python 3 (ipykernel)",
   "language": "python",
   "name": "python3"
  },
  "language_info": {
   "codemirror_mode": {
    "name": "ipython",
    "version": 3
   },
   "file_extension": ".py",
   "mimetype": "text/x-python",
   "name": "python",
   "nbconvert_exporter": "python",
   "pygments_lexer": "ipython3",
   "version": "3.7.13"
  }
 },
 "nbformat": 4,
 "nbformat_minor": 4
}
